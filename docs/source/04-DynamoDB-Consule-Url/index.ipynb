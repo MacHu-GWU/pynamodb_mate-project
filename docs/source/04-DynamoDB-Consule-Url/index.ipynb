{
 "cells": [
  {
   "cell_type": "markdown",
   "metadata": {
    "collapsed": false,
    "jupyter": {
     "outputs_hidden": false
    },
    "pycharm": {
     "name": "#%% md\n"
    }
   },
   "source": [
    "# AWS DynamoDB Console Url\n",
    "\n",
    "This feature can print the AWS DynamoDB console url for the table, items. You can use this in you logging to quickly jump to the console to debug.\n"
   ]
  },
  {
   "cell_type": "code",
   "execution_count": 1,
   "metadata": {
    "ExecuteTime": {
     "end_time": "2024-05-22T20:12:23.493151Z",
     "start_time": "2024-05-22T20:12:23.347291Z"
    },
    "collapsed": false,
    "jupyter": {
     "outputs_hidden": false
    },
    "pycharm": {
     "name": "#%%\n"
    }
   },
   "outputs": [
    {
     "data": {
      "text/html": [
       "<pre style=\"white-space:pre;overflow-x:auto;line-height:normal;font-family:Menlo,'DejaVu Sans Mono',consolas,'Courier New',monospace\">table overview: \n",
       "<span style=\"color: #0000ff; text-decoration-color: #0000ff; text-decoration: underline\">https://us-east-1.console.aws.amazon.com/dynamodbv2/home?region=us-east-1#table?initialTagKey=&amp;name=pynamodb-mate-e</span>\n",
       "<span style=\"color: #0000ff; text-decoration-color: #0000ff; text-decoration: underline\">xample-console-model1&amp;tab=overview</span>\n",
       "</pre>\n"
      ],
      "text/plain": [
       "table overview: \n",
       "\u001b[4;94mhttps://us-east-1.console.aws.amazon.com/dynamodbv2/home?\u001b[0m\u001b[4;94mregion\u001b[0m\u001b[4;94m=\u001b[0m\u001b[4;94mus\u001b[0m\u001b[4;94m-east-1#table?\u001b[0m\u001b[4;94minitialTagKey\u001b[0m\u001b[4;94m=&\u001b[0m\u001b[4;94mname\u001b[0m\u001b[4;94m=\u001b[0m\u001b[4;94mpynamodb\u001b[0m\u001b[4;94m-mate-e\u001b[0m\n",
       "\u001b[4;94mxample-console-model1&\u001b[0m\u001b[4;94mtab\u001b[0m\u001b[4;94m=\u001b[0m\u001b[4;94moverview\u001b[0m\n"
      ]
     },
     "metadata": {},
     "output_type": "display_data"
    },
    {
     "data": {
      "text/html": [
       "<pre style=\"white-space:pre;overflow-x:auto;line-height:normal;font-family:Menlo,'DejaVu Sans Mono',consolas,'Courier New',monospace\">view items in table: \n",
       "<span style=\"color: #0000ff; text-decoration-color: #0000ff; text-decoration: underline\">https://us-east-1.console.aws.amazon.com/dynamodbv2/home?region=us-east-1#item-explorer?initialTagKey=&amp;maximize=tru</span>\n",
       "<span style=\"color: #0000ff; text-decoration-color: #0000ff; text-decoration: underline\">e&amp;table=pynamodb-mate-example-console-model1</span>\n",
       "</pre>\n"
      ],
      "text/plain": [
       "view items in table: \n",
       "\u001b[4;94mhttps://us-east-1.console.aws.amazon.com/dynamodbv2/home?\u001b[0m\u001b[4;94mregion\u001b[0m\u001b[4;94m=\u001b[0m\u001b[4;94mus\u001b[0m\u001b[4;94m-east-1#item-explorer?\u001b[0m\u001b[4;94minitialTagKey\u001b[0m\u001b[4;94m=&\u001b[0m\u001b[4;94mmaximize\u001b[0m\u001b[4;94m=\u001b[0m\u001b[4;94mtru\u001b[0m\n",
       "\u001b[4;94me\u001b[0m\u001b[4;94m&\u001b[0m\u001b[4;94mtable\u001b[0m\u001b[4;94m=\u001b[0m\u001b[4;94mpynamodb\u001b[0m\u001b[4;94m-mate-example-console-model1\u001b[0m\n"
      ]
     },
     "metadata": {},
     "output_type": "display_data"
    },
    {
     "data": {
      "text/html": [
       "<pre style=\"white-space:pre;overflow-x:auto;line-height:normal;font-family:Menlo,'DejaVu Sans Mono',consolas,'Courier New',monospace\">view item details: \n",
       "<span style=\"color: #0000ff; text-decoration-color: #0000ff; text-decoration: underline\">https://us-east-1.console.aws.amazon.com/dynamodbv2/home?region=us-east-1#edit-item?table=pynamodb-mate-example-con</span>\n",
       "<span style=\"color: #0000ff; text-decoration-color: #0000ff; text-decoration: underline\">sole-model1&amp;itemMode=2&amp;pk=a&amp;sk&amp;ref=%23item-explorer%3Ftable%3Dpynamodb-mate-example-console-model1&amp;route=ROUTE_ITEM</span>\n",
       "<span style=\"color: #0000ff; text-decoration-color: #0000ff; text-decoration: underline\">_EXPLORER</span>\n",
       "</pre>\n"
      ],
      "text/plain": [
       "view item details: \n",
       "\u001b[4;94mhttps://us-east-1.console.aws.amazon.com/dynamodbv2/home?\u001b[0m\u001b[4;94mregion\u001b[0m\u001b[4;94m=\u001b[0m\u001b[4;94mus\u001b[0m\u001b[4;94m-east-1#edit-item?\u001b[0m\u001b[4;94mtable\u001b[0m\u001b[4;94m=\u001b[0m\u001b[4;94mpynamodb\u001b[0m\u001b[4;94m-mate-example-con\u001b[0m\n",
       "\u001b[4;94msole-model1&\u001b[0m\u001b[4;94mitemMode\u001b[0m\u001b[4;94m=\u001b[0m\u001b[4;94m2\u001b[0m\u001b[4;94m&\u001b[0m\u001b[4;94mpk\u001b[0m\u001b[4;94m=\u001b[0m\u001b[4;94ma\u001b[0m\u001b[4;94m&sk&\u001b[0m\u001b[4;94mref\u001b[0m\u001b[4;94m=%23item-explorer%3Ftable%3Dpynamodb-mate-example-console-model1&\u001b[0m\u001b[4;94mroute\u001b[0m\u001b[4;94m=\u001b[0m\u001b[4;94mROUTE_ITEM\u001b[0m\n",
       "\u001b[4;94m_EXPLORER\u001b[0m\n"
      ]
     },
     "metadata": {},
     "output_type": "display_data"
    }
   ],
   "source": [
    "# This example is about a table doesn't have range key\n",
    "from rich import print as rprint\n",
    "from datetime import datetime, timezone\n",
    "import pynamodb_mate.api as pm\n",
    "\n",
    "class Model1(pm.Model):\n",
    "    class Meta:\n",
    "        table_name = f\"pynamodb-mate-example-console-model1\"\n",
    "        region = \"us-east-1\"\n",
    "        billing_mode = pm.constants.PAY_PER_REQUEST_BILLING_MODE\n",
    "\n",
    "    hash_key = pm.UnicodeAttribute(hash_key=True)\n",
    "    data = pm.JSONAttribute(default=lambda: dict())\n",
    "\n",
    "model1 = Model1(hash_key=\"a\")\n",
    "\n",
    "rprint(f\"table overview: {Model1.get_table_overview_console_url()}\")\n",
    "rprint(f\"view items in table: {Model1.get_table_items_console_url()}\")\n",
    "rprint(f\"view item details: {model1.item_detail_console_url}\")"
   ]
  },
  {
   "cell_type": "code",
   "execution_count": 2,
   "metadata": {
    "ExecuteTime": {
     "end_time": "2024-05-22T20:12:53.627351Z",
     "start_time": "2024-05-22T20:12:53.622667Z"
    },
    "collapsed": false,
    "jupyter": {
     "outputs_hidden": false
    },
    "pycharm": {
     "name": "#%%\n"
    }
   },
   "outputs": [
    {
     "data": {
      "text/html": [
       "<pre style=\"white-space:pre;overflow-x:auto;line-height:normal;font-family:Menlo,'DejaVu Sans Mono',consolas,'Courier New',monospace\">table overview: \n",
       "<span style=\"color: #0000ff; text-decoration-color: #0000ff; text-decoration: underline\">https://us-east-1.console.aws.amazon.com/dynamodbv2/home?region=us-east-1#table?initialTagKey=&amp;name=pynamodb-mate-e</span>\n",
       "<span style=\"color: #0000ff; text-decoration-color: #0000ff; text-decoration: underline\">xample-console-model2&amp;tab=overview</span>\n",
       "</pre>\n"
      ],
      "text/plain": [
       "table overview: \n",
       "\u001b[4;94mhttps://us-east-1.console.aws.amazon.com/dynamodbv2/home?\u001b[0m\u001b[4;94mregion\u001b[0m\u001b[4;94m=\u001b[0m\u001b[4;94mus\u001b[0m\u001b[4;94m-east-1#table?\u001b[0m\u001b[4;94minitialTagKey\u001b[0m\u001b[4;94m=&\u001b[0m\u001b[4;94mname\u001b[0m\u001b[4;94m=\u001b[0m\u001b[4;94mpynamodb\u001b[0m\u001b[4;94m-mate-e\u001b[0m\n",
       "\u001b[4;94mxample-console-model2&\u001b[0m\u001b[4;94mtab\u001b[0m\u001b[4;94m=\u001b[0m\u001b[4;94moverview\u001b[0m\n"
      ]
     },
     "metadata": {},
     "output_type": "display_data"
    },
    {
     "data": {
      "text/html": [
       "<pre style=\"white-space:pre;overflow-x:auto;line-height:normal;font-family:Menlo,'DejaVu Sans Mono',consolas,'Courier New',monospace\">view items in table: \n",
       "<span style=\"color: #0000ff; text-decoration-color: #0000ff; text-decoration: underline\">https://us-east-1.console.aws.amazon.com/dynamodbv2/home?region=us-east-1#item-explorer?initialTagKey=&amp;maximize=tru</span>\n",
       "<span style=\"color: #0000ff; text-decoration-color: #0000ff; text-decoration: underline\">e&amp;table=pynamodb-mate-example-console-model2</span>\n",
       "</pre>\n"
      ],
      "text/plain": [
       "view items in table: \n",
       "\u001b[4;94mhttps://us-east-1.console.aws.amazon.com/dynamodbv2/home?\u001b[0m\u001b[4;94mregion\u001b[0m\u001b[4;94m=\u001b[0m\u001b[4;94mus\u001b[0m\u001b[4;94m-east-1#item-explorer?\u001b[0m\u001b[4;94minitialTagKey\u001b[0m\u001b[4;94m=&\u001b[0m\u001b[4;94mmaximize\u001b[0m\u001b[4;94m=\u001b[0m\u001b[4;94mtru\u001b[0m\n",
       "\u001b[4;94me\u001b[0m\u001b[4;94m&\u001b[0m\u001b[4;94mtable\u001b[0m\u001b[4;94m=\u001b[0m\u001b[4;94mpynamodb\u001b[0m\u001b[4;94m-mate-example-console-model2\u001b[0m\n"
      ]
     },
     "metadata": {},
     "output_type": "display_data"
    },
    {
     "data": {
      "text/html": [
       "<pre style=\"white-space:pre;overflow-x:auto;line-height:normal;font-family:Menlo,'DejaVu Sans Mono',consolas,'Courier New',monospace\">view item details: \n",
       "<span style=\"color: #0000ff; text-decoration-color: #0000ff; text-decoration: underline\">https://us-east-1.console.aws.amazon.com/dynamodbv2/home?region=us-east-1#edit-item?table=pynamodb-mate-example-con</span>\n",
       "<span style=\"color: #0000ff; text-decoration-color: #0000ff; text-decoration: underline\">sole-model2&amp;itemMode=2&amp;pk=a&amp;sk=2000-01-01T00:00:00.000000+0000&amp;ref=%23item-explorer%3Ftable%3Dpynamodb-mate-example</span>\n",
       "<span style=\"color: #0000ff; text-decoration-color: #0000ff; text-decoration: underline\">-console-model2&amp;route=ROUTE_ITEM_EXPLORER</span>\n",
       "</pre>\n"
      ],
      "text/plain": [
       "view item details: \n",
       "\u001b[4;94mhttps://us-east-1.console.aws.amazon.com/dynamodbv2/home?\u001b[0m\u001b[4;94mregion\u001b[0m\u001b[4;94m=\u001b[0m\u001b[4;94mus\u001b[0m\u001b[4;94m-east-1#edit-item?\u001b[0m\u001b[4;94mtable\u001b[0m\u001b[4;94m=\u001b[0m\u001b[4;94mpynamodb\u001b[0m\u001b[4;94m-mate-example-con\u001b[0m\n",
       "\u001b[4;94msole-model2&\u001b[0m\u001b[4;94mitemMode\u001b[0m\u001b[4;94m=\u001b[0m\u001b[4;94m2\u001b[0m\u001b[4;94m&\u001b[0m\u001b[4;94mpk\u001b[0m\u001b[4;94m=\u001b[0m\u001b[4;94ma\u001b[0m\u001b[4;94m&\u001b[0m\u001b[4;94msk\u001b[0m\u001b[4;94m=\u001b[0m\u001b[4;94m2000\u001b[0m\u001b[4;94m-01-01T00:00:00.000000+0000&\u001b[0m\u001b[4;94mref\u001b[0m\u001b[4;94m=%23item-explorer%3Ftable%3Dpynamodb-mate-example\u001b[0m\n",
       "\u001b[4;94m-console-model2&\u001b[0m\u001b[4;94mroute\u001b[0m\u001b[4;94m=\u001b[0m\u001b[4;94mROUTE_ITEM_EXPLORER\u001b[0m\n"
      ]
     },
     "metadata": {},
     "output_type": "display_data"
    }
   ],
   "source": [
    "# This example is about a table has both hash key and range key\n",
    "class Model2(pm.Model):\n",
    "    class Meta:\n",
    "        table_name = f\"pynamodb-mate-example-console-model2\"\n",
    "        region = \"us-east-1\"\n",
    "        billing_mode = pm.constants.PAY_PER_REQUEST_BILLING_MODE\n",
    "\n",
    "    hash_key = pm.UnicodeAttribute(hash_key=True)\n",
    "    range_key = pm.UTCDateTimeAttribute(range_key=True)\n",
    "    data = pm.JSONAttribute(default=lambda: dict())\n",
    "\n",
    "model2 = Model2(\n",
    "    hash_key=\"a\",\n",
    "    range_key=datetime(2000, 1, 1, tzinfo=timezone.utc),\n",
    ")\n",
    "\n",
    "rprint(f\"table overview: {Model2.get_table_overview_console_url()}\")\n",
    "rprint(f\"view items in table: {Model2.get_table_items_console_url()}\")\n",
    "rprint(f\"view item details: {model2.item_detail_console_url}\")"
   ]
  },
  {
   "cell_type": "code",
   "execution_count": null,
   "metadata": {
    "collapsed": false,
    "jupyter": {
     "outputs_hidden": false
    },
    "pycharm": {
     "name": "#%%\n"
    }
   },
   "outputs": [],
   "source": []
  }
 ],
 "metadata": {
  "kernelspec": {
   "display_name": "Python 3 (ipykernel)",
   "language": "python",
   "name": "python3"
  },
  "language_info": {
   "codemirror_mode": {
    "name": "ipython",
    "version": 3
   },
   "file_extension": ".py",
   "mimetype": "text/x-python",
   "name": "python",
   "nbconvert_exporter": "python",
   "pygments_lexer": "ipython3",
   "version": "3.8.13"
  }
 },
 "nbformat": 4,
 "nbformat_minor": 4
}

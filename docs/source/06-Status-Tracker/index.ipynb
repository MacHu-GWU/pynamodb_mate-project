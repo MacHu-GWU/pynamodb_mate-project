{
 "cells": [
  {
   "cell_type": "markdown",
   "metadata": {
    "collapsed": false,
    "pycharm": {
     "name": "#%% md\n"
    }
   },
   "source": [
    "# Enable status tracking for business critical application using Amazon DynamoDB\n",
    "\n",
    "In this example, we introduce a pattern for tracking the status of business critical tasks using Amazon DynamoDB as the backend. This feature gives you the ability to track status of each task, and error-handling, retry, concurrency control out-of-the-box.\n",
    "\n",
    "When managing a large number of business-critical tasks, it is crucial to monitor and identify which tasks have been successful, which have failed, and which are still in progress. If the business logic is a pipeline consisting of a sequence of tasks, it is important to keep track of its current status and have the ability to recover from any failed task. We also have seen some advanced requirements from AWS customers that includes:\n",
    "\n",
    "- Each task should be consumed once and exactly once.\n",
    "- Each task should be handled by only one worker, you want a concurrency lock mechanism to avoid double consumption.\n",
    "- For those succeeded tasks, store additional information such as the output, statistics, metadata of the task and log the success time.\n",
    "- For those failed tasks, you want to log the detailed error message for debugging.\n",
    "- You want to get all of the failed tasks by one simple query and rerun with the updated business logic.\n",
    "- Task might be impossible to complete. To avoid falling into an endless retry loop, you want to ignore the tasks if they fail too many times.\n",
    "- Run custom query based on task status for analytics purpose.\n",
    "\n",
    "With [pynamodb_mate](https://github.com/MacHu-GWU/pynamodb_mate-project) Python library, you can enable this advanced feature without refactoring your existing application code, and you can use the \"elegant\" context manager to wrap around your business logic code and enjoy all the features above.\n",
    "\n",
    "## A Real-World Example: Tracking Document Processing Tasks\n",
    "\n",
    "Let's take an example and see how we use ``pynamodb_mate`` for status tracking.\n",
    "\n",
    "Let's say we have to process thousands of PDF documents. For each document, we need to extract text and key-value data from it, and then we want to use LLM (Large Language Model) to answer some business questions based on the data we extracted. In this example, the task has two steps: \"extract data\" and \"answer business question\". We want to ensure that all the documents have been processed properly. We may distribute thousands of PDF documents to a swarm of workers and process them in parallel, but we only want one document to be worked on by one worker at a time. Since this job is complicated and the worker may fail, we want a retry mechanism to ensure that all the jobs have been processed eventually. However, it is possible that the input document is malformed, making it impossible to finish. We need to avoid deadlock and infinite retry.\n",
    "\n",
    "Given this example use case, I would like to define the following concepts:\n",
    "\n",
    "- **Task and Task Id**: Each task that we want to track the status of. Each task has a unique ``task_id``. In this use case, the task ID is the document ID.\n",
    "- **Status Code**: The status of each task. The lifecycle of each task goes through the following process: ``pending`` -> ``in_progress`` -> ``failed/succeeded/ignored``. ``pending`` means the task is ready to be executed at any time, ``in_progress`` means the task is being executed, ``failed`` means the execution failed, ``succeeded`` means the execution was successful, and ``ignored`` means the task was ignored due to too many failed retries. ``pynamodb_mate`` doesn't allow adding any other status codes in this process. This is because the lifecycle corresponds to an idempotent operation. If you have other intermediate status operations in ``in_progress``, let's assume there are a total of 2 steps. In this case, you should split these 2 steps into two lifecycles. The status code for ``succeeded`` in the first step should be equal to the status code for ``pending`` in the second step. The reason for doing this is that once you have other intermediate status operations, your idempotency cannot be guaranteed, so you must split them into two steps. In this use case, the status codes for Step 1 are 10 for pending, 20 for in progress, 30 for failed, 40 for succeeded, and 50 for ignored (failed too many times, ignore it to avoid deadlock). For Step 2, 40 is for pending (Step 1 is succeeded), 70 is in progress, 80 is failed, 90 is succeeded, and 100 is ignored.\n",
    "- **Use Case and Use Case Id**: In DynamoDB, we often use a single table to do many things that would require multiple tables in relational databases. In this article, we will put Tasks of completely different types in the same table. These different Tasks may have the same status codes, for example, we use 0 to represent \"pending\". Therefore, we need a field to separate these Tasks, and this field is ``use_case_id``. We will ensure that all ``task_id`` under a ``use_case_id`` are unique. In this example, the use case ID is \"pdf_processing\". We don't have other use cases in this example. But by design, pynamodb_mate is able to manage many use cases in a single DynamoDB table.\n",
    "- **Execution Context (ctx)**: In our program design, we use Python's Context Manager to start a task's lifecycle and automatically update the status in the database based on the task's execution result (success or failure). This Execution Context is a container for all the contextual data in the lifecycle of executing a task, including any user data you need to save during the processing of this task.\n",
    "- **Execution**: The process of attempting to execute a task, which is the \"lifecycle\" of the task that has been mentioned many times above.\n",
    "\n",
    "Now, let's start writing some code to implement this use case.p"
   ]
  },
  {
   "cell_type": "markdown",
   "metadata": {
    "collapsed": false,
    "pycharm": {
     "name": "#%% md\n"
    }
   },
   "source": [
    "## Import pynamodb_mate\n",
    "\n",
    "All public APIs of ``pynamodb_mate`` are under the ``pynamodb_mate.api`` module. We will import this module first."
   ]
  },
  {
   "cell_type": "code",
   "execution_count": 1,
   "metadata": {
    "ExecuteTime": {
     "end_time": "2024-05-23T04:37:56.502866Z",
     "start_time": "2024-05-23T04:37:56.374391Z"
    },
    "collapsed": false
   },
   "outputs": [
    {
     "name": "stdout",
     "output_type": "stream",
     "text": [
      "pm.__version__ = '6.0.0.1'\n"
     ]
    }
   ],
   "source": [
    "import pynamodb_mate.api as pm\n",
    "\n",
    "print(f\"{pm.__version__ = }\")\n",
    "\n",
    "# make the status_tracker submodule name space shorter\n",
    "st = pm.patterns.status_tracker"
   ]
  },
  {
   "cell_type": "markdown",
   "metadata": {
    "collapsed": false
   },
   "source": [
    "## Define Status Code Enum\n",
    "\n",
    "First, we define some status code using the enum Python standard library. It improves the code readability and avoids hard coding meaningless integers everywhere in the code base.\n",
    "\n",
    "The ``pm.patterns.status_tracker.BaseStatusEnum`` base class is a subclass of the standard ``enum.Enum``. It gives your status a human-readable name and a machine-readable integer. Usually, we only transition from a smaller integer to a bigger integer. However, this is not enforced by the library. You can define your own status code as long as you follow the idempotent operation principle."
   ]
  },
  {
   "cell_type": "code",
   "execution_count": 2,
   "metadata": {
    "ExecuteTime": {
     "end_time": "2024-05-23T04:37:57.306385Z",
     "start_time": "2024-05-23T04:37:57.300617Z"
    },
    "collapsed": false
   },
   "outputs": [],
   "source": [
    "# usually the closer to success, the bigger the integer is    \n",
    "class Step1StatusEnum(st.BaseStatusEnum):\n",
    "    pending = 10\n",
    "    in_progress = 20\n",
    "    failed = 30\n",
    "    succeeded = 40\n",
    "    ignored = 50\n",
    "\n",
    "\n",
    "class Step2StatusEnum(st.BaseStatusEnum):\n",
    "    pending = 40\n",
    "    in_progress = 70\n",
    "    failed = 80\n",
    "    succeeded = 90\n",
    "    ignored = 100"
   ]
  },
  {
   "cell_type": "markdown",
   "metadata": {
    "collapsed": false
   },
   "source": [
    "Some useful methods are provided by the ``BaseStatusEnum`` class:"
   ]
  },
  {
   "cell_type": "code",
   "execution_count": 3,
   "metadata": {
    "ExecuteTime": {
     "end_time": "2024-05-23T04:37:58.266162Z",
     "start_time": "2024-05-23T04:37:58.258913Z"
    },
    "collapsed": false
   },
   "outputs": [
    {
     "name": "stdout",
     "output_type": "stream",
     "text": [
      "Step1StatusEnum.value_to_name(10) = 'pending'\n",
      "Step1StatusEnum.pending.status_name = 'pending'\n",
      "Step1StatusEnum.pending.values() = [10, 20, 30, 40, 50]\n"
     ]
    }
   ],
   "source": [
    "print(f\"{Step1StatusEnum.value_to_name(10) = }\")\n",
    "print(f\"{Step1StatusEnum.pending.status_name = }\")\n",
    "print(f\"{Step1StatusEnum.pending.values() = }\")"
   ]
  },
  {
   "cell_type": "markdown",
   "metadata": {
    "collapsed": false
   },
   "source": [
    "## Declare Your DynamoDB Status Tracking Table\n",
    "\n",
    "Now, we cand declare a DynamoDB ORM model for the ``Task`` concepts. Since we have two steps in this use case, we need to define two tables. The first table is for Step 1, and the second table is for Step 2. Because they share a lot of things in common, so we could create a base class to avoid code duplication."
   ]
  },
  {
   "cell_type": "code",
   "execution_count": 4,
   "metadata": {
    "ExecuteTime": {
     "end_time": "2024-05-23T04:37:59.180631Z",
     "start_time": "2024-05-23T04:37:59.175028Z"
    },
    "collapsed": false,
    "pycharm": {
     "name": "#%%\n"
    }
   },
   "outputs": [],
   "source": [
    "class Task(st.BaseTask):\n",
    "    class Meta:\n",
    "        table_name = f\"pynamodb-mate-test-status-tracker\"\n",
    "        region = \"us-east-1\"\n",
    "        billing_mode = pm.constants.PAY_PER_REQUEST_BILLING_MODE\n",
    "\n",
    "    status_and_update_time_index = st.StatusAndUpdateTimeIndex()\n",
    "\n",
    "class Step1(Task):\n",
    "    status_and_update_time_index = st.StatusAndUpdateTimeIndex()\n",
    "\n",
    "    config = st.TrackerConfig.make(\n",
    "        use_case_id=\"test\",\n",
    "        pending_status=Step1StatusEnum.pending.value,\n",
    "        in_progress_status=Step1StatusEnum.in_progress.value,\n",
    "        failed_status=Step1StatusEnum.failed.value,\n",
    "        succeeded_status=Step1StatusEnum.succeeded.value,\n",
    "        ignored_status=Step1StatusEnum.ignored.value,\n",
    "        n_pending_shard=5,\n",
    "        n_in_progress_shard=5,\n",
    "        n_failed_shard=5,\n",
    "        n_succeeded_shard=10,\n",
    "        n_ignored_shard=5,\n",
    "        status_zero_pad=3,\n",
    "        status_shard_zero_pad=3,\n",
    "        max_retry=3,\n",
    "        lock_expire_seconds=60,\n",
    "    )\n",
    "\n",
    "\n",
    "class Step2(Task):\n",
    "    status_and_update_time_index = st.StatusAndUpdateTimeIndex()\n",
    "\n",
    "    config = st.TrackerConfig.make(\n",
    "        use_case_id=\"test\",\n",
    "        pending_status=Step2StatusEnum.pending.value,\n",
    "        in_progress_status=Step2StatusEnum.in_progress.value,\n",
    "        failed_status=Step2StatusEnum.failed.value,\n",
    "        succeeded_status=Step2StatusEnum.succeeded.value,\n",
    "        ignored_status=Step2StatusEnum.ignored.value,\n",
    "        n_pending_shard=5,\n",
    "        n_in_progress_shard=5,\n",
    "        n_failed_shard=5,\n",
    "        n_succeeded_shard=10,\n",
    "        n_ignored_shard=5,\n",
    "        status_zero_pad=3,\n",
    "        status_shard_zero_pad=3,\n",
    "        max_retry=3,\n",
    "        lock_expire_seconds=60,\n",
    "    )"
   ]
  },
  {
   "cell_type": "code",
   "execution_count": 6,
   "metadata": {
    "ExecuteTime": {
     "end_time": "2024-05-23T04:38:33.443470Z",
     "start_time": "2024-05-23T04:38:16.926369Z"
    },
    "collapsed": false,
    "pycharm": {
     "name": "#%%\n"
    }
   },
   "outputs": [
    {
     "data": {
      "text/plain": [
       "0"
      ]
     },
     "execution_count": 6,
     "metadata": {},
     "output_type": "execute_result"
    }
   ],
   "source": [
    "# Create the table if it doesn't exist\n",
    "Task.create_table(wait=True)\n",
    "Task.delete_all() # clean up the table to ensure a fresh start"
   ]
  },
  {
   "cell_type": "markdown",
   "metadata": {
    "collapsed": false,
    "pycharm": {
     "name": "#%% md\n"
    }
   },
   "source": [
    "## Initialize a Task\n",
    "\n",
    "At very begin, you should create a new task with pending status and save it to DynamoDB. The ``Task.make_and_save(...)`` constructor method can do this job. If you only want to create an instance without saving it to DynamoDB, you can use the ``Task.make(...)`` method."
   ]
  },
  {
   "cell_type": "code",
   "execution_count": 7,
   "metadata": {
    "ExecuteTime": {
     "end_time": "2024-05-23T05:11:04.771615Z",
     "start_time": "2024-05-23T05:11:04.741106Z"
    },
    "collapsed": false,
    "pycharm": {
     "name": "#%%\n"
    }
   },
   "outputs": [
    {
     "data": {
      "text/html": [
       "<pre style=\"white-space:pre;overflow-x:auto;line-height:normal;font-family:Menlo,'DejaVu Sans Mono',consolas,'Courier New',monospace\"><span style=\"font-weight: bold\">{</span>\n",
       "    <span style=\"color: #008000; text-decoration-color: #008000\">'create_time'</span>: <span style=\"color: #800080; text-decoration-color: #800080; font-weight: bold\">datetime.datetime</span><span style=\"font-weight: bold\">(</span><span style=\"color: #008080; text-decoration-color: #008080; font-weight: bold\">2024</span>, <span style=\"color: #008080; text-decoration-color: #008080; font-weight: bold\">5</span>, <span style=\"color: #008080; text-decoration-color: #008080; font-weight: bold\">23</span>, <span style=\"color: #008080; text-decoration-color: #008080; font-weight: bold\">6</span>, <span style=\"color: #008080; text-decoration-color: #008080; font-weight: bold\">7</span>, <span style=\"color: #008080; text-decoration-color: #008080; font-weight: bold\">26</span>, <span style=\"color: #008080; text-decoration-color: #008080; font-weight: bold\">444861</span>, <span style=\"color: #808000; text-decoration-color: #808000\">tzinfo</span>=<span style=\"color: #800080; text-decoration-color: #800080\">datetime</span>.timezone.utc<span style=\"font-weight: bold\">)</span>,\n",
       "    <span style=\"color: #008000; text-decoration-color: #008000\">'data'</span>: <span style=\"font-weight: bold\">{</span><span style=\"color: #008000; text-decoration-color: #008000\">'version'</span>: <span style=\"color: #008080; text-decoration-color: #008080; font-weight: bold\">1</span><span style=\"font-weight: bold\">}</span>,\n",
       "    <span style=\"color: #008000; text-decoration-color: #008000\">'errors'</span>: <span style=\"font-weight: bold\">{</span><span style=\"color: #008000; text-decoration-color: #008000\">'history'</span>: <span style=\"font-weight: bold\">[]}</span>,\n",
       "    <span style=\"color: #008000; text-decoration-color: #008000\">'lock'</span>: <span style=\"color: #008000; text-decoration-color: #008000\">'__not_locked__'</span>,\n",
       "    <span style=\"color: #008000; text-decoration-color: #008000\">'lock_time'</span>: <span style=\"color: #800080; text-decoration-color: #800080; font-weight: bold\">datetime.datetime</span><span style=\"font-weight: bold\">(</span><span style=\"color: #008080; text-decoration-color: #008080; font-weight: bold\">1970</span>, <span style=\"color: #008080; text-decoration-color: #008080; font-weight: bold\">1</span>, <span style=\"color: #008080; text-decoration-color: #008080; font-weight: bold\">1</span>, <span style=\"color: #008080; text-decoration-color: #008080; font-weight: bold\">0</span>, <span style=\"color: #008080; text-decoration-color: #008080; font-weight: bold\">0</span>, <span style=\"color: #808000; text-decoration-color: #808000\">tzinfo</span>=<span style=\"color: #800080; text-decoration-color: #800080\">datetime</span>.timezone.utc<span style=\"font-weight: bold\">)</span>,\n",
       "    <span style=\"color: #008000; text-decoration-color: #008000\">'retry'</span>: <span style=\"color: #008080; text-decoration-color: #008080; font-weight: bold\">0</span>,\n",
       "    <span style=\"color: #008000; text-decoration-color: #008000\">'update_time'</span>: <span style=\"color: #800080; text-decoration-color: #800080; font-weight: bold\">datetime.datetime</span><span style=\"font-weight: bold\">(</span><span style=\"color: #008080; text-decoration-color: #008080; font-weight: bold\">2024</span>, <span style=\"color: #008080; text-decoration-color: #008080; font-weight: bold\">5</span>, <span style=\"color: #008080; text-decoration-color: #008080; font-weight: bold\">23</span>, <span style=\"color: #008080; text-decoration-color: #008080; font-weight: bold\">6</span>, <span style=\"color: #008080; text-decoration-color: #008080; font-weight: bold\">7</span>, <span style=\"color: #008080; text-decoration-color: #008080; font-weight: bold\">26</span>, <span style=\"color: #008080; text-decoration-color: #008080; font-weight: bold\">444903</span>, <span style=\"color: #808000; text-decoration-color: #808000\">tzinfo</span>=<span style=\"color: #800080; text-decoration-color: #800080\">datetime</span>.timezone.utc<span style=\"font-weight: bold\">)</span>,\n",
       "    <span style=\"color: #008000; text-decoration-color: #008000\">'key'</span>: <span style=\"color: #008000; text-decoration-color: #008000\">'test____t-1'</span>,\n",
       "    <span style=\"color: #008000; text-decoration-color: #008000\">'value'</span>: <span style=\"color: #008000; text-decoration-color: #008000\">'test____010____002'</span>,\n",
       "    <span style=\"color: #008000; text-decoration-color: #008000\">'status'</span>: <span style=\"color: #008080; text-decoration-color: #008080; font-weight: bold\">10</span>\n",
       "<span style=\"font-weight: bold\">}</span>\n",
       "</pre>\n"
      ],
      "text/plain": [
       "\u001B[1m{\u001B[0m\n",
       "    \u001B[32m'create_time'\u001B[0m: \u001B[1;35mdatetime.datetime\u001B[0m\u001B[1m(\u001B[0m\u001B[1;36m2024\u001B[0m, \u001B[1;36m5\u001B[0m, \u001B[1;36m23\u001B[0m, \u001B[1;36m6\u001B[0m, \u001B[1;36m7\u001B[0m, \u001B[1;36m26\u001B[0m, \u001B[1;36m444861\u001B[0m, \u001B[33mtzinfo\u001B[0m=\u001B[35mdatetime\u001B[0m.timezone.utc\u001B[1m)\u001B[0m,\n",
       "    \u001B[32m'data'\u001B[0m: \u001B[1m{\u001B[0m\u001B[32m'version'\u001B[0m: \u001B[1;36m1\u001B[0m\u001B[1m}\u001B[0m,\n",
       "    \u001B[32m'errors'\u001B[0m: \u001B[1m{\u001B[0m\u001B[32m'history'\u001B[0m: \u001B[1m[\u001B[0m\u001B[1m]\u001B[0m\u001B[1m}\u001B[0m,\n",
       "    \u001B[32m'lock'\u001B[0m: \u001B[32m'__not_locked__'\u001B[0m,\n",
       "    \u001B[32m'lock_time'\u001B[0m: \u001B[1;35mdatetime.datetime\u001B[0m\u001B[1m(\u001B[0m\u001B[1;36m1970\u001B[0m, \u001B[1;36m1\u001B[0m, \u001B[1;36m1\u001B[0m, \u001B[1;36m0\u001B[0m, \u001B[1;36m0\u001B[0m, \u001B[33mtzinfo\u001B[0m=\u001B[35mdatetime\u001B[0m.timezone.utc\u001B[1m)\u001B[0m,\n",
       "    \u001B[32m'retry'\u001B[0m: \u001B[1;36m0\u001B[0m,\n",
       "    \u001B[32m'update_time'\u001B[0m: \u001B[1;35mdatetime.datetime\u001B[0m\u001B[1m(\u001B[0m\u001B[1;36m2024\u001B[0m, \u001B[1;36m5\u001B[0m, \u001B[1;36m23\u001B[0m, \u001B[1;36m6\u001B[0m, \u001B[1;36m7\u001B[0m, \u001B[1;36m26\u001B[0m, \u001B[1;36m444903\u001B[0m, \u001B[33mtzinfo\u001B[0m=\u001B[35mdatetime\u001B[0m.timezone.utc\u001B[1m)\u001B[0m,\n",
       "    \u001B[32m'key'\u001B[0m: \u001B[32m'test____t-1'\u001B[0m,\n",
       "    \u001B[32m'value'\u001B[0m: \u001B[32m'test____010____002'\u001B[0m,\n",
       "    \u001B[32m'status'\u001B[0m: \u001B[1;36m10\u001B[0m\n",
       "\u001B[1m}\u001B[0m\n"
      ]
     },
     "metadata": {},
     "output_type": "display_data"
    },
    {
     "name": "stdout",
     "output_type": "stream",
     "text": [
      "step1.status_name = 'pending'\n",
      "step1.is_locked() = False\n"
     ]
    }
   ],
   "source": [
    "from rich import print as rprint\n",
    "\n",
    "task_id = \"t-1\"\n",
    "\n",
    "# create a new task\n",
    "step1 = Step1.make_and_save(task_id=task_id, data={\"version\": 1})\n",
    "\n",
    "rprint(step1.to_dict())\n",
    "print(f\"{step1.status_name = }\")\n",
    "print(f\"{step1.is_locked() = }\")"
   ]
  },
  {
   "cell_type": "markdown",
   "metadata": {
    "collapsed": false,
    "pycharm": {
     "name": "#%% md\n"
    }
   },
   "source": [
    "## Start an Execution to finish Step 1\n",
    "\n",
    "The ``Task.start(...)`` method is the **CORE** of this best practice. It is a context manager where you can put your task execution logic under it. It does the following:\n",
    "\n",
    "1. It will set the status to the ``in_progress_status`` and set the lock. If the task is already locked, it will raise a ``TaskLockedError``.\n",
    "2. If the task succeeded, it will set the status to the ``succeeded_status``.\n",
    "3. If the task fail, it will set the status to the ``failed_status`` and log the error to ``.errors`` attribute, and add retry count.\n",
    "4. If the task failed N times in a row, it will set the status to the ``ignored_status``.\n",
    "\n",
    "The code below is a \"happy path\". You can use ``with Step1.start(task_id=..., detailed_error(optional)=True | False, debug(optional)=True|False) as execution_context:`` to start the lifecycle of the task execution. The context manager will return a ``ExecutionContext`` object, which is a container for all the contextual data in the lifecycle of executing a task, including the instance of the DynamoDB ORM model (DynamoDB item), and allow you to use ``ExecutionContext.set_data()`` method to update any user data you need to save at the end of this task. \n"
   ]
  },
  {
   "cell_type": "code",
   "execution_count": 8,
   "metadata": {
    "ExecuteTime": {
     "end_time": "2024-05-23T05:11:05.121989Z",
     "start_time": "2024-05-23T05:11:05.071655Z"
    },
    "collapsed": false
   },
   "outputs": [
    {
     "name": "stdout",
     "output_type": "stream",
     "text": [
      "----------------------------------- ▶️ start Task(use_case_id='test', task_id='t-1'))-----------------------------------\n",
      "🔓 set status 'in_progress' and lock the task.\n",
      "exec_ctx.task.status_name = 'in_progress'\n",
      "exec_ctx.task.is_locked() = True\n",
      "do some work ...\n",
      "✅ 🔐 task succeeded, set status 'success' and unlock the task.\n",
      "--------------------- ⏹️ end Task(use_case_id='test', task_id='t-1'), status=40)) (aka 'succeeded')---------------------\n"
     ]
    }
   ],
   "source": [
    "exec_ctx: st.ExecutionContext\n",
    "# by default, it won't print any trace log, you can set debug=True to enable that\n",
    "with Step1.start(task_id, debug=True) as exec_ctx:\n",
    "    print(f\"{exec_ctx.task.status_name = }\") # in progress\n",
    "    print(f\"{exec_ctx.task.is_locked() = }\") # is locked\n",
    "    # --- put your business logic here, start of business logic\n",
    "    print(\"do some work ...\")\n",
    "    # you can use exec_ctx.set_data() method to update the data attribute\n",
    "    # you should not manually update other attributes like\n",
    "    # create_time, update_time, status, etc.\n",
    "    exec_ctx.set_data({\"version\": 1})\n",
    "    # --- end of business logic"
   ]
  },
  {
   "cell_type": "markdown",
   "metadata": {
    "collapsed": false
   },
   "source": [
    "When it's done, you can get the DynamoDB item to verify the status of the task."
   ]
  },
  {
   "cell_type": "code",
   "execution_count": 9,
   "metadata": {
    "ExecuteTime": {
     "end_time": "2024-05-23T05:11:05.377690Z",
     "start_time": "2024-05-23T05:11:05.361840Z"
    },
    "collapsed": false
   },
   "outputs": [
    {
     "name": "stdout",
     "output_type": "stream",
     "text": [
      "step1.status_name = 'succeeded'\n",
      "step1.create_time = datetime.datetime(2024, 5, 23, 6, 7, 26, 444861, tzinfo=datetime.timezone.utc)\n",
      "step1.update_time = datetime.datetime(2024, 5, 23, 6, 7, 50, 917536, tzinfo=datetime.timezone.utc)\n",
      "step1.is_locked() = False\n",
      "step1.retry = 0\n",
      "step1.data = {'version': 1}\n",
      "step1.errors = {'history': []}\n"
     ]
    }
   ],
   "source": [
    "step1 = Step1.get_one_or_none(task_id=task_id)\n",
    "print(f\"{step1.status_name = }\")\n",
    "print(f\"{step1.create_time = }\")\n",
    "print(f\"{step1.update_time = }\")\n",
    "print(f\"{step1.is_locked() = }\") # not locked\n",
    "print(f\"{step1.retry = }\")\n",
    "print(f\"{step1.data = }\")\n",
    "print(f\"{step1.errors = }\") # no error"
   ]
  },
  {
   "cell_type": "markdown",
   "metadata": {
    "collapsed": false
   },
   "source": [
    "## Run Step 1 Again\n",
    "\n",
    "Let's run the Step 1 again. Since it is already succeeded, we should not run it again. Logically, we should execute a task only if the status is pending or failed. If it is already in progress, it means that there's another worker is working on it. If it is ignored, it means that it is failed too many times and we need a human to investigate the root cause. "
   ]
  },
  {
   "cell_type": "code",
   "execution_count": 10,
   "metadata": {
    "ExecuteTime": {
     "end_time": "2024-05-23T05:11:05.836250Z",
     "start_time": "2024-05-23T05:11:05.717444Z"
    },
    "collapsed": false
   },
   "outputs": [
    {
     "ename": "TaskIsNotReadyToStartError",
     "evalue": "Task(use_case_id='test', task_id='t-1') is not ready to start, either it is locked or status is not in 'pending' or 'failed'. You may use ``with Task.start(task_id=..., detailed_error=True) as execution_context:`` to get more details.",
     "output_type": "error",
     "traceback": [
      "\u001B[0;31m---------------------------------------------------------------------------\u001B[0m",
      "\u001B[0;31mConditionalCheckFailedException\u001B[0m           Traceback (most recent call last)",
      "File \u001B[0;32m~/Documents/GitHub/pynamodb_mate-project/.venv/lib/python3.8/site-packages/pynamodb/connection/base.py:341\u001B[0m, in \u001B[0;36mConnection._make_api_call\u001B[0;34m(self, operation_name, operation_kwargs)\u001B[0m\n\u001B[1;32m    340\u001B[0m \u001B[38;5;28;01mtry\u001B[39;00m:\n\u001B[0;32m--> 341\u001B[0m     \u001B[38;5;28;01mreturn\u001B[39;00m \u001B[38;5;28;43mself\u001B[39;49m\u001B[38;5;241;43m.\u001B[39;49m\u001B[43mclient\u001B[49m\u001B[38;5;241;43m.\u001B[39;49m\u001B[43m_make_api_call\u001B[49m\u001B[43m(\u001B[49m\u001B[43moperation_name\u001B[49m\u001B[43m,\u001B[49m\u001B[43m \u001B[49m\u001B[43moperation_kwargs\u001B[49m\u001B[43m)\u001B[49m\n\u001B[1;32m    342\u001B[0m \u001B[38;5;28;01mexcept\u001B[39;00m ClientError \u001B[38;5;28;01mas\u001B[39;00m e:\n",
      "File \u001B[0;32m~/Documents/GitHub/pynamodb_mate-project/.venv/lib/python3.8/site-packages/botocore/client.py:1021\u001B[0m, in \u001B[0;36mBaseClient._make_api_call\u001B[0;34m(self, operation_name, api_params)\u001B[0m\n\u001B[1;32m   1020\u001B[0m     error_class \u001B[38;5;241m=\u001B[39m \u001B[38;5;28mself\u001B[39m\u001B[38;5;241m.\u001B[39mexceptions\u001B[38;5;241m.\u001B[39mfrom_code(error_code)\n\u001B[0;32m-> 1021\u001B[0m     \u001B[38;5;28;01mraise\u001B[39;00m error_class(parsed_response, operation_name)\n\u001B[1;32m   1022\u001B[0m \u001B[38;5;28;01melse\u001B[39;00m:\n",
      "\u001B[0;31mConditionalCheckFailedException\u001B[0m: An error occurred (ConditionalCheckFailedException) when calling the UpdateItem operation: The conditional request failed",
      "\nThe above exception was the direct cause of the following exception:\n",
      "\u001B[0;31mVerboseClientError\u001B[0m                        Traceback (most recent call last)",
      "File \u001B[0;32m~/Documents/GitHub/pynamodb_mate-project/.venv/lib/python3.8/site-packages/pynamodb/connection/base.py:878\u001B[0m, in \u001B[0;36mConnection.update_item\u001B[0;34m(self, table_name, hash_key, range_key, actions, condition, return_consumed_capacity, return_item_collection_metrics, return_values)\u001B[0m\n\u001B[1;32m    877\u001B[0m \u001B[38;5;28;01mtry\u001B[39;00m:\n\u001B[0;32m--> 878\u001B[0m     \u001B[38;5;28;01mreturn\u001B[39;00m \u001B[38;5;28;43mself\u001B[39;49m\u001B[38;5;241;43m.\u001B[39;49m\u001B[43mdispatch\u001B[49m\u001B[43m(\u001B[49m\u001B[43mUPDATE_ITEM\u001B[49m\u001B[43m,\u001B[49m\u001B[43m \u001B[49m\u001B[43moperation_kwargs\u001B[49m\u001B[43m)\u001B[49m\n\u001B[1;32m    879\u001B[0m \u001B[38;5;28;01mexcept\u001B[39;00m BOTOCORE_EXCEPTIONS \u001B[38;5;28;01mas\u001B[39;00m e:\n",
      "File \u001B[0;32m~/Documents/GitHub/pynamodb_mate-project/.venv/lib/python3.8/site-packages/pynamodb/connection/base.py:312\u001B[0m, in \u001B[0;36mConnection.dispatch\u001B[0;34m(self, operation_name, operation_kwargs)\u001B[0m\n\u001B[1;32m    311\u001B[0m \u001B[38;5;28mself\u001B[39m\u001B[38;5;241m.\u001B[39msend_pre_boto_callback(operation_name, req_uuid, table_name)\n\u001B[0;32m--> 312\u001B[0m data \u001B[38;5;241m=\u001B[39m \u001B[38;5;28;43mself\u001B[39;49m\u001B[38;5;241;43m.\u001B[39;49m\u001B[43m_make_api_call\u001B[49m\u001B[43m(\u001B[49m\u001B[43moperation_name\u001B[49m\u001B[43m,\u001B[49m\u001B[43m \u001B[49m\u001B[43moperation_kwargs\u001B[49m\u001B[43m)\u001B[49m\n\u001B[1;32m    313\u001B[0m \u001B[38;5;28mself\u001B[39m\u001B[38;5;241m.\u001B[39msend_post_boto_callback(operation_name, req_uuid, table_name)\n",
      "File \u001B[0;32m~/Documents/GitHub/pynamodb_mate-project/.venv/lib/python3.8/site-packages/pynamodb/connection/base.py:351\u001B[0m, in \u001B[0;36mConnection._make_api_call\u001B[0;34m(self, operation_name, operation_kwargs)\u001B[0m\n\u001B[1;32m    347\u001B[0m verbose_props \u001B[38;5;241m=\u001B[39m {\n\u001B[1;32m    348\u001B[0m     \u001B[38;5;124m'\u001B[39m\u001B[38;5;124mrequest_id\u001B[39m\u001B[38;5;124m'\u001B[39m: resp_metadata\u001B[38;5;241m.\u001B[39mget(\u001B[38;5;124m'\u001B[39m\u001B[38;5;124mx-amzn-requestid\u001B[39m\u001B[38;5;124m'\u001B[39m, \u001B[38;5;124m'\u001B[39m\u001B[38;5;124m'\u001B[39m),\n\u001B[1;32m    349\u001B[0m     \u001B[38;5;124m'\u001B[39m\u001B[38;5;124mtable_name\u001B[39m\u001B[38;5;124m'\u001B[39m: \u001B[38;5;28mself\u001B[39m\u001B[38;5;241m.\u001B[39m_get_table_name_for_error_context(operation_kwargs),\n\u001B[1;32m    350\u001B[0m }\n\u001B[0;32m--> 351\u001B[0m \u001B[38;5;28;01mraise\u001B[39;00m VerboseClientError(\n\u001B[1;32m    352\u001B[0m     botocore_props,\n\u001B[1;32m    353\u001B[0m     operation_name,\n\u001B[1;32m    354\u001B[0m     verbose_props,\n\u001B[1;32m    355\u001B[0m     cancellation_reasons\u001B[38;5;241m=\u001B[39m(\n\u001B[1;32m    356\u001B[0m         (\n\u001B[1;32m    357\u001B[0m             CancellationReason(\n\u001B[1;32m    358\u001B[0m                 code\u001B[38;5;241m=\u001B[39md[\u001B[38;5;124m'\u001B[39m\u001B[38;5;124mCode\u001B[39m\u001B[38;5;124m'\u001B[39m],\n\u001B[1;32m    359\u001B[0m                 message\u001B[38;5;241m=\u001B[39md\u001B[38;5;241m.\u001B[39mget(\u001B[38;5;124m'\u001B[39m\u001B[38;5;124mMessage\u001B[39m\u001B[38;5;124m'\u001B[39m),\n\u001B[1;32m    360\u001B[0m             ) \u001B[38;5;28;01mif\u001B[39;00m d[\u001B[38;5;124m'\u001B[39m\u001B[38;5;124mCode\u001B[39m\u001B[38;5;124m'\u001B[39m] \u001B[38;5;241m!=\u001B[39m \u001B[38;5;124m'\u001B[39m\u001B[38;5;124mNone\u001B[39m\u001B[38;5;124m'\u001B[39m \u001B[38;5;28;01melse\u001B[39;00m \u001B[38;5;28;01mNone\u001B[39;00m\n\u001B[1;32m    361\u001B[0m         )\n\u001B[1;32m    362\u001B[0m         \u001B[38;5;28;01mfor\u001B[39;00m d \u001B[38;5;129;01min\u001B[39;00m cancellation_reasons\n\u001B[1;32m    363\u001B[0m     ),\n\u001B[1;32m    364\u001B[0m ) \u001B[38;5;28;01mfrom\u001B[39;00m \u001B[38;5;21;01me\u001B[39;00m\n",
      "\u001B[0;31mVerboseClientError\u001B[0m: An error occurred (ConditionalCheckFailedException) on request (7HAA59T1F64GA2TTH3P005U4BBVV4KQNSO5AEMVJF66Q9ASUAAJG) on table (pynamodb-mate-test-status-tracker) when calling the UpdateItem operation: The conditional request failed",
      "\nDuring handling of the above exception, another exception occurred:\n",
      "\u001B[0;31mUpdateError\u001B[0m                               Traceback (most recent call last)",
      "File \u001B[0;32m~/Documents/GitHub/pynamodb_mate-project/pynamodb_mate/patterns/status_tracker/impl.py:784\u001B[0m, in \u001B[0;36mBaseTask.start\u001B[0;34m(cls, task_id, detailed_error, debug)\u001B[0m\n\u001B[1;32m    783\u001B[0m \u001B[38;5;28;01mtry\u001B[39;00m:\n\u001B[0;32m--> 784\u001B[0m     res \u001B[38;5;241m=\u001B[39m \u001B[43mtask\u001B[49m\u001B[38;5;241;43m.\u001B[39;49m\u001B[43mupdate\u001B[49m\u001B[43m(\u001B[49m\n\u001B[1;32m    785\u001B[0m \u001B[43m        \u001B[49m\u001B[43mactions\u001B[49m\u001B[38;5;241;43m=\u001B[39;49m\u001B[43m[\u001B[49m\n\u001B[1;32m    786\u001B[0m \u001B[43m            \u001B[49m\u001B[38;5;28;43mcls\u001B[39;49m\u001B[38;5;241;43m.\u001B[39;49m\u001B[43mvalue\u001B[49m\u001B[38;5;241;43m.\u001B[39;49m\u001B[43mset\u001B[49m\u001B[43m(\u001B[49m\n\u001B[1;32m    787\u001B[0m \u001B[43m                \u001B[49m\u001B[38;5;28;43mcls\u001B[39;49m\u001B[38;5;241;43m.\u001B[39;49m\u001B[43mmake_value\u001B[49m\u001B[43m(\u001B[49m\n\u001B[1;32m    788\u001B[0m \u001B[43m                    \u001B[49m\u001B[43mstatus\u001B[49m\u001B[38;5;241;43m=\u001B[39;49m\u001B[38;5;28;43mcls\u001B[39;49m\u001B[38;5;241;43m.\u001B[39;49m\u001B[43mconfig\u001B[49m\u001B[38;5;241;43m.\u001B[39;49m\u001B[43min_progress_status\u001B[49m\u001B[43m,\u001B[49m\n\u001B[1;32m    789\u001B[0m \u001B[43m                    \u001B[49m\u001B[43m_task_id\u001B[49m\u001B[38;5;241;43m=\u001B[39;49m\u001B[43mtask_id\u001B[49m\u001B[43m,\u001B[49m\n\u001B[1;32m    790\u001B[0m \u001B[43m                \u001B[49m\u001B[43m)\u001B[49m\n\u001B[1;32m    791\u001B[0m \u001B[43m            \u001B[49m\u001B[43m)\u001B[49m\u001B[43m,\u001B[49m\n\u001B[1;32m    792\u001B[0m \u001B[43m            \u001B[49m\u001B[38;5;28;43mcls\u001B[39;49m\u001B[38;5;241;43m.\u001B[39;49m\u001B[43mstatus\u001B[49m\u001B[38;5;241;43m.\u001B[39;49m\u001B[43mset\u001B[49m\u001B[43m(\u001B[49m\u001B[38;5;28;43mcls\u001B[39;49m\u001B[38;5;241;43m.\u001B[39;49m\u001B[43mconfig\u001B[49m\u001B[38;5;241;43m.\u001B[39;49m\u001B[43min_progress_status\u001B[49m\u001B[43m)\u001B[49m\u001B[43m,\u001B[49m\n\u001B[1;32m    793\u001B[0m \u001B[43m            \u001B[49m\u001B[38;5;28;43mcls\u001B[39;49m\u001B[38;5;241;43m.\u001B[39;49m\u001B[43mlock\u001B[49m\u001B[38;5;241;43m.\u001B[39;49m\u001B[43mset\u001B[49m\u001B[43m(\u001B[49m\u001B[43mlock\u001B[49m\u001B[43m)\u001B[49m\u001B[43m,\u001B[49m\n\u001B[1;32m    794\u001B[0m \u001B[43m            \u001B[49m\u001B[38;5;28;43mcls\u001B[39;49m\u001B[38;5;241;43m.\u001B[39;49m\u001B[43mlock_time\u001B[49m\u001B[38;5;241;43m.\u001B[39;49m\u001B[43mset\u001B[49m\u001B[43m(\u001B[49m\u001B[43mlock_time\u001B[49m\u001B[43m)\u001B[49m\u001B[43m,\u001B[49m\n\u001B[1;32m    795\u001B[0m \u001B[43m        \u001B[49m\u001B[43m]\u001B[49m\u001B[43m,\u001B[49m\n\u001B[1;32m    796\u001B[0m \u001B[43m        \u001B[49m\u001B[38;5;66;43;03m# we get the lock only if the task is not locked and\u001B[39;49;00m\n\u001B[1;32m    797\u001B[0m \u001B[43m        \u001B[49m\u001B[38;5;66;43;03m# task is in todo_status or failed_status\u001B[39;49;00m\n\u001B[1;32m    798\u001B[0m \u001B[43m        \u001B[49m\u001B[38;5;66;43;03m# See: https://pynamodb.readthedocs.io/en/latest/conditional.html\u001B[39;49;00m\n\u001B[1;32m    799\u001B[0m \u001B[43m        \u001B[49m\u001B[38;5;66;43;03m# to know about the condition expression\u001B[39;49;00m\n\u001B[1;32m    800\u001B[0m \u001B[43m        \u001B[49m\u001B[43mcondition\u001B[49m\u001B[38;5;241;43m=\u001B[39;49m\u001B[43m(\u001B[49m\n\u001B[1;32m    801\u001B[0m \u001B[43m            \u001B[49m\u001B[43m(\u001B[49m\n\u001B[1;32m    802\u001B[0m \u001B[43m                \u001B[49m\u001B[43m(\u001B[49m\u001B[38;5;28;43mcls\u001B[39;49m\u001B[38;5;241;43m.\u001B[39;49m\u001B[43mlock\u001B[49m\u001B[43m \u001B[49m\u001B[38;5;241;43m==\u001B[39;49m\u001B[43m \u001B[49m\u001B[43mNOT_LOCKED\u001B[49m\u001B[43m)\u001B[49m\n\u001B[1;32m    803\u001B[0m \u001B[43m                \u001B[49m\u001B[38;5;241;43m|\u001B[39;49m\u001B[43m \u001B[49m\u001B[43m(\u001B[49m\u001B[38;5;28;43mcls\u001B[39;49m\u001B[38;5;241;43m.\u001B[39;49m\u001B[43mlock\u001B[49m\u001B[43m \u001B[49m\u001B[38;5;241;43m==\u001B[39;49m\u001B[43m \u001B[49m\u001B[43mlock\u001B[49m\u001B[43m)\u001B[49m\n\u001B[1;32m    804\u001B[0m \u001B[43m                \u001B[49m\u001B[38;5;241;43m|\u001B[39;49m\u001B[43m \u001B[49m\u001B[43m(\u001B[49m\n\u001B[1;32m    805\u001B[0m \u001B[43m                    \u001B[49m\u001B[38;5;28;43mcls\u001B[39;49m\u001B[38;5;241;43m.\u001B[39;49m\u001B[43mlock_time\u001B[49m\n\u001B[1;32m    806\u001B[0m \u001B[43m                    \u001B[49m\u001B[38;5;241;43m<\u001B[39;49m\u001B[43m \u001B[49m\u001B[43m(\u001B[49m\n\u001B[1;32m    807\u001B[0m \u001B[43m                        \u001B[49m\u001B[43mlock_time\u001B[49m\n\u001B[1;32m    808\u001B[0m \u001B[43m                        \u001B[49m\u001B[38;5;241;43m-\u001B[39;49m\u001B[43m \u001B[49m\u001B[43mtimedelta\u001B[49m\u001B[43m(\u001B[49m\u001B[43mseconds\u001B[49m\u001B[38;5;241;43m=\u001B[39;49m\u001B[38;5;28;43mcls\u001B[39;49m\u001B[38;5;241;43m.\u001B[39;49m\u001B[43mconfig\u001B[49m\u001B[38;5;241;43m.\u001B[39;49m\u001B[43mlock_expire_seconds\u001B[49m\u001B[43m)\u001B[49m\n\u001B[1;32m    809\u001B[0m \u001B[43m                    \u001B[49m\u001B[43m)\u001B[49m\n\u001B[1;32m    810\u001B[0m \u001B[43m                \u001B[49m\u001B[43m)\u001B[49m\n\u001B[1;32m    811\u001B[0m \u001B[43m            \u001B[49m\u001B[43m)\u001B[49m\n\u001B[1;32m    812\u001B[0m \u001B[43m            \u001B[49m\u001B[38;5;241;43m&\u001B[39;49m\u001B[43m \u001B[49m\u001B[43m(\u001B[49m\n\u001B[1;32m    813\u001B[0m \u001B[43m                \u001B[49m\u001B[43m(\u001B[49m\u001B[38;5;28;43mcls\u001B[39;49m\u001B[38;5;241;43m.\u001B[39;49m\u001B[43mstatus\u001B[49m\u001B[43m \u001B[49m\u001B[38;5;241;43m==\u001B[39;49m\u001B[43m \u001B[49m\u001B[38;5;28;43mcls\u001B[39;49m\u001B[38;5;241;43m.\u001B[39;49m\u001B[43mconfig\u001B[49m\u001B[38;5;241;43m.\u001B[39;49m\u001B[43mpending_status\u001B[49m\u001B[43m)\u001B[49m\n\u001B[1;32m    814\u001B[0m \u001B[43m                \u001B[49m\u001B[38;5;241;43m|\u001B[39;49m\u001B[43m \u001B[49m\u001B[43m(\u001B[49m\u001B[38;5;28;43mcls\u001B[39;49m\u001B[38;5;241;43m.\u001B[39;49m\u001B[43mstatus\u001B[49m\u001B[43m \u001B[49m\u001B[38;5;241;43m==\u001B[39;49m\u001B[43m \u001B[49m\u001B[38;5;28;43mcls\u001B[39;49m\u001B[38;5;241;43m.\u001B[39;49m\u001B[43mconfig\u001B[49m\u001B[38;5;241;43m.\u001B[39;49m\u001B[43mfailed_status\u001B[49m\u001B[43m)\u001B[49m\n\u001B[1;32m    815\u001B[0m \u001B[43m            \u001B[49m\u001B[43m)\u001B[49m\n\u001B[1;32m    816\u001B[0m \u001B[43m        \u001B[49m\u001B[43m)\u001B[49m\u001B[43m,\u001B[49m\n\u001B[1;32m    817\u001B[0m \u001B[43m    \u001B[49m\u001B[43m)\u001B[49m\n\u001B[1;32m    818\u001B[0m \u001B[38;5;28;01mexcept\u001B[39;00m UpdateError \u001B[38;5;28;01mas\u001B[39;00m e:\n\u001B[1;32m    819\u001B[0m     \u001B[38;5;66;03m# print(f\"--- enter failed to get lock error handling logic ---\") # for debug only\u001B[39;00m\n\u001B[1;32m    820\u001B[0m     \u001B[38;5;66;03m# print(f\"{e.cause_response_code = }\") # for debug only\u001B[39;00m\n",
      "File \u001B[0;32m~/Documents/GitHub/pynamodb_mate-project/.venv/lib/python3.8/site-packages/pynamodb/models.py:436\u001B[0m, in \u001B[0;36mModel.update\u001B[0;34m(self, actions, condition, add_version_condition)\u001B[0m\n\u001B[1;32m    434\u001B[0m     condition \u001B[38;5;241m&\u001B[39m\u001B[38;5;241m=\u001B[39m version_condition\n\u001B[0;32m--> 436\u001B[0m data \u001B[38;5;241m=\u001B[39m \u001B[38;5;28;43mself\u001B[39;49m\u001B[38;5;241;43m.\u001B[39;49m\u001B[43m_get_connection\u001B[49m\u001B[43m(\u001B[49m\u001B[43m)\u001B[49m\u001B[38;5;241;43m.\u001B[39;49m\u001B[43mupdate_item\u001B[49m\u001B[43m(\u001B[49m\u001B[43mhk_value\u001B[49m\u001B[43m,\u001B[49m\u001B[43m \u001B[49m\u001B[43mrange_key\u001B[49m\u001B[38;5;241;43m=\u001B[39;49m\u001B[43mrk_value\u001B[49m\u001B[43m,\u001B[49m\u001B[43m \u001B[49m\u001B[43mreturn_values\u001B[49m\u001B[38;5;241;43m=\u001B[39;49m\u001B[43mALL_NEW\u001B[49m\u001B[43m,\u001B[49m\u001B[43m \u001B[49m\u001B[43mcondition\u001B[49m\u001B[38;5;241;43m=\u001B[39;49m\u001B[43mcondition\u001B[49m\u001B[43m,\u001B[49m\u001B[43m \u001B[49m\u001B[43mactions\u001B[49m\u001B[38;5;241;43m=\u001B[39;49m\u001B[43mactions\u001B[49m\u001B[43m)\u001B[49m\n\u001B[1;32m    437\u001B[0m item_data \u001B[38;5;241m=\u001B[39m data[ATTRIBUTES]\n",
      "File \u001B[0;32m~/Documents/GitHub/pynamodb_mate-project/.venv/lib/python3.8/site-packages/pynamodb/connection/table.py:122\u001B[0m, in \u001B[0;36mTableConnection.update_item\u001B[0;34m(self, hash_key, range_key, actions, condition, return_consumed_capacity, return_item_collection_metrics, return_values)\u001B[0m\n\u001B[1;32m    119\u001B[0m \u001B[38;5;250m\u001B[39m\u001B[38;5;124;03m\"\"\"\u001B[39;00m\n\u001B[1;32m    120\u001B[0m \u001B[38;5;124;03mPerforms the UpdateItem operation\u001B[39;00m\n\u001B[1;32m    121\u001B[0m \u001B[38;5;124;03m\"\"\"\u001B[39;00m\n\u001B[0;32m--> 122\u001B[0m \u001B[38;5;28;01mreturn\u001B[39;00m \u001B[38;5;28;43mself\u001B[39;49m\u001B[38;5;241;43m.\u001B[39;49m\u001B[43mconnection\u001B[49m\u001B[38;5;241;43m.\u001B[39;49m\u001B[43mupdate_item\u001B[49m\u001B[43m(\u001B[49m\n\u001B[1;32m    123\u001B[0m \u001B[43m    \u001B[49m\u001B[38;5;28;43mself\u001B[39;49m\u001B[38;5;241;43m.\u001B[39;49m\u001B[43mtable_name\u001B[49m\u001B[43m,\u001B[49m\n\u001B[1;32m    124\u001B[0m \u001B[43m    \u001B[49m\u001B[43mhash_key\u001B[49m\u001B[43m,\u001B[49m\n\u001B[1;32m    125\u001B[0m \u001B[43m    \u001B[49m\u001B[43mrange_key\u001B[49m\u001B[38;5;241;43m=\u001B[39;49m\u001B[43mrange_key\u001B[49m\u001B[43m,\u001B[49m\n\u001B[1;32m    126\u001B[0m \u001B[43m    \u001B[49m\u001B[43mactions\u001B[49m\u001B[38;5;241;43m=\u001B[39;49m\u001B[43mactions\u001B[49m\u001B[43m,\u001B[49m\n\u001B[1;32m    127\u001B[0m \u001B[43m    \u001B[49m\u001B[43mcondition\u001B[49m\u001B[38;5;241;43m=\u001B[39;49m\u001B[43mcondition\u001B[49m\u001B[43m,\u001B[49m\n\u001B[1;32m    128\u001B[0m \u001B[43m    \u001B[49m\u001B[43mreturn_consumed_capacity\u001B[49m\u001B[38;5;241;43m=\u001B[39;49m\u001B[43mreturn_consumed_capacity\u001B[49m\u001B[43m,\u001B[49m\n\u001B[1;32m    129\u001B[0m \u001B[43m    \u001B[49m\u001B[43mreturn_item_collection_metrics\u001B[49m\u001B[38;5;241;43m=\u001B[39;49m\u001B[43mreturn_item_collection_metrics\u001B[49m\u001B[43m,\u001B[49m\n\u001B[1;32m    130\u001B[0m \u001B[43m    \u001B[49m\u001B[43mreturn_values\u001B[49m\u001B[38;5;241;43m=\u001B[39;49m\u001B[43mreturn_values\u001B[49m\u001B[43m,\u001B[49m\n\u001B[1;32m    131\u001B[0m \u001B[43m\u001B[49m\u001B[43m)\u001B[49m\n",
      "File \u001B[0;32m~/Documents/GitHub/pynamodb_mate-project/.venv/lib/python3.8/site-packages/pynamodb/connection/base.py:880\u001B[0m, in \u001B[0;36mConnection.update_item\u001B[0;34m(self, table_name, hash_key, range_key, actions, condition, return_consumed_capacity, return_item_collection_metrics, return_values)\u001B[0m\n\u001B[1;32m    879\u001B[0m \u001B[38;5;28;01mexcept\u001B[39;00m BOTOCORE_EXCEPTIONS \u001B[38;5;28;01mas\u001B[39;00m e:\n\u001B[0;32m--> 880\u001B[0m     \u001B[38;5;28;01mraise\u001B[39;00m UpdateError(\u001B[38;5;124m\"\u001B[39m\u001B[38;5;124mFailed to update item: \u001B[39m\u001B[38;5;132;01m{}\u001B[39;00m\u001B[38;5;124m\"\u001B[39m\u001B[38;5;241m.\u001B[39mformat(e), e)\n",
      "\u001B[0;31mUpdateError\u001B[0m: Failed to update item: An error occurred (ConditionalCheckFailedException) on request (7HAA59T1F64GA2TTH3P005U4BBVV4KQNSO5AEMVJF66Q9ASUAAJG) on table (pynamodb-mate-test-status-tracker) when calling the UpdateItem operation: The conditional request failed",
      "\nDuring handling of the above exception, another exception occurred:\n",
      "\u001B[0;31mTaskIsNotReadyToStartError\u001B[0m                Traceback (most recent call last)",
      "Cell \u001B[0;32mIn[10], line 1\u001B[0m\n\u001B[0;32m----> 1\u001B[0m \u001B[38;5;28;01mwith\u001B[39;00m Step1\u001B[38;5;241m.\u001B[39mstart(task_id, debug\u001B[38;5;241m=\u001B[39m\u001B[38;5;28;01mFalse\u001B[39;00m) \u001B[38;5;28;01mas\u001B[39;00m exec_ctx:\n\u001B[1;32m      2\u001B[0m     \u001B[38;5;28;01mpass\u001B[39;00m\n",
      "File \u001B[0;32m~/.pyenv/versions/3.8.13/lib/python3.8/contextlib.py:113\u001B[0m, in \u001B[0;36m_GeneratorContextManager.__enter__\u001B[0;34m(self)\u001B[0m\n\u001B[1;32m    111\u001B[0m \u001B[38;5;28;01mdel\u001B[39;00m \u001B[38;5;28mself\u001B[39m\u001B[38;5;241m.\u001B[39margs, \u001B[38;5;28mself\u001B[39m\u001B[38;5;241m.\u001B[39mkwds, \u001B[38;5;28mself\u001B[39m\u001B[38;5;241m.\u001B[39mfunc\n\u001B[1;32m    112\u001B[0m \u001B[38;5;28;01mtry\u001B[39;00m:\n\u001B[0;32m--> 113\u001B[0m     \u001B[38;5;28;01mreturn\u001B[39;00m \u001B[38;5;28;43mnext\u001B[39;49m\u001B[43m(\u001B[49m\u001B[38;5;28;43mself\u001B[39;49m\u001B[38;5;241;43m.\u001B[39;49m\u001B[43mgen\u001B[49m\u001B[43m)\u001B[49m\n\u001B[1;32m    114\u001B[0m \u001B[38;5;28;01mexcept\u001B[39;00m \u001B[38;5;167;01mStopIteration\u001B[39;00m:\n\u001B[1;32m    115\u001B[0m     \u001B[38;5;28;01mraise\u001B[39;00m \u001B[38;5;167;01mRuntimeError\u001B[39;00m(\u001B[38;5;124m\"\u001B[39m\u001B[38;5;124mgenerator didn\u001B[39m\u001B[38;5;124m'\u001B[39m\u001B[38;5;124mt yield\u001B[39m\u001B[38;5;124m\"\u001B[39m) \u001B[38;5;28;01mfrom\u001B[39;00m \u001B[38;5;28;01mNone\u001B[39;00m\n",
      "File \u001B[0;32m~/Documents/GitHub/pynamodb_mate-project/pynamodb_mate/patterns/status_tracker/impl.py:884\u001B[0m, in \u001B[0;36mBaseTask.start\u001B[0;34m(cls, task_id, detailed_error, debug)\u001B[0m\n\u001B[1;32m    875\u001B[0m     \u001B[38;5;28;01mif\u001B[39;00m debug:  \u001B[38;5;66;03m# pragma: no cover\u001B[39;00m\n\u001B[1;32m    876\u001B[0m         \u001B[38;5;28mprint\u001B[39m(\n\u001B[1;32m    877\u001B[0m             \u001B[38;5;124m\"\u001B[39m\u001B[38;5;132;01m{msg:-^120}\u001B[39;00m\u001B[38;5;124m\"\u001B[39m\u001B[38;5;241m.\u001B[39mformat(\n\u001B[1;32m    878\u001B[0m                 msg\u001B[38;5;241m=\u001B[39m\u001B[38;5;124m\"\u001B[39m\u001B[38;5;124m ⏹️ end Task(\u001B[39m\u001B[38;5;132;01m{}\u001B[39;00m\u001B[38;5;124m, \u001B[39m\u001B[38;5;132;01m{}\u001B[39;00m\u001B[38;5;124m)\u001B[39m\u001B[38;5;124m\"\u001B[39m\u001B[38;5;241m.\u001B[39mformat(\n\u001B[0;32m   (...)\u001B[0m\n\u001B[1;32m    882\u001B[0m             )\n\u001B[1;32m    883\u001B[0m         )\n\u001B[0;32m--> 884\u001B[0m     \u001B[38;5;28;01mraise\u001B[39;00m error\n\u001B[1;32m    886\u001B[0m \u001B[38;5;66;03m# See: https://boto3.amazonaws.com/v1/documentation/api/latest/reference/services/dynamodb/client/update_item.html\u001B[39;00m\n\u001B[1;32m    887\u001B[0m \u001B[38;5;66;03m# to know about response of the update_item API\u001B[39;00m\n\u001B[1;32m    888\u001B[0m task_updated \u001B[38;5;241m=\u001B[39m \u001B[38;5;28mcls\u001B[39m\u001B[38;5;241m.\u001B[39mfrom_raw_data(res[\u001B[38;5;124m\"\u001B[39m\u001B[38;5;124mAttributes\u001B[39m\u001B[38;5;124m\"\u001B[39m])\n",
      "\u001B[0;31mTaskIsNotReadyToStartError\u001B[0m: Task(use_case_id='test', task_id='t-1') is not ready to start, either it is locked or status is not in 'pending' or 'failed'. You may use ``with Task.start(task_id=..., detailed_error=True) as execution_context:`` to get more details."
     ]
    }
   ],
   "source": [
    "with Step1.start(task_id, debug=False) as exec_ctx:\n",
    "    pass"
   ]
  },
  {
   "cell_type": "code",
   "execution_count": 11,
   "metadata": {
    "ExecuteTime": {
     "end_time": "2024-05-23T05:11:06.088369Z",
     "start_time": "2024-05-23T05:11:05.951361Z"
    },
    "collapsed": false
   },
   "outputs": [
    {
     "ename": "TaskAlreadySucceedError",
     "evalue": "Task(use_case_id='test', task_id='t-1') is already succeeded.",
     "output_type": "error",
     "traceback": [
      "\u001B[0;31m---------------------------------------------------------------------------\u001B[0m",
      "\u001B[0;31mConditionalCheckFailedException\u001B[0m           Traceback (most recent call last)",
      "File \u001B[0;32m~/Documents/GitHub/pynamodb_mate-project/.venv/lib/python3.8/site-packages/pynamodb/connection/base.py:341\u001B[0m, in \u001B[0;36mConnection._make_api_call\u001B[0;34m(self, operation_name, operation_kwargs)\u001B[0m\n\u001B[1;32m    340\u001B[0m \u001B[38;5;28;01mtry\u001B[39;00m:\n\u001B[0;32m--> 341\u001B[0m     \u001B[38;5;28;01mreturn\u001B[39;00m \u001B[38;5;28;43mself\u001B[39;49m\u001B[38;5;241;43m.\u001B[39;49m\u001B[43mclient\u001B[49m\u001B[38;5;241;43m.\u001B[39;49m\u001B[43m_make_api_call\u001B[49m\u001B[43m(\u001B[49m\u001B[43moperation_name\u001B[49m\u001B[43m,\u001B[49m\u001B[43m \u001B[49m\u001B[43moperation_kwargs\u001B[49m\u001B[43m)\u001B[49m\n\u001B[1;32m    342\u001B[0m \u001B[38;5;28;01mexcept\u001B[39;00m ClientError \u001B[38;5;28;01mas\u001B[39;00m e:\n",
      "File \u001B[0;32m~/Documents/GitHub/pynamodb_mate-project/.venv/lib/python3.8/site-packages/botocore/client.py:1021\u001B[0m, in \u001B[0;36mBaseClient._make_api_call\u001B[0;34m(self, operation_name, api_params)\u001B[0m\n\u001B[1;32m   1020\u001B[0m     error_class \u001B[38;5;241m=\u001B[39m \u001B[38;5;28mself\u001B[39m\u001B[38;5;241m.\u001B[39mexceptions\u001B[38;5;241m.\u001B[39mfrom_code(error_code)\n\u001B[0;32m-> 1021\u001B[0m     \u001B[38;5;28;01mraise\u001B[39;00m error_class(parsed_response, operation_name)\n\u001B[1;32m   1022\u001B[0m \u001B[38;5;28;01melse\u001B[39;00m:\n",
      "\u001B[0;31mConditionalCheckFailedException\u001B[0m: An error occurred (ConditionalCheckFailedException) when calling the UpdateItem operation: The conditional request failed",
      "\nThe above exception was the direct cause of the following exception:\n",
      "\u001B[0;31mVerboseClientError\u001B[0m                        Traceback (most recent call last)",
      "File \u001B[0;32m~/Documents/GitHub/pynamodb_mate-project/.venv/lib/python3.8/site-packages/pynamodb/connection/base.py:878\u001B[0m, in \u001B[0;36mConnection.update_item\u001B[0;34m(self, table_name, hash_key, range_key, actions, condition, return_consumed_capacity, return_item_collection_metrics, return_values)\u001B[0m\n\u001B[1;32m    877\u001B[0m \u001B[38;5;28;01mtry\u001B[39;00m:\n\u001B[0;32m--> 878\u001B[0m     \u001B[38;5;28;01mreturn\u001B[39;00m \u001B[38;5;28;43mself\u001B[39;49m\u001B[38;5;241;43m.\u001B[39;49m\u001B[43mdispatch\u001B[49m\u001B[43m(\u001B[49m\u001B[43mUPDATE_ITEM\u001B[49m\u001B[43m,\u001B[49m\u001B[43m \u001B[49m\u001B[43moperation_kwargs\u001B[49m\u001B[43m)\u001B[49m\n\u001B[1;32m    879\u001B[0m \u001B[38;5;28;01mexcept\u001B[39;00m BOTOCORE_EXCEPTIONS \u001B[38;5;28;01mas\u001B[39;00m e:\n",
      "File \u001B[0;32m~/Documents/GitHub/pynamodb_mate-project/.venv/lib/python3.8/site-packages/pynamodb/connection/base.py:312\u001B[0m, in \u001B[0;36mConnection.dispatch\u001B[0;34m(self, operation_name, operation_kwargs)\u001B[0m\n\u001B[1;32m    311\u001B[0m \u001B[38;5;28mself\u001B[39m\u001B[38;5;241m.\u001B[39msend_pre_boto_callback(operation_name, req_uuid, table_name)\n\u001B[0;32m--> 312\u001B[0m data \u001B[38;5;241m=\u001B[39m \u001B[38;5;28;43mself\u001B[39;49m\u001B[38;5;241;43m.\u001B[39;49m\u001B[43m_make_api_call\u001B[49m\u001B[43m(\u001B[49m\u001B[43moperation_name\u001B[49m\u001B[43m,\u001B[49m\u001B[43m \u001B[49m\u001B[43moperation_kwargs\u001B[49m\u001B[43m)\u001B[49m\n\u001B[1;32m    313\u001B[0m \u001B[38;5;28mself\u001B[39m\u001B[38;5;241m.\u001B[39msend_post_boto_callback(operation_name, req_uuid, table_name)\n",
      "File \u001B[0;32m~/Documents/GitHub/pynamodb_mate-project/.venv/lib/python3.8/site-packages/pynamodb/connection/base.py:351\u001B[0m, in \u001B[0;36mConnection._make_api_call\u001B[0;34m(self, operation_name, operation_kwargs)\u001B[0m\n\u001B[1;32m    347\u001B[0m verbose_props \u001B[38;5;241m=\u001B[39m {\n\u001B[1;32m    348\u001B[0m     \u001B[38;5;124m'\u001B[39m\u001B[38;5;124mrequest_id\u001B[39m\u001B[38;5;124m'\u001B[39m: resp_metadata\u001B[38;5;241m.\u001B[39mget(\u001B[38;5;124m'\u001B[39m\u001B[38;5;124mx-amzn-requestid\u001B[39m\u001B[38;5;124m'\u001B[39m, \u001B[38;5;124m'\u001B[39m\u001B[38;5;124m'\u001B[39m),\n\u001B[1;32m    349\u001B[0m     \u001B[38;5;124m'\u001B[39m\u001B[38;5;124mtable_name\u001B[39m\u001B[38;5;124m'\u001B[39m: \u001B[38;5;28mself\u001B[39m\u001B[38;5;241m.\u001B[39m_get_table_name_for_error_context(operation_kwargs),\n\u001B[1;32m    350\u001B[0m }\n\u001B[0;32m--> 351\u001B[0m \u001B[38;5;28;01mraise\u001B[39;00m VerboseClientError(\n\u001B[1;32m    352\u001B[0m     botocore_props,\n\u001B[1;32m    353\u001B[0m     operation_name,\n\u001B[1;32m    354\u001B[0m     verbose_props,\n\u001B[1;32m    355\u001B[0m     cancellation_reasons\u001B[38;5;241m=\u001B[39m(\n\u001B[1;32m    356\u001B[0m         (\n\u001B[1;32m    357\u001B[0m             CancellationReason(\n\u001B[1;32m    358\u001B[0m                 code\u001B[38;5;241m=\u001B[39md[\u001B[38;5;124m'\u001B[39m\u001B[38;5;124mCode\u001B[39m\u001B[38;5;124m'\u001B[39m],\n\u001B[1;32m    359\u001B[0m                 message\u001B[38;5;241m=\u001B[39md\u001B[38;5;241m.\u001B[39mget(\u001B[38;5;124m'\u001B[39m\u001B[38;5;124mMessage\u001B[39m\u001B[38;5;124m'\u001B[39m),\n\u001B[1;32m    360\u001B[0m             ) \u001B[38;5;28;01mif\u001B[39;00m d[\u001B[38;5;124m'\u001B[39m\u001B[38;5;124mCode\u001B[39m\u001B[38;5;124m'\u001B[39m] \u001B[38;5;241m!=\u001B[39m \u001B[38;5;124m'\u001B[39m\u001B[38;5;124mNone\u001B[39m\u001B[38;5;124m'\u001B[39m \u001B[38;5;28;01melse\u001B[39;00m \u001B[38;5;28;01mNone\u001B[39;00m\n\u001B[1;32m    361\u001B[0m         )\n\u001B[1;32m    362\u001B[0m         \u001B[38;5;28;01mfor\u001B[39;00m d \u001B[38;5;129;01min\u001B[39;00m cancellation_reasons\n\u001B[1;32m    363\u001B[0m     ),\n\u001B[1;32m    364\u001B[0m ) \u001B[38;5;28;01mfrom\u001B[39;00m \u001B[38;5;21;01me\u001B[39;00m\n",
      "\u001B[0;31mVerboseClientError\u001B[0m: An error occurred (ConditionalCheckFailedException) on request (LEB989UQEEV5C4LJQ4V841FNV7VV4KQNSO5AEMVJF66Q9ASUAAJG) on table (pynamodb-mate-test-status-tracker) when calling the UpdateItem operation: The conditional request failed",
      "\nDuring handling of the above exception, another exception occurred:\n",
      "\u001B[0;31mUpdateError\u001B[0m                               Traceback (most recent call last)",
      "File \u001B[0;32m~/Documents/GitHub/pynamodb_mate-project/pynamodb_mate/patterns/status_tracker/impl.py:784\u001B[0m, in \u001B[0;36mBaseTask.start\u001B[0;34m(cls, task_id, detailed_error, debug)\u001B[0m\n\u001B[1;32m    783\u001B[0m \u001B[38;5;28;01mtry\u001B[39;00m:\n\u001B[0;32m--> 784\u001B[0m     res \u001B[38;5;241m=\u001B[39m \u001B[43mtask\u001B[49m\u001B[38;5;241;43m.\u001B[39;49m\u001B[43mupdate\u001B[49m\u001B[43m(\u001B[49m\n\u001B[1;32m    785\u001B[0m \u001B[43m        \u001B[49m\u001B[43mactions\u001B[49m\u001B[38;5;241;43m=\u001B[39;49m\u001B[43m[\u001B[49m\n\u001B[1;32m    786\u001B[0m \u001B[43m            \u001B[49m\u001B[38;5;28;43mcls\u001B[39;49m\u001B[38;5;241;43m.\u001B[39;49m\u001B[43mvalue\u001B[49m\u001B[38;5;241;43m.\u001B[39;49m\u001B[43mset\u001B[49m\u001B[43m(\u001B[49m\n\u001B[1;32m    787\u001B[0m \u001B[43m                \u001B[49m\u001B[38;5;28;43mcls\u001B[39;49m\u001B[38;5;241;43m.\u001B[39;49m\u001B[43mmake_value\u001B[49m\u001B[43m(\u001B[49m\n\u001B[1;32m    788\u001B[0m \u001B[43m                    \u001B[49m\u001B[43mstatus\u001B[49m\u001B[38;5;241;43m=\u001B[39;49m\u001B[38;5;28;43mcls\u001B[39;49m\u001B[38;5;241;43m.\u001B[39;49m\u001B[43mconfig\u001B[49m\u001B[38;5;241;43m.\u001B[39;49m\u001B[43min_progress_status\u001B[49m\u001B[43m,\u001B[49m\n\u001B[1;32m    789\u001B[0m \u001B[43m                    \u001B[49m\u001B[43m_task_id\u001B[49m\u001B[38;5;241;43m=\u001B[39;49m\u001B[43mtask_id\u001B[49m\u001B[43m,\u001B[49m\n\u001B[1;32m    790\u001B[0m \u001B[43m                \u001B[49m\u001B[43m)\u001B[49m\n\u001B[1;32m    791\u001B[0m \u001B[43m            \u001B[49m\u001B[43m)\u001B[49m\u001B[43m,\u001B[49m\n\u001B[1;32m    792\u001B[0m \u001B[43m            \u001B[49m\u001B[38;5;28;43mcls\u001B[39;49m\u001B[38;5;241;43m.\u001B[39;49m\u001B[43mstatus\u001B[49m\u001B[38;5;241;43m.\u001B[39;49m\u001B[43mset\u001B[49m\u001B[43m(\u001B[49m\u001B[38;5;28;43mcls\u001B[39;49m\u001B[38;5;241;43m.\u001B[39;49m\u001B[43mconfig\u001B[49m\u001B[38;5;241;43m.\u001B[39;49m\u001B[43min_progress_status\u001B[49m\u001B[43m)\u001B[49m\u001B[43m,\u001B[49m\n\u001B[1;32m    793\u001B[0m \u001B[43m            \u001B[49m\u001B[38;5;28;43mcls\u001B[39;49m\u001B[38;5;241;43m.\u001B[39;49m\u001B[43mlock\u001B[49m\u001B[38;5;241;43m.\u001B[39;49m\u001B[43mset\u001B[49m\u001B[43m(\u001B[49m\u001B[43mlock\u001B[49m\u001B[43m)\u001B[49m\u001B[43m,\u001B[49m\n\u001B[1;32m    794\u001B[0m \u001B[43m            \u001B[49m\u001B[38;5;28;43mcls\u001B[39;49m\u001B[38;5;241;43m.\u001B[39;49m\u001B[43mlock_time\u001B[49m\u001B[38;5;241;43m.\u001B[39;49m\u001B[43mset\u001B[49m\u001B[43m(\u001B[49m\u001B[43mlock_time\u001B[49m\u001B[43m)\u001B[49m\u001B[43m,\u001B[49m\n\u001B[1;32m    795\u001B[0m \u001B[43m        \u001B[49m\u001B[43m]\u001B[49m\u001B[43m,\u001B[49m\n\u001B[1;32m    796\u001B[0m \u001B[43m        \u001B[49m\u001B[38;5;66;43;03m# we get the lock only if the task is not locked and\u001B[39;49;00m\n\u001B[1;32m    797\u001B[0m \u001B[43m        \u001B[49m\u001B[38;5;66;43;03m# task is in todo_status or failed_status\u001B[39;49;00m\n\u001B[1;32m    798\u001B[0m \u001B[43m        \u001B[49m\u001B[38;5;66;43;03m# See: https://pynamodb.readthedocs.io/en/latest/conditional.html\u001B[39;49;00m\n\u001B[1;32m    799\u001B[0m \u001B[43m        \u001B[49m\u001B[38;5;66;43;03m# to know about the condition expression\u001B[39;49;00m\n\u001B[1;32m    800\u001B[0m \u001B[43m        \u001B[49m\u001B[43mcondition\u001B[49m\u001B[38;5;241;43m=\u001B[39;49m\u001B[43m(\u001B[49m\n\u001B[1;32m    801\u001B[0m \u001B[43m            \u001B[49m\u001B[43m(\u001B[49m\n\u001B[1;32m    802\u001B[0m \u001B[43m                \u001B[49m\u001B[43m(\u001B[49m\u001B[38;5;28;43mcls\u001B[39;49m\u001B[38;5;241;43m.\u001B[39;49m\u001B[43mlock\u001B[49m\u001B[43m \u001B[49m\u001B[38;5;241;43m==\u001B[39;49m\u001B[43m \u001B[49m\u001B[43mNOT_LOCKED\u001B[49m\u001B[43m)\u001B[49m\n\u001B[1;32m    803\u001B[0m \u001B[43m                \u001B[49m\u001B[38;5;241;43m|\u001B[39;49m\u001B[43m \u001B[49m\u001B[43m(\u001B[49m\u001B[38;5;28;43mcls\u001B[39;49m\u001B[38;5;241;43m.\u001B[39;49m\u001B[43mlock\u001B[49m\u001B[43m \u001B[49m\u001B[38;5;241;43m==\u001B[39;49m\u001B[43m \u001B[49m\u001B[43mlock\u001B[49m\u001B[43m)\u001B[49m\n\u001B[1;32m    804\u001B[0m \u001B[43m                \u001B[49m\u001B[38;5;241;43m|\u001B[39;49m\u001B[43m \u001B[49m\u001B[43m(\u001B[49m\n\u001B[1;32m    805\u001B[0m \u001B[43m                    \u001B[49m\u001B[38;5;28;43mcls\u001B[39;49m\u001B[38;5;241;43m.\u001B[39;49m\u001B[43mlock_time\u001B[49m\n\u001B[1;32m    806\u001B[0m \u001B[43m                    \u001B[49m\u001B[38;5;241;43m<\u001B[39;49m\u001B[43m \u001B[49m\u001B[43m(\u001B[49m\n\u001B[1;32m    807\u001B[0m \u001B[43m                        \u001B[49m\u001B[43mlock_time\u001B[49m\n\u001B[1;32m    808\u001B[0m \u001B[43m                        \u001B[49m\u001B[38;5;241;43m-\u001B[39;49m\u001B[43m \u001B[49m\u001B[43mtimedelta\u001B[49m\u001B[43m(\u001B[49m\u001B[43mseconds\u001B[49m\u001B[38;5;241;43m=\u001B[39;49m\u001B[38;5;28;43mcls\u001B[39;49m\u001B[38;5;241;43m.\u001B[39;49m\u001B[43mconfig\u001B[49m\u001B[38;5;241;43m.\u001B[39;49m\u001B[43mlock_expire_seconds\u001B[49m\u001B[43m)\u001B[49m\n\u001B[1;32m    809\u001B[0m \u001B[43m                    \u001B[49m\u001B[43m)\u001B[49m\n\u001B[1;32m    810\u001B[0m \u001B[43m                \u001B[49m\u001B[43m)\u001B[49m\n\u001B[1;32m    811\u001B[0m \u001B[43m            \u001B[49m\u001B[43m)\u001B[49m\n\u001B[1;32m    812\u001B[0m \u001B[43m            \u001B[49m\u001B[38;5;241;43m&\u001B[39;49m\u001B[43m \u001B[49m\u001B[43m(\u001B[49m\n\u001B[1;32m    813\u001B[0m \u001B[43m                \u001B[49m\u001B[43m(\u001B[49m\u001B[38;5;28;43mcls\u001B[39;49m\u001B[38;5;241;43m.\u001B[39;49m\u001B[43mstatus\u001B[49m\u001B[43m \u001B[49m\u001B[38;5;241;43m==\u001B[39;49m\u001B[43m \u001B[49m\u001B[38;5;28;43mcls\u001B[39;49m\u001B[38;5;241;43m.\u001B[39;49m\u001B[43mconfig\u001B[49m\u001B[38;5;241;43m.\u001B[39;49m\u001B[43mpending_status\u001B[49m\u001B[43m)\u001B[49m\n\u001B[1;32m    814\u001B[0m \u001B[43m                \u001B[49m\u001B[38;5;241;43m|\u001B[39;49m\u001B[43m \u001B[49m\u001B[43m(\u001B[49m\u001B[38;5;28;43mcls\u001B[39;49m\u001B[38;5;241;43m.\u001B[39;49m\u001B[43mstatus\u001B[49m\u001B[43m \u001B[49m\u001B[38;5;241;43m==\u001B[39;49m\u001B[43m \u001B[49m\u001B[38;5;28;43mcls\u001B[39;49m\u001B[38;5;241;43m.\u001B[39;49m\u001B[43mconfig\u001B[49m\u001B[38;5;241;43m.\u001B[39;49m\u001B[43mfailed_status\u001B[49m\u001B[43m)\u001B[49m\n\u001B[1;32m    815\u001B[0m \u001B[43m            \u001B[49m\u001B[43m)\u001B[49m\n\u001B[1;32m    816\u001B[0m \u001B[43m        \u001B[49m\u001B[43m)\u001B[49m\u001B[43m,\u001B[49m\n\u001B[1;32m    817\u001B[0m \u001B[43m    \u001B[49m\u001B[43m)\u001B[49m\n\u001B[1;32m    818\u001B[0m \u001B[38;5;28;01mexcept\u001B[39;00m UpdateError \u001B[38;5;28;01mas\u001B[39;00m e:\n\u001B[1;32m    819\u001B[0m     \u001B[38;5;66;03m# print(f\"--- enter failed to get lock error handling logic ---\") # for debug only\u001B[39;00m\n\u001B[1;32m    820\u001B[0m     \u001B[38;5;66;03m# print(f\"{e.cause_response_code = }\") # for debug only\u001B[39;00m\n",
      "File \u001B[0;32m~/Documents/GitHub/pynamodb_mate-project/.venv/lib/python3.8/site-packages/pynamodb/models.py:436\u001B[0m, in \u001B[0;36mModel.update\u001B[0;34m(self, actions, condition, add_version_condition)\u001B[0m\n\u001B[1;32m    434\u001B[0m     condition \u001B[38;5;241m&\u001B[39m\u001B[38;5;241m=\u001B[39m version_condition\n\u001B[0;32m--> 436\u001B[0m data \u001B[38;5;241m=\u001B[39m \u001B[38;5;28;43mself\u001B[39;49m\u001B[38;5;241;43m.\u001B[39;49m\u001B[43m_get_connection\u001B[49m\u001B[43m(\u001B[49m\u001B[43m)\u001B[49m\u001B[38;5;241;43m.\u001B[39;49m\u001B[43mupdate_item\u001B[49m\u001B[43m(\u001B[49m\u001B[43mhk_value\u001B[49m\u001B[43m,\u001B[49m\u001B[43m \u001B[49m\u001B[43mrange_key\u001B[49m\u001B[38;5;241;43m=\u001B[39;49m\u001B[43mrk_value\u001B[49m\u001B[43m,\u001B[49m\u001B[43m \u001B[49m\u001B[43mreturn_values\u001B[49m\u001B[38;5;241;43m=\u001B[39;49m\u001B[43mALL_NEW\u001B[49m\u001B[43m,\u001B[49m\u001B[43m \u001B[49m\u001B[43mcondition\u001B[49m\u001B[38;5;241;43m=\u001B[39;49m\u001B[43mcondition\u001B[49m\u001B[43m,\u001B[49m\u001B[43m \u001B[49m\u001B[43mactions\u001B[49m\u001B[38;5;241;43m=\u001B[39;49m\u001B[43mactions\u001B[49m\u001B[43m)\u001B[49m\n\u001B[1;32m    437\u001B[0m item_data \u001B[38;5;241m=\u001B[39m data[ATTRIBUTES]\n",
      "File \u001B[0;32m~/Documents/GitHub/pynamodb_mate-project/.venv/lib/python3.8/site-packages/pynamodb/connection/table.py:122\u001B[0m, in \u001B[0;36mTableConnection.update_item\u001B[0;34m(self, hash_key, range_key, actions, condition, return_consumed_capacity, return_item_collection_metrics, return_values)\u001B[0m\n\u001B[1;32m    119\u001B[0m \u001B[38;5;250m\u001B[39m\u001B[38;5;124;03m\"\"\"\u001B[39;00m\n\u001B[1;32m    120\u001B[0m \u001B[38;5;124;03mPerforms the UpdateItem operation\u001B[39;00m\n\u001B[1;32m    121\u001B[0m \u001B[38;5;124;03m\"\"\"\u001B[39;00m\n\u001B[0;32m--> 122\u001B[0m \u001B[38;5;28;01mreturn\u001B[39;00m \u001B[38;5;28;43mself\u001B[39;49m\u001B[38;5;241;43m.\u001B[39;49m\u001B[43mconnection\u001B[49m\u001B[38;5;241;43m.\u001B[39;49m\u001B[43mupdate_item\u001B[49m\u001B[43m(\u001B[49m\n\u001B[1;32m    123\u001B[0m \u001B[43m    \u001B[49m\u001B[38;5;28;43mself\u001B[39;49m\u001B[38;5;241;43m.\u001B[39;49m\u001B[43mtable_name\u001B[49m\u001B[43m,\u001B[49m\n\u001B[1;32m    124\u001B[0m \u001B[43m    \u001B[49m\u001B[43mhash_key\u001B[49m\u001B[43m,\u001B[49m\n\u001B[1;32m    125\u001B[0m \u001B[43m    \u001B[49m\u001B[43mrange_key\u001B[49m\u001B[38;5;241;43m=\u001B[39;49m\u001B[43mrange_key\u001B[49m\u001B[43m,\u001B[49m\n\u001B[1;32m    126\u001B[0m \u001B[43m    \u001B[49m\u001B[43mactions\u001B[49m\u001B[38;5;241;43m=\u001B[39;49m\u001B[43mactions\u001B[49m\u001B[43m,\u001B[49m\n\u001B[1;32m    127\u001B[0m \u001B[43m    \u001B[49m\u001B[43mcondition\u001B[49m\u001B[38;5;241;43m=\u001B[39;49m\u001B[43mcondition\u001B[49m\u001B[43m,\u001B[49m\n\u001B[1;32m    128\u001B[0m \u001B[43m    \u001B[49m\u001B[43mreturn_consumed_capacity\u001B[49m\u001B[38;5;241;43m=\u001B[39;49m\u001B[43mreturn_consumed_capacity\u001B[49m\u001B[43m,\u001B[49m\n\u001B[1;32m    129\u001B[0m \u001B[43m    \u001B[49m\u001B[43mreturn_item_collection_metrics\u001B[49m\u001B[38;5;241;43m=\u001B[39;49m\u001B[43mreturn_item_collection_metrics\u001B[49m\u001B[43m,\u001B[49m\n\u001B[1;32m    130\u001B[0m \u001B[43m    \u001B[49m\u001B[43mreturn_values\u001B[49m\u001B[38;5;241;43m=\u001B[39;49m\u001B[43mreturn_values\u001B[49m\u001B[43m,\u001B[49m\n\u001B[1;32m    131\u001B[0m \u001B[43m\u001B[49m\u001B[43m)\u001B[49m\n",
      "File \u001B[0;32m~/Documents/GitHub/pynamodb_mate-project/.venv/lib/python3.8/site-packages/pynamodb/connection/base.py:880\u001B[0m, in \u001B[0;36mConnection.update_item\u001B[0;34m(self, table_name, hash_key, range_key, actions, condition, return_consumed_capacity, return_item_collection_metrics, return_values)\u001B[0m\n\u001B[1;32m    879\u001B[0m \u001B[38;5;28;01mexcept\u001B[39;00m BOTOCORE_EXCEPTIONS \u001B[38;5;28;01mas\u001B[39;00m e:\n\u001B[0;32m--> 880\u001B[0m     \u001B[38;5;28;01mraise\u001B[39;00m UpdateError(\u001B[38;5;124m\"\u001B[39m\u001B[38;5;124mFailed to update item: \u001B[39m\u001B[38;5;132;01m{}\u001B[39;00m\u001B[38;5;124m\"\u001B[39m\u001B[38;5;241m.\u001B[39mformat(e), e)\n",
      "\u001B[0;31mUpdateError\u001B[0m: Failed to update item: An error occurred (ConditionalCheckFailedException) on request (LEB989UQEEV5C4LJQ4V841FNV7VV4KQNSO5AEMVJF66Q9ASUAAJG) on table (pynamodb-mate-test-status-tracker) when calling the UpdateItem operation: The conditional request failed",
      "\nDuring handling of the above exception, another exception occurred:\n",
      "\u001B[0;31mTaskAlreadySucceedError\u001B[0m                   Traceback (most recent call last)",
      "Cell \u001B[0;32mIn[11], line 1\u001B[0m\n\u001B[0;32m----> 1\u001B[0m \u001B[38;5;28;01mwith\u001B[39;00m Step1\u001B[38;5;241m.\u001B[39mstart(task_id, detailed_error\u001B[38;5;241m=\u001B[39m\u001B[38;5;28;01mTrue\u001B[39;00m, debug\u001B[38;5;241m=\u001B[39m\u001B[38;5;28;01mFalse\u001B[39;00m) \u001B[38;5;28;01mas\u001B[39;00m exec_ctx:\n\u001B[1;32m      2\u001B[0m     \u001B[38;5;28;01mpass\u001B[39;00m\n",
      "File \u001B[0;32m~/.pyenv/versions/3.8.13/lib/python3.8/contextlib.py:113\u001B[0m, in \u001B[0;36m_GeneratorContextManager.__enter__\u001B[0;34m(self)\u001B[0m\n\u001B[1;32m    111\u001B[0m \u001B[38;5;28;01mdel\u001B[39;00m \u001B[38;5;28mself\u001B[39m\u001B[38;5;241m.\u001B[39margs, \u001B[38;5;28mself\u001B[39m\u001B[38;5;241m.\u001B[39mkwds, \u001B[38;5;28mself\u001B[39m\u001B[38;5;241m.\u001B[39mfunc\n\u001B[1;32m    112\u001B[0m \u001B[38;5;28;01mtry\u001B[39;00m:\n\u001B[0;32m--> 113\u001B[0m     \u001B[38;5;28;01mreturn\u001B[39;00m \u001B[38;5;28;43mnext\u001B[39;49m\u001B[43m(\u001B[49m\u001B[38;5;28;43mself\u001B[39;49m\u001B[38;5;241;43m.\u001B[39;49m\u001B[43mgen\u001B[49m\u001B[43m)\u001B[49m\n\u001B[1;32m    114\u001B[0m \u001B[38;5;28;01mexcept\u001B[39;00m \u001B[38;5;167;01mStopIteration\u001B[39;00m:\n\u001B[1;32m    115\u001B[0m     \u001B[38;5;28;01mraise\u001B[39;00m \u001B[38;5;167;01mRuntimeError\u001B[39;00m(\u001B[38;5;124m\"\u001B[39m\u001B[38;5;124mgenerator didn\u001B[39m\u001B[38;5;124m'\u001B[39m\u001B[38;5;124mt yield\u001B[39m\u001B[38;5;124m\"\u001B[39m) \u001B[38;5;28;01mfrom\u001B[39;00m \u001B[38;5;28;01mNone\u001B[39;00m\n",
      "File \u001B[0;32m~/Documents/GitHub/pynamodb_mate-project/pynamodb_mate/patterns/status_tracker/impl.py:884\u001B[0m, in \u001B[0;36mBaseTask.start\u001B[0;34m(cls, task_id, detailed_error, debug)\u001B[0m\n\u001B[1;32m    875\u001B[0m     \u001B[38;5;28;01mif\u001B[39;00m debug:  \u001B[38;5;66;03m# pragma: no cover\u001B[39;00m\n\u001B[1;32m    876\u001B[0m         \u001B[38;5;28mprint\u001B[39m(\n\u001B[1;32m    877\u001B[0m             \u001B[38;5;124m\"\u001B[39m\u001B[38;5;132;01m{msg:-^120}\u001B[39;00m\u001B[38;5;124m\"\u001B[39m\u001B[38;5;241m.\u001B[39mformat(\n\u001B[1;32m    878\u001B[0m                 msg\u001B[38;5;241m=\u001B[39m\u001B[38;5;124m\"\u001B[39m\u001B[38;5;124m ⏹️ end Task(\u001B[39m\u001B[38;5;132;01m{}\u001B[39;00m\u001B[38;5;124m, \u001B[39m\u001B[38;5;132;01m{}\u001B[39;00m\u001B[38;5;124m)\u001B[39m\u001B[38;5;124m\"\u001B[39m\u001B[38;5;241m.\u001B[39mformat(\n\u001B[0;32m   (...)\u001B[0m\n\u001B[1;32m    882\u001B[0m             )\n\u001B[1;32m    883\u001B[0m         )\n\u001B[0;32m--> 884\u001B[0m     \u001B[38;5;28;01mraise\u001B[39;00m error\n\u001B[1;32m    886\u001B[0m \u001B[38;5;66;03m# See: https://boto3.amazonaws.com/v1/documentation/api/latest/reference/services/dynamodb/client/update_item.html\u001B[39;00m\n\u001B[1;32m    887\u001B[0m \u001B[38;5;66;03m# to know about response of the update_item API\u001B[39;00m\n\u001B[1;32m    888\u001B[0m task_updated \u001B[38;5;241m=\u001B[39m \u001B[38;5;28mcls\u001B[39m\u001B[38;5;241m.\u001B[39mfrom_raw_data(res[\u001B[38;5;124m\"\u001B[39m\u001B[38;5;124mAttributes\u001B[39m\u001B[38;5;124m\"\u001B[39m])\n",
      "\u001B[0;31mTaskAlreadySucceedError\u001B[0m: Task(use_case_id='test', task_id='t-1') is already succeeded."
     ]
    }
   ],
   "source": [
    "with Step1.start(task_id, detailed_error=True, debug=False) as exec_ctx:\n",
    "    pass"
   ]
  },
  {
   "cell_type": "markdown",
   "metadata": {
    "collapsed": false
   },
   "source": [
    "## Start an Execution to try Step 2\n",
    "\n",
    "This time we will continue on step 2. Before we start the execution, let's take a look at the current status of the task. This is not necessary, it is just for demonstration purposes."
   ]
  },
  {
   "cell_type": "code",
   "execution_count": 12,
   "metadata": {
    "ExecuteTime": {
     "end_time": "2024-05-23T05:11:06.251508Z",
     "start_time": "2024-05-23T05:11:06.225792Z"
    },
    "collapsed": false
   },
   "outputs": [
    {
     "data": {
      "text/html": [
       "<pre style=\"white-space:pre;overflow-x:auto;line-height:normal;font-family:Menlo,'DejaVu Sans Mono',consolas,'Courier New',monospace\"><span style=\"font-weight: bold\">{</span>\n",
       "    <span style=\"color: #008000; text-decoration-color: #008000\">'create_time'</span>: <span style=\"color: #800080; text-decoration-color: #800080; font-weight: bold\">datetime.datetime</span><span style=\"font-weight: bold\">(</span><span style=\"color: #008080; text-decoration-color: #008080; font-weight: bold\">2024</span>, <span style=\"color: #008080; text-decoration-color: #008080; font-weight: bold\">5</span>, <span style=\"color: #008080; text-decoration-color: #008080; font-weight: bold\">23</span>, <span style=\"color: #008080; text-decoration-color: #008080; font-weight: bold\">6</span>, <span style=\"color: #008080; text-decoration-color: #008080; font-weight: bold\">7</span>, <span style=\"color: #008080; text-decoration-color: #008080; font-weight: bold\">26</span>, <span style=\"color: #008080; text-decoration-color: #008080; font-weight: bold\">444861</span>, <span style=\"color: #808000; text-decoration-color: #808000\">tzinfo</span>=<span style=\"color: #800080; text-decoration-color: #800080\">datetime</span>.timezone.utc<span style=\"font-weight: bold\">)</span>,\n",
       "    <span style=\"color: #008000; text-decoration-color: #008000\">'data'</span>: <span style=\"font-weight: bold\">{</span><span style=\"color: #008000; text-decoration-color: #008000\">'version'</span>: <span style=\"color: #008080; text-decoration-color: #008080; font-weight: bold\">1</span><span style=\"font-weight: bold\">}</span>,\n",
       "    <span style=\"color: #008000; text-decoration-color: #008000\">'errors'</span>: <span style=\"font-weight: bold\">{</span><span style=\"color: #008000; text-decoration-color: #008000\">'history'</span>: <span style=\"font-weight: bold\">[]}</span>,\n",
       "    <span style=\"color: #008000; text-decoration-color: #008000\">'lock'</span>: <span style=\"color: #008000; text-decoration-color: #008000\">'__not_locked__'</span>,\n",
       "    <span style=\"color: #008000; text-decoration-color: #008000\">'lock_time'</span>: <span style=\"color: #800080; text-decoration-color: #800080; font-weight: bold\">datetime.datetime</span><span style=\"font-weight: bold\">(</span><span style=\"color: #008080; text-decoration-color: #008080; font-weight: bold\">2024</span>, <span style=\"color: #008080; text-decoration-color: #008080; font-weight: bold\">5</span>, <span style=\"color: #008080; text-decoration-color: #008080; font-weight: bold\">23</span>, <span style=\"color: #008080; text-decoration-color: #008080; font-weight: bold\">6</span>, <span style=\"color: #008080; text-decoration-color: #008080; font-weight: bold\">7</span>, <span style=\"color: #008080; text-decoration-color: #008080; font-weight: bold\">50</span>, <span style=\"color: #008080; text-decoration-color: #008080; font-weight: bold\">888783</span>, <span style=\"color: #808000; text-decoration-color: #808000\">tzinfo</span>=<span style=\"color: #800080; text-decoration-color: #800080\">datetime</span>.timezone.utc<span style=\"font-weight: bold\">)</span>,\n",
       "    <span style=\"color: #008000; text-decoration-color: #008000\">'retry'</span>: <span style=\"color: #008080; text-decoration-color: #008080; font-weight: bold\">0</span>,\n",
       "    <span style=\"color: #008000; text-decoration-color: #008000\">'update_time'</span>: <span style=\"color: #800080; text-decoration-color: #800080; font-weight: bold\">datetime.datetime</span><span style=\"font-weight: bold\">(</span><span style=\"color: #008080; text-decoration-color: #008080; font-weight: bold\">2024</span>, <span style=\"color: #008080; text-decoration-color: #008080; font-weight: bold\">5</span>, <span style=\"color: #008080; text-decoration-color: #008080; font-weight: bold\">23</span>, <span style=\"color: #008080; text-decoration-color: #008080; font-weight: bold\">6</span>, <span style=\"color: #008080; text-decoration-color: #008080; font-weight: bold\">7</span>, <span style=\"color: #008080; text-decoration-color: #008080; font-weight: bold\">50</span>, <span style=\"color: #008080; text-decoration-color: #008080; font-weight: bold\">917536</span>, <span style=\"color: #808000; text-decoration-color: #808000\">tzinfo</span>=<span style=\"color: #800080; text-decoration-color: #800080\">datetime</span>.timezone.utc<span style=\"font-weight: bold\">)</span>,\n",
       "    <span style=\"color: #008000; text-decoration-color: #008000\">'key'</span>: <span style=\"color: #008000; text-decoration-color: #008000\">'test____t-1'</span>,\n",
       "    <span style=\"color: #008000; text-decoration-color: #008000\">'status'</span>: <span style=\"color: #008080; text-decoration-color: #008080; font-weight: bold\">40</span>,\n",
       "    <span style=\"color: #008000; text-decoration-color: #008000\">'value'</span>: <span style=\"color: #008000; text-decoration-color: #008000\">'test____040____002'</span>\n",
       "<span style=\"font-weight: bold\">}</span>\n",
       "</pre>\n"
      ],
      "text/plain": [
       "\u001B[1m{\u001B[0m\n",
       "    \u001B[32m'create_time'\u001B[0m: \u001B[1;35mdatetime.datetime\u001B[0m\u001B[1m(\u001B[0m\u001B[1;36m2024\u001B[0m, \u001B[1;36m5\u001B[0m, \u001B[1;36m23\u001B[0m, \u001B[1;36m6\u001B[0m, \u001B[1;36m7\u001B[0m, \u001B[1;36m26\u001B[0m, \u001B[1;36m444861\u001B[0m, \u001B[33mtzinfo\u001B[0m=\u001B[35mdatetime\u001B[0m.timezone.utc\u001B[1m)\u001B[0m,\n",
       "    \u001B[32m'data'\u001B[0m: \u001B[1m{\u001B[0m\u001B[32m'version'\u001B[0m: \u001B[1;36m1\u001B[0m\u001B[1m}\u001B[0m,\n",
       "    \u001B[32m'errors'\u001B[0m: \u001B[1m{\u001B[0m\u001B[32m'history'\u001B[0m: \u001B[1m[\u001B[0m\u001B[1m]\u001B[0m\u001B[1m}\u001B[0m,\n",
       "    \u001B[32m'lock'\u001B[0m: \u001B[32m'__not_locked__'\u001B[0m,\n",
       "    \u001B[32m'lock_time'\u001B[0m: \u001B[1;35mdatetime.datetime\u001B[0m\u001B[1m(\u001B[0m\u001B[1;36m2024\u001B[0m, \u001B[1;36m5\u001B[0m, \u001B[1;36m23\u001B[0m, \u001B[1;36m6\u001B[0m, \u001B[1;36m7\u001B[0m, \u001B[1;36m50\u001B[0m, \u001B[1;36m888783\u001B[0m, \u001B[33mtzinfo\u001B[0m=\u001B[35mdatetime\u001B[0m.timezone.utc\u001B[1m)\u001B[0m,\n",
       "    \u001B[32m'retry'\u001B[0m: \u001B[1;36m0\u001B[0m,\n",
       "    \u001B[32m'update_time'\u001B[0m: \u001B[1;35mdatetime.datetime\u001B[0m\u001B[1m(\u001B[0m\u001B[1;36m2024\u001B[0m, \u001B[1;36m5\u001B[0m, \u001B[1;36m23\u001B[0m, \u001B[1;36m6\u001B[0m, \u001B[1;36m7\u001B[0m, \u001B[1;36m50\u001B[0m, \u001B[1;36m917536\u001B[0m, \u001B[33mtzinfo\u001B[0m=\u001B[35mdatetime\u001B[0m.timezone.utc\u001B[1m)\u001B[0m,\n",
       "    \u001B[32m'key'\u001B[0m: \u001B[32m'test____t-1'\u001B[0m,\n",
       "    \u001B[32m'status'\u001B[0m: \u001B[1;36m40\u001B[0m,\n",
       "    \u001B[32m'value'\u001B[0m: \u001B[32m'test____040____002'\u001B[0m\n",
       "\u001B[1m}\u001B[0m\n"
      ]
     },
     "metadata": {},
     "output_type": "display_data"
    },
    {
     "name": "stdout",
     "output_type": "stream",
     "text": [
      "step2.status_name = 'pending'\n",
      "step2.is_locked() = False\n"
     ]
    }
   ],
   "source": [
    "step2 = Step2.get_one_or_none(task_id=task_id)\n",
    "rprint(step2.to_dict())\n",
    "print(f\"{step2.status_name = }\")\n",
    "print(f\"{step2.is_locked() = }\")"
   ]
  },
  {
   "cell_type": "markdown",
   "metadata": {
    "collapsed": false
   },
   "source": [
    "Now, let's start the execution. We would like to manually raise an exception to simulate a failure. In this example, the application code set the data to ``{\"version\": 2}`` and then raise a ``UserError``. Since the task is failed, the updates will not be saved to DynamoDB."
   ]
  },
  {
   "cell_type": "code",
   "execution_count": 13,
   "metadata": {
    "ExecuteTime": {
     "end_time": "2024-05-23T05:11:06.582657Z",
     "start_time": "2024-05-23T05:11:06.524500Z"
    },
    "collapsed": false
   },
   "outputs": [
    {
     "name": "stdout",
     "output_type": "stream",
     "text": [
      "----------------------------------- ▶️ start Task(use_case_id='test', task_id='t-1'))-----------------------------------\n",
      "🔓 set status 'in_progress' and lock the task.\n",
      "❌ 🔐 task failed, set stats 'failed' and unlock the task.\n",
      "---------------------- ⏹️ end Task(use_case_id='test', task_id='t-1'), status=80)) (aka 'failed')-----------------------\n"
     ]
    },
    {
     "ename": "UserError",
     "evalue": "something is wrong!",
     "output_type": "error",
     "traceback": [
      "\u001B[0;31m---------------------------------------------------------------------------\u001B[0m",
      "\u001B[0;31mUserError\u001B[0m                                 Traceback (most recent call last)",
      "Cell \u001B[0;32mIn[13], line 6\u001B[0m\n\u001B[1;32m      4\u001B[0m \u001B[38;5;28;01mwith\u001B[39;00m Step2\u001B[38;5;241m.\u001B[39mstart(task_id, debug\u001B[38;5;241m=\u001B[39m\u001B[38;5;28;01mTrue\u001B[39;00m) \u001B[38;5;28;01mas\u001B[39;00m exec_ctx:\n\u001B[1;32m      5\u001B[0m     exec_ctx\u001B[38;5;241m.\u001B[39mset_data({\u001B[38;5;124m\"\u001B[39m\u001B[38;5;124mversion\u001B[39m\u001B[38;5;124m\"\u001B[39m: \u001B[38;5;241m2\u001B[39m})\n\u001B[0;32m----> 6\u001B[0m     \u001B[38;5;28;01mraise\u001B[39;00m UserError(\u001B[38;5;124m\"\u001B[39m\u001B[38;5;124msomething is wrong!\u001B[39m\u001B[38;5;124m\"\u001B[39m)\n",
      "\u001B[0;31mUserError\u001B[0m: something is wrong!"
     ]
    }
   ],
   "source": [
    "class UserError(Exception):\n",
    "    pass\n",
    "\n",
    "with Step2.start(task_id, debug=True) as exec_ctx:\n",
    "    exec_ctx.set_data({\"version\": 2})\n",
    "    raise UserError(\"something is wrong!\")"
   ]
  },
  {
   "cell_type": "code",
   "execution_count": 14,
   "metadata": {
    "ExecuteTime": {
     "end_time": "2024-05-23T05:11:07.239607Z",
     "start_time": "2024-05-23T05:11:07.168708Z"
    },
    "collapsed": false
   },
   "outputs": [
    {
     "data": {
      "text/html": [
       "<pre style=\"white-space:pre;overflow-x:auto;line-height:normal;font-family:Menlo,'DejaVu Sans Mono',consolas,'Courier New',monospace\"><span style=\"font-weight: bold\">{</span>\n",
       "    <span style=\"color: #008000; text-decoration-color: #008000\">'create_time'</span>: <span style=\"color: #800080; text-decoration-color: #800080; font-weight: bold\">datetime.datetime</span><span style=\"font-weight: bold\">(</span><span style=\"color: #008080; text-decoration-color: #008080; font-weight: bold\">2024</span>, <span style=\"color: #008080; text-decoration-color: #008080; font-weight: bold\">5</span>, <span style=\"color: #008080; text-decoration-color: #008080; font-weight: bold\">23</span>, <span style=\"color: #008080; text-decoration-color: #008080; font-weight: bold\">6</span>, <span style=\"color: #008080; text-decoration-color: #008080; font-weight: bold\">7</span>, <span style=\"color: #008080; text-decoration-color: #008080; font-weight: bold\">26</span>, <span style=\"color: #008080; text-decoration-color: #008080; font-weight: bold\">444861</span>, <span style=\"color: #808000; text-decoration-color: #808000\">tzinfo</span>=<span style=\"color: #800080; text-decoration-color: #800080\">datetime</span>.timezone.utc<span style=\"font-weight: bold\">)</span>,\n",
       "    <span style=\"color: #008000; text-decoration-color: #008000\">'data'</span>: <span style=\"font-weight: bold\">{</span><span style=\"color: #008000; text-decoration-color: #008000\">'version'</span>: <span style=\"color: #008080; text-decoration-color: #008080; font-weight: bold\">1</span><span style=\"font-weight: bold\">}</span>,\n",
       "    <span style=\"color: #008000; text-decoration-color: #008000\">'errors'</span>: <span style=\"font-weight: bold\">{</span>\n",
       "        <span style=\"color: #008000; text-decoration-color: #008000\">'history'</span>: <span style=\"font-weight: bold\">[</span>\n",
       "            <span style=\"font-weight: bold\">{</span>\n",
       "                <span style=\"color: #008000; text-decoration-color: #008000\">'nth_retry'</span>: <span style=\"color: #008080; text-decoration-color: #008080; font-weight: bold\">1</span>,\n",
       "                <span style=\"color: #008000; text-decoration-color: #008000\">'update_time'</span>: <span style=\"color: #008000; text-decoration-color: #008000\">'2024-05-23T06:08:31.852076+00:00'</span>,\n",
       "                <span style=\"color: #008000; text-decoration-color: #008000\">'error'</span>: <span style=\"color: #008000; text-decoration-color: #008000\">\"UserError('something is wrong!')\"</span>,\n",
       "                <span style=\"color: #008000; text-decoration-color: #008000\">'traceback'</span>: <span style=\"color: #008000; text-decoration-color: #008000\">'Traceback (most recent call last):\\n  File </span>\n",
       "<span style=\"color: #008000; text-decoration-color: #008000\">\"/Users/sanhehu/Documents/GitHub/pynamodb_mate-project/pynamodb_mate/patterns/status_tracker/impl.py\", line 894, in</span>\n",
       "<span style=\"color: #008000; text-decoration-color: #008000\">start\\n    yield execution_context\\n  File </span>\n",
       "<span style=\"color: #008000; text-decoration-color: #008000\">\"/var/folders/bl/vkmgjdsx5115w2xcnp67_8y40000gn/T/ipykernel_15901/2198718045.py\", line 6, in &lt;module&gt;\\n    raise </span>\n",
       "<span style=\"color: #008000; text-decoration-color: #008000\">UserError(\"something is wrong!\")\\nUserError: something is wrong!\\n'</span>\n",
       "            <span style=\"font-weight: bold\">}</span>\n",
       "        <span style=\"font-weight: bold\">]</span>\n",
       "    <span style=\"font-weight: bold\">}</span>,\n",
       "    <span style=\"color: #008000; text-decoration-color: #008000\">'lock'</span>: <span style=\"color: #008000; text-decoration-color: #008000\">'__not_locked__'</span>,\n",
       "    <span style=\"color: #008000; text-decoration-color: #008000\">'lock_time'</span>: <span style=\"color: #800080; text-decoration-color: #800080; font-weight: bold\">datetime.datetime</span><span style=\"font-weight: bold\">(</span><span style=\"color: #008080; text-decoration-color: #008080; font-weight: bold\">2024</span>, <span style=\"color: #008080; text-decoration-color: #008080; font-weight: bold\">5</span>, <span style=\"color: #008080; text-decoration-color: #008080; font-weight: bold\">23</span>, <span style=\"color: #008080; text-decoration-color: #008080; font-weight: bold\">6</span>, <span style=\"color: #008080; text-decoration-color: #008080; font-weight: bold\">8</span>, <span style=\"color: #008080; text-decoration-color: #008080; font-weight: bold\">31</span>, <span style=\"color: #008080; text-decoration-color: #008080; font-weight: bold\">826446</span>, <span style=\"color: #808000; text-decoration-color: #808000\">tzinfo</span>=<span style=\"color: #800080; text-decoration-color: #800080\">datetime</span>.timezone.utc<span style=\"font-weight: bold\">)</span>,\n",
       "    <span style=\"color: #008000; text-decoration-color: #008000\">'retry'</span>: <span style=\"color: #008080; text-decoration-color: #008080; font-weight: bold\">1</span>,\n",
       "    <span style=\"color: #008000; text-decoration-color: #008000\">'update_time'</span>: <span style=\"color: #800080; text-decoration-color: #800080; font-weight: bold\">datetime.datetime</span><span style=\"font-weight: bold\">(</span><span style=\"color: #008080; text-decoration-color: #008080; font-weight: bold\">2024</span>, <span style=\"color: #008080; text-decoration-color: #008080; font-weight: bold\">5</span>, <span style=\"color: #008080; text-decoration-color: #008080; font-weight: bold\">23</span>, <span style=\"color: #008080; text-decoration-color: #008080; font-weight: bold\">6</span>, <span style=\"color: #008080; text-decoration-color: #008080; font-weight: bold\">8</span>, <span style=\"color: #008080; text-decoration-color: #008080; font-weight: bold\">31</span>, <span style=\"color: #008080; text-decoration-color: #008080; font-weight: bold\">852076</span>, <span style=\"color: #808000; text-decoration-color: #808000\">tzinfo</span>=<span style=\"color: #800080; text-decoration-color: #800080\">datetime</span>.timezone.utc<span style=\"font-weight: bold\">)</span>,\n",
       "    <span style=\"color: #008000; text-decoration-color: #008000\">'key'</span>: <span style=\"color: #008000; text-decoration-color: #008000\">'test____t-1'</span>,\n",
       "    <span style=\"color: #008000; text-decoration-color: #008000\">'status'</span>: <span style=\"color: #008080; text-decoration-color: #008080; font-weight: bold\">80</span>,\n",
       "    <span style=\"color: #008000; text-decoration-color: #008000\">'value'</span>: <span style=\"color: #008000; text-decoration-color: #008000\">'test____080____002'</span>\n",
       "<span style=\"font-weight: bold\">}</span>\n",
       "</pre>\n"
      ],
      "text/plain": [
       "\u001B[1m{\u001B[0m\n",
       "    \u001B[32m'create_time'\u001B[0m: \u001B[1;35mdatetime.datetime\u001B[0m\u001B[1m(\u001B[0m\u001B[1;36m2024\u001B[0m, \u001B[1;36m5\u001B[0m, \u001B[1;36m23\u001B[0m, \u001B[1;36m6\u001B[0m, \u001B[1;36m7\u001B[0m, \u001B[1;36m26\u001B[0m, \u001B[1;36m444861\u001B[0m, \u001B[33mtzinfo\u001B[0m=\u001B[35mdatetime\u001B[0m.timezone.utc\u001B[1m)\u001B[0m,\n",
       "    \u001B[32m'data'\u001B[0m: \u001B[1m{\u001B[0m\u001B[32m'version'\u001B[0m: \u001B[1;36m1\u001B[0m\u001B[1m}\u001B[0m,\n",
       "    \u001B[32m'errors'\u001B[0m: \u001B[1m{\u001B[0m\n",
       "        \u001B[32m'history'\u001B[0m: \u001B[1m[\u001B[0m\n",
       "            \u001B[1m{\u001B[0m\n",
       "                \u001B[32m'nth_retry'\u001B[0m: \u001B[1;36m1\u001B[0m,\n",
       "                \u001B[32m'update_time'\u001B[0m: \u001B[32m'2024-05-23T06:08:31.852076+00:00'\u001B[0m,\n",
       "                \u001B[32m'error'\u001B[0m: \u001B[32m\"UserError\u001B[0m\u001B[32m(\u001B[0m\u001B[32m'something is wrong!'\u001B[0m\u001B[32m)\u001B[0m\u001B[32m\"\u001B[0m,\n",
       "                \u001B[32m'traceback'\u001B[0m: \u001B[32m'Traceback \u001B[0m\u001B[32m(\u001B[0m\u001B[32mmost recent call last\u001B[0m\u001B[32m)\u001B[0m\u001B[32m:\\n  File \u001B[0m\n",
       "\u001B[32m\"/Users/sanhehu/Documents/GitHub/pynamodb_mate-project/pynamodb_mate/patterns/status_tracker/impl.py\", line 894, in\u001B[0m\n",
       "\u001B[32mstart\\n    yield execution_context\\n  File \u001B[0m\n",
       "\u001B[32m\"/var/folders/bl/vkmgjdsx5115w2xcnp67_8y40000gn/T/ipykernel_15901/2198718045.py\", line 6, in \u001B[0m\u001B[32m<\u001B[0m\u001B[32mmodule\u001B[0m\u001B[32m>\u001B[0m\u001B[32m\\n    raise \u001B[0m\n",
       "\u001B[32mUserError\u001B[0m\u001B[32m(\u001B[0m\u001B[32m\"something is wrong!\"\u001B[0m\u001B[32m)\u001B[0m\u001B[32m\\nUserError: something is wrong!\\n'\u001B[0m\n",
       "            \u001B[1m}\u001B[0m\n",
       "        \u001B[1m]\u001B[0m\n",
       "    \u001B[1m}\u001B[0m,\n",
       "    \u001B[32m'lock'\u001B[0m: \u001B[32m'__not_locked__'\u001B[0m,\n",
       "    \u001B[32m'lock_time'\u001B[0m: \u001B[1;35mdatetime.datetime\u001B[0m\u001B[1m(\u001B[0m\u001B[1;36m2024\u001B[0m, \u001B[1;36m5\u001B[0m, \u001B[1;36m23\u001B[0m, \u001B[1;36m6\u001B[0m, \u001B[1;36m8\u001B[0m, \u001B[1;36m31\u001B[0m, \u001B[1;36m826446\u001B[0m, \u001B[33mtzinfo\u001B[0m=\u001B[35mdatetime\u001B[0m.timezone.utc\u001B[1m)\u001B[0m,\n",
       "    \u001B[32m'retry'\u001B[0m: \u001B[1;36m1\u001B[0m,\n",
       "    \u001B[32m'update_time'\u001B[0m: \u001B[1;35mdatetime.datetime\u001B[0m\u001B[1m(\u001B[0m\u001B[1;36m2024\u001B[0m, \u001B[1;36m5\u001B[0m, \u001B[1;36m23\u001B[0m, \u001B[1;36m6\u001B[0m, \u001B[1;36m8\u001B[0m, \u001B[1;36m31\u001B[0m, \u001B[1;36m852076\u001B[0m, \u001B[33mtzinfo\u001B[0m=\u001B[35mdatetime\u001B[0m.timezone.utc\u001B[1m)\u001B[0m,\n",
       "    \u001B[32m'key'\u001B[0m: \u001B[32m'test____t-1'\u001B[0m,\n",
       "    \u001B[32m'status'\u001B[0m: \u001B[1;36m80\u001B[0m,\n",
       "    \u001B[32m'value'\u001B[0m: \u001B[32m'test____080____002'\u001B[0m\n",
       "\u001B[1m}\u001B[0m\n"
      ]
     },
     "metadata": {},
     "output_type": "display_data"
    },
    {
     "name": "stdout",
     "output_type": "stream",
     "text": [
      "step2.status_name = 'failed'\n",
      "step2.is_locked() = False\n"
     ]
    }
   ],
   "source": [
    "step2 = Step2.get_one_or_none(task_id=task_id)\n",
    "rprint(step2.to_dict())\n",
    "print(f\"{step2.status_name = }\")\n",
    "print(f\"{step2.is_locked() = }\")"
   ]
  },
  {
   "cell_type": "markdown",
   "metadata": {
    "collapsed": false
   },
   "source": [
    "If you really want to save the intermediate data to DynamoDB before the execution is done, you can use the ``exec_ctx.update()`` method."
   ]
  },
  {
   "cell_type": "code",
   "execution_count": 15,
   "metadata": {
    "ExecuteTime": {
     "end_time": "2024-05-23T05:11:07.315331Z",
     "start_time": "2024-05-23T05:11:07.233793Z"
    },
    "collapsed": false
   },
   "outputs": [
    {
     "name": "stdout",
     "output_type": "stream",
     "text": [
      "----------------------------------- ▶️ start Task(use_case_id='test', task_id='t-1'))-----------------------------------\n",
      "🔓 set status 'in_progress' and lock the task.\n",
      "❌ 🔐 task failed, set stats 'failed' and unlock the task.\n",
      "-------------------- ⏹️ end Task(use_case_id='test', task_id='t-1'), status=70)) (aka 'in_progress')--------------------\n"
     ]
    },
    {
     "ename": "UserError",
     "evalue": "something is wrong!",
     "output_type": "error",
     "traceback": [
      "\u001B[0;31m---------------------------------------------------------------------------\u001B[0m",
      "\u001B[0;31mUserError\u001B[0m                                 Traceback (most recent call last)",
      "Cell \u001B[0;32mIn[15], line 4\u001B[0m\n\u001B[1;32m      2\u001B[0m exec_ctx\u001B[38;5;241m.\u001B[39mset_data({\u001B[38;5;124m\"\u001B[39m\u001B[38;5;124mversion\u001B[39m\u001B[38;5;124m\"\u001B[39m: \u001B[38;5;241m2\u001B[39m})\n\u001B[1;32m      3\u001B[0m exec_ctx\u001B[38;5;241m.\u001B[39mupdate()\n\u001B[0;32m----> 4\u001B[0m \u001B[38;5;28;01mraise\u001B[39;00m UserError(\u001B[38;5;124m\"\u001B[39m\u001B[38;5;124msomething is wrong!\u001B[39m\u001B[38;5;124m\"\u001B[39m)\n",
      "\u001B[0;31mUserError\u001B[0m: something is wrong!"
     ]
    }
   ],
   "source": [
    "with Step2.start(task_id, debug=True) as exec_ctx:\n",
    "    exec_ctx.set_data({\"version\": 2})\n",
    "    exec_ctx.update()\n",
    "    raise UserError(\"something is wrong!\")"
   ]
  },
  {
   "cell_type": "code",
   "execution_count": 16,
   "metadata": {
    "ExecuteTime": {
     "start_time": "2024-05-23T05:11:07.296935Z"
    },
    "collapsed": false
   },
   "outputs": [
    {
     "data": {
      "text/html": [
       "<pre style=\"white-space:pre;overflow-x:auto;line-height:normal;font-family:Menlo,'DejaVu Sans Mono',consolas,'Courier New',monospace\"><span style=\"font-weight: bold\">{</span>\n",
       "    <span style=\"color: #008000; text-decoration-color: #008000\">'create_time'</span>: <span style=\"color: #800080; text-decoration-color: #800080; font-weight: bold\">datetime.datetime</span><span style=\"font-weight: bold\">(</span><span style=\"color: #008080; text-decoration-color: #008080; font-weight: bold\">2024</span>, <span style=\"color: #008080; text-decoration-color: #008080; font-weight: bold\">5</span>, <span style=\"color: #008080; text-decoration-color: #008080; font-weight: bold\">23</span>, <span style=\"color: #008080; text-decoration-color: #008080; font-weight: bold\">6</span>, <span style=\"color: #008080; text-decoration-color: #008080; font-weight: bold\">7</span>, <span style=\"color: #008080; text-decoration-color: #008080; font-weight: bold\">26</span>, <span style=\"color: #008080; text-decoration-color: #008080; font-weight: bold\">444861</span>, <span style=\"color: #808000; text-decoration-color: #808000\">tzinfo</span>=<span style=\"color: #800080; text-decoration-color: #800080\">datetime</span>.timezone.utc<span style=\"font-weight: bold\">)</span>,\n",
       "    <span style=\"color: #008000; text-decoration-color: #008000\">'data'</span>: <span style=\"font-weight: bold\">{</span><span style=\"color: #008000; text-decoration-color: #008000\">'version'</span>: <span style=\"color: #008080; text-decoration-color: #008080; font-weight: bold\">2</span><span style=\"font-weight: bold\">}</span>,\n",
       "    <span style=\"color: #008000; text-decoration-color: #008000\">'errors'</span>: <span style=\"font-weight: bold\">{</span>\n",
       "        <span style=\"color: #008000; text-decoration-color: #008000\">'history'</span>: <span style=\"font-weight: bold\">[</span>\n",
       "            <span style=\"font-weight: bold\">{</span>\n",
       "                <span style=\"color: #008000; text-decoration-color: #008000\">'nth_retry'</span>: <span style=\"color: #008080; text-decoration-color: #008080; font-weight: bold\">1</span>,\n",
       "                <span style=\"color: #008000; text-decoration-color: #008000\">'update_time'</span>: <span style=\"color: #008000; text-decoration-color: #008000\">'2024-05-23T06:08:31.852076+00:00'</span>,\n",
       "                <span style=\"color: #008000; text-decoration-color: #008000\">'error'</span>: <span style=\"color: #008000; text-decoration-color: #008000\">\"UserError('something is wrong!')\"</span>,\n",
       "                <span style=\"color: #008000; text-decoration-color: #008000\">'traceback'</span>: <span style=\"color: #008000; text-decoration-color: #008000\">'Traceback (most recent call last):\\n  File </span>\n",
       "<span style=\"color: #008000; text-decoration-color: #008000\">\"/Users/sanhehu/Documents/GitHub/pynamodb_mate-project/pynamodb_mate/patterns/status_tracker/impl.py\", line 894, in</span>\n",
       "<span style=\"color: #008000; text-decoration-color: #008000\">start\\n    yield execution_context\\n  File </span>\n",
       "<span style=\"color: #008000; text-decoration-color: #008000\">\"/var/folders/bl/vkmgjdsx5115w2xcnp67_8y40000gn/T/ipykernel_15901/2198718045.py\", line 6, in &lt;module&gt;\\n    raise </span>\n",
       "<span style=\"color: #008000; text-decoration-color: #008000\">UserError(\"something is wrong!\")\\nUserError: something is wrong!\\n'</span>\n",
       "<span style=\"color: #000000; text-decoration-color: #000000\">            </span><span style=\"color: #000000; text-decoration-color: #000000; font-weight: bold\">}</span><span style=\"color: #000000; text-decoration-color: #000000\">,</span>\n",
       "<span style=\"color: #000000; text-decoration-color: #000000\">            </span><span style=\"color: #000000; text-decoration-color: #000000; font-weight: bold\">{</span>\n",
       "<span style=\"color: #000000; text-decoration-color: #000000\">                </span><span style=\"color: #008000; text-decoration-color: #008000\">'nth_retry'</span><span style=\"color: #000000; text-decoration-color: #000000\">: </span><span style=\"color: #008080; text-decoration-color: #008080; font-weight: bold\">2</span><span style=\"color: #000000; text-decoration-color: #000000\">,</span>\n",
       "<span style=\"color: #000000; text-decoration-color: #000000\">                </span><span style=\"color: #008000; text-decoration-color: #008000\">'update_time'</span><span style=\"color: #000000; text-decoration-color: #000000\">: </span><span style=\"color: #008000; text-decoration-color: #008000\">'2024-05-23T06:08:41.562681+00:00'</span><span style=\"color: #000000; text-decoration-color: #000000\">,</span>\n",
       "<span style=\"color: #000000; text-decoration-color: #000000\">                </span><span style=\"color: #008000; text-decoration-color: #008000\">'error'</span><span style=\"color: #000000; text-decoration-color: #000000\">: </span><span style=\"color: #008000; text-decoration-color: #008000\">\"UserError('something is wrong!')\"</span><span style=\"color: #000000; text-decoration-color: #000000\">,</span>\n",
       "<span style=\"color: #000000; text-decoration-color: #000000\">                </span><span style=\"color: #008000; text-decoration-color: #008000\">'traceback'</span><span style=\"color: #000000; text-decoration-color: #000000\">: </span><span style=\"color: #008000; text-decoration-color: #008000\">'Traceback (most recent call last):\\n  File </span>\n",
       "<span style=\"color: #008000; text-decoration-color: #008000\">\"/Users/sanhehu/Documents/GitHub/pynamodb_mate-project/pynamodb_mate/patterns/status_tracker/impl.py\", line 894, in</span>\n",
       "<span style=\"color: #008000; text-decoration-color: #008000\">start\\n    yield execution_context\\n  File </span>\n",
       "<span style=\"color: #008000; text-decoration-color: #008000\">\"/var/folders/bl/vkmgjdsx5115w2xcnp67_8y40000gn/T/ipykernel_15901/3230700222.py\", line 4, in &lt;module&gt;\\n    raise </span>\n",
       "<span style=\"color: #008000; text-decoration-color: #008000\">UserError(\"something is wrong!\")\\nUserError: something is wrong!\\n'</span>\n",
       "            <span style=\"font-weight: bold\">}</span>\n",
       "        <span style=\"font-weight: bold\">]</span>\n",
       "    <span style=\"font-weight: bold\">}</span>,\n",
       "    <span style=\"color: #008000; text-decoration-color: #008000\">'lock'</span>: <span style=\"color: #008000; text-decoration-color: #008000\">'__not_locked__'</span>,\n",
       "    <span style=\"color: #008000; text-decoration-color: #008000\">'lock_time'</span>: <span style=\"color: #800080; text-decoration-color: #800080; font-weight: bold\">datetime.datetime</span><span style=\"font-weight: bold\">(</span><span style=\"color: #008080; text-decoration-color: #008080; font-weight: bold\">2024</span>, <span style=\"color: #008080; text-decoration-color: #008080; font-weight: bold\">5</span>, <span style=\"color: #008080; text-decoration-color: #008080; font-weight: bold\">23</span>, <span style=\"color: #008080; text-decoration-color: #008080; font-weight: bold\">6</span>, <span style=\"color: #008080; text-decoration-color: #008080; font-weight: bold\">8</span>, <span style=\"color: #008080; text-decoration-color: #008080; font-weight: bold\">41</span>, <span style=\"color: #008080; text-decoration-color: #008080; font-weight: bold\">522709</span>, <span style=\"color: #808000; text-decoration-color: #808000\">tzinfo</span>=<span style=\"color: #800080; text-decoration-color: #800080\">datetime</span>.timezone.utc<span style=\"font-weight: bold\">)</span>,\n",
       "    <span style=\"color: #008000; text-decoration-color: #008000\">'retry'</span>: <span style=\"color: #008080; text-decoration-color: #008080; font-weight: bold\">2</span>,\n",
       "    <span style=\"color: #008000; text-decoration-color: #008000\">'update_time'</span>: <span style=\"color: #800080; text-decoration-color: #800080; font-weight: bold\">datetime.datetime</span><span style=\"font-weight: bold\">(</span><span style=\"color: #008080; text-decoration-color: #008080; font-weight: bold\">2024</span>, <span style=\"color: #008080; text-decoration-color: #008080; font-weight: bold\">5</span>, <span style=\"color: #008080; text-decoration-color: #008080; font-weight: bold\">23</span>, <span style=\"color: #008080; text-decoration-color: #008080; font-weight: bold\">6</span>, <span style=\"color: #008080; text-decoration-color: #008080; font-weight: bold\">8</span>, <span style=\"color: #008080; text-decoration-color: #008080; font-weight: bold\">41</span>, <span style=\"color: #008080; text-decoration-color: #008080; font-weight: bold\">562681</span>, <span style=\"color: #808000; text-decoration-color: #808000\">tzinfo</span>=<span style=\"color: #800080; text-decoration-color: #800080\">datetime</span>.timezone.utc<span style=\"font-weight: bold\">)</span>,\n",
       "    <span style=\"color: #008000; text-decoration-color: #008000\">'key'</span>: <span style=\"color: #008000; text-decoration-color: #008000\">'test____t-1'</span>,\n",
       "    <span style=\"color: #008000; text-decoration-color: #008000\">'status'</span>: <span style=\"color: #008080; text-decoration-color: #008080; font-weight: bold\">80</span>,\n",
       "    <span style=\"color: #008000; text-decoration-color: #008000\">'value'</span>: <span style=\"color: #008000; text-decoration-color: #008000\">'test____080____002'</span>\n",
       "<span style=\"font-weight: bold\">}</span>\n",
       "</pre>\n"
      ],
      "text/plain": [
       "\u001B[1m{\u001B[0m\n",
       "    \u001B[32m'create_time'\u001B[0m: \u001B[1;35mdatetime.datetime\u001B[0m\u001B[1m(\u001B[0m\u001B[1;36m2024\u001B[0m, \u001B[1;36m5\u001B[0m, \u001B[1;36m23\u001B[0m, \u001B[1;36m6\u001B[0m, \u001B[1;36m7\u001B[0m, \u001B[1;36m26\u001B[0m, \u001B[1;36m444861\u001B[0m, \u001B[33mtzinfo\u001B[0m=\u001B[35mdatetime\u001B[0m.timezone.utc\u001B[1m)\u001B[0m,\n",
       "    \u001B[32m'data'\u001B[0m: \u001B[1m{\u001B[0m\u001B[32m'version'\u001B[0m: \u001B[1;36m2\u001B[0m\u001B[1m}\u001B[0m,\n",
       "    \u001B[32m'errors'\u001B[0m: \u001B[1m{\u001B[0m\n",
       "        \u001B[32m'history'\u001B[0m: \u001B[1m[\u001B[0m\n",
       "            \u001B[1m{\u001B[0m\n",
       "                \u001B[32m'nth_retry'\u001B[0m: \u001B[1;36m1\u001B[0m,\n",
       "                \u001B[32m'update_time'\u001B[0m: \u001B[32m'2024-05-23T06:08:31.852076+00:00'\u001B[0m,\n",
       "                \u001B[32m'error'\u001B[0m: \u001B[32m\"UserError\u001B[0m\u001B[32m(\u001B[0m\u001B[32m'something is wrong!'\u001B[0m\u001B[32m)\u001B[0m\u001B[32m\"\u001B[0m,\n",
       "                \u001B[32m'traceback'\u001B[0m: \u001B[32m'Traceback \u001B[0m\u001B[32m(\u001B[0m\u001B[32mmost recent call last\u001B[0m\u001B[32m)\u001B[0m\u001B[32m:\\n  File \u001B[0m\n",
       "\u001B[32m\"/Users/sanhehu/Documents/GitHub/pynamodb_mate-project/pynamodb_mate/patterns/status_tracker/impl.py\", line 894, in\u001B[0m\n",
       "\u001B[32mstart\\n    yield execution_context\\n  File \u001B[0m\n",
       "\u001B[32m\"/var/folders/bl/vkmgjdsx5115w2xcnp67_8y40000gn/T/ipykernel_15901/2198718045.py\", line 6, in \u001B[0m\u001B[32m<\u001B[0m\u001B[32mmodule\u001B[0m\u001B[32m>\\n    raise \u001B[0m\n",
       "\u001B[32mUserError\u001B[0m\u001B[32m(\u001B[0m\u001B[32m\"something is wrong!\"\u001B[0m\u001B[32m)\u001B[0m\u001B[32m\\nUserError: something is wrong!\\n'\u001B[0m\n",
       "\u001B[39m            \u001B[0m\u001B[1;39m}\u001B[0m\u001B[39m,\u001B[0m\n",
       "\u001B[39m            \u001B[0m\u001B[1;39m{\u001B[0m\n",
       "\u001B[39m                \u001B[0m\u001B[32m'nth_retry'\u001B[0m\u001B[39m: \u001B[0m\u001B[1;36m2\u001B[0m\u001B[39m,\u001B[0m\n",
       "\u001B[39m                \u001B[0m\u001B[32m'update_time'\u001B[0m\u001B[39m: \u001B[0m\u001B[32m'2024-05-23T06:08:41.562681+00:00'\u001B[0m\u001B[39m,\u001B[0m\n",
       "\u001B[39m                \u001B[0m\u001B[32m'error'\u001B[0m\u001B[39m: \u001B[0m\u001B[32m\"UserError\u001B[0m\u001B[32m(\u001B[0m\u001B[32m'something is wrong!'\u001B[0m\u001B[32m)\u001B[0m\u001B[32m\"\u001B[0m\u001B[39m,\u001B[0m\n",
       "\u001B[39m                \u001B[0m\u001B[32m'traceback'\u001B[0m\u001B[39m: \u001B[0m\u001B[32m'Traceback \u001B[0m\u001B[32m(\u001B[0m\u001B[32mmost recent call last\u001B[0m\u001B[32m)\u001B[0m\u001B[32m:\\n  File \u001B[0m\n",
       "\u001B[32m\"/Users/sanhehu/Documents/GitHub/pynamodb_mate-project/pynamodb_mate/patterns/status_tracker/impl.py\", line 894, in\u001B[0m\n",
       "\u001B[32mstart\\n    yield execution_context\\n  File \u001B[0m\n",
       "\u001B[32m\"/var/folders/bl/vkmgjdsx5115w2xcnp67_8y40000gn/T/ipykernel_15901/3230700222.py\", line 4, in <module\u001B[0m\u001B[32m>\u001B[0m\u001B[32m\\n    raise \u001B[0m\n",
       "\u001B[32mUserError\u001B[0m\u001B[32m(\u001B[0m\u001B[32m\"something is wrong!\"\u001B[0m\u001B[32m)\u001B[0m\u001B[32m\\nUserError: something is wrong!\\n'\u001B[0m\n",
       "            \u001B[1m}\u001B[0m\n",
       "        \u001B[1m]\u001B[0m\n",
       "    \u001B[1m}\u001B[0m,\n",
       "    \u001B[32m'lock'\u001B[0m: \u001B[32m'__not_locked__'\u001B[0m,\n",
       "    \u001B[32m'lock_time'\u001B[0m: \u001B[1;35mdatetime.datetime\u001B[0m\u001B[1m(\u001B[0m\u001B[1;36m2024\u001B[0m, \u001B[1;36m5\u001B[0m, \u001B[1;36m23\u001B[0m, \u001B[1;36m6\u001B[0m, \u001B[1;36m8\u001B[0m, \u001B[1;36m41\u001B[0m, \u001B[1;36m522709\u001B[0m, \u001B[33mtzinfo\u001B[0m=\u001B[35mdatetime\u001B[0m.timezone.utc\u001B[1m)\u001B[0m,\n",
       "    \u001B[32m'retry'\u001B[0m: \u001B[1;36m2\u001B[0m,\n",
       "    \u001B[32m'update_time'\u001B[0m: \u001B[1;35mdatetime.datetime\u001B[0m\u001B[1m(\u001B[0m\u001B[1;36m2024\u001B[0m, \u001B[1;36m5\u001B[0m, \u001B[1;36m23\u001B[0m, \u001B[1;36m6\u001B[0m, \u001B[1;36m8\u001B[0m, \u001B[1;36m41\u001B[0m, \u001B[1;36m562681\u001B[0m, \u001B[33mtzinfo\u001B[0m=\u001B[35mdatetime\u001B[0m.timezone.utc\u001B[1m)\u001B[0m,\n",
       "    \u001B[32m'key'\u001B[0m: \u001B[32m'test____t-1'\u001B[0m,\n",
       "    \u001B[32m'status'\u001B[0m: \u001B[1;36m80\u001B[0m,\n",
       "    \u001B[32m'value'\u001B[0m: \u001B[32m'test____080____002'\u001B[0m\n",
       "\u001B[1m}\u001B[0m\n"
      ]
     },
     "metadata": {},
     "output_type": "display_data"
    },
    {
     "name": "stdout",
     "output_type": "stream",
     "text": [
      "step2.status_name = 'failed'\n",
      "step2.is_locked() = False\n"
     ]
    }
   ],
   "source": [
    "step2 = Step2.get_one_or_none(task_id=task_id)\n",
    "rprint(step2.to_dict())\n",
    "print(f\"{step2.status_name = }\")\n",
    "print(f\"{step2.is_locked() = }\")"
   ]
  },
  {
   "cell_type": "markdown",
   "metadata": {
    "collapsed": false
   },
   "source": [
    "## Run Step 2 Again\n",
    "\n",
    "This time we let the task succeed."
   ]
  },
  {
   "cell_type": "code",
   "execution_count": 17,
   "metadata": {
    "ExecuteTime": {
     "end_time": "2024-05-23T05:11:08.640088Z",
     "start_time": "2024-05-23T05:11:08.631991Z"
    },
    "collapsed": false
   },
   "outputs": [
    {
     "name": "stdout",
     "output_type": "stream",
     "text": [
      "----------------------------------- ▶️ start Task(use_case_id='test', task_id='t-1'))-----------------------------------\n",
      "🔓 set status 'in_progress' and lock the task.\n",
      "✅ 🔐 task succeeded, set status 'success' and unlock the task.\n",
      "--------------------- ⏹️ end Task(use_case_id='test', task_id='t-1'), status=90)) (aka 'succeeded')---------------------\n"
     ]
    }
   ],
   "source": [
    "with Step2.start(task_id, debug=True) as exec_ctx:\n",
    "    exec_ctx.set_data({\"version\": 3})"
   ]
  },
  {
   "cell_type": "markdown",
   "metadata": {
    "collapsed": false
   },
   "source": [
    "We know that the ``ExecutionContext.task`` is the representation of the DynamoDB item. It will be updated automatically when the context manage exits. You don't have to get the latest data from DynamoDB manually."
   ]
  },
  {
   "cell_type": "code",
   "execution_count": 18,
   "metadata": {
    "ExecuteTime": {
     "end_time": "2024-05-23T05:11:14.937381Z",
     "start_time": "2024-05-23T05:11:14.924467Z"
    },
    "collapsed": false
   },
   "outputs": [
    {
     "data": {
      "text/html": [
       "<pre style=\"white-space:pre;overflow-x:auto;line-height:normal;font-family:Menlo,'DejaVu Sans Mono',consolas,'Courier New',monospace\"><span style=\"font-weight: bold\">{</span>\n",
       "    <span style=\"color: #008000; text-decoration-color: #008000\">'create_time'</span>: <span style=\"color: #800080; text-decoration-color: #800080; font-weight: bold\">datetime.datetime</span><span style=\"font-weight: bold\">(</span><span style=\"color: #008080; text-decoration-color: #008080; font-weight: bold\">2024</span>, <span style=\"color: #008080; text-decoration-color: #008080; font-weight: bold\">5</span>, <span style=\"color: #008080; text-decoration-color: #008080; font-weight: bold\">23</span>, <span style=\"color: #008080; text-decoration-color: #008080; font-weight: bold\">6</span>, <span style=\"color: #008080; text-decoration-color: #008080; font-weight: bold\">7</span>, <span style=\"color: #008080; text-decoration-color: #008080; font-weight: bold\">26</span>, <span style=\"color: #008080; text-decoration-color: #008080; font-weight: bold\">444861</span>, <span style=\"color: #808000; text-decoration-color: #808000\">tzinfo</span>=<span style=\"color: #800080; text-decoration-color: #800080\">datetime</span>.timezone.utc<span style=\"font-weight: bold\">)</span>,\n",
       "    <span style=\"color: #008000; text-decoration-color: #008000\">'data'</span>: <span style=\"font-weight: bold\">{</span><span style=\"color: #008000; text-decoration-color: #008000\">'version'</span>: <span style=\"color: #008080; text-decoration-color: #008080; font-weight: bold\">3</span><span style=\"font-weight: bold\">}</span>,\n",
       "    <span style=\"color: #008000; text-decoration-color: #008000\">'errors'</span>: <span style=\"font-weight: bold\">{</span>\n",
       "        <span style=\"color: #008000; text-decoration-color: #008000\">'history'</span>: <span style=\"font-weight: bold\">[</span>\n",
       "            <span style=\"font-weight: bold\">{</span>\n",
       "                <span style=\"color: #008000; text-decoration-color: #008000\">'nth_retry'</span>: <span style=\"color: #008080; text-decoration-color: #008080; font-weight: bold\">1</span>,\n",
       "                <span style=\"color: #008000; text-decoration-color: #008000\">'update_time'</span>: <span style=\"color: #008000; text-decoration-color: #008000\">'2024-05-23T06:08:31.852076+00:00'</span>,\n",
       "                <span style=\"color: #008000; text-decoration-color: #008000\">'error'</span>: <span style=\"color: #008000; text-decoration-color: #008000\">\"UserError('something is wrong!')\"</span>,\n",
       "                <span style=\"color: #008000; text-decoration-color: #008000\">'traceback'</span>: <span style=\"color: #008000; text-decoration-color: #008000\">'Traceback (most recent call last):\\n  File </span>\n",
       "<span style=\"color: #008000; text-decoration-color: #008000\">\"/Users/sanhehu/Documents/GitHub/pynamodb_mate-project/pynamodb_mate/patterns/status_tracker/impl.py\", line 894, in</span>\n",
       "<span style=\"color: #008000; text-decoration-color: #008000\">start\\n    yield execution_context\\n  File </span>\n",
       "<span style=\"color: #008000; text-decoration-color: #008000\">\"/var/folders/bl/vkmgjdsx5115w2xcnp67_8y40000gn/T/ipykernel_15901/2198718045.py\", line 6, in &lt;module&gt;\\n    raise </span>\n",
       "<span style=\"color: #008000; text-decoration-color: #008000\">UserError(\"something is wrong!\")\\nUserError: something is wrong!\\n'</span>\n",
       "<span style=\"color: #000000; text-decoration-color: #000000\">            </span><span style=\"color: #000000; text-decoration-color: #000000; font-weight: bold\">}</span><span style=\"color: #000000; text-decoration-color: #000000\">,</span>\n",
       "<span style=\"color: #000000; text-decoration-color: #000000\">            </span><span style=\"color: #000000; text-decoration-color: #000000; font-weight: bold\">{</span>\n",
       "<span style=\"color: #000000; text-decoration-color: #000000\">                </span><span style=\"color: #008000; text-decoration-color: #008000\">'nth_retry'</span><span style=\"color: #000000; text-decoration-color: #000000\">: </span><span style=\"color: #008080; text-decoration-color: #008080; font-weight: bold\">2</span><span style=\"color: #000000; text-decoration-color: #000000\">,</span>\n",
       "<span style=\"color: #000000; text-decoration-color: #000000\">                </span><span style=\"color: #008000; text-decoration-color: #008000\">'update_time'</span><span style=\"color: #000000; text-decoration-color: #000000\">: </span><span style=\"color: #008000; text-decoration-color: #008000\">'2024-05-23T06:08:41.562681+00:00'</span><span style=\"color: #000000; text-decoration-color: #000000\">,</span>\n",
       "<span style=\"color: #000000; text-decoration-color: #000000\">                </span><span style=\"color: #008000; text-decoration-color: #008000\">'error'</span><span style=\"color: #000000; text-decoration-color: #000000\">: </span><span style=\"color: #008000; text-decoration-color: #008000\">\"UserError('something is wrong!')\"</span><span style=\"color: #000000; text-decoration-color: #000000\">,</span>\n",
       "<span style=\"color: #000000; text-decoration-color: #000000\">                </span><span style=\"color: #008000; text-decoration-color: #008000\">'traceback'</span><span style=\"color: #000000; text-decoration-color: #000000\">: </span><span style=\"color: #008000; text-decoration-color: #008000\">'Traceback (most recent call last):\\n  File </span>\n",
       "<span style=\"color: #008000; text-decoration-color: #008000\">\"/Users/sanhehu/Documents/GitHub/pynamodb_mate-project/pynamodb_mate/patterns/status_tracker/impl.py\", line 894, in</span>\n",
       "<span style=\"color: #008000; text-decoration-color: #008000\">start\\n    yield execution_context\\n  File </span>\n",
       "<span style=\"color: #008000; text-decoration-color: #008000\">\"/var/folders/bl/vkmgjdsx5115w2xcnp67_8y40000gn/T/ipykernel_15901/3230700222.py\", line 4, in &lt;module&gt;\\n    raise </span>\n",
       "<span style=\"color: #008000; text-decoration-color: #008000\">UserError(\"something is wrong!\")\\nUserError: something is wrong!\\n'</span>\n",
       "            <span style=\"font-weight: bold\">}</span>\n",
       "        <span style=\"font-weight: bold\">]</span>\n",
       "    <span style=\"font-weight: bold\">}</span>,\n",
       "    <span style=\"color: #008000; text-decoration-color: #008000\">'lock'</span>: <span style=\"color: #008000; text-decoration-color: #008000\">'__not_locked__'</span>,\n",
       "    <span style=\"color: #008000; text-decoration-color: #008000\">'lock_time'</span>: <span style=\"color: #800080; text-decoration-color: #800080; font-weight: bold\">datetime.datetime</span><span style=\"font-weight: bold\">(</span><span style=\"color: #008080; text-decoration-color: #008080; font-weight: bold\">2024</span>, <span style=\"color: #008080; text-decoration-color: #008080; font-weight: bold\">5</span>, <span style=\"color: #008080; text-decoration-color: #008080; font-weight: bold\">23</span>, <span style=\"color: #008080; text-decoration-color: #008080; font-weight: bold\">6</span>, <span style=\"color: #008080; text-decoration-color: #008080; font-weight: bold\">8</span>, <span style=\"color: #008080; text-decoration-color: #008080; font-weight: bold\">43</span>, <span style=\"color: #008080; text-decoration-color: #008080; font-weight: bold\">303513</span>, <span style=\"color: #808000; text-decoration-color: #808000\">tzinfo</span>=<span style=\"color: #800080; text-decoration-color: #800080\">datetime</span>.timezone.utc<span style=\"font-weight: bold\">)</span>,\n",
       "    <span style=\"color: #008000; text-decoration-color: #008000\">'retry'</span>: <span style=\"color: #008080; text-decoration-color: #008080; font-weight: bold\">0</span>,\n",
       "    <span style=\"color: #008000; text-decoration-color: #008000\">'update_time'</span>: <span style=\"color: #800080; text-decoration-color: #800080; font-weight: bold\">datetime.datetime</span><span style=\"font-weight: bold\">(</span><span style=\"color: #008080; text-decoration-color: #008080; font-weight: bold\">2024</span>, <span style=\"color: #008080; text-decoration-color: #008080; font-weight: bold\">5</span>, <span style=\"color: #008080; text-decoration-color: #008080; font-weight: bold\">23</span>, <span style=\"color: #008080; text-decoration-color: #008080; font-weight: bold\">6</span>, <span style=\"color: #008080; text-decoration-color: #008080; font-weight: bold\">8</span>, <span style=\"color: #008080; text-decoration-color: #008080; font-weight: bold\">43</span>, <span style=\"color: #008080; text-decoration-color: #008080; font-weight: bold\">324088</span>, <span style=\"color: #808000; text-decoration-color: #808000\">tzinfo</span>=<span style=\"color: #800080; text-decoration-color: #800080\">datetime</span>.timezone.utc<span style=\"font-weight: bold\">)</span>,\n",
       "    <span style=\"color: #008000; text-decoration-color: #008000\">'key'</span>: <span style=\"color: #008000; text-decoration-color: #008000\">'test____t-1'</span>,\n",
       "    <span style=\"color: #008000; text-decoration-color: #008000\">'status'</span>: <span style=\"color: #008080; text-decoration-color: #008080; font-weight: bold\">90</span>,\n",
       "    <span style=\"color: #008000; text-decoration-color: #008000\">'value'</span>: <span style=\"color: #008000; text-decoration-color: #008000\">'test____090____002'</span>\n",
       "<span style=\"font-weight: bold\">}</span>\n",
       "</pre>\n"
      ],
      "text/plain": [
       "\u001B[1m{\u001B[0m\n",
       "    \u001B[32m'create_time'\u001B[0m: \u001B[1;35mdatetime.datetime\u001B[0m\u001B[1m(\u001B[0m\u001B[1;36m2024\u001B[0m, \u001B[1;36m5\u001B[0m, \u001B[1;36m23\u001B[0m, \u001B[1;36m6\u001B[0m, \u001B[1;36m7\u001B[0m, \u001B[1;36m26\u001B[0m, \u001B[1;36m444861\u001B[0m, \u001B[33mtzinfo\u001B[0m=\u001B[35mdatetime\u001B[0m.timezone.utc\u001B[1m)\u001B[0m,\n",
       "    \u001B[32m'data'\u001B[0m: \u001B[1m{\u001B[0m\u001B[32m'version'\u001B[0m: \u001B[1;36m3\u001B[0m\u001B[1m}\u001B[0m,\n",
       "    \u001B[32m'errors'\u001B[0m: \u001B[1m{\u001B[0m\n",
       "        \u001B[32m'history'\u001B[0m: \u001B[1m[\u001B[0m\n",
       "            \u001B[1m{\u001B[0m\n",
       "                \u001B[32m'nth_retry'\u001B[0m: \u001B[1;36m1\u001B[0m,\n",
       "                \u001B[32m'update_time'\u001B[0m: \u001B[32m'2024-05-23T06:08:31.852076+00:00'\u001B[0m,\n",
       "                \u001B[32m'error'\u001B[0m: \u001B[32m\"UserError\u001B[0m\u001B[32m(\u001B[0m\u001B[32m'something is wrong!'\u001B[0m\u001B[32m)\u001B[0m\u001B[32m\"\u001B[0m,\n",
       "                \u001B[32m'traceback'\u001B[0m: \u001B[32m'Traceback \u001B[0m\u001B[32m(\u001B[0m\u001B[32mmost recent call last\u001B[0m\u001B[32m)\u001B[0m\u001B[32m:\\n  File \u001B[0m\n",
       "\u001B[32m\"/Users/sanhehu/Documents/GitHub/pynamodb_mate-project/pynamodb_mate/patterns/status_tracker/impl.py\", line 894, in\u001B[0m\n",
       "\u001B[32mstart\\n    yield execution_context\\n  File \u001B[0m\n",
       "\u001B[32m\"/var/folders/bl/vkmgjdsx5115w2xcnp67_8y40000gn/T/ipykernel_15901/2198718045.py\", line 6, in \u001B[0m\u001B[32m<\u001B[0m\u001B[32mmodule\u001B[0m\u001B[32m>\\n    raise \u001B[0m\n",
       "\u001B[32mUserError\u001B[0m\u001B[32m(\u001B[0m\u001B[32m\"something is wrong!\"\u001B[0m\u001B[32m)\u001B[0m\u001B[32m\\nUserError: something is wrong!\\n'\u001B[0m\n",
       "\u001B[39m            \u001B[0m\u001B[1;39m}\u001B[0m\u001B[39m,\u001B[0m\n",
       "\u001B[39m            \u001B[0m\u001B[1;39m{\u001B[0m\n",
       "\u001B[39m                \u001B[0m\u001B[32m'nth_retry'\u001B[0m\u001B[39m: \u001B[0m\u001B[1;36m2\u001B[0m\u001B[39m,\u001B[0m\n",
       "\u001B[39m                \u001B[0m\u001B[32m'update_time'\u001B[0m\u001B[39m: \u001B[0m\u001B[32m'2024-05-23T06:08:41.562681+00:00'\u001B[0m\u001B[39m,\u001B[0m\n",
       "\u001B[39m                \u001B[0m\u001B[32m'error'\u001B[0m\u001B[39m: \u001B[0m\u001B[32m\"UserError\u001B[0m\u001B[32m(\u001B[0m\u001B[32m'something is wrong!'\u001B[0m\u001B[32m)\u001B[0m\u001B[32m\"\u001B[0m\u001B[39m,\u001B[0m\n",
       "\u001B[39m                \u001B[0m\u001B[32m'traceback'\u001B[0m\u001B[39m: \u001B[0m\u001B[32m'Traceback \u001B[0m\u001B[32m(\u001B[0m\u001B[32mmost recent call last\u001B[0m\u001B[32m)\u001B[0m\u001B[32m:\\n  File \u001B[0m\n",
       "\u001B[32m\"/Users/sanhehu/Documents/GitHub/pynamodb_mate-project/pynamodb_mate/patterns/status_tracker/impl.py\", line 894, in\u001B[0m\n",
       "\u001B[32mstart\\n    yield execution_context\\n  File \u001B[0m\n",
       "\u001B[32m\"/var/folders/bl/vkmgjdsx5115w2xcnp67_8y40000gn/T/ipykernel_15901/3230700222.py\", line 4, in <module\u001B[0m\u001B[32m>\u001B[0m\u001B[32m\\n    raise \u001B[0m\n",
       "\u001B[32mUserError\u001B[0m\u001B[32m(\u001B[0m\u001B[32m\"something is wrong!\"\u001B[0m\u001B[32m)\u001B[0m\u001B[32m\\nUserError: something is wrong!\\n'\u001B[0m\n",
       "            \u001B[1m}\u001B[0m\n",
       "        \u001B[1m]\u001B[0m\n",
       "    \u001B[1m}\u001B[0m,\n",
       "    \u001B[32m'lock'\u001B[0m: \u001B[32m'__not_locked__'\u001B[0m,\n",
       "    \u001B[32m'lock_time'\u001B[0m: \u001B[1;35mdatetime.datetime\u001B[0m\u001B[1m(\u001B[0m\u001B[1;36m2024\u001B[0m, \u001B[1;36m5\u001B[0m, \u001B[1;36m23\u001B[0m, \u001B[1;36m6\u001B[0m, \u001B[1;36m8\u001B[0m, \u001B[1;36m43\u001B[0m, \u001B[1;36m303513\u001B[0m, \u001B[33mtzinfo\u001B[0m=\u001B[35mdatetime\u001B[0m.timezone.utc\u001B[1m)\u001B[0m,\n",
       "    \u001B[32m'retry'\u001B[0m: \u001B[1;36m0\u001B[0m,\n",
       "    \u001B[32m'update_time'\u001B[0m: \u001B[1;35mdatetime.datetime\u001B[0m\u001B[1m(\u001B[0m\u001B[1;36m2024\u001B[0m, \u001B[1;36m5\u001B[0m, \u001B[1;36m23\u001B[0m, \u001B[1;36m6\u001B[0m, \u001B[1;36m8\u001B[0m, \u001B[1;36m43\u001B[0m, \u001B[1;36m324088\u001B[0m, \u001B[33mtzinfo\u001B[0m=\u001B[35mdatetime\u001B[0m.timezone.utc\u001B[1m)\u001B[0m,\n",
       "    \u001B[32m'key'\u001B[0m: \u001B[32m'test____t-1'\u001B[0m,\n",
       "    \u001B[32m'status'\u001B[0m: \u001B[1;36m90\u001B[0m,\n",
       "    \u001B[32m'value'\u001B[0m: \u001B[32m'test____090____002'\u001B[0m\n",
       "\u001B[1m}\u001B[0m\n"
      ]
     },
     "metadata": {},
     "output_type": "display_data"
    },
    {
     "name": "stdout",
     "output_type": "stream",
     "text": [
      "step2.status_name = 'succeeded'\n",
      "step2.is_locked() = False\n",
      "step2.data = {'version': 3}\n"
     ]
    }
   ],
   "source": [
    "step2 = exec_ctx.task\n",
    "# this is the same as the above\n",
    "# step2 = Step2.get_one_or_none(task_id=task_id)\n",
    "\n",
    "rprint(step2.to_dict())\n",
    "print(f\"{step2.status_name = }\")\n",
    "print(f\"{step2.is_locked() = }\")\n",
    "print(f\"{step2.data = }\") # should be v3"
   ]
  },
  {
   "cell_type": "markdown",
   "metadata": {
    "collapsed": false
   },
   "source": [
    "## Concurrency Lock Mechanism\n",
    "\n",
    "To ensure that one task can be processed by one worker at a time, we need to use a concurrency lock. Essentially, a worker tries to acquire a lock when it is about to start an execution. If it fails to obtain the lock, it immediately raises a ``TaskIsLockedError``. Acquiring a lock is actually an update operation that sets a unique UUID as an attribute of the DynamoDB item. The worker who successfully acquires the lock must release it (unset the lock value) at the end of the execution. This is automatically handled by the ``start()`` context manager. If the worker fails to release the lock for any reason (e.g., power outage), the lock will automatically expire after a specified time. The expiration time is defined in the ``TrackerConfig``.\n"
   ]
  },
  {
   "cell_type": "code",
   "execution_count": 19,
   "metadata": {
    "ExecuteTime": {
     "end_time": "2024-05-23T05:26:40.933277Z",
     "start_time": "2024-05-23T05:26:40.789203Z"
    },
    "collapsed": false
   },
   "outputs": [
    {
     "name": "stdout",
     "output_type": "stream",
     "text": [
      "worker 1 is trying to start the execution\n",
      "----------------------------------- ▶️ start Task(use_case_id='test', task_id='t-2'))-----------------------------------\n",
      "🔓 set status 'in_progress' and lock the task.\n",
      "worker 2 is trying to start the execution\n",
      "----------------------------------- ▶️ start Task(use_case_id='test', task_id='t-2'))-----------------------------------\n",
      "🔓 set status 'in_progress' and lock the task.\n",
      "❌ task failed to get lock, because it is already locked by another worker.\n",
      "------------------------------------ ⏹️ end Task(use_case_id='test', task_id='t-2'))------------------------------------\n"
     ]
    },
    {
     "data": {
      "text/html": [
       "<pre style=\"white-space:pre;overflow-x:auto;line-height:normal;font-family:Menlo,'DejaVu Sans Mono',consolas,'Courier New',monospace\"><span style=\"font-weight: bold\">{</span>\n",
       "    <span style=\"color: #008000; text-decoration-color: #008000\">'create_time'</span>: <span style=\"color: #800080; text-decoration-color: #800080; font-weight: bold\">datetime.datetime</span><span style=\"font-weight: bold\">(</span><span style=\"color: #008080; text-decoration-color: #008080; font-weight: bold\">2024</span>, <span style=\"color: #008080; text-decoration-color: #008080; font-weight: bold\">5</span>, <span style=\"color: #008080; text-decoration-color: #008080; font-weight: bold\">23</span>, <span style=\"color: #008080; text-decoration-color: #008080; font-weight: bold\">6</span>, <span style=\"color: #008080; text-decoration-color: #008080; font-weight: bold\">8</span>, <span style=\"color: #008080; text-decoration-color: #008080; font-weight: bold\">46</span>, <span style=\"color: #008080; text-decoration-color: #008080; font-weight: bold\">831741</span>, <span style=\"color: #808000; text-decoration-color: #808000\">tzinfo</span>=<span style=\"color: #800080; text-decoration-color: #800080\">datetime</span>.timezone.utc<span style=\"font-weight: bold\">)</span>,\n",
       "    <span style=\"color: #008000; text-decoration-color: #008000\">'data'</span>: <span style=\"font-weight: bold\">{</span><span style=\"color: #008000; text-decoration-color: #008000\">'version'</span>: <span style=\"color: #008080; text-decoration-color: #008080; font-weight: bold\">0</span><span style=\"font-weight: bold\">}</span>,\n",
       "    <span style=\"color: #008000; text-decoration-color: #008000\">'errors'</span>: <span style=\"font-weight: bold\">{</span><span style=\"color: #008000; text-decoration-color: #008000\">'history'</span>: <span style=\"font-weight: bold\">[]}</span>,\n",
       "    <span style=\"color: #008000; text-decoration-color: #008000\">'lock'</span>: <span style=\"color: #008000; text-decoration-color: #008000\">'9494e275b289482da50caf0857982e9c'</span>,\n",
       "    <span style=\"color: #008000; text-decoration-color: #008000\">'lock_time'</span>: <span style=\"color: #800080; text-decoration-color: #800080; font-weight: bold\">datetime.datetime</span><span style=\"font-weight: bold\">(</span><span style=\"color: #008080; text-decoration-color: #008080; font-weight: bold\">2024</span>, <span style=\"color: #008080; text-decoration-color: #008080; font-weight: bold\">5</span>, <span style=\"color: #008080; text-decoration-color: #008080; font-weight: bold\">23</span>, <span style=\"color: #008080; text-decoration-color: #008080; font-weight: bold\">6</span>, <span style=\"color: #008080; text-decoration-color: #008080; font-weight: bold\">8</span>, <span style=\"color: #008080; text-decoration-color: #008080; font-weight: bold\">46</span>, <span style=\"color: #008080; text-decoration-color: #008080; font-weight: bold\">857630</span>, <span style=\"color: #808000; text-decoration-color: #808000\">tzinfo</span>=<span style=\"color: #800080; text-decoration-color: #800080\">datetime</span>.timezone.utc<span style=\"font-weight: bold\">)</span>,\n",
       "    <span style=\"color: #008000; text-decoration-color: #008000\">'retry'</span>: <span style=\"color: #008080; text-decoration-color: #008080; font-weight: bold\">0</span>,\n",
       "    <span style=\"color: #008000; text-decoration-color: #008000\">'update_time'</span>: <span style=\"color: #800080; text-decoration-color: #800080; font-weight: bold\">datetime.datetime</span><span style=\"font-weight: bold\">(</span><span style=\"color: #008080; text-decoration-color: #008080; font-weight: bold\">2024</span>, <span style=\"color: #008080; text-decoration-color: #008080; font-weight: bold\">5</span>, <span style=\"color: #008080; text-decoration-color: #008080; font-weight: bold\">23</span>, <span style=\"color: #008080; text-decoration-color: #008080; font-weight: bold\">6</span>, <span style=\"color: #008080; text-decoration-color: #008080; font-weight: bold\">8</span>, <span style=\"color: #008080; text-decoration-color: #008080; font-weight: bold\">46</span>, <span style=\"color: #008080; text-decoration-color: #008080; font-weight: bold\">831822</span>, <span style=\"color: #808000; text-decoration-color: #808000\">tzinfo</span>=<span style=\"color: #800080; text-decoration-color: #800080\">datetime</span>.timezone.utc<span style=\"font-weight: bold\">)</span>,\n",
       "    <span style=\"color: #008000; text-decoration-color: #008000\">'key'</span>: <span style=\"color: #008000; text-decoration-color: #008000\">'test____t-2'</span>,\n",
       "    <span style=\"color: #008000; text-decoration-color: #008000\">'status'</span>: <span style=\"color: #008080; text-decoration-color: #008080; font-weight: bold\">20</span>,\n",
       "    <span style=\"color: #008000; text-decoration-color: #008000\">'value'</span>: <span style=\"color: #008000; text-decoration-color: #008000\">'test____020____005'</span>\n",
       "<span style=\"font-weight: bold\">}</span>\n",
       "</pre>\n"
      ],
      "text/plain": [
       "\u001B[1m{\u001B[0m\n",
       "    \u001B[32m'create_time'\u001B[0m: \u001B[1;35mdatetime.datetime\u001B[0m\u001B[1m(\u001B[0m\u001B[1;36m2024\u001B[0m, \u001B[1;36m5\u001B[0m, \u001B[1;36m23\u001B[0m, \u001B[1;36m6\u001B[0m, \u001B[1;36m8\u001B[0m, \u001B[1;36m46\u001B[0m, \u001B[1;36m831741\u001B[0m, \u001B[33mtzinfo\u001B[0m=\u001B[35mdatetime\u001B[0m.timezone.utc\u001B[1m)\u001B[0m,\n",
       "    \u001B[32m'data'\u001B[0m: \u001B[1m{\u001B[0m\u001B[32m'version'\u001B[0m: \u001B[1;36m0\u001B[0m\u001B[1m}\u001B[0m,\n",
       "    \u001B[32m'errors'\u001B[0m: \u001B[1m{\u001B[0m\u001B[32m'history'\u001B[0m: \u001B[1m[\u001B[0m\u001B[1m]\u001B[0m\u001B[1m}\u001B[0m,\n",
       "    \u001B[32m'lock'\u001B[0m: \u001B[32m'9494e275b289482da50caf0857982e9c'\u001B[0m,\n",
       "    \u001B[32m'lock_time'\u001B[0m: \u001B[1;35mdatetime.datetime\u001B[0m\u001B[1m(\u001B[0m\u001B[1;36m2024\u001B[0m, \u001B[1;36m5\u001B[0m, \u001B[1;36m23\u001B[0m, \u001B[1;36m6\u001B[0m, \u001B[1;36m8\u001B[0m, \u001B[1;36m46\u001B[0m, \u001B[1;36m857630\u001B[0m, \u001B[33mtzinfo\u001B[0m=\u001B[35mdatetime\u001B[0m.timezone.utc\u001B[1m)\u001B[0m,\n",
       "    \u001B[32m'retry'\u001B[0m: \u001B[1;36m0\u001B[0m,\n",
       "    \u001B[32m'update_time'\u001B[0m: \u001B[1;35mdatetime.datetime\u001B[0m\u001B[1m(\u001B[0m\u001B[1;36m2024\u001B[0m, \u001B[1;36m5\u001B[0m, \u001B[1;36m23\u001B[0m, \u001B[1;36m6\u001B[0m, \u001B[1;36m8\u001B[0m, \u001B[1;36m46\u001B[0m, \u001B[1;36m831822\u001B[0m, \u001B[33mtzinfo\u001B[0m=\u001B[35mdatetime\u001B[0m.timezone.utc\u001B[1m)\u001B[0m,\n",
       "    \u001B[32m'key'\u001B[0m: \u001B[32m'test____t-2'\u001B[0m,\n",
       "    \u001B[32m'status'\u001B[0m: \u001B[1;36m20\u001B[0m,\n",
       "    \u001B[32m'value'\u001B[0m: \u001B[32m'test____020____005'\u001B[0m\n",
       "\u001B[1m}\u001B[0m\n"
      ]
     },
     "metadata": {},
     "output_type": "display_data"
    },
    {
     "name": "stdout",
     "output_type": "stream",
     "text": [
      "step1.status_name = 'in_progress'\n",
      "step1.is_locked() = True\n",
      "✅ 🔐 task succeeded, set status 'success' and unlock the task.\n",
      "--------------------- ⏹️ end Task(use_case_id='test', task_id='t-2'), status=40)) (aka 'succeeded')---------------------\n"
     ]
    }
   ],
   "source": [
    "task_id = \"t-2\"\n",
    "\n",
    "# create a new task\n",
    "step1 = Step1.make_and_save(task_id=task_id, data={\"version\": 0})\n",
    "\n",
    "print(\"worker 1 is trying to start the execution\")\n",
    "with Step1.start(task_id, debug=True) as exec_ctx:\n",
    "    # another worker is trying to start the same task\n",
    "    print(\"worker 2 is trying to start the execution\")\n",
    "    try:\n",
    "        with Step1.start(\n",
    "            task_id,\n",
    "            detailed_error=True,\n",
    "            debug=True,\n",
    "        ) as exec_ctx_1:\n",
    "            pass\n",
    "    # gracefully just leave when it's locked\n",
    "    except st.TaskLockedError:\n",
    "        pass\n",
    "    # the task is processed by worker 1 at this moment\n",
    "    # let's exam the status of the task\n",
    "    step1 = Step1.get_one_or_none(task_id=task_id)\n",
    "    rprint(step1.to_dict())\n",
    "    print(f\"{step1.status_name = }\")\n",
    "    print(f\"{step1.is_locked() = }\")"
   ]
  },
  {
   "cell_type": "markdown",
   "metadata": {
    "collapsed": false
   },
   "source": [
    "Now the worker 1 should finished the step 1 exeuction and released the lock."
   ]
  },
  {
   "cell_type": "code",
   "execution_count": 20,
   "metadata": {
    "ExecuteTime": {
     "end_time": "2024-05-23T05:27:28.534737Z",
     "start_time": "2024-05-23T05:27:28.508640Z"
    },
    "collapsed": false
   },
   "outputs": [
    {
     "data": {
      "text/html": [
       "<pre style=\"white-space:pre;overflow-x:auto;line-height:normal;font-family:Menlo,'DejaVu Sans Mono',consolas,'Courier New',monospace\"><span style=\"font-weight: bold\">{</span>\n",
       "    <span style=\"color: #008000; text-decoration-color: #008000\">'create_time'</span>: <span style=\"color: #800080; text-decoration-color: #800080; font-weight: bold\">datetime.datetime</span><span style=\"font-weight: bold\">(</span><span style=\"color: #008080; text-decoration-color: #008080; font-weight: bold\">2024</span>, <span style=\"color: #008080; text-decoration-color: #008080; font-weight: bold\">5</span>, <span style=\"color: #008080; text-decoration-color: #008080; font-weight: bold\">23</span>, <span style=\"color: #008080; text-decoration-color: #008080; font-weight: bold\">6</span>, <span style=\"color: #008080; text-decoration-color: #008080; font-weight: bold\">8</span>, <span style=\"color: #008080; text-decoration-color: #008080; font-weight: bold\">46</span>, <span style=\"color: #008080; text-decoration-color: #008080; font-weight: bold\">831741</span>, <span style=\"color: #808000; text-decoration-color: #808000\">tzinfo</span>=<span style=\"color: #800080; text-decoration-color: #800080\">datetime</span>.timezone.utc<span style=\"font-weight: bold\">)</span>,\n",
       "    <span style=\"color: #008000; text-decoration-color: #008000\">'data'</span>: <span style=\"font-weight: bold\">{</span><span style=\"color: #008000; text-decoration-color: #008000\">'version'</span>: <span style=\"color: #008080; text-decoration-color: #008080; font-weight: bold\">0</span><span style=\"font-weight: bold\">}</span>,\n",
       "    <span style=\"color: #008000; text-decoration-color: #008000\">'errors'</span>: <span style=\"font-weight: bold\">{</span><span style=\"color: #008000; text-decoration-color: #008000\">'history'</span>: <span style=\"font-weight: bold\">[]}</span>,\n",
       "    <span style=\"color: #008000; text-decoration-color: #008000\">'lock'</span>: <span style=\"color: #008000; text-decoration-color: #008000\">'__not_locked__'</span>,\n",
       "    <span style=\"color: #008000; text-decoration-color: #008000\">'lock_time'</span>: <span style=\"color: #800080; text-decoration-color: #800080; font-weight: bold\">datetime.datetime</span><span style=\"font-weight: bold\">(</span><span style=\"color: #008080; text-decoration-color: #008080; font-weight: bold\">2024</span>, <span style=\"color: #008080; text-decoration-color: #008080; font-weight: bold\">5</span>, <span style=\"color: #008080; text-decoration-color: #008080; font-weight: bold\">23</span>, <span style=\"color: #008080; text-decoration-color: #008080; font-weight: bold\">6</span>, <span style=\"color: #008080; text-decoration-color: #008080; font-weight: bold\">8</span>, <span style=\"color: #008080; text-decoration-color: #008080; font-weight: bold\">46</span>, <span style=\"color: #008080; text-decoration-color: #008080; font-weight: bold\">857630</span>, <span style=\"color: #808000; text-decoration-color: #808000\">tzinfo</span>=<span style=\"color: #800080; text-decoration-color: #800080\">datetime</span>.timezone.utc<span style=\"font-weight: bold\">)</span>,\n",
       "    <span style=\"color: #008000; text-decoration-color: #008000\">'retry'</span>: <span style=\"color: #008080; text-decoration-color: #008080; font-weight: bold\">0</span>,\n",
       "    <span style=\"color: #008000; text-decoration-color: #008000\">'update_time'</span>: <span style=\"color: #800080; text-decoration-color: #800080; font-weight: bold\">datetime.datetime</span><span style=\"font-weight: bold\">(</span><span style=\"color: #008080; text-decoration-color: #008080; font-weight: bold\">2024</span>, <span style=\"color: #008080; text-decoration-color: #008080; font-weight: bold\">5</span>, <span style=\"color: #008080; text-decoration-color: #008080; font-weight: bold\">23</span>, <span style=\"color: #008080; text-decoration-color: #008080; font-weight: bold\">6</span>, <span style=\"color: #008080; text-decoration-color: #008080; font-weight: bold\">8</span>, <span style=\"color: #008080; text-decoration-color: #008080; font-weight: bold\">46</span>, <span style=\"color: #008080; text-decoration-color: #008080; font-weight: bold\">947787</span>, <span style=\"color: #808000; text-decoration-color: #808000\">tzinfo</span>=<span style=\"color: #800080; text-decoration-color: #800080\">datetime</span>.timezone.utc<span style=\"font-weight: bold\">)</span>,\n",
       "    <span style=\"color: #008000; text-decoration-color: #008000\">'key'</span>: <span style=\"color: #008000; text-decoration-color: #008000\">'test____t-2'</span>,\n",
       "    <span style=\"color: #008000; text-decoration-color: #008000\">'status'</span>: <span style=\"color: #008080; text-decoration-color: #008080; font-weight: bold\">40</span>,\n",
       "    <span style=\"color: #008000; text-decoration-color: #008000\">'value'</span>: <span style=\"color: #008000; text-decoration-color: #008000\">'test____040____010'</span>\n",
       "<span style=\"font-weight: bold\">}</span>\n",
       "</pre>\n"
      ],
      "text/plain": [
       "\u001B[1m{\u001B[0m\n",
       "    \u001B[32m'create_time'\u001B[0m: \u001B[1;35mdatetime.datetime\u001B[0m\u001B[1m(\u001B[0m\u001B[1;36m2024\u001B[0m, \u001B[1;36m5\u001B[0m, \u001B[1;36m23\u001B[0m, \u001B[1;36m6\u001B[0m, \u001B[1;36m8\u001B[0m, \u001B[1;36m46\u001B[0m, \u001B[1;36m831741\u001B[0m, \u001B[33mtzinfo\u001B[0m=\u001B[35mdatetime\u001B[0m.timezone.utc\u001B[1m)\u001B[0m,\n",
       "    \u001B[32m'data'\u001B[0m: \u001B[1m{\u001B[0m\u001B[32m'version'\u001B[0m: \u001B[1;36m0\u001B[0m\u001B[1m}\u001B[0m,\n",
       "    \u001B[32m'errors'\u001B[0m: \u001B[1m{\u001B[0m\u001B[32m'history'\u001B[0m: \u001B[1m[\u001B[0m\u001B[1m]\u001B[0m\u001B[1m}\u001B[0m,\n",
       "    \u001B[32m'lock'\u001B[0m: \u001B[32m'__not_locked__'\u001B[0m,\n",
       "    \u001B[32m'lock_time'\u001B[0m: \u001B[1;35mdatetime.datetime\u001B[0m\u001B[1m(\u001B[0m\u001B[1;36m2024\u001B[0m, \u001B[1;36m5\u001B[0m, \u001B[1;36m23\u001B[0m, \u001B[1;36m6\u001B[0m, \u001B[1;36m8\u001B[0m, \u001B[1;36m46\u001B[0m, \u001B[1;36m857630\u001B[0m, \u001B[33mtzinfo\u001B[0m=\u001B[35mdatetime\u001B[0m.timezone.utc\u001B[1m)\u001B[0m,\n",
       "    \u001B[32m'retry'\u001B[0m: \u001B[1;36m0\u001B[0m,\n",
       "    \u001B[32m'update_time'\u001B[0m: \u001B[1;35mdatetime.datetime\u001B[0m\u001B[1m(\u001B[0m\u001B[1;36m2024\u001B[0m, \u001B[1;36m5\u001B[0m, \u001B[1;36m23\u001B[0m, \u001B[1;36m6\u001B[0m, \u001B[1;36m8\u001B[0m, \u001B[1;36m46\u001B[0m, \u001B[1;36m947787\u001B[0m, \u001B[33mtzinfo\u001B[0m=\u001B[35mdatetime\u001B[0m.timezone.utc\u001B[1m)\u001B[0m,\n",
       "    \u001B[32m'key'\u001B[0m: \u001B[32m'test____t-2'\u001B[0m,\n",
       "    \u001B[32m'status'\u001B[0m: \u001B[1;36m40\u001B[0m,\n",
       "    \u001B[32m'value'\u001B[0m: \u001B[32m'test____040____010'\u001B[0m\n",
       "\u001B[1m}\u001B[0m\n"
      ]
     },
     "metadata": {},
     "output_type": "display_data"
    },
    {
     "name": "stdout",
     "output_type": "stream",
     "text": [
      "step1.status_name = 'succeeded'\n",
      "step1.is_locked() = False\n"
     ]
    }
   ],
   "source": [
    "step1 = Step1.get_one_or_none(task_id=task_id)\n",
    "rprint(step1.to_dict())\n",
    "print(f\"{step1.status_name = }\")\n",
    "print(f\"{step1.is_locked() = }\")"
   ]
  },
  {
   "cell_type": "markdown",
   "metadata": {
    "collapsed": false,
    "pycharm": {
     "name": "#%% md\n"
    }
   },
   "source": [
    "## Ignoring Tasks that Fail Too Many Times\n",
    "\n",
    "You don't want a task that logically can never succeed to fall into an endless loop. For example, you may accidentally upload a video clip as the document, making it impossible to process it as a PDF. In this example, we defined the maximum number of retry attempts as 3. If a task fails 3 times in a row, it will be ignored. If you attempt to start a task that has been ignored, you will encounter a ``TaskIgnoredError``. During the 3 retry attempts, you will observe how the status changes and the retry count increases. You can also review the error history in the ``errors`` attribute."
   ]
  },
  {
   "cell_type": "code",
   "execution_count": 21,
   "metadata": {
    "ExecuteTime": {
     "end_time": "2024-05-23T05:33:56.282948Z",
     "start_time": "2024-05-23T05:33:56.246390Z"
    },
    "collapsed": false,
    "pycharm": {
     "name": "#%%\n"
    }
   },
   "outputs": [
    {
     "name": "stdout",
     "output_type": "stream",
     "text": [
      "at the 0th attempt, the task is:\n"
     ]
    },
    {
     "data": {
      "text/html": [
       "<pre style=\"white-space:pre;overflow-x:auto;line-height:normal;font-family:Menlo,'DejaVu Sans Mono',consolas,'Courier New',monospace\"><span style=\"font-weight: bold\">{</span>\n",
       "    <span style=\"color: #008000; text-decoration-color: #008000\">'create_time'</span>: <span style=\"color: #800080; text-decoration-color: #800080; font-weight: bold\">datetime.datetime</span><span style=\"font-weight: bold\">(</span><span style=\"color: #008080; text-decoration-color: #008080; font-weight: bold\">2024</span>, <span style=\"color: #008080; text-decoration-color: #008080; font-weight: bold\">5</span>, <span style=\"color: #008080; text-decoration-color: #008080; font-weight: bold\">23</span>, <span style=\"color: #008080; text-decoration-color: #008080; font-weight: bold\">6</span>, <span style=\"color: #008080; text-decoration-color: #008080; font-weight: bold\">8</span>, <span style=\"color: #008080; text-decoration-color: #008080; font-weight: bold\">55</span>, <span style=\"color: #008080; text-decoration-color: #008080; font-weight: bold\">147957</span>, <span style=\"color: #808000; text-decoration-color: #808000\">tzinfo</span>=<span style=\"color: #800080; text-decoration-color: #800080\">datetime</span>.timezone.utc<span style=\"font-weight: bold\">)</span>,\n",
       "    <span style=\"color: #008000; text-decoration-color: #008000\">'data'</span>: <span style=\"font-weight: bold\">{}</span>,\n",
       "    <span style=\"color: #008000; text-decoration-color: #008000\">'errors'</span>: <span style=\"font-weight: bold\">{</span><span style=\"color: #008000; text-decoration-color: #008000\">'history'</span>: <span style=\"font-weight: bold\">[]}</span>,\n",
       "    <span style=\"color: #008000; text-decoration-color: #008000\">'lock'</span>: <span style=\"color: #008000; text-decoration-color: #008000\">'__not_locked__'</span>,\n",
       "    <span style=\"color: #008000; text-decoration-color: #008000\">'lock_time'</span>: <span style=\"color: #800080; text-decoration-color: #800080; font-weight: bold\">datetime.datetime</span><span style=\"font-weight: bold\">(</span><span style=\"color: #008080; text-decoration-color: #008080; font-weight: bold\">1970</span>, <span style=\"color: #008080; text-decoration-color: #008080; font-weight: bold\">1</span>, <span style=\"color: #008080; text-decoration-color: #008080; font-weight: bold\">1</span>, <span style=\"color: #008080; text-decoration-color: #008080; font-weight: bold\">0</span>, <span style=\"color: #008080; text-decoration-color: #008080; font-weight: bold\">0</span>, <span style=\"color: #808000; text-decoration-color: #808000\">tzinfo</span>=<span style=\"color: #800080; text-decoration-color: #800080\">datetime</span>.timezone.utc<span style=\"font-weight: bold\">)</span>,\n",
       "    <span style=\"color: #008000; text-decoration-color: #008000\">'retry'</span>: <span style=\"color: #008080; text-decoration-color: #008080; font-weight: bold\">0</span>,\n",
       "    <span style=\"color: #008000; text-decoration-color: #008000\">'update_time'</span>: <span style=\"color: #800080; text-decoration-color: #800080; font-weight: bold\">datetime.datetime</span><span style=\"font-weight: bold\">(</span><span style=\"color: #008080; text-decoration-color: #008080; font-weight: bold\">2024</span>, <span style=\"color: #008080; text-decoration-color: #008080; font-weight: bold\">5</span>, <span style=\"color: #008080; text-decoration-color: #008080; font-weight: bold\">23</span>, <span style=\"color: #008080; text-decoration-color: #008080; font-weight: bold\">6</span>, <span style=\"color: #008080; text-decoration-color: #008080; font-weight: bold\">8</span>, <span style=\"color: #008080; text-decoration-color: #008080; font-weight: bold\">55</span>, <span style=\"color: #008080; text-decoration-color: #008080; font-weight: bold\">148040</span>, <span style=\"color: #808000; text-decoration-color: #808000\">tzinfo</span>=<span style=\"color: #800080; text-decoration-color: #800080\">datetime</span>.timezone.utc<span style=\"font-weight: bold\">)</span>,\n",
       "    <span style=\"color: #008000; text-decoration-color: #008000\">'key'</span>: <span style=\"color: #008000; text-decoration-color: #008000\">'test____t-3'</span>,\n",
       "    <span style=\"color: #008000; text-decoration-color: #008000\">'value'</span>: <span style=\"color: #008000; text-decoration-color: #008000\">'test____010____002'</span>,\n",
       "    <span style=\"color: #008000; text-decoration-color: #008000\">'status'</span>: <span style=\"color: #008080; text-decoration-color: #008080; font-weight: bold\">10</span>\n",
       "<span style=\"font-weight: bold\">}</span>\n",
       "</pre>\n"
      ],
      "text/plain": [
       "\u001B[1m{\u001B[0m\n",
       "    \u001B[32m'create_time'\u001B[0m: \u001B[1;35mdatetime.datetime\u001B[0m\u001B[1m(\u001B[0m\u001B[1;36m2024\u001B[0m, \u001B[1;36m5\u001B[0m, \u001B[1;36m23\u001B[0m, \u001B[1;36m6\u001B[0m, \u001B[1;36m8\u001B[0m, \u001B[1;36m55\u001B[0m, \u001B[1;36m147957\u001B[0m, \u001B[33mtzinfo\u001B[0m=\u001B[35mdatetime\u001B[0m.timezone.utc\u001B[1m)\u001B[0m,\n",
       "    \u001B[32m'data'\u001B[0m: \u001B[1m{\u001B[0m\u001B[1m}\u001B[0m,\n",
       "    \u001B[32m'errors'\u001B[0m: \u001B[1m{\u001B[0m\u001B[32m'history'\u001B[0m: \u001B[1m[\u001B[0m\u001B[1m]\u001B[0m\u001B[1m}\u001B[0m,\n",
       "    \u001B[32m'lock'\u001B[0m: \u001B[32m'__not_locked__'\u001B[0m,\n",
       "    \u001B[32m'lock_time'\u001B[0m: \u001B[1;35mdatetime.datetime\u001B[0m\u001B[1m(\u001B[0m\u001B[1;36m1970\u001B[0m, \u001B[1;36m1\u001B[0m, \u001B[1;36m1\u001B[0m, \u001B[1;36m0\u001B[0m, \u001B[1;36m0\u001B[0m, \u001B[33mtzinfo\u001B[0m=\u001B[35mdatetime\u001B[0m.timezone.utc\u001B[1m)\u001B[0m,\n",
       "    \u001B[32m'retry'\u001B[0m: \u001B[1;36m0\u001B[0m,\n",
       "    \u001B[32m'update_time'\u001B[0m: \u001B[1;35mdatetime.datetime\u001B[0m\u001B[1m(\u001B[0m\u001B[1;36m2024\u001B[0m, \u001B[1;36m5\u001B[0m, \u001B[1;36m23\u001B[0m, \u001B[1;36m6\u001B[0m, \u001B[1;36m8\u001B[0m, \u001B[1;36m55\u001B[0m, \u001B[1;36m148040\u001B[0m, \u001B[33mtzinfo\u001B[0m=\u001B[35mdatetime\u001B[0m.timezone.utc\u001B[1m)\u001B[0m,\n",
       "    \u001B[32m'key'\u001B[0m: \u001B[32m'test____t-3'\u001B[0m,\n",
       "    \u001B[32m'value'\u001B[0m: \u001B[32m'test____010____002'\u001B[0m,\n",
       "    \u001B[32m'status'\u001B[0m: \u001B[1;36m10\u001B[0m\n",
       "\u001B[1m}\u001B[0m\n"
      ]
     },
     "metadata": {},
     "output_type": "display_data"
    }
   ],
   "source": [
    "task_id = \"t-3\"\n",
    "\n",
    "# create a new task\n",
    "step1 = Step1.make_and_save(task_id=task_id)\n",
    "\n",
    "print(\"at the 0th attempt, the task is:\")\n",
    "rprint(step1.to_dict())"
   ]
  },
  {
   "cell_type": "code",
   "execution_count": 22,
   "metadata": {
    "ExecuteTime": {
     "end_time": "2024-05-23T05:33:56.976950Z",
     "start_time": "2024-05-23T05:33:56.935389Z"
    },
    "collapsed": false,
    "pycharm": {
     "name": "#%%\n"
    }
   },
   "outputs": [
    {
     "name": "stdout",
     "output_type": "stream",
     "text": [
      "----------------------------------- ▶️ start Task(use_case_id='test', task_id='t-3'))-----------------------------------\n",
      "🔓 set status 'in_progress' and lock the task.\n",
      "❌ 🔐 task failed, set stats 'failed' and unlock the task.\n",
      "---------------------- ⏹️ end Task(use_case_id='test', task_id='t-3'), status=30)) (aka 'failed')-----------------------\n"
     ]
    },
    {
     "ename": "UserError",
     "evalue": "",
     "output_type": "error",
     "traceback": [
      "\u001B[0;31m---------------------------------------------------------------------------\u001B[0m",
      "\u001B[0;31mUserError\u001B[0m                                 Traceback (most recent call last)",
      "Cell \u001B[0;32mIn[22], line 2\u001B[0m\n\u001B[1;32m      1\u001B[0m \u001B[38;5;28;01mwith\u001B[39;00m Step1\u001B[38;5;241m.\u001B[39mstart(task_id\u001B[38;5;241m=\u001B[39mtask_id, debug\u001B[38;5;241m=\u001B[39m\u001B[38;5;28;01mTrue\u001B[39;00m):\n\u001B[0;32m----> 2\u001B[0m     \u001B[38;5;28;01mraise\u001B[39;00m UserError()\n",
      "\u001B[0;31mUserError\u001B[0m: "
     ]
    }
   ],
   "source": [
    "with Step1.start(task_id=task_id, debug=True):\n",
    "    raise UserError()"
   ]
  },
  {
   "cell_type": "code",
   "execution_count": 23,
   "metadata": {
    "ExecuteTime": {
     "end_time": "2024-05-23T05:34:24.361072Z",
     "start_time": "2024-05-23T05:34:23.903106Z"
    },
    "collapsed": false,
    "pycharm": {
     "name": "#%%\n"
    }
   },
   "outputs": [
    {
     "name": "stdout",
     "output_type": "stream",
     "text": [
      "after the 1th attempt, the task is:\n",
      "step1.status_name = 'failed'\n",
      "step1.retry = 1\n",
      "errors:\n"
     ]
    },
    {
     "data": {
      "text/html": [
       "<pre style=\"white-space:pre;overflow-x:auto;line-height:normal;font-family:Menlo,'DejaVu Sans Mono',consolas,'Courier New',monospace\"><span style=\"font-weight: bold\">{</span>\n",
       "    <span style=\"color: #008000; text-decoration-color: #008000\">'history'</span>: <span style=\"font-weight: bold\">[</span>\n",
       "        <span style=\"font-weight: bold\">{</span>\n",
       "            <span style=\"color: #008000; text-decoration-color: #008000\">'nth_retry'</span>: <span style=\"color: #008080; text-decoration-color: #008080; font-weight: bold\">1</span>,\n",
       "            <span style=\"color: #008000; text-decoration-color: #008000\">'update_time'</span>: <span style=\"color: #008000; text-decoration-color: #008000\">'2024-05-23T06:08:56.001230+00:00'</span>,\n",
       "            <span style=\"color: #008000; text-decoration-color: #008000\">'error'</span>: <span style=\"color: #008000; text-decoration-color: #008000\">'UserError()'</span>,\n",
       "            <span style=\"color: #008000; text-decoration-color: #008000\">'traceback'</span>: <span style=\"color: #008000; text-decoration-color: #008000\">'Traceback (most recent call last):\\n  File </span>\n",
       "<span style=\"color: #008000; text-decoration-color: #008000\">\"/Users/sanhehu/Documents/GitHub/pynamodb_mate-project/pynamodb_mate/patterns/status_tracker/impl.py\", line 894, in</span>\n",
       "<span style=\"color: #008000; text-decoration-color: #008000\">start\\n    yield execution_context\\n  File </span>\n",
       "<span style=\"color: #008000; text-decoration-color: #008000\">\"/var/folders/bl/vkmgjdsx5115w2xcnp67_8y40000gn/T/ipykernel_15901/2696996099.py\", line 2, in &lt;module&gt;\\n    raise </span>\n",
       "<span style=\"color: #008000; text-decoration-color: #008000\">UserError()\\nUserError\\n'</span>\n",
       "        <span style=\"font-weight: bold\">}</span>\n",
       "    <span style=\"font-weight: bold\">]</span>\n",
       "<span style=\"font-weight: bold\">}</span>\n",
       "</pre>\n"
      ],
      "text/plain": [
       "\u001B[1m{\u001B[0m\n",
       "    \u001B[32m'history'\u001B[0m: \u001B[1m[\u001B[0m\n",
       "        \u001B[1m{\u001B[0m\n",
       "            \u001B[32m'nth_retry'\u001B[0m: \u001B[1;36m1\u001B[0m,\n",
       "            \u001B[32m'update_time'\u001B[0m: \u001B[32m'2024-05-23T06:08:56.001230+00:00'\u001B[0m,\n",
       "            \u001B[32m'error'\u001B[0m: \u001B[32m'UserError\u001B[0m\u001B[32m(\u001B[0m\u001B[32m)\u001B[0m\u001B[32m'\u001B[0m,\n",
       "            \u001B[32m'traceback'\u001B[0m: \u001B[32m'Traceback \u001B[0m\u001B[32m(\u001B[0m\u001B[32mmost recent call last\u001B[0m\u001B[32m)\u001B[0m\u001B[32m:\\n  File \u001B[0m\n",
       "\u001B[32m\"/Users/sanhehu/Documents/GitHub/pynamodb_mate-project/pynamodb_mate/patterns/status_tracker/impl.py\", line 894, in\u001B[0m\n",
       "\u001B[32mstart\\n    yield execution_context\\n  File \u001B[0m\n",
       "\u001B[32m\"/var/folders/bl/vkmgjdsx5115w2xcnp67_8y40000gn/T/ipykernel_15901/2696996099.py\", line 2, in \u001B[0m\u001B[32m<\u001B[0m\u001B[32mmodule\u001B[0m\u001B[32m>\u001B[0m\u001B[32m\\n    raise \u001B[0m\n",
       "\u001B[32mUserError\u001B[0m\u001B[32m(\u001B[0m\u001B[32m)\u001B[0m\u001B[32m\\nUserError\\n'\u001B[0m\n",
       "        \u001B[1m}\u001B[0m\n",
       "    \u001B[1m]\u001B[0m\n",
       "\u001B[1m}\u001B[0m\n"
      ]
     },
     "metadata": {},
     "output_type": "display_data"
    }
   ],
   "source": [
    "print(\"after the 1th attempt, the task is:\")\n",
    "step1 = Step1.get_one_or_none(task_id=task_id)\n",
    "# rprint(step1.to_dict())\n",
    "print(f\"{step1.status_name = }\")\n",
    "print(f\"{step1.retry = }\")\n",
    "print(\"errors:\")\n",
    "rprint(step1.errors)"
   ]
  },
  {
   "cell_type": "code",
   "execution_count": 24,
   "metadata": {
    "ExecuteTime": {
     "end_time": "2024-05-23T05:35:24.488109Z",
     "start_time": "2024-05-23T05:35:24.445664Z"
    },
    "collapsed": false,
    "pycharm": {
     "name": "#%%\n"
    }
   },
   "outputs": [
    {
     "name": "stdout",
     "output_type": "stream",
     "text": [
      "----------------------------------- ▶️ start Task(use_case_id='test', task_id='t-3'))-----------------------------------\n",
      "🔓 set status 'in_progress' and lock the task.\n",
      "❌ 🔐 task failed, set stats 'failed' and unlock the task.\n",
      "---------------------- ⏹️ end Task(use_case_id='test', task_id='t-3'), status=30)) (aka 'failed')-----------------------\n"
     ]
    },
    {
     "ename": "UserError",
     "evalue": "",
     "output_type": "error",
     "traceback": [
      "\u001B[0;31m---------------------------------------------------------------------------\u001B[0m",
      "\u001B[0;31mUserError\u001B[0m                                 Traceback (most recent call last)",
      "Cell \u001B[0;32mIn[24], line 2\u001B[0m\n\u001B[1;32m      1\u001B[0m \u001B[38;5;28;01mwith\u001B[39;00m Step1\u001B[38;5;241m.\u001B[39mstart(task_id\u001B[38;5;241m=\u001B[39mtask_id, debug\u001B[38;5;241m=\u001B[39m\u001B[38;5;28;01mTrue\u001B[39;00m):\n\u001B[0;32m----> 2\u001B[0m     \u001B[38;5;28;01mraise\u001B[39;00m UserError()\n",
      "\u001B[0;31mUserError\u001B[0m: "
     ]
    }
   ],
   "source": [
    "with Step1.start(task_id=task_id, debug=True):\n",
    "    raise UserError()"
   ]
  },
  {
   "cell_type": "code",
   "execution_count": 25,
   "metadata": {
    "ExecuteTime": {
     "end_time": "2024-05-23T05:35:32.452681Z",
     "start_time": "2024-05-23T05:35:32.419143Z"
    },
    "collapsed": false,
    "pycharm": {
     "name": "#%%\n"
    }
   },
   "outputs": [
    {
     "name": "stdout",
     "output_type": "stream",
     "text": [
      "after the 2th attempt, the task is:\n",
      "step1.status_name = 'failed'\n",
      "step1.retry = 2\n",
      "errors:\n"
     ]
    },
    {
     "data": {
      "text/html": [
       "<pre style=\"white-space:pre;overflow-x:auto;line-height:normal;font-family:Menlo,'DejaVu Sans Mono',consolas,'Courier New',monospace\"><span style=\"font-weight: bold\">{</span>\n",
       "    <span style=\"color: #008000; text-decoration-color: #008000\">'history'</span>: <span style=\"font-weight: bold\">[</span>\n",
       "        <span style=\"font-weight: bold\">{</span>\n",
       "            <span style=\"color: #008000; text-decoration-color: #008000\">'nth_retry'</span>: <span style=\"color: #008080; text-decoration-color: #008080; font-weight: bold\">1</span>,\n",
       "            <span style=\"color: #008000; text-decoration-color: #008000\">'update_time'</span>: <span style=\"color: #008000; text-decoration-color: #008000\">'2024-05-23T06:08:56.001230+00:00'</span>,\n",
       "            <span style=\"color: #008000; text-decoration-color: #008000\">'error'</span>: <span style=\"color: #008000; text-decoration-color: #008000\">'UserError()'</span>,\n",
       "            <span style=\"color: #008000; text-decoration-color: #008000\">'traceback'</span>: <span style=\"color: #008000; text-decoration-color: #008000\">'Traceback (most recent call last):\\n  File </span>\n",
       "<span style=\"color: #008000; text-decoration-color: #008000\">\"/Users/sanhehu/Documents/GitHub/pynamodb_mate-project/pynamodb_mate/patterns/status_tracker/impl.py\", line 894, in</span>\n",
       "<span style=\"color: #008000; text-decoration-color: #008000\">start\\n    yield execution_context\\n  File </span>\n",
       "<span style=\"color: #008000; text-decoration-color: #008000\">\"/var/folders/bl/vkmgjdsx5115w2xcnp67_8y40000gn/T/ipykernel_15901/2696996099.py\", line 2, in &lt;module&gt;\\n    raise </span>\n",
       "<span style=\"color: #008000; text-decoration-color: #008000\">UserError()\\nUserError\\n'</span>\n",
       "<span style=\"color: #000000; text-decoration-color: #000000\">        </span><span style=\"color: #000000; text-decoration-color: #000000; font-weight: bold\">}</span><span style=\"color: #000000; text-decoration-color: #000000\">,</span>\n",
       "<span style=\"color: #000000; text-decoration-color: #000000\">        </span><span style=\"color: #000000; text-decoration-color: #000000; font-weight: bold\">{</span>\n",
       "<span style=\"color: #000000; text-decoration-color: #000000\">            </span><span style=\"color: #008000; text-decoration-color: #008000\">'nth_retry'</span><span style=\"color: #000000; text-decoration-color: #000000\">: </span><span style=\"color: #008080; text-decoration-color: #008080; font-weight: bold\">2</span><span style=\"color: #000000; text-decoration-color: #000000\">,</span>\n",
       "<span style=\"color: #000000; text-decoration-color: #000000\">            </span><span style=\"color: #008000; text-decoration-color: #008000\">'update_time'</span><span style=\"color: #000000; text-decoration-color: #000000\">: </span><span style=\"color: #008000; text-decoration-color: #008000\">'2024-05-23T06:08:57.733682+00:00'</span><span style=\"color: #000000; text-decoration-color: #000000\">,</span>\n",
       "<span style=\"color: #000000; text-decoration-color: #000000\">            </span><span style=\"color: #008000; text-decoration-color: #008000\">'error'</span><span style=\"color: #000000; text-decoration-color: #000000\">: </span><span style=\"color: #008000; text-decoration-color: #008000\">'UserError()'</span><span style=\"color: #000000; text-decoration-color: #000000\">,</span>\n",
       "<span style=\"color: #000000; text-decoration-color: #000000\">            </span><span style=\"color: #008000; text-decoration-color: #008000\">'traceback'</span><span style=\"color: #000000; text-decoration-color: #000000\">: </span><span style=\"color: #008000; text-decoration-color: #008000\">'Traceback (most recent call last):\\n  File </span>\n",
       "<span style=\"color: #008000; text-decoration-color: #008000\">\"/Users/sanhehu/Documents/GitHub/pynamodb_mate-project/pynamodb_mate/patterns/status_tracker/impl.py\", line 894, in</span>\n",
       "<span style=\"color: #008000; text-decoration-color: #008000\">start\\n    yield execution_context\\n  File </span>\n",
       "<span style=\"color: #008000; text-decoration-color: #008000\">\"/var/folders/bl/vkmgjdsx5115w2xcnp67_8y40000gn/T/ipykernel_15901/2696996099.py\", line 2, in &lt;module&gt;\\n    raise </span>\n",
       "<span style=\"color: #008000; text-decoration-color: #008000\">UserError()\\nUserError\\n'</span>\n",
       "        <span style=\"font-weight: bold\">}</span>\n",
       "    <span style=\"font-weight: bold\">]</span>\n",
       "<span style=\"font-weight: bold\">}</span>\n",
       "</pre>\n"
      ],
      "text/plain": [
       "\u001B[1m{\u001B[0m\n",
       "    \u001B[32m'history'\u001B[0m: \u001B[1m[\u001B[0m\n",
       "        \u001B[1m{\u001B[0m\n",
       "            \u001B[32m'nth_retry'\u001B[0m: \u001B[1;36m1\u001B[0m,\n",
       "            \u001B[32m'update_time'\u001B[0m: \u001B[32m'2024-05-23T06:08:56.001230+00:00'\u001B[0m,\n",
       "            \u001B[32m'error'\u001B[0m: \u001B[32m'UserError\u001B[0m\u001B[32m(\u001B[0m\u001B[32m)\u001B[0m\u001B[32m'\u001B[0m,\n",
       "            \u001B[32m'traceback'\u001B[0m: \u001B[32m'Traceback \u001B[0m\u001B[32m(\u001B[0m\u001B[32mmost recent call last\u001B[0m\u001B[32m)\u001B[0m\u001B[32m:\\n  File \u001B[0m\n",
       "\u001B[32m\"/Users/sanhehu/Documents/GitHub/pynamodb_mate-project/pynamodb_mate/patterns/status_tracker/impl.py\", line 894, in\u001B[0m\n",
       "\u001B[32mstart\\n    yield execution_context\\n  File \u001B[0m\n",
       "\u001B[32m\"/var/folders/bl/vkmgjdsx5115w2xcnp67_8y40000gn/T/ipykernel_15901/2696996099.py\", line 2, in \u001B[0m\u001B[32m<\u001B[0m\u001B[32mmodule\u001B[0m\u001B[32m>\\n    raise \u001B[0m\n",
       "\u001B[32mUserError\u001B[0m\u001B[32m(\u001B[0m\u001B[32m)\u001B[0m\u001B[32m\\nUserError\\n'\u001B[0m\n",
       "\u001B[39m        \u001B[0m\u001B[1;39m}\u001B[0m\u001B[39m,\u001B[0m\n",
       "\u001B[39m        \u001B[0m\u001B[1;39m{\u001B[0m\n",
       "\u001B[39m            \u001B[0m\u001B[32m'nth_retry'\u001B[0m\u001B[39m: \u001B[0m\u001B[1;36m2\u001B[0m\u001B[39m,\u001B[0m\n",
       "\u001B[39m            \u001B[0m\u001B[32m'update_time'\u001B[0m\u001B[39m: \u001B[0m\u001B[32m'2024-05-23T06:08:57.733682+00:00'\u001B[0m\u001B[39m,\u001B[0m\n",
       "\u001B[39m            \u001B[0m\u001B[32m'error'\u001B[0m\u001B[39m: \u001B[0m\u001B[32m'UserError\u001B[0m\u001B[32m(\u001B[0m\u001B[32m)\u001B[0m\u001B[32m'\u001B[0m\u001B[39m,\u001B[0m\n",
       "\u001B[39m            \u001B[0m\u001B[32m'traceback'\u001B[0m\u001B[39m: \u001B[0m\u001B[32m'Traceback \u001B[0m\u001B[32m(\u001B[0m\u001B[32mmost recent call last\u001B[0m\u001B[32m)\u001B[0m\u001B[32m:\\n  File \u001B[0m\n",
       "\u001B[32m\"/Users/sanhehu/Documents/GitHub/pynamodb_mate-project/pynamodb_mate/patterns/status_tracker/impl.py\", line 894, in\u001B[0m\n",
       "\u001B[32mstart\\n    yield execution_context\\n  File \u001B[0m\n",
       "\u001B[32m\"/var/folders/bl/vkmgjdsx5115w2xcnp67_8y40000gn/T/ipykernel_15901/2696996099.py\", line 2, in <module\u001B[0m\u001B[32m>\u001B[0m\u001B[32m\\n    raise \u001B[0m\n",
       "\u001B[32mUserError\u001B[0m\u001B[32m(\u001B[0m\u001B[32m)\u001B[0m\u001B[32m\\nUserError\\n'\u001B[0m\n",
       "        \u001B[1m}\u001B[0m\n",
       "    \u001B[1m]\u001B[0m\n",
       "\u001B[1m}\u001B[0m\n"
      ]
     },
     "metadata": {},
     "output_type": "display_data"
    }
   ],
   "source": [
    "print(\"after the 2th attempt, the task is:\")\n",
    "step1 = Step1.get_one_or_none(task_id=task_id)\n",
    "# rprint(step1.to_dict())\n",
    "print(f\"{step1.status_name = }\")\n",
    "print(f\"{step1.retry = }\")\n",
    "print(\"errors:\")\n",
    "rprint(step1.errors)"
   ]
  },
  {
   "cell_type": "markdown",
   "metadata": {
    "collapsed": false
   },
   "source": [
    "This is the 3rd attempts. This time you will see the task status becomes ``ignored``."
   ]
  },
  {
   "cell_type": "code",
   "execution_count": 26,
   "metadata": {
    "ExecuteTime": {
     "end_time": "2024-05-23T05:35:39.664128Z",
     "start_time": "2024-05-23T05:35:39.612209Z"
    },
    "collapsed": false,
    "pycharm": {
     "name": "#%%\n"
    }
   },
   "outputs": [
    {
     "name": "stdout",
     "output_type": "stream",
     "text": [
      "----------------------------------- ▶️ start Task(use_case_id='test', task_id='t-3'))-----------------------------------\n",
      "🔓 set status 'in_progress' and lock the task.\n",
      "❌ 🔐 task failed 3 times already, set status 'ignore' and unlock the task.\n",
      "---------------------- ⏹️ end Task(use_case_id='test', task_id='t-3'), status=50)) (aka 'ignored')----------------------\n"
     ]
    },
    {
     "ename": "UserError",
     "evalue": "",
     "output_type": "error",
     "traceback": [
      "\u001B[0;31m---------------------------------------------------------------------------\u001B[0m",
      "\u001B[0;31mUserError\u001B[0m                                 Traceback (most recent call last)",
      "Cell \u001B[0;32mIn[26], line 2\u001B[0m\n\u001B[1;32m      1\u001B[0m \u001B[38;5;28;01mwith\u001B[39;00m Step1\u001B[38;5;241m.\u001B[39mstart(task_id\u001B[38;5;241m=\u001B[39mtask_id, debug\u001B[38;5;241m=\u001B[39m\u001B[38;5;28;01mTrue\u001B[39;00m):\n\u001B[0;32m----> 2\u001B[0m     \u001B[38;5;28;01mraise\u001B[39;00m UserError()\n",
      "\u001B[0;31mUserError\u001B[0m: "
     ]
    }
   ],
   "source": [
    "with Step1.start(task_id=task_id, debug=True):\n",
    "    raise UserError()"
   ]
  },
  {
   "cell_type": "code",
   "execution_count": 27,
   "metadata": {
    "ExecuteTime": {
     "end_time": "2024-05-23T05:35:49.864142Z",
     "start_time": "2024-05-23T05:35:49.833384Z"
    },
    "collapsed": false,
    "pycharm": {
     "name": "#%%\n"
    }
   },
   "outputs": [
    {
     "name": "stdout",
     "output_type": "stream",
     "text": [
      "after the 3th attempt, the task is:\n",
      "step1.status_name = 'ignored'\n",
      "step1.retry = 3\n",
      "errors:\n"
     ]
    },
    {
     "data": {
      "text/html": [
       "<pre style=\"white-space:pre;overflow-x:auto;line-height:normal;font-family:Menlo,'DejaVu Sans Mono',consolas,'Courier New',monospace\"><span style=\"font-weight: bold\">{</span>\n",
       "    <span style=\"color: #008000; text-decoration-color: #008000\">'history'</span>: <span style=\"font-weight: bold\">[</span>\n",
       "        <span style=\"font-weight: bold\">{</span>\n",
       "            <span style=\"color: #008000; text-decoration-color: #008000\">'nth_retry'</span>: <span style=\"color: #008080; text-decoration-color: #008080; font-weight: bold\">1</span>,\n",
       "            <span style=\"color: #008000; text-decoration-color: #008000\">'update_time'</span>: <span style=\"color: #008000; text-decoration-color: #008000\">'2024-05-23T06:08:56.001230+00:00'</span>,\n",
       "            <span style=\"color: #008000; text-decoration-color: #008000\">'error'</span>: <span style=\"color: #008000; text-decoration-color: #008000\">'UserError()'</span>,\n",
       "            <span style=\"color: #008000; text-decoration-color: #008000\">'traceback'</span>: <span style=\"color: #008000; text-decoration-color: #008000\">'Traceback (most recent call last):\\n  File </span>\n",
       "<span style=\"color: #008000; text-decoration-color: #008000\">\"/Users/sanhehu/Documents/GitHub/pynamodb_mate-project/pynamodb_mate/patterns/status_tracker/impl.py\", line 894, in</span>\n",
       "<span style=\"color: #008000; text-decoration-color: #008000\">start\\n    yield execution_context\\n  File </span>\n",
       "<span style=\"color: #008000; text-decoration-color: #008000\">\"/var/folders/bl/vkmgjdsx5115w2xcnp67_8y40000gn/T/ipykernel_15901/2696996099.py\", line 2, in &lt;module&gt;\\n    raise </span>\n",
       "<span style=\"color: #008000; text-decoration-color: #008000\">UserError()\\nUserError\\n'</span>\n",
       "<span style=\"color: #000000; text-decoration-color: #000000\">        </span><span style=\"color: #000000; text-decoration-color: #000000; font-weight: bold\">}</span><span style=\"color: #000000; text-decoration-color: #000000\">,</span>\n",
       "<span style=\"color: #000000; text-decoration-color: #000000\">        </span><span style=\"color: #000000; text-decoration-color: #000000; font-weight: bold\">{</span>\n",
       "<span style=\"color: #000000; text-decoration-color: #000000\">            </span><span style=\"color: #008000; text-decoration-color: #008000\">'nth_retry'</span><span style=\"color: #000000; text-decoration-color: #000000\">: </span><span style=\"color: #008080; text-decoration-color: #008080; font-weight: bold\">2</span><span style=\"color: #000000; text-decoration-color: #000000\">,</span>\n",
       "<span style=\"color: #000000; text-decoration-color: #000000\">            </span><span style=\"color: #008000; text-decoration-color: #008000\">'update_time'</span><span style=\"color: #000000; text-decoration-color: #000000\">: </span><span style=\"color: #008000; text-decoration-color: #008000\">'2024-05-23T06:08:57.733682+00:00'</span><span style=\"color: #000000; text-decoration-color: #000000\">,</span>\n",
       "<span style=\"color: #000000; text-decoration-color: #000000\">            </span><span style=\"color: #008000; text-decoration-color: #008000\">'error'</span><span style=\"color: #000000; text-decoration-color: #000000\">: </span><span style=\"color: #008000; text-decoration-color: #008000\">'UserError()'</span><span style=\"color: #000000; text-decoration-color: #000000\">,</span>\n",
       "<span style=\"color: #000000; text-decoration-color: #000000\">            </span><span style=\"color: #008000; text-decoration-color: #008000\">'traceback'</span><span style=\"color: #000000; text-decoration-color: #000000\">: </span><span style=\"color: #008000; text-decoration-color: #008000\">'Traceback (most recent call last):\\n  File </span>\n",
       "<span style=\"color: #008000; text-decoration-color: #008000\">\"/Users/sanhehu/Documents/GitHub/pynamodb_mate-project/pynamodb_mate/patterns/status_tracker/impl.py\", line 894, in</span>\n",
       "<span style=\"color: #008000; text-decoration-color: #008000\">start\\n    yield execution_context\\n  File </span>\n",
       "<span style=\"color: #008000; text-decoration-color: #008000\">\"/var/folders/bl/vkmgjdsx5115w2xcnp67_8y40000gn/T/ipykernel_15901/2696996099.py\", line 2, in &lt;module&gt;\\n    raise </span>\n",
       "<span style=\"color: #008000; text-decoration-color: #008000\">UserError()\\nUserError\\n'</span>\n",
       "<span style=\"color: #000000; text-decoration-color: #000000\">        </span><span style=\"color: #000000; text-decoration-color: #000000; font-weight: bold\">}</span><span style=\"color: #000000; text-decoration-color: #000000\">,</span>\n",
       "<span style=\"color: #000000; text-decoration-color: #000000\">        </span><span style=\"color: #000000; text-decoration-color: #000000; font-weight: bold\">{</span>\n",
       "<span style=\"color: #000000; text-decoration-color: #000000\">            </span><span style=\"color: #008000; text-decoration-color: #008000\">'nth_retry'</span><span style=\"color: #000000; text-decoration-color: #000000\">: </span><span style=\"color: #008080; text-decoration-color: #008080; font-weight: bold\">3</span><span style=\"color: #000000; text-decoration-color: #000000\">,</span>\n",
       "<span style=\"color: #000000; text-decoration-color: #000000\">            </span><span style=\"color: #008000; text-decoration-color: #008000\">'update_time'</span><span style=\"color: #000000; text-decoration-color: #000000\">: </span><span style=\"color: #008000; text-decoration-color: #008000\">'2024-05-23T06:09:01.961146+00:00'</span><span style=\"color: #000000; text-decoration-color: #000000\">,</span>\n",
       "<span style=\"color: #000000; text-decoration-color: #000000\">            </span><span style=\"color: #008000; text-decoration-color: #008000\">'error'</span><span style=\"color: #000000; text-decoration-color: #000000\">: </span><span style=\"color: #008000; text-decoration-color: #008000\">'UserError()'</span><span style=\"color: #000000; text-decoration-color: #000000\">,</span>\n",
       "<span style=\"color: #000000; text-decoration-color: #000000\">            </span><span style=\"color: #008000; text-decoration-color: #008000\">'traceback'</span><span style=\"color: #000000; text-decoration-color: #000000\">: </span><span style=\"color: #008000; text-decoration-color: #008000\">'Traceback (most recent call last):\\n  File </span>\n",
       "<span style=\"color: #008000; text-decoration-color: #008000\">\"/Users/sanhehu/Documents/GitHub/pynamodb_mate-project/pynamodb_mate/patterns/status_tracker/impl.py\", line 894, in</span>\n",
       "<span style=\"color: #008000; text-decoration-color: #008000\">start\\n    yield execution_context\\n  File </span>\n",
       "<span style=\"color: #008000; text-decoration-color: #008000\">\"/var/folders/bl/vkmgjdsx5115w2xcnp67_8y40000gn/T/ipykernel_15901/2696996099.py\", line 2, in &lt;module&gt;\\n    raise </span>\n",
       "<span style=\"color: #008000; text-decoration-color: #008000\">UserError()\\nUserError\\n'</span>\n",
       "        <span style=\"font-weight: bold\">}</span>\n",
       "    <span style=\"font-weight: bold\">]</span>\n",
       "<span style=\"font-weight: bold\">}</span>\n",
       "</pre>\n"
      ],
      "text/plain": [
       "\u001B[1m{\u001B[0m\n",
       "    \u001B[32m'history'\u001B[0m: \u001B[1m[\u001B[0m\n",
       "        \u001B[1m{\u001B[0m\n",
       "            \u001B[32m'nth_retry'\u001B[0m: \u001B[1;36m1\u001B[0m,\n",
       "            \u001B[32m'update_time'\u001B[0m: \u001B[32m'2024-05-23T06:08:56.001230+00:00'\u001B[0m,\n",
       "            \u001B[32m'error'\u001B[0m: \u001B[32m'UserError\u001B[0m\u001B[32m(\u001B[0m\u001B[32m)\u001B[0m\u001B[32m'\u001B[0m,\n",
       "            \u001B[32m'traceback'\u001B[0m: \u001B[32m'Traceback \u001B[0m\u001B[32m(\u001B[0m\u001B[32mmost recent call last\u001B[0m\u001B[32m)\u001B[0m\u001B[32m:\\n  File \u001B[0m\n",
       "\u001B[32m\"/Users/sanhehu/Documents/GitHub/pynamodb_mate-project/pynamodb_mate/patterns/status_tracker/impl.py\", line 894, in\u001B[0m\n",
       "\u001B[32mstart\\n    yield execution_context\\n  File \u001B[0m\n",
       "\u001B[32m\"/var/folders/bl/vkmgjdsx5115w2xcnp67_8y40000gn/T/ipykernel_15901/2696996099.py\", line 2, in \u001B[0m\u001B[32m<\u001B[0m\u001B[32mmodule\u001B[0m\u001B[32m>\\n    raise \u001B[0m\n",
       "\u001B[32mUserError\u001B[0m\u001B[32m(\u001B[0m\u001B[32m)\u001B[0m\u001B[32m\\nUserError\\n'\u001B[0m\n",
       "\u001B[39m        \u001B[0m\u001B[1;39m}\u001B[0m\u001B[39m,\u001B[0m\n",
       "\u001B[39m        \u001B[0m\u001B[1;39m{\u001B[0m\n",
       "\u001B[39m            \u001B[0m\u001B[32m'nth_retry'\u001B[0m\u001B[39m: \u001B[0m\u001B[1;36m2\u001B[0m\u001B[39m,\u001B[0m\n",
       "\u001B[39m            \u001B[0m\u001B[32m'update_time'\u001B[0m\u001B[39m: \u001B[0m\u001B[32m'2024-05-23T06:08:57.733682+00:00'\u001B[0m\u001B[39m,\u001B[0m\n",
       "\u001B[39m            \u001B[0m\u001B[32m'error'\u001B[0m\u001B[39m: \u001B[0m\u001B[32m'UserError\u001B[0m\u001B[32m(\u001B[0m\u001B[32m)\u001B[0m\u001B[32m'\u001B[0m\u001B[39m,\u001B[0m\n",
       "\u001B[39m            \u001B[0m\u001B[32m'traceback'\u001B[0m\u001B[39m: \u001B[0m\u001B[32m'Traceback \u001B[0m\u001B[32m(\u001B[0m\u001B[32mmost recent call last\u001B[0m\u001B[32m)\u001B[0m\u001B[32m:\\n  File \u001B[0m\n",
       "\u001B[32m\"/Users/sanhehu/Documents/GitHub/pynamodb_mate-project/pynamodb_mate/patterns/status_tracker/impl.py\", line 894, in\u001B[0m\n",
       "\u001B[32mstart\\n    yield execution_context\\n  File \u001B[0m\n",
       "\u001B[32m\"/var/folders/bl/vkmgjdsx5115w2xcnp67_8y40000gn/T/ipykernel_15901/2696996099.py\", line 2, in <module>\\n    raise \u001B[0m\n",
       "\u001B[32mUserError\u001B[0m\u001B[32m(\u001B[0m\u001B[32m)\u001B[0m\u001B[32m\\nUserError\\n'\u001B[0m\n",
       "\u001B[39m        \u001B[0m\u001B[1;39m}\u001B[0m\u001B[39m,\u001B[0m\n",
       "\u001B[39m        \u001B[0m\u001B[1;39m{\u001B[0m\n",
       "\u001B[39m            \u001B[0m\u001B[32m'nth_retry'\u001B[0m\u001B[39m: \u001B[0m\u001B[1;36m3\u001B[0m\u001B[39m,\u001B[0m\n",
       "\u001B[39m            \u001B[0m\u001B[32m'update_time'\u001B[0m\u001B[39m: \u001B[0m\u001B[32m'2024-05-23T06:09:01.961146+00:00'\u001B[0m\u001B[39m,\u001B[0m\n",
       "\u001B[39m            \u001B[0m\u001B[32m'error'\u001B[0m\u001B[39m: \u001B[0m\u001B[32m'UserError\u001B[0m\u001B[32m(\u001B[0m\u001B[32m)\u001B[0m\u001B[32m'\u001B[0m\u001B[39m,\u001B[0m\n",
       "\u001B[39m            \u001B[0m\u001B[32m'traceback'\u001B[0m\u001B[39m: \u001B[0m\u001B[32m'Traceback \u001B[0m\u001B[32m(\u001B[0m\u001B[32mmost recent call last\u001B[0m\u001B[32m)\u001B[0m\u001B[32m:\\n  File \u001B[0m\n",
       "\u001B[32m\"/Users/sanhehu/Documents/GitHub/pynamodb_mate-project/pynamodb_mate/patterns/status_tracker/impl.py\", line 894, in\u001B[0m\n",
       "\u001B[32mstart\\n    yield execution_context\\n  File \u001B[0m\n",
       "\u001B[32m\"/var/folders/bl/vkmgjdsx5115w2xcnp67_8y40000gn/T/ipykernel_15901/2696996099.py\", line 2, in <module\u001B[0m\u001B[32m>\u001B[0m\u001B[32m\\n    raise \u001B[0m\n",
       "\u001B[32mUserError\u001B[0m\u001B[32m(\u001B[0m\u001B[32m)\u001B[0m\u001B[32m\\nUserError\\n'\u001B[0m\n",
       "        \u001B[1m}\u001B[0m\n",
       "    \u001B[1m]\u001B[0m\n",
       "\u001B[1m}\u001B[0m\n"
      ]
     },
     "metadata": {},
     "output_type": "display_data"
    }
   ],
   "source": [
    "print(\"after the 3th attempt, the task is:\")\n",
    "step1 = Step1.get_one_or_none(task_id=task_id)\n",
    "# rprint(step1.to_dict())\n",
    "print(f\"{step1.status_name = }\")\n",
    "print(f\"{step1.retry = }\")\n",
    "print(\"errors:\")\n",
    "rprint(step1.errors)"
   ]
  },
  {
   "cell_type": "markdown",
   "metadata": {
    "collapsed": false
   },
   "source": [
    "You will see a ``TaskIgnoredError`` if you try to start the task again"
   ]
  },
  {
   "cell_type": "code",
   "execution_count": 28,
   "metadata": {
    "ExecuteTime": {
     "end_time": "2024-05-23T05:36:57.029620Z",
     "start_time": "2024-05-23T05:36:56.914052Z"
    },
    "collapsed": false
   },
   "outputs": [
    {
     "name": "stdout",
     "output_type": "stream",
     "text": [
      "----------------------------------- ▶️ start Task(use_case_id='test', task_id='t-3'))-----------------------------------\n",
      "🔓 set status 'in_progress' and lock the task.\n",
      "❌ task failed to get lock, because it is ignored.\n",
      "------------------------------------ ⏹️ end Task(use_case_id='test', task_id='t-3'))------------------------------------\n"
     ]
    },
    {
     "ename": "TaskIgnoredError",
     "evalue": "Task(use_case_id='test', task_id='t-3') is ignored.",
     "output_type": "error",
     "traceback": [
      "\u001B[0;31m---------------------------------------------------------------------------\u001B[0m",
      "\u001B[0;31mConditionalCheckFailedException\u001B[0m           Traceback (most recent call last)",
      "File \u001B[0;32m~/Documents/GitHub/pynamodb_mate-project/.venv/lib/python3.8/site-packages/pynamodb/connection/base.py:341\u001B[0m, in \u001B[0;36mConnection._make_api_call\u001B[0;34m(self, operation_name, operation_kwargs)\u001B[0m\n\u001B[1;32m    340\u001B[0m \u001B[38;5;28;01mtry\u001B[39;00m:\n\u001B[0;32m--> 341\u001B[0m     \u001B[38;5;28;01mreturn\u001B[39;00m \u001B[38;5;28;43mself\u001B[39;49m\u001B[38;5;241;43m.\u001B[39;49m\u001B[43mclient\u001B[49m\u001B[38;5;241;43m.\u001B[39;49m\u001B[43m_make_api_call\u001B[49m\u001B[43m(\u001B[49m\u001B[43moperation_name\u001B[49m\u001B[43m,\u001B[49m\u001B[43m \u001B[49m\u001B[43moperation_kwargs\u001B[49m\u001B[43m)\u001B[49m\n\u001B[1;32m    342\u001B[0m \u001B[38;5;28;01mexcept\u001B[39;00m ClientError \u001B[38;5;28;01mas\u001B[39;00m e:\n",
      "File \u001B[0;32m~/Documents/GitHub/pynamodb_mate-project/.venv/lib/python3.8/site-packages/botocore/client.py:1021\u001B[0m, in \u001B[0;36mBaseClient._make_api_call\u001B[0;34m(self, operation_name, api_params)\u001B[0m\n\u001B[1;32m   1020\u001B[0m     error_class \u001B[38;5;241m=\u001B[39m \u001B[38;5;28mself\u001B[39m\u001B[38;5;241m.\u001B[39mexceptions\u001B[38;5;241m.\u001B[39mfrom_code(error_code)\n\u001B[0;32m-> 1021\u001B[0m     \u001B[38;5;28;01mraise\u001B[39;00m error_class(parsed_response, operation_name)\n\u001B[1;32m   1022\u001B[0m \u001B[38;5;28;01melse\u001B[39;00m:\n",
      "\u001B[0;31mConditionalCheckFailedException\u001B[0m: An error occurred (ConditionalCheckFailedException) when calling the UpdateItem operation: The conditional request failed",
      "\nThe above exception was the direct cause of the following exception:\n",
      "\u001B[0;31mVerboseClientError\u001B[0m                        Traceback (most recent call last)",
      "File \u001B[0;32m~/Documents/GitHub/pynamodb_mate-project/.venv/lib/python3.8/site-packages/pynamodb/connection/base.py:878\u001B[0m, in \u001B[0;36mConnection.update_item\u001B[0;34m(self, table_name, hash_key, range_key, actions, condition, return_consumed_capacity, return_item_collection_metrics, return_values)\u001B[0m\n\u001B[1;32m    877\u001B[0m \u001B[38;5;28;01mtry\u001B[39;00m:\n\u001B[0;32m--> 878\u001B[0m     \u001B[38;5;28;01mreturn\u001B[39;00m \u001B[38;5;28;43mself\u001B[39;49m\u001B[38;5;241;43m.\u001B[39;49m\u001B[43mdispatch\u001B[49m\u001B[43m(\u001B[49m\u001B[43mUPDATE_ITEM\u001B[49m\u001B[43m,\u001B[49m\u001B[43m \u001B[49m\u001B[43moperation_kwargs\u001B[49m\u001B[43m)\u001B[49m\n\u001B[1;32m    879\u001B[0m \u001B[38;5;28;01mexcept\u001B[39;00m BOTOCORE_EXCEPTIONS \u001B[38;5;28;01mas\u001B[39;00m e:\n",
      "File \u001B[0;32m~/Documents/GitHub/pynamodb_mate-project/.venv/lib/python3.8/site-packages/pynamodb/connection/base.py:312\u001B[0m, in \u001B[0;36mConnection.dispatch\u001B[0;34m(self, operation_name, operation_kwargs)\u001B[0m\n\u001B[1;32m    311\u001B[0m \u001B[38;5;28mself\u001B[39m\u001B[38;5;241m.\u001B[39msend_pre_boto_callback(operation_name, req_uuid, table_name)\n\u001B[0;32m--> 312\u001B[0m data \u001B[38;5;241m=\u001B[39m \u001B[38;5;28;43mself\u001B[39;49m\u001B[38;5;241;43m.\u001B[39;49m\u001B[43m_make_api_call\u001B[49m\u001B[43m(\u001B[49m\u001B[43moperation_name\u001B[49m\u001B[43m,\u001B[49m\u001B[43m \u001B[49m\u001B[43moperation_kwargs\u001B[49m\u001B[43m)\u001B[49m\n\u001B[1;32m    313\u001B[0m \u001B[38;5;28mself\u001B[39m\u001B[38;5;241m.\u001B[39msend_post_boto_callback(operation_name, req_uuid, table_name)\n",
      "File \u001B[0;32m~/Documents/GitHub/pynamodb_mate-project/.venv/lib/python3.8/site-packages/pynamodb/connection/base.py:351\u001B[0m, in \u001B[0;36mConnection._make_api_call\u001B[0;34m(self, operation_name, operation_kwargs)\u001B[0m\n\u001B[1;32m    347\u001B[0m verbose_props \u001B[38;5;241m=\u001B[39m {\n\u001B[1;32m    348\u001B[0m     \u001B[38;5;124m'\u001B[39m\u001B[38;5;124mrequest_id\u001B[39m\u001B[38;5;124m'\u001B[39m: resp_metadata\u001B[38;5;241m.\u001B[39mget(\u001B[38;5;124m'\u001B[39m\u001B[38;5;124mx-amzn-requestid\u001B[39m\u001B[38;5;124m'\u001B[39m, \u001B[38;5;124m'\u001B[39m\u001B[38;5;124m'\u001B[39m),\n\u001B[1;32m    349\u001B[0m     \u001B[38;5;124m'\u001B[39m\u001B[38;5;124mtable_name\u001B[39m\u001B[38;5;124m'\u001B[39m: \u001B[38;5;28mself\u001B[39m\u001B[38;5;241m.\u001B[39m_get_table_name_for_error_context(operation_kwargs),\n\u001B[1;32m    350\u001B[0m }\n\u001B[0;32m--> 351\u001B[0m \u001B[38;5;28;01mraise\u001B[39;00m VerboseClientError(\n\u001B[1;32m    352\u001B[0m     botocore_props,\n\u001B[1;32m    353\u001B[0m     operation_name,\n\u001B[1;32m    354\u001B[0m     verbose_props,\n\u001B[1;32m    355\u001B[0m     cancellation_reasons\u001B[38;5;241m=\u001B[39m(\n\u001B[1;32m    356\u001B[0m         (\n\u001B[1;32m    357\u001B[0m             CancellationReason(\n\u001B[1;32m    358\u001B[0m                 code\u001B[38;5;241m=\u001B[39md[\u001B[38;5;124m'\u001B[39m\u001B[38;5;124mCode\u001B[39m\u001B[38;5;124m'\u001B[39m],\n\u001B[1;32m    359\u001B[0m                 message\u001B[38;5;241m=\u001B[39md\u001B[38;5;241m.\u001B[39mget(\u001B[38;5;124m'\u001B[39m\u001B[38;5;124mMessage\u001B[39m\u001B[38;5;124m'\u001B[39m),\n\u001B[1;32m    360\u001B[0m             ) \u001B[38;5;28;01mif\u001B[39;00m d[\u001B[38;5;124m'\u001B[39m\u001B[38;5;124mCode\u001B[39m\u001B[38;5;124m'\u001B[39m] \u001B[38;5;241m!=\u001B[39m \u001B[38;5;124m'\u001B[39m\u001B[38;5;124mNone\u001B[39m\u001B[38;5;124m'\u001B[39m \u001B[38;5;28;01melse\u001B[39;00m \u001B[38;5;28;01mNone\u001B[39;00m\n\u001B[1;32m    361\u001B[0m         )\n\u001B[1;32m    362\u001B[0m         \u001B[38;5;28;01mfor\u001B[39;00m d \u001B[38;5;129;01min\u001B[39;00m cancellation_reasons\n\u001B[1;32m    363\u001B[0m     ),\n\u001B[1;32m    364\u001B[0m ) \u001B[38;5;28;01mfrom\u001B[39;00m \u001B[38;5;21;01me\u001B[39;00m\n",
      "\u001B[0;31mVerboseClientError\u001B[0m: An error occurred (ConditionalCheckFailedException) on request (09P8A80K4B93DG18C3JH8H7DRVVV4KQNSO5AEMVJF66Q9ASUAAJG) on table (pynamodb-mate-test-status-tracker) when calling the UpdateItem operation: The conditional request failed",
      "\nDuring handling of the above exception, another exception occurred:\n",
      "\u001B[0;31mUpdateError\u001B[0m                               Traceback (most recent call last)",
      "File \u001B[0;32m~/Documents/GitHub/pynamodb_mate-project/pynamodb_mate/patterns/status_tracker/impl.py:784\u001B[0m, in \u001B[0;36mBaseTask.start\u001B[0;34m(cls, task_id, detailed_error, debug)\u001B[0m\n\u001B[1;32m    783\u001B[0m \u001B[38;5;28;01mtry\u001B[39;00m:\n\u001B[0;32m--> 784\u001B[0m     res \u001B[38;5;241m=\u001B[39m \u001B[43mtask\u001B[49m\u001B[38;5;241;43m.\u001B[39;49m\u001B[43mupdate\u001B[49m\u001B[43m(\u001B[49m\n\u001B[1;32m    785\u001B[0m \u001B[43m        \u001B[49m\u001B[43mactions\u001B[49m\u001B[38;5;241;43m=\u001B[39;49m\u001B[43m[\u001B[49m\n\u001B[1;32m    786\u001B[0m \u001B[43m            \u001B[49m\u001B[38;5;28;43mcls\u001B[39;49m\u001B[38;5;241;43m.\u001B[39;49m\u001B[43mvalue\u001B[49m\u001B[38;5;241;43m.\u001B[39;49m\u001B[43mset\u001B[49m\u001B[43m(\u001B[49m\n\u001B[1;32m    787\u001B[0m \u001B[43m                \u001B[49m\u001B[38;5;28;43mcls\u001B[39;49m\u001B[38;5;241;43m.\u001B[39;49m\u001B[43mmake_value\u001B[49m\u001B[43m(\u001B[49m\n\u001B[1;32m    788\u001B[0m \u001B[43m                    \u001B[49m\u001B[43mstatus\u001B[49m\u001B[38;5;241;43m=\u001B[39;49m\u001B[38;5;28;43mcls\u001B[39;49m\u001B[38;5;241;43m.\u001B[39;49m\u001B[43mconfig\u001B[49m\u001B[38;5;241;43m.\u001B[39;49m\u001B[43min_progress_status\u001B[49m\u001B[43m,\u001B[49m\n\u001B[1;32m    789\u001B[0m \u001B[43m                    \u001B[49m\u001B[43m_task_id\u001B[49m\u001B[38;5;241;43m=\u001B[39;49m\u001B[43mtask_id\u001B[49m\u001B[43m,\u001B[49m\n\u001B[1;32m    790\u001B[0m \u001B[43m                \u001B[49m\u001B[43m)\u001B[49m\n\u001B[1;32m    791\u001B[0m \u001B[43m            \u001B[49m\u001B[43m)\u001B[49m\u001B[43m,\u001B[49m\n\u001B[1;32m    792\u001B[0m \u001B[43m            \u001B[49m\u001B[38;5;28;43mcls\u001B[39;49m\u001B[38;5;241;43m.\u001B[39;49m\u001B[43mstatus\u001B[49m\u001B[38;5;241;43m.\u001B[39;49m\u001B[43mset\u001B[49m\u001B[43m(\u001B[49m\u001B[38;5;28;43mcls\u001B[39;49m\u001B[38;5;241;43m.\u001B[39;49m\u001B[43mconfig\u001B[49m\u001B[38;5;241;43m.\u001B[39;49m\u001B[43min_progress_status\u001B[49m\u001B[43m)\u001B[49m\u001B[43m,\u001B[49m\n\u001B[1;32m    793\u001B[0m \u001B[43m            \u001B[49m\u001B[38;5;28;43mcls\u001B[39;49m\u001B[38;5;241;43m.\u001B[39;49m\u001B[43mlock\u001B[49m\u001B[38;5;241;43m.\u001B[39;49m\u001B[43mset\u001B[49m\u001B[43m(\u001B[49m\u001B[43mlock\u001B[49m\u001B[43m)\u001B[49m\u001B[43m,\u001B[49m\n\u001B[1;32m    794\u001B[0m \u001B[43m            \u001B[49m\u001B[38;5;28;43mcls\u001B[39;49m\u001B[38;5;241;43m.\u001B[39;49m\u001B[43mlock_time\u001B[49m\u001B[38;5;241;43m.\u001B[39;49m\u001B[43mset\u001B[49m\u001B[43m(\u001B[49m\u001B[43mlock_time\u001B[49m\u001B[43m)\u001B[49m\u001B[43m,\u001B[49m\n\u001B[1;32m    795\u001B[0m \u001B[43m        \u001B[49m\u001B[43m]\u001B[49m\u001B[43m,\u001B[49m\n\u001B[1;32m    796\u001B[0m \u001B[43m        \u001B[49m\u001B[38;5;66;43;03m# we get the lock only if the task is not locked and\u001B[39;49;00m\n\u001B[1;32m    797\u001B[0m \u001B[43m        \u001B[49m\u001B[38;5;66;43;03m# task is in todo_status or failed_status\u001B[39;49;00m\n\u001B[1;32m    798\u001B[0m \u001B[43m        \u001B[49m\u001B[38;5;66;43;03m# See: https://pynamodb.readthedocs.io/en/latest/conditional.html\u001B[39;49;00m\n\u001B[1;32m    799\u001B[0m \u001B[43m        \u001B[49m\u001B[38;5;66;43;03m# to know about the condition expression\u001B[39;49;00m\n\u001B[1;32m    800\u001B[0m \u001B[43m        \u001B[49m\u001B[43mcondition\u001B[49m\u001B[38;5;241;43m=\u001B[39;49m\u001B[43m(\u001B[49m\n\u001B[1;32m    801\u001B[0m \u001B[43m            \u001B[49m\u001B[43m(\u001B[49m\n\u001B[1;32m    802\u001B[0m \u001B[43m                \u001B[49m\u001B[43m(\u001B[49m\u001B[38;5;28;43mcls\u001B[39;49m\u001B[38;5;241;43m.\u001B[39;49m\u001B[43mlock\u001B[49m\u001B[43m \u001B[49m\u001B[38;5;241;43m==\u001B[39;49m\u001B[43m \u001B[49m\u001B[43mNOT_LOCKED\u001B[49m\u001B[43m)\u001B[49m\n\u001B[1;32m    803\u001B[0m \u001B[43m                \u001B[49m\u001B[38;5;241;43m|\u001B[39;49m\u001B[43m \u001B[49m\u001B[43m(\u001B[49m\u001B[38;5;28;43mcls\u001B[39;49m\u001B[38;5;241;43m.\u001B[39;49m\u001B[43mlock\u001B[49m\u001B[43m \u001B[49m\u001B[38;5;241;43m==\u001B[39;49m\u001B[43m \u001B[49m\u001B[43mlock\u001B[49m\u001B[43m)\u001B[49m\n\u001B[1;32m    804\u001B[0m \u001B[43m                \u001B[49m\u001B[38;5;241;43m|\u001B[39;49m\u001B[43m \u001B[49m\u001B[43m(\u001B[49m\n\u001B[1;32m    805\u001B[0m \u001B[43m                    \u001B[49m\u001B[38;5;28;43mcls\u001B[39;49m\u001B[38;5;241;43m.\u001B[39;49m\u001B[43mlock_time\u001B[49m\n\u001B[1;32m    806\u001B[0m \u001B[43m                    \u001B[49m\u001B[38;5;241;43m<\u001B[39;49m\u001B[43m \u001B[49m\u001B[43m(\u001B[49m\n\u001B[1;32m    807\u001B[0m \u001B[43m                        \u001B[49m\u001B[43mlock_time\u001B[49m\n\u001B[1;32m    808\u001B[0m \u001B[43m                        \u001B[49m\u001B[38;5;241;43m-\u001B[39;49m\u001B[43m \u001B[49m\u001B[43mtimedelta\u001B[49m\u001B[43m(\u001B[49m\u001B[43mseconds\u001B[49m\u001B[38;5;241;43m=\u001B[39;49m\u001B[38;5;28;43mcls\u001B[39;49m\u001B[38;5;241;43m.\u001B[39;49m\u001B[43mconfig\u001B[49m\u001B[38;5;241;43m.\u001B[39;49m\u001B[43mlock_expire_seconds\u001B[49m\u001B[43m)\u001B[49m\n\u001B[1;32m    809\u001B[0m \u001B[43m                    \u001B[49m\u001B[43m)\u001B[49m\n\u001B[1;32m    810\u001B[0m \u001B[43m                \u001B[49m\u001B[43m)\u001B[49m\n\u001B[1;32m    811\u001B[0m \u001B[43m            \u001B[49m\u001B[43m)\u001B[49m\n\u001B[1;32m    812\u001B[0m \u001B[43m            \u001B[49m\u001B[38;5;241;43m&\u001B[39;49m\u001B[43m \u001B[49m\u001B[43m(\u001B[49m\n\u001B[1;32m    813\u001B[0m \u001B[43m                \u001B[49m\u001B[43m(\u001B[49m\u001B[38;5;28;43mcls\u001B[39;49m\u001B[38;5;241;43m.\u001B[39;49m\u001B[43mstatus\u001B[49m\u001B[43m \u001B[49m\u001B[38;5;241;43m==\u001B[39;49m\u001B[43m \u001B[49m\u001B[38;5;28;43mcls\u001B[39;49m\u001B[38;5;241;43m.\u001B[39;49m\u001B[43mconfig\u001B[49m\u001B[38;5;241;43m.\u001B[39;49m\u001B[43mpending_status\u001B[49m\u001B[43m)\u001B[49m\n\u001B[1;32m    814\u001B[0m \u001B[43m                \u001B[49m\u001B[38;5;241;43m|\u001B[39;49m\u001B[43m \u001B[49m\u001B[43m(\u001B[49m\u001B[38;5;28;43mcls\u001B[39;49m\u001B[38;5;241;43m.\u001B[39;49m\u001B[43mstatus\u001B[49m\u001B[43m \u001B[49m\u001B[38;5;241;43m==\u001B[39;49m\u001B[43m \u001B[49m\u001B[38;5;28;43mcls\u001B[39;49m\u001B[38;5;241;43m.\u001B[39;49m\u001B[43mconfig\u001B[49m\u001B[38;5;241;43m.\u001B[39;49m\u001B[43mfailed_status\u001B[49m\u001B[43m)\u001B[49m\n\u001B[1;32m    815\u001B[0m \u001B[43m            \u001B[49m\u001B[43m)\u001B[49m\n\u001B[1;32m    816\u001B[0m \u001B[43m        \u001B[49m\u001B[43m)\u001B[49m\u001B[43m,\u001B[49m\n\u001B[1;32m    817\u001B[0m \u001B[43m    \u001B[49m\u001B[43m)\u001B[49m\n\u001B[1;32m    818\u001B[0m \u001B[38;5;28;01mexcept\u001B[39;00m UpdateError \u001B[38;5;28;01mas\u001B[39;00m e:\n\u001B[1;32m    819\u001B[0m     \u001B[38;5;66;03m# print(f\"--- enter failed to get lock error handling logic ---\") # for debug only\u001B[39;00m\n\u001B[1;32m    820\u001B[0m     \u001B[38;5;66;03m# print(f\"{e.cause_response_code = }\") # for debug only\u001B[39;00m\n",
      "File \u001B[0;32m~/Documents/GitHub/pynamodb_mate-project/.venv/lib/python3.8/site-packages/pynamodb/models.py:436\u001B[0m, in \u001B[0;36mModel.update\u001B[0;34m(self, actions, condition, add_version_condition)\u001B[0m\n\u001B[1;32m    434\u001B[0m     condition \u001B[38;5;241m&\u001B[39m\u001B[38;5;241m=\u001B[39m version_condition\n\u001B[0;32m--> 436\u001B[0m data \u001B[38;5;241m=\u001B[39m \u001B[38;5;28;43mself\u001B[39;49m\u001B[38;5;241;43m.\u001B[39;49m\u001B[43m_get_connection\u001B[49m\u001B[43m(\u001B[49m\u001B[43m)\u001B[49m\u001B[38;5;241;43m.\u001B[39;49m\u001B[43mupdate_item\u001B[49m\u001B[43m(\u001B[49m\u001B[43mhk_value\u001B[49m\u001B[43m,\u001B[49m\u001B[43m \u001B[49m\u001B[43mrange_key\u001B[49m\u001B[38;5;241;43m=\u001B[39;49m\u001B[43mrk_value\u001B[49m\u001B[43m,\u001B[49m\u001B[43m \u001B[49m\u001B[43mreturn_values\u001B[49m\u001B[38;5;241;43m=\u001B[39;49m\u001B[43mALL_NEW\u001B[49m\u001B[43m,\u001B[49m\u001B[43m \u001B[49m\u001B[43mcondition\u001B[49m\u001B[38;5;241;43m=\u001B[39;49m\u001B[43mcondition\u001B[49m\u001B[43m,\u001B[49m\u001B[43m \u001B[49m\u001B[43mactions\u001B[49m\u001B[38;5;241;43m=\u001B[39;49m\u001B[43mactions\u001B[49m\u001B[43m)\u001B[49m\n\u001B[1;32m    437\u001B[0m item_data \u001B[38;5;241m=\u001B[39m data[ATTRIBUTES]\n",
      "File \u001B[0;32m~/Documents/GitHub/pynamodb_mate-project/.venv/lib/python3.8/site-packages/pynamodb/connection/table.py:122\u001B[0m, in \u001B[0;36mTableConnection.update_item\u001B[0;34m(self, hash_key, range_key, actions, condition, return_consumed_capacity, return_item_collection_metrics, return_values)\u001B[0m\n\u001B[1;32m    119\u001B[0m \u001B[38;5;250m\u001B[39m\u001B[38;5;124;03m\"\"\"\u001B[39;00m\n\u001B[1;32m    120\u001B[0m \u001B[38;5;124;03mPerforms the UpdateItem operation\u001B[39;00m\n\u001B[1;32m    121\u001B[0m \u001B[38;5;124;03m\"\"\"\u001B[39;00m\n\u001B[0;32m--> 122\u001B[0m \u001B[38;5;28;01mreturn\u001B[39;00m \u001B[38;5;28;43mself\u001B[39;49m\u001B[38;5;241;43m.\u001B[39;49m\u001B[43mconnection\u001B[49m\u001B[38;5;241;43m.\u001B[39;49m\u001B[43mupdate_item\u001B[49m\u001B[43m(\u001B[49m\n\u001B[1;32m    123\u001B[0m \u001B[43m    \u001B[49m\u001B[38;5;28;43mself\u001B[39;49m\u001B[38;5;241;43m.\u001B[39;49m\u001B[43mtable_name\u001B[49m\u001B[43m,\u001B[49m\n\u001B[1;32m    124\u001B[0m \u001B[43m    \u001B[49m\u001B[43mhash_key\u001B[49m\u001B[43m,\u001B[49m\n\u001B[1;32m    125\u001B[0m \u001B[43m    \u001B[49m\u001B[43mrange_key\u001B[49m\u001B[38;5;241;43m=\u001B[39;49m\u001B[43mrange_key\u001B[49m\u001B[43m,\u001B[49m\n\u001B[1;32m    126\u001B[0m \u001B[43m    \u001B[49m\u001B[43mactions\u001B[49m\u001B[38;5;241;43m=\u001B[39;49m\u001B[43mactions\u001B[49m\u001B[43m,\u001B[49m\n\u001B[1;32m    127\u001B[0m \u001B[43m    \u001B[49m\u001B[43mcondition\u001B[49m\u001B[38;5;241;43m=\u001B[39;49m\u001B[43mcondition\u001B[49m\u001B[43m,\u001B[49m\n\u001B[1;32m    128\u001B[0m \u001B[43m    \u001B[49m\u001B[43mreturn_consumed_capacity\u001B[49m\u001B[38;5;241;43m=\u001B[39;49m\u001B[43mreturn_consumed_capacity\u001B[49m\u001B[43m,\u001B[49m\n\u001B[1;32m    129\u001B[0m \u001B[43m    \u001B[49m\u001B[43mreturn_item_collection_metrics\u001B[49m\u001B[38;5;241;43m=\u001B[39;49m\u001B[43mreturn_item_collection_metrics\u001B[49m\u001B[43m,\u001B[49m\n\u001B[1;32m    130\u001B[0m \u001B[43m    \u001B[49m\u001B[43mreturn_values\u001B[49m\u001B[38;5;241;43m=\u001B[39;49m\u001B[43mreturn_values\u001B[49m\u001B[43m,\u001B[49m\n\u001B[1;32m    131\u001B[0m \u001B[43m\u001B[49m\u001B[43m)\u001B[49m\n",
      "File \u001B[0;32m~/Documents/GitHub/pynamodb_mate-project/.venv/lib/python3.8/site-packages/pynamodb/connection/base.py:880\u001B[0m, in \u001B[0;36mConnection.update_item\u001B[0;34m(self, table_name, hash_key, range_key, actions, condition, return_consumed_capacity, return_item_collection_metrics, return_values)\u001B[0m\n\u001B[1;32m    879\u001B[0m \u001B[38;5;28;01mexcept\u001B[39;00m BOTOCORE_EXCEPTIONS \u001B[38;5;28;01mas\u001B[39;00m e:\n\u001B[0;32m--> 880\u001B[0m     \u001B[38;5;28;01mraise\u001B[39;00m UpdateError(\u001B[38;5;124m\"\u001B[39m\u001B[38;5;124mFailed to update item: \u001B[39m\u001B[38;5;132;01m{}\u001B[39;00m\u001B[38;5;124m\"\u001B[39m\u001B[38;5;241m.\u001B[39mformat(e), e)\n",
      "\u001B[0;31mUpdateError\u001B[0m: Failed to update item: An error occurred (ConditionalCheckFailedException) on request (09P8A80K4B93DG18C3JH8H7DRVVV4KQNSO5AEMVJF66Q9ASUAAJG) on table (pynamodb-mate-test-status-tracker) when calling the UpdateItem operation: The conditional request failed",
      "\nDuring handling of the above exception, another exception occurred:\n",
      "\u001B[0;31mTaskIgnoredError\u001B[0m                          Traceback (most recent call last)",
      "Cell \u001B[0;32mIn[28], line 1\u001B[0m\n\u001B[0;32m----> 1\u001B[0m \u001B[38;5;28;01mwith\u001B[39;00m Step1\u001B[38;5;241m.\u001B[39mstart(task_id\u001B[38;5;241m=\u001B[39mtask_id, detailed_error\u001B[38;5;241m=\u001B[39m\u001B[38;5;28;01mTrue\u001B[39;00m, debug\u001B[38;5;241m=\u001B[39m\u001B[38;5;28;01mTrue\u001B[39;00m):\n\u001B[1;32m      2\u001B[0m     \u001B[38;5;28;01mraise\u001B[39;00m UserError()\n",
      "File \u001B[0;32m~/.pyenv/versions/3.8.13/lib/python3.8/contextlib.py:113\u001B[0m, in \u001B[0;36m_GeneratorContextManager.__enter__\u001B[0;34m(self)\u001B[0m\n\u001B[1;32m    111\u001B[0m \u001B[38;5;28;01mdel\u001B[39;00m \u001B[38;5;28mself\u001B[39m\u001B[38;5;241m.\u001B[39margs, \u001B[38;5;28mself\u001B[39m\u001B[38;5;241m.\u001B[39mkwds, \u001B[38;5;28mself\u001B[39m\u001B[38;5;241m.\u001B[39mfunc\n\u001B[1;32m    112\u001B[0m \u001B[38;5;28;01mtry\u001B[39;00m:\n\u001B[0;32m--> 113\u001B[0m     \u001B[38;5;28;01mreturn\u001B[39;00m \u001B[38;5;28;43mnext\u001B[39;49m\u001B[43m(\u001B[49m\u001B[38;5;28;43mself\u001B[39;49m\u001B[38;5;241;43m.\u001B[39;49m\u001B[43mgen\u001B[49m\u001B[43m)\u001B[49m\n\u001B[1;32m    114\u001B[0m \u001B[38;5;28;01mexcept\u001B[39;00m \u001B[38;5;167;01mStopIteration\u001B[39;00m:\n\u001B[1;32m    115\u001B[0m     \u001B[38;5;28;01mraise\u001B[39;00m \u001B[38;5;167;01mRuntimeError\u001B[39;00m(\u001B[38;5;124m\"\u001B[39m\u001B[38;5;124mgenerator didn\u001B[39m\u001B[38;5;124m'\u001B[39m\u001B[38;5;124mt yield\u001B[39m\u001B[38;5;124m\"\u001B[39m) \u001B[38;5;28;01mfrom\u001B[39;00m \u001B[38;5;28;01mNone\u001B[39;00m\n",
      "File \u001B[0;32m~/Documents/GitHub/pynamodb_mate-project/pynamodb_mate/patterns/status_tracker/impl.py:884\u001B[0m, in \u001B[0;36mBaseTask.start\u001B[0;34m(cls, task_id, detailed_error, debug)\u001B[0m\n\u001B[1;32m    875\u001B[0m     \u001B[38;5;28;01mif\u001B[39;00m debug:  \u001B[38;5;66;03m# pragma: no cover\u001B[39;00m\n\u001B[1;32m    876\u001B[0m         \u001B[38;5;28mprint\u001B[39m(\n\u001B[1;32m    877\u001B[0m             \u001B[38;5;124m\"\u001B[39m\u001B[38;5;132;01m{msg:-^120}\u001B[39;00m\u001B[38;5;124m\"\u001B[39m\u001B[38;5;241m.\u001B[39mformat(\n\u001B[1;32m    878\u001B[0m                 msg\u001B[38;5;241m=\u001B[39m\u001B[38;5;124m\"\u001B[39m\u001B[38;5;124m ⏹️ end Task(\u001B[39m\u001B[38;5;132;01m{}\u001B[39;00m\u001B[38;5;124m, \u001B[39m\u001B[38;5;132;01m{}\u001B[39;00m\u001B[38;5;124m)\u001B[39m\u001B[38;5;124m\"\u001B[39m\u001B[38;5;241m.\u001B[39mformat(\n\u001B[0;32m   (...)\u001B[0m\n\u001B[1;32m    882\u001B[0m             )\n\u001B[1;32m    883\u001B[0m         )\n\u001B[0;32m--> 884\u001B[0m     \u001B[38;5;28;01mraise\u001B[39;00m error\n\u001B[1;32m    886\u001B[0m \u001B[38;5;66;03m# See: https://boto3.amazonaws.com/v1/documentation/api/latest/reference/services/dynamodb/client/update_item.html\u001B[39;00m\n\u001B[1;32m    887\u001B[0m \u001B[38;5;66;03m# to know about response of the update_item API\u001B[39;00m\n\u001B[1;32m    888\u001B[0m task_updated \u001B[38;5;241m=\u001B[39m \u001B[38;5;28mcls\u001B[39m\u001B[38;5;241m.\u001B[39mfrom_raw_data(res[\u001B[38;5;124m\"\u001B[39m\u001B[38;5;124mAttributes\u001B[39m\u001B[38;5;124m\"\u001B[39m])\n",
      "\u001B[0;31mTaskIgnoredError\u001B[0m: Task(use_case_id='test', task_id='t-3') is ignored."
     ]
    }
   ],
   "source": [
    "with Step1.start(task_id=task_id, detailed_error=True, debug=True):\n",
    "    raise UserError()"
   ]
  },
  {
   "cell_type": "markdown",
   "metadata": {
    "collapsed": false,
    "pycharm": {
     "name": "#%% md\n"
    }
   },
   "source": [
    "## Query Tasks by Status\n",
    "\n",
    "To restart some tasks from the last failed, you need to be able to query the tasks by status. The ``Task.query_by_status()`` method allow you to get tasks by one or many status codes. By default, it returns tasks in ascending order (older data comes first) by ``update_time``.\n",
    "\n",
    "First, let's create some test data."
   ]
  },
  {
   "cell_type": "code",
   "execution_count": 29,
   "metadata": {
    "ExecuteTime": {
     "end_time": "2024-05-23T05:40:25.006950Z",
     "start_time": "2024-05-23T05:40:24.600439Z"
    },
    "collapsed": false,
    "pycharm": {
     "name": "#%%\n"
    }
   },
   "outputs": [
    {
     "data": {
      "text/html": [
       "<pre style=\"white-space:pre;overflow-x:auto;line-height:normal;font-family:Menlo,'DejaVu Sans Mono',consolas,'Courier New',monospace\"><span style=\"color: #800080; text-decoration-color: #800080; font-weight: bold\">Step1</span><span style=\"font-weight: bold\">(</span><span style=\"color: #808000; text-decoration-color: #808000\">create_time</span>=<span style=\"color: #800080; text-decoration-color: #800080; font-weight: bold\">datetime</span><span style=\"color: #800080; text-decoration-color: #800080; font-weight: bold\">.datetime</span><span style=\"font-weight: bold\">(</span><span style=\"color: #008080; text-decoration-color: #008080; font-weight: bold\">2024</span>, <span style=\"color: #008080; text-decoration-color: #008080; font-weight: bold\">5</span>, <span style=\"color: #008080; text-decoration-color: #008080; font-weight: bold\">23</span>, <span style=\"color: #008080; text-decoration-color: #008080; font-weight: bold\">6</span>, <span style=\"color: #008080; text-decoration-color: #008080; font-weight: bold\">9</span>, <span style=\"color: #008080; text-decoration-color: #008080; font-weight: bold\">39</span>, <span style=\"color: #008080; text-decoration-color: #008080; font-weight: bold\">39396</span>, <span style=\"color: #808000; text-decoration-color: #808000\">tzinfo</span>=<span style=\"color: #800080; text-decoration-color: #800080\">datetime</span>.timezone.utc<span style=\"font-weight: bold\">)</span>, \n",
       "<span style=\"color: #808000; text-decoration-color: #808000\">data</span>=<span style=\"font-weight: bold\">{</span><span style=\"color: #008000; text-decoration-color: #008000\">'status_code'</span>: <span style=\"color: #008080; text-decoration-color: #008080; font-weight: bold\">10</span><span style=\"font-weight: bold\">}</span>, <span style=\"color: #808000; text-decoration-color: #808000\">errors</span>=<span style=\"font-weight: bold\">{</span><span style=\"color: #008000; text-decoration-color: #008000\">'history'</span>: <span style=\"font-weight: bold\">[]}</span>, <span style=\"color: #808000; text-decoration-color: #808000\">lock</span>=<span style=\"color: #008000; text-decoration-color: #008000\">'__not_locked__'</span>, <span style=\"color: #808000; text-decoration-color: #808000\">lock_time</span>=<span style=\"color: #800080; text-decoration-color: #800080; font-weight: bold\">datetime</span><span style=\"color: #800080; text-decoration-color: #800080; font-weight: bold\">.datetime</span><span style=\"font-weight: bold\">(</span><span style=\"color: #008080; text-decoration-color: #008080; font-weight: bold\">1970</span>, <span style=\"color: #008080; text-decoration-color: #008080; font-weight: bold\">1</span>, <span style=\"color: #008080; text-decoration-color: #008080; font-weight: bold\">1</span>, <span style=\"color: #008080; text-decoration-color: #008080; font-weight: bold\">0</span>,\n",
       "<span style=\"color: #008080; text-decoration-color: #008080; font-weight: bold\">0</span>, <span style=\"color: #808000; text-decoration-color: #808000\">tzinfo</span>=<span style=\"color: #800080; text-decoration-color: #800080\">datetime</span>.timezone.utc<span style=\"font-weight: bold\">)</span>, <span style=\"color: #808000; text-decoration-color: #808000\">retry</span>=<span style=\"color: #008080; text-decoration-color: #008080; font-weight: bold\">0</span>, <span style=\"color: #808000; text-decoration-color: #808000\">update_time</span>=<span style=\"color: #800080; text-decoration-color: #800080; font-weight: bold\">datetime</span><span style=\"color: #800080; text-decoration-color: #800080; font-weight: bold\">.datetime</span><span style=\"font-weight: bold\">(</span><span style=\"color: #008080; text-decoration-color: #008080; font-weight: bold\">2024</span>, <span style=\"color: #008080; text-decoration-color: #008080; font-weight: bold\">5</span>, <span style=\"color: #008080; text-decoration-color: #008080; font-weight: bold\">23</span>, <span style=\"color: #008080; text-decoration-color: #008080; font-weight: bold\">6</span>, <span style=\"color: #008080; text-decoration-color: #008080; font-weight: bold\">9</span>, <span style=\"color: #008080; text-decoration-color: #008080; font-weight: bold\">39</span>, <span style=\"color: #008080; text-decoration-color: #008080; font-weight: bold\">39436</span>, \n",
       "<span style=\"color: #808000; text-decoration-color: #808000\">tzinfo</span>=<span style=\"color: #800080; text-decoration-color: #800080\">datetime</span>.timezone.utc<span style=\"font-weight: bold\">)</span>, <span style=\"color: #808000; text-decoration-color: #808000\">key</span>=<span style=\"color: #008000; text-decoration-color: #008000\">'test____t-1'</span>, <span style=\"color: #808000; text-decoration-color: #808000\">value</span>=<span style=\"color: #008000; text-decoration-color: #008000\">'test____010____002'</span>, <span style=\"color: #808000; text-decoration-color: #808000\">status</span>=<span style=\"color: #008080; text-decoration-color: #008080; font-weight: bold\">10</span><span style=\"font-weight: bold\">)</span>\n",
       "</pre>\n"
      ],
      "text/plain": [
       "\u001B[1;35mStep1\u001B[0m\u001B[1m(\u001B[0m\u001B[33mcreate_time\u001B[0m=\u001B[1;35mdatetime\u001B[0m\u001B[1;35m.datetime\u001B[0m\u001B[1m(\u001B[0m\u001B[1;36m2024\u001B[0m, \u001B[1;36m5\u001B[0m, \u001B[1;36m23\u001B[0m, \u001B[1;36m6\u001B[0m, \u001B[1;36m9\u001B[0m, \u001B[1;36m39\u001B[0m, \u001B[1;36m39396\u001B[0m, \u001B[33mtzinfo\u001B[0m=\u001B[35mdatetime\u001B[0m.timezone.utc\u001B[1m)\u001B[0m, \n",
       "\u001B[33mdata\u001B[0m=\u001B[1m{\u001B[0m\u001B[32m'status_code'\u001B[0m: \u001B[1;36m10\u001B[0m\u001B[1m}\u001B[0m, \u001B[33merrors\u001B[0m=\u001B[1m{\u001B[0m\u001B[32m'history'\u001B[0m: \u001B[1m[\u001B[0m\u001B[1m]\u001B[0m\u001B[1m}\u001B[0m, \u001B[33mlock\u001B[0m=\u001B[32m'__not_locked__'\u001B[0m, \u001B[33mlock_time\u001B[0m=\u001B[1;35mdatetime\u001B[0m\u001B[1;35m.datetime\u001B[0m\u001B[1m(\u001B[0m\u001B[1;36m1970\u001B[0m, \u001B[1;36m1\u001B[0m, \u001B[1;36m1\u001B[0m, \u001B[1;36m0\u001B[0m,\n",
       "\u001B[1;36m0\u001B[0m, \u001B[33mtzinfo\u001B[0m=\u001B[35mdatetime\u001B[0m.timezone.utc\u001B[1m)\u001B[0m, \u001B[33mretry\u001B[0m=\u001B[1;36m0\u001B[0m, \u001B[33mupdate_time\u001B[0m=\u001B[1;35mdatetime\u001B[0m\u001B[1;35m.datetime\u001B[0m\u001B[1m(\u001B[0m\u001B[1;36m2024\u001B[0m, \u001B[1;36m5\u001B[0m, \u001B[1;36m23\u001B[0m, \u001B[1;36m6\u001B[0m, \u001B[1;36m9\u001B[0m, \u001B[1;36m39\u001B[0m, \u001B[1;36m39436\u001B[0m, \n",
       "\u001B[33mtzinfo\u001B[0m=\u001B[35mdatetime\u001B[0m.timezone.utc\u001B[1m)\u001B[0m, \u001B[33mkey\u001B[0m=\u001B[32m'test____t-1'\u001B[0m, \u001B[33mvalue\u001B[0m=\u001B[32m'test____010____002'\u001B[0m, \u001B[33mstatus\u001B[0m=\u001B[1;36m10\u001B[0m\u001B[1m)\u001B[0m\n"
      ]
     },
     "metadata": {},
     "output_type": "display_data"
    },
    {
     "data": {
      "text/html": [
       "<pre style=\"white-space:pre;overflow-x:auto;line-height:normal;font-family:Menlo,'DejaVu Sans Mono',consolas,'Courier New',monospace\"><span style=\"color: #800080; text-decoration-color: #800080; font-weight: bold\">Step1</span><span style=\"font-weight: bold\">(</span><span style=\"color: #808000; text-decoration-color: #808000\">create_time</span>=<span style=\"color: #800080; text-decoration-color: #800080; font-weight: bold\">datetime</span><span style=\"color: #800080; text-decoration-color: #800080; font-weight: bold\">.datetime</span><span style=\"font-weight: bold\">(</span><span style=\"color: #008080; text-decoration-color: #008080; font-weight: bold\">2024</span>, <span style=\"color: #008080; text-decoration-color: #008080; font-weight: bold\">5</span>, <span style=\"color: #008080; text-decoration-color: #008080; font-weight: bold\">23</span>, <span style=\"color: #008080; text-decoration-color: #008080; font-weight: bold\">6</span>, <span style=\"color: #008080; text-decoration-color: #008080; font-weight: bold\">9</span>, <span style=\"color: #008080; text-decoration-color: #008080; font-weight: bold\">39</span>, <span style=\"color: #008080; text-decoration-color: #008080; font-weight: bold\">47890</span>, <span style=\"color: #808000; text-decoration-color: #808000\">tzinfo</span>=<span style=\"color: #800080; text-decoration-color: #800080\">datetime</span>.timezone.utc<span style=\"font-weight: bold\">)</span>, \n",
       "<span style=\"color: #808000; text-decoration-color: #808000\">data</span>=<span style=\"font-weight: bold\">{</span><span style=\"color: #008000; text-decoration-color: #008000\">'status_code'</span>: <span style=\"color: #008080; text-decoration-color: #008080; font-weight: bold\">20</span><span style=\"font-weight: bold\">}</span>, <span style=\"color: #808000; text-decoration-color: #808000\">errors</span>=<span style=\"font-weight: bold\">{</span><span style=\"color: #008000; text-decoration-color: #008000\">'history'</span>: <span style=\"font-weight: bold\">[]}</span>, <span style=\"color: #808000; text-decoration-color: #808000\">lock</span>=<span style=\"color: #008000; text-decoration-color: #008000\">'__not_locked__'</span>, <span style=\"color: #808000; text-decoration-color: #808000\">lock_time</span>=<span style=\"color: #800080; text-decoration-color: #800080; font-weight: bold\">datetime</span><span style=\"color: #800080; text-decoration-color: #800080; font-weight: bold\">.datetime</span><span style=\"font-weight: bold\">(</span><span style=\"color: #008080; text-decoration-color: #008080; font-weight: bold\">1970</span>, <span style=\"color: #008080; text-decoration-color: #008080; font-weight: bold\">1</span>, <span style=\"color: #008080; text-decoration-color: #008080; font-weight: bold\">1</span>, <span style=\"color: #008080; text-decoration-color: #008080; font-weight: bold\">0</span>,\n",
       "<span style=\"color: #008080; text-decoration-color: #008080; font-weight: bold\">0</span>, <span style=\"color: #808000; text-decoration-color: #808000\">tzinfo</span>=<span style=\"color: #800080; text-decoration-color: #800080\">datetime</span>.timezone.utc<span style=\"font-weight: bold\">)</span>, <span style=\"color: #808000; text-decoration-color: #808000\">retry</span>=<span style=\"color: #008080; text-decoration-color: #008080; font-weight: bold\">0</span>, <span style=\"color: #808000; text-decoration-color: #808000\">update_time</span>=<span style=\"color: #800080; text-decoration-color: #800080; font-weight: bold\">datetime</span><span style=\"color: #800080; text-decoration-color: #800080; font-weight: bold\">.datetime</span><span style=\"font-weight: bold\">(</span><span style=\"color: #008080; text-decoration-color: #008080; font-weight: bold\">2024</span>, <span style=\"color: #008080; text-decoration-color: #008080; font-weight: bold\">5</span>, <span style=\"color: #008080; text-decoration-color: #008080; font-weight: bold\">23</span>, <span style=\"color: #008080; text-decoration-color: #008080; font-weight: bold\">6</span>, <span style=\"color: #008080; text-decoration-color: #008080; font-weight: bold\">9</span>, <span style=\"color: #008080; text-decoration-color: #008080; font-weight: bold\">39</span>, <span style=\"color: #008080; text-decoration-color: #008080; font-weight: bold\">47946</span>, \n",
       "<span style=\"color: #808000; text-decoration-color: #808000\">tzinfo</span>=<span style=\"color: #800080; text-decoration-color: #800080\">datetime</span>.timezone.utc<span style=\"font-weight: bold\">)</span>, <span style=\"color: #808000; text-decoration-color: #808000\">key</span>=<span style=\"color: #008000; text-decoration-color: #008000\">'test____t-2'</span>, <span style=\"color: #808000; text-decoration-color: #808000\">value</span>=<span style=\"color: #008000; text-decoration-color: #008000\">'test____020____005'</span>, <span style=\"color: #808000; text-decoration-color: #808000\">status</span>=<span style=\"color: #008080; text-decoration-color: #008080; font-weight: bold\">20</span><span style=\"font-weight: bold\">)</span>\n",
       "</pre>\n"
      ],
      "text/plain": [
       "\u001B[1;35mStep1\u001B[0m\u001B[1m(\u001B[0m\u001B[33mcreate_time\u001B[0m=\u001B[1;35mdatetime\u001B[0m\u001B[1;35m.datetime\u001B[0m\u001B[1m(\u001B[0m\u001B[1;36m2024\u001B[0m, \u001B[1;36m5\u001B[0m, \u001B[1;36m23\u001B[0m, \u001B[1;36m6\u001B[0m, \u001B[1;36m9\u001B[0m, \u001B[1;36m39\u001B[0m, \u001B[1;36m47890\u001B[0m, \u001B[33mtzinfo\u001B[0m=\u001B[35mdatetime\u001B[0m.timezone.utc\u001B[1m)\u001B[0m, \n",
       "\u001B[33mdata\u001B[0m=\u001B[1m{\u001B[0m\u001B[32m'status_code'\u001B[0m: \u001B[1;36m20\u001B[0m\u001B[1m}\u001B[0m, \u001B[33merrors\u001B[0m=\u001B[1m{\u001B[0m\u001B[32m'history'\u001B[0m: \u001B[1m[\u001B[0m\u001B[1m]\u001B[0m\u001B[1m}\u001B[0m, \u001B[33mlock\u001B[0m=\u001B[32m'__not_locked__'\u001B[0m, \u001B[33mlock_time\u001B[0m=\u001B[1;35mdatetime\u001B[0m\u001B[1;35m.datetime\u001B[0m\u001B[1m(\u001B[0m\u001B[1;36m1970\u001B[0m, \u001B[1;36m1\u001B[0m, \u001B[1;36m1\u001B[0m, \u001B[1;36m0\u001B[0m,\n",
       "\u001B[1;36m0\u001B[0m, \u001B[33mtzinfo\u001B[0m=\u001B[35mdatetime\u001B[0m.timezone.utc\u001B[1m)\u001B[0m, \u001B[33mretry\u001B[0m=\u001B[1;36m0\u001B[0m, \u001B[33mupdate_time\u001B[0m=\u001B[1;35mdatetime\u001B[0m\u001B[1;35m.datetime\u001B[0m\u001B[1m(\u001B[0m\u001B[1;36m2024\u001B[0m, \u001B[1;36m5\u001B[0m, \u001B[1;36m23\u001B[0m, \u001B[1;36m6\u001B[0m, \u001B[1;36m9\u001B[0m, \u001B[1;36m39\u001B[0m, \u001B[1;36m47946\u001B[0m, \n",
       "\u001B[33mtzinfo\u001B[0m=\u001B[35mdatetime\u001B[0m.timezone.utc\u001B[1m)\u001B[0m, \u001B[33mkey\u001B[0m=\u001B[32m'test____t-2'\u001B[0m, \u001B[33mvalue\u001B[0m=\u001B[32m'test____020____005'\u001B[0m, \u001B[33mstatus\u001B[0m=\u001B[1;36m20\u001B[0m\u001B[1m)\u001B[0m\n"
      ]
     },
     "metadata": {},
     "output_type": "display_data"
    },
    {
     "data": {
      "text/html": [
       "<pre style=\"white-space:pre;overflow-x:auto;line-height:normal;font-family:Menlo,'DejaVu Sans Mono',consolas,'Courier New',monospace\"><span style=\"color: #800080; text-decoration-color: #800080; font-weight: bold\">Step1</span><span style=\"font-weight: bold\">(</span><span style=\"color: #808000; text-decoration-color: #808000\">create_time</span>=<span style=\"color: #800080; text-decoration-color: #800080; font-weight: bold\">datetime</span><span style=\"color: #800080; text-decoration-color: #800080; font-weight: bold\">.datetime</span><span style=\"font-weight: bold\">(</span><span style=\"color: #008080; text-decoration-color: #008080; font-weight: bold\">2024</span>, <span style=\"color: #008080; text-decoration-color: #008080; font-weight: bold\">5</span>, <span style=\"color: #008080; text-decoration-color: #008080; font-weight: bold\">23</span>, <span style=\"color: #008080; text-decoration-color: #008080; font-weight: bold\">6</span>, <span style=\"color: #008080; text-decoration-color: #008080; font-weight: bold\">9</span>, <span style=\"color: #008080; text-decoration-color: #008080; font-weight: bold\">39</span>, <span style=\"color: #008080; text-decoration-color: #008080; font-weight: bold\">55435</span>, <span style=\"color: #808000; text-decoration-color: #808000\">tzinfo</span>=<span style=\"color: #800080; text-decoration-color: #800080\">datetime</span>.timezone.utc<span style=\"font-weight: bold\">)</span>, \n",
       "<span style=\"color: #808000; text-decoration-color: #808000\">data</span>=<span style=\"font-weight: bold\">{</span><span style=\"color: #008000; text-decoration-color: #008000\">'status_code'</span>: <span style=\"color: #008080; text-decoration-color: #008080; font-weight: bold\">30</span><span style=\"font-weight: bold\">}</span>, <span style=\"color: #808000; text-decoration-color: #808000\">errors</span>=<span style=\"font-weight: bold\">{</span><span style=\"color: #008000; text-decoration-color: #008000\">'history'</span>: <span style=\"font-weight: bold\">[]}</span>, <span style=\"color: #808000; text-decoration-color: #808000\">lock</span>=<span style=\"color: #008000; text-decoration-color: #008000\">'__not_locked__'</span>, <span style=\"color: #808000; text-decoration-color: #808000\">lock_time</span>=<span style=\"color: #800080; text-decoration-color: #800080; font-weight: bold\">datetime</span><span style=\"color: #800080; text-decoration-color: #800080; font-weight: bold\">.datetime</span><span style=\"font-weight: bold\">(</span><span style=\"color: #008080; text-decoration-color: #008080; font-weight: bold\">1970</span>, <span style=\"color: #008080; text-decoration-color: #008080; font-weight: bold\">1</span>, <span style=\"color: #008080; text-decoration-color: #008080; font-weight: bold\">1</span>, <span style=\"color: #008080; text-decoration-color: #008080; font-weight: bold\">0</span>,\n",
       "<span style=\"color: #008080; text-decoration-color: #008080; font-weight: bold\">0</span>, <span style=\"color: #808000; text-decoration-color: #808000\">tzinfo</span>=<span style=\"color: #800080; text-decoration-color: #800080\">datetime</span>.timezone.utc<span style=\"font-weight: bold\">)</span>, <span style=\"color: #808000; text-decoration-color: #808000\">retry</span>=<span style=\"color: #008080; text-decoration-color: #008080; font-weight: bold\">0</span>, <span style=\"color: #808000; text-decoration-color: #808000\">update_time</span>=<span style=\"color: #800080; text-decoration-color: #800080; font-weight: bold\">datetime</span><span style=\"color: #800080; text-decoration-color: #800080; font-weight: bold\">.datetime</span><span style=\"font-weight: bold\">(</span><span style=\"color: #008080; text-decoration-color: #008080; font-weight: bold\">2024</span>, <span style=\"color: #008080; text-decoration-color: #008080; font-weight: bold\">5</span>, <span style=\"color: #008080; text-decoration-color: #008080; font-weight: bold\">23</span>, <span style=\"color: #008080; text-decoration-color: #008080; font-weight: bold\">6</span>, <span style=\"color: #008080; text-decoration-color: #008080; font-weight: bold\">9</span>, <span style=\"color: #008080; text-decoration-color: #008080; font-weight: bold\">39</span>, <span style=\"color: #008080; text-decoration-color: #008080; font-weight: bold\">55474</span>, \n",
       "<span style=\"color: #808000; text-decoration-color: #808000\">tzinfo</span>=<span style=\"color: #800080; text-decoration-color: #800080\">datetime</span>.timezone.utc<span style=\"font-weight: bold\">)</span>, <span style=\"color: #808000; text-decoration-color: #808000\">key</span>=<span style=\"color: #008000; text-decoration-color: #008000\">'test____t-3'</span>, <span style=\"color: #808000; text-decoration-color: #808000\">value</span>=<span style=\"color: #008000; text-decoration-color: #008000\">'test____030____002'</span>, <span style=\"color: #808000; text-decoration-color: #808000\">status</span>=<span style=\"color: #008080; text-decoration-color: #008080; font-weight: bold\">30</span><span style=\"font-weight: bold\">)</span>\n",
       "</pre>\n"
      ],
      "text/plain": [
       "\u001B[1;35mStep1\u001B[0m\u001B[1m(\u001B[0m\u001B[33mcreate_time\u001B[0m=\u001B[1;35mdatetime\u001B[0m\u001B[1;35m.datetime\u001B[0m\u001B[1m(\u001B[0m\u001B[1;36m2024\u001B[0m, \u001B[1;36m5\u001B[0m, \u001B[1;36m23\u001B[0m, \u001B[1;36m6\u001B[0m, \u001B[1;36m9\u001B[0m, \u001B[1;36m39\u001B[0m, \u001B[1;36m55435\u001B[0m, \u001B[33mtzinfo\u001B[0m=\u001B[35mdatetime\u001B[0m.timezone.utc\u001B[1m)\u001B[0m, \n",
       "\u001B[33mdata\u001B[0m=\u001B[1m{\u001B[0m\u001B[32m'status_code'\u001B[0m: \u001B[1;36m30\u001B[0m\u001B[1m}\u001B[0m, \u001B[33merrors\u001B[0m=\u001B[1m{\u001B[0m\u001B[32m'history'\u001B[0m: \u001B[1m[\u001B[0m\u001B[1m]\u001B[0m\u001B[1m}\u001B[0m, \u001B[33mlock\u001B[0m=\u001B[32m'__not_locked__'\u001B[0m, \u001B[33mlock_time\u001B[0m=\u001B[1;35mdatetime\u001B[0m\u001B[1;35m.datetime\u001B[0m\u001B[1m(\u001B[0m\u001B[1;36m1970\u001B[0m, \u001B[1;36m1\u001B[0m, \u001B[1;36m1\u001B[0m, \u001B[1;36m0\u001B[0m,\n",
       "\u001B[1;36m0\u001B[0m, \u001B[33mtzinfo\u001B[0m=\u001B[35mdatetime\u001B[0m.timezone.utc\u001B[1m)\u001B[0m, \u001B[33mretry\u001B[0m=\u001B[1;36m0\u001B[0m, \u001B[33mupdate_time\u001B[0m=\u001B[1;35mdatetime\u001B[0m\u001B[1;35m.datetime\u001B[0m\u001B[1m(\u001B[0m\u001B[1;36m2024\u001B[0m, \u001B[1;36m5\u001B[0m, \u001B[1;36m23\u001B[0m, \u001B[1;36m6\u001B[0m, \u001B[1;36m9\u001B[0m, \u001B[1;36m39\u001B[0m, \u001B[1;36m55474\u001B[0m, \n",
       "\u001B[33mtzinfo\u001B[0m=\u001B[35mdatetime\u001B[0m.timezone.utc\u001B[1m)\u001B[0m, \u001B[33mkey\u001B[0m=\u001B[32m'test____t-3'\u001B[0m, \u001B[33mvalue\u001B[0m=\u001B[32m'test____030____002'\u001B[0m, \u001B[33mstatus\u001B[0m=\u001B[1;36m30\u001B[0m\u001B[1m)\u001B[0m\n"
      ]
     },
     "metadata": {},
     "output_type": "display_data"
    },
    {
     "data": {
      "text/html": [
       "<pre style=\"white-space:pre;overflow-x:auto;line-height:normal;font-family:Menlo,'DejaVu Sans Mono',consolas,'Courier New',monospace\"><span style=\"color: #800080; text-decoration-color: #800080; font-weight: bold\">Step1</span><span style=\"font-weight: bold\">(</span><span style=\"color: #808000; text-decoration-color: #808000\">create_time</span>=<span style=\"color: #800080; text-decoration-color: #800080; font-weight: bold\">datetime</span><span style=\"color: #800080; text-decoration-color: #800080; font-weight: bold\">.datetime</span><span style=\"font-weight: bold\">(</span><span style=\"color: #008080; text-decoration-color: #008080; font-weight: bold\">2024</span>, <span style=\"color: #008080; text-decoration-color: #008080; font-weight: bold\">5</span>, <span style=\"color: #008080; text-decoration-color: #008080; font-weight: bold\">23</span>, <span style=\"color: #008080; text-decoration-color: #008080; font-weight: bold\">6</span>, <span style=\"color: #008080; text-decoration-color: #008080; font-weight: bold\">9</span>, <span style=\"color: #008080; text-decoration-color: #008080; font-weight: bold\">39</span>, <span style=\"color: #008080; text-decoration-color: #008080; font-weight: bold\">61070</span>, <span style=\"color: #808000; text-decoration-color: #808000\">tzinfo</span>=<span style=\"color: #800080; text-decoration-color: #800080\">datetime</span>.timezone.utc<span style=\"font-weight: bold\">)</span>, \n",
       "<span style=\"color: #808000; text-decoration-color: #808000\">data</span>=<span style=\"font-weight: bold\">{</span><span style=\"color: #008000; text-decoration-color: #008000\">'status_code'</span>: <span style=\"color: #008080; text-decoration-color: #008080; font-weight: bold\">40</span><span style=\"font-weight: bold\">}</span>, <span style=\"color: #808000; text-decoration-color: #808000\">errors</span>=<span style=\"font-weight: bold\">{</span><span style=\"color: #008000; text-decoration-color: #008000\">'history'</span>: <span style=\"font-weight: bold\">[]}</span>, <span style=\"color: #808000; text-decoration-color: #808000\">lock</span>=<span style=\"color: #008000; text-decoration-color: #008000\">'__not_locked__'</span>, <span style=\"color: #808000; text-decoration-color: #808000\">lock_time</span>=<span style=\"color: #800080; text-decoration-color: #800080; font-weight: bold\">datetime</span><span style=\"color: #800080; text-decoration-color: #800080; font-weight: bold\">.datetime</span><span style=\"font-weight: bold\">(</span><span style=\"color: #008080; text-decoration-color: #008080; font-weight: bold\">1970</span>, <span style=\"color: #008080; text-decoration-color: #008080; font-weight: bold\">1</span>, <span style=\"color: #008080; text-decoration-color: #008080; font-weight: bold\">1</span>, <span style=\"color: #008080; text-decoration-color: #008080; font-weight: bold\">0</span>,\n",
       "<span style=\"color: #008080; text-decoration-color: #008080; font-weight: bold\">0</span>, <span style=\"color: #808000; text-decoration-color: #808000\">tzinfo</span>=<span style=\"color: #800080; text-decoration-color: #800080\">datetime</span>.timezone.utc<span style=\"font-weight: bold\">)</span>, <span style=\"color: #808000; text-decoration-color: #808000\">retry</span>=<span style=\"color: #008080; text-decoration-color: #008080; font-weight: bold\">0</span>, <span style=\"color: #808000; text-decoration-color: #808000\">update_time</span>=<span style=\"color: #800080; text-decoration-color: #800080; font-weight: bold\">datetime</span><span style=\"color: #800080; text-decoration-color: #800080; font-weight: bold\">.datetime</span><span style=\"font-weight: bold\">(</span><span style=\"color: #008080; text-decoration-color: #008080; font-weight: bold\">2024</span>, <span style=\"color: #008080; text-decoration-color: #008080; font-weight: bold\">5</span>, <span style=\"color: #008080; text-decoration-color: #008080; font-weight: bold\">23</span>, <span style=\"color: #008080; text-decoration-color: #008080; font-weight: bold\">6</span>, <span style=\"color: #008080; text-decoration-color: #008080; font-weight: bold\">9</span>, <span style=\"color: #008080; text-decoration-color: #008080; font-weight: bold\">39</span>, <span style=\"color: #008080; text-decoration-color: #008080; font-weight: bold\">61105</span>, \n",
       "<span style=\"color: #808000; text-decoration-color: #808000\">tzinfo</span>=<span style=\"color: #800080; text-decoration-color: #800080\">datetime</span>.timezone.utc<span style=\"font-weight: bold\">)</span>, <span style=\"color: #808000; text-decoration-color: #808000\">key</span>=<span style=\"color: #008000; text-decoration-color: #008000\">'test____t-4'</span>, <span style=\"color: #808000; text-decoration-color: #808000\">value</span>=<span style=\"color: #008000; text-decoration-color: #008000\">'test____040____004'</span>, <span style=\"color: #808000; text-decoration-color: #808000\">status</span>=<span style=\"color: #008080; text-decoration-color: #008080; font-weight: bold\">40</span><span style=\"font-weight: bold\">)</span>\n",
       "</pre>\n"
      ],
      "text/plain": [
       "\u001B[1;35mStep1\u001B[0m\u001B[1m(\u001B[0m\u001B[33mcreate_time\u001B[0m=\u001B[1;35mdatetime\u001B[0m\u001B[1;35m.datetime\u001B[0m\u001B[1m(\u001B[0m\u001B[1;36m2024\u001B[0m, \u001B[1;36m5\u001B[0m, \u001B[1;36m23\u001B[0m, \u001B[1;36m6\u001B[0m, \u001B[1;36m9\u001B[0m, \u001B[1;36m39\u001B[0m, \u001B[1;36m61070\u001B[0m, \u001B[33mtzinfo\u001B[0m=\u001B[35mdatetime\u001B[0m.timezone.utc\u001B[1m)\u001B[0m, \n",
       "\u001B[33mdata\u001B[0m=\u001B[1m{\u001B[0m\u001B[32m'status_code'\u001B[0m: \u001B[1;36m40\u001B[0m\u001B[1m}\u001B[0m, \u001B[33merrors\u001B[0m=\u001B[1m{\u001B[0m\u001B[32m'history'\u001B[0m: \u001B[1m[\u001B[0m\u001B[1m]\u001B[0m\u001B[1m}\u001B[0m, \u001B[33mlock\u001B[0m=\u001B[32m'__not_locked__'\u001B[0m, \u001B[33mlock_time\u001B[0m=\u001B[1;35mdatetime\u001B[0m\u001B[1;35m.datetime\u001B[0m\u001B[1m(\u001B[0m\u001B[1;36m1970\u001B[0m, \u001B[1;36m1\u001B[0m, \u001B[1;36m1\u001B[0m, \u001B[1;36m0\u001B[0m,\n",
       "\u001B[1;36m0\u001B[0m, \u001B[33mtzinfo\u001B[0m=\u001B[35mdatetime\u001B[0m.timezone.utc\u001B[1m)\u001B[0m, \u001B[33mretry\u001B[0m=\u001B[1;36m0\u001B[0m, \u001B[33mupdate_time\u001B[0m=\u001B[1;35mdatetime\u001B[0m\u001B[1;35m.datetime\u001B[0m\u001B[1m(\u001B[0m\u001B[1;36m2024\u001B[0m, \u001B[1;36m5\u001B[0m, \u001B[1;36m23\u001B[0m, \u001B[1;36m6\u001B[0m, \u001B[1;36m9\u001B[0m, \u001B[1;36m39\u001B[0m, \u001B[1;36m61105\u001B[0m, \n",
       "\u001B[33mtzinfo\u001B[0m=\u001B[35mdatetime\u001B[0m.timezone.utc\u001B[1m)\u001B[0m, \u001B[33mkey\u001B[0m=\u001B[32m'test____t-4'\u001B[0m, \u001B[33mvalue\u001B[0m=\u001B[32m'test____040____004'\u001B[0m, \u001B[33mstatus\u001B[0m=\u001B[1;36m40\u001B[0m\u001B[1m)\u001B[0m\n"
      ]
     },
     "metadata": {},
     "output_type": "display_data"
    },
    {
     "data": {
      "text/html": [
       "<pre style=\"white-space:pre;overflow-x:auto;line-height:normal;font-family:Menlo,'DejaVu Sans Mono',consolas,'Courier New',monospace\"><span style=\"color: #800080; text-decoration-color: #800080; font-weight: bold\">Step1</span><span style=\"font-weight: bold\">(</span><span style=\"color: #808000; text-decoration-color: #808000\">create_time</span>=<span style=\"color: #800080; text-decoration-color: #800080; font-weight: bold\">datetime</span><span style=\"color: #800080; text-decoration-color: #800080; font-weight: bold\">.datetime</span><span style=\"font-weight: bold\">(</span><span style=\"color: #008080; text-decoration-color: #008080; font-weight: bold\">2024</span>, <span style=\"color: #008080; text-decoration-color: #008080; font-weight: bold\">5</span>, <span style=\"color: #008080; text-decoration-color: #008080; font-weight: bold\">23</span>, <span style=\"color: #008080; text-decoration-color: #008080; font-weight: bold\">6</span>, <span style=\"color: #008080; text-decoration-color: #008080; font-weight: bold\">9</span>, <span style=\"color: #008080; text-decoration-color: #008080; font-weight: bold\">39</span>, <span style=\"color: #008080; text-decoration-color: #008080; font-weight: bold\">67039</span>, <span style=\"color: #808000; text-decoration-color: #808000\">tzinfo</span>=<span style=\"color: #800080; text-decoration-color: #800080\">datetime</span>.timezone.utc<span style=\"font-weight: bold\">)</span>, \n",
       "<span style=\"color: #808000; text-decoration-color: #808000\">data</span>=<span style=\"font-weight: bold\">{</span><span style=\"color: #008000; text-decoration-color: #008000\">'status_code'</span>: <span style=\"color: #008080; text-decoration-color: #008080; font-weight: bold\">50</span><span style=\"font-weight: bold\">}</span>, <span style=\"color: #808000; text-decoration-color: #808000\">errors</span>=<span style=\"font-weight: bold\">{</span><span style=\"color: #008000; text-decoration-color: #008000\">'history'</span>: <span style=\"font-weight: bold\">[]}</span>, <span style=\"color: #808000; text-decoration-color: #808000\">lock</span>=<span style=\"color: #008000; text-decoration-color: #008000\">'__not_locked__'</span>, <span style=\"color: #808000; text-decoration-color: #808000\">lock_time</span>=<span style=\"color: #800080; text-decoration-color: #800080; font-weight: bold\">datetime</span><span style=\"color: #800080; text-decoration-color: #800080; font-weight: bold\">.datetime</span><span style=\"font-weight: bold\">(</span><span style=\"color: #008080; text-decoration-color: #008080; font-weight: bold\">1970</span>, <span style=\"color: #008080; text-decoration-color: #008080; font-weight: bold\">1</span>, <span style=\"color: #008080; text-decoration-color: #008080; font-weight: bold\">1</span>, <span style=\"color: #008080; text-decoration-color: #008080; font-weight: bold\">0</span>,\n",
       "<span style=\"color: #008080; text-decoration-color: #008080; font-weight: bold\">0</span>, <span style=\"color: #808000; text-decoration-color: #808000\">tzinfo</span>=<span style=\"color: #800080; text-decoration-color: #800080\">datetime</span>.timezone.utc<span style=\"font-weight: bold\">)</span>, <span style=\"color: #808000; text-decoration-color: #808000\">retry</span>=<span style=\"color: #008080; text-decoration-color: #008080; font-weight: bold\">0</span>, <span style=\"color: #808000; text-decoration-color: #808000\">update_time</span>=<span style=\"color: #800080; text-decoration-color: #800080; font-weight: bold\">datetime</span><span style=\"color: #800080; text-decoration-color: #800080; font-weight: bold\">.datetime</span><span style=\"font-weight: bold\">(</span><span style=\"color: #008080; text-decoration-color: #008080; font-weight: bold\">2024</span>, <span style=\"color: #008080; text-decoration-color: #008080; font-weight: bold\">5</span>, <span style=\"color: #008080; text-decoration-color: #008080; font-weight: bold\">23</span>, <span style=\"color: #008080; text-decoration-color: #008080; font-weight: bold\">6</span>, <span style=\"color: #008080; text-decoration-color: #008080; font-weight: bold\">9</span>, <span style=\"color: #008080; text-decoration-color: #008080; font-weight: bold\">39</span>, <span style=\"color: #008080; text-decoration-color: #008080; font-weight: bold\">67142</span>, \n",
       "<span style=\"color: #808000; text-decoration-color: #808000\">tzinfo</span>=<span style=\"color: #800080; text-decoration-color: #800080\">datetime</span>.timezone.utc<span style=\"font-weight: bold\">)</span>, <span style=\"color: #808000; text-decoration-color: #808000\">key</span>=<span style=\"color: #008000; text-decoration-color: #008000\">'test____t-5'</span>, <span style=\"color: #808000; text-decoration-color: #808000\">value</span>=<span style=\"color: #008000; text-decoration-color: #008000\">'test____050____004'</span>, <span style=\"color: #808000; text-decoration-color: #808000\">status</span>=<span style=\"color: #008080; text-decoration-color: #008080; font-weight: bold\">50</span><span style=\"font-weight: bold\">)</span>\n",
       "</pre>\n"
      ],
      "text/plain": [
       "\u001B[1;35mStep1\u001B[0m\u001B[1m(\u001B[0m\u001B[33mcreate_time\u001B[0m=\u001B[1;35mdatetime\u001B[0m\u001B[1;35m.datetime\u001B[0m\u001B[1m(\u001B[0m\u001B[1;36m2024\u001B[0m, \u001B[1;36m5\u001B[0m, \u001B[1;36m23\u001B[0m, \u001B[1;36m6\u001B[0m, \u001B[1;36m9\u001B[0m, \u001B[1;36m39\u001B[0m, \u001B[1;36m67039\u001B[0m, \u001B[33mtzinfo\u001B[0m=\u001B[35mdatetime\u001B[0m.timezone.utc\u001B[1m)\u001B[0m, \n",
       "\u001B[33mdata\u001B[0m=\u001B[1m{\u001B[0m\u001B[32m'status_code'\u001B[0m: \u001B[1;36m50\u001B[0m\u001B[1m}\u001B[0m, \u001B[33merrors\u001B[0m=\u001B[1m{\u001B[0m\u001B[32m'history'\u001B[0m: \u001B[1m[\u001B[0m\u001B[1m]\u001B[0m\u001B[1m}\u001B[0m, \u001B[33mlock\u001B[0m=\u001B[32m'__not_locked__'\u001B[0m, \u001B[33mlock_time\u001B[0m=\u001B[1;35mdatetime\u001B[0m\u001B[1;35m.datetime\u001B[0m\u001B[1m(\u001B[0m\u001B[1;36m1970\u001B[0m, \u001B[1;36m1\u001B[0m, \u001B[1;36m1\u001B[0m, \u001B[1;36m0\u001B[0m,\n",
       "\u001B[1;36m0\u001B[0m, \u001B[33mtzinfo\u001B[0m=\u001B[35mdatetime\u001B[0m.timezone.utc\u001B[1m)\u001B[0m, \u001B[33mretry\u001B[0m=\u001B[1;36m0\u001B[0m, \u001B[33mupdate_time\u001B[0m=\u001B[1;35mdatetime\u001B[0m\u001B[1;35m.datetime\u001B[0m\u001B[1m(\u001B[0m\u001B[1;36m2024\u001B[0m, \u001B[1;36m5\u001B[0m, \u001B[1;36m23\u001B[0m, \u001B[1;36m6\u001B[0m, \u001B[1;36m9\u001B[0m, \u001B[1;36m39\u001B[0m, \u001B[1;36m67142\u001B[0m, \n",
       "\u001B[33mtzinfo\u001B[0m=\u001B[35mdatetime\u001B[0m.timezone.utc\u001B[1m)\u001B[0m, \u001B[33mkey\u001B[0m=\u001B[32m'test____t-5'\u001B[0m, \u001B[33mvalue\u001B[0m=\u001B[32m'test____050____004'\u001B[0m, \u001B[33mstatus\u001B[0m=\u001B[1;36m50\u001B[0m\u001B[1m)\u001B[0m\n"
      ]
     },
     "metadata": {},
     "output_type": "display_data"
    }
   ],
   "source": [
    "# create some test data\n",
    "Step1.delete_all()\n",
    "with Step1.batch_write() as batch:\n",
    "    for ith, status_enum in enumerate(Step1StatusEnum, start=1):\n",
    "        step1 = Step1.make(\n",
    "            task_id=f\"t-{ith}\",\n",
    "            _status=status_enum.value,\n",
    "            data={\"status_code\": status_enum.value},\n",
    "        )\n",
    "        batch.save(step1)\n",
    "        rprint(step1)"
   ]
  },
  {
   "cell_type": "markdown",
   "metadata": {
    "collapsed": false,
    "pycharm": {
     "name": "#%% md\n"
    }
   },
   "source": [
    "``query_by_status()`` method uses the Global Secondary Index (GSI) under the hood. The GSI index defined by ``pynamodb_mate`` uses `INCLUDE PROJECTION <https://docs.aws.amazon.com/amazondynamodb/latest/APIReference/API_Projection.html>`_ that only returns the task_id, status, update_time when querying the index. By default, you need to call ``task.refresh()`` method to get the value of all attributes from DynamoDB. You can also do ``query_by_status(..., auto_refresh=True)`` to automatically refresh the data attributes."
   ]
  },
  {
   "cell_type": "code",
   "execution_count": 30,
   "metadata": {
    "ExecuteTime": {
     "end_time": "2024-05-23T05:46:33.858267Z",
     "start_time": "2024-05-23T05:46:32.966958Z"
    },
    "collapsed": false,
    "pycharm": {
     "name": "#%%\n"
    }
   },
   "outputs": [
    {
     "name": "stdout",
     "output_type": "stream",
     "text": [
      "by default, the `data` attributes is the default value (set by ORM model)\n"
     ]
    },
    {
     "data": {
      "text/html": [
       "<pre style=\"white-space:pre;overflow-x:auto;line-height:normal;font-family:Menlo,'DejaVu Sans Mono',consolas,'Courier New',monospace\"><span style=\"font-weight: bold\">{}</span>\n",
       "</pre>\n"
      ],
      "text/plain": [
       "\u001B[1m{\u001B[0m\u001B[1m}\u001B[0m\n"
      ]
     },
     "metadata": {},
     "output_type": "display_data"
    },
    {
     "name": "stdout",
     "output_type": "stream",
     "text": [
      "after refresh, the `data` attributes is the real value \n"
     ]
    },
    {
     "data": {
      "text/html": [
       "<pre style=\"white-space:pre;overflow-x:auto;line-height:normal;font-family:Menlo,'DejaVu Sans Mono',consolas,'Courier New',monospace\"><span style=\"font-weight: bold\">{</span><span style=\"color: #008000; text-decoration-color: #008000\">'status_code'</span>: <span style=\"color: #008080; text-decoration-color: #008080; font-weight: bold\">40</span><span style=\"font-weight: bold\">}</span>\n",
       "</pre>\n"
      ],
      "text/plain": [
       "\u001B[1m{\u001B[0m\u001B[32m'status_code'\u001B[0m: \u001B[1;36m40\u001B[0m\u001B[1m}\u001B[0m\n"
      ]
     },
     "metadata": {},
     "output_type": "display_data"
    }
   ],
   "source": [
    "for step1 in Step1.query_by_status(status=Step1StatusEnum.succeeded):\n",
    "    print(\"by default, the `data` attributes is the default value (set by ORM model)\")\n",
    "    rprint(step1.data)\n",
    "    print(\"after refresh, the `data` attributes is the real value \")\n",
    "    step1.refresh()\n",
    "    rprint(step1.data)"
   ]
  },
  {
   "cell_type": "code",
   "execution_count": 31,
   "metadata": {
    "ExecuteTime": {
     "end_time": "2024-05-23T05:46:58.713866Z",
     "start_time": "2024-05-23T05:46:58.593020Z"
    },
    "collapsed": false,
    "pycharm": {
     "name": "#%%\n"
    }
   },
   "outputs": [
    {
     "name": "stdout",
     "output_type": "stream",
     "text": [
      "With auto_refresh = True, the `data` attributes is the real value \n"
     ]
    },
    {
     "data": {
      "text/html": [
       "<pre style=\"white-space:pre;overflow-x:auto;line-height:normal;font-family:Menlo,'DejaVu Sans Mono',consolas,'Courier New',monospace\"><span style=\"font-weight: bold\">{</span><span style=\"color: #008000; text-decoration-color: #008000\">'status_code'</span>: <span style=\"color: #008080; text-decoration-color: #008080; font-weight: bold\">50</span><span style=\"font-weight: bold\">}</span>\n",
       "</pre>\n"
      ],
      "text/plain": [
       "\u001B[1m{\u001B[0m\u001B[32m'status_code'\u001B[0m: \u001B[1;36m50\u001B[0m\u001B[1m}\u001B[0m\n"
      ]
     },
     "metadata": {},
     "output_type": "display_data"
    }
   ],
   "source": [
    "print(\"With auto_refresh = True, the `data` attributes is the real value \")\n",
    "for step1 in step1.query_by_status(Step1StatusEnum.ignored, auto_refresh=True):\n",
    "    rprint(step1.data)"
   ]
  },
  {
   "cell_type": "markdown",
   "metadata": {
    "collapsed": false
   },
   "source": [
    "## GSI Sharding on Status Attribute\n",
    "\n",
    "To query tasks by status code, we need to use a GSI (Global Secondary Index) that uses the status attribute as the hash key. However, the status attribute doesn't have good cardinality, as it only has 5 different values. If you have a large number of tasks, the GSI can become very unbalanced. We can use the [GSI Sharding technique](https://docs.aws.amazon.com/amazondynamodb/latest/developerguide/GSI.html) to optimize this.\n",
    "\n",
    "In production, a healthy task execution system usually ends up with most tasks succeeded in history, a constant number of tasks in progress, and a small number of tasks in pending, failed, and ignored states. ``pynamodb_mate`` allows you to split succeeded tasks into many shards while keeping the other statuses in fewer shards. Since you need to query all shards and merge the results when performing a query, this strategy can make the GSI query more efficient when querying non-succeeded tasks (less shard to merge) and evenly distribute the succeeded tasks in the GSI.\n",
    "\n",
    "The `TrackerConfig` class has the following parameters to control the GSI sharding:\n",
    "\n",
    "```python\n",
    "class Step1(Task):\n",
    "    status_and_update_time_index = st.StatusAndUpdateTimeIndex()\n",
    "\n",
    "    config = st.TrackerConfig.make(\n",
    "        use_case_id=\"test\",\n",
    "        pending_status=Step1StatusEnum.pending.value,\n",
    "        in_progress_status=Step1StatusEnum.in_progress.value,\n",
    "        failed_status=Step1StatusEnum.failed.value,\n",
    "        succeeded_status=Step1StatusEnum.succeeded.value,\n",
    "        ignored_status=Step1StatusEnum.ignored.value,\n",
    "        n_pending_shard=5, # <--- number of shards\n",
    "        n_in_progress_shard=5, # <--- number of shards\n",
    "        n_failed_shard=5, # <--- number of shards\n",
    "        n_succeeded_shard=10, # <--- number of shards\n",
    "        n_ignored_shard=5, # <--- number of shards\n",
    "        status_zero_pad=3,\n",
    "        status_shard_zero_pad=3, # <--- number of zero pad for shard id\n",
    "        max_retry=3,\n",
    "        lock_expire_seconds=60,\n",
    "    )\n",
    "```\n",
    "\n",
    "You don't have to explicitly specify the shard ID when using the ``Task.query_by_status(status=...)`` API. It will automatically query all shards and merge the results for you. However, if you really want to query a specific shard, you can use the GSI index object directly. The ``Task.make_value(...)`` method can help you generate the GSI hash key value."
   ]
  },
  {
   "cell_type": "code",
   "execution_count": 32,
   "metadata": {
    "ExecuteTime": {
     "end_time": "2024-05-23T06:01:57.566164Z",
     "start_time": "2024-05-23T06:01:57.523576Z"
    },
    "collapsed": false
   },
   "outputs": [
    {
     "data": {
      "text/html": [
       "<pre style=\"white-space:pre;overflow-x:auto;line-height:normal;font-family:Menlo,'DejaVu Sans Mono',consolas,'Courier New',monospace\"><span style=\"font-weight: bold\">{</span><span style=\"color: #008000; text-decoration-color: #008000\">'create_time'</span>: <span style=\"color: #800080; text-decoration-color: #800080; font-weight: bold\">datetime.datetime</span><span style=\"font-weight: bold\">(</span><span style=\"color: #008080; text-decoration-color: #008080; font-weight: bold\">2024</span>, <span style=\"color: #008080; text-decoration-color: #008080; font-weight: bold\">5</span>, <span style=\"color: #008080; text-decoration-color: #008080; font-weight: bold\">23</span>, <span style=\"color: #008080; text-decoration-color: #008080; font-weight: bold\">6</span>, <span style=\"color: #008080; text-decoration-color: #008080; font-weight: bold\">9</span>, <span style=\"color: #008080; text-decoration-color: #008080; font-weight: bold\">39</span>, <span style=\"color: #008080; text-decoration-color: #008080; font-weight: bold\">61070</span>, <span style=\"color: #808000; text-decoration-color: #808000\">tzinfo</span>=<span style=\"color: #800080; text-decoration-color: #800080\">datetime</span>.timezone.utc<span style=\"font-weight: bold\">)</span>, <span style=\"color: #008000; text-decoration-color: #008000\">'data'</span>: \n",
       "<span style=\"font-weight: bold\">{</span><span style=\"color: #008000; text-decoration-color: #008000\">'status_code'</span>: <span style=\"color: #008080; text-decoration-color: #008080; font-weight: bold\">40</span><span style=\"font-weight: bold\">}</span>, <span style=\"color: #008000; text-decoration-color: #008000\">'errors'</span>: <span style=\"font-weight: bold\">{</span><span style=\"color: #008000; text-decoration-color: #008000\">'history'</span>: <span style=\"font-weight: bold\">[]}</span>, <span style=\"color: #008000; text-decoration-color: #008000\">'lock'</span>: <span style=\"color: #008000; text-decoration-color: #008000\">'__not_locked__'</span>, <span style=\"color: #008000; text-decoration-color: #008000\">'lock_time'</span>: <span style=\"color: #800080; text-decoration-color: #800080; font-weight: bold\">datetime.datetime</span><span style=\"font-weight: bold\">(</span><span style=\"color: #008080; text-decoration-color: #008080; font-weight: bold\">1970</span>, <span style=\"color: #008080; text-decoration-color: #008080; font-weight: bold\">1</span>, \n",
       "<span style=\"color: #008080; text-decoration-color: #008080; font-weight: bold\">1</span>, <span style=\"color: #008080; text-decoration-color: #008080; font-weight: bold\">0</span>, <span style=\"color: #008080; text-decoration-color: #008080; font-weight: bold\">0</span>, <span style=\"color: #808000; text-decoration-color: #808000\">tzinfo</span>=<span style=\"color: #800080; text-decoration-color: #800080\">datetime</span>.timezone.utc<span style=\"font-weight: bold\">)</span>, <span style=\"color: #008000; text-decoration-color: #008000\">'retry'</span>: <span style=\"color: #008080; text-decoration-color: #008080; font-weight: bold\">0</span>, <span style=\"color: #008000; text-decoration-color: #008000\">'update_time'</span>: <span style=\"color: #800080; text-decoration-color: #800080; font-weight: bold\">datetime.datetime</span><span style=\"font-weight: bold\">(</span><span style=\"color: #008080; text-decoration-color: #008080; font-weight: bold\">2024</span>, <span style=\"color: #008080; text-decoration-color: #008080; font-weight: bold\">5</span>, <span style=\"color: #008080; text-decoration-color: #008080; font-weight: bold\">23</span>, <span style=\"color: #008080; text-decoration-color: #008080; font-weight: bold\">6</span>, <span style=\"color: #008080; text-decoration-color: #008080; font-weight: bold\">9</span>, <span style=\"color: #008080; text-decoration-color: #008080; font-weight: bold\">39</span>, <span style=\"color: #008080; text-decoration-color: #008080; font-weight: bold\">61105</span>, \n",
       "<span style=\"color: #808000; text-decoration-color: #808000\">tzinfo</span>=<span style=\"color: #800080; text-decoration-color: #800080\">datetime</span>.timezone.utc<span style=\"font-weight: bold\">)</span>, <span style=\"color: #008000; text-decoration-color: #008000\">'key'</span>: <span style=\"color: #008000; text-decoration-color: #008000\">'test____t-4'</span>, <span style=\"color: #008000; text-decoration-color: #008000\">'status'</span>: <span style=\"color: #008080; text-decoration-color: #008080; font-weight: bold\">40</span>, <span style=\"color: #008000; text-decoration-color: #008000\">'value'</span>: <span style=\"color: #008000; text-decoration-color: #008000\">'test____040____004'</span><span style=\"font-weight: bold\">}</span>\n",
       "</pre>\n"
      ],
      "text/plain": [
       "\u001B[1m{\u001B[0m\u001B[32m'create_time'\u001B[0m: \u001B[1;35mdatetime.datetime\u001B[0m\u001B[1m(\u001B[0m\u001B[1;36m2024\u001B[0m, \u001B[1;36m5\u001B[0m, \u001B[1;36m23\u001B[0m, \u001B[1;36m6\u001B[0m, \u001B[1;36m9\u001B[0m, \u001B[1;36m39\u001B[0m, \u001B[1;36m61070\u001B[0m, \u001B[33mtzinfo\u001B[0m=\u001B[35mdatetime\u001B[0m.timezone.utc\u001B[1m)\u001B[0m, \u001B[32m'data'\u001B[0m: \n",
       "\u001B[1m{\u001B[0m\u001B[32m'status_code'\u001B[0m: \u001B[1;36m40\u001B[0m\u001B[1m}\u001B[0m, \u001B[32m'errors'\u001B[0m: \u001B[1m{\u001B[0m\u001B[32m'history'\u001B[0m: \u001B[1m[\u001B[0m\u001B[1m]\u001B[0m\u001B[1m}\u001B[0m, \u001B[32m'lock'\u001B[0m: \u001B[32m'__not_locked__'\u001B[0m, \u001B[32m'lock_time'\u001B[0m: \u001B[1;35mdatetime.datetime\u001B[0m\u001B[1m(\u001B[0m\u001B[1;36m1970\u001B[0m, \u001B[1;36m1\u001B[0m, \n",
       "\u001B[1;36m1\u001B[0m, \u001B[1;36m0\u001B[0m, \u001B[1;36m0\u001B[0m, \u001B[33mtzinfo\u001B[0m=\u001B[35mdatetime\u001B[0m.timezone.utc\u001B[1m)\u001B[0m, \u001B[32m'retry'\u001B[0m: \u001B[1;36m0\u001B[0m, \u001B[32m'update_time'\u001B[0m: \u001B[1;35mdatetime.datetime\u001B[0m\u001B[1m(\u001B[0m\u001B[1;36m2024\u001B[0m, \u001B[1;36m5\u001B[0m, \u001B[1;36m23\u001B[0m, \u001B[1;36m6\u001B[0m, \u001B[1;36m9\u001B[0m, \u001B[1;36m39\u001B[0m, \u001B[1;36m61105\u001B[0m, \n",
       "\u001B[33mtzinfo\u001B[0m=\u001B[35mdatetime\u001B[0m.timezone.utc\u001B[1m)\u001B[0m, \u001B[32m'key'\u001B[0m: \u001B[32m'test____t-4'\u001B[0m, \u001B[32m'status'\u001B[0m: \u001B[1;36m40\u001B[0m, \u001B[32m'value'\u001B[0m: \u001B[32m'test____040____004'\u001B[0m\u001B[1m}\u001B[0m\n"
      ]
     },
     "metadata": {},
     "output_type": "display_data"
    }
   ],
   "source": [
    "for step1 in Step1.status_and_update_time_index.query(\n",
    "    hash_key=Step1.make_value(\n",
    "        status=Step1StatusEnum.succeeded.value,\n",
    "        _shard_id=4,\n",
    "    ),\n",
    "):\n",
    "    step1.refresh()\n",
    "    rprint(f\"{step1.to_dict()}\")"
   ]
  },
  {
   "cell_type": "markdown",
   "metadata": {
    "collapsed": false,
    "pycharm": {
     "name": "#%% md\n"
    }
   },
   "source": [
    "## Conclusion\n",
    "\n",
    "In general, this solution can improve the visibility, resilience and reliability of a business critical application. There’s no upfront effort to use this solution, because DynamoDB is a fully managed service. Naturally, it is scalable to adapt to very high workload or unpredictable workload.\n",
    "\n",
    "The usage of this solution is not limited to the above examples. If you see potential to use this solution in your business problems, please don’t hesitate to let us know by creating an [issue](https://github.com/MacHu-GWU/pynamodb_mate-project/issues)."
   ]
  },
  {
   "cell_type": "code",
   "execution_count": null,
   "metadata": {
    "ExecuteTime": {
     "end_time": "2024-05-22T20:21:18.941397Z",
     "start_time": "2024-05-22T20:21:18.938236Z"
    },
    "collapsed": false,
    "pycharm": {
     "name": "#%%\n"
    }
   },
   "outputs": [],
   "source": []
  }
 ],
 "metadata": {
  "kernelspec": {
   "display_name": "Python 3 (ipykernel)",
   "language": "python",
   "name": "python3"
  },
  "language_info": {
   "codemirror_mode": {
    "name": "ipython",
    "version": 3
   },
   "file_extension": ".py",
   "mimetype": "text/x-python",
   "name": "python",
   "nbconvert_exporter": "python",
   "pygments_lexer": "ipython3",
   "version": "3.8.13"
  }
 },
 "nbformat": 4,
 "nbformat_minor": 4
}

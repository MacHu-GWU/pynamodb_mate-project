{
 "cells": [
  {
   "cell_type": "raw",
   "metadata": {
    "editable": true,
    "raw_mimetype": "text/restructuredtext",
    "slideshow": {
     "slide_type": ""
    },
    "tags": []
   },
   "source": [
    ".. _status-tracking:\n",
    "\n",
    "Enable status tracking for business critical application using Amazon DynamoDB\n",
    "================================================================================"
   ]
  },
  {
   "cell_type": "markdown",
   "metadata": {
    "collapsed": false,
    "editable": true,
    "jp-MarkdownHeadingCollapsed": true,
    "jupyter": {
     "outputs_hidden": false
    },
    "pycharm": {
     "name": "#%% md\n"
    },
    "slideshow": {
     "slide_type": ""
    },
    "tags": []
   },
   "source": [
    "In this example, we introduce a pattern for tracking the status of business critical tasks using Amazon DynamoDB as the backend. This feature gives you the ability to track status of each task, and error-handling, retry, concurrency control out-of-the-box.\n",
    "\n",
    "When managing a large number of business-critical tasks, it is crucial to monitor and identify which tasks have been successful, which have failed, and which are still in progress. If the business logic is a pipeline consisting of a sequence of tasks, it is important to keep track of its current status and have the ability to recover from any failed task. We also have seen some advanced requirements from AWS customers that includes:\n",
    "\n",
    "- Each task should be consumed once and exactly once.\n",
    "- Each task should be handled by only one worker, you want a concurrency lock mechanism to avoid double consumption.\n",
    "- For those succeeded tasks, store additional information such as the output, statistics, metadata of the task and log the success time.\n",
    "- For those failed tasks, you want to log the detailed error message for debugging.\n",
    "- You want to get all of the failed tasks by one simple query and rerun with the updated business logic.\n",
    "- Task might be impossible to complete. To avoid falling into an endless retry loop, you want to ignore the tasks if they fail too many times.\n",
    "- Run custom query based on task status for analytics purpose.\n",
    "\n",
    "With [pynamodb_mate](https://github.com/MacHu-GWU/pynamodb_mate-project) Python library, you can enable this advanced feature without refactoring your existing application code, and you can use the \"elegant\" context manager to wrap around your business logic code and enjoy all the features above.\n",
    "\n",
    "## A Real-World Example: Tracking Document Processing Tasks\n",
    "\n",
    "Let's take an example and see how we use ``pynamodb_mate`` for status tracking.\n",
    "\n",
    "Let's say we have to process thousands of PDF documents. For each document, we need to extract text and key-value data from it, and then we want to use LLM (Large Language Model) to answer some business questions based on the data we extracted. In this example, the task has two steps: \"extract data\" and \"answer business question\". We want to ensure that all the documents have been processed properly. We may distribute thousands of PDF documents to a swarm of workers and process them in parallel, but we only want one document to be worked on by one worker at a time. Since this job is complicated and the worker may fail, we want a retry mechanism to ensure that all the jobs have been processed eventually. However, it is possible that the input document is malformed, making it impossible to finish. We need to avoid deadlock and infinite retry.\n",
    "\n",
    "Given this example use case, I would like to define the following concepts:\n",
    "\n",
    "- **Task and Task Id**: Each task that we want to track the status of. Each task has a unique ``task_id``. In this use case, the task ID is the document ID.\n",
    "- **Status Code**: The status of each task. The lifecycle of each task goes through the following process: ``pending`` -> ``in_progress`` -> ``failed/succeeded/ignored``. ``pending`` means the task is ready to be executed at any time, ``in_progress`` means the task is being executed, ``failed`` means the execution failed, ``succeeded`` means the execution was successful, and ``ignored`` means the task was ignored due to too many failed retries. ``pynamodb_mate`` doesn't allow adding any other status codes in this process. This is because the lifecycle corresponds to an idempotent operation. If you have other intermediate status operations in ``in_progress``, let's assume there are a total of 2 steps. In this case, you should split these 2 steps into two lifecycles. The status code for ``succeeded`` in the first step should be equal to the status code for ``pending`` in the second step. The reason for doing this is that once you have other intermediate status operations, your idempotency cannot be guaranteed, so you must split them into two steps. In this use case, the status codes for Step 1 are 10 for pending, 20 for in progress, 30 for failed, 40 for succeeded, and 50 for ignored (failed too many times, ignore it to avoid deadlock). For Step 2, 40 is for pending (Step 1 is succeeded), 70 is in progress, 80 is failed, 90 is succeeded, and 100 is ignored.\n",
    "- **Use Case and Use Case Id**: In DynamoDB, we often use a single table to do many things that would require multiple tables in relational databases. In this article, we will put Tasks of completely different types in the same table. These different Tasks may have the same status codes, for example, we use 0 to represent \"pending\". Therefore, we need a field to separate these Tasks, and this field is ``use_case_id``. We will ensure that all ``task_id`` under a ``use_case_id`` are unique. In this example, the use case ID is \"pdf_processing\". We don't have other use cases in this example. But by design, pynamodb_mate is able to manage many use cases in a single DynamoDB table.\n",
    "- **Execution Context (ctx)**: In our program design, we use Python's Context Manager to start a task's lifecycle and automatically update the status in the database based on the task's execution result (success or failure). This Execution Context is a container for all the contextual data in the lifecycle of executing a task, including any user data you need to save during the processing of this task.\n",
    "- **Execution**: The process of attempting to execute a task, which is the \"lifecycle\" of the task that has been mentioned many times above.\n",
    "\n",
    "Now, let's start writing some code to implement this use case."
   ]
  },
  {
   "cell_type": "markdown",
   "metadata": {
    "collapsed": false,
    "jupyter": {
     "outputs_hidden": false
    },
    "pycharm": {
     "name": "#%% md\n"
    }
   },
   "source": [
    "## Import pynamodb_mate\n",
    "\n",
    "All public APIs of ``pynamodb_mate`` are under the ``pynamodb_mate.api`` module. We will import this module first."
   ]
  },
  {
   "cell_type": "code",
   "execution_count": 1,
   "metadata": {
    "ExecuteTime": {
     "end_time": "2024-05-23T04:37:56.502866Z",
     "start_time": "2024-05-23T04:37:56.374391Z"
    },
    "collapsed": false,
    "jupyter": {
     "outputs_hidden": false
    }
   },
   "outputs": [
    {
     "name": "stdout",
     "output_type": "stream",
     "text": [
      "pm.__version__ = '6.0.0.2'\n"
     ]
    }
   ],
   "source": [
    "import pynamodb_mate.api as pm\n",
    "\n",
    "print(f\"{pm.__version__ = }\")\n",
    "\n",
    "# make the status_tracker submodule name space shorter\n",
    "st = pm.patterns.status_tracker"
   ]
  },
  {
   "cell_type": "markdown",
   "metadata": {
    "collapsed": false,
    "jupyter": {
     "outputs_hidden": false
    }
   },
   "source": [
    "## Define Status Code Enum\n",
    "\n",
    "First, we define some status code using the enum Python standard library. It improves the code readability and avoids hard coding meaningless integers everywhere in the code base.\n",
    "\n",
    "The ``pm.patterns.status_tracker.BaseStatusEnum`` base class is a subclass of the standard ``enum.Enum``. It gives your status a human-readable name and a machine-readable integer. Usually, we only transition from a smaller integer to a bigger integer. However, this is not enforced by the library. You can define your own status code as long as you follow the idempotent operation principle."
   ]
  },
  {
   "cell_type": "code",
   "execution_count": 2,
   "metadata": {
    "ExecuteTime": {
     "end_time": "2024-05-23T04:37:57.306385Z",
     "start_time": "2024-05-23T04:37:57.300617Z"
    },
    "collapsed": false,
    "jupyter": {
     "outputs_hidden": false
    }
   },
   "outputs": [],
   "source": [
    "# usually the closer to success, the bigger the integer is    \n",
    "class Step1StatusEnum(st.BaseStatusEnum):\n",
    "    pending = 10\n",
    "    in_progress = 12\n",
    "    failed = 14\n",
    "    succeeded = 16\n",
    "    ignored = 18\n",
    "\n",
    "\n",
    "class Step2StatusEnum(st.BaseStatusEnum):\n",
    "    pending = 20\n",
    "    in_progress = 22\n",
    "    failed = 24\n",
    "    succeeded = 26\n",
    "    ignored = 28"
   ]
  },
  {
   "cell_type": "markdown",
   "metadata": {
    "collapsed": false,
    "jupyter": {
     "outputs_hidden": false
    }
   },
   "source": [
    "Some useful methods are provided by the ``BaseStatusEnum`` class:"
   ]
  },
  {
   "cell_type": "code",
   "execution_count": 3,
   "metadata": {
    "ExecuteTime": {
     "end_time": "2024-05-23T04:37:58.266162Z",
     "start_time": "2024-05-23T04:37:58.258913Z"
    },
    "collapsed": false,
    "jupyter": {
     "outputs_hidden": false
    }
   },
   "outputs": [
    {
     "name": "stdout",
     "output_type": "stream",
     "text": [
      "Step1StatusEnum.value_to_name(10) = 'pending'\n",
      "Step1StatusEnum.pending.status_name = 'pending'\n",
      "Step1StatusEnum.pending.values() = [10, 12, 14, 16, 18]\n"
     ]
    }
   ],
   "source": [
    "print(f\"{Step1StatusEnum.value_to_name(10) = }\")\n",
    "print(f\"{Step1StatusEnum.pending.status_name = }\")\n",
    "print(f\"{Step1StatusEnum.pending.values() = }\")"
   ]
  },
  {
   "cell_type": "markdown",
   "metadata": {
    "collapsed": false,
    "jupyter": {
     "outputs_hidden": false
    }
   },
   "source": [
    "## Declare Your DynamoDB Status Tracking Table\n",
    "\n",
    "Now, we cand declare a DynamoDB ORM model for the ``Task`` concepts. Since we have two steps in this use case, we need to define two tables. The first table is for Step 1, and the second table is for Step 2. Because they share a lot of things in common, so we could create a base class to avoid code duplication."
   ]
  },
  {
   "cell_type": "code",
   "execution_count": 4,
   "metadata": {
    "ExecuteTime": {
     "end_time": "2024-05-23T04:37:59.180631Z",
     "start_time": "2024-05-23T04:37:59.175028Z"
    },
    "collapsed": false,
    "jupyter": {
     "outputs_hidden": false
    },
    "pycharm": {
     "name": "#%%\n"
    }
   },
   "outputs": [],
   "source": [
    "class Task(st.BaseTask):\n",
    "    class Meta:\n",
    "        table_name = f\"pynamodb-mate-test-status-tracker\"\n",
    "        region = \"us-east-1\"\n",
    "        billing_mode = pm.constants.PAY_PER_REQUEST_BILLING_MODE\n",
    "\n",
    "    status_and_update_time_index = st.StatusAndUpdateTimeIndex()\n",
    "\n",
    "class Step1(Task):\n",
    "    status_and_update_time_index = st.StatusAndUpdateTimeIndex()\n",
    "\n",
    "    config = st.TrackerConfig.make(\n",
    "        use_case_id=\"test\",\n",
    "        pending_status=Step1StatusEnum.pending.value,\n",
    "        in_progress_status=Step1StatusEnum.in_progress.value,\n",
    "        failed_status=Step1StatusEnum.failed.value,\n",
    "        succeeded_status=Step1StatusEnum.succeeded.value,\n",
    "        ignored_status=Step1StatusEnum.ignored.value,\n",
    "        n_pending_shard=5,\n",
    "        n_in_progress_shard=5,\n",
    "        n_failed_shard=5,\n",
    "        n_succeeded_shard=10,\n",
    "        n_ignored_shard=5,\n",
    "        status_zero_pad=3,\n",
    "        status_shard_zero_pad=3,\n",
    "        max_retry=3,\n",
    "        lock_expire_seconds=60,\n",
    "    )\n",
    "\n",
    "\n",
    "class Step2(Task):\n",
    "    status_and_update_time_index = st.StatusAndUpdateTimeIndex()\n",
    "\n",
    "    config = st.TrackerConfig.make(\n",
    "        use_case_id=\"test\",\n",
    "        pending_status=Step2StatusEnum.pending.value,\n",
    "        in_progress_status=Step2StatusEnum.in_progress.value,\n",
    "        failed_status=Step2StatusEnum.failed.value,\n",
    "        succeeded_status=Step2StatusEnum.succeeded.value,\n",
    "        ignored_status=Step2StatusEnum.ignored.value,\n",
    "        n_pending_shard=5,\n",
    "        n_in_progress_shard=5,\n",
    "        n_failed_shard=5,\n",
    "        n_succeeded_shard=10,\n",
    "        n_ignored_shard=5,\n",
    "        more_pending_status=[Step1StatusEnum.succeeded.value],\n",
    "        status_zero_pad=3,\n",
    "        status_shard_zero_pad=3,\n",
    "        max_retry=3,\n",
    "        lock_expire_seconds=60,\n",
    "    )"
   ]
  },
  {
   "cell_type": "code",
   "execution_count": 5,
   "metadata": {
    "ExecuteTime": {
     "end_time": "2024-05-23T04:38:33.443470Z",
     "start_time": "2024-05-23T04:38:16.926369Z"
    },
    "collapsed": false,
    "jupyter": {
     "outputs_hidden": false
    },
    "pycharm": {
     "name": "#%%\n"
    }
   },
   "outputs": [
    {
     "data": {
      "text/plain": [
       "5"
      ]
     },
     "execution_count": 5,
     "metadata": {},
     "output_type": "execute_result"
    }
   ],
   "source": [
    "# Create the table if it doesn't exist\n",
    "Task.create_table(wait=True)\n",
    "Task.delete_all() # clean up the table to ensure a fresh start"
   ]
  },
  {
   "cell_type": "markdown",
   "metadata": {
    "collapsed": false,
    "jupyter": {
     "outputs_hidden": false
    },
    "pycharm": {
     "name": "#%% md\n"
    }
   },
   "source": [
    "## Initialize a Task\n",
    "\n",
    "At very begin, you should create a new task with pending status and save it to DynamoDB. The ``Task.make_and_save(...)`` constructor method can do this job. If you only want to create an instance without saving it to DynamoDB, you can use the ``Task.make(...)`` method."
   ]
  },
  {
   "cell_type": "code",
   "execution_count": 6,
   "metadata": {
    "ExecuteTime": {
     "end_time": "2024-05-23T05:11:04.771615Z",
     "start_time": "2024-05-23T05:11:04.741106Z"
    },
    "collapsed": false,
    "jupyter": {
     "outputs_hidden": false
    },
    "pycharm": {
     "name": "#%%\n"
    }
   },
   "outputs": [
    {
     "data": {
      "text/html": [
       "<pre style=\"white-space:pre;overflow-x:auto;line-height:normal;font-family:Menlo,'DejaVu Sans Mono',consolas,'Courier New',monospace\"><span style=\"font-weight: bold\">{</span>\n",
       "    <span style=\"color: #008000; text-decoration-color: #008000\">'create_time'</span>: <span style=\"color: #800080; text-decoration-color: #800080; font-weight: bold\">datetime.datetime</span><span style=\"font-weight: bold\">(</span><span style=\"color: #008080; text-decoration-color: #008080; font-weight: bold\">2024</span>, <span style=\"color: #008080; text-decoration-color: #008080; font-weight: bold\">6</span>, <span style=\"color: #008080; text-decoration-color: #008080; font-weight: bold\">6</span>, <span style=\"color: #008080; text-decoration-color: #008080; font-weight: bold\">2</span>, <span style=\"color: #008080; text-decoration-color: #008080; font-weight: bold\">56</span>, <span style=\"color: #008080; text-decoration-color: #008080; font-weight: bold\">26</span>, <span style=\"color: #008080; text-decoration-color: #008080; font-weight: bold\">500793</span>, <span style=\"color: #808000; text-decoration-color: #808000\">tzinfo</span>=<span style=\"color: #800080; text-decoration-color: #800080\">datetime</span>.timezone.utc<span style=\"font-weight: bold\">)</span>,\n",
       "    <span style=\"color: #008000; text-decoration-color: #008000\">'data'</span>: <span style=\"font-weight: bold\">{</span><span style=\"color: #008000; text-decoration-color: #008000\">'version'</span>: <span style=\"color: #008080; text-decoration-color: #008080; font-weight: bold\">1</span><span style=\"font-weight: bold\">}</span>,\n",
       "    <span style=\"color: #008000; text-decoration-color: #008000\">'errors'</span>: <span style=\"font-weight: bold\">{</span><span style=\"color: #008000; text-decoration-color: #008000\">'history'</span>: <span style=\"font-weight: bold\">[]}</span>,\n",
       "    <span style=\"color: #008000; text-decoration-color: #008000\">'lock'</span>: <span style=\"color: #008000; text-decoration-color: #008000\">'__not_locked__'</span>,\n",
       "    <span style=\"color: #008000; text-decoration-color: #008000\">'lock_time'</span>: <span style=\"color: #800080; text-decoration-color: #800080; font-weight: bold\">datetime.datetime</span><span style=\"font-weight: bold\">(</span><span style=\"color: #008080; text-decoration-color: #008080; font-weight: bold\">1970</span>, <span style=\"color: #008080; text-decoration-color: #008080; font-weight: bold\">1</span>, <span style=\"color: #008080; text-decoration-color: #008080; font-weight: bold\">1</span>, <span style=\"color: #008080; text-decoration-color: #008080; font-weight: bold\">0</span>, <span style=\"color: #008080; text-decoration-color: #008080; font-weight: bold\">0</span>, <span style=\"color: #808000; text-decoration-color: #808000\">tzinfo</span>=<span style=\"color: #800080; text-decoration-color: #800080\">datetime</span>.timezone.utc<span style=\"font-weight: bold\">)</span>,\n",
       "    <span style=\"color: #008000; text-decoration-color: #008000\">'retry'</span>: <span style=\"color: #008080; text-decoration-color: #008080; font-weight: bold\">0</span>,\n",
       "    <span style=\"color: #008000; text-decoration-color: #008000\">'update_time'</span>: <span style=\"color: #800080; text-decoration-color: #800080; font-weight: bold\">datetime.datetime</span><span style=\"font-weight: bold\">(</span><span style=\"color: #008080; text-decoration-color: #008080; font-weight: bold\">2024</span>, <span style=\"color: #008080; text-decoration-color: #008080; font-weight: bold\">6</span>, <span style=\"color: #008080; text-decoration-color: #008080; font-weight: bold\">6</span>, <span style=\"color: #008080; text-decoration-color: #008080; font-weight: bold\">2</span>, <span style=\"color: #008080; text-decoration-color: #008080; font-weight: bold\">56</span>, <span style=\"color: #008080; text-decoration-color: #008080; font-weight: bold\">26</span>, <span style=\"color: #008080; text-decoration-color: #008080; font-weight: bold\">500817</span>, <span style=\"color: #808000; text-decoration-color: #808000\">tzinfo</span>=<span style=\"color: #800080; text-decoration-color: #800080\">datetime</span>.timezone.utc<span style=\"font-weight: bold\">)</span>,\n",
       "    <span style=\"color: #008000; text-decoration-color: #008000\">'key'</span>: <span style=\"color: #008000; text-decoration-color: #008000\">'test____t-1'</span>,\n",
       "    <span style=\"color: #008000; text-decoration-color: #008000\">'value'</span>: <span style=\"color: #008000; text-decoration-color: #008000\">'test____010____001'</span>,\n",
       "    <span style=\"color: #008000; text-decoration-color: #008000\">'status'</span>: <span style=\"color: #008080; text-decoration-color: #008080; font-weight: bold\">10</span>\n",
       "<span style=\"font-weight: bold\">}</span>\n",
       "</pre>\n"
      ],
      "text/plain": [
       "\u001b[1m{\u001b[0m\n",
       "    \u001b[32m'create_time'\u001b[0m: \u001b[1;35mdatetime.datetime\u001b[0m\u001b[1m(\u001b[0m\u001b[1;36m2024\u001b[0m, \u001b[1;36m6\u001b[0m, \u001b[1;36m6\u001b[0m, \u001b[1;36m2\u001b[0m, \u001b[1;36m56\u001b[0m, \u001b[1;36m26\u001b[0m, \u001b[1;36m500793\u001b[0m, \u001b[33mtzinfo\u001b[0m=\u001b[35mdatetime\u001b[0m.timezone.utc\u001b[1m)\u001b[0m,\n",
       "    \u001b[32m'data'\u001b[0m: \u001b[1m{\u001b[0m\u001b[32m'version'\u001b[0m: \u001b[1;36m1\u001b[0m\u001b[1m}\u001b[0m,\n",
       "    \u001b[32m'errors'\u001b[0m: \u001b[1m{\u001b[0m\u001b[32m'history'\u001b[0m: \u001b[1m[\u001b[0m\u001b[1m]\u001b[0m\u001b[1m}\u001b[0m,\n",
       "    \u001b[32m'lock'\u001b[0m: \u001b[32m'__not_locked__'\u001b[0m,\n",
       "    \u001b[32m'lock_time'\u001b[0m: \u001b[1;35mdatetime.datetime\u001b[0m\u001b[1m(\u001b[0m\u001b[1;36m1970\u001b[0m, \u001b[1;36m1\u001b[0m, \u001b[1;36m1\u001b[0m, \u001b[1;36m0\u001b[0m, \u001b[1;36m0\u001b[0m, \u001b[33mtzinfo\u001b[0m=\u001b[35mdatetime\u001b[0m.timezone.utc\u001b[1m)\u001b[0m,\n",
       "    \u001b[32m'retry'\u001b[0m: \u001b[1;36m0\u001b[0m,\n",
       "    \u001b[32m'update_time'\u001b[0m: \u001b[1;35mdatetime.datetime\u001b[0m\u001b[1m(\u001b[0m\u001b[1;36m2024\u001b[0m, \u001b[1;36m6\u001b[0m, \u001b[1;36m6\u001b[0m, \u001b[1;36m2\u001b[0m, \u001b[1;36m56\u001b[0m, \u001b[1;36m26\u001b[0m, \u001b[1;36m500817\u001b[0m, \u001b[33mtzinfo\u001b[0m=\u001b[35mdatetime\u001b[0m.timezone.utc\u001b[1m)\u001b[0m,\n",
       "    \u001b[32m'key'\u001b[0m: \u001b[32m'test____t-1'\u001b[0m,\n",
       "    \u001b[32m'value'\u001b[0m: \u001b[32m'test____010____001'\u001b[0m,\n",
       "    \u001b[32m'status'\u001b[0m: \u001b[1;36m10\u001b[0m\n",
       "\u001b[1m}\u001b[0m\n"
      ]
     },
     "metadata": {},
     "output_type": "display_data"
    },
    {
     "name": "stdout",
     "output_type": "stream",
     "text": [
      "step1.status_name = 'pending'\n",
      "step1.is_locked() = False\n"
     ]
    }
   ],
   "source": [
    "from rich import print as rprint\n",
    "\n",
    "task_id = \"t-1\"\n",
    "\n",
    "# create a new task\n",
    "step1 = Step1.make_and_save(task_id=task_id, data={\"version\": 1})\n",
    "\n",
    "rprint(step1.to_dict())\n",
    "print(f\"{step1.status_name = }\")\n",
    "print(f\"{step1.is_locked() = }\")"
   ]
  },
  {
   "cell_type": "markdown",
   "metadata": {
    "collapsed": false,
    "jupyter": {
     "outputs_hidden": false
    },
    "pycharm": {
     "name": "#%% md\n"
    }
   },
   "source": [
    "## Start an Execution to finish Step 1\n",
    "\n",
    "The ``Task.start(...)`` method is the **CORE** of this best practice. It is a context manager where you can put your task execution logic under it. It does the following:\n",
    "\n",
    "1. It will set the status to the ``in_progress_status`` and set the lock. If the task is already locked, it will raise a ``TaskLockedError``.\n",
    "2. If the task succeeded, it will set the status to the ``succeeded_status``.\n",
    "3. If the task fail, it will set the status to the ``failed_status`` and log the error to ``.errors`` attribute, and add retry count.\n",
    "4. If the task failed N times in a row, it will set the status to the ``ignored_status``.\n",
    "\n",
    "The code below is a \"happy path\". You can use ``with Step1.start(task_id=..., detailed_error(optional)=True | False, debug(optional)=True|False) as execution_context:`` to start the lifecycle of the task execution. The context manager will return a ``ExecutionContext`` object, which is a container for all the contextual data in the lifecycle of executing a task, including the instance of the DynamoDB ORM model (DynamoDB item), and allow you to use ``ExecutionContext.set_data()`` method to update any user data you need to save at the end of this task. \n"
   ]
  },
  {
   "cell_type": "code",
   "execution_count": 7,
   "metadata": {
    "ExecuteTime": {
     "end_time": "2024-05-23T05:11:05.121989Z",
     "start_time": "2024-05-23T05:11:05.071655Z"
    },
    "collapsed": false,
    "jupyter": {
     "outputs_hidden": false
    }
   },
   "outputs": [
    {
     "name": "stdout",
     "output_type": "stream",
     "text": [
      "----------------------------------- ▶️ start Task(use_case_id='test', task_id='t-1'))-----------------------------------\n",
      "🔓 set status 'in_progress' and lock the task.\n",
      "exec_ctx.task.status_name = 'in_progress'\n",
      "exec_ctx.task.is_locked() = True\n",
      "do some work ...\n",
      "✅ 🔐 task succeeded, set status 'success' and unlock the task.\n",
      "--------------------- ⏹️ end Task(use_case_id='test', task_id='t-1'), status=16)) (aka 'succeeded')---------------------\n"
     ]
    }
   ],
   "source": [
    "exec_ctx: st.ExecutionContext\n",
    "# by default, it won't print any trace log, you can set debug=True to enable that\n",
    "with Step1.start(task_id, debug=True) as exec_ctx:\n",
    "    print(f\"{exec_ctx.task.status_name = }\") # in progress\n",
    "    print(f\"{exec_ctx.task.is_locked() = }\") # is locked\n",
    "    # --- put your business logic here, start of business logic\n",
    "    print(\"do some work ...\")\n",
    "    # you can use exec_ctx.set_data() method to update the data attribute\n",
    "    # you should not manually update other attributes like\n",
    "    # create_time, update_time, status, etc.\n",
    "    exec_ctx.set_data({\"version\": 1})\n",
    "    # --- end of business logic"
   ]
  },
  {
   "cell_type": "markdown",
   "metadata": {
    "collapsed": false,
    "jupyter": {
     "outputs_hidden": false
    }
   },
   "source": [
    "When it's done, you can get the DynamoDB item to verify the status of the task."
   ]
  },
  {
   "cell_type": "code",
   "execution_count": 8,
   "metadata": {
    "ExecuteTime": {
     "end_time": "2024-05-23T05:11:05.377690Z",
     "start_time": "2024-05-23T05:11:05.361840Z"
    },
    "collapsed": false,
    "jupyter": {
     "outputs_hidden": false
    }
   },
   "outputs": [
    {
     "name": "stdout",
     "output_type": "stream",
     "text": [
      "step1.status_name = 'succeeded'\n",
      "step1.create_time = datetime.datetime(2024, 6, 6, 2, 56, 26, 500793, tzinfo=datetime.timezone.utc)\n",
      "step1.update_time = datetime.datetime(2024, 6, 6, 2, 56, 26, 846877, tzinfo=datetime.timezone.utc)\n",
      "step1.is_locked() = False\n",
      "step1.retry = 0\n",
      "step1.data = {'version': 1}\n",
      "step1.errors = {'history': []}\n"
     ]
    }
   ],
   "source": [
    "step1 = Step1.get_one_or_none(task_id=task_id)\n",
    "print(f\"{step1.status_name = }\")\n",
    "print(f\"{step1.create_time = }\")\n",
    "print(f\"{step1.update_time = }\")\n",
    "print(f\"{step1.is_locked() = }\") # not locked\n",
    "print(f\"{step1.retry = }\")\n",
    "print(f\"{step1.data = }\")\n",
    "print(f\"{step1.errors = }\") # no error"
   ]
  },
  {
   "cell_type": "markdown",
   "metadata": {
    "collapsed": false,
    "jupyter": {
     "outputs_hidden": false
    }
   },
   "source": [
    "## Run Step 1 Again\n",
    "\n",
    "Let's run the Step 1 again. Since it is already succeeded, we should not run it again. Logically, we should execute a task only if the status is pending or failed. If it is already in progress, it means that there's another worker is working on it. If it is ignored, it means that it is failed too many times and we need a human to investigate the root cause. "
   ]
  },
  {
   "cell_type": "code",
   "execution_count": 9,
   "metadata": {
    "ExecuteTime": {
     "end_time": "2024-05-23T05:11:05.836250Z",
     "start_time": "2024-05-23T05:11:05.717444Z"
    },
    "collapsed": false,
    "jupyter": {
     "outputs_hidden": false
    }
   },
   "outputs": [
    {
     "data": {
      "text/html": [
       "<pre style=\"white-space:pre;overflow-x:auto;line-height:normal;font-family:Menlo,'DejaVu Sans Mono',consolas,'Courier New',monospace\"><span style=\"color: #800080; text-decoration-color: #800080; font-weight: bold\">TaskIsNotReadyToStartError</span><span style=\"font-weight: bold\">(</span><span style=\"color: #008000; text-decoration-color: #008000\">\"Task(use_case_id='test', task_id='t-1') is not ready to start, either it is locked or </span>\n",
       "<span style=\"color: #008000; text-decoration-color: #008000\">status is not in 'pending' or 'failed'. You may use ``with Task.start(task_id=..., detailed_error=True) as </span>\n",
       "<span style=\"color: #008000; text-decoration-color: #008000\">execution_context:`` to get more details.\"</span><span style=\"font-weight: bold\">)</span>\n",
       "</pre>\n"
      ],
      "text/plain": [
       "\u001b[1;35mTaskIsNotReadyToStartError\u001b[0m\u001b[1m(\u001b[0m\u001b[32m\"Task\u001b[0m\u001b[32m(\u001b[0m\u001b[32muse_case_id\u001b[0m\u001b[32m='test', \u001b[0m\u001b[32mtask_id\u001b[0m\u001b[32m='t-1'\u001b[0m\u001b[32m)\u001b[0m\u001b[32m is not ready to start, either it is locked or \u001b[0m\n",
       "\u001b[32mstatus is not in 'pending' or 'failed'. You may use ``with Task.start\u001b[0m\u001b[32m(\u001b[0m\u001b[32mtask_id\u001b[0m\u001b[32m=..., \u001b[0m\u001b[32mdetailed_error\u001b[0m\u001b[32m=\u001b[0m\u001b[32mTrue\u001b[0m\u001b[32m)\u001b[0m\u001b[32m as \u001b[0m\n",
       "\u001b[32mexecution_context:`` to get more details.\"\u001b[0m\u001b[1m)\u001b[0m\n"
      ]
     },
     "metadata": {},
     "output_type": "display_data"
    }
   ],
   "source": [
    "try:\n",
    "    with Step1.start(task_id, debug=False) as exec_ctx:\n",
    "        pass\n",
    "except Exception as e:\n",
    "    rprint(repr(e))"
   ]
  },
  {
   "cell_type": "code",
   "execution_count": 10,
   "metadata": {
    "ExecuteTime": {
     "end_time": "2024-05-23T05:11:06.088369Z",
     "start_time": "2024-05-23T05:11:05.951361Z"
    },
    "collapsed": false,
    "jupyter": {
     "outputs_hidden": false
    }
   },
   "outputs": [
    {
     "data": {
      "text/html": [
       "<pre style=\"white-space:pre;overflow-x:auto;line-height:normal;font-family:Menlo,'DejaVu Sans Mono',consolas,'Courier New',monospace\"><span style=\"color: #800080; text-decoration-color: #800080; font-weight: bold\">TaskAlreadySucceedError</span><span style=\"font-weight: bold\">(</span><span style=\"color: #008000; text-decoration-color: #008000\">\"Task(use_case_id='test', task_id='t-1') is already succeeded.\"</span><span style=\"font-weight: bold\">)</span>\n",
       "</pre>\n"
      ],
      "text/plain": [
       "\u001b[1;35mTaskAlreadySucceedError\u001b[0m\u001b[1m(\u001b[0m\u001b[32m\"Task\u001b[0m\u001b[32m(\u001b[0m\u001b[32muse_case_id\u001b[0m\u001b[32m='test', \u001b[0m\u001b[32mtask_id\u001b[0m\u001b[32m='t-1'\u001b[0m\u001b[32m)\u001b[0m\u001b[32m is already succeeded.\"\u001b[0m\u001b[1m)\u001b[0m\n"
      ]
     },
     "metadata": {},
     "output_type": "display_data"
    }
   ],
   "source": [
    "try:\n",
    "    with Step1.start(task_id, detailed_error=True, debug=False) as exec_ctx:\n",
    "        pass\n",
    "except Exception as e:\n",
    "    rprint(repr(e))"
   ]
  },
  {
   "cell_type": "markdown",
   "metadata": {
    "collapsed": false,
    "jupyter": {
     "outputs_hidden": false
    }
   },
   "source": [
    "## Start an Execution to try Step 2\n",
    "\n",
    "This time we will continue on step 2. Before we start the execution, let's take a look at the current status of the task. This is not necessary, it is just for demonstration purposes."
   ]
  },
  {
   "cell_type": "code",
   "execution_count": 11,
   "metadata": {
    "ExecuteTime": {
     "end_time": "2024-05-23T05:11:06.251508Z",
     "start_time": "2024-05-23T05:11:06.225792Z"
    },
    "collapsed": false,
    "jupyter": {
     "outputs_hidden": false
    }
   },
   "outputs": [
    {
     "data": {
      "text/html": [
       "<pre style=\"white-space:pre;overflow-x:auto;line-height:normal;font-family:Menlo,'DejaVu Sans Mono',consolas,'Courier New',monospace\"><span style=\"font-weight: bold\">{</span>\n",
       "    <span style=\"color: #008000; text-decoration-color: #008000\">'create_time'</span>: <span style=\"color: #800080; text-decoration-color: #800080; font-weight: bold\">datetime.datetime</span><span style=\"font-weight: bold\">(</span><span style=\"color: #008080; text-decoration-color: #008080; font-weight: bold\">2024</span>, <span style=\"color: #008080; text-decoration-color: #008080; font-weight: bold\">6</span>, <span style=\"color: #008080; text-decoration-color: #008080; font-weight: bold\">6</span>, <span style=\"color: #008080; text-decoration-color: #008080; font-weight: bold\">2</span>, <span style=\"color: #008080; text-decoration-color: #008080; font-weight: bold\">56</span>, <span style=\"color: #008080; text-decoration-color: #008080; font-weight: bold\">26</span>, <span style=\"color: #008080; text-decoration-color: #008080; font-weight: bold\">500793</span>, <span style=\"color: #808000; text-decoration-color: #808000\">tzinfo</span>=<span style=\"color: #800080; text-decoration-color: #800080\">datetime</span>.timezone.utc<span style=\"font-weight: bold\">)</span>,\n",
       "    <span style=\"color: #008000; text-decoration-color: #008000\">'data'</span>: <span style=\"font-weight: bold\">{</span><span style=\"color: #008000; text-decoration-color: #008000\">'version'</span>: <span style=\"color: #008080; text-decoration-color: #008080; font-weight: bold\">1</span><span style=\"font-weight: bold\">}</span>,\n",
       "    <span style=\"color: #008000; text-decoration-color: #008000\">'errors'</span>: <span style=\"font-weight: bold\">{</span><span style=\"color: #008000; text-decoration-color: #008000\">'history'</span>: <span style=\"font-weight: bold\">[]}</span>,\n",
       "    <span style=\"color: #008000; text-decoration-color: #008000\">'lock'</span>: <span style=\"color: #008000; text-decoration-color: #008000\">'__not_locked__'</span>,\n",
       "    <span style=\"color: #008000; text-decoration-color: #008000\">'lock_time'</span>: <span style=\"color: #800080; text-decoration-color: #800080; font-weight: bold\">datetime.datetime</span><span style=\"font-weight: bold\">(</span><span style=\"color: #008080; text-decoration-color: #008080; font-weight: bold\">2024</span>, <span style=\"color: #008080; text-decoration-color: #008080; font-weight: bold\">6</span>, <span style=\"color: #008080; text-decoration-color: #008080; font-weight: bold\">6</span>, <span style=\"color: #008080; text-decoration-color: #008080; font-weight: bold\">2</span>, <span style=\"color: #008080; text-decoration-color: #008080; font-weight: bold\">56</span>, <span style=\"color: #008080; text-decoration-color: #008080; font-weight: bold\">26</span>, <span style=\"color: #008080; text-decoration-color: #008080; font-weight: bold\">815756</span>, <span style=\"color: #808000; text-decoration-color: #808000\">tzinfo</span>=<span style=\"color: #800080; text-decoration-color: #800080\">datetime</span>.timezone.utc<span style=\"font-weight: bold\">)</span>,\n",
       "    <span style=\"color: #008000; text-decoration-color: #008000\">'retry'</span>: <span style=\"color: #008080; text-decoration-color: #008080; font-weight: bold\">0</span>,\n",
       "    <span style=\"color: #008000; text-decoration-color: #008000\">'update_time'</span>: <span style=\"color: #800080; text-decoration-color: #800080; font-weight: bold\">datetime.datetime</span><span style=\"font-weight: bold\">(</span><span style=\"color: #008080; text-decoration-color: #008080; font-weight: bold\">2024</span>, <span style=\"color: #008080; text-decoration-color: #008080; font-weight: bold\">6</span>, <span style=\"color: #008080; text-decoration-color: #008080; font-weight: bold\">6</span>, <span style=\"color: #008080; text-decoration-color: #008080; font-weight: bold\">2</span>, <span style=\"color: #008080; text-decoration-color: #008080; font-weight: bold\">56</span>, <span style=\"color: #008080; text-decoration-color: #008080; font-weight: bold\">26</span>, <span style=\"color: #008080; text-decoration-color: #008080; font-weight: bold\">846877</span>, <span style=\"color: #808000; text-decoration-color: #808000\">tzinfo</span>=<span style=\"color: #800080; text-decoration-color: #800080\">datetime</span>.timezone.utc<span style=\"font-weight: bold\">)</span>,\n",
       "    <span style=\"color: #008000; text-decoration-color: #008000\">'key'</span>: <span style=\"color: #008000; text-decoration-color: #008000\">'test____t-1'</span>,\n",
       "    <span style=\"color: #008000; text-decoration-color: #008000\">'status'</span>: <span style=\"color: #008080; text-decoration-color: #008080; font-weight: bold\">16</span>,\n",
       "    <span style=\"color: #008000; text-decoration-color: #008000\">'value'</span>: <span style=\"color: #008000; text-decoration-color: #008000\">'test____016____001'</span>\n",
       "<span style=\"font-weight: bold\">}</span>\n",
       "</pre>\n"
      ],
      "text/plain": [
       "\u001b[1m{\u001b[0m\n",
       "    \u001b[32m'create_time'\u001b[0m: \u001b[1;35mdatetime.datetime\u001b[0m\u001b[1m(\u001b[0m\u001b[1;36m2024\u001b[0m, \u001b[1;36m6\u001b[0m, \u001b[1;36m6\u001b[0m, \u001b[1;36m2\u001b[0m, \u001b[1;36m56\u001b[0m, \u001b[1;36m26\u001b[0m, \u001b[1;36m500793\u001b[0m, \u001b[33mtzinfo\u001b[0m=\u001b[35mdatetime\u001b[0m.timezone.utc\u001b[1m)\u001b[0m,\n",
       "    \u001b[32m'data'\u001b[0m: \u001b[1m{\u001b[0m\u001b[32m'version'\u001b[0m: \u001b[1;36m1\u001b[0m\u001b[1m}\u001b[0m,\n",
       "    \u001b[32m'errors'\u001b[0m: \u001b[1m{\u001b[0m\u001b[32m'history'\u001b[0m: \u001b[1m[\u001b[0m\u001b[1m]\u001b[0m\u001b[1m}\u001b[0m,\n",
       "    \u001b[32m'lock'\u001b[0m: \u001b[32m'__not_locked__'\u001b[0m,\n",
       "    \u001b[32m'lock_time'\u001b[0m: \u001b[1;35mdatetime.datetime\u001b[0m\u001b[1m(\u001b[0m\u001b[1;36m2024\u001b[0m, \u001b[1;36m6\u001b[0m, \u001b[1;36m6\u001b[0m, \u001b[1;36m2\u001b[0m, \u001b[1;36m56\u001b[0m, \u001b[1;36m26\u001b[0m, \u001b[1;36m815756\u001b[0m, \u001b[33mtzinfo\u001b[0m=\u001b[35mdatetime\u001b[0m.timezone.utc\u001b[1m)\u001b[0m,\n",
       "    \u001b[32m'retry'\u001b[0m: \u001b[1;36m0\u001b[0m,\n",
       "    \u001b[32m'update_time'\u001b[0m: \u001b[1;35mdatetime.datetime\u001b[0m\u001b[1m(\u001b[0m\u001b[1;36m2024\u001b[0m, \u001b[1;36m6\u001b[0m, \u001b[1;36m6\u001b[0m, \u001b[1;36m2\u001b[0m, \u001b[1;36m56\u001b[0m, \u001b[1;36m26\u001b[0m, \u001b[1;36m846877\u001b[0m, \u001b[33mtzinfo\u001b[0m=\u001b[35mdatetime\u001b[0m.timezone.utc\u001b[1m)\u001b[0m,\n",
       "    \u001b[32m'key'\u001b[0m: \u001b[32m'test____t-1'\u001b[0m,\n",
       "    \u001b[32m'status'\u001b[0m: \u001b[1;36m16\u001b[0m,\n",
       "    \u001b[32m'value'\u001b[0m: \u001b[32m'test____016____001'\u001b[0m\n",
       "\u001b[1m}\u001b[0m\n"
      ]
     },
     "metadata": {},
     "output_type": "display_data"
    },
    {
     "name": "stdout",
     "output_type": "stream",
     "text": [
      "step2.status = 16\n",
      "step2.is_locked() = False\n"
     ]
    }
   ],
   "source": [
    "step2 = Step2.get_one_or_none(task_id=task_id)\n",
    "rprint(step2.to_dict())\n",
    "print(f\"{step2.status = }\")\n",
    "print(f\"{step2.is_locked() = }\")"
   ]
  },
  {
   "cell_type": "markdown",
   "metadata": {
    "collapsed": false,
    "jupyter": {
     "outputs_hidden": false
    }
   },
   "source": [
    "Now, let's start the execution. We would like to manually raise an exception to simulate a failure. In this example, the application code set the data to ``{\"version\": 2}`` and then raise a ``UserError``. Since the task is failed, the updates will not be saved to DynamoDB."
   ]
  },
  {
   "cell_type": "code",
   "execution_count": 12,
   "metadata": {
    "ExecuteTime": {
     "end_time": "2024-05-23T05:11:06.582657Z",
     "start_time": "2024-05-23T05:11:06.524500Z"
    },
    "collapsed": false,
    "jupyter": {
     "outputs_hidden": false
    }
   },
   "outputs": [
    {
     "name": "stdout",
     "output_type": "stream",
     "text": [
      "----------------------------------- ▶️ start Task(use_case_id='test', task_id='t-1'))-----------------------------------\n",
      "🔓 set status 'in_progress' and lock the task.\n",
      "❌ 🔐 task failed, set stats 'failed' and unlock the task.\n",
      "---------------------- ⏹️ end Task(use_case_id='test', task_id='t-1'), status=24)) (aka 'failed')-----------------------\n"
     ]
    },
    {
     "ename": "UserError",
     "evalue": "something is wrong!",
     "output_type": "error",
     "traceback": [
      "\u001b[0;31m---------------------------------------------------------------------------\u001b[0m",
      "\u001b[0;31mUserError\u001b[0m                                 Traceback (most recent call last)",
      "Cell \u001b[0;32mIn[12], line 6\u001b[0m\n\u001b[1;32m      4\u001b[0m \u001b[38;5;28;01mwith\u001b[39;00m Step2\u001b[38;5;241m.\u001b[39mstart(task_id, debug\u001b[38;5;241m=\u001b[39m\u001b[38;5;28;01mTrue\u001b[39;00m) \u001b[38;5;28;01mas\u001b[39;00m exec_ctx:\n\u001b[1;32m      5\u001b[0m     exec_ctx\u001b[38;5;241m.\u001b[39mset_data({\u001b[38;5;124m\"\u001b[39m\u001b[38;5;124mversion\u001b[39m\u001b[38;5;124m\"\u001b[39m: \u001b[38;5;241m2\u001b[39m})\n\u001b[0;32m----> 6\u001b[0m     \u001b[38;5;28;01mraise\u001b[39;00m UserError(\u001b[38;5;124m\"\u001b[39m\u001b[38;5;124msomething is wrong!\u001b[39m\u001b[38;5;124m\"\u001b[39m)\n",
      "\u001b[0;31mUserError\u001b[0m: something is wrong!"
     ]
    }
   ],
   "source": [
    "class UserError(Exception):\n",
    "    pass\n",
    "\n",
    "with Step2.start(task_id, debug=True) as exec_ctx:\n",
    "    exec_ctx.set_data({\"version\": 2})\n",
    "    raise UserError(\"something is wrong!\")"
   ]
  },
  {
   "cell_type": "code",
   "execution_count": null,
   "metadata": {
    "ExecuteTime": {
     "end_time": "2024-05-23T05:11:07.239607Z",
     "start_time": "2024-05-23T05:11:07.168708Z"
    },
    "collapsed": false,
    "jupyter": {
     "outputs_hidden": false
    }
   },
   "outputs": [],
   "source": [
    "step2 = Step2.get_one_or_none(task_id=task_id)\n",
    "rprint(step2.to_dict())\n",
    "print(f\"{step2.status_name = }\")\n",
    "print(f\"{step2.is_locked() = }\")"
   ]
  },
  {
   "cell_type": "markdown",
   "metadata": {
    "collapsed": false,
    "jupyter": {
     "outputs_hidden": false
    }
   },
   "source": [
    "If you really want to save the intermediate data to DynamoDB before the execution is done, you can use the ``exec_ctx.update()`` method."
   ]
  },
  {
   "cell_type": "code",
   "execution_count": 13,
   "metadata": {
    "ExecuteTime": {
     "end_time": "2024-05-23T05:11:07.315331Z",
     "start_time": "2024-05-23T05:11:07.233793Z"
    },
    "collapsed": false,
    "jupyter": {
     "outputs_hidden": false
    }
   },
   "outputs": [
    {
     "name": "stdout",
     "output_type": "stream",
     "text": [
      "----------------------------------- ▶️ start Task(use_case_id='test', task_id='t-1'))-----------------------------------\n",
      "🔓 set status 'in_progress' and lock the task.\n",
      "❌ 🔐 task failed, set stats 'failed' and unlock the task.\n",
      "-------------------- ⏹️ end Task(use_case_id='test', task_id='t-1'), status=22)) (aka 'in_progress')--------------------\n"
     ]
    },
    {
     "ename": "UserError",
     "evalue": "something is wrong!",
     "output_type": "error",
     "traceback": [
      "\u001b[0;31m---------------------------------------------------------------------------\u001b[0m",
      "\u001b[0;31mUserError\u001b[0m                                 Traceback (most recent call last)",
      "Cell \u001b[0;32mIn[13], line 4\u001b[0m\n\u001b[1;32m      2\u001b[0m exec_ctx\u001b[38;5;241m.\u001b[39mset_data({\u001b[38;5;124m\"\u001b[39m\u001b[38;5;124mversion\u001b[39m\u001b[38;5;124m\"\u001b[39m: \u001b[38;5;241m2\u001b[39m})\n\u001b[1;32m      3\u001b[0m exec_ctx\u001b[38;5;241m.\u001b[39mupdate()\n\u001b[0;32m----> 4\u001b[0m \u001b[38;5;28;01mraise\u001b[39;00m UserError(\u001b[38;5;124m\"\u001b[39m\u001b[38;5;124msomething is wrong!\u001b[39m\u001b[38;5;124m\"\u001b[39m)\n",
      "\u001b[0;31mUserError\u001b[0m: something is wrong!"
     ]
    }
   ],
   "source": [
    "with Step2.start(task_id, debug=True) as exec_ctx:\n",
    "    exec_ctx.set_data({\"version\": 2})\n",
    "    exec_ctx.update()\n",
    "    raise UserError(\"something is wrong!\")"
   ]
  },
  {
   "cell_type": "code",
   "execution_count": 14,
   "metadata": {
    "ExecuteTime": {
     "start_time": "2024-05-23T05:11:07.296935Z"
    },
    "collapsed": false,
    "jupyter": {
     "outputs_hidden": false
    }
   },
   "outputs": [
    {
     "data": {
      "text/html": [
       "<pre style=\"white-space:pre;overflow-x:auto;line-height:normal;font-family:Menlo,'DejaVu Sans Mono',consolas,'Courier New',monospace\"><span style=\"font-weight: bold\">{</span>\n",
       "    <span style=\"color: #008000; text-decoration-color: #008000\">'create_time'</span>: <span style=\"color: #800080; text-decoration-color: #800080; font-weight: bold\">datetime.datetime</span><span style=\"font-weight: bold\">(</span><span style=\"color: #008080; text-decoration-color: #008080; font-weight: bold\">2024</span>, <span style=\"color: #008080; text-decoration-color: #008080; font-weight: bold\">6</span>, <span style=\"color: #008080; text-decoration-color: #008080; font-weight: bold\">6</span>, <span style=\"color: #008080; text-decoration-color: #008080; font-weight: bold\">2</span>, <span style=\"color: #008080; text-decoration-color: #008080; font-weight: bold\">56</span>, <span style=\"color: #008080; text-decoration-color: #008080; font-weight: bold\">26</span>, <span style=\"color: #008080; text-decoration-color: #008080; font-weight: bold\">500793</span>, <span style=\"color: #808000; text-decoration-color: #808000\">tzinfo</span>=<span style=\"color: #800080; text-decoration-color: #800080\">datetime</span>.timezone.utc<span style=\"font-weight: bold\">)</span>,\n",
       "    <span style=\"color: #008000; text-decoration-color: #008000\">'data'</span>: <span style=\"font-weight: bold\">{</span><span style=\"color: #008000; text-decoration-color: #008000\">'version'</span>: <span style=\"color: #008080; text-decoration-color: #008080; font-weight: bold\">2</span><span style=\"font-weight: bold\">}</span>,\n",
       "    <span style=\"color: #008000; text-decoration-color: #008000\">'errors'</span>: <span style=\"font-weight: bold\">{</span>\n",
       "        <span style=\"color: #008000; text-decoration-color: #008000\">'history'</span>: <span style=\"font-weight: bold\">[</span>\n",
       "            <span style=\"font-weight: bold\">{</span>\n",
       "                <span style=\"color: #008000; text-decoration-color: #008000\">'nth_retry'</span>: <span style=\"color: #008080; text-decoration-color: #008080; font-weight: bold\">1</span>,\n",
       "                <span style=\"color: #008000; text-decoration-color: #008000\">'update_time'</span>: <span style=\"color: #008000; text-decoration-color: #008000\">'2024-06-06T02:56:28.209902+00:00'</span>,\n",
       "                <span style=\"color: #008000; text-decoration-color: #008000\">'error'</span>: <span style=\"color: #008000; text-decoration-color: #008000\">\"UserError('something is wrong!')\"</span>,\n",
       "                <span style=\"color: #008000; text-decoration-color: #008000\">'traceback'</span>: <span style=\"color: #008000; text-decoration-color: #008000\">'Traceback (most recent call last):\\n  File </span>\n",
       "<span style=\"color: #008000; text-decoration-color: #008000\">\"/Users/sanhehu/Documents/GitHub/pynamodb_mate-project/pynamodb_mate/patterns/status_tracker/impl.py\", line 933, in</span>\n",
       "<span style=\"color: #008000; text-decoration-color: #008000\">start\\n    yield execution_context\\n  File </span>\n",
       "<span style=\"color: #008000; text-decoration-color: #008000\">\"/var/folders/bl/vkmgjdsx5115w2xcnp67_8y40000gn/T/ipykernel_65495/2198718045.py\", line 6, in &lt;module&gt;\\n    raise </span>\n",
       "<span style=\"color: #008000; text-decoration-color: #008000\">UserError(\"something is wrong!\")\\nUserError: something is wrong!\\n'</span>\n",
       "<span style=\"color: #000000; text-decoration-color: #000000\">            </span><span style=\"color: #000000; text-decoration-color: #000000; font-weight: bold\">}</span><span style=\"color: #000000; text-decoration-color: #000000\">,</span>\n",
       "<span style=\"color: #000000; text-decoration-color: #000000\">            </span><span style=\"color: #000000; text-decoration-color: #000000; font-weight: bold\">{</span>\n",
       "<span style=\"color: #000000; text-decoration-color: #000000\">                </span><span style=\"color: #008000; text-decoration-color: #008000\">'nth_retry'</span><span style=\"color: #000000; text-decoration-color: #000000\">: </span><span style=\"color: #008080; text-decoration-color: #008080; font-weight: bold\">2</span><span style=\"color: #000000; text-decoration-color: #000000\">,</span>\n",
       "<span style=\"color: #000000; text-decoration-color: #000000\">                </span><span style=\"color: #008000; text-decoration-color: #008000\">'update_time'</span><span style=\"color: #000000; text-decoration-color: #000000\">: </span><span style=\"color: #008000; text-decoration-color: #008000\">'2024-06-06T02:56:28.704259+00:00'</span><span style=\"color: #000000; text-decoration-color: #000000\">,</span>\n",
       "<span style=\"color: #000000; text-decoration-color: #000000\">                </span><span style=\"color: #008000; text-decoration-color: #008000\">'error'</span><span style=\"color: #000000; text-decoration-color: #000000\">: </span><span style=\"color: #008000; text-decoration-color: #008000\">\"UserError('something is wrong!')\"</span><span style=\"color: #000000; text-decoration-color: #000000\">,</span>\n",
       "<span style=\"color: #000000; text-decoration-color: #000000\">                </span><span style=\"color: #008000; text-decoration-color: #008000\">'traceback'</span><span style=\"color: #000000; text-decoration-color: #000000\">: </span><span style=\"color: #008000; text-decoration-color: #008000\">'Traceback (most recent call last):\\n  File </span>\n",
       "<span style=\"color: #008000; text-decoration-color: #008000\">\"/Users/sanhehu/Documents/GitHub/pynamodb_mate-project/pynamodb_mate/patterns/status_tracker/impl.py\", line 933, in</span>\n",
       "<span style=\"color: #008000; text-decoration-color: #008000\">start\\n    yield execution_context\\n  File </span>\n",
       "<span style=\"color: #008000; text-decoration-color: #008000\">\"/var/folders/bl/vkmgjdsx5115w2xcnp67_8y40000gn/T/ipykernel_65495/3230700222.py\", line 4, in &lt;module&gt;\\n    raise </span>\n",
       "<span style=\"color: #008000; text-decoration-color: #008000\">UserError(\"something is wrong!\")\\nUserError: something is wrong!\\n'</span>\n",
       "            <span style=\"font-weight: bold\">}</span>\n",
       "        <span style=\"font-weight: bold\">]</span>\n",
       "    <span style=\"font-weight: bold\">}</span>,\n",
       "    <span style=\"color: #008000; text-decoration-color: #008000\">'lock'</span>: <span style=\"color: #008000; text-decoration-color: #008000\">'__not_locked__'</span>,\n",
       "    <span style=\"color: #008000; text-decoration-color: #008000\">'lock_time'</span>: <span style=\"color: #800080; text-decoration-color: #800080; font-weight: bold\">datetime.datetime</span><span style=\"font-weight: bold\">(</span><span style=\"color: #008080; text-decoration-color: #008080; font-weight: bold\">2024</span>, <span style=\"color: #008080; text-decoration-color: #008080; font-weight: bold\">6</span>, <span style=\"color: #008080; text-decoration-color: #008080; font-weight: bold\">6</span>, <span style=\"color: #008080; text-decoration-color: #008080; font-weight: bold\">2</span>, <span style=\"color: #008080; text-decoration-color: #008080; font-weight: bold\">56</span>, <span style=\"color: #008080; text-decoration-color: #008080; font-weight: bold\">28</span>, <span style=\"color: #008080; text-decoration-color: #008080; font-weight: bold\">662581</span>, <span style=\"color: #808000; text-decoration-color: #808000\">tzinfo</span>=<span style=\"color: #800080; text-decoration-color: #800080\">datetime</span>.timezone.utc<span style=\"font-weight: bold\">)</span>,\n",
       "    <span style=\"color: #008000; text-decoration-color: #008000\">'retry'</span>: <span style=\"color: #008080; text-decoration-color: #008080; font-weight: bold\">2</span>,\n",
       "    <span style=\"color: #008000; text-decoration-color: #008000\">'update_time'</span>: <span style=\"color: #800080; text-decoration-color: #800080; font-weight: bold\">datetime.datetime</span><span style=\"font-weight: bold\">(</span><span style=\"color: #008080; text-decoration-color: #008080; font-weight: bold\">2024</span>, <span style=\"color: #008080; text-decoration-color: #008080; font-weight: bold\">6</span>, <span style=\"color: #008080; text-decoration-color: #008080; font-weight: bold\">6</span>, <span style=\"color: #008080; text-decoration-color: #008080; font-weight: bold\">2</span>, <span style=\"color: #008080; text-decoration-color: #008080; font-weight: bold\">56</span>, <span style=\"color: #008080; text-decoration-color: #008080; font-weight: bold\">28</span>, <span style=\"color: #008080; text-decoration-color: #008080; font-weight: bold\">704259</span>, <span style=\"color: #808000; text-decoration-color: #808000\">tzinfo</span>=<span style=\"color: #800080; text-decoration-color: #800080\">datetime</span>.timezone.utc<span style=\"font-weight: bold\">)</span>,\n",
       "    <span style=\"color: #008000; text-decoration-color: #008000\">'key'</span>: <span style=\"color: #008000; text-decoration-color: #008000\">'test____t-1'</span>,\n",
       "    <span style=\"color: #008000; text-decoration-color: #008000\">'status'</span>: <span style=\"color: #008080; text-decoration-color: #008080; font-weight: bold\">24</span>,\n",
       "    <span style=\"color: #008000; text-decoration-color: #008000\">'value'</span>: <span style=\"color: #008000; text-decoration-color: #008000\">'test____024____001'</span>\n",
       "<span style=\"font-weight: bold\">}</span>\n",
       "</pre>\n"
      ],
      "text/plain": [
       "\u001b[1m{\u001b[0m\n",
       "    \u001b[32m'create_time'\u001b[0m: \u001b[1;35mdatetime.datetime\u001b[0m\u001b[1m(\u001b[0m\u001b[1;36m2024\u001b[0m, \u001b[1;36m6\u001b[0m, \u001b[1;36m6\u001b[0m, \u001b[1;36m2\u001b[0m, \u001b[1;36m56\u001b[0m, \u001b[1;36m26\u001b[0m, \u001b[1;36m500793\u001b[0m, \u001b[33mtzinfo\u001b[0m=\u001b[35mdatetime\u001b[0m.timezone.utc\u001b[1m)\u001b[0m,\n",
       "    \u001b[32m'data'\u001b[0m: \u001b[1m{\u001b[0m\u001b[32m'version'\u001b[0m: \u001b[1;36m2\u001b[0m\u001b[1m}\u001b[0m,\n",
       "    \u001b[32m'errors'\u001b[0m: \u001b[1m{\u001b[0m\n",
       "        \u001b[32m'history'\u001b[0m: \u001b[1m[\u001b[0m\n",
       "            \u001b[1m{\u001b[0m\n",
       "                \u001b[32m'nth_retry'\u001b[0m: \u001b[1;36m1\u001b[0m,\n",
       "                \u001b[32m'update_time'\u001b[0m: \u001b[32m'2024-06-06T02:56:28.209902+00:00'\u001b[0m,\n",
       "                \u001b[32m'error'\u001b[0m: \u001b[32m\"UserError\u001b[0m\u001b[32m(\u001b[0m\u001b[32m'something is wrong!'\u001b[0m\u001b[32m)\u001b[0m\u001b[32m\"\u001b[0m,\n",
       "                \u001b[32m'traceback'\u001b[0m: \u001b[32m'Traceback \u001b[0m\u001b[32m(\u001b[0m\u001b[32mmost recent call last\u001b[0m\u001b[32m)\u001b[0m\u001b[32m:\\n  File \u001b[0m\n",
       "\u001b[32m\"/Users/sanhehu/Documents/GitHub/pynamodb_mate-project/pynamodb_mate/patterns/status_tracker/impl.py\", line 933, in\u001b[0m\n",
       "\u001b[32mstart\\n    yield execution_context\\n  File \u001b[0m\n",
       "\u001b[32m\"/var/folders/bl/vkmgjdsx5115w2xcnp67_8y40000gn/T/ipykernel_65495/2198718045.py\", line 6, in \u001b[0m\u001b[32m<\u001b[0m\u001b[32mmodule\u001b[0m\u001b[32m>\\n    raise \u001b[0m\n",
       "\u001b[32mUserError\u001b[0m\u001b[32m(\u001b[0m\u001b[32m\"something is wrong!\"\u001b[0m\u001b[32m)\u001b[0m\u001b[32m\\nUserError: something is wrong!\\n'\u001b[0m\n",
       "\u001b[39m            \u001b[0m\u001b[1;39m}\u001b[0m\u001b[39m,\u001b[0m\n",
       "\u001b[39m            \u001b[0m\u001b[1;39m{\u001b[0m\n",
       "\u001b[39m                \u001b[0m\u001b[32m'nth_retry'\u001b[0m\u001b[39m: \u001b[0m\u001b[1;36m2\u001b[0m\u001b[39m,\u001b[0m\n",
       "\u001b[39m                \u001b[0m\u001b[32m'update_time'\u001b[0m\u001b[39m: \u001b[0m\u001b[32m'2024-06-06T02:56:28.704259+00:00'\u001b[0m\u001b[39m,\u001b[0m\n",
       "\u001b[39m                \u001b[0m\u001b[32m'error'\u001b[0m\u001b[39m: \u001b[0m\u001b[32m\"UserError\u001b[0m\u001b[32m(\u001b[0m\u001b[32m'something is wrong!'\u001b[0m\u001b[32m)\u001b[0m\u001b[32m\"\u001b[0m\u001b[39m,\u001b[0m\n",
       "\u001b[39m                \u001b[0m\u001b[32m'traceback'\u001b[0m\u001b[39m: \u001b[0m\u001b[32m'Traceback \u001b[0m\u001b[32m(\u001b[0m\u001b[32mmost recent call last\u001b[0m\u001b[32m)\u001b[0m\u001b[32m:\\n  File \u001b[0m\n",
       "\u001b[32m\"/Users/sanhehu/Documents/GitHub/pynamodb_mate-project/pynamodb_mate/patterns/status_tracker/impl.py\", line 933, in\u001b[0m\n",
       "\u001b[32mstart\\n    yield execution_context\\n  File \u001b[0m\n",
       "\u001b[32m\"/var/folders/bl/vkmgjdsx5115w2xcnp67_8y40000gn/T/ipykernel_65495/3230700222.py\", line 4, in <module\u001b[0m\u001b[32m>\u001b[0m\u001b[32m\\n    raise \u001b[0m\n",
       "\u001b[32mUserError\u001b[0m\u001b[32m(\u001b[0m\u001b[32m\"something is wrong!\"\u001b[0m\u001b[32m)\u001b[0m\u001b[32m\\nUserError: something is wrong!\\n'\u001b[0m\n",
       "            \u001b[1m}\u001b[0m\n",
       "        \u001b[1m]\u001b[0m\n",
       "    \u001b[1m}\u001b[0m,\n",
       "    \u001b[32m'lock'\u001b[0m: \u001b[32m'__not_locked__'\u001b[0m,\n",
       "    \u001b[32m'lock_time'\u001b[0m: \u001b[1;35mdatetime.datetime\u001b[0m\u001b[1m(\u001b[0m\u001b[1;36m2024\u001b[0m, \u001b[1;36m6\u001b[0m, \u001b[1;36m6\u001b[0m, \u001b[1;36m2\u001b[0m, \u001b[1;36m56\u001b[0m, \u001b[1;36m28\u001b[0m, \u001b[1;36m662581\u001b[0m, \u001b[33mtzinfo\u001b[0m=\u001b[35mdatetime\u001b[0m.timezone.utc\u001b[1m)\u001b[0m,\n",
       "    \u001b[32m'retry'\u001b[0m: \u001b[1;36m2\u001b[0m,\n",
       "    \u001b[32m'update_time'\u001b[0m: \u001b[1;35mdatetime.datetime\u001b[0m\u001b[1m(\u001b[0m\u001b[1;36m2024\u001b[0m, \u001b[1;36m6\u001b[0m, \u001b[1;36m6\u001b[0m, \u001b[1;36m2\u001b[0m, \u001b[1;36m56\u001b[0m, \u001b[1;36m28\u001b[0m, \u001b[1;36m704259\u001b[0m, \u001b[33mtzinfo\u001b[0m=\u001b[35mdatetime\u001b[0m.timezone.utc\u001b[1m)\u001b[0m,\n",
       "    \u001b[32m'key'\u001b[0m: \u001b[32m'test____t-1'\u001b[0m,\n",
       "    \u001b[32m'status'\u001b[0m: \u001b[1;36m24\u001b[0m,\n",
       "    \u001b[32m'value'\u001b[0m: \u001b[32m'test____024____001'\u001b[0m\n",
       "\u001b[1m}\u001b[0m\n"
      ]
     },
     "metadata": {},
     "output_type": "display_data"
    },
    {
     "name": "stdout",
     "output_type": "stream",
     "text": [
      "step2.status_name = 'failed'\n",
      "step2.is_locked() = False\n"
     ]
    }
   ],
   "source": [
    "step2 = Step2.get_one_or_none(task_id=task_id)\n",
    "rprint(step2.to_dict())\n",
    "print(f\"{step2.status_name = }\")\n",
    "print(f\"{step2.is_locked() = }\")"
   ]
  },
  {
   "cell_type": "markdown",
   "metadata": {
    "collapsed": false,
    "jupyter": {
     "outputs_hidden": false
    }
   },
   "source": [
    "## Run Step 2 Again\n",
    "\n",
    "This time we let the task succeed."
   ]
  },
  {
   "cell_type": "code",
   "execution_count": 15,
   "metadata": {
    "ExecuteTime": {
     "end_time": "2024-05-23T05:11:08.640088Z",
     "start_time": "2024-05-23T05:11:08.631991Z"
    },
    "collapsed": false,
    "jupyter": {
     "outputs_hidden": false
    }
   },
   "outputs": [
    {
     "name": "stdout",
     "output_type": "stream",
     "text": [
      "----------------------------------- ▶️ start Task(use_case_id='test', task_id='t-1'))-----------------------------------\n",
      "🔓 set status 'in_progress' and lock the task.\n",
      "✅ 🔐 task succeeded, set status 'success' and unlock the task.\n",
      "--------------------- ⏹️ end Task(use_case_id='test', task_id='t-1'), status=26)) (aka 'succeeded')---------------------\n"
     ]
    }
   ],
   "source": [
    "with Step2.start(task_id, debug=True) as exec_ctx:\n",
    "    exec_ctx.set_data({\"version\": 3})"
   ]
  },
  {
   "cell_type": "markdown",
   "metadata": {
    "collapsed": false,
    "jupyter": {
     "outputs_hidden": false
    }
   },
   "source": [
    "We know that the ``ExecutionContext.task`` is the representation of the DynamoDB item. It will be updated automatically when the context manage exits. You don't have to get the latest data from DynamoDB manually."
   ]
  },
  {
   "cell_type": "code",
   "execution_count": 16,
   "metadata": {
    "ExecuteTime": {
     "end_time": "2024-05-23T05:11:14.937381Z",
     "start_time": "2024-05-23T05:11:14.924467Z"
    },
    "collapsed": false,
    "jupyter": {
     "outputs_hidden": false
    }
   },
   "outputs": [
    {
     "data": {
      "text/html": [
       "<pre style=\"white-space:pre;overflow-x:auto;line-height:normal;font-family:Menlo,'DejaVu Sans Mono',consolas,'Courier New',monospace\"><span style=\"font-weight: bold\">{</span>\n",
       "    <span style=\"color: #008000; text-decoration-color: #008000\">'create_time'</span>: <span style=\"color: #800080; text-decoration-color: #800080; font-weight: bold\">datetime.datetime</span><span style=\"font-weight: bold\">(</span><span style=\"color: #008080; text-decoration-color: #008080; font-weight: bold\">2024</span>, <span style=\"color: #008080; text-decoration-color: #008080; font-weight: bold\">6</span>, <span style=\"color: #008080; text-decoration-color: #008080; font-weight: bold\">6</span>, <span style=\"color: #008080; text-decoration-color: #008080; font-weight: bold\">2</span>, <span style=\"color: #008080; text-decoration-color: #008080; font-weight: bold\">56</span>, <span style=\"color: #008080; text-decoration-color: #008080; font-weight: bold\">26</span>, <span style=\"color: #008080; text-decoration-color: #008080; font-weight: bold\">500793</span>, <span style=\"color: #808000; text-decoration-color: #808000\">tzinfo</span>=<span style=\"color: #800080; text-decoration-color: #800080\">datetime</span>.timezone.utc<span style=\"font-weight: bold\">)</span>,\n",
       "    <span style=\"color: #008000; text-decoration-color: #008000\">'data'</span>: <span style=\"font-weight: bold\">{</span><span style=\"color: #008000; text-decoration-color: #008000\">'version'</span>: <span style=\"color: #008080; text-decoration-color: #008080; font-weight: bold\">3</span><span style=\"font-weight: bold\">}</span>,\n",
       "    <span style=\"color: #008000; text-decoration-color: #008000\">'errors'</span>: <span style=\"font-weight: bold\">{</span>\n",
       "        <span style=\"color: #008000; text-decoration-color: #008000\">'history'</span>: <span style=\"font-weight: bold\">[</span>\n",
       "            <span style=\"font-weight: bold\">{</span>\n",
       "                <span style=\"color: #008000; text-decoration-color: #008000\">'nth_retry'</span>: <span style=\"color: #008080; text-decoration-color: #008080; font-weight: bold\">1</span>,\n",
       "                <span style=\"color: #008000; text-decoration-color: #008000\">'update_time'</span>: <span style=\"color: #008000; text-decoration-color: #008000\">'2024-06-06T02:56:28.209902+00:00'</span>,\n",
       "                <span style=\"color: #008000; text-decoration-color: #008000\">'error'</span>: <span style=\"color: #008000; text-decoration-color: #008000\">\"UserError('something is wrong!')\"</span>,\n",
       "                <span style=\"color: #008000; text-decoration-color: #008000\">'traceback'</span>: <span style=\"color: #008000; text-decoration-color: #008000\">'Traceback (most recent call last):\\n  File </span>\n",
       "<span style=\"color: #008000; text-decoration-color: #008000\">\"/Users/sanhehu/Documents/GitHub/pynamodb_mate-project/pynamodb_mate/patterns/status_tracker/impl.py\", line 933, in</span>\n",
       "<span style=\"color: #008000; text-decoration-color: #008000\">start\\n    yield execution_context\\n  File </span>\n",
       "<span style=\"color: #008000; text-decoration-color: #008000\">\"/var/folders/bl/vkmgjdsx5115w2xcnp67_8y40000gn/T/ipykernel_65495/2198718045.py\", line 6, in &lt;module&gt;\\n    raise </span>\n",
       "<span style=\"color: #008000; text-decoration-color: #008000\">UserError(\"something is wrong!\")\\nUserError: something is wrong!\\n'</span>\n",
       "<span style=\"color: #000000; text-decoration-color: #000000\">            </span><span style=\"color: #000000; text-decoration-color: #000000; font-weight: bold\">}</span><span style=\"color: #000000; text-decoration-color: #000000\">,</span>\n",
       "<span style=\"color: #000000; text-decoration-color: #000000\">            </span><span style=\"color: #000000; text-decoration-color: #000000; font-weight: bold\">{</span>\n",
       "<span style=\"color: #000000; text-decoration-color: #000000\">                </span><span style=\"color: #008000; text-decoration-color: #008000\">'nth_retry'</span><span style=\"color: #000000; text-decoration-color: #000000\">: </span><span style=\"color: #008080; text-decoration-color: #008080; font-weight: bold\">2</span><span style=\"color: #000000; text-decoration-color: #000000\">,</span>\n",
       "<span style=\"color: #000000; text-decoration-color: #000000\">                </span><span style=\"color: #008000; text-decoration-color: #008000\">'update_time'</span><span style=\"color: #000000; text-decoration-color: #000000\">: </span><span style=\"color: #008000; text-decoration-color: #008000\">'2024-06-06T02:56:28.704259+00:00'</span><span style=\"color: #000000; text-decoration-color: #000000\">,</span>\n",
       "<span style=\"color: #000000; text-decoration-color: #000000\">                </span><span style=\"color: #008000; text-decoration-color: #008000\">'error'</span><span style=\"color: #000000; text-decoration-color: #000000\">: </span><span style=\"color: #008000; text-decoration-color: #008000\">\"UserError('something is wrong!')\"</span><span style=\"color: #000000; text-decoration-color: #000000\">,</span>\n",
       "<span style=\"color: #000000; text-decoration-color: #000000\">                </span><span style=\"color: #008000; text-decoration-color: #008000\">'traceback'</span><span style=\"color: #000000; text-decoration-color: #000000\">: </span><span style=\"color: #008000; text-decoration-color: #008000\">'Traceback (most recent call last):\\n  File </span>\n",
       "<span style=\"color: #008000; text-decoration-color: #008000\">\"/Users/sanhehu/Documents/GitHub/pynamodb_mate-project/pynamodb_mate/patterns/status_tracker/impl.py\", line 933, in</span>\n",
       "<span style=\"color: #008000; text-decoration-color: #008000\">start\\n    yield execution_context\\n  File </span>\n",
       "<span style=\"color: #008000; text-decoration-color: #008000\">\"/var/folders/bl/vkmgjdsx5115w2xcnp67_8y40000gn/T/ipykernel_65495/3230700222.py\", line 4, in &lt;module&gt;\\n    raise </span>\n",
       "<span style=\"color: #008000; text-decoration-color: #008000\">UserError(\"something is wrong!\")\\nUserError: something is wrong!\\n'</span>\n",
       "            <span style=\"font-weight: bold\">}</span>\n",
       "        <span style=\"font-weight: bold\">]</span>\n",
       "    <span style=\"font-weight: bold\">}</span>,\n",
       "    <span style=\"color: #008000; text-decoration-color: #008000\">'lock'</span>: <span style=\"color: #008000; text-decoration-color: #008000\">'__not_locked__'</span>,\n",
       "    <span style=\"color: #008000; text-decoration-color: #008000\">'lock_time'</span>: <span style=\"color: #800080; text-decoration-color: #800080; font-weight: bold\">datetime.datetime</span><span style=\"font-weight: bold\">(</span><span style=\"color: #008080; text-decoration-color: #008080; font-weight: bold\">2024</span>, <span style=\"color: #008080; text-decoration-color: #008080; font-weight: bold\">6</span>, <span style=\"color: #008080; text-decoration-color: #008080; font-weight: bold\">6</span>, <span style=\"color: #008080; text-decoration-color: #008080; font-weight: bold\">2</span>, <span style=\"color: #008080; text-decoration-color: #008080; font-weight: bold\">56</span>, <span style=\"color: #008080; text-decoration-color: #008080; font-weight: bold\">29</span>, <span style=\"color: #008080; text-decoration-color: #008080; font-weight: bold\">153527</span>, <span style=\"color: #808000; text-decoration-color: #808000\">tzinfo</span>=<span style=\"color: #800080; text-decoration-color: #800080\">datetime</span>.timezone.utc<span style=\"font-weight: bold\">)</span>,\n",
       "    <span style=\"color: #008000; text-decoration-color: #008000\">'retry'</span>: <span style=\"color: #008080; text-decoration-color: #008080; font-weight: bold\">0</span>,\n",
       "    <span style=\"color: #008000; text-decoration-color: #008000\">'update_time'</span>: <span style=\"color: #800080; text-decoration-color: #800080; font-weight: bold\">datetime.datetime</span><span style=\"font-weight: bold\">(</span><span style=\"color: #008080; text-decoration-color: #008080; font-weight: bold\">2024</span>, <span style=\"color: #008080; text-decoration-color: #008080; font-weight: bold\">6</span>, <span style=\"color: #008080; text-decoration-color: #008080; font-weight: bold\">6</span>, <span style=\"color: #008080; text-decoration-color: #008080; font-weight: bold\">2</span>, <span style=\"color: #008080; text-decoration-color: #008080; font-weight: bold\">56</span>, <span style=\"color: #008080; text-decoration-color: #008080; font-weight: bold\">29</span>, <span style=\"color: #008080; text-decoration-color: #008080; font-weight: bold\">176497</span>, <span style=\"color: #808000; text-decoration-color: #808000\">tzinfo</span>=<span style=\"color: #800080; text-decoration-color: #800080\">datetime</span>.timezone.utc<span style=\"font-weight: bold\">)</span>,\n",
       "    <span style=\"color: #008000; text-decoration-color: #008000\">'key'</span>: <span style=\"color: #008000; text-decoration-color: #008000\">'test____t-1'</span>,\n",
       "    <span style=\"color: #008000; text-decoration-color: #008000\">'status'</span>: <span style=\"color: #008080; text-decoration-color: #008080; font-weight: bold\">26</span>,\n",
       "    <span style=\"color: #008000; text-decoration-color: #008000\">'value'</span>: <span style=\"color: #008000; text-decoration-color: #008000\">'test____026____001'</span>\n",
       "<span style=\"font-weight: bold\">}</span>\n",
       "</pre>\n"
      ],
      "text/plain": [
       "\u001b[1m{\u001b[0m\n",
       "    \u001b[32m'create_time'\u001b[0m: \u001b[1;35mdatetime.datetime\u001b[0m\u001b[1m(\u001b[0m\u001b[1;36m2024\u001b[0m, \u001b[1;36m6\u001b[0m, \u001b[1;36m6\u001b[0m, \u001b[1;36m2\u001b[0m, \u001b[1;36m56\u001b[0m, \u001b[1;36m26\u001b[0m, \u001b[1;36m500793\u001b[0m, \u001b[33mtzinfo\u001b[0m=\u001b[35mdatetime\u001b[0m.timezone.utc\u001b[1m)\u001b[0m,\n",
       "    \u001b[32m'data'\u001b[0m: \u001b[1m{\u001b[0m\u001b[32m'version'\u001b[0m: \u001b[1;36m3\u001b[0m\u001b[1m}\u001b[0m,\n",
       "    \u001b[32m'errors'\u001b[0m: \u001b[1m{\u001b[0m\n",
       "        \u001b[32m'history'\u001b[0m: \u001b[1m[\u001b[0m\n",
       "            \u001b[1m{\u001b[0m\n",
       "                \u001b[32m'nth_retry'\u001b[0m: \u001b[1;36m1\u001b[0m,\n",
       "                \u001b[32m'update_time'\u001b[0m: \u001b[32m'2024-06-06T02:56:28.209902+00:00'\u001b[0m,\n",
       "                \u001b[32m'error'\u001b[0m: \u001b[32m\"UserError\u001b[0m\u001b[32m(\u001b[0m\u001b[32m'something is wrong!'\u001b[0m\u001b[32m)\u001b[0m\u001b[32m\"\u001b[0m,\n",
       "                \u001b[32m'traceback'\u001b[0m: \u001b[32m'Traceback \u001b[0m\u001b[32m(\u001b[0m\u001b[32mmost recent call last\u001b[0m\u001b[32m)\u001b[0m\u001b[32m:\\n  File \u001b[0m\n",
       "\u001b[32m\"/Users/sanhehu/Documents/GitHub/pynamodb_mate-project/pynamodb_mate/patterns/status_tracker/impl.py\", line 933, in\u001b[0m\n",
       "\u001b[32mstart\\n    yield execution_context\\n  File \u001b[0m\n",
       "\u001b[32m\"/var/folders/bl/vkmgjdsx5115w2xcnp67_8y40000gn/T/ipykernel_65495/2198718045.py\", line 6, in \u001b[0m\u001b[32m<\u001b[0m\u001b[32mmodule\u001b[0m\u001b[32m>\\n    raise \u001b[0m\n",
       "\u001b[32mUserError\u001b[0m\u001b[32m(\u001b[0m\u001b[32m\"something is wrong!\"\u001b[0m\u001b[32m)\u001b[0m\u001b[32m\\nUserError: something is wrong!\\n'\u001b[0m\n",
       "\u001b[39m            \u001b[0m\u001b[1;39m}\u001b[0m\u001b[39m,\u001b[0m\n",
       "\u001b[39m            \u001b[0m\u001b[1;39m{\u001b[0m\n",
       "\u001b[39m                \u001b[0m\u001b[32m'nth_retry'\u001b[0m\u001b[39m: \u001b[0m\u001b[1;36m2\u001b[0m\u001b[39m,\u001b[0m\n",
       "\u001b[39m                \u001b[0m\u001b[32m'update_time'\u001b[0m\u001b[39m: \u001b[0m\u001b[32m'2024-06-06T02:56:28.704259+00:00'\u001b[0m\u001b[39m,\u001b[0m\n",
       "\u001b[39m                \u001b[0m\u001b[32m'error'\u001b[0m\u001b[39m: \u001b[0m\u001b[32m\"UserError\u001b[0m\u001b[32m(\u001b[0m\u001b[32m'something is wrong!'\u001b[0m\u001b[32m)\u001b[0m\u001b[32m\"\u001b[0m\u001b[39m,\u001b[0m\n",
       "\u001b[39m                \u001b[0m\u001b[32m'traceback'\u001b[0m\u001b[39m: \u001b[0m\u001b[32m'Traceback \u001b[0m\u001b[32m(\u001b[0m\u001b[32mmost recent call last\u001b[0m\u001b[32m)\u001b[0m\u001b[32m:\\n  File \u001b[0m\n",
       "\u001b[32m\"/Users/sanhehu/Documents/GitHub/pynamodb_mate-project/pynamodb_mate/patterns/status_tracker/impl.py\", line 933, in\u001b[0m\n",
       "\u001b[32mstart\\n    yield execution_context\\n  File \u001b[0m\n",
       "\u001b[32m\"/var/folders/bl/vkmgjdsx5115w2xcnp67_8y40000gn/T/ipykernel_65495/3230700222.py\", line 4, in <module\u001b[0m\u001b[32m>\u001b[0m\u001b[32m\\n    raise \u001b[0m\n",
       "\u001b[32mUserError\u001b[0m\u001b[32m(\u001b[0m\u001b[32m\"something is wrong!\"\u001b[0m\u001b[32m)\u001b[0m\u001b[32m\\nUserError: something is wrong!\\n'\u001b[0m\n",
       "            \u001b[1m}\u001b[0m\n",
       "        \u001b[1m]\u001b[0m\n",
       "    \u001b[1m}\u001b[0m,\n",
       "    \u001b[32m'lock'\u001b[0m: \u001b[32m'__not_locked__'\u001b[0m,\n",
       "    \u001b[32m'lock_time'\u001b[0m: \u001b[1;35mdatetime.datetime\u001b[0m\u001b[1m(\u001b[0m\u001b[1;36m2024\u001b[0m, \u001b[1;36m6\u001b[0m, \u001b[1;36m6\u001b[0m, \u001b[1;36m2\u001b[0m, \u001b[1;36m56\u001b[0m, \u001b[1;36m29\u001b[0m, \u001b[1;36m153527\u001b[0m, \u001b[33mtzinfo\u001b[0m=\u001b[35mdatetime\u001b[0m.timezone.utc\u001b[1m)\u001b[0m,\n",
       "    \u001b[32m'retry'\u001b[0m: \u001b[1;36m0\u001b[0m,\n",
       "    \u001b[32m'update_time'\u001b[0m: \u001b[1;35mdatetime.datetime\u001b[0m\u001b[1m(\u001b[0m\u001b[1;36m2024\u001b[0m, \u001b[1;36m6\u001b[0m, \u001b[1;36m6\u001b[0m, \u001b[1;36m2\u001b[0m, \u001b[1;36m56\u001b[0m, \u001b[1;36m29\u001b[0m, \u001b[1;36m176497\u001b[0m, \u001b[33mtzinfo\u001b[0m=\u001b[35mdatetime\u001b[0m.timezone.utc\u001b[1m)\u001b[0m,\n",
       "    \u001b[32m'key'\u001b[0m: \u001b[32m'test____t-1'\u001b[0m,\n",
       "    \u001b[32m'status'\u001b[0m: \u001b[1;36m26\u001b[0m,\n",
       "    \u001b[32m'value'\u001b[0m: \u001b[32m'test____026____001'\u001b[0m\n",
       "\u001b[1m}\u001b[0m\n"
      ]
     },
     "metadata": {},
     "output_type": "display_data"
    },
    {
     "name": "stdout",
     "output_type": "stream",
     "text": [
      "step2.status_name = 'succeeded'\n",
      "step2.is_locked() = False\n",
      "step2.data = {'version': 3}\n"
     ]
    }
   ],
   "source": [
    "step2 = exec_ctx.task\n",
    "# this is the same as the above\n",
    "# step2 = Step2.get_one_or_none(task_id=task_id)\n",
    "\n",
    "rprint(step2.to_dict())\n",
    "print(f\"{step2.status_name = }\")\n",
    "print(f\"{step2.is_locked() = }\")\n",
    "print(f\"{step2.data = }\") # should be v3"
   ]
  },
  {
   "cell_type": "markdown",
   "metadata": {
    "collapsed": false,
    "jupyter": {
     "outputs_hidden": false
    }
   },
   "source": [
    "## Concurrency Lock Mechanism\n",
    "\n",
    "To ensure that one task can be processed by one worker at a time, we need to use a concurrency lock. Essentially, a worker tries to acquire a lock when it is about to start an execution. If it fails to obtain the lock, it immediately raises a ``TaskIsLockedError``. Acquiring a lock is actually an update operation that sets a unique UUID as an attribute of the DynamoDB item. The worker who successfully acquires the lock must release it (unset the lock value) at the end of the execution. This is automatically handled by the ``start()`` context manager. If the worker fails to release the lock for any reason (e.g., power outage), the lock will automatically expire after a specified time. The expiration time is defined in the ``TrackerConfig``.\n"
   ]
  },
  {
   "cell_type": "code",
   "execution_count": 17,
   "metadata": {
    "ExecuteTime": {
     "end_time": "2024-05-23T05:26:40.933277Z",
     "start_time": "2024-05-23T05:26:40.789203Z"
    },
    "collapsed": false,
    "jupyter": {
     "outputs_hidden": false
    }
   },
   "outputs": [
    {
     "name": "stdout",
     "output_type": "stream",
     "text": [
      "worker 1 is trying to start the execution\n",
      "----------------------------------- ▶️ start Task(use_case_id='test', task_id='t-2'))-----------------------------------\n",
      "🔓 set status 'in_progress' and lock the task.\n",
      "worker 2 is trying to start the execution\n",
      "----------------------------------- ▶️ start Task(use_case_id='test', task_id='t-2'))-----------------------------------\n",
      "🔓 set status 'in_progress' and lock the task.\n",
      "❌ task failed to get lock, because it is already locked by another worker.\n",
      "------------------------------------ ⏹️ end Task(use_case_id='test', task_id='t-2'))------------------------------------\n"
     ]
    },
    {
     "data": {
      "text/html": [
       "<pre style=\"white-space:pre;overflow-x:auto;line-height:normal;font-family:Menlo,'DejaVu Sans Mono',consolas,'Courier New',monospace\"><span style=\"font-weight: bold\">{</span>\n",
       "    <span style=\"color: #008000; text-decoration-color: #008000\">'create_time'</span>: <span style=\"color: #800080; text-decoration-color: #800080; font-weight: bold\">datetime.datetime</span><span style=\"font-weight: bold\">(</span><span style=\"color: #008080; text-decoration-color: #008080; font-weight: bold\">2024</span>, <span style=\"color: #008080; text-decoration-color: #008080; font-weight: bold\">6</span>, <span style=\"color: #008080; text-decoration-color: #008080; font-weight: bold\">6</span>, <span style=\"color: #008080; text-decoration-color: #008080; font-weight: bold\">2</span>, <span style=\"color: #008080; text-decoration-color: #008080; font-weight: bold\">56</span>, <span style=\"color: #008080; text-decoration-color: #008080; font-weight: bold\">30</span>, <span style=\"color: #008080; text-decoration-color: #008080; font-weight: bold\">192736</span>, <span style=\"color: #808000; text-decoration-color: #808000\">tzinfo</span>=<span style=\"color: #800080; text-decoration-color: #800080\">datetime</span>.timezone.utc<span style=\"font-weight: bold\">)</span>,\n",
       "    <span style=\"color: #008000; text-decoration-color: #008000\">'data'</span>: <span style=\"font-weight: bold\">{</span><span style=\"color: #008000; text-decoration-color: #008000\">'version'</span>: <span style=\"color: #008080; text-decoration-color: #008080; font-weight: bold\">0</span><span style=\"font-weight: bold\">}</span>,\n",
       "    <span style=\"color: #008000; text-decoration-color: #008000\">'errors'</span>: <span style=\"font-weight: bold\">{</span><span style=\"color: #008000; text-decoration-color: #008000\">'history'</span>: <span style=\"font-weight: bold\">[]}</span>,\n",
       "    <span style=\"color: #008000; text-decoration-color: #008000\">'lock'</span>: <span style=\"color: #008000; text-decoration-color: #008000\">'77f7d8eee0f840efaffec36d93f69bc3'</span>,\n",
       "    <span style=\"color: #008000; text-decoration-color: #008000\">'lock_time'</span>: <span style=\"color: #800080; text-decoration-color: #800080; font-weight: bold\">datetime.datetime</span><span style=\"font-weight: bold\">(</span><span style=\"color: #008080; text-decoration-color: #008080; font-weight: bold\">2024</span>, <span style=\"color: #008080; text-decoration-color: #008080; font-weight: bold\">6</span>, <span style=\"color: #008080; text-decoration-color: #008080; font-weight: bold\">6</span>, <span style=\"color: #008080; text-decoration-color: #008080; font-weight: bold\">2</span>, <span style=\"color: #008080; text-decoration-color: #008080; font-weight: bold\">56</span>, <span style=\"color: #008080; text-decoration-color: #008080; font-weight: bold\">30</span>, <span style=\"color: #008080; text-decoration-color: #008080; font-weight: bold\">220585</span>, <span style=\"color: #808000; text-decoration-color: #808000\">tzinfo</span>=<span style=\"color: #800080; text-decoration-color: #800080\">datetime</span>.timezone.utc<span style=\"font-weight: bold\">)</span>,\n",
       "    <span style=\"color: #008000; text-decoration-color: #008000\">'retry'</span>: <span style=\"color: #008080; text-decoration-color: #008080; font-weight: bold\">0</span>,\n",
       "    <span style=\"color: #008000; text-decoration-color: #008000\">'update_time'</span>: <span style=\"color: #800080; text-decoration-color: #800080; font-weight: bold\">datetime.datetime</span><span style=\"font-weight: bold\">(</span><span style=\"color: #008080; text-decoration-color: #008080; font-weight: bold\">2024</span>, <span style=\"color: #008080; text-decoration-color: #008080; font-weight: bold\">6</span>, <span style=\"color: #008080; text-decoration-color: #008080; font-weight: bold\">6</span>, <span style=\"color: #008080; text-decoration-color: #008080; font-weight: bold\">2</span>, <span style=\"color: #008080; text-decoration-color: #008080; font-weight: bold\">56</span>, <span style=\"color: #008080; text-decoration-color: #008080; font-weight: bold\">30</span>, <span style=\"color: #008080; text-decoration-color: #008080; font-weight: bold\">192783</span>, <span style=\"color: #808000; text-decoration-color: #808000\">tzinfo</span>=<span style=\"color: #800080; text-decoration-color: #800080\">datetime</span>.timezone.utc<span style=\"font-weight: bold\">)</span>,\n",
       "    <span style=\"color: #008000; text-decoration-color: #008000\">'key'</span>: <span style=\"color: #008000; text-decoration-color: #008000\">'test____t-2'</span>,\n",
       "    <span style=\"color: #008000; text-decoration-color: #008000\">'status'</span>: <span style=\"color: #008080; text-decoration-color: #008080; font-weight: bold\">12</span>,\n",
       "    <span style=\"color: #008000; text-decoration-color: #008000\">'value'</span>: <span style=\"color: #008000; text-decoration-color: #008000\">'test____012____005'</span>\n",
       "<span style=\"font-weight: bold\">}</span>\n",
       "</pre>\n"
      ],
      "text/plain": [
       "\u001b[1m{\u001b[0m\n",
       "    \u001b[32m'create_time'\u001b[0m: \u001b[1;35mdatetime.datetime\u001b[0m\u001b[1m(\u001b[0m\u001b[1;36m2024\u001b[0m, \u001b[1;36m6\u001b[0m, \u001b[1;36m6\u001b[0m, \u001b[1;36m2\u001b[0m, \u001b[1;36m56\u001b[0m, \u001b[1;36m30\u001b[0m, \u001b[1;36m192736\u001b[0m, \u001b[33mtzinfo\u001b[0m=\u001b[35mdatetime\u001b[0m.timezone.utc\u001b[1m)\u001b[0m,\n",
       "    \u001b[32m'data'\u001b[0m: \u001b[1m{\u001b[0m\u001b[32m'version'\u001b[0m: \u001b[1;36m0\u001b[0m\u001b[1m}\u001b[0m,\n",
       "    \u001b[32m'errors'\u001b[0m: \u001b[1m{\u001b[0m\u001b[32m'history'\u001b[0m: \u001b[1m[\u001b[0m\u001b[1m]\u001b[0m\u001b[1m}\u001b[0m,\n",
       "    \u001b[32m'lock'\u001b[0m: \u001b[32m'77f7d8eee0f840efaffec36d93f69bc3'\u001b[0m,\n",
       "    \u001b[32m'lock_time'\u001b[0m: \u001b[1;35mdatetime.datetime\u001b[0m\u001b[1m(\u001b[0m\u001b[1;36m2024\u001b[0m, \u001b[1;36m6\u001b[0m, \u001b[1;36m6\u001b[0m, \u001b[1;36m2\u001b[0m, \u001b[1;36m56\u001b[0m, \u001b[1;36m30\u001b[0m, \u001b[1;36m220585\u001b[0m, \u001b[33mtzinfo\u001b[0m=\u001b[35mdatetime\u001b[0m.timezone.utc\u001b[1m)\u001b[0m,\n",
       "    \u001b[32m'retry'\u001b[0m: \u001b[1;36m0\u001b[0m,\n",
       "    \u001b[32m'update_time'\u001b[0m: \u001b[1;35mdatetime.datetime\u001b[0m\u001b[1m(\u001b[0m\u001b[1;36m2024\u001b[0m, \u001b[1;36m6\u001b[0m, \u001b[1;36m6\u001b[0m, \u001b[1;36m2\u001b[0m, \u001b[1;36m56\u001b[0m, \u001b[1;36m30\u001b[0m, \u001b[1;36m192783\u001b[0m, \u001b[33mtzinfo\u001b[0m=\u001b[35mdatetime\u001b[0m.timezone.utc\u001b[1m)\u001b[0m,\n",
       "    \u001b[32m'key'\u001b[0m: \u001b[32m'test____t-2'\u001b[0m,\n",
       "    \u001b[32m'status'\u001b[0m: \u001b[1;36m12\u001b[0m,\n",
       "    \u001b[32m'value'\u001b[0m: \u001b[32m'test____012____005'\u001b[0m\n",
       "\u001b[1m}\u001b[0m\n"
      ]
     },
     "metadata": {},
     "output_type": "display_data"
    },
    {
     "name": "stdout",
     "output_type": "stream",
     "text": [
      "step1.status_name = 'in_progress'\n",
      "step1.is_locked() = True\n",
      "✅ 🔐 task succeeded, set status 'success' and unlock the task.\n",
      "--------------------- ⏹️ end Task(use_case_id='test', task_id='t-2'), status=16)) (aka 'succeeded')---------------------\n"
     ]
    }
   ],
   "source": [
    "task_id = \"t-2\"\n",
    "\n",
    "# create a new task\n",
    "step1 = Step1.make_and_save(task_id=task_id, data={\"version\": 0})\n",
    "\n",
    "print(\"worker 1 is trying to start the execution\")\n",
    "with Step1.start(task_id, debug=True) as exec_ctx:\n",
    "    # another worker is trying to start the same task\n",
    "    print(\"worker 2 is trying to start the execution\")\n",
    "    try:\n",
    "        with Step1.start(\n",
    "            task_id,\n",
    "            detailed_error=True,\n",
    "            debug=True,\n",
    "        ) as exec_ctx_1:\n",
    "            pass\n",
    "    # gracefully just leave when it's locked\n",
    "    except st.TaskLockedError:\n",
    "        pass\n",
    "    # the task is processed by worker 1 at this moment\n",
    "    # let's exam the status of the task\n",
    "    step1 = Step1.get_one_or_none(task_id=task_id)\n",
    "    rprint(step1.to_dict())\n",
    "    print(f\"{step1.status_name = }\")\n",
    "    print(f\"{step1.is_locked() = }\")"
   ]
  },
  {
   "cell_type": "markdown",
   "metadata": {
    "collapsed": false,
    "jupyter": {
     "outputs_hidden": false
    }
   },
   "source": [
    "Now the worker 1 should finished the step 1 exeuction and released the lock."
   ]
  },
  {
   "cell_type": "code",
   "execution_count": 18,
   "metadata": {
    "ExecuteTime": {
     "end_time": "2024-05-23T05:27:28.534737Z",
     "start_time": "2024-05-23T05:27:28.508640Z"
    },
    "collapsed": false,
    "jupyter": {
     "outputs_hidden": false
    }
   },
   "outputs": [
    {
     "data": {
      "text/html": [
       "<pre style=\"white-space:pre;overflow-x:auto;line-height:normal;font-family:Menlo,'DejaVu Sans Mono',consolas,'Courier New',monospace\"><span style=\"font-weight: bold\">{</span>\n",
       "    <span style=\"color: #008000; text-decoration-color: #008000\">'create_time'</span>: <span style=\"color: #800080; text-decoration-color: #800080; font-weight: bold\">datetime.datetime</span><span style=\"font-weight: bold\">(</span><span style=\"color: #008080; text-decoration-color: #008080; font-weight: bold\">2024</span>, <span style=\"color: #008080; text-decoration-color: #008080; font-weight: bold\">6</span>, <span style=\"color: #008080; text-decoration-color: #008080; font-weight: bold\">6</span>, <span style=\"color: #008080; text-decoration-color: #008080; font-weight: bold\">2</span>, <span style=\"color: #008080; text-decoration-color: #008080; font-weight: bold\">56</span>, <span style=\"color: #008080; text-decoration-color: #008080; font-weight: bold\">30</span>, <span style=\"color: #008080; text-decoration-color: #008080; font-weight: bold\">192736</span>, <span style=\"color: #808000; text-decoration-color: #808000\">tzinfo</span>=<span style=\"color: #800080; text-decoration-color: #800080\">datetime</span>.timezone.utc<span style=\"font-weight: bold\">)</span>,\n",
       "    <span style=\"color: #008000; text-decoration-color: #008000\">'data'</span>: <span style=\"font-weight: bold\">{</span><span style=\"color: #008000; text-decoration-color: #008000\">'version'</span>: <span style=\"color: #008080; text-decoration-color: #008080; font-weight: bold\">0</span><span style=\"font-weight: bold\">}</span>,\n",
       "    <span style=\"color: #008000; text-decoration-color: #008000\">'errors'</span>: <span style=\"font-weight: bold\">{</span><span style=\"color: #008000; text-decoration-color: #008000\">'history'</span>: <span style=\"font-weight: bold\">[]}</span>,\n",
       "    <span style=\"color: #008000; text-decoration-color: #008000\">'lock'</span>: <span style=\"color: #008000; text-decoration-color: #008000\">'__not_locked__'</span>,\n",
       "    <span style=\"color: #008000; text-decoration-color: #008000\">'lock_time'</span>: <span style=\"color: #800080; text-decoration-color: #800080; font-weight: bold\">datetime.datetime</span><span style=\"font-weight: bold\">(</span><span style=\"color: #008080; text-decoration-color: #008080; font-weight: bold\">2024</span>, <span style=\"color: #008080; text-decoration-color: #008080; font-weight: bold\">6</span>, <span style=\"color: #008080; text-decoration-color: #008080; font-weight: bold\">6</span>, <span style=\"color: #008080; text-decoration-color: #008080; font-weight: bold\">2</span>, <span style=\"color: #008080; text-decoration-color: #008080; font-weight: bold\">56</span>, <span style=\"color: #008080; text-decoration-color: #008080; font-weight: bold\">30</span>, <span style=\"color: #008080; text-decoration-color: #008080; font-weight: bold\">220585</span>, <span style=\"color: #808000; text-decoration-color: #808000\">tzinfo</span>=<span style=\"color: #800080; text-decoration-color: #800080\">datetime</span>.timezone.utc<span style=\"font-weight: bold\">)</span>,\n",
       "    <span style=\"color: #008000; text-decoration-color: #008000\">'retry'</span>: <span style=\"color: #008080; text-decoration-color: #008080; font-weight: bold\">0</span>,\n",
       "    <span style=\"color: #008000; text-decoration-color: #008000\">'update_time'</span>: <span style=\"color: #800080; text-decoration-color: #800080; font-weight: bold\">datetime.datetime</span><span style=\"font-weight: bold\">(</span><span style=\"color: #008080; text-decoration-color: #008080; font-weight: bold\">2024</span>, <span style=\"color: #008080; text-decoration-color: #008080; font-weight: bold\">6</span>, <span style=\"color: #008080; text-decoration-color: #008080; font-weight: bold\">6</span>, <span style=\"color: #008080; text-decoration-color: #008080; font-weight: bold\">2</span>, <span style=\"color: #008080; text-decoration-color: #008080; font-weight: bold\">56</span>, <span style=\"color: #008080; text-decoration-color: #008080; font-weight: bold\">30</span>, <span style=\"color: #008080; text-decoration-color: #008080; font-weight: bold\">316097</span>, <span style=\"color: #808000; text-decoration-color: #808000\">tzinfo</span>=<span style=\"color: #800080; text-decoration-color: #800080\">datetime</span>.timezone.utc<span style=\"font-weight: bold\">)</span>,\n",
       "    <span style=\"color: #008000; text-decoration-color: #008000\">'key'</span>: <span style=\"color: #008000; text-decoration-color: #008000\">'test____t-2'</span>,\n",
       "    <span style=\"color: #008000; text-decoration-color: #008000\">'status'</span>: <span style=\"color: #008080; text-decoration-color: #008080; font-weight: bold\">16</span>,\n",
       "    <span style=\"color: #008000; text-decoration-color: #008000\">'value'</span>: <span style=\"color: #008000; text-decoration-color: #008000\">'test____016____010'</span>\n",
       "<span style=\"font-weight: bold\">}</span>\n",
       "</pre>\n"
      ],
      "text/plain": [
       "\u001b[1m{\u001b[0m\n",
       "    \u001b[32m'create_time'\u001b[0m: \u001b[1;35mdatetime.datetime\u001b[0m\u001b[1m(\u001b[0m\u001b[1;36m2024\u001b[0m, \u001b[1;36m6\u001b[0m, \u001b[1;36m6\u001b[0m, \u001b[1;36m2\u001b[0m, \u001b[1;36m56\u001b[0m, \u001b[1;36m30\u001b[0m, \u001b[1;36m192736\u001b[0m, \u001b[33mtzinfo\u001b[0m=\u001b[35mdatetime\u001b[0m.timezone.utc\u001b[1m)\u001b[0m,\n",
       "    \u001b[32m'data'\u001b[0m: \u001b[1m{\u001b[0m\u001b[32m'version'\u001b[0m: \u001b[1;36m0\u001b[0m\u001b[1m}\u001b[0m,\n",
       "    \u001b[32m'errors'\u001b[0m: \u001b[1m{\u001b[0m\u001b[32m'history'\u001b[0m: \u001b[1m[\u001b[0m\u001b[1m]\u001b[0m\u001b[1m}\u001b[0m,\n",
       "    \u001b[32m'lock'\u001b[0m: \u001b[32m'__not_locked__'\u001b[0m,\n",
       "    \u001b[32m'lock_time'\u001b[0m: \u001b[1;35mdatetime.datetime\u001b[0m\u001b[1m(\u001b[0m\u001b[1;36m2024\u001b[0m, \u001b[1;36m6\u001b[0m, \u001b[1;36m6\u001b[0m, \u001b[1;36m2\u001b[0m, \u001b[1;36m56\u001b[0m, \u001b[1;36m30\u001b[0m, \u001b[1;36m220585\u001b[0m, \u001b[33mtzinfo\u001b[0m=\u001b[35mdatetime\u001b[0m.timezone.utc\u001b[1m)\u001b[0m,\n",
       "    \u001b[32m'retry'\u001b[0m: \u001b[1;36m0\u001b[0m,\n",
       "    \u001b[32m'update_time'\u001b[0m: \u001b[1;35mdatetime.datetime\u001b[0m\u001b[1m(\u001b[0m\u001b[1;36m2024\u001b[0m, \u001b[1;36m6\u001b[0m, \u001b[1;36m6\u001b[0m, \u001b[1;36m2\u001b[0m, \u001b[1;36m56\u001b[0m, \u001b[1;36m30\u001b[0m, \u001b[1;36m316097\u001b[0m, \u001b[33mtzinfo\u001b[0m=\u001b[35mdatetime\u001b[0m.timezone.utc\u001b[1m)\u001b[0m,\n",
       "    \u001b[32m'key'\u001b[0m: \u001b[32m'test____t-2'\u001b[0m,\n",
       "    \u001b[32m'status'\u001b[0m: \u001b[1;36m16\u001b[0m,\n",
       "    \u001b[32m'value'\u001b[0m: \u001b[32m'test____016____010'\u001b[0m\n",
       "\u001b[1m}\u001b[0m\n"
      ]
     },
     "metadata": {},
     "output_type": "display_data"
    },
    {
     "name": "stdout",
     "output_type": "stream",
     "text": [
      "step1.status_name = 'succeeded'\n",
      "step1.is_locked() = False\n"
     ]
    }
   ],
   "source": [
    "step1 = Step1.get_one_or_none(task_id=task_id)\n",
    "rprint(step1.to_dict())\n",
    "print(f\"{step1.status_name = }\")\n",
    "print(f\"{step1.is_locked() = }\")"
   ]
  },
  {
   "cell_type": "markdown",
   "metadata": {
    "collapsed": false,
    "jupyter": {
     "outputs_hidden": false
    },
    "pycharm": {
     "name": "#%% md\n"
    }
   },
   "source": [
    "## Ignoring Tasks that Fail Too Many Times\n",
    "\n",
    "You don't want a task that logically can never succeed to fall into an endless loop. For example, you may accidentally upload a video clip as the document, making it impossible to process it as a PDF. In this example, we defined the maximum number of retry attempts as 3. If a task fails 3 times in a row, it will be ignored. If you attempt to start a task that has been ignored, you will encounter a ``TaskIgnoredError``. During the 3 retry attempts, you will observe how the status changes and the retry count increases. You can also review the error history in the ``errors`` attribute."
   ]
  },
  {
   "cell_type": "code",
   "execution_count": 19,
   "metadata": {
    "ExecuteTime": {
     "end_time": "2024-05-23T05:33:56.282948Z",
     "start_time": "2024-05-23T05:33:56.246390Z"
    },
    "collapsed": false,
    "jupyter": {
     "outputs_hidden": false
    },
    "pycharm": {
     "name": "#%%\n"
    }
   },
   "outputs": [
    {
     "name": "stdout",
     "output_type": "stream",
     "text": [
      "at the 0th attempt, the task is:\n"
     ]
    },
    {
     "data": {
      "text/html": [
       "<pre style=\"white-space:pre;overflow-x:auto;line-height:normal;font-family:Menlo,'DejaVu Sans Mono',consolas,'Courier New',monospace\"><span style=\"font-weight: bold\">{</span>\n",
       "    <span style=\"color: #008000; text-decoration-color: #008000\">'create_time'</span>: <span style=\"color: #800080; text-decoration-color: #800080; font-weight: bold\">datetime.datetime</span><span style=\"font-weight: bold\">(</span><span style=\"color: #008080; text-decoration-color: #008080; font-weight: bold\">2024</span>, <span style=\"color: #008080; text-decoration-color: #008080; font-weight: bold\">6</span>, <span style=\"color: #008080; text-decoration-color: #008080; font-weight: bold\">6</span>, <span style=\"color: #008080; text-decoration-color: #008080; font-weight: bold\">2</span>, <span style=\"color: #008080; text-decoration-color: #008080; font-weight: bold\">56</span>, <span style=\"color: #008080; text-decoration-color: #008080; font-weight: bold\">31</span>, <span style=\"color: #008080; text-decoration-color: #008080; font-weight: bold\">864786</span>, <span style=\"color: #808000; text-decoration-color: #808000\">tzinfo</span>=<span style=\"color: #800080; text-decoration-color: #800080\">datetime</span>.timezone.utc<span style=\"font-weight: bold\">)</span>,\n",
       "    <span style=\"color: #008000; text-decoration-color: #008000\">'data'</span>: <span style=\"font-weight: bold\">{}</span>,\n",
       "    <span style=\"color: #008000; text-decoration-color: #008000\">'errors'</span>: <span style=\"font-weight: bold\">{</span><span style=\"color: #008000; text-decoration-color: #008000\">'history'</span>: <span style=\"font-weight: bold\">[]}</span>,\n",
       "    <span style=\"color: #008000; text-decoration-color: #008000\">'lock'</span>: <span style=\"color: #008000; text-decoration-color: #008000\">'__not_locked__'</span>,\n",
       "    <span style=\"color: #008000; text-decoration-color: #008000\">'lock_time'</span>: <span style=\"color: #800080; text-decoration-color: #800080; font-weight: bold\">datetime.datetime</span><span style=\"font-weight: bold\">(</span><span style=\"color: #008080; text-decoration-color: #008080; font-weight: bold\">1970</span>, <span style=\"color: #008080; text-decoration-color: #008080; font-weight: bold\">1</span>, <span style=\"color: #008080; text-decoration-color: #008080; font-weight: bold\">1</span>, <span style=\"color: #008080; text-decoration-color: #008080; font-weight: bold\">0</span>, <span style=\"color: #008080; text-decoration-color: #008080; font-weight: bold\">0</span>, <span style=\"color: #808000; text-decoration-color: #808000\">tzinfo</span>=<span style=\"color: #800080; text-decoration-color: #800080\">datetime</span>.timezone.utc<span style=\"font-weight: bold\">)</span>,\n",
       "    <span style=\"color: #008000; text-decoration-color: #008000\">'retry'</span>: <span style=\"color: #008080; text-decoration-color: #008080; font-weight: bold\">0</span>,\n",
       "    <span style=\"color: #008000; text-decoration-color: #008000\">'update_time'</span>: <span style=\"color: #800080; text-decoration-color: #800080; font-weight: bold\">datetime.datetime</span><span style=\"font-weight: bold\">(</span><span style=\"color: #008080; text-decoration-color: #008080; font-weight: bold\">2024</span>, <span style=\"color: #008080; text-decoration-color: #008080; font-weight: bold\">6</span>, <span style=\"color: #008080; text-decoration-color: #008080; font-weight: bold\">6</span>, <span style=\"color: #008080; text-decoration-color: #008080; font-weight: bold\">2</span>, <span style=\"color: #008080; text-decoration-color: #008080; font-weight: bold\">56</span>, <span style=\"color: #008080; text-decoration-color: #008080; font-weight: bold\">31</span>, <span style=\"color: #008080; text-decoration-color: #008080; font-weight: bold\">864837</span>, <span style=\"color: #808000; text-decoration-color: #808000\">tzinfo</span>=<span style=\"color: #800080; text-decoration-color: #800080\">datetime</span>.timezone.utc<span style=\"font-weight: bold\">)</span>,\n",
       "    <span style=\"color: #008000; text-decoration-color: #008000\">'key'</span>: <span style=\"color: #008000; text-decoration-color: #008000\">'test____t-3'</span>,\n",
       "    <span style=\"color: #008000; text-decoration-color: #008000\">'value'</span>: <span style=\"color: #008000; text-decoration-color: #008000\">'test____010____003'</span>,\n",
       "    <span style=\"color: #008000; text-decoration-color: #008000\">'status'</span>: <span style=\"color: #008080; text-decoration-color: #008080; font-weight: bold\">10</span>\n",
       "<span style=\"font-weight: bold\">}</span>\n",
       "</pre>\n"
      ],
      "text/plain": [
       "\u001b[1m{\u001b[0m\n",
       "    \u001b[32m'create_time'\u001b[0m: \u001b[1;35mdatetime.datetime\u001b[0m\u001b[1m(\u001b[0m\u001b[1;36m2024\u001b[0m, \u001b[1;36m6\u001b[0m, \u001b[1;36m6\u001b[0m, \u001b[1;36m2\u001b[0m, \u001b[1;36m56\u001b[0m, \u001b[1;36m31\u001b[0m, \u001b[1;36m864786\u001b[0m, \u001b[33mtzinfo\u001b[0m=\u001b[35mdatetime\u001b[0m.timezone.utc\u001b[1m)\u001b[0m,\n",
       "    \u001b[32m'data'\u001b[0m: \u001b[1m{\u001b[0m\u001b[1m}\u001b[0m,\n",
       "    \u001b[32m'errors'\u001b[0m: \u001b[1m{\u001b[0m\u001b[32m'history'\u001b[0m: \u001b[1m[\u001b[0m\u001b[1m]\u001b[0m\u001b[1m}\u001b[0m,\n",
       "    \u001b[32m'lock'\u001b[0m: \u001b[32m'__not_locked__'\u001b[0m,\n",
       "    \u001b[32m'lock_time'\u001b[0m: \u001b[1;35mdatetime.datetime\u001b[0m\u001b[1m(\u001b[0m\u001b[1;36m1970\u001b[0m, \u001b[1;36m1\u001b[0m, \u001b[1;36m1\u001b[0m, \u001b[1;36m0\u001b[0m, \u001b[1;36m0\u001b[0m, \u001b[33mtzinfo\u001b[0m=\u001b[35mdatetime\u001b[0m.timezone.utc\u001b[1m)\u001b[0m,\n",
       "    \u001b[32m'retry'\u001b[0m: \u001b[1;36m0\u001b[0m,\n",
       "    \u001b[32m'update_time'\u001b[0m: \u001b[1;35mdatetime.datetime\u001b[0m\u001b[1m(\u001b[0m\u001b[1;36m2024\u001b[0m, \u001b[1;36m6\u001b[0m, \u001b[1;36m6\u001b[0m, \u001b[1;36m2\u001b[0m, \u001b[1;36m56\u001b[0m, \u001b[1;36m31\u001b[0m, \u001b[1;36m864837\u001b[0m, \u001b[33mtzinfo\u001b[0m=\u001b[35mdatetime\u001b[0m.timezone.utc\u001b[1m)\u001b[0m,\n",
       "    \u001b[32m'key'\u001b[0m: \u001b[32m'test____t-3'\u001b[0m,\n",
       "    \u001b[32m'value'\u001b[0m: \u001b[32m'test____010____003'\u001b[0m,\n",
       "    \u001b[32m'status'\u001b[0m: \u001b[1;36m10\u001b[0m\n",
       "\u001b[1m}\u001b[0m\n"
      ]
     },
     "metadata": {},
     "output_type": "display_data"
    }
   ],
   "source": [
    "task_id = \"t-3\"\n",
    "\n",
    "# create a new task\n",
    "step1 = Step1.make_and_save(task_id=task_id)\n",
    "\n",
    "print(\"at the 0th attempt, the task is:\")\n",
    "rprint(step1.to_dict())"
   ]
  },
  {
   "cell_type": "code",
   "execution_count": 20,
   "metadata": {
    "ExecuteTime": {
     "end_time": "2024-05-23T05:33:56.976950Z",
     "start_time": "2024-05-23T05:33:56.935389Z"
    },
    "collapsed": false,
    "jupyter": {
     "outputs_hidden": false
    },
    "pycharm": {
     "name": "#%%\n"
    }
   },
   "outputs": [
    {
     "name": "stdout",
     "output_type": "stream",
     "text": [
      "----------------------------------- ▶️ start Task(use_case_id='test', task_id='t-3'))-----------------------------------\n",
      "🔓 set status 'in_progress' and lock the task.\n",
      "❌ 🔐 task failed, set stats 'failed' and unlock the task.\n",
      "---------------------- ⏹️ end Task(use_case_id='test', task_id='t-3'), status=14)) (aka 'failed')-----------------------\n"
     ]
    },
    {
     "ename": "UserError",
     "evalue": "",
     "output_type": "error",
     "traceback": [
      "\u001b[0;31m---------------------------------------------------------------------------\u001b[0m",
      "\u001b[0;31mUserError\u001b[0m                                 Traceback (most recent call last)",
      "Cell \u001b[0;32mIn[20], line 2\u001b[0m\n\u001b[1;32m      1\u001b[0m \u001b[38;5;28;01mwith\u001b[39;00m Step1\u001b[38;5;241m.\u001b[39mstart(task_id\u001b[38;5;241m=\u001b[39mtask_id, debug\u001b[38;5;241m=\u001b[39m\u001b[38;5;28;01mTrue\u001b[39;00m):\n\u001b[0;32m----> 2\u001b[0m     \u001b[38;5;28;01mraise\u001b[39;00m UserError()\n",
      "\u001b[0;31mUserError\u001b[0m: "
     ]
    }
   ],
   "source": [
    "with Step1.start(task_id=task_id, debug=True):\n",
    "    raise UserError()"
   ]
  },
  {
   "cell_type": "code",
   "execution_count": 21,
   "metadata": {
    "ExecuteTime": {
     "end_time": "2024-05-23T05:34:24.361072Z",
     "start_time": "2024-05-23T05:34:23.903106Z"
    },
    "collapsed": false,
    "jupyter": {
     "outputs_hidden": false
    },
    "pycharm": {
     "name": "#%%\n"
    }
   },
   "outputs": [
    {
     "name": "stdout",
     "output_type": "stream",
     "text": [
      "after the 1th attempt, the task is:\n",
      "step1.status_name = 'failed'\n",
      "step1.retry = 1\n",
      "errors:\n"
     ]
    },
    {
     "data": {
      "text/html": [
       "<pre style=\"white-space:pre;overflow-x:auto;line-height:normal;font-family:Menlo,'DejaVu Sans Mono',consolas,'Courier New',monospace\"><span style=\"font-weight: bold\">{</span>\n",
       "    <span style=\"color: #008000; text-decoration-color: #008000\">'history'</span>: <span style=\"font-weight: bold\">[</span>\n",
       "        <span style=\"font-weight: bold\">{</span>\n",
       "            <span style=\"color: #008000; text-decoration-color: #008000\">'nth_retry'</span>: <span style=\"color: #008080; text-decoration-color: #008080; font-weight: bold\">1</span>,\n",
       "            <span style=\"color: #008000; text-decoration-color: #008000\">'update_time'</span>: <span style=\"color: #008000; text-decoration-color: #008000\">'2024-06-06T02:56:32.544920+00:00'</span>,\n",
       "            <span style=\"color: #008000; text-decoration-color: #008000\">'error'</span>: <span style=\"color: #008000; text-decoration-color: #008000\">'UserError()'</span>,\n",
       "            <span style=\"color: #008000; text-decoration-color: #008000\">'traceback'</span>: <span style=\"color: #008000; text-decoration-color: #008000\">'Traceback (most recent call last):\\n  File </span>\n",
       "<span style=\"color: #008000; text-decoration-color: #008000\">\"/Users/sanhehu/Documents/GitHub/pynamodb_mate-project/pynamodb_mate/patterns/status_tracker/impl.py\", line 933, in</span>\n",
       "<span style=\"color: #008000; text-decoration-color: #008000\">start\\n    yield execution_context\\n  File </span>\n",
       "<span style=\"color: #008000; text-decoration-color: #008000\">\"/var/folders/bl/vkmgjdsx5115w2xcnp67_8y40000gn/T/ipykernel_65495/2696996099.py\", line 2, in &lt;module&gt;\\n    raise </span>\n",
       "<span style=\"color: #008000; text-decoration-color: #008000\">UserError()\\nUserError\\n'</span>\n",
       "        <span style=\"font-weight: bold\">}</span>\n",
       "    <span style=\"font-weight: bold\">]</span>\n",
       "<span style=\"font-weight: bold\">}</span>\n",
       "</pre>\n"
      ],
      "text/plain": [
       "\u001b[1m{\u001b[0m\n",
       "    \u001b[32m'history'\u001b[0m: \u001b[1m[\u001b[0m\n",
       "        \u001b[1m{\u001b[0m\n",
       "            \u001b[32m'nth_retry'\u001b[0m: \u001b[1;36m1\u001b[0m,\n",
       "            \u001b[32m'update_time'\u001b[0m: \u001b[32m'2024-06-06T02:56:32.544920+00:00'\u001b[0m,\n",
       "            \u001b[32m'error'\u001b[0m: \u001b[32m'UserError\u001b[0m\u001b[32m(\u001b[0m\u001b[32m)\u001b[0m\u001b[32m'\u001b[0m,\n",
       "            \u001b[32m'traceback'\u001b[0m: \u001b[32m'Traceback \u001b[0m\u001b[32m(\u001b[0m\u001b[32mmost recent call last\u001b[0m\u001b[32m)\u001b[0m\u001b[32m:\\n  File \u001b[0m\n",
       "\u001b[32m\"/Users/sanhehu/Documents/GitHub/pynamodb_mate-project/pynamodb_mate/patterns/status_tracker/impl.py\", line 933, in\u001b[0m\n",
       "\u001b[32mstart\\n    yield execution_context\\n  File \u001b[0m\n",
       "\u001b[32m\"/var/folders/bl/vkmgjdsx5115w2xcnp67_8y40000gn/T/ipykernel_65495/2696996099.py\", line 2, in \u001b[0m\u001b[32m<\u001b[0m\u001b[32mmodule\u001b[0m\u001b[32m>\u001b[0m\u001b[32m\\n    raise \u001b[0m\n",
       "\u001b[32mUserError\u001b[0m\u001b[32m(\u001b[0m\u001b[32m)\u001b[0m\u001b[32m\\nUserError\\n'\u001b[0m\n",
       "        \u001b[1m}\u001b[0m\n",
       "    \u001b[1m]\u001b[0m\n",
       "\u001b[1m}\u001b[0m\n"
      ]
     },
     "metadata": {},
     "output_type": "display_data"
    }
   ],
   "source": [
    "print(\"after the 1th attempt, the task is:\")\n",
    "step1 = Step1.get_one_or_none(task_id=task_id)\n",
    "# rprint(step1.to_dict())\n",
    "print(f\"{step1.status_name = }\")\n",
    "print(f\"{step1.retry = }\")\n",
    "print(\"errors:\")\n",
    "rprint(step1.errors)"
   ]
  },
  {
   "cell_type": "code",
   "execution_count": 22,
   "metadata": {
    "ExecuteTime": {
     "end_time": "2024-05-23T05:35:24.488109Z",
     "start_time": "2024-05-23T05:35:24.445664Z"
    },
    "collapsed": false,
    "jupyter": {
     "outputs_hidden": false
    },
    "pycharm": {
     "name": "#%%\n"
    }
   },
   "outputs": [
    {
     "name": "stdout",
     "output_type": "stream",
     "text": [
      "----------------------------------- ▶️ start Task(use_case_id='test', task_id='t-3'))-----------------------------------\n",
      "🔓 set status 'in_progress' and lock the task.\n",
      "❌ 🔐 task failed, set stats 'failed' and unlock the task.\n",
      "---------------------- ⏹️ end Task(use_case_id='test', task_id='t-3'), status=14)) (aka 'failed')-----------------------\n"
     ]
    },
    {
     "ename": "UserError",
     "evalue": "",
     "output_type": "error",
     "traceback": [
      "\u001b[0;31m---------------------------------------------------------------------------\u001b[0m",
      "\u001b[0;31mUserError\u001b[0m                                 Traceback (most recent call last)",
      "Cell \u001b[0;32mIn[22], line 2\u001b[0m\n\u001b[1;32m      1\u001b[0m \u001b[38;5;28;01mwith\u001b[39;00m Step1\u001b[38;5;241m.\u001b[39mstart(task_id\u001b[38;5;241m=\u001b[39mtask_id, debug\u001b[38;5;241m=\u001b[39m\u001b[38;5;28;01mTrue\u001b[39;00m):\n\u001b[0;32m----> 2\u001b[0m     \u001b[38;5;28;01mraise\u001b[39;00m UserError()\n",
      "\u001b[0;31mUserError\u001b[0m: "
     ]
    }
   ],
   "source": [
    "with Step1.start(task_id=task_id, debug=True):\n",
    "    raise UserError()"
   ]
  },
  {
   "cell_type": "code",
   "execution_count": 23,
   "metadata": {
    "ExecuteTime": {
     "end_time": "2024-05-23T05:35:32.452681Z",
     "start_time": "2024-05-23T05:35:32.419143Z"
    },
    "collapsed": false,
    "jupyter": {
     "outputs_hidden": false
    },
    "pycharm": {
     "name": "#%%\n"
    }
   },
   "outputs": [
    {
     "name": "stdout",
     "output_type": "stream",
     "text": [
      "after the 2th attempt, the task is:\n",
      "step1.status_name = 'failed'\n",
      "step1.retry = 2\n",
      "errors:\n"
     ]
    },
    {
     "data": {
      "text/html": [
       "<pre style=\"white-space:pre;overflow-x:auto;line-height:normal;font-family:Menlo,'DejaVu Sans Mono',consolas,'Courier New',monospace\"><span style=\"font-weight: bold\">{</span>\n",
       "    <span style=\"color: #008000; text-decoration-color: #008000\">'history'</span>: <span style=\"font-weight: bold\">[</span>\n",
       "        <span style=\"font-weight: bold\">{</span>\n",
       "            <span style=\"color: #008000; text-decoration-color: #008000\">'nth_retry'</span>: <span style=\"color: #008080; text-decoration-color: #008080; font-weight: bold\">1</span>,\n",
       "            <span style=\"color: #008000; text-decoration-color: #008000\">'update_time'</span>: <span style=\"color: #008000; text-decoration-color: #008000\">'2024-06-06T02:56:32.544920+00:00'</span>,\n",
       "            <span style=\"color: #008000; text-decoration-color: #008000\">'error'</span>: <span style=\"color: #008000; text-decoration-color: #008000\">'UserError()'</span>,\n",
       "            <span style=\"color: #008000; text-decoration-color: #008000\">'traceback'</span>: <span style=\"color: #008000; text-decoration-color: #008000\">'Traceback (most recent call last):\\n  File </span>\n",
       "<span style=\"color: #008000; text-decoration-color: #008000\">\"/Users/sanhehu/Documents/GitHub/pynamodb_mate-project/pynamodb_mate/patterns/status_tracker/impl.py\", line 933, in</span>\n",
       "<span style=\"color: #008000; text-decoration-color: #008000\">start\\n    yield execution_context\\n  File </span>\n",
       "<span style=\"color: #008000; text-decoration-color: #008000\">\"/var/folders/bl/vkmgjdsx5115w2xcnp67_8y40000gn/T/ipykernel_65495/2696996099.py\", line 2, in &lt;module&gt;\\n    raise </span>\n",
       "<span style=\"color: #008000; text-decoration-color: #008000\">UserError()\\nUserError\\n'</span>\n",
       "<span style=\"color: #000000; text-decoration-color: #000000\">        </span><span style=\"color: #000000; text-decoration-color: #000000; font-weight: bold\">}</span><span style=\"color: #000000; text-decoration-color: #000000\">,</span>\n",
       "<span style=\"color: #000000; text-decoration-color: #000000\">        </span><span style=\"color: #000000; text-decoration-color: #000000; font-weight: bold\">{</span>\n",
       "<span style=\"color: #000000; text-decoration-color: #000000\">            </span><span style=\"color: #008000; text-decoration-color: #008000\">'nth_retry'</span><span style=\"color: #000000; text-decoration-color: #000000\">: </span><span style=\"color: #008080; text-decoration-color: #008080; font-weight: bold\">2</span><span style=\"color: #000000; text-decoration-color: #000000\">,</span>\n",
       "<span style=\"color: #000000; text-decoration-color: #000000\">            </span><span style=\"color: #008000; text-decoration-color: #008000\">'update_time'</span><span style=\"color: #000000; text-decoration-color: #000000\">: </span><span style=\"color: #008000; text-decoration-color: #008000\">'2024-06-06T02:56:33.764940+00:00'</span><span style=\"color: #000000; text-decoration-color: #000000\">,</span>\n",
       "<span style=\"color: #000000; text-decoration-color: #000000\">            </span><span style=\"color: #008000; text-decoration-color: #008000\">'error'</span><span style=\"color: #000000; text-decoration-color: #000000\">: </span><span style=\"color: #008000; text-decoration-color: #008000\">'UserError()'</span><span style=\"color: #000000; text-decoration-color: #000000\">,</span>\n",
       "<span style=\"color: #000000; text-decoration-color: #000000\">            </span><span style=\"color: #008000; text-decoration-color: #008000\">'traceback'</span><span style=\"color: #000000; text-decoration-color: #000000\">: </span><span style=\"color: #008000; text-decoration-color: #008000\">'Traceback (most recent call last):\\n  File </span>\n",
       "<span style=\"color: #008000; text-decoration-color: #008000\">\"/Users/sanhehu/Documents/GitHub/pynamodb_mate-project/pynamodb_mate/patterns/status_tracker/impl.py\", line 933, in</span>\n",
       "<span style=\"color: #008000; text-decoration-color: #008000\">start\\n    yield execution_context\\n  File </span>\n",
       "<span style=\"color: #008000; text-decoration-color: #008000\">\"/var/folders/bl/vkmgjdsx5115w2xcnp67_8y40000gn/T/ipykernel_65495/2696996099.py\", line 2, in &lt;module&gt;\\n    raise </span>\n",
       "<span style=\"color: #008000; text-decoration-color: #008000\">UserError()\\nUserError\\n'</span>\n",
       "        <span style=\"font-weight: bold\">}</span>\n",
       "    <span style=\"font-weight: bold\">]</span>\n",
       "<span style=\"font-weight: bold\">}</span>\n",
       "</pre>\n"
      ],
      "text/plain": [
       "\u001b[1m{\u001b[0m\n",
       "    \u001b[32m'history'\u001b[0m: \u001b[1m[\u001b[0m\n",
       "        \u001b[1m{\u001b[0m\n",
       "            \u001b[32m'nth_retry'\u001b[0m: \u001b[1;36m1\u001b[0m,\n",
       "            \u001b[32m'update_time'\u001b[0m: \u001b[32m'2024-06-06T02:56:32.544920+00:00'\u001b[0m,\n",
       "            \u001b[32m'error'\u001b[0m: \u001b[32m'UserError\u001b[0m\u001b[32m(\u001b[0m\u001b[32m)\u001b[0m\u001b[32m'\u001b[0m,\n",
       "            \u001b[32m'traceback'\u001b[0m: \u001b[32m'Traceback \u001b[0m\u001b[32m(\u001b[0m\u001b[32mmost recent call last\u001b[0m\u001b[32m)\u001b[0m\u001b[32m:\\n  File \u001b[0m\n",
       "\u001b[32m\"/Users/sanhehu/Documents/GitHub/pynamodb_mate-project/pynamodb_mate/patterns/status_tracker/impl.py\", line 933, in\u001b[0m\n",
       "\u001b[32mstart\\n    yield execution_context\\n  File \u001b[0m\n",
       "\u001b[32m\"/var/folders/bl/vkmgjdsx5115w2xcnp67_8y40000gn/T/ipykernel_65495/2696996099.py\", line 2, in \u001b[0m\u001b[32m<\u001b[0m\u001b[32mmodule\u001b[0m\u001b[32m>\\n    raise \u001b[0m\n",
       "\u001b[32mUserError\u001b[0m\u001b[32m(\u001b[0m\u001b[32m)\u001b[0m\u001b[32m\\nUserError\\n'\u001b[0m\n",
       "\u001b[39m        \u001b[0m\u001b[1;39m}\u001b[0m\u001b[39m,\u001b[0m\n",
       "\u001b[39m        \u001b[0m\u001b[1;39m{\u001b[0m\n",
       "\u001b[39m            \u001b[0m\u001b[32m'nth_retry'\u001b[0m\u001b[39m: \u001b[0m\u001b[1;36m2\u001b[0m\u001b[39m,\u001b[0m\n",
       "\u001b[39m            \u001b[0m\u001b[32m'update_time'\u001b[0m\u001b[39m: \u001b[0m\u001b[32m'2024-06-06T02:56:33.764940+00:00'\u001b[0m\u001b[39m,\u001b[0m\n",
       "\u001b[39m            \u001b[0m\u001b[32m'error'\u001b[0m\u001b[39m: \u001b[0m\u001b[32m'UserError\u001b[0m\u001b[32m(\u001b[0m\u001b[32m)\u001b[0m\u001b[32m'\u001b[0m\u001b[39m,\u001b[0m\n",
       "\u001b[39m            \u001b[0m\u001b[32m'traceback'\u001b[0m\u001b[39m: \u001b[0m\u001b[32m'Traceback \u001b[0m\u001b[32m(\u001b[0m\u001b[32mmost recent call last\u001b[0m\u001b[32m)\u001b[0m\u001b[32m:\\n  File \u001b[0m\n",
       "\u001b[32m\"/Users/sanhehu/Documents/GitHub/pynamodb_mate-project/pynamodb_mate/patterns/status_tracker/impl.py\", line 933, in\u001b[0m\n",
       "\u001b[32mstart\\n    yield execution_context\\n  File \u001b[0m\n",
       "\u001b[32m\"/var/folders/bl/vkmgjdsx5115w2xcnp67_8y40000gn/T/ipykernel_65495/2696996099.py\", line 2, in <module\u001b[0m\u001b[32m>\u001b[0m\u001b[32m\\n    raise \u001b[0m\n",
       "\u001b[32mUserError\u001b[0m\u001b[32m(\u001b[0m\u001b[32m)\u001b[0m\u001b[32m\\nUserError\\n'\u001b[0m\n",
       "        \u001b[1m}\u001b[0m\n",
       "    \u001b[1m]\u001b[0m\n",
       "\u001b[1m}\u001b[0m\n"
      ]
     },
     "metadata": {},
     "output_type": "display_data"
    }
   ],
   "source": [
    "print(\"after the 2th attempt, the task is:\")\n",
    "step1 = Step1.get_one_or_none(task_id=task_id)\n",
    "# rprint(step1.to_dict())\n",
    "print(f\"{step1.status_name = }\")\n",
    "print(f\"{step1.retry = }\")\n",
    "print(\"errors:\")\n",
    "rprint(step1.errors)"
   ]
  },
  {
   "cell_type": "markdown",
   "metadata": {
    "collapsed": false,
    "jupyter": {
     "outputs_hidden": false
    }
   },
   "source": [
    "This is the 3rd attempts. This time you will see the task status becomes ``ignored``."
   ]
  },
  {
   "cell_type": "code",
   "execution_count": 24,
   "metadata": {
    "ExecuteTime": {
     "end_time": "2024-05-23T05:35:39.664128Z",
     "start_time": "2024-05-23T05:35:39.612209Z"
    },
    "collapsed": false,
    "jupyter": {
     "outputs_hidden": false
    },
    "pycharm": {
     "name": "#%%\n"
    }
   },
   "outputs": [
    {
     "name": "stdout",
     "output_type": "stream",
     "text": [
      "----------------------------------- ▶️ start Task(use_case_id='test', task_id='t-3'))-----------------------------------\n",
      "🔓 set status 'in_progress' and lock the task.\n",
      "❌ 🔐 task failed 3 times already, set status 'ignore' and unlock the task.\n",
      "---------------------- ⏹️ end Task(use_case_id='test', task_id='t-3'), status=18)) (aka 'ignored')----------------------\n"
     ]
    },
    {
     "ename": "UserError",
     "evalue": "",
     "output_type": "error",
     "traceback": [
      "\u001b[0;31m---------------------------------------------------------------------------\u001b[0m",
      "\u001b[0;31mUserError\u001b[0m                                 Traceback (most recent call last)",
      "Cell \u001b[0;32mIn[24], line 2\u001b[0m\n\u001b[1;32m      1\u001b[0m \u001b[38;5;28;01mwith\u001b[39;00m Step1\u001b[38;5;241m.\u001b[39mstart(task_id\u001b[38;5;241m=\u001b[39mtask_id, debug\u001b[38;5;241m=\u001b[39m\u001b[38;5;28;01mTrue\u001b[39;00m):\n\u001b[0;32m----> 2\u001b[0m     \u001b[38;5;28;01mraise\u001b[39;00m UserError()\n",
      "\u001b[0;31mUserError\u001b[0m: "
     ]
    }
   ],
   "source": [
    "with Step1.start(task_id=task_id, debug=True):\n",
    "    raise UserError()"
   ]
  },
  {
   "cell_type": "code",
   "execution_count": 25,
   "metadata": {
    "ExecuteTime": {
     "end_time": "2024-05-23T05:35:49.864142Z",
     "start_time": "2024-05-23T05:35:49.833384Z"
    },
    "collapsed": false,
    "jupyter": {
     "outputs_hidden": false
    },
    "pycharm": {
     "name": "#%%\n"
    }
   },
   "outputs": [
    {
     "name": "stdout",
     "output_type": "stream",
     "text": [
      "after the 3th attempt, the task is:\n",
      "step1.status_name = 'ignored'\n",
      "step1.retry = 3\n",
      "errors:\n"
     ]
    },
    {
     "data": {
      "text/html": [
       "<pre style=\"white-space:pre;overflow-x:auto;line-height:normal;font-family:Menlo,'DejaVu Sans Mono',consolas,'Courier New',monospace\"><span style=\"font-weight: bold\">{</span>\n",
       "    <span style=\"color: #008000; text-decoration-color: #008000\">'history'</span>: <span style=\"font-weight: bold\">[</span>\n",
       "        <span style=\"font-weight: bold\">{</span>\n",
       "            <span style=\"color: #008000; text-decoration-color: #008000\">'nth_retry'</span>: <span style=\"color: #008080; text-decoration-color: #008080; font-weight: bold\">1</span>,\n",
       "            <span style=\"color: #008000; text-decoration-color: #008000\">'update_time'</span>: <span style=\"color: #008000; text-decoration-color: #008000\">'2024-06-06T02:56:32.544920+00:00'</span>,\n",
       "            <span style=\"color: #008000; text-decoration-color: #008000\">'error'</span>: <span style=\"color: #008000; text-decoration-color: #008000\">'UserError()'</span>,\n",
       "            <span style=\"color: #008000; text-decoration-color: #008000\">'traceback'</span>: <span style=\"color: #008000; text-decoration-color: #008000\">'Traceback (most recent call last):\\n  File </span>\n",
       "<span style=\"color: #008000; text-decoration-color: #008000\">\"/Users/sanhehu/Documents/GitHub/pynamodb_mate-project/pynamodb_mate/patterns/status_tracker/impl.py\", line 933, in</span>\n",
       "<span style=\"color: #008000; text-decoration-color: #008000\">start\\n    yield execution_context\\n  File </span>\n",
       "<span style=\"color: #008000; text-decoration-color: #008000\">\"/var/folders/bl/vkmgjdsx5115w2xcnp67_8y40000gn/T/ipykernel_65495/2696996099.py\", line 2, in &lt;module&gt;\\n    raise </span>\n",
       "<span style=\"color: #008000; text-decoration-color: #008000\">UserError()\\nUserError\\n'</span>\n",
       "<span style=\"color: #000000; text-decoration-color: #000000\">        </span><span style=\"color: #000000; text-decoration-color: #000000; font-weight: bold\">}</span><span style=\"color: #000000; text-decoration-color: #000000\">,</span>\n",
       "<span style=\"color: #000000; text-decoration-color: #000000\">        </span><span style=\"color: #000000; text-decoration-color: #000000; font-weight: bold\">{</span>\n",
       "<span style=\"color: #000000; text-decoration-color: #000000\">            </span><span style=\"color: #008000; text-decoration-color: #008000\">'nth_retry'</span><span style=\"color: #000000; text-decoration-color: #000000\">: </span><span style=\"color: #008080; text-decoration-color: #008080; font-weight: bold\">2</span><span style=\"color: #000000; text-decoration-color: #000000\">,</span>\n",
       "<span style=\"color: #000000; text-decoration-color: #000000\">            </span><span style=\"color: #008000; text-decoration-color: #008000\">'update_time'</span><span style=\"color: #000000; text-decoration-color: #000000\">: </span><span style=\"color: #008000; text-decoration-color: #008000\">'2024-06-06T02:56:33.764940+00:00'</span><span style=\"color: #000000; text-decoration-color: #000000\">,</span>\n",
       "<span style=\"color: #000000; text-decoration-color: #000000\">            </span><span style=\"color: #008000; text-decoration-color: #008000\">'error'</span><span style=\"color: #000000; text-decoration-color: #000000\">: </span><span style=\"color: #008000; text-decoration-color: #008000\">'UserError()'</span><span style=\"color: #000000; text-decoration-color: #000000\">,</span>\n",
       "<span style=\"color: #000000; text-decoration-color: #000000\">            </span><span style=\"color: #008000; text-decoration-color: #008000\">'traceback'</span><span style=\"color: #000000; text-decoration-color: #000000\">: </span><span style=\"color: #008000; text-decoration-color: #008000\">'Traceback (most recent call last):\\n  File </span>\n",
       "<span style=\"color: #008000; text-decoration-color: #008000\">\"/Users/sanhehu/Documents/GitHub/pynamodb_mate-project/pynamodb_mate/patterns/status_tracker/impl.py\", line 933, in</span>\n",
       "<span style=\"color: #008000; text-decoration-color: #008000\">start\\n    yield execution_context\\n  File </span>\n",
       "<span style=\"color: #008000; text-decoration-color: #008000\">\"/var/folders/bl/vkmgjdsx5115w2xcnp67_8y40000gn/T/ipykernel_65495/2696996099.py\", line 2, in &lt;module&gt;\\n    raise </span>\n",
       "<span style=\"color: #008000; text-decoration-color: #008000\">UserError()\\nUserError\\n'</span>\n",
       "<span style=\"color: #000000; text-decoration-color: #000000\">        </span><span style=\"color: #000000; text-decoration-color: #000000; font-weight: bold\">}</span><span style=\"color: #000000; text-decoration-color: #000000\">,</span>\n",
       "<span style=\"color: #000000; text-decoration-color: #000000\">        </span><span style=\"color: #000000; text-decoration-color: #000000; font-weight: bold\">{</span>\n",
       "<span style=\"color: #000000; text-decoration-color: #000000\">            </span><span style=\"color: #008000; text-decoration-color: #008000\">'nth_retry'</span><span style=\"color: #000000; text-decoration-color: #000000\">: </span><span style=\"color: #008080; text-decoration-color: #008080; font-weight: bold\">3</span><span style=\"color: #000000; text-decoration-color: #000000\">,</span>\n",
       "<span style=\"color: #000000; text-decoration-color: #000000\">            </span><span style=\"color: #008000; text-decoration-color: #008000\">'update_time'</span><span style=\"color: #000000; text-decoration-color: #000000\">: </span><span style=\"color: #008000; text-decoration-color: #008000\">'2024-06-06T02:56:35.686226+00:00'</span><span style=\"color: #000000; text-decoration-color: #000000\">,</span>\n",
       "<span style=\"color: #000000; text-decoration-color: #000000\">            </span><span style=\"color: #008000; text-decoration-color: #008000\">'error'</span><span style=\"color: #000000; text-decoration-color: #000000\">: </span><span style=\"color: #008000; text-decoration-color: #008000\">'UserError()'</span><span style=\"color: #000000; text-decoration-color: #000000\">,</span>\n",
       "<span style=\"color: #000000; text-decoration-color: #000000\">            </span><span style=\"color: #008000; text-decoration-color: #008000\">'traceback'</span><span style=\"color: #000000; text-decoration-color: #000000\">: </span><span style=\"color: #008000; text-decoration-color: #008000\">'Traceback (most recent call last):\\n  File </span>\n",
       "<span style=\"color: #008000; text-decoration-color: #008000\">\"/Users/sanhehu/Documents/GitHub/pynamodb_mate-project/pynamodb_mate/patterns/status_tracker/impl.py\", line 933, in</span>\n",
       "<span style=\"color: #008000; text-decoration-color: #008000\">start\\n    yield execution_context\\n  File </span>\n",
       "<span style=\"color: #008000; text-decoration-color: #008000\">\"/var/folders/bl/vkmgjdsx5115w2xcnp67_8y40000gn/T/ipykernel_65495/2696996099.py\", line 2, in &lt;module&gt;\\n    raise </span>\n",
       "<span style=\"color: #008000; text-decoration-color: #008000\">UserError()\\nUserError\\n'</span>\n",
       "        <span style=\"font-weight: bold\">}</span>\n",
       "    <span style=\"font-weight: bold\">]</span>\n",
       "<span style=\"font-weight: bold\">}</span>\n",
       "</pre>\n"
      ],
      "text/plain": [
       "\u001b[1m{\u001b[0m\n",
       "    \u001b[32m'history'\u001b[0m: \u001b[1m[\u001b[0m\n",
       "        \u001b[1m{\u001b[0m\n",
       "            \u001b[32m'nth_retry'\u001b[0m: \u001b[1;36m1\u001b[0m,\n",
       "            \u001b[32m'update_time'\u001b[0m: \u001b[32m'2024-06-06T02:56:32.544920+00:00'\u001b[0m,\n",
       "            \u001b[32m'error'\u001b[0m: \u001b[32m'UserError\u001b[0m\u001b[32m(\u001b[0m\u001b[32m)\u001b[0m\u001b[32m'\u001b[0m,\n",
       "            \u001b[32m'traceback'\u001b[0m: \u001b[32m'Traceback \u001b[0m\u001b[32m(\u001b[0m\u001b[32mmost recent call last\u001b[0m\u001b[32m)\u001b[0m\u001b[32m:\\n  File \u001b[0m\n",
       "\u001b[32m\"/Users/sanhehu/Documents/GitHub/pynamodb_mate-project/pynamodb_mate/patterns/status_tracker/impl.py\", line 933, in\u001b[0m\n",
       "\u001b[32mstart\\n    yield execution_context\\n  File \u001b[0m\n",
       "\u001b[32m\"/var/folders/bl/vkmgjdsx5115w2xcnp67_8y40000gn/T/ipykernel_65495/2696996099.py\", line 2, in \u001b[0m\u001b[32m<\u001b[0m\u001b[32mmodule\u001b[0m\u001b[32m>\\n    raise \u001b[0m\n",
       "\u001b[32mUserError\u001b[0m\u001b[32m(\u001b[0m\u001b[32m)\u001b[0m\u001b[32m\\nUserError\\n'\u001b[0m\n",
       "\u001b[39m        \u001b[0m\u001b[1;39m}\u001b[0m\u001b[39m,\u001b[0m\n",
       "\u001b[39m        \u001b[0m\u001b[1;39m{\u001b[0m\n",
       "\u001b[39m            \u001b[0m\u001b[32m'nth_retry'\u001b[0m\u001b[39m: \u001b[0m\u001b[1;36m2\u001b[0m\u001b[39m,\u001b[0m\n",
       "\u001b[39m            \u001b[0m\u001b[32m'update_time'\u001b[0m\u001b[39m: \u001b[0m\u001b[32m'2024-06-06T02:56:33.764940+00:00'\u001b[0m\u001b[39m,\u001b[0m\n",
       "\u001b[39m            \u001b[0m\u001b[32m'error'\u001b[0m\u001b[39m: \u001b[0m\u001b[32m'UserError\u001b[0m\u001b[32m(\u001b[0m\u001b[32m)\u001b[0m\u001b[32m'\u001b[0m\u001b[39m,\u001b[0m\n",
       "\u001b[39m            \u001b[0m\u001b[32m'traceback'\u001b[0m\u001b[39m: \u001b[0m\u001b[32m'Traceback \u001b[0m\u001b[32m(\u001b[0m\u001b[32mmost recent call last\u001b[0m\u001b[32m)\u001b[0m\u001b[32m:\\n  File \u001b[0m\n",
       "\u001b[32m\"/Users/sanhehu/Documents/GitHub/pynamodb_mate-project/pynamodb_mate/patterns/status_tracker/impl.py\", line 933, in\u001b[0m\n",
       "\u001b[32mstart\\n    yield execution_context\\n  File \u001b[0m\n",
       "\u001b[32m\"/var/folders/bl/vkmgjdsx5115w2xcnp67_8y40000gn/T/ipykernel_65495/2696996099.py\", line 2, in <module>\\n    raise \u001b[0m\n",
       "\u001b[32mUserError\u001b[0m\u001b[32m(\u001b[0m\u001b[32m)\u001b[0m\u001b[32m\\nUserError\\n'\u001b[0m\n",
       "\u001b[39m        \u001b[0m\u001b[1;39m}\u001b[0m\u001b[39m,\u001b[0m\n",
       "\u001b[39m        \u001b[0m\u001b[1;39m{\u001b[0m\n",
       "\u001b[39m            \u001b[0m\u001b[32m'nth_retry'\u001b[0m\u001b[39m: \u001b[0m\u001b[1;36m3\u001b[0m\u001b[39m,\u001b[0m\n",
       "\u001b[39m            \u001b[0m\u001b[32m'update_time'\u001b[0m\u001b[39m: \u001b[0m\u001b[32m'2024-06-06T02:56:35.686226+00:00'\u001b[0m\u001b[39m,\u001b[0m\n",
       "\u001b[39m            \u001b[0m\u001b[32m'error'\u001b[0m\u001b[39m: \u001b[0m\u001b[32m'UserError\u001b[0m\u001b[32m(\u001b[0m\u001b[32m)\u001b[0m\u001b[32m'\u001b[0m\u001b[39m,\u001b[0m\n",
       "\u001b[39m            \u001b[0m\u001b[32m'traceback'\u001b[0m\u001b[39m: \u001b[0m\u001b[32m'Traceback \u001b[0m\u001b[32m(\u001b[0m\u001b[32mmost recent call last\u001b[0m\u001b[32m)\u001b[0m\u001b[32m:\\n  File \u001b[0m\n",
       "\u001b[32m\"/Users/sanhehu/Documents/GitHub/pynamodb_mate-project/pynamodb_mate/patterns/status_tracker/impl.py\", line 933, in\u001b[0m\n",
       "\u001b[32mstart\\n    yield execution_context\\n  File \u001b[0m\n",
       "\u001b[32m\"/var/folders/bl/vkmgjdsx5115w2xcnp67_8y40000gn/T/ipykernel_65495/2696996099.py\", line 2, in <module\u001b[0m\u001b[32m>\u001b[0m\u001b[32m\\n    raise \u001b[0m\n",
       "\u001b[32mUserError\u001b[0m\u001b[32m(\u001b[0m\u001b[32m)\u001b[0m\u001b[32m\\nUserError\\n'\u001b[0m\n",
       "        \u001b[1m}\u001b[0m\n",
       "    \u001b[1m]\u001b[0m\n",
       "\u001b[1m}\u001b[0m\n"
      ]
     },
     "metadata": {},
     "output_type": "display_data"
    }
   ],
   "source": [
    "print(\"after the 3th attempt, the task is:\")\n",
    "step1 = Step1.get_one_or_none(task_id=task_id)\n",
    "# rprint(step1.to_dict())\n",
    "print(f\"{step1.status_name = }\")\n",
    "print(f\"{step1.retry = }\")\n",
    "print(\"errors:\")\n",
    "rprint(step1.errors)"
   ]
  },
  {
   "cell_type": "markdown",
   "metadata": {
    "collapsed": false,
    "jupyter": {
     "outputs_hidden": false
    }
   },
   "source": [
    "You will see a ``TaskIgnoredError`` if you try to start the task again"
   ]
  },
  {
   "cell_type": "code",
   "execution_count": 26,
   "metadata": {
    "ExecuteTime": {
     "end_time": "2024-05-23T05:36:57.029620Z",
     "start_time": "2024-05-23T05:36:56.914052Z"
    },
    "collapsed": false,
    "jupyter": {
     "outputs_hidden": false
    }
   },
   "outputs": [
    {
     "name": "stdout",
     "output_type": "stream",
     "text": [
      "----------------------------------- ▶️ start Task(use_case_id='test', task_id='t-3'))-----------------------------------\n",
      "🔓 set status 'in_progress' and lock the task.\n",
      "❌ task failed to get lock, because it is ignored.\n",
      "------------------------------------ ⏹️ end Task(use_case_id='test', task_id='t-3'))------------------------------------\n"
     ]
    },
    {
     "data": {
      "text/html": [
       "<pre style=\"white-space:pre;overflow-x:auto;line-height:normal;font-family:Menlo,'DejaVu Sans Mono',consolas,'Courier New',monospace\"><span style=\"color: #800080; text-decoration-color: #800080; font-weight: bold\">TaskIgnoredError</span><span style=\"font-weight: bold\">(</span><span style=\"color: #008000; text-decoration-color: #008000\">\"Task(use_case_id='test', task_id='t-3') is ignored.\"</span><span style=\"font-weight: bold\">)</span>\n",
       "</pre>\n"
      ],
      "text/plain": [
       "\u001b[1;35mTaskIgnoredError\u001b[0m\u001b[1m(\u001b[0m\u001b[32m\"Task\u001b[0m\u001b[32m(\u001b[0m\u001b[32muse_case_id\u001b[0m\u001b[32m='test', \u001b[0m\u001b[32mtask_id\u001b[0m\u001b[32m='t-3'\u001b[0m\u001b[32m)\u001b[0m\u001b[32m is ignored.\"\u001b[0m\u001b[1m)\u001b[0m\n"
      ]
     },
     "metadata": {},
     "output_type": "display_data"
    }
   ],
   "source": [
    "try:\n",
    "    with Step1.start(task_id=task_id, detailed_error=True, debug=True):\n",
    "        pass\n",
    "except Exception as e:\n",
    "    rprint(repr(e))"
   ]
  },
  {
   "cell_type": "markdown",
   "metadata": {
    "collapsed": false,
    "jupyter": {
     "outputs_hidden": false
    },
    "pycharm": {
     "name": "#%% md\n"
    }
   },
   "source": [
    "## Query Tasks by Status\n",
    "\n",
    "To restart some tasks from the last failed, you need to be able to query the tasks by status. The ``Task.query_by_status()`` method allow you to get tasks by one or many status codes. By default, it returns tasks in ascending order (older data comes first) by ``update_time``.\n",
    "\n",
    "First, let's create some test data."
   ]
  },
  {
   "cell_type": "code",
   "execution_count": 27,
   "metadata": {
    "ExecuteTime": {
     "end_time": "2024-05-23T05:40:25.006950Z",
     "start_time": "2024-05-23T05:40:24.600439Z"
    },
    "collapsed": false,
    "jupyter": {
     "outputs_hidden": false
    },
    "pycharm": {
     "name": "#%%\n"
    }
   },
   "outputs": [
    {
     "data": {
      "text/html": [
       "<pre style=\"white-space:pre;overflow-x:auto;line-height:normal;font-family:Menlo,'DejaVu Sans Mono',consolas,'Courier New',monospace\"><span style=\"color: #800080; text-decoration-color: #800080; font-weight: bold\">Step1</span><span style=\"font-weight: bold\">(</span><span style=\"color: #808000; text-decoration-color: #808000\">create_time</span>=<span style=\"color: #800080; text-decoration-color: #800080; font-weight: bold\">datetime</span><span style=\"color: #800080; text-decoration-color: #800080; font-weight: bold\">.datetime</span><span style=\"font-weight: bold\">(</span><span style=\"color: #008080; text-decoration-color: #008080; font-weight: bold\">2024</span>, <span style=\"color: #008080; text-decoration-color: #008080; font-weight: bold\">6</span>, <span style=\"color: #008080; text-decoration-color: #008080; font-weight: bold\">6</span>, <span style=\"color: #008080; text-decoration-color: #008080; font-weight: bold\">2</span>, <span style=\"color: #008080; text-decoration-color: #008080; font-weight: bold\">56</span>, <span style=\"color: #008080; text-decoration-color: #008080; font-weight: bold\">37</span>, <span style=\"color: #008080; text-decoration-color: #008080; font-weight: bold\">736435</span>, <span style=\"color: #808000; text-decoration-color: #808000\">tzinfo</span>=<span style=\"color: #800080; text-decoration-color: #800080\">datetime</span>.timezone.utc<span style=\"font-weight: bold\">)</span>, \n",
       "<span style=\"color: #808000; text-decoration-color: #808000\">data</span>=<span style=\"font-weight: bold\">{</span><span style=\"color: #008000; text-decoration-color: #008000\">'status_code'</span>: <span style=\"color: #008080; text-decoration-color: #008080; font-weight: bold\">10</span><span style=\"font-weight: bold\">}</span>, <span style=\"color: #808000; text-decoration-color: #808000\">errors</span>=<span style=\"font-weight: bold\">{</span><span style=\"color: #008000; text-decoration-color: #008000\">'history'</span>: <span style=\"font-weight: bold\">[]}</span>, <span style=\"color: #808000; text-decoration-color: #808000\">lock</span>=<span style=\"color: #008000; text-decoration-color: #008000\">'__not_locked__'</span>, <span style=\"color: #808000; text-decoration-color: #808000\">lock_time</span>=<span style=\"color: #800080; text-decoration-color: #800080; font-weight: bold\">datetime</span><span style=\"color: #800080; text-decoration-color: #800080; font-weight: bold\">.datetime</span><span style=\"font-weight: bold\">(</span><span style=\"color: #008080; text-decoration-color: #008080; font-weight: bold\">1970</span>, <span style=\"color: #008080; text-decoration-color: #008080; font-weight: bold\">1</span>, <span style=\"color: #008080; text-decoration-color: #008080; font-weight: bold\">1</span>, <span style=\"color: #008080; text-decoration-color: #008080; font-weight: bold\">0</span>,\n",
       "<span style=\"color: #008080; text-decoration-color: #008080; font-weight: bold\">0</span>, <span style=\"color: #808000; text-decoration-color: #808000\">tzinfo</span>=<span style=\"color: #800080; text-decoration-color: #800080\">datetime</span>.timezone.utc<span style=\"font-weight: bold\">)</span>, <span style=\"color: #808000; text-decoration-color: #808000\">retry</span>=<span style=\"color: #008080; text-decoration-color: #008080; font-weight: bold\">0</span>, <span style=\"color: #808000; text-decoration-color: #808000\">update_time</span>=<span style=\"color: #800080; text-decoration-color: #800080; font-weight: bold\">datetime</span><span style=\"color: #800080; text-decoration-color: #800080; font-weight: bold\">.datetime</span><span style=\"font-weight: bold\">(</span><span style=\"color: #008080; text-decoration-color: #008080; font-weight: bold\">2024</span>, <span style=\"color: #008080; text-decoration-color: #008080; font-weight: bold\">6</span>, <span style=\"color: #008080; text-decoration-color: #008080; font-weight: bold\">6</span>, <span style=\"color: #008080; text-decoration-color: #008080; font-weight: bold\">2</span>, <span style=\"color: #008080; text-decoration-color: #008080; font-weight: bold\">56</span>, <span style=\"color: #008080; text-decoration-color: #008080; font-weight: bold\">37</span>, <span style=\"color: #008080; text-decoration-color: #008080; font-weight: bold\">736499</span>, \n",
       "<span style=\"color: #808000; text-decoration-color: #808000\">tzinfo</span>=<span style=\"color: #800080; text-decoration-color: #800080\">datetime</span>.timezone.utc<span style=\"font-weight: bold\">)</span>, <span style=\"color: #808000; text-decoration-color: #808000\">key</span>=<span style=\"color: #008000; text-decoration-color: #008000\">'test____t-1'</span>, <span style=\"color: #808000; text-decoration-color: #808000\">value</span>=<span style=\"color: #008000; text-decoration-color: #008000\">'test____010____001'</span>, <span style=\"color: #808000; text-decoration-color: #808000\">status</span>=<span style=\"color: #008080; text-decoration-color: #008080; font-weight: bold\">10</span><span style=\"font-weight: bold\">)</span>\n",
       "</pre>\n"
      ],
      "text/plain": [
       "\u001b[1;35mStep1\u001b[0m\u001b[1m(\u001b[0m\u001b[33mcreate_time\u001b[0m=\u001b[1;35mdatetime\u001b[0m\u001b[1;35m.datetime\u001b[0m\u001b[1m(\u001b[0m\u001b[1;36m2024\u001b[0m, \u001b[1;36m6\u001b[0m, \u001b[1;36m6\u001b[0m, \u001b[1;36m2\u001b[0m, \u001b[1;36m56\u001b[0m, \u001b[1;36m37\u001b[0m, \u001b[1;36m736435\u001b[0m, \u001b[33mtzinfo\u001b[0m=\u001b[35mdatetime\u001b[0m.timezone.utc\u001b[1m)\u001b[0m, \n",
       "\u001b[33mdata\u001b[0m=\u001b[1m{\u001b[0m\u001b[32m'status_code'\u001b[0m: \u001b[1;36m10\u001b[0m\u001b[1m}\u001b[0m, \u001b[33merrors\u001b[0m=\u001b[1m{\u001b[0m\u001b[32m'history'\u001b[0m: \u001b[1m[\u001b[0m\u001b[1m]\u001b[0m\u001b[1m}\u001b[0m, \u001b[33mlock\u001b[0m=\u001b[32m'__not_locked__'\u001b[0m, \u001b[33mlock_time\u001b[0m=\u001b[1;35mdatetime\u001b[0m\u001b[1;35m.datetime\u001b[0m\u001b[1m(\u001b[0m\u001b[1;36m1970\u001b[0m, \u001b[1;36m1\u001b[0m, \u001b[1;36m1\u001b[0m, \u001b[1;36m0\u001b[0m,\n",
       "\u001b[1;36m0\u001b[0m, \u001b[33mtzinfo\u001b[0m=\u001b[35mdatetime\u001b[0m.timezone.utc\u001b[1m)\u001b[0m, \u001b[33mretry\u001b[0m=\u001b[1;36m0\u001b[0m, \u001b[33mupdate_time\u001b[0m=\u001b[1;35mdatetime\u001b[0m\u001b[1;35m.datetime\u001b[0m\u001b[1m(\u001b[0m\u001b[1;36m2024\u001b[0m, \u001b[1;36m6\u001b[0m, \u001b[1;36m6\u001b[0m, \u001b[1;36m2\u001b[0m, \u001b[1;36m56\u001b[0m, \u001b[1;36m37\u001b[0m, \u001b[1;36m736499\u001b[0m, \n",
       "\u001b[33mtzinfo\u001b[0m=\u001b[35mdatetime\u001b[0m.timezone.utc\u001b[1m)\u001b[0m, \u001b[33mkey\u001b[0m=\u001b[32m'test____t-1'\u001b[0m, \u001b[33mvalue\u001b[0m=\u001b[32m'test____010____001'\u001b[0m, \u001b[33mstatus\u001b[0m=\u001b[1;36m10\u001b[0m\u001b[1m)\u001b[0m\n"
      ]
     },
     "metadata": {},
     "output_type": "display_data"
    },
    {
     "data": {
      "text/html": [
       "<pre style=\"white-space:pre;overflow-x:auto;line-height:normal;font-family:Menlo,'DejaVu Sans Mono',consolas,'Courier New',monospace\"><span style=\"color: #800080; text-decoration-color: #800080; font-weight: bold\">Step1</span><span style=\"font-weight: bold\">(</span><span style=\"color: #808000; text-decoration-color: #808000\">create_time</span>=<span style=\"color: #800080; text-decoration-color: #800080; font-weight: bold\">datetime</span><span style=\"color: #800080; text-decoration-color: #800080; font-weight: bold\">.datetime</span><span style=\"font-weight: bold\">(</span><span style=\"color: #008080; text-decoration-color: #008080; font-weight: bold\">2024</span>, <span style=\"color: #008080; text-decoration-color: #008080; font-weight: bold\">6</span>, <span style=\"color: #008080; text-decoration-color: #008080; font-weight: bold\">6</span>, <span style=\"color: #008080; text-decoration-color: #008080; font-weight: bold\">2</span>, <span style=\"color: #008080; text-decoration-color: #008080; font-weight: bold\">56</span>, <span style=\"color: #008080; text-decoration-color: #008080; font-weight: bold\">37</span>, <span style=\"color: #008080; text-decoration-color: #008080; font-weight: bold\">741167</span>, <span style=\"color: #808000; text-decoration-color: #808000\">tzinfo</span>=<span style=\"color: #800080; text-decoration-color: #800080\">datetime</span>.timezone.utc<span style=\"font-weight: bold\">)</span>, \n",
       "<span style=\"color: #808000; text-decoration-color: #808000\">data</span>=<span style=\"font-weight: bold\">{</span><span style=\"color: #008000; text-decoration-color: #008000\">'status_code'</span>: <span style=\"color: #008080; text-decoration-color: #008080; font-weight: bold\">12</span><span style=\"font-weight: bold\">}</span>, <span style=\"color: #808000; text-decoration-color: #808000\">errors</span>=<span style=\"font-weight: bold\">{</span><span style=\"color: #008000; text-decoration-color: #008000\">'history'</span>: <span style=\"font-weight: bold\">[]}</span>, <span style=\"color: #808000; text-decoration-color: #808000\">lock</span>=<span style=\"color: #008000; text-decoration-color: #008000\">'__not_locked__'</span>, <span style=\"color: #808000; text-decoration-color: #808000\">lock_time</span>=<span style=\"color: #800080; text-decoration-color: #800080; font-weight: bold\">datetime</span><span style=\"color: #800080; text-decoration-color: #800080; font-weight: bold\">.datetime</span><span style=\"font-weight: bold\">(</span><span style=\"color: #008080; text-decoration-color: #008080; font-weight: bold\">1970</span>, <span style=\"color: #008080; text-decoration-color: #008080; font-weight: bold\">1</span>, <span style=\"color: #008080; text-decoration-color: #008080; font-weight: bold\">1</span>, <span style=\"color: #008080; text-decoration-color: #008080; font-weight: bold\">0</span>,\n",
       "<span style=\"color: #008080; text-decoration-color: #008080; font-weight: bold\">0</span>, <span style=\"color: #808000; text-decoration-color: #808000\">tzinfo</span>=<span style=\"color: #800080; text-decoration-color: #800080\">datetime</span>.timezone.utc<span style=\"font-weight: bold\">)</span>, <span style=\"color: #808000; text-decoration-color: #808000\">retry</span>=<span style=\"color: #008080; text-decoration-color: #008080; font-weight: bold\">0</span>, <span style=\"color: #808000; text-decoration-color: #808000\">update_time</span>=<span style=\"color: #800080; text-decoration-color: #800080; font-weight: bold\">datetime</span><span style=\"color: #800080; text-decoration-color: #800080; font-weight: bold\">.datetime</span><span style=\"font-weight: bold\">(</span><span style=\"color: #008080; text-decoration-color: #008080; font-weight: bold\">2024</span>, <span style=\"color: #008080; text-decoration-color: #008080; font-weight: bold\">6</span>, <span style=\"color: #008080; text-decoration-color: #008080; font-weight: bold\">6</span>, <span style=\"color: #008080; text-decoration-color: #008080; font-weight: bold\">2</span>, <span style=\"color: #008080; text-decoration-color: #008080; font-weight: bold\">56</span>, <span style=\"color: #008080; text-decoration-color: #008080; font-weight: bold\">37</span>, <span style=\"color: #008080; text-decoration-color: #008080; font-weight: bold\">741199</span>, \n",
       "<span style=\"color: #808000; text-decoration-color: #808000\">tzinfo</span>=<span style=\"color: #800080; text-decoration-color: #800080\">datetime</span>.timezone.utc<span style=\"font-weight: bold\">)</span>, <span style=\"color: #808000; text-decoration-color: #808000\">key</span>=<span style=\"color: #008000; text-decoration-color: #008000\">'test____t-2'</span>, <span style=\"color: #808000; text-decoration-color: #808000\">value</span>=<span style=\"color: #008000; text-decoration-color: #008000\">'test____012____005'</span>, <span style=\"color: #808000; text-decoration-color: #808000\">status</span>=<span style=\"color: #008080; text-decoration-color: #008080; font-weight: bold\">12</span><span style=\"font-weight: bold\">)</span>\n",
       "</pre>\n"
      ],
      "text/plain": [
       "\u001b[1;35mStep1\u001b[0m\u001b[1m(\u001b[0m\u001b[33mcreate_time\u001b[0m=\u001b[1;35mdatetime\u001b[0m\u001b[1;35m.datetime\u001b[0m\u001b[1m(\u001b[0m\u001b[1;36m2024\u001b[0m, \u001b[1;36m6\u001b[0m, \u001b[1;36m6\u001b[0m, \u001b[1;36m2\u001b[0m, \u001b[1;36m56\u001b[0m, \u001b[1;36m37\u001b[0m, \u001b[1;36m741167\u001b[0m, \u001b[33mtzinfo\u001b[0m=\u001b[35mdatetime\u001b[0m.timezone.utc\u001b[1m)\u001b[0m, \n",
       "\u001b[33mdata\u001b[0m=\u001b[1m{\u001b[0m\u001b[32m'status_code'\u001b[0m: \u001b[1;36m12\u001b[0m\u001b[1m}\u001b[0m, \u001b[33merrors\u001b[0m=\u001b[1m{\u001b[0m\u001b[32m'history'\u001b[0m: \u001b[1m[\u001b[0m\u001b[1m]\u001b[0m\u001b[1m}\u001b[0m, \u001b[33mlock\u001b[0m=\u001b[32m'__not_locked__'\u001b[0m, \u001b[33mlock_time\u001b[0m=\u001b[1;35mdatetime\u001b[0m\u001b[1;35m.datetime\u001b[0m\u001b[1m(\u001b[0m\u001b[1;36m1970\u001b[0m, \u001b[1;36m1\u001b[0m, \u001b[1;36m1\u001b[0m, \u001b[1;36m0\u001b[0m,\n",
       "\u001b[1;36m0\u001b[0m, \u001b[33mtzinfo\u001b[0m=\u001b[35mdatetime\u001b[0m.timezone.utc\u001b[1m)\u001b[0m, \u001b[33mretry\u001b[0m=\u001b[1;36m0\u001b[0m, \u001b[33mupdate_time\u001b[0m=\u001b[1;35mdatetime\u001b[0m\u001b[1;35m.datetime\u001b[0m\u001b[1m(\u001b[0m\u001b[1;36m2024\u001b[0m, \u001b[1;36m6\u001b[0m, \u001b[1;36m6\u001b[0m, \u001b[1;36m2\u001b[0m, \u001b[1;36m56\u001b[0m, \u001b[1;36m37\u001b[0m, \u001b[1;36m741199\u001b[0m, \n",
       "\u001b[33mtzinfo\u001b[0m=\u001b[35mdatetime\u001b[0m.timezone.utc\u001b[1m)\u001b[0m, \u001b[33mkey\u001b[0m=\u001b[32m'test____t-2'\u001b[0m, \u001b[33mvalue\u001b[0m=\u001b[32m'test____012____005'\u001b[0m, \u001b[33mstatus\u001b[0m=\u001b[1;36m12\u001b[0m\u001b[1m)\u001b[0m\n"
      ]
     },
     "metadata": {},
     "output_type": "display_data"
    },
    {
     "data": {
      "text/html": [
       "<pre style=\"white-space:pre;overflow-x:auto;line-height:normal;font-family:Menlo,'DejaVu Sans Mono',consolas,'Courier New',monospace\"><span style=\"color: #800080; text-decoration-color: #800080; font-weight: bold\">Step1</span><span style=\"font-weight: bold\">(</span><span style=\"color: #808000; text-decoration-color: #808000\">create_time</span>=<span style=\"color: #800080; text-decoration-color: #800080; font-weight: bold\">datetime</span><span style=\"color: #800080; text-decoration-color: #800080; font-weight: bold\">.datetime</span><span style=\"font-weight: bold\">(</span><span style=\"color: #008080; text-decoration-color: #008080; font-weight: bold\">2024</span>, <span style=\"color: #008080; text-decoration-color: #008080; font-weight: bold\">6</span>, <span style=\"color: #008080; text-decoration-color: #008080; font-weight: bold\">6</span>, <span style=\"color: #008080; text-decoration-color: #008080; font-weight: bold\">2</span>, <span style=\"color: #008080; text-decoration-color: #008080; font-weight: bold\">56</span>, <span style=\"color: #008080; text-decoration-color: #008080; font-weight: bold\">37</span>, <span style=\"color: #008080; text-decoration-color: #008080; font-weight: bold\">745822</span>, <span style=\"color: #808000; text-decoration-color: #808000\">tzinfo</span>=<span style=\"color: #800080; text-decoration-color: #800080\">datetime</span>.timezone.utc<span style=\"font-weight: bold\">)</span>, \n",
       "<span style=\"color: #808000; text-decoration-color: #808000\">data</span>=<span style=\"font-weight: bold\">{</span><span style=\"color: #008000; text-decoration-color: #008000\">'status_code'</span>: <span style=\"color: #008080; text-decoration-color: #008080; font-weight: bold\">14</span><span style=\"font-weight: bold\">}</span>, <span style=\"color: #808000; text-decoration-color: #808000\">errors</span>=<span style=\"font-weight: bold\">{</span><span style=\"color: #008000; text-decoration-color: #008000\">'history'</span>: <span style=\"font-weight: bold\">[]}</span>, <span style=\"color: #808000; text-decoration-color: #808000\">lock</span>=<span style=\"color: #008000; text-decoration-color: #008000\">'__not_locked__'</span>, <span style=\"color: #808000; text-decoration-color: #808000\">lock_time</span>=<span style=\"color: #800080; text-decoration-color: #800080; font-weight: bold\">datetime</span><span style=\"color: #800080; text-decoration-color: #800080; font-weight: bold\">.datetime</span><span style=\"font-weight: bold\">(</span><span style=\"color: #008080; text-decoration-color: #008080; font-weight: bold\">1970</span>, <span style=\"color: #008080; text-decoration-color: #008080; font-weight: bold\">1</span>, <span style=\"color: #008080; text-decoration-color: #008080; font-weight: bold\">1</span>, <span style=\"color: #008080; text-decoration-color: #008080; font-weight: bold\">0</span>,\n",
       "<span style=\"color: #008080; text-decoration-color: #008080; font-weight: bold\">0</span>, <span style=\"color: #808000; text-decoration-color: #808000\">tzinfo</span>=<span style=\"color: #800080; text-decoration-color: #800080\">datetime</span>.timezone.utc<span style=\"font-weight: bold\">)</span>, <span style=\"color: #808000; text-decoration-color: #808000\">retry</span>=<span style=\"color: #008080; text-decoration-color: #008080; font-weight: bold\">0</span>, <span style=\"color: #808000; text-decoration-color: #808000\">update_time</span>=<span style=\"color: #800080; text-decoration-color: #800080; font-weight: bold\">datetime</span><span style=\"color: #800080; text-decoration-color: #800080; font-weight: bold\">.datetime</span><span style=\"font-weight: bold\">(</span><span style=\"color: #008080; text-decoration-color: #008080; font-weight: bold\">2024</span>, <span style=\"color: #008080; text-decoration-color: #008080; font-weight: bold\">6</span>, <span style=\"color: #008080; text-decoration-color: #008080; font-weight: bold\">6</span>, <span style=\"color: #008080; text-decoration-color: #008080; font-weight: bold\">2</span>, <span style=\"color: #008080; text-decoration-color: #008080; font-weight: bold\">56</span>, <span style=\"color: #008080; text-decoration-color: #008080; font-weight: bold\">37</span>, <span style=\"color: #008080; text-decoration-color: #008080; font-weight: bold\">745853</span>, \n",
       "<span style=\"color: #808000; text-decoration-color: #808000\">tzinfo</span>=<span style=\"color: #800080; text-decoration-color: #800080\">datetime</span>.timezone.utc<span style=\"font-weight: bold\">)</span>, <span style=\"color: #808000; text-decoration-color: #808000\">key</span>=<span style=\"color: #008000; text-decoration-color: #008000\">'test____t-3'</span>, <span style=\"color: #808000; text-decoration-color: #808000\">value</span>=<span style=\"color: #008000; text-decoration-color: #008000\">'test____014____003'</span>, <span style=\"color: #808000; text-decoration-color: #808000\">status</span>=<span style=\"color: #008080; text-decoration-color: #008080; font-weight: bold\">14</span><span style=\"font-weight: bold\">)</span>\n",
       "</pre>\n"
      ],
      "text/plain": [
       "\u001b[1;35mStep1\u001b[0m\u001b[1m(\u001b[0m\u001b[33mcreate_time\u001b[0m=\u001b[1;35mdatetime\u001b[0m\u001b[1;35m.datetime\u001b[0m\u001b[1m(\u001b[0m\u001b[1;36m2024\u001b[0m, \u001b[1;36m6\u001b[0m, \u001b[1;36m6\u001b[0m, \u001b[1;36m2\u001b[0m, \u001b[1;36m56\u001b[0m, \u001b[1;36m37\u001b[0m, \u001b[1;36m745822\u001b[0m, \u001b[33mtzinfo\u001b[0m=\u001b[35mdatetime\u001b[0m.timezone.utc\u001b[1m)\u001b[0m, \n",
       "\u001b[33mdata\u001b[0m=\u001b[1m{\u001b[0m\u001b[32m'status_code'\u001b[0m: \u001b[1;36m14\u001b[0m\u001b[1m}\u001b[0m, \u001b[33merrors\u001b[0m=\u001b[1m{\u001b[0m\u001b[32m'history'\u001b[0m: \u001b[1m[\u001b[0m\u001b[1m]\u001b[0m\u001b[1m}\u001b[0m, \u001b[33mlock\u001b[0m=\u001b[32m'__not_locked__'\u001b[0m, \u001b[33mlock_time\u001b[0m=\u001b[1;35mdatetime\u001b[0m\u001b[1;35m.datetime\u001b[0m\u001b[1m(\u001b[0m\u001b[1;36m1970\u001b[0m, \u001b[1;36m1\u001b[0m, \u001b[1;36m1\u001b[0m, \u001b[1;36m0\u001b[0m,\n",
       "\u001b[1;36m0\u001b[0m, \u001b[33mtzinfo\u001b[0m=\u001b[35mdatetime\u001b[0m.timezone.utc\u001b[1m)\u001b[0m, \u001b[33mretry\u001b[0m=\u001b[1;36m0\u001b[0m, \u001b[33mupdate_time\u001b[0m=\u001b[1;35mdatetime\u001b[0m\u001b[1;35m.datetime\u001b[0m\u001b[1m(\u001b[0m\u001b[1;36m2024\u001b[0m, \u001b[1;36m6\u001b[0m, \u001b[1;36m6\u001b[0m, \u001b[1;36m2\u001b[0m, \u001b[1;36m56\u001b[0m, \u001b[1;36m37\u001b[0m, \u001b[1;36m745853\u001b[0m, \n",
       "\u001b[33mtzinfo\u001b[0m=\u001b[35mdatetime\u001b[0m.timezone.utc\u001b[1m)\u001b[0m, \u001b[33mkey\u001b[0m=\u001b[32m'test____t-3'\u001b[0m, \u001b[33mvalue\u001b[0m=\u001b[32m'test____014____003'\u001b[0m, \u001b[33mstatus\u001b[0m=\u001b[1;36m14\u001b[0m\u001b[1m)\u001b[0m\n"
      ]
     },
     "metadata": {},
     "output_type": "display_data"
    },
    {
     "data": {
      "text/html": [
       "<pre style=\"white-space:pre;overflow-x:auto;line-height:normal;font-family:Menlo,'DejaVu Sans Mono',consolas,'Courier New',monospace\"><span style=\"color: #800080; text-decoration-color: #800080; font-weight: bold\">Step1</span><span style=\"font-weight: bold\">(</span><span style=\"color: #808000; text-decoration-color: #808000\">create_time</span>=<span style=\"color: #800080; text-decoration-color: #800080; font-weight: bold\">datetime</span><span style=\"color: #800080; text-decoration-color: #800080; font-weight: bold\">.datetime</span><span style=\"font-weight: bold\">(</span><span style=\"color: #008080; text-decoration-color: #008080; font-weight: bold\">2024</span>, <span style=\"color: #008080; text-decoration-color: #008080; font-weight: bold\">6</span>, <span style=\"color: #008080; text-decoration-color: #008080; font-weight: bold\">6</span>, <span style=\"color: #008080; text-decoration-color: #008080; font-weight: bold\">2</span>, <span style=\"color: #008080; text-decoration-color: #008080; font-weight: bold\">56</span>, <span style=\"color: #008080; text-decoration-color: #008080; font-weight: bold\">37</span>, <span style=\"color: #008080; text-decoration-color: #008080; font-weight: bold\">749079</span>, <span style=\"color: #808000; text-decoration-color: #808000\">tzinfo</span>=<span style=\"color: #800080; text-decoration-color: #800080\">datetime</span>.timezone.utc<span style=\"font-weight: bold\">)</span>, \n",
       "<span style=\"color: #808000; text-decoration-color: #808000\">data</span>=<span style=\"font-weight: bold\">{</span><span style=\"color: #008000; text-decoration-color: #008000\">'status_code'</span>: <span style=\"color: #008080; text-decoration-color: #008080; font-weight: bold\">16</span><span style=\"font-weight: bold\">}</span>, <span style=\"color: #808000; text-decoration-color: #808000\">errors</span>=<span style=\"font-weight: bold\">{</span><span style=\"color: #008000; text-decoration-color: #008000\">'history'</span>: <span style=\"font-weight: bold\">[]}</span>, <span style=\"color: #808000; text-decoration-color: #808000\">lock</span>=<span style=\"color: #008000; text-decoration-color: #008000\">'__not_locked__'</span>, <span style=\"color: #808000; text-decoration-color: #808000\">lock_time</span>=<span style=\"color: #800080; text-decoration-color: #800080; font-weight: bold\">datetime</span><span style=\"color: #800080; text-decoration-color: #800080; font-weight: bold\">.datetime</span><span style=\"font-weight: bold\">(</span><span style=\"color: #008080; text-decoration-color: #008080; font-weight: bold\">1970</span>, <span style=\"color: #008080; text-decoration-color: #008080; font-weight: bold\">1</span>, <span style=\"color: #008080; text-decoration-color: #008080; font-weight: bold\">1</span>, <span style=\"color: #008080; text-decoration-color: #008080; font-weight: bold\">0</span>,\n",
       "<span style=\"color: #008080; text-decoration-color: #008080; font-weight: bold\">0</span>, <span style=\"color: #808000; text-decoration-color: #808000\">tzinfo</span>=<span style=\"color: #800080; text-decoration-color: #800080\">datetime</span>.timezone.utc<span style=\"font-weight: bold\">)</span>, <span style=\"color: #808000; text-decoration-color: #808000\">retry</span>=<span style=\"color: #008080; text-decoration-color: #008080; font-weight: bold\">0</span>, <span style=\"color: #808000; text-decoration-color: #808000\">update_time</span>=<span style=\"color: #800080; text-decoration-color: #800080; font-weight: bold\">datetime</span><span style=\"color: #800080; text-decoration-color: #800080; font-weight: bold\">.datetime</span><span style=\"font-weight: bold\">(</span><span style=\"color: #008080; text-decoration-color: #008080; font-weight: bold\">2024</span>, <span style=\"color: #008080; text-decoration-color: #008080; font-weight: bold\">6</span>, <span style=\"color: #008080; text-decoration-color: #008080; font-weight: bold\">6</span>, <span style=\"color: #008080; text-decoration-color: #008080; font-weight: bold\">2</span>, <span style=\"color: #008080; text-decoration-color: #008080; font-weight: bold\">56</span>, <span style=\"color: #008080; text-decoration-color: #008080; font-weight: bold\">37</span>, <span style=\"color: #008080; text-decoration-color: #008080; font-weight: bold\">749102</span>, \n",
       "<span style=\"color: #808000; text-decoration-color: #808000\">tzinfo</span>=<span style=\"color: #800080; text-decoration-color: #800080\">datetime</span>.timezone.utc<span style=\"font-weight: bold\">)</span>, <span style=\"color: #808000; text-decoration-color: #808000\">key</span>=<span style=\"color: #008000; text-decoration-color: #008000\">'test____t-4'</span>, <span style=\"color: #808000; text-decoration-color: #808000\">value</span>=<span style=\"color: #008000; text-decoration-color: #008000\">'test____016____005'</span>, <span style=\"color: #808000; text-decoration-color: #808000\">status</span>=<span style=\"color: #008080; text-decoration-color: #008080; font-weight: bold\">16</span><span style=\"font-weight: bold\">)</span>\n",
       "</pre>\n"
      ],
      "text/plain": [
       "\u001b[1;35mStep1\u001b[0m\u001b[1m(\u001b[0m\u001b[33mcreate_time\u001b[0m=\u001b[1;35mdatetime\u001b[0m\u001b[1;35m.datetime\u001b[0m\u001b[1m(\u001b[0m\u001b[1;36m2024\u001b[0m, \u001b[1;36m6\u001b[0m, \u001b[1;36m6\u001b[0m, \u001b[1;36m2\u001b[0m, \u001b[1;36m56\u001b[0m, \u001b[1;36m37\u001b[0m, \u001b[1;36m749079\u001b[0m, \u001b[33mtzinfo\u001b[0m=\u001b[35mdatetime\u001b[0m.timezone.utc\u001b[1m)\u001b[0m, \n",
       "\u001b[33mdata\u001b[0m=\u001b[1m{\u001b[0m\u001b[32m'status_code'\u001b[0m: \u001b[1;36m16\u001b[0m\u001b[1m}\u001b[0m, \u001b[33merrors\u001b[0m=\u001b[1m{\u001b[0m\u001b[32m'history'\u001b[0m: \u001b[1m[\u001b[0m\u001b[1m]\u001b[0m\u001b[1m}\u001b[0m, \u001b[33mlock\u001b[0m=\u001b[32m'__not_locked__'\u001b[0m, \u001b[33mlock_time\u001b[0m=\u001b[1;35mdatetime\u001b[0m\u001b[1;35m.datetime\u001b[0m\u001b[1m(\u001b[0m\u001b[1;36m1970\u001b[0m, \u001b[1;36m1\u001b[0m, \u001b[1;36m1\u001b[0m, \u001b[1;36m0\u001b[0m,\n",
       "\u001b[1;36m0\u001b[0m, \u001b[33mtzinfo\u001b[0m=\u001b[35mdatetime\u001b[0m.timezone.utc\u001b[1m)\u001b[0m, \u001b[33mretry\u001b[0m=\u001b[1;36m0\u001b[0m, \u001b[33mupdate_time\u001b[0m=\u001b[1;35mdatetime\u001b[0m\u001b[1;35m.datetime\u001b[0m\u001b[1m(\u001b[0m\u001b[1;36m2024\u001b[0m, \u001b[1;36m6\u001b[0m, \u001b[1;36m6\u001b[0m, \u001b[1;36m2\u001b[0m, \u001b[1;36m56\u001b[0m, \u001b[1;36m37\u001b[0m, \u001b[1;36m749102\u001b[0m, \n",
       "\u001b[33mtzinfo\u001b[0m=\u001b[35mdatetime\u001b[0m.timezone.utc\u001b[1m)\u001b[0m, \u001b[33mkey\u001b[0m=\u001b[32m'test____t-4'\u001b[0m, \u001b[33mvalue\u001b[0m=\u001b[32m'test____016____005'\u001b[0m, \u001b[33mstatus\u001b[0m=\u001b[1;36m16\u001b[0m\u001b[1m)\u001b[0m\n"
      ]
     },
     "metadata": {},
     "output_type": "display_data"
    },
    {
     "data": {
      "text/html": [
       "<pre style=\"white-space:pre;overflow-x:auto;line-height:normal;font-family:Menlo,'DejaVu Sans Mono',consolas,'Courier New',monospace\"><span style=\"color: #800080; text-decoration-color: #800080; font-weight: bold\">Step1</span><span style=\"font-weight: bold\">(</span><span style=\"color: #808000; text-decoration-color: #808000\">create_time</span>=<span style=\"color: #800080; text-decoration-color: #800080; font-weight: bold\">datetime</span><span style=\"color: #800080; text-decoration-color: #800080; font-weight: bold\">.datetime</span><span style=\"font-weight: bold\">(</span><span style=\"color: #008080; text-decoration-color: #008080; font-weight: bold\">2024</span>, <span style=\"color: #008080; text-decoration-color: #008080; font-weight: bold\">6</span>, <span style=\"color: #008080; text-decoration-color: #008080; font-weight: bold\">6</span>, <span style=\"color: #008080; text-decoration-color: #008080; font-weight: bold\">2</span>, <span style=\"color: #008080; text-decoration-color: #008080; font-weight: bold\">56</span>, <span style=\"color: #008080; text-decoration-color: #008080; font-weight: bold\">37</span>, <span style=\"color: #008080; text-decoration-color: #008080; font-weight: bold\">751521</span>, <span style=\"color: #808000; text-decoration-color: #808000\">tzinfo</span>=<span style=\"color: #800080; text-decoration-color: #800080\">datetime</span>.timezone.utc<span style=\"font-weight: bold\">)</span>, \n",
       "<span style=\"color: #808000; text-decoration-color: #808000\">data</span>=<span style=\"font-weight: bold\">{</span><span style=\"color: #008000; text-decoration-color: #008000\">'status_code'</span>: <span style=\"color: #008080; text-decoration-color: #008080; font-weight: bold\">18</span><span style=\"font-weight: bold\">}</span>, <span style=\"color: #808000; text-decoration-color: #808000\">errors</span>=<span style=\"font-weight: bold\">{</span><span style=\"color: #008000; text-decoration-color: #008000\">'history'</span>: <span style=\"font-weight: bold\">[]}</span>, <span style=\"color: #808000; text-decoration-color: #808000\">lock</span>=<span style=\"color: #008000; text-decoration-color: #008000\">'__not_locked__'</span>, <span style=\"color: #808000; text-decoration-color: #808000\">lock_time</span>=<span style=\"color: #800080; text-decoration-color: #800080; font-weight: bold\">datetime</span><span style=\"color: #800080; text-decoration-color: #800080; font-weight: bold\">.datetime</span><span style=\"font-weight: bold\">(</span><span style=\"color: #008080; text-decoration-color: #008080; font-weight: bold\">1970</span>, <span style=\"color: #008080; text-decoration-color: #008080; font-weight: bold\">1</span>, <span style=\"color: #008080; text-decoration-color: #008080; font-weight: bold\">1</span>, <span style=\"color: #008080; text-decoration-color: #008080; font-weight: bold\">0</span>,\n",
       "<span style=\"color: #008080; text-decoration-color: #008080; font-weight: bold\">0</span>, <span style=\"color: #808000; text-decoration-color: #808000\">tzinfo</span>=<span style=\"color: #800080; text-decoration-color: #800080\">datetime</span>.timezone.utc<span style=\"font-weight: bold\">)</span>, <span style=\"color: #808000; text-decoration-color: #808000\">retry</span>=<span style=\"color: #008080; text-decoration-color: #008080; font-weight: bold\">0</span>, <span style=\"color: #808000; text-decoration-color: #808000\">update_time</span>=<span style=\"color: #800080; text-decoration-color: #800080; font-weight: bold\">datetime</span><span style=\"color: #800080; text-decoration-color: #800080; font-weight: bold\">.datetime</span><span style=\"font-weight: bold\">(</span><span style=\"color: #008080; text-decoration-color: #008080; font-weight: bold\">2024</span>, <span style=\"color: #008080; text-decoration-color: #008080; font-weight: bold\">6</span>, <span style=\"color: #008080; text-decoration-color: #008080; font-weight: bold\">6</span>, <span style=\"color: #008080; text-decoration-color: #008080; font-weight: bold\">2</span>, <span style=\"color: #008080; text-decoration-color: #008080; font-weight: bold\">56</span>, <span style=\"color: #008080; text-decoration-color: #008080; font-weight: bold\">37</span>, <span style=\"color: #008080; text-decoration-color: #008080; font-weight: bold\">751535</span>, \n",
       "<span style=\"color: #808000; text-decoration-color: #808000\">tzinfo</span>=<span style=\"color: #800080; text-decoration-color: #800080\">datetime</span>.timezone.utc<span style=\"font-weight: bold\">)</span>, <span style=\"color: #808000; text-decoration-color: #808000\">key</span>=<span style=\"color: #008000; text-decoration-color: #008000\">'test____t-5'</span>, <span style=\"color: #808000; text-decoration-color: #808000\">value</span>=<span style=\"color: #008000; text-decoration-color: #008000\">'test____018____004'</span>, <span style=\"color: #808000; text-decoration-color: #808000\">status</span>=<span style=\"color: #008080; text-decoration-color: #008080; font-weight: bold\">18</span><span style=\"font-weight: bold\">)</span>\n",
       "</pre>\n"
      ],
      "text/plain": [
       "\u001b[1;35mStep1\u001b[0m\u001b[1m(\u001b[0m\u001b[33mcreate_time\u001b[0m=\u001b[1;35mdatetime\u001b[0m\u001b[1;35m.datetime\u001b[0m\u001b[1m(\u001b[0m\u001b[1;36m2024\u001b[0m, \u001b[1;36m6\u001b[0m, \u001b[1;36m6\u001b[0m, \u001b[1;36m2\u001b[0m, \u001b[1;36m56\u001b[0m, \u001b[1;36m37\u001b[0m, \u001b[1;36m751521\u001b[0m, \u001b[33mtzinfo\u001b[0m=\u001b[35mdatetime\u001b[0m.timezone.utc\u001b[1m)\u001b[0m, \n",
       "\u001b[33mdata\u001b[0m=\u001b[1m{\u001b[0m\u001b[32m'status_code'\u001b[0m: \u001b[1;36m18\u001b[0m\u001b[1m}\u001b[0m, \u001b[33merrors\u001b[0m=\u001b[1m{\u001b[0m\u001b[32m'history'\u001b[0m: \u001b[1m[\u001b[0m\u001b[1m]\u001b[0m\u001b[1m}\u001b[0m, \u001b[33mlock\u001b[0m=\u001b[32m'__not_locked__'\u001b[0m, \u001b[33mlock_time\u001b[0m=\u001b[1;35mdatetime\u001b[0m\u001b[1;35m.datetime\u001b[0m\u001b[1m(\u001b[0m\u001b[1;36m1970\u001b[0m, \u001b[1;36m1\u001b[0m, \u001b[1;36m1\u001b[0m, \u001b[1;36m0\u001b[0m,\n",
       "\u001b[1;36m0\u001b[0m, \u001b[33mtzinfo\u001b[0m=\u001b[35mdatetime\u001b[0m.timezone.utc\u001b[1m)\u001b[0m, \u001b[33mretry\u001b[0m=\u001b[1;36m0\u001b[0m, \u001b[33mupdate_time\u001b[0m=\u001b[1;35mdatetime\u001b[0m\u001b[1;35m.datetime\u001b[0m\u001b[1m(\u001b[0m\u001b[1;36m2024\u001b[0m, \u001b[1;36m6\u001b[0m, \u001b[1;36m6\u001b[0m, \u001b[1;36m2\u001b[0m, \u001b[1;36m56\u001b[0m, \u001b[1;36m37\u001b[0m, \u001b[1;36m751535\u001b[0m, \n",
       "\u001b[33mtzinfo\u001b[0m=\u001b[35mdatetime\u001b[0m.timezone.utc\u001b[1m)\u001b[0m, \u001b[33mkey\u001b[0m=\u001b[32m'test____t-5'\u001b[0m, \u001b[33mvalue\u001b[0m=\u001b[32m'test____018____004'\u001b[0m, \u001b[33mstatus\u001b[0m=\u001b[1;36m18\u001b[0m\u001b[1m)\u001b[0m\n"
      ]
     },
     "metadata": {},
     "output_type": "display_data"
    }
   ],
   "source": [
    "# create some test data\n",
    "Step1.delete_all()\n",
    "with Step1.batch_write() as batch:\n",
    "    for ith, status_enum in enumerate(Step1StatusEnum, start=1):\n",
    "        step1 = Step1.make(\n",
    "            task_id=f\"t-{ith}\",\n",
    "            _status=status_enum.value,\n",
    "            data={\"status_code\": status_enum.value},\n",
    "        )\n",
    "        batch.save(step1)\n",
    "        rprint(step1)"
   ]
  },
  {
   "cell_type": "markdown",
   "metadata": {
    "collapsed": false,
    "jupyter": {
     "outputs_hidden": false
    },
    "pycharm": {
     "name": "#%% md\n"
    }
   },
   "source": [
    "``query_by_status()`` method uses the Global Secondary Index (GSI) under the hood. The GSI index defined by ``pynamodb_mate`` uses `INCLUDE PROJECTION <https://docs.aws.amazon.com/amazondynamodb/latest/APIReference/API_Projection.html>`_ that only returns the task_id, status, update_time when querying the index. By default, you need to call ``task.refresh()`` method to get the value of all attributes from DynamoDB. You can also do ``query_by_status(..., auto_refresh=True)`` to automatically refresh the data attributes."
   ]
  },
  {
   "cell_type": "code",
   "execution_count": 28,
   "metadata": {
    "ExecuteTime": {
     "end_time": "2024-05-23T05:46:33.858267Z",
     "start_time": "2024-05-23T05:46:32.966958Z"
    },
    "collapsed": false,
    "jupyter": {
     "outputs_hidden": false
    },
    "pycharm": {
     "name": "#%%\n"
    }
   },
   "outputs": [
    {
     "name": "stdout",
     "output_type": "stream",
     "text": [
      "by default, the `data` attributes is the default value (set by ORM model)\n"
     ]
    },
    {
     "data": {
      "text/html": [
       "<pre style=\"white-space:pre;overflow-x:auto;line-height:normal;font-family:Menlo,'DejaVu Sans Mono',consolas,'Courier New',monospace\"><span style=\"font-weight: bold\">{}</span>\n",
       "</pre>\n"
      ],
      "text/plain": [
       "\u001b[1m{\u001b[0m\u001b[1m}\u001b[0m\n"
      ]
     },
     "metadata": {},
     "output_type": "display_data"
    },
    {
     "name": "stdout",
     "output_type": "stream",
     "text": [
      "after refresh, the `data` attributes is the real value \n"
     ]
    },
    {
     "data": {
      "text/html": [
       "<pre style=\"white-space:pre;overflow-x:auto;line-height:normal;font-family:Menlo,'DejaVu Sans Mono',consolas,'Courier New',monospace\"><span style=\"font-weight: bold\">{</span><span style=\"color: #008000; text-decoration-color: #008000\">'status_code'</span>: <span style=\"color: #008080; text-decoration-color: #008080; font-weight: bold\">16</span><span style=\"font-weight: bold\">}</span>\n",
       "</pre>\n"
      ],
      "text/plain": [
       "\u001b[1m{\u001b[0m\u001b[32m'status_code'\u001b[0m: \u001b[1;36m16\u001b[0m\u001b[1m}\u001b[0m\n"
      ]
     },
     "metadata": {},
     "output_type": "display_data"
    }
   ],
   "source": [
    "for step1 in Step1.query_by_status(status=Step1StatusEnum.succeeded):\n",
    "    print(\"by default, the `data` attributes is the default value (set by ORM model)\")\n",
    "    rprint(step1.data)\n",
    "    print(\"after refresh, the `data` attributes is the real value \")\n",
    "    step1.refresh()\n",
    "    rprint(step1.data)"
   ]
  },
  {
   "cell_type": "code",
   "execution_count": 29,
   "metadata": {
    "ExecuteTime": {
     "end_time": "2024-05-23T05:46:58.713866Z",
     "start_time": "2024-05-23T05:46:58.593020Z"
    },
    "collapsed": false,
    "jupyter": {
     "outputs_hidden": false
    },
    "pycharm": {
     "name": "#%%\n"
    }
   },
   "outputs": [
    {
     "name": "stdout",
     "output_type": "stream",
     "text": [
      "With auto_refresh = True, the `data` attributes is the real value \n"
     ]
    },
    {
     "data": {
      "text/html": [
       "<pre style=\"white-space:pre;overflow-x:auto;line-height:normal;font-family:Menlo,'DejaVu Sans Mono',consolas,'Courier New',monospace\"><span style=\"font-weight: bold\">{</span><span style=\"color: #008000; text-decoration-color: #008000\">'status_code'</span>: <span style=\"color: #008080; text-decoration-color: #008080; font-weight: bold\">18</span><span style=\"font-weight: bold\">}</span>\n",
       "</pre>\n"
      ],
      "text/plain": [
       "\u001b[1m{\u001b[0m\u001b[32m'status_code'\u001b[0m: \u001b[1;36m18\u001b[0m\u001b[1m}\u001b[0m\n"
      ]
     },
     "metadata": {},
     "output_type": "display_data"
    }
   ],
   "source": [
    "print(\"With auto_refresh = True, the `data` attributes is the real value \")\n",
    "for step1 in step1.query_by_status(Step1StatusEnum.ignored, auto_refresh=True):\n",
    "    rprint(step1.data)"
   ]
  },
  {
   "cell_type": "markdown",
   "metadata": {
    "collapsed": false,
    "jupyter": {
     "outputs_hidden": false
    }
   },
   "source": [
    "## GSI Sharding on Status Attribute\n",
    "\n",
    "To query tasks by status code, we need to use a GSI (Global Secondary Index) that uses the status attribute as the hash key. However, the status attribute doesn't have good cardinality, as it only has 5 different values. If you have a large number of tasks, the GSI can become very unbalanced. We can use the [GSI Sharding technique](https://docs.aws.amazon.com/amazondynamodb/latest/developerguide/GSI.html) to optimize this.\n",
    "\n",
    "In production, a healthy task execution system usually ends up with most tasks succeeded in history, a constant number of tasks in progress, and a small number of tasks in pending, failed, and ignored states. ``pynamodb_mate`` allows you to split succeeded tasks into many shards while keeping the other statuses in fewer shards. Since you need to query all shards and merge the results when performing a query, this strategy can make the GSI query more efficient when querying non-succeeded tasks (less shard to merge) and evenly distribute the succeeded tasks in the GSI.\n",
    "\n",
    "The `TrackerConfig` class has the following parameters to control the GSI sharding:\n",
    "\n",
    "```python\n",
    "class Step1(Task):\n",
    "    status_and_update_time_index = st.StatusAndUpdateTimeIndex()\n",
    "\n",
    "    config = st.TrackerConfig.make(\n",
    "        use_case_id=\"test\",\n",
    "        pending_status=Step1StatusEnum.pending.value,\n",
    "        in_progress_status=Step1StatusEnum.in_progress.value,\n",
    "        failed_status=Step1StatusEnum.failed.value,\n",
    "        succeeded_status=Step1StatusEnum.succeeded.value,\n",
    "        ignored_status=Step1StatusEnum.ignored.value,\n",
    "        n_pending_shard=5, # <--- number of shards\n",
    "        n_in_progress_shard=5, # <--- number of shards\n",
    "        n_failed_shard=5, # <--- number of shards\n",
    "        n_succeeded_shard=10, # <--- number of shards\n",
    "        n_ignored_shard=5, # <--- number of shards\n",
    "        status_zero_pad=3,\n",
    "        status_shard_zero_pad=3, # <--- number of zero pad for shard id\n",
    "        max_retry=3,\n",
    "        lock_expire_seconds=60,\n",
    "    )\n",
    "```\n",
    "\n",
    "You don't have to explicitly specify the shard ID when using the ``Task.query_by_status(status=...)`` API. It will automatically query all shards and merge the results for you. However, if you really want to query a specific shard, you can use the GSI index object directly. The ``Task.make_value(...)`` method can help you generate the GSI hash key value."
   ]
  },
  {
   "cell_type": "code",
   "execution_count": 30,
   "metadata": {
    "ExecuteTime": {
     "end_time": "2024-05-23T06:01:57.566164Z",
     "start_time": "2024-05-23T06:01:57.523576Z"
    },
    "collapsed": false,
    "jupyter": {
     "outputs_hidden": false
    }
   },
   "outputs": [],
   "source": [
    "for step1 in Step1.status_and_update_time_index.query(\n",
    "    hash_key=Step1.make_value(\n",
    "        status=Step1StatusEnum.succeeded.value,\n",
    "        _shard_id=2,\n",
    "    ),\n",
    "):\n",
    "    step1.refresh()\n",
    "    rprint(f\"{step1.to_dict()}\")"
   ]
  },
  {
   "cell_type": "markdown",
   "metadata": {
    "collapsed": false,
    "jupyter": {
     "outputs_hidden": false
    },
    "pycharm": {
     "name": "#%% md\n"
    }
   },
   "source": [
    "## Conclusion\n",
    "\n",
    "In general, this solution can improve the visibility, resilience and reliability of a business critical application. There’s no upfront effort to use this solution, because DynamoDB is a fully managed service. Naturally, it is scalable to adapt to very high workload or unpredictable workload.\n",
    "\n",
    "The usage of this solution is not limited to the above examples. If you see potential to use this solution in your business problems, please don’t hesitate to let us know by creating an [issue](https://github.com/MacHu-GWU/pynamodb_mate-project/issues)."
   ]
  }
 ],
 "metadata": {
  "kernelspec": {
   "display_name": "Python 3 (ipykernel)",
   "language": "python",
   "name": "python3"
  },
  "language_info": {
   "codemirror_mode": {
    "name": "ipython",
    "version": 3
   },
   "file_extension": ".py",
   "mimetype": "text/x-python",
   "name": "python",
   "nbconvert_exporter": "python",
   "pygments_lexer": "ipython3",
   "version": "3.8.13"
  }
 },
 "nbformat": 4,
 "nbformat_minor": 4
}

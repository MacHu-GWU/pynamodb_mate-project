{
 "cells": [
  {
   "cell_type": "markdown",
   "id": "a99c4da7f32f95c9",
   "metadata": {
    "collapsed": false,
    "jupyter": {
     "outputs_hidden": false
    }
   },
   "source": [
    "# Store Large Object in DynamoDB\n",
    "\n",
    "\n",
    "## Overview\n",
    "\n",
    "When storing large binary data in DynamoDB, AWS recommends saving the data in S3 and only keeping the S3 URI in DynamoDB. However, implementing this correctly can be challenging. This article will demonstrate the best practices for this pattern and provide code examples using the [pynamodb_mate](https://github.com/MacHu-GWU/pynamodb_mate-project) library to implement this pattern.\n",
    " \n",
    "\n",
    "## Data Consistency across DynamoDB and S3\n",
    "\n",
    "The AWS official documentation \"[Best practices for storing large items and attributes](https://docs.aws.amazon.com/amazondynamodb/latest/developerguide/bp-use-s3-too.html)\" explicitly states that AWS cannot guarantee dual-write consistency between DynamoDB and S3. This article focuses on addressing this issue.\n",
    "\n",
    "Firstly, **we need to determine the order of write operations to DynamoDB and S3**. Can they be performed simultaneously? I believe that simultaneous writing can be ruled out. The latency of writing to S3 is significantly higher than writing to DynamoDB, making parallel execution less meaningful. Moreover, during an update operation, there might be other attributes that need to be updated alongside the binary attributes. For instance, the ``update_at`` attribute can reflect the modification time of the DynamoDB item. Logically, this ``update_at`` attribute should only be written to DynamoDB after all the S3 write operations are completed.\n",
    "Let's discuss the two options for the write operations:\n",
    "\n",
    "1. **Write to DynamoDB first**, then write to S3: This approach is not ideal. If the write operation to S3 fails after successfully writing to DynamoDB, which can be a lengthy process, dirty data may be read during this period. Additionally, if the S3 write fails, you need to roll back the DynamoDB data to its previous state, which is complex and error-prone.\n",
    "2. **Write to S3 first, then write to DynamoDB**: This approach is better. When writing to S3, you can create a new object. If an error occurs while writing to DynamoDB later, you can do nothing without impacting data consistency. If the write to S3 fails, you can fail directly.\n",
    "\n",
    "You may need to catch exceptions and delete unused data, depending on whether you need to remove unused data immediately. Some projects require retaining historical records, while others can batch delete unused data after a certain period.\n",
    "\n",
    "Deletion is slightly different. Generally, you delete from DynamoDB first and then from S3. If you delete from S3 first and the DynamoDB deletion fails, a read request coming in would find that the data in S3 is missing, causing logical confusion. On the other hand, if you delete from DynamoDB first, even if the S3 deletion fails, it doesn't matter because the S3 data is no longer needed and can be deleted later in a batch cleanup program.\n",
    "\n",
    "**In conclusion, when creating or updating, you should write to S3 first and then write to DynamoDB. When deleting, delete from DynamoDB first and then from S3**.\n",
    "\n",
    "\n",
    "## S3 Key Naming Convention\n",
    "\n",
    "When storing data that should be in DynamoDB on S3, there are many strategies for choosing the S3 location. Here are a few common approaches:\n",
    "\n",
    "1. **Content-based**: The S3 key is based on the hash of the content. This helps eliminate duplicates and avoids overwrites. The advantage of this approach is that there is no risk of overwriting useful data. The downside is that when deleting data from S3, you need to check if the object is referenced by other DynamoDB items, which can be complex.\n",
    "2. **Based on pk and sk**: Since the combination of pk and sk is unique, using them together as the S3 key is also a good choice. However, it's important to note that the compound key of pk and sk cannot be used as the final key because it may overwrite correct data in case of failures during dual-write operations. This compound key should exist as a prefix.\n",
    "\n",
    "**Conclusion**: We choose to use ``${prefix}/${pk}/${sk}/${content_hash}`` as the S3 key, where ``prefix`` is a custom root directory. This approach combines the advantages of both strategies, ensuring that there is no overwriting of useful data and eliminating the need to worry about objects being referenced by other DynamoDB items when deleting data.\n",
    "\n",
    "## Code Example using pynamodb_mate\n",
    "\n",
    "### Declare the Model\n",
    "\n",
    "``pynamodb_mate`` provides an elegant way to use this pattern. Firstly, you need to create a DynamoDB ORM model and inject the ``LargeAttributeMixin`` mixin class to enable this feature."
   ]
  },
  {
   "cell_type": "code",
   "execution_count": 1,
   "id": "137b8ea5b8baad65",
   "metadata": {
    "ExecuteTime": {
     "end_time": "2024-05-22T18:44:00.883897Z",
     "start_time": "2024-05-22T18:44:00.880147Z"
    },
    "collapsed": false,
    "jupyter": {
     "outputs_hidden": false
    }
   },
   "outputs": [],
   "source": [
    "import pynamodb_mate.api as pm\n",
    "from boto_session_manager import BotoSesManager\n",
    "from s3pathlib import S3Path, context # for demo only\n",
    "from rich import print as rprint # for demo only\n",
    "\n",
    "class Document(pm.Model, pm.patterns.large_attribute.LargeAttributeMixin):\n",
    "    class Meta:\n",
    "        table_name = f\"pynamodb-mate-test-large-attribute\"\n",
    "        region = \"us-east-1\"\n",
    "        billing_mode = pm.constants.PAY_PER_REQUEST_BILLING_MODE\n",
    "\n",
    "    pk = pm.UnicodeAttribute(hash_key=True)\n",
    "    # this attribute track the last update time of the item\n",
    "    update_at = pm.UTCDateTimeAttribute()\n",
    "    # you can declare multiple large attributes in one model.\n",
    "    html = pm.UnicodeAttribute(null=True)\n",
    "    image = pm.UnicodeAttribute(null=True)\n",
    "    # this attribute to store arbitrary user data\n",
    "    data = pm.JSONAttribute()"
   ]
  },
  {
   "cell_type": "markdown",
   "id": "b63315561c65a039",
   "metadata": {
    "collapsed": false,
    "jupyter": {
     "outputs_hidden": false
    }
   },
   "source": [
    "### Define the AWS Configuration\n",
    "\n",
    "Then we need to define:\n",
    "\n",
    "- Define which AWS credentials (boto3 session) to use.\n",
    "- Tell pynamodb_mate to use the specified boto3 session.\n",
    "- Create the DynamoDB table.\n",
    "- Define an S3 location to store the large attribute data.\n",
    "- Prepare some helper functions."
   ]
  },
  {
   "cell_type": "code",
   "execution_count": 2,
   "id": "ca4fee0ccaeb6b6",
   "metadata": {
    "ExecuteTime": {
     "end_time": "2024-05-22T18:42:47.265823Z",
     "start_time": "2024-05-22T18:42:46.990522Z"
    },
    "collapsed": false,
    "jupyter": {
     "outputs_hidden": false
    }
   },
   "outputs": [],
   "source": [
    "from datetime import datetime, timezone\n",
    "\n",
    "# define boto session using default profile, I prefer to use boto_session_manager,\n",
    "# however, you can use the native boto3\n",
    "bsm = BotoSesManager()\n",
    "# Tell s3pathlib to use this boto session\n",
    "# s3pathlib is NOT a required library, it is used to simplify writing this demo.\n",
    "context.attach_boto_session(bsm.boto_ses)\n",
    "# Tell pynamodb_mate to use this boto session for DynamoDB connection\n",
    "conn = pm.Connection()\n",
    "# Create Table\n",
    "Document.create_table(wait=True)\n",
    "# Define S3 Bucket and Prefix\n",
    "BUCKET = f\"{bsm.aws_account_alias}-{bsm.aws_region}-data\"\n",
    "PREFIX = f\"projects/pynamodb_mate/examples/large_attribute/\"\n",
    "\n",
    "def get_utc_now() -> datetime:\n",
    "    return datetime.utcnow().replace(tzinfo=timezone.utc)"
   ]
  },
  {
   "cell_type": "markdown",
   "id": "4e5b339be14e8d7c",
   "metadata": {
    "collapsed": false,
    "jupyter": {
     "outputs_hidden": false
    }
   },
   "source": [
    "### Clean Up S3 prefix and DynamoDB Table\n",
    "\n",
    "This is for demo only. I would like to ensure that I have a clean S3 bucket and DynamoDB table at start."
   ]
  },
  {
   "cell_type": "code",
   "execution_count": 3,
   "id": "690078dffdae7269",
   "metadata": {
    "ExecuteTime": {
     "end_time": "2024-05-22T19:28:55.358117Z",
     "start_time": "2024-05-22T19:28:54.838023Z"
    },
    "collapsed": false,
    "jupyter": {
     "outputs_hidden": false
    }
   },
   "outputs": [
    {
     "data": {
      "text/plain": [
       "0"
      ]
     },
     "execution_count": 3,
     "metadata": {},
     "output_type": "execute_result"
    }
   ],
   "source": [
    "S3Path(f\"s3://{BUCKET}/{PREFIX}\").to_dir().delete()\n",
    "Document.delete_all()"
   ]
  },
  {
   "cell_type": "markdown",
   "id": "22ae82b67c01965e",
   "metadata": {
    "collapsed": false,
    "jupyter": {
     "outputs_hidden": false
    }
   },
   "source": [
    "### Two API styles\n",
    "\n",
    "``pynamodb_mate`` provides two API styles: **Transaction API** and **Step-by-Step API**.\n",
    "\n",
    "The **Transaction API** allows users to use a single Python function to create/update/delete the DynamoDB item and its underlying S3 objects. It automatically manages the data consistency between DynamoDB and S3.\n",
    "\n",
    "The **Step-by-Step API** allows users to use one Python function to interact with S3 and another Python function to interact with DynamoDB. Users need to manually manage the data consistency between DynamoDB and S3.\n",
    "\n",
    "\n",
    "### Transaction API example"
   ]
  },
  {
   "cell_type": "markdown",
   "id": "3d6dee3bd06e08bd",
   "metadata": {
    "collapsed": false,
    "jupyter": {
     "outputs_hidden": false
    }
   },
   "source": [
    "#### Transaction API example - Create"
   ]
  },
  {
   "cell_type": "code",
   "execution_count": 4,
   "id": "9eb5990ea6410ac2",
   "metadata": {
    "ExecuteTime": {
     "end_time": "2024-05-22T19:17:12.748153Z",
     "start_time": "2024-05-22T19:17:12.500154Z"
    },
    "collapsed": false,
    "jupyter": {
     "outputs_hidden": false
    }
   },
   "outputs": [
    {
     "data": {
      "text/html": [
       "<pre style=\"white-space:pre;overflow-x:auto;line-height:normal;font-family:Menlo,'DejaVu Sans Mono',consolas,'Courier New',monospace\"><span style=\"font-weight: bold\">{</span>\n",
       "    <span style=\"color: #008000; text-decoration-color: #008000\">'pk'</span>: <span style=\"color: #008000; text-decoration-color: #008000\">'id-1'</span>,\n",
       "    <span style=\"color: #008000; text-decoration-color: #008000\">'update_at'</span>: <span style=\"color: #800080; text-decoration-color: #800080; font-weight: bold\">datetime.datetime</span><span style=\"font-weight: bold\">(</span><span style=\"color: #008080; text-decoration-color: #008080; font-weight: bold\">2024</span>, <span style=\"color: #008080; text-decoration-color: #008080; font-weight: bold\">5</span>, <span style=\"color: #008080; text-decoration-color: #008080; font-weight: bold\">22</span>, <span style=\"color: #008080; text-decoration-color: #008080; font-weight: bold\">19</span>, <span style=\"color: #008080; text-decoration-color: #008080; font-weight: bold\">38</span>, <span style=\"color: #008080; text-decoration-color: #008080; font-weight: bold\">4</span>, <span style=\"color: #008080; text-decoration-color: #008080; font-weight: bold\">832978</span>, <span style=\"color: #808000; text-decoration-color: #808000\">tzinfo</span>=<span style=\"color: #800080; text-decoration-color: #800080\">datetime</span>.timezone.utc<span style=\"font-weight: bold\">)</span>,\n",
       "    <span style=\"color: #008000; text-decoration-color: #008000\">'data'</span>: <span style=\"font-weight: bold\">{</span><span style=\"color: #008000; text-decoration-color: #008000\">'version'</span>: <span style=\"color: #008080; text-decoration-color: #008080; font-weight: bold\">1</span><span style=\"font-weight: bold\">}</span>,\n",
       "    <span style=\"color: #008000; text-decoration-color: #008000\">'html'</span>: \n",
       "<span style=\"color: #008000; text-decoration-color: #008000\">'s3://bmt-app-dev-us-east-1-data/projects/pynamodb_mate/examples/large_attribute/pk=id-1/attr=html/md5=e5b18880e771</span>\n",
       "<span style=\"color: #008000; text-decoration-color: #008000\">8115f0ca78e83a09aaf1'</span>,\n",
       "    <span style=\"color: #008000; text-decoration-color: #008000\">'image'</span>: \n",
       "<span style=\"color: #008000; text-decoration-color: #008000\">'s3://bmt-app-dev-us-east-1-data/projects/pynamodb_mate/examples/large_attribute/pk=id-1/attr=image/md5=3858da33fd1</span>\n",
       "<span style=\"color: #008000; text-decoration-color: #008000\">a3c1a5d2a3c7df96e55a7'</span>\n",
       "<span style=\"font-weight: bold\">}</span>\n",
       "</pre>\n"
      ],
      "text/plain": [
       "\u001b[1m{\u001b[0m\n",
       "    \u001b[32m'pk'\u001b[0m: \u001b[32m'id-1'\u001b[0m,\n",
       "    \u001b[32m'update_at'\u001b[0m: \u001b[1;35mdatetime.datetime\u001b[0m\u001b[1m(\u001b[0m\u001b[1;36m2024\u001b[0m, \u001b[1;36m5\u001b[0m, \u001b[1;36m22\u001b[0m, \u001b[1;36m19\u001b[0m, \u001b[1;36m38\u001b[0m, \u001b[1;36m4\u001b[0m, \u001b[1;36m832978\u001b[0m, \u001b[33mtzinfo\u001b[0m=\u001b[35mdatetime\u001b[0m.timezone.utc\u001b[1m)\u001b[0m,\n",
       "    \u001b[32m'data'\u001b[0m: \u001b[1m{\u001b[0m\u001b[32m'version'\u001b[0m: \u001b[1;36m1\u001b[0m\u001b[1m}\u001b[0m,\n",
       "    \u001b[32m'html'\u001b[0m: \n",
       "\u001b[32m's3://bmt-app-dev-us-east-1-data/projects/pynamodb_mate/examples/large_attribute/\u001b[0m\u001b[32mpk\u001b[0m\u001b[32m=\u001b[0m\u001b[32mid\u001b[0m\u001b[32m-1/\u001b[0m\u001b[32mattr\u001b[0m\u001b[32m=\u001b[0m\u001b[32mhtml\u001b[0m\u001b[32m/\u001b[0m\u001b[32mmd5\u001b[0m\u001b[32m=\u001b[0m\u001b[32me5b18880e771\u001b[0m\n",
       "\u001b[32m8115f0ca78e83a09aaf1\u001b[0m\u001b[32m'\u001b[0m,\n",
       "    \u001b[32m'image'\u001b[0m: \n",
       "\u001b[32m's3://bmt-app-dev-us-east-1-data/projects/pynamodb_mate/examples/large_attribute/\u001b[0m\u001b[32mpk\u001b[0m\u001b[32m=\u001b[0m\u001b[32mid\u001b[0m\u001b[32m-1/\u001b[0m\u001b[32mattr\u001b[0m\u001b[32m=\u001b[0m\u001b[32mimage\u001b[0m\u001b[32m/\u001b[0m\u001b[32mmd5\u001b[0m\u001b[32m=\u001b[0m\u001b[32m3858da33fd1\u001b[0m\n",
       "\u001b[32ma3c1a5d2a3c7df96e55a7\u001b[0m\u001b[32m'\u001b[0m\n",
       "\u001b[1m}\u001b[0m\n"
      ]
     },
     "metadata": {},
     "output_type": "display_data"
    }
   ],
   "source": [
    "pk = \"id-1\"\n",
    "sk = None\n",
    "html_data = \"<b>Hello Alice</b>\".encode(\"utf-8\")\n",
    "image_data = \"this is image one\".encode(\"utf-8\")\n",
    "utc_now = get_utc_now()\n",
    "\n",
    "new_doc = Document.create_large_attribute_item(\n",
    "    # ``boto3.client(\"s3\")`` object\n",
    "    s3_client=bsm.s3_client, \n",
    "    # hash key value of the DynamoDB item.\n",
    "    pk=pk,\n",
    "    # range key value if your DynamoDB table has range key, otherwise use None.\n",
    "    sk=sk,\n",
    "    # key value mapper in Python dictionary for large attribute name\n",
    "    # and binary data. All data has to be encoded in binary format.\n",
    "    kvs=dict(html=html_data, image=image_data),\n",
    "    # S3 bucket to store the large attribute data.\n",
    "    bucket=BUCKET,\n",
    "    # S3 prefix to store the large attribute data, the final S3 key\n",
    "    # would be ``s3://{bucket}/{prefix}/pk={pk}/sk={sk}/attr={attr}/md5={md5}``.\n",
    "    prefix=PREFIX,\n",
    "    # the update time of the DynamoDB item, it will be stored\n",
    "    # in the S3 object metadata as well.\n",
    "    update_at=utc_now,\n",
    "    # additional DynamoDB item attributes other than\n",
    "    # large attributes you want to set.\n",
    "    attributes=dict(\n",
    "        update_at=utc_now, \n",
    "        data={\"version\": 1},\n",
    "    ),\n",
    "    # if True, if S3 write succeeded and DynamoDB create item failed, \n",
    "    # the created S3 object will be deleted.\n",
    "    clean_up_when_failed=True,\n",
    ")\n",
    "rprint(new_doc.to_dict())"
   ]
  },
  {
   "cell_type": "code",
   "execution_count": 5,
   "id": "74ebab60c4f2a105",
   "metadata": {
    "ExecuteTime": {
     "end_time": "2024-05-22T19:20:31.911116Z",
     "start_time": "2024-05-22T19:20:31.747910Z"
    },
    "collapsed": false,
    "jupyter": {
     "outputs_hidden": false
    }
   },
   "outputs": [
    {
     "name": "stdout",
     "output_type": "stream",
     "text": [
      "html content = <b>Hello Alice</b>\n",
      "image content = b'this is image one'\n"
     ]
    }
   ],
   "source": [
    "print(f\"html content = {S3Path(new_doc.html).read_text()}\")\n",
    "print(f\"image content = {S3Path(new_doc.image).read_bytes()}\")"
   ]
  },
  {
   "cell_type": "markdown",
   "id": "f3ef2a5b866eb312",
   "metadata": {
    "collapsed": false,
    "jupyter": {
     "outputs_hidden": false
    }
   },
   "source": [
    "#### Transaction API example - Update"
   ]
  },
  {
   "cell_type": "code",
   "execution_count": 6,
   "id": "44abb5c11c3eafe5",
   "metadata": {
    "ExecuteTime": {
     "end_time": "2024-05-22T19:17:13.385112Z",
     "start_time": "2024-05-22T19:17:13.109708Z"
    },
    "collapsed": false,
    "jupyter": {
     "outputs_hidden": false
    }
   },
   "outputs": [
    {
     "data": {
      "text/html": [
       "<pre style=\"white-space:pre;overflow-x:auto;line-height:normal;font-family:Menlo,'DejaVu Sans Mono',consolas,'Courier New',monospace\"><span style=\"font-weight: bold\">{</span>\n",
       "    <span style=\"color: #008000; text-decoration-color: #008000\">'data'</span>: <span style=\"font-weight: bold\">{</span><span style=\"color: #008000; text-decoration-color: #008000\">'version'</span>: <span style=\"color: #008080; text-decoration-color: #008080; font-weight: bold\">2</span><span style=\"font-weight: bold\">}</span>,\n",
       "    <span style=\"color: #008000; text-decoration-color: #008000\">'html'</span>: \n",
       "<span style=\"color: #008000; text-decoration-color: #008000\">'s3://bmt-app-dev-us-east-1-data/projects/pynamodb_mate/examples/large_attribute/pk=id-1/attr=html/md5=3f2ea18295a5</span>\n",
       "<span style=\"color: #008000; text-decoration-color: #008000\">c6ef85d081fe461a174f'</span>,\n",
       "    <span style=\"color: #008000; text-decoration-color: #008000\">'image'</span>: \n",
       "<span style=\"color: #008000; text-decoration-color: #008000\">'s3://bmt-app-dev-us-east-1-data/projects/pynamodb_mate/examples/large_attribute/pk=id-1/attr=image/md5=fd3543259e7</span>\n",
       "<span style=\"color: #008000; text-decoration-color: #008000\">c4982a601c1faceea287d'</span>,\n",
       "    <span style=\"color: #008000; text-decoration-color: #008000\">'pk'</span>: <span style=\"color: #008000; text-decoration-color: #008000\">'id-1'</span>,\n",
       "    <span style=\"color: #008000; text-decoration-color: #008000\">'update_at'</span>: <span style=\"color: #800080; text-decoration-color: #800080; font-weight: bold\">datetime.datetime</span><span style=\"font-weight: bold\">(</span><span style=\"color: #008080; text-decoration-color: #008080; font-weight: bold\">2024</span>, <span style=\"color: #008080; text-decoration-color: #008080; font-weight: bold\">5</span>, <span style=\"color: #008080; text-decoration-color: #008080; font-weight: bold\">22</span>, <span style=\"color: #008080; text-decoration-color: #008080; font-weight: bold\">19</span>, <span style=\"color: #008080; text-decoration-color: #008080; font-weight: bold\">38</span>, <span style=\"color: #008080; text-decoration-color: #008080; font-weight: bold\">5</span>, <span style=\"color: #008080; text-decoration-color: #008080; font-weight: bold\">275310</span>, <span style=\"color: #808000; text-decoration-color: #808000\">tzinfo</span>=<span style=\"color: #800080; text-decoration-color: #800080\">datetime</span>.timezone.utc<span style=\"font-weight: bold\">)</span>\n",
       "<span style=\"font-weight: bold\">}</span>\n",
       "</pre>\n"
      ],
      "text/plain": [
       "\u001b[1m{\u001b[0m\n",
       "    \u001b[32m'data'\u001b[0m: \u001b[1m{\u001b[0m\u001b[32m'version'\u001b[0m: \u001b[1;36m2\u001b[0m\u001b[1m}\u001b[0m,\n",
       "    \u001b[32m'html'\u001b[0m: \n",
       "\u001b[32m's3://bmt-app-dev-us-east-1-data/projects/pynamodb_mate/examples/large_attribute/\u001b[0m\u001b[32mpk\u001b[0m\u001b[32m=\u001b[0m\u001b[32mid\u001b[0m\u001b[32m-1/\u001b[0m\u001b[32mattr\u001b[0m\u001b[32m=\u001b[0m\u001b[32mhtml\u001b[0m\u001b[32m/\u001b[0m\u001b[32mmd5\u001b[0m\u001b[32m=\u001b[0m\u001b[32m3f2ea18295a5\u001b[0m\n",
       "\u001b[32mc6ef85d081fe461a174f\u001b[0m\u001b[32m'\u001b[0m,\n",
       "    \u001b[32m'image'\u001b[0m: \n",
       "\u001b[32m's3://bmt-app-dev-us-east-1-data/projects/pynamodb_mate/examples/large_attribute/\u001b[0m\u001b[32mpk\u001b[0m\u001b[32m=\u001b[0m\u001b[32mid\u001b[0m\u001b[32m-1/\u001b[0m\u001b[32mattr\u001b[0m\u001b[32m=\u001b[0m\u001b[32mimage\u001b[0m\u001b[32m/\u001b[0m\u001b[32mmd5\u001b[0m\u001b[32m=\u001b[0m\u001b[32mfd3543259e7\u001b[0m\n",
       "\u001b[32mc4982a601c1faceea287d\u001b[0m\u001b[32m'\u001b[0m,\n",
       "    \u001b[32m'pk'\u001b[0m: \u001b[32m'id-1'\u001b[0m,\n",
       "    \u001b[32m'update_at'\u001b[0m: \u001b[1;35mdatetime.datetime\u001b[0m\u001b[1m(\u001b[0m\u001b[1;36m2024\u001b[0m, \u001b[1;36m5\u001b[0m, \u001b[1;36m22\u001b[0m, \u001b[1;36m19\u001b[0m, \u001b[1;36m38\u001b[0m, \u001b[1;36m5\u001b[0m, \u001b[1;36m275310\u001b[0m, \u001b[33mtzinfo\u001b[0m=\u001b[35mdatetime\u001b[0m.timezone.utc\u001b[1m)\u001b[0m\n",
       "\u001b[1m}\u001b[0m\n"
      ]
     },
     "metadata": {},
     "output_type": "display_data"
    }
   ],
   "source": [
    "html_data = \"<b>Hello Bob</b>\".encode(\"utf-8\")\n",
    "image_data = \"this is image two\".encode(\"utf-8\")\n",
    "old_doc = Document.get(pk, sk)\n",
    "utc_now = get_utc_now()\n",
    "\n",
    "new_doc = Document.update_large_attribute_item(\n",
    "# ``boto3.client(\"s3\")`` object\n",
    "    s3_client=bsm.s3_client, \n",
    "    # hash key value of the DynamoDB item.\n",
    "    pk=pk,\n",
    "    # range key value if your DynamoDB table has range key, otherwise use None.\n",
    "    sk=sk,\n",
    "    # key value mapper in Python dictionary for large attribute name\n",
    "    # and binary data. All data has to be encoded in binary format.\n",
    "    kvs=dict(html=html_data, image=image_data),\n",
    "    # S3 bucket to store the large attribute data.\n",
    "    bucket=BUCKET,\n",
    "    # S3 prefix to store the large attribute data, the final S3 key\n",
    "    # would be ``s3://{bucket}/{prefix}/pk={pk}/sk={sk}/attr={attr}/md5={md5}``.\n",
    "    prefix=PREFIX,\n",
    "    # the update time of the DynamoDB item, it will be stored\n",
    "    # in the S3 object metadata as well.\n",
    "    update_at=utc_now,\n",
    "    # additional DynamoDB item update expressions syntax \n",
    "    # other than large attributes you want to set. Please refer to\n",
    "    # https://pynamodb.readthedocs.io/en/latest/updates.html\n",
    "    update_actions=[\n",
    "        Document.update_at.set(utc_now),\n",
    "        Document.data.set({\"version\": 2}),\n",
    "    ],\n",
    "    # if True, if large attributes of old DynamoDB\n",
    "    # item got changed, the old S3 object will be deleted.\n",
    "    clean_up_when_succeeded=True,\n",
    "    # if Ture, if S3 write succeeded and DynamoDB update item failed, \n",
    "    # the created S3 object will be deleted.\n",
    "    clean_up_when_failed=True,\n",
    ")\n",
    "rprint(new_doc.to_dict())"
   ]
  },
  {
   "cell_type": "code",
   "execution_count": 7,
   "id": "2e26a9a426382b07",
   "metadata": {
    "ExecuteTime": {
     "end_time": "2024-05-22T19:17:13.496292Z",
     "start_time": "2024-05-22T19:17:13.383540Z"
    },
    "collapsed": false,
    "jupyter": {
     "outputs_hidden": false
    }
   },
   "outputs": [
    {
     "name": "stdout",
     "output_type": "stream",
     "text": [
      "S3Path(old_doc.html).exists(bsm=bsm) = False\n",
      "S3Path(old_doc.image).exists(bsm=bsm) = False\n"
     ]
    }
   ],
   "source": [
    "# S3 object of old document should be cleaned up\n",
    "print(f\"{S3Path(old_doc.html).exists(bsm=bsm) = }\")\n",
    "print(f\"{S3Path(old_doc.image).exists(bsm=bsm) = }\")"
   ]
  },
  {
   "cell_type": "code",
   "execution_count": 8,
   "id": "9129efea4b17c7e5",
   "metadata": {
    "ExecuteTime": {
     "end_time": "2024-05-22T19:27:33.429025Z",
     "start_time": "2024-05-22T19:27:33.252878Z"
    },
    "collapsed": false,
    "jupyter": {
     "outputs_hidden": false
    }
   },
   "outputs": [
    {
     "name": "stdout",
     "output_type": "stream",
     "text": [
      "html content = <b>Hello Bob</b>\n",
      "image content = b'this is image two'\n"
     ]
    }
   ],
   "source": [
    "# S3 object of new document should be created\n",
    "print(f\"html content = {S3Path(new_doc.html).read_text()}\")\n",
    "print(f\"image content = {S3Path(new_doc.image).read_bytes()}\")"
   ]
  },
  {
   "cell_type": "markdown",
   "id": "f0334653a6ea98a4",
   "metadata": {
    "collapsed": false,
    "jupyter": {
     "outputs_hidden": false
    }
   },
   "source": [
    "#### Transaction API example - Delete"
   ]
  },
  {
   "cell_type": "code",
   "execution_count": 9,
   "id": "99a2fbfed25a3633",
   "metadata": {
    "ExecuteTime": {
     "end_time": "2024-05-22T19:17:14.420444Z",
     "start_time": "2024-05-22T19:17:14.272643Z"
    },
    "collapsed": false,
    "jupyter": {
     "outputs_hidden": false
    }
   },
   "outputs": [
    {
     "name": "stdout",
     "output_type": "stream",
     "text": [
      "deleted_doc = None\n"
     ]
    }
   ],
   "source": [
    "old_doc = Document.get(pk, sk)\n",
    "Document.delete_large_attribute_item(\n",
    "    # ``boto3.client(\"s3\")`` object.\n",
    "    s3_client=bsm.s3_client,\n",
    "    # hash key value of the DynamoDB item.\n",
    "    pk=pk,\n",
    "    # range key value if your DynamoDB table has range key, otherwise use None.\n",
    "    sk=sk,\n",
    "    # list of large attribute names to delete. This is required when \n",
    "    # clean_up_when_succeeded is True. \n",
    "    # If clean_up_when_succeeded is False, this parameter has no effect.\n",
    "    attributes=[\n",
    "        Document.html.attr_name,\n",
    "        Document.image.attr_name,\n",
    "    ],\n",
    "    # if True, the corresponding S3 object will deleted after DynamoDB item been deleted.\n",
    "    clean_up_when_succeeded=True,\n",
    ")\n",
    "deleted_doc = Document.get_one_or_none(pk, sk)\n",
    "print(f\"{deleted_doc = }\")"
   ]
  },
  {
   "cell_type": "code",
   "execution_count": 10,
   "id": "4abd408b2962f0a0",
   "metadata": {
    "ExecuteTime": {
     "end_time": "2024-05-22T19:17:29.424805Z",
     "start_time": "2024-05-22T19:17:29.288744Z"
    },
    "collapsed": false,
    "jupyter": {
     "outputs_hidden": false
    }
   },
   "outputs": [
    {
     "name": "stdout",
     "output_type": "stream",
     "text": [
      "S3Path(old_doc.html).exists() = False\n",
      "S3Path(old_doc.image).exists() = False\n"
     ]
    }
   ],
   "source": [
    "# S3 object of old document should be cleaned up\n",
    "print(f\"{S3Path(old_doc.html).exists() = }\")\n",
    "print(f\"{S3Path(old_doc.image).exists() = }\")"
   ]
  },
  {
   "cell_type": "markdown",
   "id": "206290be99ff5f06",
   "metadata": {
    "collapsed": false,
    "jupyter": {
     "outputs_hidden": false
    }
   },
   "source": [
    "### Step-by-Step API example\n",
    "\n",
    "#### Step-by-Step API example - Create"
   ]
  },
  {
   "cell_type": "code",
   "execution_count": 11,
   "id": "3ef17e90c67cd29b",
   "metadata": {
    "ExecuteTime": {
     "end_time": "2024-05-22T19:29:07.254835Z",
     "start_time": "2024-05-22T19:29:07.034821Z"
    },
    "collapsed": false,
    "jupyter": {
     "outputs_hidden": false
    }
   },
   "outputs": [
    {
     "data": {
      "text/html": [
       "<pre style=\"white-space:pre;overflow-x:auto;line-height:normal;font-family:Menlo,'DejaVu Sans Mono',consolas,'Courier New',monospace\"><span style=\"color: #800080; text-decoration-color: #800080; font-weight: bold\">PutS3Response</span><span style=\"font-weight: bold\">(</span>\n",
       "    <span style=\"color: #808000; text-decoration-color: #808000\">actions</span>=<span style=\"font-weight: bold\">[</span>\n",
       "        <span style=\"color: #800080; text-decoration-color: #800080; font-weight: bold\">Action</span><span style=\"font-weight: bold\">(</span>\n",
       "            <span style=\"color: #808000; text-decoration-color: #808000\">attr</span>=<span style=\"color: #008000; text-decoration-color: #008000\">'html'</span>,\n",
       "            <span style=\"color: #808000; text-decoration-color: #808000\">s3_uri</span>=<span style=\"color: #008000; text-decoration-color: #008000\">'s3://bmt-app-dev-us-east-1-data/projects/pynamodb_mate/examples/large_attribute/pk=id-2/attr=ht</span>\n",
       "<span style=\"color: #008000; text-decoration-color: #008000\">ml/md5=e5b18880e7718115f0ca78e83a09aaf1'</span>,\n",
       "            <span style=\"color: #808000; text-decoration-color: #808000\">put_executed</span>=<span style=\"color: #00ff00; text-decoration-color: #00ff00; font-style: italic\">True</span>\n",
       "        <span style=\"font-weight: bold\">)</span>,\n",
       "        <span style=\"color: #800080; text-decoration-color: #800080; font-weight: bold\">Action</span><span style=\"font-weight: bold\">(</span>\n",
       "            <span style=\"color: #808000; text-decoration-color: #808000\">attr</span>=<span style=\"color: #008000; text-decoration-color: #008000\">'image'</span>,\n",
       "            <span style=\"color: #808000; text-decoration-color: #808000\">s3_uri</span>=<span style=\"color: #008000; text-decoration-color: #008000\">'s3://bmt-app-dev-us-east-1-data/projects/pynamodb_mate/examples/large_attribute/pk=id-2/attr=im</span>\n",
       "<span style=\"color: #008000; text-decoration-color: #008000\">age/md5=3858da33fd1a3c1a5d2a3c7df96e55a7'</span>,\n",
       "            <span style=\"color: #808000; text-decoration-color: #808000\">put_executed</span>=<span style=\"color: #00ff00; text-decoration-color: #00ff00; font-style: italic\">True</span>\n",
       "        <span style=\"font-weight: bold\">)</span>\n",
       "    <span style=\"font-weight: bold\">]</span>\n",
       "<span style=\"font-weight: bold\">)</span>\n",
       "</pre>\n"
      ],
      "text/plain": [
       "\u001b[1;35mPutS3Response\u001b[0m\u001b[1m(\u001b[0m\n",
       "    \u001b[33mactions\u001b[0m=\u001b[1m[\u001b[0m\n",
       "        \u001b[1;35mAction\u001b[0m\u001b[1m(\u001b[0m\n",
       "            \u001b[33mattr\u001b[0m=\u001b[32m'html'\u001b[0m,\n",
       "            \u001b[33ms3_uri\u001b[0m=\u001b[32m's3://bmt-app-dev-us-east-1-data/projects/pynamodb_mate/examples/large_attribute/\u001b[0m\u001b[32mpk\u001b[0m\u001b[32m=\u001b[0m\u001b[32mid\u001b[0m\u001b[32m-2/\u001b[0m\u001b[32mattr\u001b[0m\u001b[32m=\u001b[0m\u001b[32mht\u001b[0m\n",
       "\u001b[32mml\u001b[0m\u001b[32m/\u001b[0m\u001b[32mmd5\u001b[0m\u001b[32m=\u001b[0m\u001b[32me5b18880e7718115f0ca78e83a09aaf1\u001b[0m\u001b[32m'\u001b[0m,\n",
       "            \u001b[33mput_executed\u001b[0m=\u001b[3;92mTrue\u001b[0m\n",
       "        \u001b[1m)\u001b[0m,\n",
       "        \u001b[1;35mAction\u001b[0m\u001b[1m(\u001b[0m\n",
       "            \u001b[33mattr\u001b[0m=\u001b[32m'image'\u001b[0m,\n",
       "            \u001b[33ms3_uri\u001b[0m=\u001b[32m's3://bmt-app-dev-us-east-1-data/projects/pynamodb_mate/examples/large_attribute/\u001b[0m\u001b[32mpk\u001b[0m\u001b[32m=\u001b[0m\u001b[32mid\u001b[0m\u001b[32m-2/\u001b[0m\u001b[32mattr\u001b[0m\u001b[32m=\u001b[0m\u001b[32mim\u001b[0m\n",
       "\u001b[32mage\u001b[0m\u001b[32m/\u001b[0m\u001b[32mmd5\u001b[0m\u001b[32m=\u001b[0m\u001b[32m3858da33fd1a3c1a5d2a3c7df96e55a7\u001b[0m\u001b[32m'\u001b[0m,\n",
       "            \u001b[33mput_executed\u001b[0m=\u001b[3;92mTrue\u001b[0m\n",
       "        \u001b[1m)\u001b[0m\n",
       "    \u001b[1m]\u001b[0m\n",
       "\u001b[1m)\u001b[0m\n"
      ]
     },
     "metadata": {},
     "output_type": "display_data"
    }
   ],
   "source": [
    "# Do S3 write first\n",
    "pk = \"id-2\"\n",
    "html_data = \"<b>Hello Alice</b>\".encode(\"utf-8\")\n",
    "image_data = \"this is image one\".encode(\"utf-8\")\n",
    "utc_now = get_utc_now()\n",
    "\n",
    "put_s3_res = Document.put_s3(\n",
    "    s3_client=bsm.s3_client,\n",
    "    pk=pk,\n",
    "    sk=None,\n",
    "    kvs=dict(html=html_data, image=image_data),\n",
    "    bucket=BUCKET,\n",
    "    prefix=PREFIX,\n",
    "    update_at=utc_now,\n",
    ")\n",
    "rprint(put_s3_res)"
   ]
  },
  {
   "cell_type": "code",
   "execution_count": 12,
   "id": "4e1caefd83728491",
   "metadata": {
    "ExecuteTime": {
     "end_time": "2024-05-22T19:29:07.470007Z",
     "start_time": "2024-05-22T19:29:07.446819Z"
    },
    "collapsed": false,
    "jupyter": {
     "outputs_hidden": false
    }
   },
   "outputs": [
    {
     "data": {
      "text/html": [
       "<pre style=\"white-space:pre;overflow-x:auto;line-height:normal;font-family:Menlo,'DejaVu Sans Mono',consolas,'Courier New',monospace\"><span style=\"font-weight: bold\">{</span>\n",
       "    <span style=\"color: #008000; text-decoration-color: #008000\">'pk'</span>: <span style=\"color: #008000; text-decoration-color: #008000\">'id-2'</span>,\n",
       "    <span style=\"color: #008000; text-decoration-color: #008000\">'update_at'</span>: <span style=\"color: #800080; text-decoration-color: #800080; font-weight: bold\">datetime.datetime</span><span style=\"font-weight: bold\">(</span><span style=\"color: #008080; text-decoration-color: #008080; font-weight: bold\">2024</span>, <span style=\"color: #008080; text-decoration-color: #008080; font-weight: bold\">5</span>, <span style=\"color: #008080; text-decoration-color: #008080; font-weight: bold\">22</span>, <span style=\"color: #008080; text-decoration-color: #008080; font-weight: bold\">19</span>, <span style=\"color: #008080; text-decoration-color: #008080; font-weight: bold\">38</span>, <span style=\"color: #008080; text-decoration-color: #008080; font-weight: bold\">5</span>, <span style=\"color: #008080; text-decoration-color: #008080; font-weight: bold\">988022</span>, <span style=\"color: #808000; text-decoration-color: #808000\">tzinfo</span>=<span style=\"color: #800080; text-decoration-color: #800080\">datetime</span>.timezone.utc<span style=\"font-weight: bold\">)</span>,\n",
       "    <span style=\"color: #008000; text-decoration-color: #008000\">'data'</span>: <span style=\"font-weight: bold\">{</span><span style=\"color: #008000; text-decoration-color: #008000\">'version'</span>: <span style=\"color: #008080; text-decoration-color: #008080; font-weight: bold\">1</span><span style=\"font-weight: bold\">}</span>,\n",
       "    <span style=\"color: #008000; text-decoration-color: #008000\">'html'</span>: \n",
       "<span style=\"color: #008000; text-decoration-color: #008000\">'s3://bmt-app-dev-us-east-1-data/projects/pynamodb_mate/examples/large_attribute/pk=id-2/attr=html/md5=e5b18880e771</span>\n",
       "<span style=\"color: #008000; text-decoration-color: #008000\">8115f0ca78e83a09aaf1'</span>,\n",
       "    <span style=\"color: #008000; text-decoration-color: #008000\">'image'</span>: \n",
       "<span style=\"color: #008000; text-decoration-color: #008000\">'s3://bmt-app-dev-us-east-1-data/projects/pynamodb_mate/examples/large_attribute/pk=id-2/attr=image/md5=3858da33fd1</span>\n",
       "<span style=\"color: #008000; text-decoration-color: #008000\">a3c1a5d2a3c7df96e55a7'</span>\n",
       "<span style=\"font-weight: bold\">}</span>\n",
       "</pre>\n"
      ],
      "text/plain": [
       "\u001b[1m{\u001b[0m\n",
       "    \u001b[32m'pk'\u001b[0m: \u001b[32m'id-2'\u001b[0m,\n",
       "    \u001b[32m'update_at'\u001b[0m: \u001b[1;35mdatetime.datetime\u001b[0m\u001b[1m(\u001b[0m\u001b[1;36m2024\u001b[0m, \u001b[1;36m5\u001b[0m, \u001b[1;36m22\u001b[0m, \u001b[1;36m19\u001b[0m, \u001b[1;36m38\u001b[0m, \u001b[1;36m5\u001b[0m, \u001b[1;36m988022\u001b[0m, \u001b[33mtzinfo\u001b[0m=\u001b[35mdatetime\u001b[0m.timezone.utc\u001b[1m)\u001b[0m,\n",
       "    \u001b[32m'data'\u001b[0m: \u001b[1m{\u001b[0m\u001b[32m'version'\u001b[0m: \u001b[1;36m1\u001b[0m\u001b[1m}\u001b[0m,\n",
       "    \u001b[32m'html'\u001b[0m: \n",
       "\u001b[32m's3://bmt-app-dev-us-east-1-data/projects/pynamodb_mate/examples/large_attribute/\u001b[0m\u001b[32mpk\u001b[0m\u001b[32m=\u001b[0m\u001b[32mid\u001b[0m\u001b[32m-2/\u001b[0m\u001b[32mattr\u001b[0m\u001b[32m=\u001b[0m\u001b[32mhtml\u001b[0m\u001b[32m/\u001b[0m\u001b[32mmd5\u001b[0m\u001b[32m=\u001b[0m\u001b[32me5b18880e771\u001b[0m\n",
       "\u001b[32m8115f0ca78e83a09aaf1\u001b[0m\u001b[32m'\u001b[0m,\n",
       "    \u001b[32m'image'\u001b[0m: \n",
       "\u001b[32m's3://bmt-app-dev-us-east-1-data/projects/pynamodb_mate/examples/large_attribute/\u001b[0m\u001b[32mpk\u001b[0m\u001b[32m=\u001b[0m\u001b[32mid\u001b[0m\u001b[32m-2/\u001b[0m\u001b[32mattr\u001b[0m\u001b[32m=\u001b[0m\u001b[32mimage\u001b[0m\u001b[32m/\u001b[0m\u001b[32mmd5\u001b[0m\u001b[32m=\u001b[0m\u001b[32m3858da33fd1\u001b[0m\n",
       "\u001b[32ma3c1a5d2a3c7df96e55a7\u001b[0m\u001b[32m'\u001b[0m\n",
       "\u001b[1m}\u001b[0m\n"
      ]
     },
     "metadata": {},
     "output_type": "display_data"
    }
   ],
   "source": [
    "# Do DynamoDB write then, note that DynamoDB write operation may fail\n",
    "try:\n",
    "    new_doc = Document(\n",
    "        pk=pk,\n",
    "        update_at=utc_now,\n",
    "        data={\"version\": 1},\n",
    "        **put_s3_res.to_attributes(),\n",
    "    )\n",
    "    new_doc.save()\n",
    "    rprint(new_doc.to_dict())\n",
    "except Exception as e:\n",
    "    put_s3_res.clean_up_created_s3_object_when_create_dynamodb_item_failed(bsm.s3_client)"
   ]
  },
  {
   "cell_type": "code",
   "execution_count": 13,
   "id": "1f92c0b957c8a9f2",
   "metadata": {
    "ExecuteTime": {
     "end_time": "2024-05-22T19:29:07.978006Z",
     "start_time": "2024-05-22T19:29:07.879073Z"
    },
    "collapsed": false,
    "jupyter": {
     "outputs_hidden": false
    }
   },
   "outputs": [
    {
     "name": "stdout",
     "output_type": "stream",
     "text": [
      "html content = <b>Hello Alice</b>\n",
      "image content = b'this is image one'\n"
     ]
    }
   ],
   "source": [
    "# S3 object of new document should be created\n",
    "print(f\"html content = {S3Path(new_doc.html).read_text()}\")\n",
    "print(f\"image content = {S3Path(new_doc.image).read_bytes()}\")"
   ]
  },
  {
   "cell_type": "markdown",
   "id": "622c9c2ab3184188",
   "metadata": {
    "collapsed": false,
    "jupyter": {
     "outputs_hidden": false
    }
   },
   "source": [
    "#### Step-by-Step API example - Update"
   ]
  },
  {
   "cell_type": "code",
   "execution_count": 14,
   "id": "688f573114afba9b",
   "metadata": {
    "ExecuteTime": {
     "end_time": "2024-05-22T19:29:09.169784Z",
     "start_time": "2024-05-22T19:29:08.983805Z"
    },
    "collapsed": false,
    "jupyter": {
     "outputs_hidden": false
    }
   },
   "outputs": [
    {
     "data": {
      "text/html": [
       "<pre style=\"white-space:pre;overflow-x:auto;line-height:normal;font-family:Menlo,'DejaVu Sans Mono',consolas,'Courier New',monospace\"><span style=\"color: #800080; text-decoration-color: #800080; font-weight: bold\">PutS3Response</span><span style=\"font-weight: bold\">(</span>\n",
       "    <span style=\"color: #808000; text-decoration-color: #808000\">actions</span>=<span style=\"font-weight: bold\">[</span>\n",
       "        <span style=\"color: #800080; text-decoration-color: #800080; font-weight: bold\">Action</span><span style=\"font-weight: bold\">(</span>\n",
       "            <span style=\"color: #808000; text-decoration-color: #808000\">attr</span>=<span style=\"color: #008000; text-decoration-color: #008000\">'html'</span>,\n",
       "            <span style=\"color: #808000; text-decoration-color: #808000\">s3_uri</span>=<span style=\"color: #008000; text-decoration-color: #008000\">'s3://bmt-app-dev-us-east-1-data/projects/pynamodb_mate/examples/large_attribute/pk=id-2/attr=ht</span>\n",
       "<span style=\"color: #008000; text-decoration-color: #008000\">ml/md5=3f2ea18295a5c6ef85d081fe461a174f'</span>,\n",
       "            <span style=\"color: #808000; text-decoration-color: #808000\">put_executed</span>=<span style=\"color: #00ff00; text-decoration-color: #00ff00; font-style: italic\">True</span>\n",
       "        <span style=\"font-weight: bold\">)</span>,\n",
       "        <span style=\"color: #800080; text-decoration-color: #800080; font-weight: bold\">Action</span><span style=\"font-weight: bold\">(</span>\n",
       "            <span style=\"color: #808000; text-decoration-color: #808000\">attr</span>=<span style=\"color: #008000; text-decoration-color: #008000\">'image'</span>,\n",
       "            <span style=\"color: #808000; text-decoration-color: #808000\">s3_uri</span>=<span style=\"color: #008000; text-decoration-color: #008000\">'s3://bmt-app-dev-us-east-1-data/projects/pynamodb_mate/examples/large_attribute/pk=id-2/attr=im</span>\n",
       "<span style=\"color: #008000; text-decoration-color: #008000\">age/md5=fd3543259e7c4982a601c1faceea287d'</span>,\n",
       "            <span style=\"color: #808000; text-decoration-color: #808000\">put_executed</span>=<span style=\"color: #00ff00; text-decoration-color: #00ff00; font-style: italic\">True</span>\n",
       "        <span style=\"font-weight: bold\">)</span>\n",
       "    <span style=\"font-weight: bold\">]</span>\n",
       "<span style=\"font-weight: bold\">)</span>\n",
       "</pre>\n"
      ],
      "text/plain": [
       "\u001b[1;35mPutS3Response\u001b[0m\u001b[1m(\u001b[0m\n",
       "    \u001b[33mactions\u001b[0m=\u001b[1m[\u001b[0m\n",
       "        \u001b[1;35mAction\u001b[0m\u001b[1m(\u001b[0m\n",
       "            \u001b[33mattr\u001b[0m=\u001b[32m'html'\u001b[0m,\n",
       "            \u001b[33ms3_uri\u001b[0m=\u001b[32m's3://bmt-app-dev-us-east-1-data/projects/pynamodb_mate/examples/large_attribute/\u001b[0m\u001b[32mpk\u001b[0m\u001b[32m=\u001b[0m\u001b[32mid\u001b[0m\u001b[32m-2/\u001b[0m\u001b[32mattr\u001b[0m\u001b[32m=\u001b[0m\u001b[32mht\u001b[0m\n",
       "\u001b[32mml\u001b[0m\u001b[32m/\u001b[0m\u001b[32mmd5\u001b[0m\u001b[32m=\u001b[0m\u001b[32m3f2ea18295a5c6ef85d081fe461a174f\u001b[0m\u001b[32m'\u001b[0m,\n",
       "            \u001b[33mput_executed\u001b[0m=\u001b[3;92mTrue\u001b[0m\n",
       "        \u001b[1m)\u001b[0m,\n",
       "        \u001b[1;35mAction\u001b[0m\u001b[1m(\u001b[0m\n",
       "            \u001b[33mattr\u001b[0m=\u001b[32m'image'\u001b[0m,\n",
       "            \u001b[33ms3_uri\u001b[0m=\u001b[32m's3://bmt-app-dev-us-east-1-data/projects/pynamodb_mate/examples/large_attribute/\u001b[0m\u001b[32mpk\u001b[0m\u001b[32m=\u001b[0m\u001b[32mid\u001b[0m\u001b[32m-2/\u001b[0m\u001b[32mattr\u001b[0m\u001b[32m=\u001b[0m\u001b[32mim\u001b[0m\n",
       "\u001b[32mage\u001b[0m\u001b[32m/\u001b[0m\u001b[32mmd5\u001b[0m\u001b[32m=\u001b[0m\u001b[32mfd3543259e7c4982a601c1faceea287d\u001b[0m\u001b[32m'\u001b[0m,\n",
       "            \u001b[33mput_executed\u001b[0m=\u001b[3;92mTrue\u001b[0m\n",
       "        \u001b[1m)\u001b[0m\n",
       "    \u001b[1m]\u001b[0m\n",
       "\u001b[1m)\u001b[0m\n"
      ]
     },
     "metadata": {},
     "output_type": "display_data"
    }
   ],
   "source": [
    "# Do S3 write first\n",
    "html_data = \"<b>Hello Bob</b>\".encode(\"utf-8\")\n",
    "image_data = \"this is image two\".encode(\"utf-8\")\n",
    "old_doc = Document.get(pk)\n",
    "old_doc_copy = Document.get(pk)\n",
    "utc_now = get_utc_now()\n",
    "put_s3_res = Document.put_s3(\n",
    "    s3_client=bsm.s3_client,\n",
    "    pk=pk,\n",
    "    sk=None,\n",
    "    kvs=dict(html=html_data, image=image_data),\n",
    "    bucket=BUCKET,\n",
    "    prefix=PREFIX,\n",
    "    update_at=utc_now,\n",
    ")\n",
    "rprint(put_s3_res)"
   ]
  },
  {
   "cell_type": "code",
   "execution_count": 15,
   "id": "781131e63af05208",
   "metadata": {
    "ExecuteTime": {
     "end_time": "2024-05-22T19:29:09.503911Z",
     "start_time": "2024-05-22T19:29:09.431690Z"
    },
    "collapsed": false,
    "jupyter": {
     "outputs_hidden": false
    }
   },
   "outputs": [
    {
     "data": {
      "text/html": [
       "<pre style=\"white-space:pre;overflow-x:auto;line-height:normal;font-family:Menlo,'DejaVu Sans Mono',consolas,'Courier New',monospace\"><span style=\"font-weight: bold\">{</span>\n",
       "    <span style=\"color: #008000; text-decoration-color: #008000\">'data'</span>: <span style=\"font-weight: bold\">{</span><span style=\"color: #008000; text-decoration-color: #008000\">'version'</span>: <span style=\"color: #008080; text-decoration-color: #008080; font-weight: bold\">2</span><span style=\"font-weight: bold\">}</span>,\n",
       "    <span style=\"color: #008000; text-decoration-color: #008000\">'html'</span>: \n",
       "<span style=\"color: #008000; text-decoration-color: #008000\">'s3://bmt-app-dev-us-east-1-data/projects/pynamodb_mate/examples/large_attribute/pk=id-2/attr=html/md5=3f2ea18295a5</span>\n",
       "<span style=\"color: #008000; text-decoration-color: #008000\">c6ef85d081fe461a174f'</span>,\n",
       "    <span style=\"color: #008000; text-decoration-color: #008000\">'image'</span>: \n",
       "<span style=\"color: #008000; text-decoration-color: #008000\">'s3://bmt-app-dev-us-east-1-data/projects/pynamodb_mate/examples/large_attribute/pk=id-2/attr=image/md5=fd3543259e7</span>\n",
       "<span style=\"color: #008000; text-decoration-color: #008000\">c4982a601c1faceea287d'</span>,\n",
       "    <span style=\"color: #008000; text-decoration-color: #008000\">'pk'</span>: <span style=\"color: #008000; text-decoration-color: #008000\">'id-2'</span>,\n",
       "    <span style=\"color: #008000; text-decoration-color: #008000\">'update_at'</span>: <span style=\"color: #800080; text-decoration-color: #800080; font-weight: bold\">datetime.datetime</span><span style=\"font-weight: bold\">(</span><span style=\"color: #008080; text-decoration-color: #008080; font-weight: bold\">2024</span>, <span style=\"color: #008080; text-decoration-color: #008080; font-weight: bold\">5</span>, <span style=\"color: #008080; text-decoration-color: #008080; font-weight: bold\">22</span>, <span style=\"color: #008080; text-decoration-color: #008080; font-weight: bold\">19</span>, <span style=\"color: #008080; text-decoration-color: #008080; font-weight: bold\">38</span>, <span style=\"color: #008080; text-decoration-color: #008080; font-weight: bold\">7</span>, <span style=\"color: #008080; text-decoration-color: #008080; font-weight: bold\">266402</span>, <span style=\"color: #808000; text-decoration-color: #808000\">tzinfo</span>=<span style=\"color: #800080; text-decoration-color: #800080\">datetime</span>.timezone.utc<span style=\"font-weight: bold\">)</span>\n",
       "<span style=\"font-weight: bold\">}</span>\n",
       "</pre>\n"
      ],
      "text/plain": [
       "\u001b[1m{\u001b[0m\n",
       "    \u001b[32m'data'\u001b[0m: \u001b[1m{\u001b[0m\u001b[32m'version'\u001b[0m: \u001b[1;36m2\u001b[0m\u001b[1m}\u001b[0m,\n",
       "    \u001b[32m'html'\u001b[0m: \n",
       "\u001b[32m's3://bmt-app-dev-us-east-1-data/projects/pynamodb_mate/examples/large_attribute/\u001b[0m\u001b[32mpk\u001b[0m\u001b[32m=\u001b[0m\u001b[32mid\u001b[0m\u001b[32m-2/\u001b[0m\u001b[32mattr\u001b[0m\u001b[32m=\u001b[0m\u001b[32mhtml\u001b[0m\u001b[32m/\u001b[0m\u001b[32mmd5\u001b[0m\u001b[32m=\u001b[0m\u001b[32m3f2ea18295a5\u001b[0m\n",
       "\u001b[32mc6ef85d081fe461a174f\u001b[0m\u001b[32m'\u001b[0m,\n",
       "    \u001b[32m'image'\u001b[0m: \n",
       "\u001b[32m's3://bmt-app-dev-us-east-1-data/projects/pynamodb_mate/examples/large_attribute/\u001b[0m\u001b[32mpk\u001b[0m\u001b[32m=\u001b[0m\u001b[32mid\u001b[0m\u001b[32m-2/\u001b[0m\u001b[32mattr\u001b[0m\u001b[32m=\u001b[0m\u001b[32mimage\u001b[0m\u001b[32m/\u001b[0m\u001b[32mmd5\u001b[0m\u001b[32m=\u001b[0m\u001b[32mfd3543259e7\u001b[0m\n",
       "\u001b[32mc4982a601c1faceea287d\u001b[0m\u001b[32m'\u001b[0m,\n",
       "    \u001b[32m'pk'\u001b[0m: \u001b[32m'id-2'\u001b[0m,\n",
       "    \u001b[32m'update_at'\u001b[0m: \u001b[1;35mdatetime.datetime\u001b[0m\u001b[1m(\u001b[0m\u001b[1;36m2024\u001b[0m, \u001b[1;36m5\u001b[0m, \u001b[1;36m22\u001b[0m, \u001b[1;36m19\u001b[0m, \u001b[1;36m38\u001b[0m, \u001b[1;36m7\u001b[0m, \u001b[1;36m266402\u001b[0m, \u001b[33mtzinfo\u001b[0m=\u001b[35mdatetime\u001b[0m.timezone.utc\u001b[1m)\u001b[0m\n",
       "\u001b[1m}\u001b[0m\n"
      ]
     },
     "metadata": {},
     "output_type": "display_data"
    }
   ],
   "source": [
    "# Do DynamoDB update then, note that DynamoDB update operation may fail\n",
    "try:\n",
    "    actions = put_s3_res.to_update_actions(model_klass=Document)\n",
    "    actions.append(Document.update_at.set(utc_now))\n",
    "    actions.append(Document.data.set({\"version\": 2}))\n",
    "    old_doc.update(actions=actions)\n",
    "    put_s3_res.clean_up_old_s3_object_when_update_dynamodb_item_succeeded(\n",
    "        s3_client=bsm.s3_client, \n",
    "        old_model=old_doc_copy,\n",
    "    )\n",
    "    new_doc = old_doc\n",
    "    rprint(new_doc.to_dict()) # now in-memory old_doc become new_doc after updates\n",
    "except Exception as e:\n",
    "    put_s3_res.clean_up_created_s3_object_when_update_dynamodb_item_failed(\n",
    "        s3_client=bsm.s3_client,\n",
    "    )"
   ]
  },
  {
   "cell_type": "code",
   "execution_count": 16,
   "id": "2a2a34732cb2abbd",
   "metadata": {
    "ExecuteTime": {
     "end_time": "2024-05-22T19:29:38.105023Z",
     "start_time": "2024-05-22T19:29:37.957080Z"
    },
    "collapsed": false,
    "jupyter": {
     "outputs_hidden": false
    }
   },
   "outputs": [
    {
     "name": "stdout",
     "output_type": "stream",
     "text": [
      "S3Path(old_doc_copy.html).exists() = False\n",
      "S3Path(old_doc_copy.image).exists() = False\n"
     ]
    }
   ],
   "source": [
    "# S3 object of old document should be cleaned up\n",
    "print(f\"{S3Path(old_doc_copy.html).exists() = }\")\n",
    "print(f\"{S3Path(old_doc_copy.image).exists() = }\")"
   ]
  },
  {
   "cell_type": "code",
   "execution_count": 17,
   "id": "345e539b9331b0e9",
   "metadata": {
    "ExecuteTime": {
     "end_time": "2024-05-22T19:29:40.991468Z",
     "start_time": "2024-05-22T19:29:40.931302Z"
    },
    "collapsed": false,
    "jupyter": {
     "outputs_hidden": false
    }
   },
   "outputs": [
    {
     "name": "stdout",
     "output_type": "stream",
     "text": [
      "html content = <b>Hello Bob</b>\n",
      "image content = b'this is image two'\n"
     ]
    }
   ],
   "source": [
    "# S3 object of new document should be created\n",
    "print(f\"html content = {S3Path(new_doc.html).read_text()}\")\n",
    "print(f\"image content = {S3Path(new_doc.image).read_bytes()}\")"
   ]
  },
  {
   "cell_type": "markdown",
   "id": "c28996e9a34b88f0",
   "metadata": {
    "collapsed": false,
    "jupyter": {
     "outputs_hidden": false
    }
   },
   "source": [
    "#### Step-by-Step API example - Delete"
   ]
  },
  {
   "cell_type": "code",
   "execution_count": 18,
   "id": "14cd02fa73fb4d74",
   "metadata": {
    "ExecuteTime": {
     "end_time": "2024-05-22T19:29:59.802142Z",
     "start_time": "2024-05-22T19:29:59.760476Z"
    },
    "collapsed": false,
    "jupyter": {
     "outputs_hidden": false
    }
   },
   "outputs": [
    {
     "data": {
      "text/plain": [
       "{'ConsumedCapacity': {'CapacityUnits': 1.0,\n",
       "  'TableName': 'pynamodb-mate-test-large-attribute'}}"
      ]
     },
     "execution_count": 18,
     "metadata": {},
     "output_type": "execute_result"
    }
   ],
   "source": [
    "old_doc = Document.get(pk, sk)\n",
    "old_doc.delete()"
   ]
  },
  {
   "cell_type": "markdown",
   "id": "6580d722018f6199",
   "metadata": {
    "collapsed": false,
    "jupyter": {
     "outputs_hidden": false
    }
   },
   "source": [
    "You decide whether if you want to delete the S3 object after the DynamoDB item is deleted."
   ]
  },
  {
   "cell_type": "code",
   "execution_count": 19,
   "id": "8c5287b3210b05bc",
   "metadata": {
    "ExecuteTime": {
     "end_time": "2024-05-22T19:31:05.165406Z",
     "start_time": "2024-05-22T19:31:05.053482Z"
    },
    "collapsed": false,
    "jupyter": {
     "outputs_hidden": false
    }
   },
   "outputs": [],
   "source": [
    "_ = S3Path(old_doc.html).delete()\n",
    "_ = S3Path(old_doc.image).delete()"
   ]
  },
  {
   "cell_type": "markdown",
   "id": "fbe7639a-d4bf-4bec-aaf5-1fcfe8ee9dae",
   "metadata": {
    "collapsed": false,
    "jupyter": {
     "outputs_hidden": false
    }
   },
   "source": [
    "## Summary\n",
    "\n",
    "By leveraging pynamodb_mate, you can:\n",
    "\n",
    "- Easily integrate the storage of large binary data in S3 with your DynamoDB ORM model.\n",
    "- Ensure data consistency between DynamoDB and S3 during create, update, and delete operations.\n",
    "- Choose between the Transaction API for simplified usage or the Step-by-Step API for more control and customization.\n",
    "- Benefit from a well-defined S3 key naming convention that eliminates data overwriting and simplifies object management.\n",
    "\n",
    "This library offers a valuable solution for handling large attributes in DynamoDB, saving you time and effort in implementing this pattern correctly."
   ]
  },
  {
   "cell_type": "code",
   "execution_count": null,
   "id": "5890c9b3-7762-44b6-a385-a0efd248c1e9",
   "metadata": {},
   "outputs": [],
   "source": []
  }
 ],
 "metadata": {
  "kernelspec": {
   "display_name": "Python 3 (ipykernel)",
   "language": "python",
   "name": "python3"
  },
  "language_info": {
   "codemirror_mode": {
    "name": "ipython",
    "version": 3
   },
   "file_extension": ".py",
   "mimetype": "text/x-python",
   "name": "python",
   "nbconvert_exporter": "python",
   "pygments_lexer": "ipython3",
   "version": "3.8.13"
  }
 },
 "nbformat": 4,
 "nbformat_minor": 5
}

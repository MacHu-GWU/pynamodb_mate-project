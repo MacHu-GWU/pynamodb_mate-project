{
 "cells": [
  {
   "cell_type": "markdown",
   "metadata": {
    "collapsed": false,
    "jupyter": {
     "outputs_hidden": false
    },
    "pycharm": {
     "name": "#%% md\n"
    }
   },
   "source": [
    "# Client Side Encryption\n",
    "\n",
    "## Overview\n",
    "\n",
    "DynamoDB supports encryption at rest (Server-Side Encryption) and uses SSL to encrypt the transit data (Encrypt on the fly) by default.\n",
    "\n",
    "Some advanced users also want to encrypt the data before it is sent to DynamoDB (Client-Side Encryption). [pynamodb_mate](https://github.com/MacHu-GWU/pynamodb_mate-project) provides an elegant way to encrypt your data before it is sent over the network. You can use different encryption keys for each DynamoDB item attribute.\n",
    "\n",
    "## How it works\n",
    "\n",
    "``pynamodb_mate`` uses the [pycryptodome](https://pypi.org/project/pycryptodome/) crypto library under the hood. Internally, it always serializes your data into binary, encrypts it, and then sends it to DynamoDB. For fields that you still want to be able to query on, you use ``determinative=True``. The same input data will always result in the same encrypted data, and it uses AES ECB. It is proven to be NOT secure for man-in-the-middle attacks, but you can still use it with DynamoDB because the DynamoDB API uses SSL to encrypt the data in transit. For ``determinative=False``, the same input will result in different encrypted data, and it uses AES CTR."
   ]
  },
  {
   "cell_type": "markdown",
   "metadata": {
    "collapsed": false,
    "jupyter": {
     "outputs_hidden": false
    },
    "pycharm": {
     "name": "#%% md\n"
    }
   },
   "source": [
    "##  Define attribute to use Client Side Encryption (AES)"
   ]
  },
  {
   "cell_type": "code",
   "execution_count": 1,
   "metadata": {
    "ExecuteTime": {
     "end_time": "2024-05-22T19:51:17.977318Z",
     "start_time": "2024-05-22T19:51:17.798430Z"
    },
    "collapsed": false,
    "jupyter": {
     "outputs_hidden": false
    },
    "pycharm": {
     "name": "#%%\n"
    }
   },
   "outputs": [],
   "source": [
    "import pynamodb_mate.api as pm\n",
    "from rich import print as rprint # this is for this demo only\n",
    "\n",
    "ENCRYPTION_KEY = \"my-password\"\n",
    "\n",
    "class ArchiveModel(pm.Model):\n",
    "    class Meta:\n",
    "        table_name = f\"pynamodb-mate-example-client-side-encryption\"\n",
    "        region = \"us-east-1\"\n",
    "        billing_mode = pm.constants.PAY_PER_REQUEST_BILLING_MODE\n",
    "\n",
    "    aid = pm.UnicodeAttribute(hash_key=True)\n",
    "\n",
    "    secret_message = pm.attributes.EncryptedUnicodeAttribute(\n",
    "        # the field level encryption key\n",
    "        encryption_key=ENCRYPTION_KEY,\n",
    "        # if True, same input -> same output (less secure),\n",
    "        # so you can still use this field for query\n",
    "        # ``filter_conditions=(ArchiveModel.secret_message == \"my message\")``.\n",
    "        # if False, same input -> different output (more secure),\n",
    "        # but you lose the capability of query on this field\n",
    "        determinative=True,\n",
    "    )\n",
    "\n",
    "    secret_binary = pm.attributes.EncryptedBinaryAttribute(\n",
    "        encryption_key=ENCRYPTION_KEY,\n",
    "        determinative=False,\n",
    "    )\n",
    "\n",
    "    secret_integer = pm.attributes.EncryptedNumberAttribute(\n",
    "        encryption_key=ENCRYPTION_KEY,\n",
    "        determinative=True,\n",
    "    )\n",
    "\n",
    "    secret_float = pm.attributes.EncryptedNumberAttribute(\n",
    "        encryption_key=ENCRYPTION_KEY,\n",
    "        determinative=False,\n",
    "    )\n",
    "\n",
    "    secret_data = pm.attributes.EncryptedJsonDictAttribute(\n",
    "        encryption_key=ENCRYPTION_KEY,\n",
    "        determinative=False,\n",
    "    )\n",
    "\n",
    "# create DynamoDB table if not exists, quick skip if already exists\n",
    "ArchiveModel.create_table(wait=True)"
   ]
  },
  {
   "cell_type": "markdown",
   "metadata": {
    "collapsed": false,
    "jupyter": {
     "outputs_hidden": false
    }
   },
   "source": [
    "You just need to pass the unencrypted data to the DynamoDB ORM model, and ``pynamodb_mate`` will automatically encrypt it before sending it to the DynamoDB API."
   ]
  },
  {
   "cell_type": "code",
   "execution_count": 2,
   "metadata": {
    "ExecuteTime": {
     "end_time": "2024-05-22T19:53:14.992572Z",
     "start_time": "2024-05-22T19:53:14.903143Z"
    },
    "collapsed": false,
    "jupyter": {
     "outputs_hidden": false
    },
    "pycharm": {
     "name": "#%%\n"
    }
   },
   "outputs": [
    {
     "name": "stdout",
     "output_type": "stream",
     "text": [
      "preview the DynamoDB item: https://us-east-1.console.aws.amazon.com/dynamodbv2/home?region=us-east-1#edit-item?table=pynamodb-mate-example-client-side-encryption&itemMode=2&pk=aid-001&sk&ref=%23item-explorer%3Ftable%3Dpynamodb-mate-example-client-side-encryption&route=ROUTE_ITEM_EXPLORER\n",
      "you will see that the raw data in DynamoDB is encrypted\n"
     ]
    }
   ],
   "source": [
    "msg = \"attack at 2PM tomorrow!\"\n",
    "binary = \"a secret image\".encode(\"utf-8\")\n",
    "data = {\"Alice\": 1, \"Bob\": 2, \"Cathy\": 3}\n",
    "model = ArchiveModel(\n",
    "    aid=\"aid-001\",\n",
    "    secret_message=msg,\n",
    "    secret_binary=binary,\n",
    "    secret_integer=1234,\n",
    "    secret_float=3.14,\n",
    "    secret_data=data,\n",
    ")\n",
    "model.save()\n",
    "print(f\"preview the DynamoDB item: {model.item_detail_console_url}\")\n",
    "print(\"you will see that the raw data in DynamoDB is encrypted\")"
   ]
  },
  {
   "cell_type": "markdown",
   "metadata": {
    "collapsed": false,
    "jupyter": {
     "outputs_hidden": false
    }
   },
   "source": [
    "You can print the raw data in DynamoDB without using ``pynamodb_mate``. You will see the encrypted data in binary format."
   ]
  },
  {
   "cell_type": "code",
   "execution_count": 3,
   "metadata": {
    "ExecuteTime": {
     "end_time": "2024-05-22T19:53:05.656111Z",
     "start_time": "2024-05-22T19:53:05.551725Z"
    },
    "collapsed": false,
    "jupyter": {
     "outputs_hidden": false
    }
   },
   "outputs": [
    {
     "data": {
      "text/html": [
       "<pre style=\"white-space:pre;overflow-x:auto;line-height:normal;font-family:Menlo,'DejaVu Sans Mono',consolas,'Courier New',monospace\"><span style=\"font-weight: bold\">{</span>\n",
       "    <span style=\"color: #008000; text-decoration-color: #008000\">'aid'</span>: <span style=\"font-weight: bold\">{</span><span style=\"color: #008000; text-decoration-color: #008000\">'S'</span>: <span style=\"color: #008000; text-decoration-color: #008000\">'aid-001'</span><span style=\"font-weight: bold\">}</span>,\n",
       "    <span style=\"color: #008000; text-decoration-color: #008000\">'secret_integer'</span>: <span style=\"font-weight: bold\">{</span><span style=\"color: #008000; text-decoration-color: #008000\">'B'</span>: <span style=\"color: #008000; text-decoration-color: #008000\">b'K\\x02\\x9c\\xf4\\x8c8@\\xcfn\\xce\\xb7NV\\x8d\\rH'</span><span style=\"font-weight: bold\">}</span>,\n",
       "    <span style=\"color: #008000; text-decoration-color: #008000\">'secret_binary'</span>: <span style=\"font-weight: bold\">{</span><span style=\"color: #008000; text-decoration-color: #008000\">'B'</span>: <span style=\"color: #008000; text-decoration-color: #008000\">b'{\"nonce\": \"h7PYfVMR0%\", \"token\": \"&lt;5UTbuxi_674Yx|q{I\"}'</span><span style=\"color: #000000; text-decoration-color: #000000; font-weight: bold\">}</span><span style=\"color: #000000; text-decoration-color: #000000\">,</span>\n",
       "<span style=\"color: #000000; text-decoration-color: #000000\">    </span><span style=\"color: #008000; text-decoration-color: #008000\">'secret_data'</span><span style=\"color: #000000; text-decoration-color: #000000\">: </span><span style=\"color: #000000; text-decoration-color: #000000; font-weight: bold\">{</span><span style=\"color: #008000; text-decoration-color: #008000\">'B'</span><span style=\"color: #000000; text-decoration-color: #000000\">: </span><span style=\"color: #008000; text-decoration-color: #008000\">b'{\"nonce\": \"*6nD)O5pyI\", \"token\": \"_MV*k4Y{(WmL01-?L~jawW#Is3ixE(kTpDUl#_!$G4}\"}'</span><span style=\"color: #000000; text-decoration-color: #000000; font-weight: bold\">}</span><span style=\"color: #000000; text-decoration-color: #000000\">,</span>\n",
       "<span style=\"color: #000000; text-decoration-color: #000000\">    </span><span style=\"color: #008000; text-decoration-color: #008000\">'secret_message'</span><span style=\"color: #000000; text-decoration-color: #000000\">: </span><span style=\"color: #000000; text-decoration-color: #000000; font-weight: bold\">{</span>\n",
       "<span style=\"color: #000000; text-decoration-color: #000000\">        </span><span style=\"color: #008000; text-decoration-color: #008000\">'B'</span><span style=\"color: #000000; text-decoration-color: #000000\">: </span><span style=\"color: #008000; text-decoration-color: #008000\">b'\\x89\\x17\\x17]\\xad@\\xab\\xda\\xd9\\x13\\xd9\\xe9\\xb5\\xc2,\\x02F+gxO\\x8b\\xebI\\x88[J&lt;\\x90\\xee\\xdc\\xff'</span>\n",
       "<span style=\"color: #000000; text-decoration-color: #000000\">    </span><span style=\"color: #000000; text-decoration-color: #000000; font-weight: bold\">}</span><span style=\"color: #000000; text-decoration-color: #000000\">,</span>\n",
       "<span style=\"color: #000000; text-decoration-color: #000000\">    </span><span style=\"color: #008000; text-decoration-color: #008000\">'secret_float'</span><span style=\"color: #000000; text-decoration-color: #000000\">: </span><span style=\"color: #000000; text-decoration-color: #000000; font-weight: bold\">{</span><span style=\"color: #008000; text-decoration-color: #008000\">'B'</span><span style=\"color: #000000; text-decoration-color: #000000\">: </span><span style=\"color: #008000; text-decoration-color: #008000\">b'{\"nonce\": \"FTIU)7&gt;ayz\", \"token\": \"o|_U!\"}'</span><span style=\"font-weight: bold\">}</span>\n",
       "<span style=\"font-weight: bold\">}</span>\n",
       "</pre>\n"
      ],
      "text/plain": [
       "\u001b[1m{\u001b[0m\n",
       "    \u001b[32m'aid'\u001b[0m: \u001b[1m{\u001b[0m\u001b[32m'S'\u001b[0m: \u001b[32m'aid-001'\u001b[0m\u001b[1m}\u001b[0m,\n",
       "    \u001b[32m'secret_integer'\u001b[0m: \u001b[1m{\u001b[0m\u001b[32m'B'\u001b[0m: \u001b[32mb'K\\x02\\x9c\\xf4\\x8c8@\\xcfn\\xce\\xb7NV\\x8d\\rH'\u001b[0m\u001b[1m}\u001b[0m,\n",
       "    \u001b[32m'secret_binary'\u001b[0m: \u001b[1m{\u001b[0m\u001b[32m'B'\u001b[0m: \u001b[32mb'\u001b[0m\u001b[32m{\u001b[0m\u001b[32m\"nonce\": \"h7PYfVMR0%\", \"token\": \"\u001b[0m\u001b[32m<\u001b[0m\u001b[32m5UTbuxi_674Yx|q\u001b[0m\u001b[32m{\u001b[0m\u001b[32mI\"\u001b[0m\u001b[32m}\u001b[0m\u001b[32m'\u001b[0m\u001b[1;39m}\u001b[0m\u001b[39m,\u001b[0m\n",
       "\u001b[39m    \u001b[0m\u001b[32m'secret_data'\u001b[0m\u001b[39m: \u001b[0m\u001b[1;39m{\u001b[0m\u001b[32m'B'\u001b[0m\u001b[39m: \u001b[0m\u001b[32mb'\u001b[0m\u001b[32m{\u001b[0m\u001b[32m\"nonce\": \"*6nD\u001b[0m\u001b[32m)\u001b[0m\u001b[32mO5pyI\", \"token\": \"_MV*k4Y\u001b[0m\u001b[32m{\u001b[0m\u001b[32m(\u001b[0m\u001b[32mWmL01-?L~jawW#Is3ixE\u001b[0m\u001b[32m(\u001b[0m\u001b[32mkTpDUl#_!$G4\u001b[0m\u001b[32m}\u001b[0m\u001b[32m\"\u001b[0m\u001b[32m}\u001b[0m\u001b[32m'\u001b[0m\u001b[1;39m}\u001b[0m\u001b[39m,\u001b[0m\n",
       "\u001b[39m    \u001b[0m\u001b[32m'secret_message'\u001b[0m\u001b[39m: \u001b[0m\u001b[1;39m{\u001b[0m\n",
       "\u001b[39m        \u001b[0m\u001b[32m'B'\u001b[0m\u001b[39m: \u001b[0m\u001b[32mb'\\x89\\x17\\x17\u001b[0m\u001b[32m]\u001b[0m\u001b[32m\\xad@\\xab\\xda\\xd9\\x13\\xd9\\xe9\\xb5\\xc2,\\x02F+gxO\\x8b\\xebI\\x88\u001b[0m\u001b[32m[\u001b[0m\u001b[32mJ<\\x90\\xee\\xdc\\xff'\u001b[0m\n",
       "\u001b[39m    \u001b[0m\u001b[1;39m}\u001b[0m\u001b[39m,\u001b[0m\n",
       "\u001b[39m    \u001b[0m\u001b[32m'secret_float'\u001b[0m\u001b[39m: \u001b[0m\u001b[1;39m{\u001b[0m\u001b[32m'B'\u001b[0m\u001b[39m: \u001b[0m\u001b[32mb'\u001b[0m\u001b[32m{\u001b[0m\u001b[32m\"nonce\": \"FTIU\u001b[0m\u001b[32m)\u001b[0m\u001b[32m7\u001b[0m\u001b[32m>\u001b[0m\u001b[32mayz\", \"token\": \"o|_U!\"\u001b[0m\u001b[32m}\u001b[0m\u001b[32m'\u001b[0m\u001b[1m}\u001b[0m\n",
       "\u001b[1m}\u001b[0m\n"
      ]
     },
     "metadata": {},
     "output_type": "display_data"
    }
   ],
   "source": [
    "from boto_session_manager import BotoSesManager\n",
    "\n",
    "bsm = BotoSesManager()\n",
    "res = bsm.dynamodb_client.get_item(TableName=ArchiveModel.Meta.table_name, Key={\"aid\": {\"S\": \"aid-001\"}})\n",
    "rprint(res[\"Item\"])"
   ]
  },
  {
   "cell_type": "markdown",
   "metadata": {
    "collapsed": false,
    "jupyter": {
     "outputs_hidden": false
    }
   },
   "source": [
    "If you retrieve the data using the ORM model, you will see the unencrypted data."
   ]
  },
  {
   "cell_type": "code",
   "execution_count": 4,
   "metadata": {
    "ExecuteTime": {
     "end_time": "2024-05-22T19:55:27.517622Z",
     "start_time": "2024-05-22T19:55:27.415602Z"
    },
    "collapsed": false,
    "jupyter": {
     "outputs_hidden": false
    },
    "pycharm": {
     "name": "#%%\n"
    }
   },
   "outputs": [
    {
     "data": {
      "text/html": [
       "<pre style=\"white-space:pre;overflow-x:auto;line-height:normal;font-family:Menlo,'DejaVu Sans Mono',consolas,'Courier New',monospace\"><span style=\"font-weight: bold\">{</span>\n",
       "    <span style=\"color: #008000; text-decoration-color: #008000\">'aid'</span>: <span style=\"color: #008000; text-decoration-color: #008000\">'aid-001'</span>,\n",
       "    <span style=\"color: #008000; text-decoration-color: #008000\">'secret_binary'</span>: <span style=\"color: #008000; text-decoration-color: #008000\">b'a secret image'</span>,\n",
       "    <span style=\"color: #008000; text-decoration-color: #008000\">'secret_data'</span>: <span style=\"font-weight: bold\">{</span><span style=\"color: #008000; text-decoration-color: #008000\">'Alice'</span>: <span style=\"color: #008080; text-decoration-color: #008080; font-weight: bold\">1</span>, <span style=\"color: #008000; text-decoration-color: #008000\">'Bob'</span>: <span style=\"color: #008080; text-decoration-color: #008080; font-weight: bold\">2</span>, <span style=\"color: #008000; text-decoration-color: #008000\">'Cathy'</span>: <span style=\"color: #008080; text-decoration-color: #008080; font-weight: bold\">3</span><span style=\"font-weight: bold\">}</span>,\n",
       "    <span style=\"color: #008000; text-decoration-color: #008000\">'secret_float'</span>: <span style=\"color: #008080; text-decoration-color: #008080; font-weight: bold\">3.14</span>,\n",
       "    <span style=\"color: #008000; text-decoration-color: #008000\">'secret_integer'</span>: <span style=\"color: #008080; text-decoration-color: #008080; font-weight: bold\">1234</span>,\n",
       "    <span style=\"color: #008000; text-decoration-color: #008000\">'secret_message'</span>: <span style=\"color: #008000; text-decoration-color: #008000\">'attack at 2PM tomorrow!'</span>\n",
       "<span style=\"font-weight: bold\">}</span>\n",
       "</pre>\n"
      ],
      "text/plain": [
       "\u001b[1m{\u001b[0m\n",
       "    \u001b[32m'aid'\u001b[0m: \u001b[32m'aid-001'\u001b[0m,\n",
       "    \u001b[32m'secret_binary'\u001b[0m: \u001b[32mb'a secret image'\u001b[0m,\n",
       "    \u001b[32m'secret_data'\u001b[0m: \u001b[1m{\u001b[0m\u001b[32m'Alice'\u001b[0m: \u001b[1;36m1\u001b[0m, \u001b[32m'Bob'\u001b[0m: \u001b[1;36m2\u001b[0m, \u001b[32m'Cathy'\u001b[0m: \u001b[1;36m3\u001b[0m\u001b[1m}\u001b[0m,\n",
       "    \u001b[32m'secret_float'\u001b[0m: \u001b[1;36m3.14\u001b[0m,\n",
       "    \u001b[32m'secret_integer'\u001b[0m: \u001b[1;36m1234\u001b[0m,\n",
       "    \u001b[32m'secret_message'\u001b[0m: \u001b[32m'attack at 2PM tomorrow!'\u001b[0m\n",
       "\u001b[1m}\u001b[0m\n"
      ]
     },
     "metadata": {},
     "output_type": "display_data"
    }
   ],
   "source": [
    "model = ArchiveModel.get(\"aid-001\")\n",
    "rprint(model.to_dict())"
   ]
  },
  {
   "cell_type": "markdown",
   "metadata": {
    "collapsed": false,
    "jupyter": {
     "outputs_hidden": false
    }
   },
   "source": [
    "For determinative fields (where the same unencrypted data always leads to the same encrypted data), you can still use them for queries."
   ]
  },
  {
   "cell_type": "code",
   "execution_count": 5,
   "metadata": {
    "ExecuteTime": {
     "end_time": "2024-05-22T19:56:09.686887Z",
     "start_time": "2024-05-22T19:56:09.651986Z"
    },
    "collapsed": false,
    "jupyter": {
     "outputs_hidden": false
    },
    "pycharm": {
     "name": "#%%\n"
    }
   },
   "outputs": [
    {
     "data": {
      "text/html": [
       "<pre style=\"white-space:pre;overflow-x:auto;line-height:normal;font-family:Menlo,'DejaVu Sans Mono',consolas,'Courier New',monospace\"><span style=\"font-weight: bold\">{</span>\n",
       "    <span style=\"color: #008000; text-decoration-color: #008000\">'aid'</span>: <span style=\"color: #008000; text-decoration-color: #008000\">'aid-001'</span>,\n",
       "    <span style=\"color: #008000; text-decoration-color: #008000\">'secret_binary'</span>: <span style=\"color: #008000; text-decoration-color: #008000\">b'a secret image'</span>,\n",
       "    <span style=\"color: #008000; text-decoration-color: #008000\">'secret_data'</span>: <span style=\"font-weight: bold\">{</span><span style=\"color: #008000; text-decoration-color: #008000\">'Alice'</span>: <span style=\"color: #008080; text-decoration-color: #008080; font-weight: bold\">1</span>, <span style=\"color: #008000; text-decoration-color: #008000\">'Bob'</span>: <span style=\"color: #008080; text-decoration-color: #008080; font-weight: bold\">2</span>, <span style=\"color: #008000; text-decoration-color: #008000\">'Cathy'</span>: <span style=\"color: #008080; text-decoration-color: #008080; font-weight: bold\">3</span><span style=\"font-weight: bold\">}</span>,\n",
       "    <span style=\"color: #008000; text-decoration-color: #008000\">'secret_float'</span>: <span style=\"color: #008080; text-decoration-color: #008080; font-weight: bold\">3.14</span>,\n",
       "    <span style=\"color: #008000; text-decoration-color: #008000\">'secret_integer'</span>: <span style=\"color: #008080; text-decoration-color: #008080; font-weight: bold\">1234</span>,\n",
       "    <span style=\"color: #008000; text-decoration-color: #008000\">'secret_message'</span>: <span style=\"color: #008000; text-decoration-color: #008000\">'attack at 2PM tomorrow!'</span>\n",
       "<span style=\"font-weight: bold\">}</span>\n",
       "</pre>\n"
      ],
      "text/plain": [
       "\u001b[1m{\u001b[0m\n",
       "    \u001b[32m'aid'\u001b[0m: \u001b[32m'aid-001'\u001b[0m,\n",
       "    \u001b[32m'secret_binary'\u001b[0m: \u001b[32mb'a secret image'\u001b[0m,\n",
       "    \u001b[32m'secret_data'\u001b[0m: \u001b[1m{\u001b[0m\u001b[32m'Alice'\u001b[0m: \u001b[1;36m1\u001b[0m, \u001b[32m'Bob'\u001b[0m: \u001b[1;36m2\u001b[0m, \u001b[32m'Cathy'\u001b[0m: \u001b[1;36m3\u001b[0m\u001b[1m}\u001b[0m,\n",
       "    \u001b[32m'secret_float'\u001b[0m: \u001b[1;36m3.14\u001b[0m,\n",
       "    \u001b[32m'secret_integer'\u001b[0m: \u001b[1;36m1234\u001b[0m,\n",
       "    \u001b[32m'secret_message'\u001b[0m: \u001b[32m'attack at 2PM tomorrow!'\u001b[0m\n",
       "\u001b[1m}\u001b[0m\n"
      ]
     },
     "metadata": {},
     "output_type": "display_data"
    }
   ],
   "source": [
    "for item in ArchiveModel.scan(\n",
    "    ArchiveModel.secret_message == \"attack at 2PM tomorrow!\"\n",
    "):\n",
    "    rprint(item.to_dict())"
   ]
  },
  {
   "cell_type": "markdown",
   "metadata": {
    "collapsed": false,
    "jupyter": {
     "outputs_hidden": false
    }
   },
   "source": [
    "Of course, you can perform updates as well."
   ]
  },
  {
   "cell_type": "code",
   "execution_count": 6,
   "metadata": {
    "ExecuteTime": {
     "end_time": "2024-05-22T19:56:30.340002Z",
     "start_time": "2024-05-22T19:56:30.296950Z"
    },
    "collapsed": false,
    "jupyter": {
     "outputs_hidden": false
    },
    "pycharm": {
     "name": "#%%\n"
    }
   },
   "outputs": [
    {
     "data": {
      "text/html": [
       "<pre style=\"white-space:pre;overflow-x:auto;line-height:normal;font-family:Menlo,'DejaVu Sans Mono',consolas,'Courier New',monospace\"><span style=\"font-weight: bold\">{</span>\n",
       "    <span style=\"color: #008000; text-decoration-color: #008000\">'aid'</span>: <span style=\"color: #008000; text-decoration-color: #008000\">'aid-001'</span>,\n",
       "    <span style=\"color: #008000; text-decoration-color: #008000\">'secret_binary'</span>: <span style=\"color: #008000; text-decoration-color: #008000\">b'a secret image'</span>,\n",
       "    <span style=\"color: #008000; text-decoration-color: #008000\">'secret_data'</span>: <span style=\"font-weight: bold\">{</span><span style=\"color: #008000; text-decoration-color: #008000\">'Alice'</span>: <span style=\"color: #008080; text-decoration-color: #008080; font-weight: bold\">1</span>, <span style=\"color: #008000; text-decoration-color: #008000\">'Bob'</span>: <span style=\"color: #008080; text-decoration-color: #008080; font-weight: bold\">2</span>, <span style=\"color: #008000; text-decoration-color: #008000\">'Cathy'</span>: <span style=\"color: #008080; text-decoration-color: #008080; font-weight: bold\">3</span><span style=\"font-weight: bold\">}</span>,\n",
       "    <span style=\"color: #008000; text-decoration-color: #008000\">'secret_float'</span>: <span style=\"color: #008080; text-decoration-color: #008080; font-weight: bold\">3.14</span>,\n",
       "    <span style=\"color: #008000; text-decoration-color: #008000\">'secret_integer'</span>: <span style=\"color: #008080; text-decoration-color: #008080; font-weight: bold\">1234</span>,\n",
       "    <span style=\"color: #008000; text-decoration-color: #008000\">'secret_message'</span>: <span style=\"color: #008000; text-decoration-color: #008000\">'Hold the fire now!'</span>\n",
       "<span style=\"font-weight: bold\">}</span>\n",
       "</pre>\n"
      ],
      "text/plain": [
       "\u001b[1m{\u001b[0m\n",
       "    \u001b[32m'aid'\u001b[0m: \u001b[32m'aid-001'\u001b[0m,\n",
       "    \u001b[32m'secret_binary'\u001b[0m: \u001b[32mb'a secret image'\u001b[0m,\n",
       "    \u001b[32m'secret_data'\u001b[0m: \u001b[1m{\u001b[0m\u001b[32m'Alice'\u001b[0m: \u001b[1;36m1\u001b[0m, \u001b[32m'Bob'\u001b[0m: \u001b[1;36m2\u001b[0m, \u001b[32m'Cathy'\u001b[0m: \u001b[1;36m3\u001b[0m\u001b[1m}\u001b[0m,\n",
       "    \u001b[32m'secret_float'\u001b[0m: \u001b[1;36m3.14\u001b[0m,\n",
       "    \u001b[32m'secret_integer'\u001b[0m: \u001b[1;36m1234\u001b[0m,\n",
       "    \u001b[32m'secret_message'\u001b[0m: \u001b[32m'Hold the fire now!'\u001b[0m\n",
       "\u001b[1m}\u001b[0m\n"
      ]
     },
     "metadata": {},
     "output_type": "display_data"
    }
   ],
   "source": [
    "# Update\n",
    "model.update([\n",
    "    ArchiveModel.secret_message.set(\"Hold the fire now!\")\n",
    "])\n",
    "model.refresh()\n",
    "\n",
    "rprint(model.to_dict())"
   ]
  },
  {
   "cell_type": "markdown",
   "metadata": {
    "collapsed": false,
    "jupyter": {
     "outputs_hidden": false
    },
    "pycharm": {
     "name": "#%% md\n"
    }
   },
   "source": [
    "## Custom Encrypted Attribute.\n",
    "\n",
    "``pynamodb_mate`` has four built-in Encrypted attribute:\n",
    "\n",
    "- ``pynamodb_mate.api.attributes.EncryptedNumberAttribute``\n",
    "- ``pynamodb_mate.api.attributes.EncryptedUnicodeAttribute``\n",
    "- ``pynamodb_mate.api.attributes.EncryptedBinaryAttribute``\n",
    "- ``pynamodb_mate.api.attributes.EncryptedJsonDictAttribute``\n",
    "\n",
    "You can create your own encrypted attributes for arbitrary input. You just need to define how you want to serialize/deserialize the data to/from binary."
   ]
  },
  {
   "cell_type": "code",
   "execution_count": 7,
   "metadata": {
    "ExecuteTime": {
     "end_time": "2024-05-22T19:59:21.550504Z",
     "start_time": "2024-05-22T19:59:21.547218Z"
    },
    "collapsed": false,
    "jupyter": {
     "outputs_hidden": false
    },
    "pycharm": {
     "name": "#%%\n"
    }
   },
   "outputs": [],
   "source": [
    "# A Custom Encrypted Attribute that store Json list\n",
    "import json\n",
    "\n",
    "class EncryptedJsonListAttribute(pm.attributes.SymmetricEncryptedAttribute):\n",
    "    \"\"\"\n",
    "    Encrypted JSON data Attribute.\n",
    "    \"\"\"\n",
    "    def user_serializer(self, value: list) -> bytes:\n",
    "        return json.dumps(value).encode(\"utf-8\")\n",
    "\n",
    "    def user_deserializer(self, value: bytes) -> list:\n",
    "        return json.loads(value.decode(\"utf-8\"))"
   ]
  },
  {
   "cell_type": "code",
   "execution_count": null,
   "metadata": {
    "collapsed": false,
    "jupyter": {
     "outputs_hidden": false
    },
    "pycharm": {
     "name": "#%%\n"
    }
   },
   "outputs": [],
   "source": []
  }
 ],
 "metadata": {
  "kernelspec": {
   "display_name": "Python 3 (ipykernel)",
   "language": "python",
   "name": "python3"
  },
  "language_info": {
   "codemirror_mode": {
    "name": "ipython",
    "version": 3
   },
   "file_extension": ".py",
   "mimetype": "text/x-python",
   "name": "python",
   "nbconvert_exporter": "python",
   "pygments_lexer": "ipython3",
   "version": "3.8.13"
  }
 },
 "nbformat": 4,
 "nbformat_minor": 4
}

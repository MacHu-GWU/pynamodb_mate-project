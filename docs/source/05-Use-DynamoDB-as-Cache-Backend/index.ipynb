{
 "cells": [
  {
   "cell_type": "markdown",
   "metadata": {
    "collapsed": false,
    "jupyter": {
     "outputs_hidden": false
    },
    "pycharm": {
     "name": "#%% md\n"
    }
   },
   "source": [
    "# Use DynamoDB as a Cache Backend\n",
    "\n",
    "This feature gives you a \"Redis\" liked, serverless, Zero-ops, auto-scaling, high performance, pay-as-you-go cache layer based on DynamoDB.\n",
    "\n",
    "NOTE: this solution is based on [pynamodb_mate](https://github.com/MacHu-GWU/pynamodb_mate-project) Python library.\n",
    "\n",
    "A lots of developer love Redis. However, redis is not a serverless solution, and you need to manage the server (or cluster). **DynamoDB naturally is a serverless, distributive, Key-Value database that has very high read / write throughput. It is a good choice to use DynamoDB as a cache without technique overhead**.\n",
    "\n",
    "⭐ Benefit:\n",
    "\n",
    "- There's no server to manage.\n",
    "- DynamoDB has a latency around 20ms per request.\n",
    "- DynamoDB cache backend can be created in 5 seconds.\n",
    "- DynamoDB has pay-as-you-go pricing model, you only pay for what you use.\n",
    "- DynamoDB automatically scales up and down to adapt your traffic.\n",
    "- Unlike other local cache solutions, it is on cloud and has permission control and access control out-of-the-box."
   ]
  },
  {
   "cell_type": "markdown",
   "metadata": {
    "collapsed": false,
    "jupyter": {
     "outputs_hidden": false
    },
    "pycharm": {
     "name": "#%% md\n"
    }
   },
   "source": [
    "## Declare a Cache Backend\n",
    "\n",
    "Cache is nothing but just a key-value store. It uses binary as the storage protocol to store your data (All data will be serialized into binary first). You have to explicitly tell the cache how you convert your data to binary or how you recover your data from binary."
   ]
  },
  {
   "cell_type": "code",
   "execution_count": 1,
   "metadata": {
    "ExecuteTime": {
     "end_time": "2024-05-22T20:15:39.562640Z",
     "start_time": "2024-05-22T20:15:39.448229Z"
    },
    "collapsed": false,
    "jupyter": {
     "outputs_hidden": false
    },
    "pycharm": {
     "name": "#%%\n"
    }
   },
   "outputs": [],
   "source": [
    "import dataclasses\n",
    "import time\n",
    "import pickle\n",
    "import pynamodb_mate.api as pm"
   ]
  },
  {
   "cell_type": "code",
   "execution_count": 2,
   "metadata": {
    "ExecuteTime": {
     "end_time": "2024-05-22T20:19:05.756010Z",
     "start_time": "2024-05-22T20:19:05.603092Z"
    },
    "collapsed": false,
    "jupyter": {
     "outputs_hidden": false
    },
    "pycharm": {
     "name": "#%%\n"
    }
   },
   "outputs": [],
   "source": [
    "# assume that this is your data\n",
    "@dataclasses.dataclass\n",
    "class PersonProfile:\n",
    "    name: str\n",
    "    ssn: str\n",
    "\n",
    "# pm.patterns.cache.DynamoDBBackend[PersonProfile] tells the cache that your data type is PersonProfile\n",
    "# so you will have type hint automatically\n",
    "class MyCache(pm.patterns.cache.DynamoDBBackend[PersonProfile]):\n",
    "    def serialize(self, value: PersonProfile) -> bytes:\n",
    "        return pickle.dumps(value)\n",
    "\n",
    "    def deserialize(self, value: bytes) -> PersonProfile:\n",
    "        return pickle.loads(value)\n",
    "\n",
    "\n",
    "cache = MyCache(\n",
    "    table_name=\"pynamodb-example-cache\",\n",
    "    region=\"us-east-1\", # aws region \n",
    "    # billing_mode=\"PAY_PER_REQUEST\", # billing model to use when creating the table \n",
    "    # write_capacity_units=5, # WCU configuration when creating the table \n",
    "    # read_capacity_units=5, # RCU configuration when creating the table \n",
    "    # if True, create the table when initializing the backend,\n",
    "    # if table already exists, then do nothing. if False, you should create\n",
    "    # the table manually before using the backend.\n",
    "    create=True,   \n",
    ")"
   ]
  },
  {
   "cell_type": "markdown",
   "metadata": {
    "collapsed": false,
    "jupyter": {
     "outputs_hidden": false
    },
    "pycharm": {
     "name": "#%% md\n"
    }
   },
   "source": [
    "**THAT's IT**, by default it uses pay as you go pricing model.\n",
    "\n",
    "## Use ``Cache.set`` and ``Cache.get``"
   ]
  },
  {
   "cell_type": "code",
   "execution_count": 3,
   "metadata": {
    "ExecuteTime": {
     "end_time": "2024-05-22T20:19:07.047534Z",
     "start_time": "2024-05-22T20:19:07.031321Z"
    },
    "collapsed": false,
    "jupyter": {
     "outputs_hidden": false
    },
    "pycharm": {
     "name": "#%%\n"
    }
   },
   "outputs": [
    {
     "name": "stdout",
     "output_type": "stream",
     "text": [
      "PersonProfile(name='Alice', ssn='123-45-6789')\n"
     ]
    }
   ],
   "source": [
    "key = \"alice\"\n",
    "\n",
    "# cache not hit\n",
    "print(cache.get(key))"
   ]
  },
  {
   "cell_type": "code",
   "execution_count": 4,
   "metadata": {
    "ExecuteTime": {
     "end_time": "2024-05-22T20:19:07.816368Z",
     "start_time": "2024-05-22T20:19:07.792328Z"
    },
    "collapsed": false,
    "jupyter": {
     "outputs_hidden": false
    },
    "pycharm": {
     "name": "#%%\n"
    }
   },
   "outputs": [],
   "source": [
    "cache.set(key, PersonProfile(name=\"Alice\", ssn=\"123-45-6789\"))"
   ]
  },
  {
   "cell_type": "code",
   "execution_count": 5,
   "metadata": {
    "ExecuteTime": {
     "end_time": "2024-05-22T20:19:08.084213Z",
     "start_time": "2024-05-22T20:19:08.058395Z"
    },
    "collapsed": false,
    "jupyter": {
     "outputs_hidden": false
    },
    "pycharm": {
     "name": "#%%\n"
    }
   },
   "outputs": [
    {
     "data": {
      "text/plain": [
       "PersonProfile(name='Alice', ssn='123-45-6789')"
      ]
     },
     "execution_count": 5,
     "metadata": {},
     "output_type": "execute_result"
    }
   ],
   "source": [
    "cache.get(key)"
   ]
  },
  {
   "cell_type": "markdown",
   "metadata": {
    "collapsed": false,
    "jupyter": {
     "outputs_hidden": false
    },
    "pycharm": {
     "name": "#%% md\n"
    }
   },
   "source": [
    "## Use Time-to-live (TTL)"
   ]
  },
  {
   "cell_type": "code",
   "execution_count": 6,
   "metadata": {
    "ExecuteTime": {
     "end_time": "2024-05-22T20:19:28.949669Z",
     "start_time": "2024-05-22T20:19:26.871555Z"
    },
    "collapsed": false,
    "jupyter": {
     "outputs_hidden": false
    },
    "pycharm": {
     "name": "#%%\n"
    }
   },
   "outputs": [
    {
     "name": "stdout",
     "output_type": "stream",
     "text": [
      "we try to get the value immediately, the cache should be hit:\n",
      "cache.get(key) = PersonProfile(name='Bob', ssn='123-45-6789')\n",
      "after wait for 2 seconds, the cache should be expired:\n",
      "cache.get(key) = None\n"
     ]
    }
   ],
   "source": [
    "key = \"bob\"\n",
    "\n",
    "# set the key-value with TTL\n",
    "cache.set(key, PersonProfile(name=\"Bob\", ssn=\"123-45-6789\"), expire=1)\n",
    "\n",
    "print(\"we try to get the value immediately, the cache should be hit:\")\n",
    "print(f\"{cache.get(key) = }\")\n",
    "\n",
    "print(\"after wait for 2 seconds, the cache should be expired:\")\n",
    "time.sleep(2)\n",
    "print(f\"{cache.get(key) = }\")"
   ]
  },
  {
   "cell_type": "code",
   "execution_count": null,
   "metadata": {
    "collapsed": false,
    "jupyter": {
     "outputs_hidden": false
    },
    "pycharm": {
     "name": "#%%\n"
    }
   },
   "outputs": [],
   "source": []
  }
 ],
 "metadata": {
  "kernelspec": {
   "display_name": "Python 3 (ipykernel)",
   "language": "python",
   "name": "python3"
  },
  "language_info": {
   "codemirror_mode": {
    "name": "ipython",
    "version": 3
   },
   "file_extension": ".py",
   "mimetype": "text/x-python",
   "name": "python",
   "nbconvert_exporter": "python",
   "pygments_lexer": "ipython3",
   "version": "3.8.13"
  }
 },
 "nbformat": 4,
 "nbformat_minor": 4
}

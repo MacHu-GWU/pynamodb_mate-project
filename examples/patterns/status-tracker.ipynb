{
 "cells": [
  {
   "cell_type": "markdown",
   "source": [
    "# Enable status tracking for business critical application using Amazon DynamoDB\n",
    "\n",
    "- [Initialize a Task](#Initialize-a-Task)\n",
    "\n",
    "In this example, we introduce a pattern for tracking the status of business critical tasks using Amazon DynamoDB as the backend. This feature gives you the ability to track status of each task, and error-handling, retry, concurrency control out-of-the-box.\n",
    "\n",
    "NOTE: this solution is based on [pynamodb_mate](https://github.com/MacHu-GWU/pynamodb_mate-project) Python library.\n",
    "\n",
    "When managing a large number of business-critical tasks, it is crucial to monitor and identify which tasks have been successful, which have failed, and which are still in progress. If the business logic is a pipeline consisting of a sequence of tasks, it is important to keep track of its current status and have the ability to recover from any failed task. We also have seen some advanced requirements from AWS customers that includes:\n",
    "\n",
    "- Each task should be consumed once and exactly once.\n",
    "- Each task should be handled by only one worker, you want a concurrency lock mechanism to avoid double consumption.\n",
    "- For those succeeded tasks, store additional information such as the output, statistics, metadata of the task and log the success time.\n",
    "- For those failed tasks, you want to log the detailed error message for debugging.\n",
    "- You want to get all of the failed tasks by one simple query and rerun with the updated business logic.\n",
    "- Task might be impossible to complete. To avoid falling into an endless retry loop, you want to ignore the tasks if they fail too many times.\n",
    "- Run custom query based on task status for analytics purpose.\n",
    "\n",
    "With [pynamodb_mate](https://github.com/MacHu-GWU/pynamodb_mate-project) Python library, you can enable this advanced feature without refactoring your existing application code, and you can use the \"elegant\" context manager to wrap around your business logic code and enjoy all the features above."
   ],
   "metadata": {
    "collapsed": false,
    "pycharm": {
     "name": "#%% md\n"
    }
   }
  },
  {
   "cell_type": "markdown",
   "source": [
    "## Declare Your DynamoDB Status Tracking Table\n",
    "\n",
    "1. First, We define some status code using the enum Python standard library. It improves the code readability and avoids hard coding meaningless integers everywhere in the code base.\n",
    "2. We declare a DynamoDB table data model and the status GSI index schema.\n",
    "3. We also declare some configs."
   ],
   "metadata": {
    "collapsed": false,
    "pycharm": {
     "name": "#%% md\n"
    }
   }
  },
  {
   "cell_type": "code",
   "execution_count": 1,
   "outputs": [],
   "source": [
    "import pynamodb_mate as pm\n",
    "from rich import print as rprint"
   ],
   "metadata": {
    "collapsed": false,
    "pycharm": {
     "name": "#%%\n"
    }
   }
  },
  {
   "cell_type": "code",
   "execution_count": 2,
   "outputs": [],
   "source": [
    "# inherit from the base status enum class and give your status\n",
    "# a human-readable name and a machine-readable integer\n",
    "# usually the closer to success, the bigger the integer is\n",
    "class StatusEnum(pm.patterns.status_tracker.BaseStatusEnum):\n",
    "    s00_todo = 0\n",
    "    s03_in_progress = 3\n",
    "    s06_failed = 6\n",
    "    s09_success = 9\n",
    "    s10_ignore = 10\n",
    "\n",
    "\n",
    "class Tracker(pm.patterns.status_tracker.BaseStatusTracker):\n",
    "    class Meta:\n",
    "        # define the table name\n",
    "        table_name = \"pynamodb-mate-example-status-tracker\"\n",
    "        # define the AWS region\n",
    "        region = \"us-east-1\"\n",
    "        # define the billing mode, pay-as-you-go or provisioned\n",
    "        billing_mode = pm.PAY_PER_REQUEST_BILLING_MODE\n",
    "\n",
    "    # if you want to query your task by status, you have to define this index\n",
    "    # the name of this attribute doesn't matter\n",
    "    status_and_update_time_index = pm.patterns.status_tracker.StatusAndUpdateTimeIndex()\n",
    "\n",
    "    # one DynamoDB table can serve multiple jobs\n",
    "    # if you defined a default job id for the table\n",
    "    # you don't need to explicitly specify the job id in many API\n",
    "    # in this specific example, we only have one job called \"test-job\"\n",
    "    JOB_ID: str = \"test-job\"\n",
    "    # how many digits the max status code have, this ensures that the\n",
    "    # status can be used in comparison\n",
    "    STATUS_ZERO_PAD = 3\n",
    "    # how many retry is allowed before we ignore it\n",
    "    MAX_RETRY = 3\n",
    "    # how long the lock will expire\n",
    "    LOCK_EXPIRE_SECONDS = 900\n",
    "    # the default status code, means \"to do\", usually start from 0\n",
    "    DEFAULT_STATUS = StatusEnum.s00_todo.value\n",
    "    # the status enum class for this tracker\n",
    "    STATUS_ENUM = StatusEnum\n",
    "\n",
    "    def start_job(\n",
    "        self,\n",
    "        debug=True,\n",
    "    ) -> \"Tracker\":\n",
    "        \"\"\"\n",
    "        This is just an example of how to use :meth:`BaseStatusTracker.start`.\n",
    "\n",
    "        A job should always have four related status codes:\n",
    "\n",
    "        - in process status\n",
    "        - failed status\n",
    "        - success status\n",
    "        - ignore status\n",
    "\n",
    "        If you have multiple type of jobs, I recommend creating multiple\n",
    "        wrapper functions like this for each type of jobs. And ensure that\n",
    "        the \"ignore\" status value is the largest status value among all,\n",
    "        and use the same \"ignore\" status value for all type of jobs.\n",
    "        \"\"\"\n",
    "        return self.start(\n",
    "            in_process_status=StatusEnum.s03_in_progress,\n",
    "            failed_status=StatusEnum.s06_failed,\n",
    "            success_status=StatusEnum.s09_success,\n",
    "            ignore_status=StatusEnum.s10_ignore,\n",
    "            debug=debug,\n",
    "        )"
   ],
   "metadata": {
    "collapsed": false,
    "pycharm": {
     "name": "#%%\n"
    }
   }
  },
  {
   "cell_type": "code",
   "execution_count": 3,
   "outputs": [],
   "source": [
    "# Create the table if it doesn't exist\n",
    "Tracker.create_table(wait=True)"
   ],
   "metadata": {
    "collapsed": false,
    "pycharm": {
     "name": "#%%\n"
    }
   }
  },
  {
   "cell_type": "markdown",
   "source": [
    "## Initialize a Task\n",
    "\n",
    "The ``Tracker.new(task_id, data)`` method can be used to initialize a task and save to DynamoDB using the ``DEFAULT_STATUS``."
   ],
   "metadata": {
    "collapsed": false,
    "pycharm": {
     "name": "#%% md\n"
    }
   }
  },
  {
   "cell_type": "code",
   "execution_count": 4,
   "outputs": [
    {
     "data": {
      "text/plain": "\u001B[1m{\u001B[0m\n    \u001B[32m'create_time'\u001B[0m: \u001B[1;35mdatetime.datetime\u001B[0m\u001B[1m(\u001B[0m\u001B[1;36m2023\u001B[0m, \u001B[1;36m2\u001B[0m, \u001B[1;36m4\u001B[0m, \u001B[1;36m3\u001B[0m, \u001B[1;36m23\u001B[0m, \u001B[1;36m2\u001B[0m, \u001B[1;36m681803\u001B[0m, \u001B[33mtzinfo\u001B[0m=\u001B[35mdatetime\u001B[0m.timezone.utc\u001B[1m)\u001B[0m,\n    \u001B[32m'data'\u001B[0m: \u001B[1m{\u001B[0m\u001B[32m'version'\u001B[0m: \u001B[1;36m1\u001B[0m\u001B[1m}\u001B[0m,\n    \u001B[32m'errors'\u001B[0m: \u001B[1m{\u001B[0m\u001B[1m}\u001B[0m,\n    \u001B[32m'lock_time'\u001B[0m: \u001B[1;35mdatetime.datetime\u001B[0m\u001B[1m(\u001B[0m\u001B[1;36m1970\u001B[0m, \u001B[1;36m1\u001B[0m, \u001B[1;36m1\u001B[0m, \u001B[1;36m0\u001B[0m, \u001B[1;36m0\u001B[0m, \u001B[33mtzinfo\u001B[0m=\u001B[35mdatetime\u001B[0m.timezone.utc\u001B[1m)\u001B[0m,\n    \u001B[32m'retry'\u001B[0m: \u001B[1;36m0\u001B[0m,\n    \u001B[32m'update_time'\u001B[0m: \u001B[1;35mdatetime.datetime\u001B[0m\u001B[1m(\u001B[0m\u001B[1;36m2023\u001B[0m, \u001B[1;36m2\u001B[0m, \u001B[1;36m4\u001B[0m, \u001B[1;36m3\u001B[0m, \u001B[1;36m23\u001B[0m, \u001B[1;36m2\u001B[0m, \u001B[1;36m681824\u001B[0m, \u001B[33mtzinfo\u001B[0m=\u001B[35mdatetime\u001B[0m.timezone.utc\u001B[1m)\u001B[0m,\n    \u001B[32m'key'\u001B[0m: \u001B[32m'test-job____t-1'\u001B[0m,\n    \u001B[32m'value'\u001B[0m: \u001B[32m'test-job____000'\u001B[0m\n\u001B[1m}\u001B[0m\n",
      "text/html": "<pre style=\"white-space:pre;overflow-x:auto;line-height:normal;font-family:Menlo,'DejaVu Sans Mono',consolas,'Courier New',monospace\"><span style=\"font-weight: bold\">{</span>\n    <span style=\"color: #008000; text-decoration-color: #008000\">'create_time'</span>: <span style=\"color: #800080; text-decoration-color: #800080; font-weight: bold\">datetime.datetime</span><span style=\"font-weight: bold\">(</span><span style=\"color: #008080; text-decoration-color: #008080; font-weight: bold\">2023</span>, <span style=\"color: #008080; text-decoration-color: #008080; font-weight: bold\">2</span>, <span style=\"color: #008080; text-decoration-color: #008080; font-weight: bold\">4</span>, <span style=\"color: #008080; text-decoration-color: #008080; font-weight: bold\">3</span>, <span style=\"color: #008080; text-decoration-color: #008080; font-weight: bold\">23</span>, <span style=\"color: #008080; text-decoration-color: #008080; font-weight: bold\">2</span>, <span style=\"color: #008080; text-decoration-color: #008080; font-weight: bold\">681803</span>, <span style=\"color: #808000; text-decoration-color: #808000\">tzinfo</span>=<span style=\"color: #800080; text-decoration-color: #800080\">datetime</span>.timezone.utc<span style=\"font-weight: bold\">)</span>,\n    <span style=\"color: #008000; text-decoration-color: #008000\">'data'</span>: <span style=\"font-weight: bold\">{</span><span style=\"color: #008000; text-decoration-color: #008000\">'version'</span>: <span style=\"color: #008080; text-decoration-color: #008080; font-weight: bold\">1</span><span style=\"font-weight: bold\">}</span>,\n    <span style=\"color: #008000; text-decoration-color: #008000\">'errors'</span>: <span style=\"font-weight: bold\">{}</span>,\n    <span style=\"color: #008000; text-decoration-color: #008000\">'lock_time'</span>: <span style=\"color: #800080; text-decoration-color: #800080; font-weight: bold\">datetime.datetime</span><span style=\"font-weight: bold\">(</span><span style=\"color: #008080; text-decoration-color: #008080; font-weight: bold\">1970</span>, <span style=\"color: #008080; text-decoration-color: #008080; font-weight: bold\">1</span>, <span style=\"color: #008080; text-decoration-color: #008080; font-weight: bold\">1</span>, <span style=\"color: #008080; text-decoration-color: #008080; font-weight: bold\">0</span>, <span style=\"color: #008080; text-decoration-color: #008080; font-weight: bold\">0</span>, <span style=\"color: #808000; text-decoration-color: #808000\">tzinfo</span>=<span style=\"color: #800080; text-decoration-color: #800080\">datetime</span>.timezone.utc<span style=\"font-weight: bold\">)</span>,\n    <span style=\"color: #008000; text-decoration-color: #008000\">'retry'</span>: <span style=\"color: #008080; text-decoration-color: #008080; font-weight: bold\">0</span>,\n    <span style=\"color: #008000; text-decoration-color: #008000\">'update_time'</span>: <span style=\"color: #800080; text-decoration-color: #800080; font-weight: bold\">datetime.datetime</span><span style=\"font-weight: bold\">(</span><span style=\"color: #008080; text-decoration-color: #008080; font-weight: bold\">2023</span>, <span style=\"color: #008080; text-decoration-color: #008080; font-weight: bold\">2</span>, <span style=\"color: #008080; text-decoration-color: #008080; font-weight: bold\">4</span>, <span style=\"color: #008080; text-decoration-color: #008080; font-weight: bold\">3</span>, <span style=\"color: #008080; text-decoration-color: #008080; font-weight: bold\">23</span>, <span style=\"color: #008080; text-decoration-color: #008080; font-weight: bold\">2</span>, <span style=\"color: #008080; text-decoration-color: #008080; font-weight: bold\">681824</span>, <span style=\"color: #808000; text-decoration-color: #808000\">tzinfo</span>=<span style=\"color: #800080; text-decoration-color: #800080\">datetime</span>.timezone.utc<span style=\"font-weight: bold\">)</span>,\n    <span style=\"color: #008000; text-decoration-color: #008000\">'key'</span>: <span style=\"color: #008000; text-decoration-color: #008000\">'test-job____t-1'</span>,\n    <span style=\"color: #008000; text-decoration-color: #008000\">'value'</span>: <span style=\"color: #008000; text-decoration-color: #008000\">'test-job____000'</span>\n<span style=\"font-weight: bold\">}</span>\n</pre>\n"
     },
     "metadata": {},
     "output_type": "display_data"
    }
   ],
   "source": [
    "task_id = \"t-1\"\n",
    "\n",
    "# create a new task\n",
    "tracker = Tracker.new(task_id, data={\"version\": 1})\n",
    "rprint(tracker.to_dict())"
   ],
   "metadata": {
    "collapsed": false,
    "pycharm": {
     "name": "#%%\n"
    }
   }
  },
  {
   "cell_type": "markdown",
   "source": [
    "The ``.start(in_process_status, failed_status, success_status, ignore_status)`` method is a context manager that automatically update status at begin and the end, and lock the task to avoid concurrent access. We declared a ``.start_job()`` method to wrap the original ``.start(...)`` method to avoid entering too many arguments."
   ],
   "metadata": {
    "collapsed": false,
    "pycharm": {
     "name": "#%% md\n"
    }
   }
  },
  {
   "cell_type": "code",
   "execution_count": 5,
   "outputs": [
    {
     "name": "stdout",
     "output_type": "stream",
     "text": [
      "before the job started, the lock status is False\n",
      "------ ▶️ start task(job_id='test-job', task_id='t-1', status='s00_todo') ------\n",
      "🔓 set status 's03_in_progress' and lock the task.\n",
      "at begin, the status became 's03_in_progress'\n",
      "and you can see that the task is locked\n"
     ]
    },
    {
     "data": {
      "text/plain": "\u001B[1m{\u001B[0m\n    \u001B[32m'create_time'\u001B[0m: \u001B[1;35mdatetime.datetime\u001B[0m\u001B[1m(\u001B[0m\u001B[1;36m2023\u001B[0m, \u001B[1;36m2\u001B[0m, \u001B[1;36m4\u001B[0m, \u001B[1;36m3\u001B[0m, \u001B[1;36m23\u001B[0m, \u001B[1;36m2\u001B[0m, \u001B[1;36m681803\u001B[0m, \u001B[33mtzinfo\u001B[0m=\u001B[35mdatetime\u001B[0m.timezone.utc\u001B[1m)\u001B[0m,\n    \u001B[32m'data'\u001B[0m: \u001B[1m{\u001B[0m\u001B[32m'version'\u001B[0m: \u001B[1;36m1\u001B[0m\u001B[1m}\u001B[0m,\n    \u001B[32m'errors'\u001B[0m: \u001B[1m{\u001B[0m\u001B[1m}\u001B[0m,\n    \u001B[32m'lock_time'\u001B[0m: \u001B[1;35mdatetime.datetime\u001B[0m\u001B[1m(\u001B[0m\u001B[1;36m2023\u001B[0m, \u001B[1;36m2\u001B[0m, \u001B[1;36m4\u001B[0m, \u001B[1;36m3\u001B[0m, \u001B[1;36m23\u001B[0m, \u001B[1;36m2\u001B[0m, \u001B[1;36m761224\u001B[0m, \u001B[33mtzinfo\u001B[0m=\u001B[35mdatetime\u001B[0m.timezone.utc\u001B[1m)\u001B[0m,\n    \u001B[32m'retry'\u001B[0m: \u001B[1;36m0\u001B[0m,\n    \u001B[32m'update_time'\u001B[0m: \u001B[1;35mdatetime.datetime\u001B[0m\u001B[1m(\u001B[0m\u001B[1;36m2023\u001B[0m, \u001B[1;36m2\u001B[0m, \u001B[1;36m4\u001B[0m, \u001B[1;36m3\u001B[0m, \u001B[1;36m23\u001B[0m, \u001B[1;36m2\u001B[0m, \u001B[1;36m760821\u001B[0m, \u001B[33mtzinfo\u001B[0m=\u001B[35mdatetime\u001B[0m.timezone.utc\u001B[1m)\u001B[0m,\n    \u001B[32m'key'\u001B[0m: \u001B[32m'test-job____t-1'\u001B[0m,\n    \u001B[32m'lock'\u001B[0m: \u001B[32m'f5c3eee3f8c34f3b85aa79de815d6275'\u001B[0m,\n    \u001B[32m'value'\u001B[0m: \u001B[32m'test-job____003'\u001B[0m\n\u001B[1m}\u001B[0m\n",
      "text/html": "<pre style=\"white-space:pre;overflow-x:auto;line-height:normal;font-family:Menlo,'DejaVu Sans Mono',consolas,'Courier New',monospace\"><span style=\"font-weight: bold\">{</span>\n    <span style=\"color: #008000; text-decoration-color: #008000\">'create_time'</span>: <span style=\"color: #800080; text-decoration-color: #800080; font-weight: bold\">datetime.datetime</span><span style=\"font-weight: bold\">(</span><span style=\"color: #008080; text-decoration-color: #008080; font-weight: bold\">2023</span>, <span style=\"color: #008080; text-decoration-color: #008080; font-weight: bold\">2</span>, <span style=\"color: #008080; text-decoration-color: #008080; font-weight: bold\">4</span>, <span style=\"color: #008080; text-decoration-color: #008080; font-weight: bold\">3</span>, <span style=\"color: #008080; text-decoration-color: #008080; font-weight: bold\">23</span>, <span style=\"color: #008080; text-decoration-color: #008080; font-weight: bold\">2</span>, <span style=\"color: #008080; text-decoration-color: #008080; font-weight: bold\">681803</span>, <span style=\"color: #808000; text-decoration-color: #808000\">tzinfo</span>=<span style=\"color: #800080; text-decoration-color: #800080\">datetime</span>.timezone.utc<span style=\"font-weight: bold\">)</span>,\n    <span style=\"color: #008000; text-decoration-color: #008000\">'data'</span>: <span style=\"font-weight: bold\">{</span><span style=\"color: #008000; text-decoration-color: #008000\">'version'</span>: <span style=\"color: #008080; text-decoration-color: #008080; font-weight: bold\">1</span><span style=\"font-weight: bold\">}</span>,\n    <span style=\"color: #008000; text-decoration-color: #008000\">'errors'</span>: <span style=\"font-weight: bold\">{}</span>,\n    <span style=\"color: #008000; text-decoration-color: #008000\">'lock_time'</span>: <span style=\"color: #800080; text-decoration-color: #800080; font-weight: bold\">datetime.datetime</span><span style=\"font-weight: bold\">(</span><span style=\"color: #008080; text-decoration-color: #008080; font-weight: bold\">2023</span>, <span style=\"color: #008080; text-decoration-color: #008080; font-weight: bold\">2</span>, <span style=\"color: #008080; text-decoration-color: #008080; font-weight: bold\">4</span>, <span style=\"color: #008080; text-decoration-color: #008080; font-weight: bold\">3</span>, <span style=\"color: #008080; text-decoration-color: #008080; font-weight: bold\">23</span>, <span style=\"color: #008080; text-decoration-color: #008080; font-weight: bold\">2</span>, <span style=\"color: #008080; text-decoration-color: #008080; font-weight: bold\">761224</span>, <span style=\"color: #808000; text-decoration-color: #808000\">tzinfo</span>=<span style=\"color: #800080; text-decoration-color: #800080\">datetime</span>.timezone.utc<span style=\"font-weight: bold\">)</span>,\n    <span style=\"color: #008000; text-decoration-color: #008000\">'retry'</span>: <span style=\"color: #008080; text-decoration-color: #008080; font-weight: bold\">0</span>,\n    <span style=\"color: #008000; text-decoration-color: #008000\">'update_time'</span>: <span style=\"color: #800080; text-decoration-color: #800080; font-weight: bold\">datetime.datetime</span><span style=\"font-weight: bold\">(</span><span style=\"color: #008080; text-decoration-color: #008080; font-weight: bold\">2023</span>, <span style=\"color: #008080; text-decoration-color: #008080; font-weight: bold\">2</span>, <span style=\"color: #008080; text-decoration-color: #008080; font-weight: bold\">4</span>, <span style=\"color: #008080; text-decoration-color: #008080; font-weight: bold\">3</span>, <span style=\"color: #008080; text-decoration-color: #008080; font-weight: bold\">23</span>, <span style=\"color: #008080; text-decoration-color: #008080; font-weight: bold\">2</span>, <span style=\"color: #008080; text-decoration-color: #008080; font-weight: bold\">760821</span>, <span style=\"color: #808000; text-decoration-color: #808000\">tzinfo</span>=<span style=\"color: #800080; text-decoration-color: #800080\">datetime</span>.timezone.utc<span style=\"font-weight: bold\">)</span>,\n    <span style=\"color: #008000; text-decoration-color: #008000\">'key'</span>: <span style=\"color: #008000; text-decoration-color: #008000\">'test-job____t-1'</span>,\n    <span style=\"color: #008000; text-decoration-color: #008000\">'lock'</span>: <span style=\"color: #008000; text-decoration-color: #008000\">'f5c3eee3f8c34f3b85aa79de815d6275'</span>,\n    <span style=\"color: #008000; text-decoration-color: #008000\">'value'</span>: <span style=\"color: #008000; text-decoration-color: #008000\">'test-job____003'</span>\n<span style=\"font-weight: bold\">}</span>\n</pre>\n"
     },
     "metadata": {},
     "output_type": "display_data"
    },
    {
     "name": "stdout",
     "output_type": "stream",
     "text": [
      "✅ 🔐 task succeeded, set status 's09_success' and unlock the task.\n",
      "----- ⏹️ end task(job_id='test-job', task_id='t-1', status='s09_success') ------\n",
      "at the end, the status became 's09_success'\n",
      "and the lock is released\n"
     ]
    },
    {
     "data": {
      "text/plain": "\u001B[1m{\u001B[0m\n    \u001B[32m'create_time'\u001B[0m: \u001B[1;35mdatetime.datetime\u001B[0m\u001B[1m(\u001B[0m\u001B[1;36m2023\u001B[0m, \u001B[1;36m2\u001B[0m, \u001B[1;36m4\u001B[0m, \u001B[1;36m3\u001B[0m, \u001B[1;36m23\u001B[0m, \u001B[1;36m2\u001B[0m, \u001B[1;36m681803\u001B[0m, \u001B[33mtzinfo\u001B[0m=\u001B[35mdatetime\u001B[0m.timezone.utc\u001B[1m)\u001B[0m,\n    \u001B[32m'data'\u001B[0m: \u001B[1m{\u001B[0m\u001B[32m'version'\u001B[0m: \u001B[1;36m2\u001B[0m\u001B[1m}\u001B[0m,\n    \u001B[32m'errors'\u001B[0m: \u001B[1m{\u001B[0m\u001B[1m}\u001B[0m,\n    \u001B[32m'lock_time'\u001B[0m: \u001B[1;35mdatetime.datetime\u001B[0m\u001B[1m(\u001B[0m\u001B[1;36m2023\u001B[0m, \u001B[1;36m2\u001B[0m, \u001B[1;36m4\u001B[0m, \u001B[1;36m3\u001B[0m, \u001B[1;36m23\u001B[0m, \u001B[1;36m2\u001B[0m, \u001B[1;36m761224\u001B[0m, \u001B[33mtzinfo\u001B[0m=\u001B[35mdatetime\u001B[0m.timezone.utc\u001B[1m)\u001B[0m,\n    \u001B[32m'retry'\u001B[0m: \u001B[1;36m0\u001B[0m,\n    \u001B[32m'update_time'\u001B[0m: \u001B[1;35mdatetime.datetime\u001B[0m\u001B[1m(\u001B[0m\u001B[1;36m2023\u001B[0m, \u001B[1;36m2\u001B[0m, \u001B[1;36m4\u001B[0m, \u001B[1;36m3\u001B[0m, \u001B[1;36m23\u001B[0m, \u001B[1;36m2\u001B[0m, \u001B[1;36m785442\u001B[0m, \u001B[33mtzinfo\u001B[0m=\u001B[35mdatetime\u001B[0m.timezone.utc\u001B[1m)\u001B[0m,\n    \u001B[32m'key'\u001B[0m: \u001B[32m'test-job____t-1'\u001B[0m,\n    \u001B[32m'value'\u001B[0m: \u001B[32m'test-job____009'\u001B[0m\n\u001B[1m}\u001B[0m\n",
      "text/html": "<pre style=\"white-space:pre;overflow-x:auto;line-height:normal;font-family:Menlo,'DejaVu Sans Mono',consolas,'Courier New',monospace\"><span style=\"font-weight: bold\">{</span>\n    <span style=\"color: #008000; text-decoration-color: #008000\">'create_time'</span>: <span style=\"color: #800080; text-decoration-color: #800080; font-weight: bold\">datetime.datetime</span><span style=\"font-weight: bold\">(</span><span style=\"color: #008080; text-decoration-color: #008080; font-weight: bold\">2023</span>, <span style=\"color: #008080; text-decoration-color: #008080; font-weight: bold\">2</span>, <span style=\"color: #008080; text-decoration-color: #008080; font-weight: bold\">4</span>, <span style=\"color: #008080; text-decoration-color: #008080; font-weight: bold\">3</span>, <span style=\"color: #008080; text-decoration-color: #008080; font-weight: bold\">23</span>, <span style=\"color: #008080; text-decoration-color: #008080; font-weight: bold\">2</span>, <span style=\"color: #008080; text-decoration-color: #008080; font-weight: bold\">681803</span>, <span style=\"color: #808000; text-decoration-color: #808000\">tzinfo</span>=<span style=\"color: #800080; text-decoration-color: #800080\">datetime</span>.timezone.utc<span style=\"font-weight: bold\">)</span>,\n    <span style=\"color: #008000; text-decoration-color: #008000\">'data'</span>: <span style=\"font-weight: bold\">{</span><span style=\"color: #008000; text-decoration-color: #008000\">'version'</span>: <span style=\"color: #008080; text-decoration-color: #008080; font-weight: bold\">2</span><span style=\"font-weight: bold\">}</span>,\n    <span style=\"color: #008000; text-decoration-color: #008000\">'errors'</span>: <span style=\"font-weight: bold\">{}</span>,\n    <span style=\"color: #008000; text-decoration-color: #008000\">'lock_time'</span>: <span style=\"color: #800080; text-decoration-color: #800080; font-weight: bold\">datetime.datetime</span><span style=\"font-weight: bold\">(</span><span style=\"color: #008080; text-decoration-color: #008080; font-weight: bold\">2023</span>, <span style=\"color: #008080; text-decoration-color: #008080; font-weight: bold\">2</span>, <span style=\"color: #008080; text-decoration-color: #008080; font-weight: bold\">4</span>, <span style=\"color: #008080; text-decoration-color: #008080; font-weight: bold\">3</span>, <span style=\"color: #008080; text-decoration-color: #008080; font-weight: bold\">23</span>, <span style=\"color: #008080; text-decoration-color: #008080; font-weight: bold\">2</span>, <span style=\"color: #008080; text-decoration-color: #008080; font-weight: bold\">761224</span>, <span style=\"color: #808000; text-decoration-color: #808000\">tzinfo</span>=<span style=\"color: #800080; text-decoration-color: #800080\">datetime</span>.timezone.utc<span style=\"font-weight: bold\">)</span>,\n    <span style=\"color: #008000; text-decoration-color: #008000\">'retry'</span>: <span style=\"color: #008080; text-decoration-color: #008080; font-weight: bold\">0</span>,\n    <span style=\"color: #008000; text-decoration-color: #008000\">'update_time'</span>: <span style=\"color: #800080; text-decoration-color: #800080; font-weight: bold\">datetime.datetime</span><span style=\"font-weight: bold\">(</span><span style=\"color: #008080; text-decoration-color: #008080; font-weight: bold\">2023</span>, <span style=\"color: #008080; text-decoration-color: #008080; font-weight: bold\">2</span>, <span style=\"color: #008080; text-decoration-color: #008080; font-weight: bold\">4</span>, <span style=\"color: #008080; text-decoration-color: #008080; font-weight: bold\">3</span>, <span style=\"color: #008080; text-decoration-color: #008080; font-weight: bold\">23</span>, <span style=\"color: #008080; text-decoration-color: #008080; font-weight: bold\">2</span>, <span style=\"color: #008080; text-decoration-color: #008080; font-weight: bold\">785442</span>, <span style=\"color: #808000; text-decoration-color: #808000\">tzinfo</span>=<span style=\"color: #800080; text-decoration-color: #800080\">datetime</span>.timezone.utc<span style=\"font-weight: bold\">)</span>,\n    <span style=\"color: #008000; text-decoration-color: #008000\">'key'</span>: <span style=\"color: #008000; text-decoration-color: #008000\">'test-job____t-1'</span>,\n    <span style=\"color: #008000; text-decoration-color: #008000\">'value'</span>: <span style=\"color: #008000; text-decoration-color: #008000\">'test-job____009'</span>\n<span style=\"font-weight: bold\">}</span>\n</pre>\n"
     },
     "metadata": {},
     "output_type": "display_data"
    }
   ],
   "source": [
    "print(f\"before the job started, the lock status is {tracker.is_locked()}\")\n",
    "\n",
    "# start the job, it will succeed\n",
    "with tracker.start_job(debug=True):\n",
    "    print(f\"at begin, the status became {tracker.status_name!r}\")\n",
    "    print(\"and you can see that the task is locked\")\n",
    "    rprint(tracker.to_dict())\n",
    "\n",
    "    # do some work\n",
    "    tracker.set_data({\"version\": 2})\n",
    "\n",
    "print(f\"at the end, the status became {tracker.status_name!r}\")\n",
    "print(\"and the lock is released\")\n",
    "rprint(tracker.to_dict())"
   ],
   "metadata": {
    "collapsed": false,
    "pycharm": {
     "name": "#%%\n"
    }
   }
  },
  {
   "cell_type": "markdown",
   "source": [
    "## Error Handling\n",
    "\n",
    "Let's reset the task and do it one more time, this time the job logic will fail.\n",
    "\n",
    "- before the task started, the status is still ``s00_todo``\n",
    "- at begin of the task, the status became ``s03_in_progress``\n",
    "- at the end of the task, the status become ``s06_failed``\n",
    "- the task data remains unchanged and the error is logged."
   ],
   "metadata": {
    "collapsed": false,
    "pycharm": {
     "name": "#%% md\n"
    }
   }
  },
  {
   "cell_type": "code",
   "execution_count": 6,
   "outputs": [
    {
     "name": "stdout",
     "output_type": "stream",
     "text": [
      "------ ▶️ start task(job_id='test-job', task_id='t-1', status='s00_todo') ------\n",
      "🔓 set status 's03_in_progress' and lock the task.\n",
      "at begin, the status became 's03_in_progress'\n"
     ]
    },
    {
     "data": {
      "text/plain": "\u001B[1m{\u001B[0m\n    \u001B[32m'create_time'\u001B[0m: \u001B[1;35mdatetime.datetime\u001B[0m\u001B[1m(\u001B[0m\u001B[1;36m2023\u001B[0m, \u001B[1;36m2\u001B[0m, \u001B[1;36m4\u001B[0m, \u001B[1;36m3\u001B[0m, \u001B[1;36m23\u001B[0m, \u001B[1;36m2\u001B[0m, \u001B[1;36m816534\u001B[0m, \u001B[33mtzinfo\u001B[0m=\u001B[35mdatetime\u001B[0m.timezone.utc\u001B[1m)\u001B[0m,\n    \u001B[32m'data'\u001B[0m: \u001B[1m{\u001B[0m\u001B[32m'version'\u001B[0m: \u001B[1;36m1\u001B[0m\u001B[1m}\u001B[0m,\n    \u001B[32m'errors'\u001B[0m: \u001B[1m{\u001B[0m\u001B[1m}\u001B[0m,\n    \u001B[32m'lock_time'\u001B[0m: \u001B[1;35mdatetime.datetime\u001B[0m\u001B[1m(\u001B[0m\u001B[1;36m2023\u001B[0m, \u001B[1;36m2\u001B[0m, \u001B[1;36m4\u001B[0m, \u001B[1;36m3\u001B[0m, \u001B[1;36m23\u001B[0m, \u001B[1;36m2\u001B[0m, \u001B[1;36m841974\u001B[0m, \u001B[33mtzinfo\u001B[0m=\u001B[35mdatetime\u001B[0m.timezone.utc\u001B[1m)\u001B[0m,\n    \u001B[32m'retry'\u001B[0m: \u001B[1;36m0\u001B[0m,\n    \u001B[32m'update_time'\u001B[0m: \u001B[1;35mdatetime.datetime\u001B[0m\u001B[1m(\u001B[0m\u001B[1;36m2023\u001B[0m, \u001B[1;36m2\u001B[0m, \u001B[1;36m4\u001B[0m, \u001B[1;36m3\u001B[0m, \u001B[1;36m23\u001B[0m, \u001B[1;36m2\u001B[0m, \u001B[1;36m841892\u001B[0m, \u001B[33mtzinfo\u001B[0m=\u001B[35mdatetime\u001B[0m.timezone.utc\u001B[1m)\u001B[0m,\n    \u001B[32m'key'\u001B[0m: \u001B[32m'test-job____t-1'\u001B[0m,\n    \u001B[32m'lock'\u001B[0m: \u001B[32m'5be41fe575964df080a4ee128e909052'\u001B[0m,\n    \u001B[32m'value'\u001B[0m: \u001B[32m'test-job____003'\u001B[0m\n\u001B[1m}\u001B[0m\n",
      "text/html": "<pre style=\"white-space:pre;overflow-x:auto;line-height:normal;font-family:Menlo,'DejaVu Sans Mono',consolas,'Courier New',monospace\"><span style=\"font-weight: bold\">{</span>\n    <span style=\"color: #008000; text-decoration-color: #008000\">'create_time'</span>: <span style=\"color: #800080; text-decoration-color: #800080; font-weight: bold\">datetime.datetime</span><span style=\"font-weight: bold\">(</span><span style=\"color: #008080; text-decoration-color: #008080; font-weight: bold\">2023</span>, <span style=\"color: #008080; text-decoration-color: #008080; font-weight: bold\">2</span>, <span style=\"color: #008080; text-decoration-color: #008080; font-weight: bold\">4</span>, <span style=\"color: #008080; text-decoration-color: #008080; font-weight: bold\">3</span>, <span style=\"color: #008080; text-decoration-color: #008080; font-weight: bold\">23</span>, <span style=\"color: #008080; text-decoration-color: #008080; font-weight: bold\">2</span>, <span style=\"color: #008080; text-decoration-color: #008080; font-weight: bold\">816534</span>, <span style=\"color: #808000; text-decoration-color: #808000\">tzinfo</span>=<span style=\"color: #800080; text-decoration-color: #800080\">datetime</span>.timezone.utc<span style=\"font-weight: bold\">)</span>,\n    <span style=\"color: #008000; text-decoration-color: #008000\">'data'</span>: <span style=\"font-weight: bold\">{</span><span style=\"color: #008000; text-decoration-color: #008000\">'version'</span>: <span style=\"color: #008080; text-decoration-color: #008080; font-weight: bold\">1</span><span style=\"font-weight: bold\">}</span>,\n    <span style=\"color: #008000; text-decoration-color: #008000\">'errors'</span>: <span style=\"font-weight: bold\">{}</span>,\n    <span style=\"color: #008000; text-decoration-color: #008000\">'lock_time'</span>: <span style=\"color: #800080; text-decoration-color: #800080; font-weight: bold\">datetime.datetime</span><span style=\"font-weight: bold\">(</span><span style=\"color: #008080; text-decoration-color: #008080; font-weight: bold\">2023</span>, <span style=\"color: #008080; text-decoration-color: #008080; font-weight: bold\">2</span>, <span style=\"color: #008080; text-decoration-color: #008080; font-weight: bold\">4</span>, <span style=\"color: #008080; text-decoration-color: #008080; font-weight: bold\">3</span>, <span style=\"color: #008080; text-decoration-color: #008080; font-weight: bold\">23</span>, <span style=\"color: #008080; text-decoration-color: #008080; font-weight: bold\">2</span>, <span style=\"color: #008080; text-decoration-color: #008080; font-weight: bold\">841974</span>, <span style=\"color: #808000; text-decoration-color: #808000\">tzinfo</span>=<span style=\"color: #800080; text-decoration-color: #800080\">datetime</span>.timezone.utc<span style=\"font-weight: bold\">)</span>,\n    <span style=\"color: #008000; text-decoration-color: #008000\">'retry'</span>: <span style=\"color: #008080; text-decoration-color: #008080; font-weight: bold\">0</span>,\n    <span style=\"color: #008000; text-decoration-color: #008000\">'update_time'</span>: <span style=\"color: #800080; text-decoration-color: #800080; font-weight: bold\">datetime.datetime</span><span style=\"font-weight: bold\">(</span><span style=\"color: #008080; text-decoration-color: #008080; font-weight: bold\">2023</span>, <span style=\"color: #008080; text-decoration-color: #008080; font-weight: bold\">2</span>, <span style=\"color: #008080; text-decoration-color: #008080; font-weight: bold\">4</span>, <span style=\"color: #008080; text-decoration-color: #008080; font-weight: bold\">3</span>, <span style=\"color: #008080; text-decoration-color: #008080; font-weight: bold\">23</span>, <span style=\"color: #008080; text-decoration-color: #008080; font-weight: bold\">2</span>, <span style=\"color: #008080; text-decoration-color: #008080; font-weight: bold\">841892</span>, <span style=\"color: #808000; text-decoration-color: #808000\">tzinfo</span>=<span style=\"color: #800080; text-decoration-color: #800080\">datetime</span>.timezone.utc<span style=\"font-weight: bold\">)</span>,\n    <span style=\"color: #008000; text-decoration-color: #008000\">'key'</span>: <span style=\"color: #008000; text-decoration-color: #008000\">'test-job____t-1'</span>,\n    <span style=\"color: #008000; text-decoration-color: #008000\">'lock'</span>: <span style=\"color: #008000; text-decoration-color: #008000\">'5be41fe575964df080a4ee128e909052'</span>,\n    <span style=\"color: #008000; text-decoration-color: #008000\">'value'</span>: <span style=\"color: #008000; text-decoration-color: #008000\">'test-job____003'</span>\n<span style=\"font-weight: bold\">}</span>\n</pre>\n"
     },
     "metadata": {},
     "output_type": "display_data"
    },
    {
     "name": "stdout",
     "output_type": "stream",
     "text": [
      "❌ 🔐 task failed, set stats 's06_failed' and unlock the task.\n",
      "------ ⏹️ end task(job_id='test-job', task_id='t-1', status='s06_failed') ------\n"
     ]
    },
    {
     "ename": "ValueError",
     "evalue": "something went wrong",
     "output_type": "error",
     "traceback": [
      "\u001B[0;31m---------------------------------------------------------------------------\u001B[0m",
      "\u001B[0;31mValueError\u001B[0m                                Traceback (most recent call last)",
      "Cell \u001B[0;32mIn[6], line 9\u001B[0m\n\u001B[1;32m      6\u001B[0m rprint(tracker\u001B[38;5;241m.\u001B[39mto_dict())\n\u001B[1;32m      8\u001B[0m \u001B[38;5;66;03m# do some work\u001B[39;00m\n\u001B[0;32m----> 9\u001B[0m \u001B[38;5;28;01mraise\u001B[39;00m \u001B[38;5;167;01mValueError\u001B[39;00m(\u001B[38;5;124m\"\u001B[39m\u001B[38;5;124msomething went wrong\u001B[39m\u001B[38;5;124m\"\u001B[39m)\n\u001B[1;32m     10\u001B[0m \u001B[38;5;66;03m# the real work will never succeed\u001B[39;00m\n\u001B[1;32m     11\u001B[0m \u001B[38;5;28mprint\u001B[39m(\u001B[38;5;124m\"\u001B[39m\u001B[38;5;124mdoing some work ...\u001B[39m\u001B[38;5;124m\"\u001B[39m)\n",
      "\u001B[0;31mValueError\u001B[0m: something went wrong"
     ]
    }
   ],
   "source": [
    "tracker = Tracker.new(task_id, data={\"version\": 1})\n",
    "\n",
    "# start the job, it will succeed\n",
    "with tracker.start_job(debug=True):\n",
    "    print(f\"at begin, the status became {tracker.status_name!r}\")\n",
    "    rprint(tracker.to_dict())\n",
    "\n",
    "    # do some work\n",
    "    raise ValueError(\"something went wrong\")\n",
    "    # the real work will never succeed\n",
    "    print(\"doing some work ...\")"
   ],
   "metadata": {
    "collapsed": false,
    "pycharm": {
     "name": "#%%\n"
    }
   }
  },
  {
   "cell_type": "code",
   "execution_count": 7,
   "outputs": [
    {
     "name": "stdout",
     "output_type": "stream",
     "text": [
      "at the end, the status became 's06_failed'\n",
      "and the error is logged\n"
     ]
    },
    {
     "data": {
      "text/plain": "\u001B[1m{\u001B[0m\n    \u001B[32m'create_time'\u001B[0m: \u001B[1;35mdatetime.datetime\u001B[0m\u001B[1m(\u001B[0m\u001B[1;36m2023\u001B[0m, \u001B[1;36m2\u001B[0m, \u001B[1;36m4\u001B[0m, \u001B[1;36m3\u001B[0m, \u001B[1;36m23\u001B[0m, \u001B[1;36m2\u001B[0m, \u001B[1;36m816534\u001B[0m, \u001B[33mtzinfo\u001B[0m=\u001B[35mdatetime\u001B[0m.timezone.utc\u001B[1m)\u001B[0m,\n    \u001B[32m'data'\u001B[0m: \u001B[1m{\u001B[0m\u001B[32m'version'\u001B[0m: \u001B[1;36m1\u001B[0m\u001B[1m}\u001B[0m,\n    \u001B[32m'errors'\u001B[0m: \u001B[1m{\u001B[0m\n        \u001B[32m'error'\u001B[0m: \u001B[32m\"ValueError\u001B[0m\u001B[32m(\u001B[0m\u001B[32m'something went wrong'\u001B[0m\u001B[32m)\u001B[0m\u001B[32m\"\u001B[0m,\n        \u001B[32m'traceback'\u001B[0m: \u001B[32m'Traceback \u001B[0m\u001B[32m(\u001B[0m\u001B[32mmost recent call last\u001B[0m\u001B[32m)\u001B[0m\u001B[32m:\\n  File \u001B[0m\n\u001B[32m\"/Users/sanhehu/Documents/GitHub/pynamodb_mate-project/pynamodb_mate/patterns/status_tracker/impl.py\", line 704, in\u001B[0m\n\u001B[32mstart\\n    yield self\\n  File \"/var/folders/bb/vd34dgxj361gcbkgvmk8_8cw0000gs/T/ipykernel_87085/1687683573.py\", \u001B[0m\n\u001B[32mline 9, in \u001B[0m\u001B[32m<\u001B[0m\u001B[32mmodule\u001B[0m\u001B[32m>\u001B[0m\u001B[32m\\n    raise ValueError\u001B[0m\u001B[32m(\u001B[0m\u001B[32m\"something went wrong\"\u001B[0m\u001B[32m)\u001B[0m\u001B[32m\\nValueError: something went wrong\\n'\u001B[0m\n    \u001B[1m}\u001B[0m,\n    \u001B[32m'lock_time'\u001B[0m: \u001B[1;35mdatetime.datetime\u001B[0m\u001B[1m(\u001B[0m\u001B[1;36m2023\u001B[0m, \u001B[1;36m2\u001B[0m, \u001B[1;36m4\u001B[0m, \u001B[1;36m3\u001B[0m, \u001B[1;36m23\u001B[0m, \u001B[1;36m2\u001B[0m, \u001B[1;36m841974\u001B[0m, \u001B[33mtzinfo\u001B[0m=\u001B[35mdatetime\u001B[0m.timezone.utc\u001B[1m)\u001B[0m,\n    \u001B[32m'retry'\u001B[0m: \u001B[1;36m1\u001B[0m,\n    \u001B[32m'update_time'\u001B[0m: \u001B[1;35mdatetime.datetime\u001B[0m\u001B[1m(\u001B[0m\u001B[1;36m2023\u001B[0m, \u001B[1;36m2\u001B[0m, \u001B[1;36m4\u001B[0m, \u001B[1;36m3\u001B[0m, \u001B[1;36m23\u001B[0m, \u001B[1;36m2\u001B[0m, \u001B[1;36m882040\u001B[0m, \u001B[33mtzinfo\u001B[0m=\u001B[35mdatetime\u001B[0m.timezone.utc\u001B[1m)\u001B[0m,\n    \u001B[32m'key'\u001B[0m: \u001B[32m'test-job____t-1'\u001B[0m,\n    \u001B[32m'value'\u001B[0m: \u001B[32m'test-job____006'\u001B[0m\n\u001B[1m}\u001B[0m\n",
      "text/html": "<pre style=\"white-space:pre;overflow-x:auto;line-height:normal;font-family:Menlo,'DejaVu Sans Mono',consolas,'Courier New',monospace\"><span style=\"font-weight: bold\">{</span>\n    <span style=\"color: #008000; text-decoration-color: #008000\">'create_time'</span>: <span style=\"color: #800080; text-decoration-color: #800080; font-weight: bold\">datetime.datetime</span><span style=\"font-weight: bold\">(</span><span style=\"color: #008080; text-decoration-color: #008080; font-weight: bold\">2023</span>, <span style=\"color: #008080; text-decoration-color: #008080; font-weight: bold\">2</span>, <span style=\"color: #008080; text-decoration-color: #008080; font-weight: bold\">4</span>, <span style=\"color: #008080; text-decoration-color: #008080; font-weight: bold\">3</span>, <span style=\"color: #008080; text-decoration-color: #008080; font-weight: bold\">23</span>, <span style=\"color: #008080; text-decoration-color: #008080; font-weight: bold\">2</span>, <span style=\"color: #008080; text-decoration-color: #008080; font-weight: bold\">816534</span>, <span style=\"color: #808000; text-decoration-color: #808000\">tzinfo</span>=<span style=\"color: #800080; text-decoration-color: #800080\">datetime</span>.timezone.utc<span style=\"font-weight: bold\">)</span>,\n    <span style=\"color: #008000; text-decoration-color: #008000\">'data'</span>: <span style=\"font-weight: bold\">{</span><span style=\"color: #008000; text-decoration-color: #008000\">'version'</span>: <span style=\"color: #008080; text-decoration-color: #008080; font-weight: bold\">1</span><span style=\"font-weight: bold\">}</span>,\n    <span style=\"color: #008000; text-decoration-color: #008000\">'errors'</span>: <span style=\"font-weight: bold\">{</span>\n        <span style=\"color: #008000; text-decoration-color: #008000\">'error'</span>: <span style=\"color: #008000; text-decoration-color: #008000\">\"ValueError('something went wrong')\"</span>,\n        <span style=\"color: #008000; text-decoration-color: #008000\">'traceback'</span>: <span style=\"color: #008000; text-decoration-color: #008000\">'Traceback (most recent call last):\\n  File </span>\n<span style=\"color: #008000; text-decoration-color: #008000\">\"/Users/sanhehu/Documents/GitHub/pynamodb_mate-project/pynamodb_mate/patterns/status_tracker/impl.py\", line 704, in</span>\n<span style=\"color: #008000; text-decoration-color: #008000\">start\\n    yield self\\n  File \"/var/folders/bb/vd34dgxj361gcbkgvmk8_8cw0000gs/T/ipykernel_87085/1687683573.py\", </span>\n<span style=\"color: #008000; text-decoration-color: #008000\">line 9, in &lt;module&gt;\\n    raise ValueError(\"something went wrong\")\\nValueError: something went wrong\\n'</span>\n    <span style=\"font-weight: bold\">}</span>,\n    <span style=\"color: #008000; text-decoration-color: #008000\">'lock_time'</span>: <span style=\"color: #800080; text-decoration-color: #800080; font-weight: bold\">datetime.datetime</span><span style=\"font-weight: bold\">(</span><span style=\"color: #008080; text-decoration-color: #008080; font-weight: bold\">2023</span>, <span style=\"color: #008080; text-decoration-color: #008080; font-weight: bold\">2</span>, <span style=\"color: #008080; text-decoration-color: #008080; font-weight: bold\">4</span>, <span style=\"color: #008080; text-decoration-color: #008080; font-weight: bold\">3</span>, <span style=\"color: #008080; text-decoration-color: #008080; font-weight: bold\">23</span>, <span style=\"color: #008080; text-decoration-color: #008080; font-weight: bold\">2</span>, <span style=\"color: #008080; text-decoration-color: #008080; font-weight: bold\">841974</span>, <span style=\"color: #808000; text-decoration-color: #808000\">tzinfo</span>=<span style=\"color: #800080; text-decoration-color: #800080\">datetime</span>.timezone.utc<span style=\"font-weight: bold\">)</span>,\n    <span style=\"color: #008000; text-decoration-color: #008000\">'retry'</span>: <span style=\"color: #008080; text-decoration-color: #008080; font-weight: bold\">1</span>,\n    <span style=\"color: #008000; text-decoration-color: #008000\">'update_time'</span>: <span style=\"color: #800080; text-decoration-color: #800080; font-weight: bold\">datetime.datetime</span><span style=\"font-weight: bold\">(</span><span style=\"color: #008080; text-decoration-color: #008080; font-weight: bold\">2023</span>, <span style=\"color: #008080; text-decoration-color: #008080; font-weight: bold\">2</span>, <span style=\"color: #008080; text-decoration-color: #008080; font-weight: bold\">4</span>, <span style=\"color: #008080; text-decoration-color: #008080; font-weight: bold\">3</span>, <span style=\"color: #008080; text-decoration-color: #008080; font-weight: bold\">23</span>, <span style=\"color: #008080; text-decoration-color: #008080; font-weight: bold\">2</span>, <span style=\"color: #008080; text-decoration-color: #008080; font-weight: bold\">882040</span>, <span style=\"color: #808000; text-decoration-color: #808000\">tzinfo</span>=<span style=\"color: #800080; text-decoration-color: #800080\">datetime</span>.timezone.utc<span style=\"font-weight: bold\">)</span>,\n    <span style=\"color: #008000; text-decoration-color: #008000\">'key'</span>: <span style=\"color: #008000; text-decoration-color: #008000\">'test-job____t-1'</span>,\n    <span style=\"color: #008000; text-decoration-color: #008000\">'value'</span>: <span style=\"color: #008000; text-decoration-color: #008000\">'test-job____006'</span>\n<span style=\"font-weight: bold\">}</span>\n</pre>\n"
     },
     "metadata": {},
     "output_type": "display_data"
    }
   ],
   "source": [
    "print(f\"at the end, the status became {tracker.status_name!r}\")\n",
    "print(\"and the error is logged\")\n",
    "rprint(tracker.to_dict())"
   ],
   "metadata": {
    "collapsed": false,
    "pycharm": {
     "name": "#%%\n"
    }
   }
  },
  {
   "cell_type": "markdown",
   "source": [
    "## Ignore Task if Failed Too Many Times\n",
    "\n",
    "You don't want a task that logically can never succeed to fail into a endless loop. In this example, we defined the max retry times is 3. If it failed 3 times in a row, it will be ignored. And if you want to start a task that is ignored, you will see an ``TaskIgnoredError``"
   ],
   "metadata": {
    "collapsed": false,
    "pycharm": {
     "name": "#%% md\n"
    }
   }
  },
  {
   "cell_type": "code",
   "execution_count": 8,
   "outputs": [
    {
     "name": "stdout",
     "output_type": "stream",
     "text": [
      "at the 0th attempt, the task is:\n"
     ]
    },
    {
     "data": {
      "text/plain": "\u001B[1m{\u001B[0m\n    \u001B[32m'create_time'\u001B[0m: \u001B[1;35mdatetime.datetime\u001B[0m\u001B[1m(\u001B[0m\u001B[1;36m2023\u001B[0m, \u001B[1;36m2\u001B[0m, \u001B[1;36m4\u001B[0m, \u001B[1;36m3\u001B[0m, \u001B[1;36m23\u001B[0m, \u001B[1;36m15\u001B[0m, \u001B[1;36m875960\u001B[0m, \u001B[33mtzinfo\u001B[0m=\u001B[35mdatetime\u001B[0m.timezone.utc\u001B[1m)\u001B[0m,\n    \u001B[32m'data'\u001B[0m: \u001B[1m{\u001B[0m\u001B[1m}\u001B[0m,\n    \u001B[32m'errors'\u001B[0m: \u001B[1m{\u001B[0m\u001B[1m}\u001B[0m,\n    \u001B[32m'lock_time'\u001B[0m: \u001B[1;35mdatetime.datetime\u001B[0m\u001B[1m(\u001B[0m\u001B[1;36m1970\u001B[0m, \u001B[1;36m1\u001B[0m, \u001B[1;36m1\u001B[0m, \u001B[1;36m0\u001B[0m, \u001B[1;36m0\u001B[0m, \u001B[33mtzinfo\u001B[0m=\u001B[35mdatetime\u001B[0m.timezone.utc\u001B[1m)\u001B[0m,\n    \u001B[32m'retry'\u001B[0m: \u001B[1;36m0\u001B[0m,\n    \u001B[32m'update_time'\u001B[0m: \u001B[1;35mdatetime.datetime\u001B[0m\u001B[1m(\u001B[0m\u001B[1;36m2023\u001B[0m, \u001B[1;36m2\u001B[0m, \u001B[1;36m4\u001B[0m, \u001B[1;36m3\u001B[0m, \u001B[1;36m23\u001B[0m, \u001B[1;36m15\u001B[0m, \u001B[1;36m875993\u001B[0m, \u001B[33mtzinfo\u001B[0m=\u001B[35mdatetime\u001B[0m.timezone.utc\u001B[1m)\u001B[0m,\n    \u001B[32m'key'\u001B[0m: \u001B[32m'test-job____t-1'\u001B[0m,\n    \u001B[32m'value'\u001B[0m: \u001B[32m'test-job____000'\u001B[0m\n\u001B[1m}\u001B[0m\n",
      "text/html": "<pre style=\"white-space:pre;overflow-x:auto;line-height:normal;font-family:Menlo,'DejaVu Sans Mono',consolas,'Courier New',monospace\"><span style=\"font-weight: bold\">{</span>\n    <span style=\"color: #008000; text-decoration-color: #008000\">'create_time'</span>: <span style=\"color: #800080; text-decoration-color: #800080; font-weight: bold\">datetime.datetime</span><span style=\"font-weight: bold\">(</span><span style=\"color: #008080; text-decoration-color: #008080; font-weight: bold\">2023</span>, <span style=\"color: #008080; text-decoration-color: #008080; font-weight: bold\">2</span>, <span style=\"color: #008080; text-decoration-color: #008080; font-weight: bold\">4</span>, <span style=\"color: #008080; text-decoration-color: #008080; font-weight: bold\">3</span>, <span style=\"color: #008080; text-decoration-color: #008080; font-weight: bold\">23</span>, <span style=\"color: #008080; text-decoration-color: #008080; font-weight: bold\">15</span>, <span style=\"color: #008080; text-decoration-color: #008080; font-weight: bold\">875960</span>, <span style=\"color: #808000; text-decoration-color: #808000\">tzinfo</span>=<span style=\"color: #800080; text-decoration-color: #800080\">datetime</span>.timezone.utc<span style=\"font-weight: bold\">)</span>,\n    <span style=\"color: #008000; text-decoration-color: #008000\">'data'</span>: <span style=\"font-weight: bold\">{}</span>,\n    <span style=\"color: #008000; text-decoration-color: #008000\">'errors'</span>: <span style=\"font-weight: bold\">{}</span>,\n    <span style=\"color: #008000; text-decoration-color: #008000\">'lock_time'</span>: <span style=\"color: #800080; text-decoration-color: #800080; font-weight: bold\">datetime.datetime</span><span style=\"font-weight: bold\">(</span><span style=\"color: #008080; text-decoration-color: #008080; font-weight: bold\">1970</span>, <span style=\"color: #008080; text-decoration-color: #008080; font-weight: bold\">1</span>, <span style=\"color: #008080; text-decoration-color: #008080; font-weight: bold\">1</span>, <span style=\"color: #008080; text-decoration-color: #008080; font-weight: bold\">0</span>, <span style=\"color: #008080; text-decoration-color: #008080; font-weight: bold\">0</span>, <span style=\"color: #808000; text-decoration-color: #808000\">tzinfo</span>=<span style=\"color: #800080; text-decoration-color: #800080\">datetime</span>.timezone.utc<span style=\"font-weight: bold\">)</span>,\n    <span style=\"color: #008000; text-decoration-color: #008000\">'retry'</span>: <span style=\"color: #008080; text-decoration-color: #008080; font-weight: bold\">0</span>,\n    <span style=\"color: #008000; text-decoration-color: #008000\">'update_time'</span>: <span style=\"color: #800080; text-decoration-color: #800080; font-weight: bold\">datetime.datetime</span><span style=\"font-weight: bold\">(</span><span style=\"color: #008080; text-decoration-color: #008080; font-weight: bold\">2023</span>, <span style=\"color: #008080; text-decoration-color: #008080; font-weight: bold\">2</span>, <span style=\"color: #008080; text-decoration-color: #008080; font-weight: bold\">4</span>, <span style=\"color: #008080; text-decoration-color: #008080; font-weight: bold\">3</span>, <span style=\"color: #008080; text-decoration-color: #008080; font-weight: bold\">23</span>, <span style=\"color: #008080; text-decoration-color: #008080; font-weight: bold\">15</span>, <span style=\"color: #008080; text-decoration-color: #008080; font-weight: bold\">875993</span>, <span style=\"color: #808000; text-decoration-color: #808000\">tzinfo</span>=<span style=\"color: #800080; text-decoration-color: #800080\">datetime</span>.timezone.utc<span style=\"font-weight: bold\">)</span>,\n    <span style=\"color: #008000; text-decoration-color: #008000\">'key'</span>: <span style=\"color: #008000; text-decoration-color: #008000\">'test-job____t-1'</span>,\n    <span style=\"color: #008000; text-decoration-color: #008000\">'value'</span>: <span style=\"color: #008000; text-decoration-color: #008000\">'test-job____000'</span>\n<span style=\"font-weight: bold\">}</span>\n</pre>\n"
     },
     "metadata": {},
     "output_type": "display_data"
    }
   ],
   "source": [
    "# reset the task\n",
    "tracker = Tracker.new(task_id)\n",
    "\n",
    "print(\"at the 0th attempt, the task is:\")\n",
    "rprint(tracker.to_dict())"
   ],
   "metadata": {
    "collapsed": false,
    "pycharm": {
     "name": "#%%\n"
    }
   }
  },
  {
   "cell_type": "code",
   "execution_count": 9,
   "outputs": [
    {
     "name": "stdout",
     "output_type": "stream",
     "text": [
      "------ ▶️ start task(job_id='test-job', task_id='t-1', status='s00_todo') ------\n",
      "🔓 set status 's03_in_progress' and lock the task.\n",
      "❌ 🔐 task failed, set stats 's06_failed' and unlock the task.\n",
      "------ ⏹️ end task(job_id='test-job', task_id='t-1', status='s06_failed') ------\n"
     ]
    },
    {
     "ename": "Exception",
     "evalue": "",
     "output_type": "error",
     "traceback": [
      "\u001B[0;31m---------------------------------------------------------------------------\u001B[0m",
      "\u001B[0;31mException\u001B[0m                                 Traceback (most recent call last)",
      "Cell \u001B[0;32mIn[9], line 2\u001B[0m\n\u001B[1;32m      1\u001B[0m \u001B[38;5;28;01mwith\u001B[39;00m tracker\u001B[38;5;241m.\u001B[39mstart_job():\n\u001B[0;32m----> 2\u001B[0m     \u001B[38;5;28;01mraise\u001B[39;00m \u001B[38;5;167;01mException\u001B[39;00m\n",
      "\u001B[0;31mException\u001B[0m: "
     ]
    }
   ],
   "source": [
    "with tracker.start_job():\n",
    "    raise Exception"
   ],
   "metadata": {
    "collapsed": false,
    "pycharm": {
     "name": "#%%\n"
    }
   }
  },
  {
   "cell_type": "code",
   "execution_count": 10,
   "outputs": [
    {
     "name": "stdout",
     "output_type": "stream",
     "text": [
      "at the 1th attempt, the task is:\n",
      "status = s06_failed\n"
     ]
    },
    {
     "data": {
      "text/plain": "\u001B[1m{\u001B[0m\n    \u001B[32m'create_time'\u001B[0m: \u001B[1;35mdatetime.datetime\u001B[0m\u001B[1m(\u001B[0m\u001B[1;36m2023\u001B[0m, \u001B[1;36m2\u001B[0m, \u001B[1;36m4\u001B[0m, \u001B[1;36m3\u001B[0m, \u001B[1;36m23\u001B[0m, \u001B[1;36m15\u001B[0m, \u001B[1;36m875960\u001B[0m, \u001B[33mtzinfo\u001B[0m=\u001B[35mdatetime\u001B[0m.timezone.utc\u001B[1m)\u001B[0m,\n    \u001B[32m'data'\u001B[0m: \u001B[1m{\u001B[0m\u001B[1m}\u001B[0m,\n    \u001B[32m'errors'\u001B[0m: \u001B[1m{\u001B[0m\n        \u001B[32m'error'\u001B[0m: \u001B[32m'Exception\u001B[0m\u001B[32m(\u001B[0m\u001B[32m)\u001B[0m\u001B[32m'\u001B[0m,\n        \u001B[32m'traceback'\u001B[0m: \u001B[32m'Traceback \u001B[0m\u001B[32m(\u001B[0m\u001B[32mmost recent call last\u001B[0m\u001B[32m)\u001B[0m\u001B[32m:\\n  File \u001B[0m\n\u001B[32m\"/Users/sanhehu/Documents/GitHub/pynamodb_mate-project/pynamodb_mate/patterns/status_tracker/impl.py\", line 704, in\u001B[0m\n\u001B[32mstart\\n    yield self\\n  File \"/var/folders/bb/vd34dgxj361gcbkgvmk8_8cw0000gs/T/ipykernel_87085/3027452948.py\", \u001B[0m\n\u001B[32mline 2, in \u001B[0m\u001B[32m<\u001B[0m\u001B[32mmodule\u001B[0m\u001B[32m>\u001B[0m\u001B[32m\\n    raise Exception\\nException\\n'\u001B[0m\n    \u001B[1m}\u001B[0m,\n    \u001B[32m'lock_time'\u001B[0m: \u001B[1;35mdatetime.datetime\u001B[0m\u001B[1m(\u001B[0m\u001B[1;36m2023\u001B[0m, \u001B[1;36m2\u001B[0m, \u001B[1;36m4\u001B[0m, \u001B[1;36m3\u001B[0m, \u001B[1;36m23\u001B[0m, \u001B[1;36m16\u001B[0m, \u001B[1;36m244068\u001B[0m, \u001B[33mtzinfo\u001B[0m=\u001B[35mdatetime\u001B[0m.timezone.utc\u001B[1m)\u001B[0m,\n    \u001B[32m'retry'\u001B[0m: \u001B[1;36m1\u001B[0m,\n    \u001B[32m'update_time'\u001B[0m: \u001B[1;35mdatetime.datetime\u001B[0m\u001B[1m(\u001B[0m\u001B[1;36m2023\u001B[0m, \u001B[1;36m2\u001B[0m, \u001B[1;36m4\u001B[0m, \u001B[1;36m3\u001B[0m, \u001B[1;36m23\u001B[0m, \u001B[1;36m16\u001B[0m, \u001B[1;36m263777\u001B[0m, \u001B[33mtzinfo\u001B[0m=\u001B[35mdatetime\u001B[0m.timezone.utc\u001B[1m)\u001B[0m,\n    \u001B[32m'key'\u001B[0m: \u001B[32m'test-job____t-1'\u001B[0m,\n    \u001B[32m'value'\u001B[0m: \u001B[32m'test-job____006'\u001B[0m\n\u001B[1m}\u001B[0m\n",
      "text/html": "<pre style=\"white-space:pre;overflow-x:auto;line-height:normal;font-family:Menlo,'DejaVu Sans Mono',consolas,'Courier New',monospace\"><span style=\"font-weight: bold\">{</span>\n    <span style=\"color: #008000; text-decoration-color: #008000\">'create_time'</span>: <span style=\"color: #800080; text-decoration-color: #800080; font-weight: bold\">datetime.datetime</span><span style=\"font-weight: bold\">(</span><span style=\"color: #008080; text-decoration-color: #008080; font-weight: bold\">2023</span>, <span style=\"color: #008080; text-decoration-color: #008080; font-weight: bold\">2</span>, <span style=\"color: #008080; text-decoration-color: #008080; font-weight: bold\">4</span>, <span style=\"color: #008080; text-decoration-color: #008080; font-weight: bold\">3</span>, <span style=\"color: #008080; text-decoration-color: #008080; font-weight: bold\">23</span>, <span style=\"color: #008080; text-decoration-color: #008080; font-weight: bold\">15</span>, <span style=\"color: #008080; text-decoration-color: #008080; font-weight: bold\">875960</span>, <span style=\"color: #808000; text-decoration-color: #808000\">tzinfo</span>=<span style=\"color: #800080; text-decoration-color: #800080\">datetime</span>.timezone.utc<span style=\"font-weight: bold\">)</span>,\n    <span style=\"color: #008000; text-decoration-color: #008000\">'data'</span>: <span style=\"font-weight: bold\">{}</span>,\n    <span style=\"color: #008000; text-decoration-color: #008000\">'errors'</span>: <span style=\"font-weight: bold\">{</span>\n        <span style=\"color: #008000; text-decoration-color: #008000\">'error'</span>: <span style=\"color: #008000; text-decoration-color: #008000\">'Exception()'</span>,\n        <span style=\"color: #008000; text-decoration-color: #008000\">'traceback'</span>: <span style=\"color: #008000; text-decoration-color: #008000\">'Traceback (most recent call last):\\n  File </span>\n<span style=\"color: #008000; text-decoration-color: #008000\">\"/Users/sanhehu/Documents/GitHub/pynamodb_mate-project/pynamodb_mate/patterns/status_tracker/impl.py\", line 704, in</span>\n<span style=\"color: #008000; text-decoration-color: #008000\">start\\n    yield self\\n  File \"/var/folders/bb/vd34dgxj361gcbkgvmk8_8cw0000gs/T/ipykernel_87085/3027452948.py\", </span>\n<span style=\"color: #008000; text-decoration-color: #008000\">line 2, in &lt;module&gt;\\n    raise Exception\\nException\\n'</span>\n    <span style=\"font-weight: bold\">}</span>,\n    <span style=\"color: #008000; text-decoration-color: #008000\">'lock_time'</span>: <span style=\"color: #800080; text-decoration-color: #800080; font-weight: bold\">datetime.datetime</span><span style=\"font-weight: bold\">(</span><span style=\"color: #008080; text-decoration-color: #008080; font-weight: bold\">2023</span>, <span style=\"color: #008080; text-decoration-color: #008080; font-weight: bold\">2</span>, <span style=\"color: #008080; text-decoration-color: #008080; font-weight: bold\">4</span>, <span style=\"color: #008080; text-decoration-color: #008080; font-weight: bold\">3</span>, <span style=\"color: #008080; text-decoration-color: #008080; font-weight: bold\">23</span>, <span style=\"color: #008080; text-decoration-color: #008080; font-weight: bold\">16</span>, <span style=\"color: #008080; text-decoration-color: #008080; font-weight: bold\">244068</span>, <span style=\"color: #808000; text-decoration-color: #808000\">tzinfo</span>=<span style=\"color: #800080; text-decoration-color: #800080\">datetime</span>.timezone.utc<span style=\"font-weight: bold\">)</span>,\n    <span style=\"color: #008000; text-decoration-color: #008000\">'retry'</span>: <span style=\"color: #008080; text-decoration-color: #008080; font-weight: bold\">1</span>,\n    <span style=\"color: #008000; text-decoration-color: #008000\">'update_time'</span>: <span style=\"color: #800080; text-decoration-color: #800080; font-weight: bold\">datetime.datetime</span><span style=\"font-weight: bold\">(</span><span style=\"color: #008080; text-decoration-color: #008080; font-weight: bold\">2023</span>, <span style=\"color: #008080; text-decoration-color: #008080; font-weight: bold\">2</span>, <span style=\"color: #008080; text-decoration-color: #008080; font-weight: bold\">4</span>, <span style=\"color: #008080; text-decoration-color: #008080; font-weight: bold\">3</span>, <span style=\"color: #008080; text-decoration-color: #008080; font-weight: bold\">23</span>, <span style=\"color: #008080; text-decoration-color: #008080; font-weight: bold\">16</span>, <span style=\"color: #008080; text-decoration-color: #008080; font-weight: bold\">263777</span>, <span style=\"color: #808000; text-decoration-color: #808000\">tzinfo</span>=<span style=\"color: #800080; text-decoration-color: #800080\">datetime</span>.timezone.utc<span style=\"font-weight: bold\">)</span>,\n    <span style=\"color: #008000; text-decoration-color: #008000\">'key'</span>: <span style=\"color: #008000; text-decoration-color: #008000\">'test-job____t-1'</span>,\n    <span style=\"color: #008000; text-decoration-color: #008000\">'value'</span>: <span style=\"color: #008000; text-decoration-color: #008000\">'test-job____006'</span>\n<span style=\"font-weight: bold\">}</span>\n</pre>\n"
     },
     "metadata": {},
     "output_type": "display_data"
    }
   ],
   "source": [
    "print(\"at the 1th attempt, the task is:\")\n",
    "print(f\"status = {tracker.status_name}\")\n",
    "rprint(tracker.to_dict())"
   ],
   "metadata": {
    "collapsed": false,
    "pycharm": {
     "name": "#%%\n"
    }
   }
  },
  {
   "cell_type": "code",
   "execution_count": 11,
   "outputs": [
    {
     "name": "stdout",
     "output_type": "stream",
     "text": [
      "----- ▶️ start task(job_id='test-job', task_id='t-1', status='s06_failed') -----\n",
      "🔓 set status 's03_in_progress' and lock the task.\n",
      "❌ 🔐 task failed, set stats 's06_failed' and unlock the task.\n",
      "------ ⏹️ end task(job_id='test-job', task_id='t-1', status='s06_failed') ------\n"
     ]
    },
    {
     "ename": "Exception",
     "evalue": "",
     "output_type": "error",
     "traceback": [
      "\u001B[0;31m---------------------------------------------------------------------------\u001B[0m",
      "\u001B[0;31mException\u001B[0m                                 Traceback (most recent call last)",
      "Cell \u001B[0;32mIn[11], line 2\u001B[0m\n\u001B[1;32m      1\u001B[0m \u001B[38;5;28;01mwith\u001B[39;00m tracker\u001B[38;5;241m.\u001B[39mstart_job():\n\u001B[0;32m----> 2\u001B[0m     \u001B[38;5;28;01mraise\u001B[39;00m \u001B[38;5;167;01mException\u001B[39;00m\n",
      "\u001B[0;31mException\u001B[0m: "
     ]
    }
   ],
   "source": [
    "with tracker.start_job():\n",
    "    raise Exception"
   ],
   "metadata": {
    "collapsed": false,
    "pycharm": {
     "name": "#%%\n"
    }
   }
  },
  {
   "cell_type": "code",
   "execution_count": 12,
   "outputs": [
    {
     "name": "stdout",
     "output_type": "stream",
     "text": [
      "at the 2th attempt, the task is:\n",
      "status = s06_failed\n"
     ]
    },
    {
     "data": {
      "text/plain": "\u001B[1m{\u001B[0m\n    \u001B[32m'create_time'\u001B[0m: \u001B[1;35mdatetime.datetime\u001B[0m\u001B[1m(\u001B[0m\u001B[1;36m2023\u001B[0m, \u001B[1;36m2\u001B[0m, \u001B[1;36m4\u001B[0m, \u001B[1;36m3\u001B[0m, \u001B[1;36m23\u001B[0m, \u001B[1;36m15\u001B[0m, \u001B[1;36m875960\u001B[0m, \u001B[33mtzinfo\u001B[0m=\u001B[35mdatetime\u001B[0m.timezone.utc\u001B[1m)\u001B[0m,\n    \u001B[32m'data'\u001B[0m: \u001B[1m{\u001B[0m\u001B[1m}\u001B[0m,\n    \u001B[32m'errors'\u001B[0m: \u001B[1m{\u001B[0m\n        \u001B[32m'error'\u001B[0m: \u001B[32m'Exception\u001B[0m\u001B[32m(\u001B[0m\u001B[32m)\u001B[0m\u001B[32m'\u001B[0m,\n        \u001B[32m'traceback'\u001B[0m: \u001B[32m'Traceback \u001B[0m\u001B[32m(\u001B[0m\u001B[32mmost recent call last\u001B[0m\u001B[32m)\u001B[0m\u001B[32m:\\n  File \u001B[0m\n\u001B[32m\"/Users/sanhehu/Documents/GitHub/pynamodb_mate-project/pynamodb_mate/patterns/status_tracker/impl.py\", line 704, in\u001B[0m\n\u001B[32mstart\\n    yield self\\n  File \"/var/folders/bb/vd34dgxj361gcbkgvmk8_8cw0000gs/T/ipykernel_87085/3027452948.py\", \u001B[0m\n\u001B[32mline 2, in \u001B[0m\u001B[32m<\u001B[0m\u001B[32mmodule\u001B[0m\u001B[32m>\u001B[0m\u001B[32m\\n    raise Exception\\nException\\n'\u001B[0m\n    \u001B[1m}\u001B[0m,\n    \u001B[32m'lock_time'\u001B[0m: \u001B[1;35mdatetime.datetime\u001B[0m\u001B[1m(\u001B[0m\u001B[1;36m2023\u001B[0m, \u001B[1;36m2\u001B[0m, \u001B[1;36m4\u001B[0m, \u001B[1;36m3\u001B[0m, \u001B[1;36m23\u001B[0m, \u001B[1;36m17\u001B[0m, \u001B[1;36m16427\u001B[0m, \u001B[33mtzinfo\u001B[0m=\u001B[35mdatetime\u001B[0m.timezone.utc\u001B[1m)\u001B[0m,\n    \u001B[32m'retry'\u001B[0m: \u001B[1;36m2\u001B[0m,\n    \u001B[32m'update_time'\u001B[0m: \u001B[1;35mdatetime.datetime\u001B[0m\u001B[1m(\u001B[0m\u001B[1;36m2023\u001B[0m, \u001B[1;36m2\u001B[0m, \u001B[1;36m4\u001B[0m, \u001B[1;36m3\u001B[0m, \u001B[1;36m23\u001B[0m, \u001B[1;36m17\u001B[0m, \u001B[1;36m42084\u001B[0m, \u001B[33mtzinfo\u001B[0m=\u001B[35mdatetime\u001B[0m.timezone.utc\u001B[1m)\u001B[0m,\n    \u001B[32m'key'\u001B[0m: \u001B[32m'test-job____t-1'\u001B[0m,\n    \u001B[32m'value'\u001B[0m: \u001B[32m'test-job____006'\u001B[0m\n\u001B[1m}\u001B[0m\n",
      "text/html": "<pre style=\"white-space:pre;overflow-x:auto;line-height:normal;font-family:Menlo,'DejaVu Sans Mono',consolas,'Courier New',monospace\"><span style=\"font-weight: bold\">{</span>\n    <span style=\"color: #008000; text-decoration-color: #008000\">'create_time'</span>: <span style=\"color: #800080; text-decoration-color: #800080; font-weight: bold\">datetime.datetime</span><span style=\"font-weight: bold\">(</span><span style=\"color: #008080; text-decoration-color: #008080; font-weight: bold\">2023</span>, <span style=\"color: #008080; text-decoration-color: #008080; font-weight: bold\">2</span>, <span style=\"color: #008080; text-decoration-color: #008080; font-weight: bold\">4</span>, <span style=\"color: #008080; text-decoration-color: #008080; font-weight: bold\">3</span>, <span style=\"color: #008080; text-decoration-color: #008080; font-weight: bold\">23</span>, <span style=\"color: #008080; text-decoration-color: #008080; font-weight: bold\">15</span>, <span style=\"color: #008080; text-decoration-color: #008080; font-weight: bold\">875960</span>, <span style=\"color: #808000; text-decoration-color: #808000\">tzinfo</span>=<span style=\"color: #800080; text-decoration-color: #800080\">datetime</span>.timezone.utc<span style=\"font-weight: bold\">)</span>,\n    <span style=\"color: #008000; text-decoration-color: #008000\">'data'</span>: <span style=\"font-weight: bold\">{}</span>,\n    <span style=\"color: #008000; text-decoration-color: #008000\">'errors'</span>: <span style=\"font-weight: bold\">{</span>\n        <span style=\"color: #008000; text-decoration-color: #008000\">'error'</span>: <span style=\"color: #008000; text-decoration-color: #008000\">'Exception()'</span>,\n        <span style=\"color: #008000; text-decoration-color: #008000\">'traceback'</span>: <span style=\"color: #008000; text-decoration-color: #008000\">'Traceback (most recent call last):\\n  File </span>\n<span style=\"color: #008000; text-decoration-color: #008000\">\"/Users/sanhehu/Documents/GitHub/pynamodb_mate-project/pynamodb_mate/patterns/status_tracker/impl.py\", line 704, in</span>\n<span style=\"color: #008000; text-decoration-color: #008000\">start\\n    yield self\\n  File \"/var/folders/bb/vd34dgxj361gcbkgvmk8_8cw0000gs/T/ipykernel_87085/3027452948.py\", </span>\n<span style=\"color: #008000; text-decoration-color: #008000\">line 2, in &lt;module&gt;\\n    raise Exception\\nException\\n'</span>\n    <span style=\"font-weight: bold\">}</span>,\n    <span style=\"color: #008000; text-decoration-color: #008000\">'lock_time'</span>: <span style=\"color: #800080; text-decoration-color: #800080; font-weight: bold\">datetime.datetime</span><span style=\"font-weight: bold\">(</span><span style=\"color: #008080; text-decoration-color: #008080; font-weight: bold\">2023</span>, <span style=\"color: #008080; text-decoration-color: #008080; font-weight: bold\">2</span>, <span style=\"color: #008080; text-decoration-color: #008080; font-weight: bold\">4</span>, <span style=\"color: #008080; text-decoration-color: #008080; font-weight: bold\">3</span>, <span style=\"color: #008080; text-decoration-color: #008080; font-weight: bold\">23</span>, <span style=\"color: #008080; text-decoration-color: #008080; font-weight: bold\">17</span>, <span style=\"color: #008080; text-decoration-color: #008080; font-weight: bold\">16427</span>, <span style=\"color: #808000; text-decoration-color: #808000\">tzinfo</span>=<span style=\"color: #800080; text-decoration-color: #800080\">datetime</span>.timezone.utc<span style=\"font-weight: bold\">)</span>,\n    <span style=\"color: #008000; text-decoration-color: #008000\">'retry'</span>: <span style=\"color: #008080; text-decoration-color: #008080; font-weight: bold\">2</span>,\n    <span style=\"color: #008000; text-decoration-color: #008000\">'update_time'</span>: <span style=\"color: #800080; text-decoration-color: #800080; font-weight: bold\">datetime.datetime</span><span style=\"font-weight: bold\">(</span><span style=\"color: #008080; text-decoration-color: #008080; font-weight: bold\">2023</span>, <span style=\"color: #008080; text-decoration-color: #008080; font-weight: bold\">2</span>, <span style=\"color: #008080; text-decoration-color: #008080; font-weight: bold\">4</span>, <span style=\"color: #008080; text-decoration-color: #008080; font-weight: bold\">3</span>, <span style=\"color: #008080; text-decoration-color: #008080; font-weight: bold\">23</span>, <span style=\"color: #008080; text-decoration-color: #008080; font-weight: bold\">17</span>, <span style=\"color: #008080; text-decoration-color: #008080; font-weight: bold\">42084</span>, <span style=\"color: #808000; text-decoration-color: #808000\">tzinfo</span>=<span style=\"color: #800080; text-decoration-color: #800080\">datetime</span>.timezone.utc<span style=\"font-weight: bold\">)</span>,\n    <span style=\"color: #008000; text-decoration-color: #008000\">'key'</span>: <span style=\"color: #008000; text-decoration-color: #008000\">'test-job____t-1'</span>,\n    <span style=\"color: #008000; text-decoration-color: #008000\">'value'</span>: <span style=\"color: #008000; text-decoration-color: #008000\">'test-job____006'</span>\n<span style=\"font-weight: bold\">}</span>\n</pre>\n"
     },
     "metadata": {},
     "output_type": "display_data"
    }
   ],
   "source": [
    "print(\"at the 2th attempt, the task is:\")\n",
    "print(f\"status = {tracker.status_name}\")\n",
    "rprint(tracker.to_dict())"
   ],
   "metadata": {
    "collapsed": false,
    "pycharm": {
     "name": "#%%\n"
    }
   }
  },
  {
   "cell_type": "code",
   "execution_count": 13,
   "outputs": [
    {
     "name": "stdout",
     "output_type": "stream",
     "text": [
      "----- ▶️ start task(job_id='test-job', task_id='t-1', status='s06_failed') -----\n",
      "🔓 set status 's03_in_progress' and lock the task.\n",
      "❌ 🔐 task failed 3 times already, set status 's10_ignore' and unlock the task.\n",
      "------ ⏹️ end task(job_id='test-job', task_id='t-1', status='s10_ignore') ------\n"
     ]
    },
    {
     "ename": "Exception",
     "evalue": "",
     "output_type": "error",
     "traceback": [
      "\u001B[0;31m---------------------------------------------------------------------------\u001B[0m",
      "\u001B[0;31mException\u001B[0m                                 Traceback (most recent call last)",
      "Cell \u001B[0;32mIn[13], line 2\u001B[0m\n\u001B[1;32m      1\u001B[0m \u001B[38;5;28;01mwith\u001B[39;00m tracker\u001B[38;5;241m.\u001B[39mstart_job():\n\u001B[0;32m----> 2\u001B[0m     \u001B[38;5;28;01mraise\u001B[39;00m \u001B[38;5;167;01mException\u001B[39;00m\n",
      "\u001B[0;31mException\u001B[0m: "
     ]
    }
   ],
   "source": [
    "with tracker.start_job():\n",
    "    raise Exception"
   ],
   "metadata": {
    "collapsed": false,
    "pycharm": {
     "name": "#%%\n"
    }
   }
  },
  {
   "cell_type": "code",
   "execution_count": 14,
   "outputs": [
    {
     "name": "stdout",
     "output_type": "stream",
     "text": [
      "at the 3th attempt, the task is:\n",
      "status = s10_ignore\n"
     ]
    },
    {
     "data": {
      "text/plain": "\u001B[1m{\u001B[0m\n    \u001B[32m'create_time'\u001B[0m: \u001B[1;35mdatetime.datetime\u001B[0m\u001B[1m(\u001B[0m\u001B[1;36m2023\u001B[0m, \u001B[1;36m2\u001B[0m, \u001B[1;36m4\u001B[0m, \u001B[1;36m3\u001B[0m, \u001B[1;36m23\u001B[0m, \u001B[1;36m15\u001B[0m, \u001B[1;36m875960\u001B[0m, \u001B[33mtzinfo\u001B[0m=\u001B[35mdatetime\u001B[0m.timezone.utc\u001B[1m)\u001B[0m,\n    \u001B[32m'data'\u001B[0m: \u001B[1m{\u001B[0m\u001B[1m}\u001B[0m,\n    \u001B[32m'errors'\u001B[0m: \u001B[1m{\u001B[0m\n        \u001B[32m'error'\u001B[0m: \u001B[32m'Exception\u001B[0m\u001B[32m(\u001B[0m\u001B[32m)\u001B[0m\u001B[32m'\u001B[0m,\n        \u001B[32m'traceback'\u001B[0m: \u001B[32m'Traceback \u001B[0m\u001B[32m(\u001B[0m\u001B[32mmost recent call last\u001B[0m\u001B[32m)\u001B[0m\u001B[32m:\\n  File \u001B[0m\n\u001B[32m\"/Users/sanhehu/Documents/GitHub/pynamodb_mate-project/pynamodb_mate/patterns/status_tracker/impl.py\", line 704, in\u001B[0m\n\u001B[32mstart\\n    yield self\\n  File \"/var/folders/bb/vd34dgxj361gcbkgvmk8_8cw0000gs/T/ipykernel_87085/3027452948.py\", \u001B[0m\n\u001B[32mline 2, in \u001B[0m\u001B[32m<\u001B[0m\u001B[32mmodule\u001B[0m\u001B[32m>\u001B[0m\u001B[32m\\n    raise Exception\\nException\\n'\u001B[0m\n    \u001B[1m}\u001B[0m,\n    \u001B[32m'lock_time'\u001B[0m: \u001B[1;35mdatetime.datetime\u001B[0m\u001B[1m(\u001B[0m\u001B[1;36m2023\u001B[0m, \u001B[1;36m2\u001B[0m, \u001B[1;36m4\u001B[0m, \u001B[1;36m3\u001B[0m, \u001B[1;36m23\u001B[0m, \u001B[1;36m17\u001B[0m, \u001B[1;36m767265\u001B[0m, \u001B[33mtzinfo\u001B[0m=\u001B[35mdatetime\u001B[0m.timezone.utc\u001B[1m)\u001B[0m,\n    \u001B[32m'retry'\u001B[0m: \u001B[1;36m3\u001B[0m,\n    \u001B[32m'update_time'\u001B[0m: \u001B[1;35mdatetime.datetime\u001B[0m\u001B[1m(\u001B[0m\u001B[1;36m2023\u001B[0m, \u001B[1;36m2\u001B[0m, \u001B[1;36m4\u001B[0m, \u001B[1;36m3\u001B[0m, \u001B[1;36m23\u001B[0m, \u001B[1;36m17\u001B[0m, \u001B[1;36m792697\u001B[0m, \u001B[33mtzinfo\u001B[0m=\u001B[35mdatetime\u001B[0m.timezone.utc\u001B[1m)\u001B[0m,\n    \u001B[32m'key'\u001B[0m: \u001B[32m'test-job____t-1'\u001B[0m,\n    \u001B[32m'value'\u001B[0m: \u001B[32m'test-job____010'\u001B[0m\n\u001B[1m}\u001B[0m\n",
      "text/html": "<pre style=\"white-space:pre;overflow-x:auto;line-height:normal;font-family:Menlo,'DejaVu Sans Mono',consolas,'Courier New',monospace\"><span style=\"font-weight: bold\">{</span>\n    <span style=\"color: #008000; text-decoration-color: #008000\">'create_time'</span>: <span style=\"color: #800080; text-decoration-color: #800080; font-weight: bold\">datetime.datetime</span><span style=\"font-weight: bold\">(</span><span style=\"color: #008080; text-decoration-color: #008080; font-weight: bold\">2023</span>, <span style=\"color: #008080; text-decoration-color: #008080; font-weight: bold\">2</span>, <span style=\"color: #008080; text-decoration-color: #008080; font-weight: bold\">4</span>, <span style=\"color: #008080; text-decoration-color: #008080; font-weight: bold\">3</span>, <span style=\"color: #008080; text-decoration-color: #008080; font-weight: bold\">23</span>, <span style=\"color: #008080; text-decoration-color: #008080; font-weight: bold\">15</span>, <span style=\"color: #008080; text-decoration-color: #008080; font-weight: bold\">875960</span>, <span style=\"color: #808000; text-decoration-color: #808000\">tzinfo</span>=<span style=\"color: #800080; text-decoration-color: #800080\">datetime</span>.timezone.utc<span style=\"font-weight: bold\">)</span>,\n    <span style=\"color: #008000; text-decoration-color: #008000\">'data'</span>: <span style=\"font-weight: bold\">{}</span>,\n    <span style=\"color: #008000; text-decoration-color: #008000\">'errors'</span>: <span style=\"font-weight: bold\">{</span>\n        <span style=\"color: #008000; text-decoration-color: #008000\">'error'</span>: <span style=\"color: #008000; text-decoration-color: #008000\">'Exception()'</span>,\n        <span style=\"color: #008000; text-decoration-color: #008000\">'traceback'</span>: <span style=\"color: #008000; text-decoration-color: #008000\">'Traceback (most recent call last):\\n  File </span>\n<span style=\"color: #008000; text-decoration-color: #008000\">\"/Users/sanhehu/Documents/GitHub/pynamodb_mate-project/pynamodb_mate/patterns/status_tracker/impl.py\", line 704, in</span>\n<span style=\"color: #008000; text-decoration-color: #008000\">start\\n    yield self\\n  File \"/var/folders/bb/vd34dgxj361gcbkgvmk8_8cw0000gs/T/ipykernel_87085/3027452948.py\", </span>\n<span style=\"color: #008000; text-decoration-color: #008000\">line 2, in &lt;module&gt;\\n    raise Exception\\nException\\n'</span>\n    <span style=\"font-weight: bold\">}</span>,\n    <span style=\"color: #008000; text-decoration-color: #008000\">'lock_time'</span>: <span style=\"color: #800080; text-decoration-color: #800080; font-weight: bold\">datetime.datetime</span><span style=\"font-weight: bold\">(</span><span style=\"color: #008080; text-decoration-color: #008080; font-weight: bold\">2023</span>, <span style=\"color: #008080; text-decoration-color: #008080; font-weight: bold\">2</span>, <span style=\"color: #008080; text-decoration-color: #008080; font-weight: bold\">4</span>, <span style=\"color: #008080; text-decoration-color: #008080; font-weight: bold\">3</span>, <span style=\"color: #008080; text-decoration-color: #008080; font-weight: bold\">23</span>, <span style=\"color: #008080; text-decoration-color: #008080; font-weight: bold\">17</span>, <span style=\"color: #008080; text-decoration-color: #008080; font-weight: bold\">767265</span>, <span style=\"color: #808000; text-decoration-color: #808000\">tzinfo</span>=<span style=\"color: #800080; text-decoration-color: #800080\">datetime</span>.timezone.utc<span style=\"font-weight: bold\">)</span>,\n    <span style=\"color: #008000; text-decoration-color: #008000\">'retry'</span>: <span style=\"color: #008080; text-decoration-color: #008080; font-weight: bold\">3</span>,\n    <span style=\"color: #008000; text-decoration-color: #008000\">'update_time'</span>: <span style=\"color: #800080; text-decoration-color: #800080; font-weight: bold\">datetime.datetime</span><span style=\"font-weight: bold\">(</span><span style=\"color: #008080; text-decoration-color: #008080; font-weight: bold\">2023</span>, <span style=\"color: #008080; text-decoration-color: #008080; font-weight: bold\">2</span>, <span style=\"color: #008080; text-decoration-color: #008080; font-weight: bold\">4</span>, <span style=\"color: #008080; text-decoration-color: #008080; font-weight: bold\">3</span>, <span style=\"color: #008080; text-decoration-color: #008080; font-weight: bold\">23</span>, <span style=\"color: #008080; text-decoration-color: #008080; font-weight: bold\">17</span>, <span style=\"color: #008080; text-decoration-color: #008080; font-weight: bold\">792697</span>, <span style=\"color: #808000; text-decoration-color: #808000\">tzinfo</span>=<span style=\"color: #800080; text-decoration-color: #800080\">datetime</span>.timezone.utc<span style=\"font-weight: bold\">)</span>,\n    <span style=\"color: #008000; text-decoration-color: #008000\">'key'</span>: <span style=\"color: #008000; text-decoration-color: #008000\">'test-job____t-1'</span>,\n    <span style=\"color: #008000; text-decoration-color: #008000\">'value'</span>: <span style=\"color: #008000; text-decoration-color: #008000\">'test-job____010'</span>\n<span style=\"font-weight: bold\">}</span>\n</pre>\n"
     },
     "metadata": {},
     "output_type": "display_data"
    }
   ],
   "source": [
    "print(\"at the 3th attempt, the task is:\")\n",
    "print(f\"status = {tracker.status_name}\")\n",
    "rprint(tracker.to_dict())"
   ],
   "metadata": {
    "collapsed": false,
    "pycharm": {
     "name": "#%%\n"
    }
   }
  },
  {
   "cell_type": "code",
   "execution_count": 15,
   "outputs": [
    {
     "name": "stdout",
     "output_type": "stream",
     "text": [
      "You will see a TaskIgnoredError if you try to start the task again\n",
      "----- ▶️ start task(job_id='test-job', task_id='t-1', status='s10_ignore') -----\n",
      "↪️ the task is ignored, do nothing!\n"
     ]
    },
    {
     "ename": "TaskIgnoredError",
     "evalue": "Task test-job____t-1 retry count already exceeded 3, ignore it.",
     "output_type": "error",
     "traceback": [
      "\u001B[0;31m---------------------------------------------------------------------------\u001B[0m",
      "\u001B[0;31mTaskIgnoredError\u001B[0m                          Traceback (most recent call last)",
      "Cell \u001B[0;32mIn[15], line 2\u001B[0m\n\u001B[1;32m      1\u001B[0m \u001B[38;5;28mprint\u001B[39m(\u001B[38;5;124m\"\u001B[39m\u001B[38;5;124mYou will see a TaskIgnoredError if you try to start the task again\u001B[39m\u001B[38;5;124m\"\u001B[39m)\n\u001B[0;32m----> 2\u001B[0m \u001B[38;5;28;01mwith\u001B[39;00m tracker\u001B[38;5;241m.\u001B[39mstart_job():\n\u001B[1;32m      3\u001B[0m     \u001B[38;5;66;03m# since this is in ignore status\u001B[39;00m\n\u001B[1;32m      4\u001B[0m     \u001B[38;5;66;03m# the task logic will never be executed\u001B[39;00m\n\u001B[1;32m      5\u001B[0m     \u001B[38;5;28mprint\u001B[39m(\u001B[38;5;124m\"\u001B[39m\u001B[38;5;124mdo something ...\u001B[39m\u001B[38;5;124m\"\u001B[39m)\n\u001B[1;32m      6\u001B[0m     \u001B[38;5;28;01mpass\u001B[39;00m\n",
      "File \u001B[0;32m~/.pyenv/versions/3.8.11/lib/python3.8/contextlib.py:113\u001B[0m, in \u001B[0;36m_GeneratorContextManager.__enter__\u001B[0;34m(self)\u001B[0m\n\u001B[1;32m    111\u001B[0m \u001B[38;5;28;01mdel\u001B[39;00m \u001B[38;5;28mself\u001B[39m\u001B[38;5;241m.\u001B[39margs, \u001B[38;5;28mself\u001B[39m\u001B[38;5;241m.\u001B[39mkwds, \u001B[38;5;28mself\u001B[39m\u001B[38;5;241m.\u001B[39mfunc\n\u001B[1;32m    112\u001B[0m \u001B[38;5;28;01mtry\u001B[39;00m:\n\u001B[0;32m--> 113\u001B[0m     \u001B[38;5;28;01mreturn\u001B[39;00m \u001B[38;5;28;43mnext\u001B[39;49m\u001B[43m(\u001B[49m\u001B[38;5;28;43mself\u001B[39;49m\u001B[38;5;241;43m.\u001B[39;49m\u001B[43mgen\u001B[49m\u001B[43m)\u001B[49m\n\u001B[1;32m    114\u001B[0m \u001B[38;5;28;01mexcept\u001B[39;00m \u001B[38;5;167;01mStopIteration\u001B[39;00m:\n\u001B[1;32m    115\u001B[0m     \u001B[38;5;28;01mraise\u001B[39;00m \u001B[38;5;167;01mRuntimeError\u001B[39;00m(\u001B[38;5;124m\"\u001B[39m\u001B[38;5;124mgenerator didn\u001B[39m\u001B[38;5;124m'\u001B[39m\u001B[38;5;124mt yield\u001B[39m\u001B[38;5;124m\"\u001B[39m) \u001B[38;5;28;01mfrom\u001B[39;00m \u001B[38;5;28mNone\u001B[39m\n",
      "File \u001B[0;32m~/Documents/GitHub/pynamodb_mate-project/pynamodb_mate/patterns/status_tracker/impl.py:687\u001B[0m, in \u001B[0;36mBaseStatusTracker.start\u001B[0;34m(self, in_process_status, failed_status, success_status, ignore_status, debug)\u001B[0m\n\u001B[1;32m    685\u001B[0m     \u001B[38;5;28;01mif\u001B[39;00m debug:\n\u001B[1;32m    686\u001B[0m         \u001B[38;5;28mprint\u001B[39m(\u001B[38;5;124mf\u001B[39m\u001B[38;5;124m\"\u001B[39m\u001B[38;5;124m↪️ the task is ignored, do nothing!\u001B[39m\u001B[38;5;124m\"\u001B[39m)\n\u001B[0;32m--> 687\u001B[0m     \u001B[38;5;28;01mraise\u001B[39;00m TaskIgnoredError(\n\u001B[1;32m    688\u001B[0m         \u001B[38;5;124mf\u001B[39m\u001B[38;5;124m\"\u001B[39m\u001B[38;5;124mTask \u001B[39m\u001B[38;5;132;01m{\u001B[39;00m\u001B[38;5;28mself\u001B[39m\u001B[38;5;241m.\u001B[39mkey\u001B[38;5;132;01m}\u001B[39;00m\u001B[38;5;124m retry count already exceeded \u001B[39m\u001B[38;5;132;01m{\u001B[39;00m\u001B[38;5;28mself\u001B[39m\u001B[38;5;241m.\u001B[39mMAX_RETRY\u001B[38;5;132;01m}\u001B[39;00m\u001B[38;5;124m, \u001B[39m\u001B[38;5;124m\"\u001B[39m\n\u001B[1;32m    689\u001B[0m         \u001B[38;5;124mf\u001B[39m\u001B[38;5;124m\"\u001B[39m\u001B[38;5;124mignore it.\u001B[39m\u001B[38;5;124m\"\u001B[39m\n\u001B[1;32m    690\u001B[0m     )\n\u001B[1;32m    692\u001B[0m \u001B[38;5;66;03m# mark as in progress\u001B[39;00m\n\u001B[1;32m    693\u001B[0m \u001B[38;5;28;01mwith\u001B[39;00m \u001B[38;5;28mself\u001B[39m\u001B[38;5;241m.\u001B[39mupdate_context():\n",
      "\u001B[0;31mTaskIgnoredError\u001B[0m: Task test-job____t-1 retry count already exceeded 3, ignore it."
     ]
    }
   ],
   "source": [
    "print(\"You will see a TaskIgnoredError if you try to start the task again\")\n",
    "with tracker.start_job():\n",
    "    # since this is in ignore status\n",
    "    # the task logic will never be executed\n",
    "    print(\"do something ...\")\n",
    "    pass"
   ],
   "metadata": {
    "collapsed": false,
    "pycharm": {
     "name": "#%%\n"
    }
   }
  },
  {
   "cell_type": "markdown",
   "source": [
    "## Save Custom Metadata to the Tracker\n",
    "\n",
    "You may want to store custom metadata to DynamoDB. Since DynamoDB is schemaless, you can store arbitrary data in DynamoDB."
   ],
   "metadata": {
    "collapsed": false,
    "pycharm": {
     "name": "#%% md\n"
    }
   }
  },
  {
   "cell_type": "code",
   "execution_count": 16,
   "outputs": [
    {
     "name": "stdout",
     "output_type": "stream",
     "text": [
      "------ ▶️ start task(job_id='test-job', task_id='t-1', status='s00_todo') ------\n",
      "🔓 set status 's03_in_progress' and lock the task.\n",
      "do some work\n",
      "save custom metadata to the tracker\n",
      "✅ 🔐 task succeeded, set status 's09_success' and unlock the task.\n",
      "----- ⏹️ end task(job_id='test-job', task_id='t-1', status='s09_success') ------\n",
      "verify the data attribute\n"
     ]
    },
    {
     "data": {
      "text/plain": "\u001B[1m{\u001B[0m\n    \u001B[32m'create_time'\u001B[0m: \u001B[1;35mdatetime.datetime\u001B[0m\u001B[1m(\u001B[0m\u001B[1;36m2023\u001B[0m, \u001B[1;36m2\u001B[0m, \u001B[1;36m4\u001B[0m, \u001B[1;36m3\u001B[0m, \u001B[1;36m23\u001B[0m, \u001B[1;36m18\u001B[0m, \u001B[1;36m873286\u001B[0m, \u001B[33mtzinfo\u001B[0m=\u001B[35mdatetime\u001B[0m.timezone.utc\u001B[1m)\u001B[0m,\n    \u001B[32m'data'\u001B[0m: \u001B[1m{\u001B[0m\u001B[32m'custom_metrics'\u001B[0m: \u001B[1m{\u001B[0m\u001B[32m'number of file processed'\u001B[0m: \u001B[1;36m100\u001B[0m\u001B[1m}\u001B[0m\u001B[1m}\u001B[0m,\n    \u001B[32m'errors'\u001B[0m: \u001B[1m{\u001B[0m\u001B[1m}\u001B[0m,\n    \u001B[32m'lock_time'\u001B[0m: \u001B[1;35mdatetime.datetime\u001B[0m\u001B[1m(\u001B[0m\u001B[1;36m2023\u001B[0m, \u001B[1;36m2\u001B[0m, \u001B[1;36m4\u001B[0m, \u001B[1;36m3\u001B[0m, \u001B[1;36m23\u001B[0m, \u001B[1;36m18\u001B[0m, \u001B[1;36m916613\u001B[0m, \u001B[33mtzinfo\u001B[0m=\u001B[35mdatetime\u001B[0m.timezone.utc\u001B[1m)\u001B[0m,\n    \u001B[32m'retry'\u001B[0m: \u001B[1;36m0\u001B[0m,\n    \u001B[32m'update_time'\u001B[0m: \u001B[1;35mdatetime.datetime\u001B[0m\u001B[1m(\u001B[0m\u001B[1;36m2023\u001B[0m, \u001B[1;36m2\u001B[0m, \u001B[1;36m4\u001B[0m, \u001B[1;36m3\u001B[0m, \u001B[1;36m23\u001B[0m, \u001B[1;36m18\u001B[0m, \u001B[1;36m931155\u001B[0m, \u001B[33mtzinfo\u001B[0m=\u001B[35mdatetime\u001B[0m.timezone.utc\u001B[1m)\u001B[0m,\n    \u001B[32m'key'\u001B[0m: \u001B[32m'test-job____t-1'\u001B[0m,\n    \u001B[32m'value'\u001B[0m: \u001B[32m'test-job____009'\u001B[0m\n\u001B[1m}\u001B[0m\n",
      "text/html": "<pre style=\"white-space:pre;overflow-x:auto;line-height:normal;font-family:Menlo,'DejaVu Sans Mono',consolas,'Courier New',monospace\"><span style=\"font-weight: bold\">{</span>\n    <span style=\"color: #008000; text-decoration-color: #008000\">'create_time'</span>: <span style=\"color: #800080; text-decoration-color: #800080; font-weight: bold\">datetime.datetime</span><span style=\"font-weight: bold\">(</span><span style=\"color: #008080; text-decoration-color: #008080; font-weight: bold\">2023</span>, <span style=\"color: #008080; text-decoration-color: #008080; font-weight: bold\">2</span>, <span style=\"color: #008080; text-decoration-color: #008080; font-weight: bold\">4</span>, <span style=\"color: #008080; text-decoration-color: #008080; font-weight: bold\">3</span>, <span style=\"color: #008080; text-decoration-color: #008080; font-weight: bold\">23</span>, <span style=\"color: #008080; text-decoration-color: #008080; font-weight: bold\">18</span>, <span style=\"color: #008080; text-decoration-color: #008080; font-weight: bold\">873286</span>, <span style=\"color: #808000; text-decoration-color: #808000\">tzinfo</span>=<span style=\"color: #800080; text-decoration-color: #800080\">datetime</span>.timezone.utc<span style=\"font-weight: bold\">)</span>,\n    <span style=\"color: #008000; text-decoration-color: #008000\">'data'</span>: <span style=\"font-weight: bold\">{</span><span style=\"color: #008000; text-decoration-color: #008000\">'custom_metrics'</span>: <span style=\"font-weight: bold\">{</span><span style=\"color: #008000; text-decoration-color: #008000\">'number of file processed'</span>: <span style=\"color: #008080; text-decoration-color: #008080; font-weight: bold\">100</span><span style=\"font-weight: bold\">}}</span>,\n    <span style=\"color: #008000; text-decoration-color: #008000\">'errors'</span>: <span style=\"font-weight: bold\">{}</span>,\n    <span style=\"color: #008000; text-decoration-color: #008000\">'lock_time'</span>: <span style=\"color: #800080; text-decoration-color: #800080; font-weight: bold\">datetime.datetime</span><span style=\"font-weight: bold\">(</span><span style=\"color: #008080; text-decoration-color: #008080; font-weight: bold\">2023</span>, <span style=\"color: #008080; text-decoration-color: #008080; font-weight: bold\">2</span>, <span style=\"color: #008080; text-decoration-color: #008080; font-weight: bold\">4</span>, <span style=\"color: #008080; text-decoration-color: #008080; font-weight: bold\">3</span>, <span style=\"color: #008080; text-decoration-color: #008080; font-weight: bold\">23</span>, <span style=\"color: #008080; text-decoration-color: #008080; font-weight: bold\">18</span>, <span style=\"color: #008080; text-decoration-color: #008080; font-weight: bold\">916613</span>, <span style=\"color: #808000; text-decoration-color: #808000\">tzinfo</span>=<span style=\"color: #800080; text-decoration-color: #800080\">datetime</span>.timezone.utc<span style=\"font-weight: bold\">)</span>,\n    <span style=\"color: #008000; text-decoration-color: #008000\">'retry'</span>: <span style=\"color: #008080; text-decoration-color: #008080; font-weight: bold\">0</span>,\n    <span style=\"color: #008000; text-decoration-color: #008000\">'update_time'</span>: <span style=\"color: #800080; text-decoration-color: #800080; font-weight: bold\">datetime.datetime</span><span style=\"font-weight: bold\">(</span><span style=\"color: #008080; text-decoration-color: #008080; font-weight: bold\">2023</span>, <span style=\"color: #008080; text-decoration-color: #008080; font-weight: bold\">2</span>, <span style=\"color: #008080; text-decoration-color: #008080; font-weight: bold\">4</span>, <span style=\"color: #008080; text-decoration-color: #008080; font-weight: bold\">3</span>, <span style=\"color: #008080; text-decoration-color: #008080; font-weight: bold\">23</span>, <span style=\"color: #008080; text-decoration-color: #008080; font-weight: bold\">18</span>, <span style=\"color: #008080; text-decoration-color: #008080; font-weight: bold\">931155</span>, <span style=\"color: #808000; text-decoration-color: #808000\">tzinfo</span>=<span style=\"color: #800080; text-decoration-color: #800080\">datetime</span>.timezone.utc<span style=\"font-weight: bold\">)</span>,\n    <span style=\"color: #008000; text-decoration-color: #008000\">'key'</span>: <span style=\"color: #008000; text-decoration-color: #008000\">'test-job____t-1'</span>,\n    <span style=\"color: #008000; text-decoration-color: #008000\">'value'</span>: <span style=\"color: #008000; text-decoration-color: #008000\">'test-job____009'</span>\n<span style=\"font-weight: bold\">}</span>\n</pre>\n"
     },
     "metadata": {},
     "output_type": "display_data"
    }
   ],
   "source": [
    "# reset the task\n",
    "tracker = Tracker.new(task_id)\n",
    "\n",
    "with tracker.start_job():\n",
    "    print(\"do some work\")\n",
    "    print(\"save custom metadata to the tracker\")\n",
    "    tracker.data[\"custom_metrics\"] = {\"number of file processed\": 100}\n",
    "    tracker.set_data(tracker.data)\n",
    "\n",
    "print(\"verify the data attribute\")\n",
    "tracker.refresh()\n",
    "rprint(tracker.to_dict())"
   ],
   "metadata": {
    "collapsed": false,
    "pycharm": {
     "name": "#%%\n"
    }
   }
  },
  {
   "cell_type": "markdown",
   "source": [
    "## Query Tasks by Status\n",
    "\n",
    "To restart some tasks from the last failed, you need to be able to query the tasks by status. The ``Tracker.query_by_status()`` method allow you to get tasks by one or many status codes. By default, it returns tasks ordered by ``update_time``."
   ],
   "metadata": {
    "collapsed": false,
    "pycharm": {
     "name": "#%% md\n"
    }
   }
  },
  {
   "cell_type": "code",
   "execution_count": 17,
   "outputs": [
    {
     "name": "stdout",
     "output_type": "stream",
     "text": [
      "pynamodb-mate-example-status-tracker<test-job____t-1>\n",
      "pynamodb-mate-example-status-tracker<test-job____t-2>\n",
      "pynamodb-mate-example-status-tracker<test-job____t-3>\n",
      "pynamodb-mate-example-status-tracker<test-job____t-4>\n",
      "pynamodb-mate-example-status-tracker<test-job____t-5>\n"
     ]
    }
   ],
   "source": [
    "# create some test data\n",
    "for ith, status in enumerate(StatusEnum, start=1):\n",
    "    tracker = Tracker.make(\n",
    "        task_id=f\"t-{ith}\",\n",
    "        status=status.value,\n",
    "        data={\"status_code\": status.value},\n",
    "    )\n",
    "    tracker.save()\n",
    "    print(tracker)"
   ],
   "metadata": {
    "collapsed": false,
    "pycharm": {
     "name": "#%%\n"
    }
   }
  },
  {
   "cell_type": "markdown",
   "source": [
    "by default, ``query_by_status`` use the Global Secondary Index (GSI) under the hood. This method only returns part of the original attributes. You need to call ``Tracker.refresh()`` method to get the value of all attributes."
   ],
   "metadata": {
    "collapsed": false,
    "pycharm": {
     "name": "#%% md\n"
    }
   }
  },
  {
   "cell_type": "code",
   "execution_count": 18,
   "outputs": [
    {
     "name": "stdout",
     "output_type": "stream",
     "text": [
      "by default, the `data` attributes is the default value \n"
     ]
    },
    {
     "data": {
      "text/plain": "\u001B[1m{\u001B[0m\n    \u001B[32m'create_time'\u001B[0m: \u001B[1;35mdatetime.datetime\u001B[0m\u001B[1m(\u001B[0m\u001B[1;36m2023\u001B[0m, \u001B[1;36m2\u001B[0m, \u001B[1;36m4\u001B[0m, \u001B[1;36m3\u001B[0m, \u001B[1;36m23\u001B[0m, \u001B[1;36m20\u001B[0m, \u001B[1;36m167515\u001B[0m, \u001B[33mtzinfo\u001B[0m=\u001B[35mdatetime\u001B[0m.timezone.utc\u001B[1m)\u001B[0m,\n    \u001B[32m'data'\u001B[0m: \u001B[1m{\u001B[0m\u001B[1m}\u001B[0m,\n    \u001B[32m'errors'\u001B[0m: \u001B[1m{\u001B[0m\u001B[1m}\u001B[0m,\n    \u001B[32m'lock_time'\u001B[0m: \u001B[1;35mdatetime.datetime\u001B[0m\u001B[1m(\u001B[0m\u001B[1;36m1970\u001B[0m, \u001B[1;36m1\u001B[0m, \u001B[1;36m1\u001B[0m, \u001B[1;36m0\u001B[0m, \u001B[1;36m0\u001B[0m, \u001B[33mtzinfo\u001B[0m=\u001B[35mdatetime\u001B[0m.timezone.utc\u001B[1m)\u001B[0m,\n    \u001B[32m'retry'\u001B[0m: \u001B[1;36m0\u001B[0m,\n    \u001B[32m'update_time'\u001B[0m: \u001B[1;35mdatetime.datetime\u001B[0m\u001B[1m(\u001B[0m\u001B[1;36m2023\u001B[0m, \u001B[1;36m2\u001B[0m, \u001B[1;36m4\u001B[0m, \u001B[1;36m3\u001B[0m, \u001B[1;36m23\u001B[0m, \u001B[1;36m20\u001B[0m, \u001B[1;36m167530\u001B[0m, \u001B[33mtzinfo\u001B[0m=\u001B[35mdatetime\u001B[0m.timezone.utc\u001B[1m)\u001B[0m,\n    \u001B[32m'key'\u001B[0m: \u001B[32m'test-job____t-4'\u001B[0m,\n    \u001B[32m'value'\u001B[0m: \u001B[32m'test-job____009'\u001B[0m\n\u001B[1m}\u001B[0m\n",
      "text/html": "<pre style=\"white-space:pre;overflow-x:auto;line-height:normal;font-family:Menlo,'DejaVu Sans Mono',consolas,'Courier New',monospace\"><span style=\"font-weight: bold\">{</span>\n    <span style=\"color: #008000; text-decoration-color: #008000\">'create_time'</span>: <span style=\"color: #800080; text-decoration-color: #800080; font-weight: bold\">datetime.datetime</span><span style=\"font-weight: bold\">(</span><span style=\"color: #008080; text-decoration-color: #008080; font-weight: bold\">2023</span>, <span style=\"color: #008080; text-decoration-color: #008080; font-weight: bold\">2</span>, <span style=\"color: #008080; text-decoration-color: #008080; font-weight: bold\">4</span>, <span style=\"color: #008080; text-decoration-color: #008080; font-weight: bold\">3</span>, <span style=\"color: #008080; text-decoration-color: #008080; font-weight: bold\">23</span>, <span style=\"color: #008080; text-decoration-color: #008080; font-weight: bold\">20</span>, <span style=\"color: #008080; text-decoration-color: #008080; font-weight: bold\">167515</span>, <span style=\"color: #808000; text-decoration-color: #808000\">tzinfo</span>=<span style=\"color: #800080; text-decoration-color: #800080\">datetime</span>.timezone.utc<span style=\"font-weight: bold\">)</span>,\n    <span style=\"color: #008000; text-decoration-color: #008000\">'data'</span>: <span style=\"font-weight: bold\">{}</span>,\n    <span style=\"color: #008000; text-decoration-color: #008000\">'errors'</span>: <span style=\"font-weight: bold\">{}</span>,\n    <span style=\"color: #008000; text-decoration-color: #008000\">'lock_time'</span>: <span style=\"color: #800080; text-decoration-color: #800080; font-weight: bold\">datetime.datetime</span><span style=\"font-weight: bold\">(</span><span style=\"color: #008080; text-decoration-color: #008080; font-weight: bold\">1970</span>, <span style=\"color: #008080; text-decoration-color: #008080; font-weight: bold\">1</span>, <span style=\"color: #008080; text-decoration-color: #008080; font-weight: bold\">1</span>, <span style=\"color: #008080; text-decoration-color: #008080; font-weight: bold\">0</span>, <span style=\"color: #008080; text-decoration-color: #008080; font-weight: bold\">0</span>, <span style=\"color: #808000; text-decoration-color: #808000\">tzinfo</span>=<span style=\"color: #800080; text-decoration-color: #800080\">datetime</span>.timezone.utc<span style=\"font-weight: bold\">)</span>,\n    <span style=\"color: #008000; text-decoration-color: #008000\">'retry'</span>: <span style=\"color: #008080; text-decoration-color: #008080; font-weight: bold\">0</span>,\n    <span style=\"color: #008000; text-decoration-color: #008000\">'update_time'</span>: <span style=\"color: #800080; text-decoration-color: #800080; font-weight: bold\">datetime.datetime</span><span style=\"font-weight: bold\">(</span><span style=\"color: #008080; text-decoration-color: #008080; font-weight: bold\">2023</span>, <span style=\"color: #008080; text-decoration-color: #008080; font-weight: bold\">2</span>, <span style=\"color: #008080; text-decoration-color: #008080; font-weight: bold\">4</span>, <span style=\"color: #008080; text-decoration-color: #008080; font-weight: bold\">3</span>, <span style=\"color: #008080; text-decoration-color: #008080; font-weight: bold\">23</span>, <span style=\"color: #008080; text-decoration-color: #008080; font-weight: bold\">20</span>, <span style=\"color: #008080; text-decoration-color: #008080; font-weight: bold\">167530</span>, <span style=\"color: #808000; text-decoration-color: #808000\">tzinfo</span>=<span style=\"color: #800080; text-decoration-color: #800080\">datetime</span>.timezone.utc<span style=\"font-weight: bold\">)</span>,\n    <span style=\"color: #008000; text-decoration-color: #008000\">'key'</span>: <span style=\"color: #008000; text-decoration-color: #008000\">'test-job____t-4'</span>,\n    <span style=\"color: #008000; text-decoration-color: #008000\">'value'</span>: <span style=\"color: #008000; text-decoration-color: #008000\">'test-job____009'</span>\n<span style=\"font-weight: bold\">}</span>\n</pre>\n"
     },
     "metadata": {},
     "output_type": "display_data"
    },
    {
     "name": "stdout",
     "output_type": "stream",
     "text": [
      "after refresh, the `data` attributes is the real value \n"
     ]
    },
    {
     "data": {
      "text/plain": "\u001B[1m{\u001B[0m\n    \u001B[32m'create_time'\u001B[0m: \u001B[1;35mdatetime.datetime\u001B[0m\u001B[1m(\u001B[0m\u001B[1;36m2023\u001B[0m, \u001B[1;36m2\u001B[0m, \u001B[1;36m4\u001B[0m, \u001B[1;36m3\u001B[0m, \u001B[1;36m23\u001B[0m, \u001B[1;36m20\u001B[0m, \u001B[1;36m167515\u001B[0m, \u001B[33mtzinfo\u001B[0m=\u001B[35mdatetime\u001B[0m.timezone.utc\u001B[1m)\u001B[0m,\n    \u001B[32m'data'\u001B[0m: \u001B[1m{\u001B[0m\u001B[32m'status_code'\u001B[0m: \u001B[1;36m9\u001B[0m\u001B[1m}\u001B[0m,\n    \u001B[32m'errors'\u001B[0m: \u001B[1m{\u001B[0m\u001B[1m}\u001B[0m,\n    \u001B[32m'lock_time'\u001B[0m: \u001B[1;35mdatetime.datetime\u001B[0m\u001B[1m(\u001B[0m\u001B[1;36m1970\u001B[0m, \u001B[1;36m1\u001B[0m, \u001B[1;36m1\u001B[0m, \u001B[1;36m0\u001B[0m, \u001B[1;36m0\u001B[0m, \u001B[33mtzinfo\u001B[0m=\u001B[35mdatetime\u001B[0m.timezone.utc\u001B[1m)\u001B[0m,\n    \u001B[32m'retry'\u001B[0m: \u001B[1;36m0\u001B[0m,\n    \u001B[32m'update_time'\u001B[0m: \u001B[1;35mdatetime.datetime\u001B[0m\u001B[1m(\u001B[0m\u001B[1;36m2023\u001B[0m, \u001B[1;36m2\u001B[0m, \u001B[1;36m4\u001B[0m, \u001B[1;36m3\u001B[0m, \u001B[1;36m23\u001B[0m, \u001B[1;36m20\u001B[0m, \u001B[1;36m167530\u001B[0m, \u001B[33mtzinfo\u001B[0m=\u001B[35mdatetime\u001B[0m.timezone.utc\u001B[1m)\u001B[0m,\n    \u001B[32m'key'\u001B[0m: \u001B[32m'test-job____t-4'\u001B[0m,\n    \u001B[32m'value'\u001B[0m: \u001B[32m'test-job____009'\u001B[0m\n\u001B[1m}\u001B[0m\n",
      "text/html": "<pre style=\"white-space:pre;overflow-x:auto;line-height:normal;font-family:Menlo,'DejaVu Sans Mono',consolas,'Courier New',monospace\"><span style=\"font-weight: bold\">{</span>\n    <span style=\"color: #008000; text-decoration-color: #008000\">'create_time'</span>: <span style=\"color: #800080; text-decoration-color: #800080; font-weight: bold\">datetime.datetime</span><span style=\"font-weight: bold\">(</span><span style=\"color: #008080; text-decoration-color: #008080; font-weight: bold\">2023</span>, <span style=\"color: #008080; text-decoration-color: #008080; font-weight: bold\">2</span>, <span style=\"color: #008080; text-decoration-color: #008080; font-weight: bold\">4</span>, <span style=\"color: #008080; text-decoration-color: #008080; font-weight: bold\">3</span>, <span style=\"color: #008080; text-decoration-color: #008080; font-weight: bold\">23</span>, <span style=\"color: #008080; text-decoration-color: #008080; font-weight: bold\">20</span>, <span style=\"color: #008080; text-decoration-color: #008080; font-weight: bold\">167515</span>, <span style=\"color: #808000; text-decoration-color: #808000\">tzinfo</span>=<span style=\"color: #800080; text-decoration-color: #800080\">datetime</span>.timezone.utc<span style=\"font-weight: bold\">)</span>,\n    <span style=\"color: #008000; text-decoration-color: #008000\">'data'</span>: <span style=\"font-weight: bold\">{</span><span style=\"color: #008000; text-decoration-color: #008000\">'status_code'</span>: <span style=\"color: #008080; text-decoration-color: #008080; font-weight: bold\">9</span><span style=\"font-weight: bold\">}</span>,\n    <span style=\"color: #008000; text-decoration-color: #008000\">'errors'</span>: <span style=\"font-weight: bold\">{}</span>,\n    <span style=\"color: #008000; text-decoration-color: #008000\">'lock_time'</span>: <span style=\"color: #800080; text-decoration-color: #800080; font-weight: bold\">datetime.datetime</span><span style=\"font-weight: bold\">(</span><span style=\"color: #008080; text-decoration-color: #008080; font-weight: bold\">1970</span>, <span style=\"color: #008080; text-decoration-color: #008080; font-weight: bold\">1</span>, <span style=\"color: #008080; text-decoration-color: #008080; font-weight: bold\">1</span>, <span style=\"color: #008080; text-decoration-color: #008080; font-weight: bold\">0</span>, <span style=\"color: #008080; text-decoration-color: #008080; font-weight: bold\">0</span>, <span style=\"color: #808000; text-decoration-color: #808000\">tzinfo</span>=<span style=\"color: #800080; text-decoration-color: #800080\">datetime</span>.timezone.utc<span style=\"font-weight: bold\">)</span>,\n    <span style=\"color: #008000; text-decoration-color: #008000\">'retry'</span>: <span style=\"color: #008080; text-decoration-color: #008080; font-weight: bold\">0</span>,\n    <span style=\"color: #008000; text-decoration-color: #008000\">'update_time'</span>: <span style=\"color: #800080; text-decoration-color: #800080; font-weight: bold\">datetime.datetime</span><span style=\"font-weight: bold\">(</span><span style=\"color: #008080; text-decoration-color: #008080; font-weight: bold\">2023</span>, <span style=\"color: #008080; text-decoration-color: #008080; font-weight: bold\">2</span>, <span style=\"color: #008080; text-decoration-color: #008080; font-weight: bold\">4</span>, <span style=\"color: #008080; text-decoration-color: #008080; font-weight: bold\">3</span>, <span style=\"color: #008080; text-decoration-color: #008080; font-weight: bold\">23</span>, <span style=\"color: #008080; text-decoration-color: #008080; font-weight: bold\">20</span>, <span style=\"color: #008080; text-decoration-color: #008080; font-weight: bold\">167530</span>, <span style=\"color: #808000; text-decoration-color: #808000\">tzinfo</span>=<span style=\"color: #800080; text-decoration-color: #800080\">datetime</span>.timezone.utc<span style=\"font-weight: bold\">)</span>,\n    <span style=\"color: #008000; text-decoration-color: #008000\">'key'</span>: <span style=\"color: #008000; text-decoration-color: #008000\">'test-job____t-4'</span>,\n    <span style=\"color: #008000; text-decoration-color: #008000\">'value'</span>: <span style=\"color: #008000; text-decoration-color: #008000\">'test-job____009'</span>\n<span style=\"font-weight: bold\">}</span>\n</pre>\n"
     },
     "metadata": {},
     "output_type": "display_data"
    }
   ],
   "source": [
    "for tracker in Tracker.query_by_status(StatusEnum.s09_success):\n",
    "    print(\"by default, the `data` attributes is the default value \")\n",
    "    rprint(tracker.to_dict())\n",
    "    print(\"after refresh, the `data` attributes is the real value \")\n",
    "    tracker.refresh()\n",
    "    rprint(tracker.to_dict())"
   ],
   "metadata": {
    "collapsed": false,
    "pycharm": {
     "name": "#%%\n"
    }
   }
  },
  {
   "cell_type": "markdown",
   "source": [
    "You can use ``auto_refresh = True`` to yield the real value."
   ],
   "metadata": {
    "collapsed": false,
    "pycharm": {
     "name": "#%% md\n"
    }
   }
  },
  {
   "cell_type": "code",
   "execution_count": 19,
   "outputs": [
    {
     "name": "stdout",
     "output_type": "stream",
     "text": [
      "With auto_refresh = True, the `data` attributes is the real value \n"
     ]
    },
    {
     "data": {
      "text/plain": "\u001B[1m{\u001B[0m\n    \u001B[32m'create_time'\u001B[0m: \u001B[1;35mdatetime.datetime\u001B[0m\u001B[1m(\u001B[0m\u001B[1;36m2023\u001B[0m, \u001B[1;36m2\u001B[0m, \u001B[1;36m4\u001B[0m, \u001B[1;36m3\u001B[0m, \u001B[1;36m23\u001B[0m, \u001B[1;36m20\u001B[0m, \u001B[1;36m189768\u001B[0m, \u001B[33mtzinfo\u001B[0m=\u001B[35mdatetime\u001B[0m.timezone.utc\u001B[1m)\u001B[0m,\n    \u001B[32m'data'\u001B[0m: \u001B[1m{\u001B[0m\u001B[32m'status_code'\u001B[0m: \u001B[1;36m10\u001B[0m\u001B[1m}\u001B[0m,\n    \u001B[32m'errors'\u001B[0m: \u001B[1m{\u001B[0m\u001B[1m}\u001B[0m,\n    \u001B[32m'lock_time'\u001B[0m: \u001B[1;35mdatetime.datetime\u001B[0m\u001B[1m(\u001B[0m\u001B[1;36m1970\u001B[0m, \u001B[1;36m1\u001B[0m, \u001B[1;36m1\u001B[0m, \u001B[1;36m0\u001B[0m, \u001B[1;36m0\u001B[0m, \u001B[33mtzinfo\u001B[0m=\u001B[35mdatetime\u001B[0m.timezone.utc\u001B[1m)\u001B[0m,\n    \u001B[32m'retry'\u001B[0m: \u001B[1;36m0\u001B[0m,\n    \u001B[32m'update_time'\u001B[0m: \u001B[1;35mdatetime.datetime\u001B[0m\u001B[1m(\u001B[0m\u001B[1;36m2023\u001B[0m, \u001B[1;36m2\u001B[0m, \u001B[1;36m4\u001B[0m, \u001B[1;36m3\u001B[0m, \u001B[1;36m23\u001B[0m, \u001B[1;36m20\u001B[0m, \u001B[1;36m189790\u001B[0m, \u001B[33mtzinfo\u001B[0m=\u001B[35mdatetime\u001B[0m.timezone.utc\u001B[1m)\u001B[0m,\n    \u001B[32m'key'\u001B[0m: \u001B[32m'test-job____t-5'\u001B[0m,\n    \u001B[32m'value'\u001B[0m: \u001B[32m'test-job____010'\u001B[0m\n\u001B[1m}\u001B[0m\n",
      "text/html": "<pre style=\"white-space:pre;overflow-x:auto;line-height:normal;font-family:Menlo,'DejaVu Sans Mono',consolas,'Courier New',monospace\"><span style=\"font-weight: bold\">{</span>\n    <span style=\"color: #008000; text-decoration-color: #008000\">'create_time'</span>: <span style=\"color: #800080; text-decoration-color: #800080; font-weight: bold\">datetime.datetime</span><span style=\"font-weight: bold\">(</span><span style=\"color: #008080; text-decoration-color: #008080; font-weight: bold\">2023</span>, <span style=\"color: #008080; text-decoration-color: #008080; font-weight: bold\">2</span>, <span style=\"color: #008080; text-decoration-color: #008080; font-weight: bold\">4</span>, <span style=\"color: #008080; text-decoration-color: #008080; font-weight: bold\">3</span>, <span style=\"color: #008080; text-decoration-color: #008080; font-weight: bold\">23</span>, <span style=\"color: #008080; text-decoration-color: #008080; font-weight: bold\">20</span>, <span style=\"color: #008080; text-decoration-color: #008080; font-weight: bold\">189768</span>, <span style=\"color: #808000; text-decoration-color: #808000\">tzinfo</span>=<span style=\"color: #800080; text-decoration-color: #800080\">datetime</span>.timezone.utc<span style=\"font-weight: bold\">)</span>,\n    <span style=\"color: #008000; text-decoration-color: #008000\">'data'</span>: <span style=\"font-weight: bold\">{</span><span style=\"color: #008000; text-decoration-color: #008000\">'status_code'</span>: <span style=\"color: #008080; text-decoration-color: #008080; font-weight: bold\">10</span><span style=\"font-weight: bold\">}</span>,\n    <span style=\"color: #008000; text-decoration-color: #008000\">'errors'</span>: <span style=\"font-weight: bold\">{}</span>,\n    <span style=\"color: #008000; text-decoration-color: #008000\">'lock_time'</span>: <span style=\"color: #800080; text-decoration-color: #800080; font-weight: bold\">datetime.datetime</span><span style=\"font-weight: bold\">(</span><span style=\"color: #008080; text-decoration-color: #008080; font-weight: bold\">1970</span>, <span style=\"color: #008080; text-decoration-color: #008080; font-weight: bold\">1</span>, <span style=\"color: #008080; text-decoration-color: #008080; font-weight: bold\">1</span>, <span style=\"color: #008080; text-decoration-color: #008080; font-weight: bold\">0</span>, <span style=\"color: #008080; text-decoration-color: #008080; font-weight: bold\">0</span>, <span style=\"color: #808000; text-decoration-color: #808000\">tzinfo</span>=<span style=\"color: #800080; text-decoration-color: #800080\">datetime</span>.timezone.utc<span style=\"font-weight: bold\">)</span>,\n    <span style=\"color: #008000; text-decoration-color: #008000\">'retry'</span>: <span style=\"color: #008080; text-decoration-color: #008080; font-weight: bold\">0</span>,\n    <span style=\"color: #008000; text-decoration-color: #008000\">'update_time'</span>: <span style=\"color: #800080; text-decoration-color: #800080; font-weight: bold\">datetime.datetime</span><span style=\"font-weight: bold\">(</span><span style=\"color: #008080; text-decoration-color: #008080; font-weight: bold\">2023</span>, <span style=\"color: #008080; text-decoration-color: #008080; font-weight: bold\">2</span>, <span style=\"color: #008080; text-decoration-color: #008080; font-weight: bold\">4</span>, <span style=\"color: #008080; text-decoration-color: #008080; font-weight: bold\">3</span>, <span style=\"color: #008080; text-decoration-color: #008080; font-weight: bold\">23</span>, <span style=\"color: #008080; text-decoration-color: #008080; font-weight: bold\">20</span>, <span style=\"color: #008080; text-decoration-color: #008080; font-weight: bold\">189790</span>, <span style=\"color: #808000; text-decoration-color: #808000\">tzinfo</span>=<span style=\"color: #800080; text-decoration-color: #800080\">datetime</span>.timezone.utc<span style=\"font-weight: bold\">)</span>,\n    <span style=\"color: #008000; text-decoration-color: #008000\">'key'</span>: <span style=\"color: #008000; text-decoration-color: #008000\">'test-job____t-5'</span>,\n    <span style=\"color: #008000; text-decoration-color: #008000\">'value'</span>: <span style=\"color: #008000; text-decoration-color: #008000\">'test-job____010'</span>\n<span style=\"font-weight: bold\">}</span>\n</pre>\n"
     },
     "metadata": {},
     "output_type": "display_data"
    }
   ],
   "source": [
    "print(\"With auto_refresh = True, the `data` attributes is the real value \")\n",
    "for tracker in Tracker.query_by_status(StatusEnum.s10_ignore, auto_refresh=True):\n",
    "    rprint(tracker.to_dict())"
   ],
   "metadata": {
    "collapsed": false,
    "pycharm": {
     "name": "#%%\n"
    }
   }
  },
  {
   "cell_type": "markdown",
   "source": [
    "## Conclusion\n",
    "\n",
    "In general, this solution can improve the visibility, resilience and reliability of a business critical application. There’s no upfront effort to use this solution, because DynamoDB is a fully managed service. Naturally, it is scalable to adapt to very high workload or unpredictable workload.\n",
    "\n",
    "The usage of this solution is not limited to the above examples. If you see potential to use this solution in your business problems, please don’t hesitate to let us know by creating an [issue](https://github.com/MacHu-GWU/pynamodb_mate-project/issues)."
   ],
   "metadata": {
    "collapsed": false,
    "pycharm": {
     "name": "#%% md\n"
    }
   }
  },
  {
   "cell_type": "code",
   "execution_count": null,
   "outputs": [],
   "source": [],
   "metadata": {
    "collapsed": false,
    "pycharm": {
     "name": "#%%\n"
    }
   }
  }
 ],
 "metadata": {
  "kernelspec": {
   "display_name": "Python 3",
   "language": "python",
   "name": "python3"
  },
  "language_info": {
   "codemirror_mode": {
    "name": "ipython",
    "version": 2
   },
   "file_extension": ".py",
   "mimetype": "text/x-python",
   "name": "python",
   "nbconvert_exporter": "python",
   "pygments_lexer": "ipython2",
   "version": "2.7.6"
  }
 },
 "nbformat": 4,
 "nbformat_minor": 0
}

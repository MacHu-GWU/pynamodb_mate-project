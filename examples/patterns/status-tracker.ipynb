{
 "cells": [
  {
   "cell_type": "markdown",
   "source": [
    "# Use DynamoDB to track the status of Tasks\n",
    "\n",
    "It many business critical use case, it is necessary to track every task to know which is succeeded, which is failed and which is still in progress. Some advanced users also wants to:\n",
    "\n",
    "- Each task should be handled by only one worker, you want a concurrency lock mechanism to avoid double consumption.\n",
    "- For those succeeded tasks, store additional information such as the output of the task and log the success time.\n",
    "- For those failed task, log the error message for debug, so you can fix the bug and rerun the task.\n",
    "- For those failed task, you want to get all of failed tasks by one simple query and rerun with the updated business logic.\n",
    "- For those tasks failed too many times, you don't want to retry them anymore and wants to ignore them.\n",
    "- Run custom query based on task status for analytics purpose.\n",
    "\n",
    "With DynamoDB, you can enable this advanced status tracking feature for your application with just a few lines of code. And you can use the \"elegant\" context manager to wrap around your business logic code and enjoy all the features above."
   ],
   "metadata": {
    "collapsed": false,
    "pycharm": {
     "name": "#%% md\n"
    }
   }
  },
  {
   "cell_type": "markdown",
   "source": [
    "## Declare Your DynamoDB Status Tracking Table"
   ],
   "metadata": {
    "collapsed": false,
    "pycharm": {
     "name": "#%% md\n"
    }
   }
  },
  {
   "cell_type": "code",
   "execution_count": 59,
   "outputs": [],
   "source": [
    "import pynamodb_mate as pm\n",
    "from rich import print as rprint"
   ],
   "metadata": {
    "collapsed": false,
    "pycharm": {
     "name": "#%%\n"
    }
   }
  },
  {
   "cell_type": "code",
   "execution_count": 60,
   "outputs": [],
   "source": [
    "# inherit from the base status enum class and give your status\n",
    "# a human-readable name and a machine-readable integer\n",
    "# usually the closer to success, the bigger the integer is\n",
    "class StatusEnum(pm.patterns.status_tracker.BaseStatusEnum):\n",
    "    s00_todo = 0\n",
    "    s03_in_progress = 3\n",
    "    s06_failed = 6\n",
    "    s09_success = 9\n",
    "    s10_ignore = 10\n",
    "\n",
    "\n",
    "class Tracker(pm.patterns.status_tracker.BaseStatusTracker):\n",
    "    class Meta:\n",
    "        # define the table name\n",
    "        table_name = \"pynamodb-mate-example-status-tracker\"\n",
    "        # define the AWS region\n",
    "        region = \"us-east-1\"\n",
    "        # define the billing mode, pay-as-you-go or provisioned\n",
    "        billing_mode = pm.PAY_PER_REQUEST_BILLING_MODE\n",
    "\n",
    "    # define the index to enable query by status\n",
    "    # the index name doesn't matter\n",
    "    status_and_task_id_index = pm.patterns.status_tracker.StatusAndTaskIdIndex()\n",
    "\n",
    "    # one DynamoDB table can serve multiple jobs\n",
    "    # if you defined a default job id for the table\n",
    "    # you don't need to explicitly specify the job id in many API\n",
    "    # in this specific example, we only have one job called \"test-job\"\n",
    "    JOB_ID: str = \"test-job\"\n",
    "    # how many digits the max status code have, this ensures that the\n",
    "    # status can be used in comparison\n",
    "    STATUS_ZERO_PAD = 3\n",
    "    # how many retry is allowed before we ignore it\n",
    "    MAX_RETRY = 3\n",
    "    # how long the lock will expire\n",
    "    LOCK_EXPIRE_SECONDS = 900\n",
    "    # the default status code, means \"to do\", usually start from 0\n",
    "    DEFAULT_STATUS = StatusEnum.s00_todo.value\n",
    "    # the status enum class for this tracker\n",
    "    STATUS_ENUM = StatusEnum\n",
    "\n",
    "    def start_job(\n",
    "        self,\n",
    "        debug=True,\n",
    "    ) -> \"Tracker\":\n",
    "        \"\"\"\n",
    "        This is just an example of how to use :meth:`BaseStatusTracker.start`.\n",
    "\n",
    "        A job should always have four related status codes:\n",
    "\n",
    "        - in process status\n",
    "        - failed status\n",
    "        - success status\n",
    "        - ignore status\n",
    "\n",
    "        If you have multiple type of jobs, I recommend creating multiple\n",
    "        wrapper functions like this for each type of jobs. And ensure that\n",
    "        the \"ignore\" status value is the largest status value among all,\n",
    "        and use the same \"ignore\" status value for all type of jobs.\n",
    "        \"\"\"\n",
    "        return self.start(\n",
    "            in_process_status=StatusEnum.s03_in_progress.value,\n",
    "            failed_status=StatusEnum.s06_failed.value,\n",
    "            success_status=StatusEnum.s09_success.value,\n",
    "            ignore_status=StatusEnum.s10_ignore.value,\n",
    "            debug=debug,\n",
    "        )"
   ],
   "metadata": {
    "collapsed": false,
    "pycharm": {
     "name": "#%%\n"
    }
   }
  },
  {
   "cell_type": "code",
   "execution_count": 61,
   "outputs": [],
   "source": [
    "# Create the table if it doesn't exist\n",
    "Tracker.create_table(wait=True)"
   ],
   "metadata": {
    "collapsed": false,
    "pycharm": {
     "name": "#%%\n"
    }
   }
  },
  {
   "cell_type": "markdown",
   "source": [
    "## Initialize a Task\n",
    "\n",
    "The ``.new(task_id, data)`` method can be used to initialize an task and save to DynamoDB using the ``DEFAULT_STATUS``."
   ],
   "metadata": {
    "collapsed": false,
    "pycharm": {
     "name": "#%% md\n"
    }
   }
  },
  {
   "cell_type": "code",
   "execution_count": 62,
   "outputs": [
    {
     "data": {
      "text/plain": "\u001B[1m{\u001B[0m\n    \u001B[32m'data'\u001B[0m: \u001B[1m{\u001B[0m\u001B[32m'version'\u001B[0m: \u001B[1;36m1\u001B[0m\u001B[1m}\u001B[0m,\n    \u001B[32m'errors'\u001B[0m: \u001B[1m{\u001B[0m\u001B[1m}\u001B[0m,\n    \u001B[32m'lock_time'\u001B[0m: \u001B[1;35mdatetime.datetime\u001B[0m\u001B[1m(\u001B[0m\u001B[1;36m1970\u001B[0m, \u001B[1;36m1\u001B[0m, \u001B[1;36m1\u001B[0m, \u001B[1;36m0\u001B[0m, \u001B[1;36m0\u001B[0m, \u001B[33mtzinfo\u001B[0m=\u001B[35mdatetime\u001B[0m.timezone.utc\u001B[1m)\u001B[0m,\n    \u001B[32m'retry'\u001B[0m: \u001B[1;36m0\u001B[0m,\n    \u001B[32m'update_time'\u001B[0m: \u001B[1;35mdatetime.datetime\u001B[0m\u001B[1m(\u001B[0m\u001B[1;36m2023\u001B[0m, \u001B[1;36m1\u001B[0m, \u001B[1;36m2\u001B[0m, \u001B[1;36m16\u001B[0m, \u001B[1;36m23\u001B[0m, \u001B[1;36m9\u001B[0m, \u001B[1;36m528155\u001B[0m, \u001B[33mtzinfo\u001B[0m=\u001B[35mdatetime\u001B[0m.timezone.utc\u001B[1m)\u001B[0m,\n    \u001B[32m'key'\u001B[0m: \u001B[32m'test-job____t-1'\u001B[0m,\n    \u001B[32m'value'\u001B[0m: \u001B[32m'test-job____000'\u001B[0m\n\u001B[1m}\u001B[0m\n",
      "text/html": "<pre style=\"white-space:pre;overflow-x:auto;line-height:normal;font-family:Menlo,'DejaVu Sans Mono',consolas,'Courier New',monospace\"><span style=\"font-weight: bold\">{</span>\n    <span style=\"color: #008000; text-decoration-color: #008000\">'data'</span>: <span style=\"font-weight: bold\">{</span><span style=\"color: #008000; text-decoration-color: #008000\">'version'</span>: <span style=\"color: #008080; text-decoration-color: #008080; font-weight: bold\">1</span><span style=\"font-weight: bold\">}</span>,\n    <span style=\"color: #008000; text-decoration-color: #008000\">'errors'</span>: <span style=\"font-weight: bold\">{}</span>,\n    <span style=\"color: #008000; text-decoration-color: #008000\">'lock_time'</span>: <span style=\"color: #800080; text-decoration-color: #800080; font-weight: bold\">datetime.datetime</span><span style=\"font-weight: bold\">(</span><span style=\"color: #008080; text-decoration-color: #008080; font-weight: bold\">1970</span>, <span style=\"color: #008080; text-decoration-color: #008080; font-weight: bold\">1</span>, <span style=\"color: #008080; text-decoration-color: #008080; font-weight: bold\">1</span>, <span style=\"color: #008080; text-decoration-color: #008080; font-weight: bold\">0</span>, <span style=\"color: #008080; text-decoration-color: #008080; font-weight: bold\">0</span>, <span style=\"color: #808000; text-decoration-color: #808000\">tzinfo</span>=<span style=\"color: #800080; text-decoration-color: #800080\">datetime</span>.timezone.utc<span style=\"font-weight: bold\">)</span>,\n    <span style=\"color: #008000; text-decoration-color: #008000\">'retry'</span>: <span style=\"color: #008080; text-decoration-color: #008080; font-weight: bold\">0</span>,\n    <span style=\"color: #008000; text-decoration-color: #008000\">'update_time'</span>: <span style=\"color: #800080; text-decoration-color: #800080; font-weight: bold\">datetime.datetime</span><span style=\"font-weight: bold\">(</span><span style=\"color: #008080; text-decoration-color: #008080; font-weight: bold\">2023</span>, <span style=\"color: #008080; text-decoration-color: #008080; font-weight: bold\">1</span>, <span style=\"color: #008080; text-decoration-color: #008080; font-weight: bold\">2</span>, <span style=\"color: #008080; text-decoration-color: #008080; font-weight: bold\">16</span>, <span style=\"color: #008080; text-decoration-color: #008080; font-weight: bold\">23</span>, <span style=\"color: #008080; text-decoration-color: #008080; font-weight: bold\">9</span>, <span style=\"color: #008080; text-decoration-color: #008080; font-weight: bold\">528155</span>, <span style=\"color: #808000; text-decoration-color: #808000\">tzinfo</span>=<span style=\"color: #800080; text-decoration-color: #800080\">datetime</span>.timezone.utc<span style=\"font-weight: bold\">)</span>,\n    <span style=\"color: #008000; text-decoration-color: #008000\">'key'</span>: <span style=\"color: #008000; text-decoration-color: #008000\">'test-job____t-1'</span>,\n    <span style=\"color: #008000; text-decoration-color: #008000\">'value'</span>: <span style=\"color: #008000; text-decoration-color: #008000\">'test-job____000'</span>\n<span style=\"font-weight: bold\">}</span>\n</pre>\n"
     },
     "metadata": {},
     "output_type": "display_data"
    }
   ],
   "source": [
    "task_id = \"t-1\"\n",
    "\n",
    "# create a new task\n",
    "tracker = Tracker.new(task_id, data={\"version\": 1})\n",
    "rprint(tracker.to_dict())"
   ],
   "metadata": {
    "collapsed": false,
    "pycharm": {
     "name": "#%%\n"
    }
   }
  },
  {
   "cell_type": "markdown",
   "source": [
    "The ``.start(in_process_status, failed_status, success_status, ignore_status)`` method is a context manager that automatically update status at begin and the end, and lock the task to avoid concurrent access. We declared a ``.start_job()`` method to wrap the original ``.start(...)`` method to avoid entering too many arguments."
   ],
   "metadata": {
    "collapsed": false,
    "pycharm": {
     "name": "#%% md\n"
    }
   }
  },
  {
   "cell_type": "code",
   "execution_count": 63,
   "outputs": [
    {
     "name": "stdout",
     "output_type": "stream",
     "text": [
      "before the job started, the lock status is False\n",
      "------ ▶️ start task(job_id='test-job', task_id='t-1', status='s00_todo') ------\n",
      "🔓 set status 's03_in_progress' and lock the task.\n",
      "at begin, the status became 's03_in_progress'\n",
      "and you can see that the task is locked\n"
     ]
    },
    {
     "data": {
      "text/plain": "\u001B[1m{\u001B[0m\n    \u001B[32m'data'\u001B[0m: \u001B[1m{\u001B[0m\u001B[32m'version'\u001B[0m: \u001B[1;36m1\u001B[0m\u001B[1m}\u001B[0m,\n    \u001B[32m'errors'\u001B[0m: \u001B[1m{\u001B[0m\u001B[1m}\u001B[0m,\n    \u001B[32m'lock_time'\u001B[0m: \u001B[1;35mdatetime.datetime\u001B[0m\u001B[1m(\u001B[0m\u001B[1;36m2023\u001B[0m, \u001B[1;36m1\u001B[0m, \u001B[1;36m2\u001B[0m, \u001B[1;36m16\u001B[0m, \u001B[1;36m23\u001B[0m, \u001B[1;36m10\u001B[0m, \u001B[1;36m502927\u001B[0m, \u001B[33mtzinfo\u001B[0m=\u001B[35mdatetime\u001B[0m.timezone.utc\u001B[1m)\u001B[0m,\n    \u001B[32m'retry'\u001B[0m: \u001B[1;36m0\u001B[0m,\n    \u001B[32m'update_time'\u001B[0m: \u001B[1;35mdatetime.datetime\u001B[0m\u001B[1m(\u001B[0m\u001B[1;36m2023\u001B[0m, \u001B[1;36m1\u001B[0m, \u001B[1;36m2\u001B[0m, \u001B[1;36m16\u001B[0m, \u001B[1;36m23\u001B[0m, \u001B[1;36m10\u001B[0m, \u001B[1;36m502850\u001B[0m, \u001B[33mtzinfo\u001B[0m=\u001B[35mdatetime\u001B[0m.timezone.utc\u001B[1m)\u001B[0m,\n    \u001B[32m'key'\u001B[0m: \u001B[32m'test-job____t-1'\u001B[0m,\n    \u001B[32m'lock'\u001B[0m: \u001B[32m'8e7a5b632f3c4930bb497bc9cf36e5e8'\u001B[0m,\n    \u001B[32m'value'\u001B[0m: \u001B[32m'test-job____003'\u001B[0m\n\u001B[1m}\u001B[0m\n",
      "text/html": "<pre style=\"white-space:pre;overflow-x:auto;line-height:normal;font-family:Menlo,'DejaVu Sans Mono',consolas,'Courier New',monospace\"><span style=\"font-weight: bold\">{</span>\n    <span style=\"color: #008000; text-decoration-color: #008000\">'data'</span>: <span style=\"font-weight: bold\">{</span><span style=\"color: #008000; text-decoration-color: #008000\">'version'</span>: <span style=\"color: #008080; text-decoration-color: #008080; font-weight: bold\">1</span><span style=\"font-weight: bold\">}</span>,\n    <span style=\"color: #008000; text-decoration-color: #008000\">'errors'</span>: <span style=\"font-weight: bold\">{}</span>,\n    <span style=\"color: #008000; text-decoration-color: #008000\">'lock_time'</span>: <span style=\"color: #800080; text-decoration-color: #800080; font-weight: bold\">datetime.datetime</span><span style=\"font-weight: bold\">(</span><span style=\"color: #008080; text-decoration-color: #008080; font-weight: bold\">2023</span>, <span style=\"color: #008080; text-decoration-color: #008080; font-weight: bold\">1</span>, <span style=\"color: #008080; text-decoration-color: #008080; font-weight: bold\">2</span>, <span style=\"color: #008080; text-decoration-color: #008080; font-weight: bold\">16</span>, <span style=\"color: #008080; text-decoration-color: #008080; font-weight: bold\">23</span>, <span style=\"color: #008080; text-decoration-color: #008080; font-weight: bold\">10</span>, <span style=\"color: #008080; text-decoration-color: #008080; font-weight: bold\">502927</span>, <span style=\"color: #808000; text-decoration-color: #808000\">tzinfo</span>=<span style=\"color: #800080; text-decoration-color: #800080\">datetime</span>.timezone.utc<span style=\"font-weight: bold\">)</span>,\n    <span style=\"color: #008000; text-decoration-color: #008000\">'retry'</span>: <span style=\"color: #008080; text-decoration-color: #008080; font-weight: bold\">0</span>,\n    <span style=\"color: #008000; text-decoration-color: #008000\">'update_time'</span>: <span style=\"color: #800080; text-decoration-color: #800080; font-weight: bold\">datetime.datetime</span><span style=\"font-weight: bold\">(</span><span style=\"color: #008080; text-decoration-color: #008080; font-weight: bold\">2023</span>, <span style=\"color: #008080; text-decoration-color: #008080; font-weight: bold\">1</span>, <span style=\"color: #008080; text-decoration-color: #008080; font-weight: bold\">2</span>, <span style=\"color: #008080; text-decoration-color: #008080; font-weight: bold\">16</span>, <span style=\"color: #008080; text-decoration-color: #008080; font-weight: bold\">23</span>, <span style=\"color: #008080; text-decoration-color: #008080; font-weight: bold\">10</span>, <span style=\"color: #008080; text-decoration-color: #008080; font-weight: bold\">502850</span>, <span style=\"color: #808000; text-decoration-color: #808000\">tzinfo</span>=<span style=\"color: #800080; text-decoration-color: #800080\">datetime</span>.timezone.utc<span style=\"font-weight: bold\">)</span>,\n    <span style=\"color: #008000; text-decoration-color: #008000\">'key'</span>: <span style=\"color: #008000; text-decoration-color: #008000\">'test-job____t-1'</span>,\n    <span style=\"color: #008000; text-decoration-color: #008000\">'lock'</span>: <span style=\"color: #008000; text-decoration-color: #008000\">'8e7a5b632f3c4930bb497bc9cf36e5e8'</span>,\n    <span style=\"color: #008000; text-decoration-color: #008000\">'value'</span>: <span style=\"color: #008000; text-decoration-color: #008000\">'test-job____003'</span>\n<span style=\"font-weight: bold\">}</span>\n</pre>\n"
     },
     "metadata": {},
     "output_type": "display_data"
    },
    {
     "name": "stdout",
     "output_type": "stream",
     "text": [
      "✅ 🔐 task succeeded, set status 's03_in_progress' and unlock the task.\n",
      "----- ⏹️ end task(job_id='test-job', task_id='t-1', status='s09_success') ------\n",
      "at the end, the status became 's09_success'\n",
      "and the lock is released\n"
     ]
    },
    {
     "data": {
      "text/plain": "\u001B[1m{\u001B[0m\n    \u001B[32m'data'\u001B[0m: \u001B[1m{\u001B[0m\u001B[32m'version'\u001B[0m: \u001B[1;36m2\u001B[0m\u001B[1m}\u001B[0m,\n    \u001B[32m'errors'\u001B[0m: \u001B[1m{\u001B[0m\u001B[1m}\u001B[0m,\n    \u001B[32m'lock_time'\u001B[0m: \u001B[1;35mdatetime.datetime\u001B[0m\u001B[1m(\u001B[0m\u001B[1;36m2023\u001B[0m, \u001B[1;36m1\u001B[0m, \u001B[1;36m2\u001B[0m, \u001B[1;36m16\u001B[0m, \u001B[1;36m23\u001B[0m, \u001B[1;36m10\u001B[0m, \u001B[1;36m502927\u001B[0m, \u001B[33mtzinfo\u001B[0m=\u001B[35mdatetime\u001B[0m.timezone.utc\u001B[1m)\u001B[0m,\n    \u001B[32m'retry'\u001B[0m: \u001B[1;36m0\u001B[0m,\n    \u001B[32m'update_time'\u001B[0m: \u001B[1;35mdatetime.datetime\u001B[0m\u001B[1m(\u001B[0m\u001B[1;36m2023\u001B[0m, \u001B[1;36m1\u001B[0m, \u001B[1;36m2\u001B[0m, \u001B[1;36m16\u001B[0m, \u001B[1;36m23\u001B[0m, \u001B[1;36m10\u001B[0m, \u001B[1;36m525014\u001B[0m, \u001B[33mtzinfo\u001B[0m=\u001B[35mdatetime\u001B[0m.timezone.utc\u001B[1m)\u001B[0m,\n    \u001B[32m'key'\u001B[0m: \u001B[32m'test-job____t-1'\u001B[0m,\n    \u001B[32m'value'\u001B[0m: \u001B[32m'test-job____009'\u001B[0m\n\u001B[1m}\u001B[0m\n",
      "text/html": "<pre style=\"white-space:pre;overflow-x:auto;line-height:normal;font-family:Menlo,'DejaVu Sans Mono',consolas,'Courier New',monospace\"><span style=\"font-weight: bold\">{</span>\n    <span style=\"color: #008000; text-decoration-color: #008000\">'data'</span>: <span style=\"font-weight: bold\">{</span><span style=\"color: #008000; text-decoration-color: #008000\">'version'</span>: <span style=\"color: #008080; text-decoration-color: #008080; font-weight: bold\">2</span><span style=\"font-weight: bold\">}</span>,\n    <span style=\"color: #008000; text-decoration-color: #008000\">'errors'</span>: <span style=\"font-weight: bold\">{}</span>,\n    <span style=\"color: #008000; text-decoration-color: #008000\">'lock_time'</span>: <span style=\"color: #800080; text-decoration-color: #800080; font-weight: bold\">datetime.datetime</span><span style=\"font-weight: bold\">(</span><span style=\"color: #008080; text-decoration-color: #008080; font-weight: bold\">2023</span>, <span style=\"color: #008080; text-decoration-color: #008080; font-weight: bold\">1</span>, <span style=\"color: #008080; text-decoration-color: #008080; font-weight: bold\">2</span>, <span style=\"color: #008080; text-decoration-color: #008080; font-weight: bold\">16</span>, <span style=\"color: #008080; text-decoration-color: #008080; font-weight: bold\">23</span>, <span style=\"color: #008080; text-decoration-color: #008080; font-weight: bold\">10</span>, <span style=\"color: #008080; text-decoration-color: #008080; font-weight: bold\">502927</span>, <span style=\"color: #808000; text-decoration-color: #808000\">tzinfo</span>=<span style=\"color: #800080; text-decoration-color: #800080\">datetime</span>.timezone.utc<span style=\"font-weight: bold\">)</span>,\n    <span style=\"color: #008000; text-decoration-color: #008000\">'retry'</span>: <span style=\"color: #008080; text-decoration-color: #008080; font-weight: bold\">0</span>,\n    <span style=\"color: #008000; text-decoration-color: #008000\">'update_time'</span>: <span style=\"color: #800080; text-decoration-color: #800080; font-weight: bold\">datetime.datetime</span><span style=\"font-weight: bold\">(</span><span style=\"color: #008080; text-decoration-color: #008080; font-weight: bold\">2023</span>, <span style=\"color: #008080; text-decoration-color: #008080; font-weight: bold\">1</span>, <span style=\"color: #008080; text-decoration-color: #008080; font-weight: bold\">2</span>, <span style=\"color: #008080; text-decoration-color: #008080; font-weight: bold\">16</span>, <span style=\"color: #008080; text-decoration-color: #008080; font-weight: bold\">23</span>, <span style=\"color: #008080; text-decoration-color: #008080; font-weight: bold\">10</span>, <span style=\"color: #008080; text-decoration-color: #008080; font-weight: bold\">525014</span>, <span style=\"color: #808000; text-decoration-color: #808000\">tzinfo</span>=<span style=\"color: #800080; text-decoration-color: #800080\">datetime</span>.timezone.utc<span style=\"font-weight: bold\">)</span>,\n    <span style=\"color: #008000; text-decoration-color: #008000\">'key'</span>: <span style=\"color: #008000; text-decoration-color: #008000\">'test-job____t-1'</span>,\n    <span style=\"color: #008000; text-decoration-color: #008000\">'value'</span>: <span style=\"color: #008000; text-decoration-color: #008000\">'test-job____009'</span>\n<span style=\"font-weight: bold\">}</span>\n</pre>\n"
     },
     "metadata": {},
     "output_type": "display_data"
    }
   ],
   "source": [
    "print(f\"before the job started, the lock status is {tracker.is_locked()}\")\n",
    "\n",
    "# start the job, it will succeed\n",
    "with tracker.start_job(debug=True):\n",
    "    print(f\"at begin, the status became {tracker.status_name!r}\")\n",
    "    print(\"and you can see that the task is locked\")\n",
    "    rprint(tracker.to_dict())\n",
    "\n",
    "    # do some work\n",
    "    tracker.set_data({\"version\": 2})\n",
    "\n",
    "print(f\"at the end, the status became {tracker.status_name!r}\")\n",
    "print(\"and the lock is released\")\n",
    "rprint(tracker.to_dict())"
   ],
   "metadata": {
    "collapsed": false,
    "pycharm": {
     "name": "#%%\n"
    }
   }
  },
  {
   "cell_type": "markdown",
   "source": [
    "## Error Handling\n",
    "\n",
    "Let's reset the task and do it one more time, this time the job logic will fail.\n",
    "\n",
    "- before the task started, the status is still ``s00_todo``\n",
    "- at begin of the task, the status became ``s03_in_progress``\n",
    "- at the end of the task, the status become ``s06_failed``\n",
    "- the task data remains unchanged and the error is logged."
   ],
   "metadata": {
    "collapsed": false,
    "pycharm": {
     "name": "#%% md\n"
    }
   }
  },
  {
   "cell_type": "code",
   "execution_count": 64,
   "outputs": [
    {
     "name": "stdout",
     "output_type": "stream",
     "text": [
      "------ ▶️ start task(job_id='test-job', task_id='t-1', status='s00_todo') ------\n",
      "🔓 set status 's03_in_progress' and lock the task.\n",
      "at begin, the status became 's03_in_progress'\n"
     ]
    },
    {
     "data": {
      "text/plain": "\u001B[1m{\u001B[0m\n    \u001B[32m'data'\u001B[0m: \u001B[1m{\u001B[0m\u001B[32m'version'\u001B[0m: \u001B[1;36m1\u001B[0m\u001B[1m}\u001B[0m,\n    \u001B[32m'errors'\u001B[0m: \u001B[1m{\u001B[0m\u001B[1m}\u001B[0m,\n    \u001B[32m'lock_time'\u001B[0m: \u001B[1;35mdatetime.datetime\u001B[0m\u001B[1m(\u001B[0m\u001B[1;36m2023\u001B[0m, \u001B[1;36m1\u001B[0m, \u001B[1;36m2\u001B[0m, \u001B[1;36m16\u001B[0m, \u001B[1;36m23\u001B[0m, \u001B[1;36m34\u001B[0m, \u001B[1;36m858572\u001B[0m, \u001B[33mtzinfo\u001B[0m=\u001B[35mdatetime\u001B[0m.timezone.utc\u001B[1m)\u001B[0m,\n    \u001B[32m'retry'\u001B[0m: \u001B[1;36m0\u001B[0m,\n    \u001B[32m'update_time'\u001B[0m: \u001B[1;35mdatetime.datetime\u001B[0m\u001B[1m(\u001B[0m\u001B[1;36m2023\u001B[0m, \u001B[1;36m1\u001B[0m, \u001B[1;36m2\u001B[0m, \u001B[1;36m16\u001B[0m, \u001B[1;36m23\u001B[0m, \u001B[1;36m34\u001B[0m, \u001B[1;36m858429\u001B[0m, \u001B[33mtzinfo\u001B[0m=\u001B[35mdatetime\u001B[0m.timezone.utc\u001B[1m)\u001B[0m,\n    \u001B[32m'key'\u001B[0m: \u001B[32m'test-job____t-1'\u001B[0m,\n    \u001B[32m'lock'\u001B[0m: \u001B[32m'bc6fdd293b474baebe21360d04c077c6'\u001B[0m,\n    \u001B[32m'value'\u001B[0m: \u001B[32m'test-job____003'\u001B[0m\n\u001B[1m}\u001B[0m\n",
      "text/html": "<pre style=\"white-space:pre;overflow-x:auto;line-height:normal;font-family:Menlo,'DejaVu Sans Mono',consolas,'Courier New',monospace\"><span style=\"font-weight: bold\">{</span>\n    <span style=\"color: #008000; text-decoration-color: #008000\">'data'</span>: <span style=\"font-weight: bold\">{</span><span style=\"color: #008000; text-decoration-color: #008000\">'version'</span>: <span style=\"color: #008080; text-decoration-color: #008080; font-weight: bold\">1</span><span style=\"font-weight: bold\">}</span>,\n    <span style=\"color: #008000; text-decoration-color: #008000\">'errors'</span>: <span style=\"font-weight: bold\">{}</span>,\n    <span style=\"color: #008000; text-decoration-color: #008000\">'lock_time'</span>: <span style=\"color: #800080; text-decoration-color: #800080; font-weight: bold\">datetime.datetime</span><span style=\"font-weight: bold\">(</span><span style=\"color: #008080; text-decoration-color: #008080; font-weight: bold\">2023</span>, <span style=\"color: #008080; text-decoration-color: #008080; font-weight: bold\">1</span>, <span style=\"color: #008080; text-decoration-color: #008080; font-weight: bold\">2</span>, <span style=\"color: #008080; text-decoration-color: #008080; font-weight: bold\">16</span>, <span style=\"color: #008080; text-decoration-color: #008080; font-weight: bold\">23</span>, <span style=\"color: #008080; text-decoration-color: #008080; font-weight: bold\">34</span>, <span style=\"color: #008080; text-decoration-color: #008080; font-weight: bold\">858572</span>, <span style=\"color: #808000; text-decoration-color: #808000\">tzinfo</span>=<span style=\"color: #800080; text-decoration-color: #800080\">datetime</span>.timezone.utc<span style=\"font-weight: bold\">)</span>,\n    <span style=\"color: #008000; text-decoration-color: #008000\">'retry'</span>: <span style=\"color: #008080; text-decoration-color: #008080; font-weight: bold\">0</span>,\n    <span style=\"color: #008000; text-decoration-color: #008000\">'update_time'</span>: <span style=\"color: #800080; text-decoration-color: #800080; font-weight: bold\">datetime.datetime</span><span style=\"font-weight: bold\">(</span><span style=\"color: #008080; text-decoration-color: #008080; font-weight: bold\">2023</span>, <span style=\"color: #008080; text-decoration-color: #008080; font-weight: bold\">1</span>, <span style=\"color: #008080; text-decoration-color: #008080; font-weight: bold\">2</span>, <span style=\"color: #008080; text-decoration-color: #008080; font-weight: bold\">16</span>, <span style=\"color: #008080; text-decoration-color: #008080; font-weight: bold\">23</span>, <span style=\"color: #008080; text-decoration-color: #008080; font-weight: bold\">34</span>, <span style=\"color: #008080; text-decoration-color: #008080; font-weight: bold\">858429</span>, <span style=\"color: #808000; text-decoration-color: #808000\">tzinfo</span>=<span style=\"color: #800080; text-decoration-color: #800080\">datetime</span>.timezone.utc<span style=\"font-weight: bold\">)</span>,\n    <span style=\"color: #008000; text-decoration-color: #008000\">'key'</span>: <span style=\"color: #008000; text-decoration-color: #008000\">'test-job____t-1'</span>,\n    <span style=\"color: #008000; text-decoration-color: #008000\">'lock'</span>: <span style=\"color: #008000; text-decoration-color: #008000\">'bc6fdd293b474baebe21360d04c077c6'</span>,\n    <span style=\"color: #008000; text-decoration-color: #008000\">'value'</span>: <span style=\"color: #008000; text-decoration-color: #008000\">'test-job____003'</span>\n<span style=\"font-weight: bold\">}</span>\n</pre>\n"
     },
     "metadata": {},
     "output_type": "display_data"
    },
    {
     "name": "stdout",
     "output_type": "stream",
     "text": [
      "❌ 🔐 task failed, set stats 's06_failed' and unlock the task.\n",
      "------ ⏹️ end task(job_id='test-job', task_id='t-1', status='s06_failed') ------\n"
     ]
    },
    {
     "ename": "ValueError",
     "evalue": "something went wrong",
     "output_type": "error",
     "traceback": [
      "\u001B[0;31m---------------------------------------------------------------------------\u001B[0m",
      "\u001B[0;31mValueError\u001B[0m                                Traceback (most recent call last)",
      "Cell \u001B[0;32mIn[64], line 9\u001B[0m\n\u001B[1;32m      6\u001B[0m rprint(tracker\u001B[38;5;241m.\u001B[39mto_dict())\n\u001B[1;32m      8\u001B[0m \u001B[38;5;66;03m# do some work\u001B[39;00m\n\u001B[0;32m----> 9\u001B[0m \u001B[38;5;28;01mraise\u001B[39;00m \u001B[38;5;167;01mValueError\u001B[39;00m(\u001B[38;5;124m\"\u001B[39m\u001B[38;5;124msomething went wrong\u001B[39m\u001B[38;5;124m\"\u001B[39m)\n\u001B[1;32m     10\u001B[0m tracker\u001B[38;5;241m.\u001B[39mset_data({\u001B[38;5;124m\"\u001B[39m\u001B[38;5;124mversion\u001B[39m\u001B[38;5;124m\"\u001B[39m: \u001B[38;5;241m2\u001B[39m})\n",
      "\u001B[0;31mValueError\u001B[0m: something went wrong"
     ]
    }
   ],
   "source": [
    "tracker = Tracker.new(task_id, data={\"version\": 1})\n",
    "\n",
    "# start the job, it will succeed\n",
    "with tracker.start_job(debug=True):\n",
    "    print(f\"at begin, the status became {tracker.status_name!r}\")\n",
    "    rprint(tracker.to_dict())\n",
    "\n",
    "    # do some work\n",
    "    raise ValueError(\"something went wrong\")\n",
    "    tracker.set_data({\"version\": 2})"
   ],
   "metadata": {
    "collapsed": false,
    "pycharm": {
     "name": "#%%\n"
    }
   }
  },
  {
   "cell_type": "code",
   "execution_count": 65,
   "outputs": [
    {
     "name": "stdout",
     "output_type": "stream",
     "text": [
      "at the end, the status became 's06_failed'\n",
      "and the error is logged\n"
     ]
    },
    {
     "data": {
      "text/plain": "\u001B[1m{\u001B[0m\n    \u001B[32m'data'\u001B[0m: \u001B[1m{\u001B[0m\u001B[32m'version'\u001B[0m: \u001B[1;36m1\u001B[0m\u001B[1m}\u001B[0m,\n    \u001B[32m'errors'\u001B[0m: \u001B[1m{\u001B[0m\n        \u001B[32m'error'\u001B[0m: \u001B[32m\"ValueError\u001B[0m\u001B[32m(\u001B[0m\u001B[32m'something went wrong'\u001B[0m\u001B[32m)\u001B[0m\u001B[32m\"\u001B[0m,\n        \u001B[32m'traceback'\u001B[0m: \u001B[32m'Traceback \u001B[0m\u001B[32m(\u001B[0m\u001B[32mmost recent call last\u001B[0m\u001B[32m)\u001B[0m\u001B[32m:\\n  File \u001B[0m\n\u001B[32m\"/Users/sanhehu/Documents/GitHub/pynamodb_mate-project/pynamodb_mate/patterns/status_tracker/impl.py\", line 638, in\u001B[0m\n\u001B[32mstart\\n    try:\\n  File \"/var/folders/bb/vd34dgxj361gcbkgvmk8_8cw0000gs/T/ipykernel_42365/3315338095.py\", line 9, \u001B[0m\n\u001B[32min \u001B[0m\u001B[32m<\u001B[0m\u001B[32mmodule\u001B[0m\u001B[32m>\u001B[0m\u001B[32m\\n    raise ValueError\u001B[0m\u001B[32m(\u001B[0m\u001B[32m\"something went wrong\"\u001B[0m\u001B[32m)\u001B[0m\u001B[32m\\nValueError: something went wrong\\n'\u001B[0m\n    \u001B[1m}\u001B[0m,\n    \u001B[32m'lock_time'\u001B[0m: \u001B[1;35mdatetime.datetime\u001B[0m\u001B[1m(\u001B[0m\u001B[1;36m2023\u001B[0m, \u001B[1;36m1\u001B[0m, \u001B[1;36m2\u001B[0m, \u001B[1;36m16\u001B[0m, \u001B[1;36m23\u001B[0m, \u001B[1;36m34\u001B[0m, \u001B[1;36m858572\u001B[0m, \u001B[33mtzinfo\u001B[0m=\u001B[35mdatetime\u001B[0m.timezone.utc\u001B[1m)\u001B[0m,\n    \u001B[32m'retry'\u001B[0m: \u001B[1;36m1\u001B[0m,\n    \u001B[32m'update_time'\u001B[0m: \u001B[1;35mdatetime.datetime\u001B[0m\u001B[1m(\u001B[0m\u001B[1;36m2023\u001B[0m, \u001B[1;36m1\u001B[0m, \u001B[1;36m2\u001B[0m, \u001B[1;36m16\u001B[0m, \u001B[1;36m23\u001B[0m, \u001B[1;36m34\u001B[0m, \u001B[1;36m905888\u001B[0m, \u001B[33mtzinfo\u001B[0m=\u001B[35mdatetime\u001B[0m.timezone.utc\u001B[1m)\u001B[0m,\n    \u001B[32m'key'\u001B[0m: \u001B[32m'test-job____t-1'\u001B[0m,\n    \u001B[32m'value'\u001B[0m: \u001B[32m'test-job____006'\u001B[0m\n\u001B[1m}\u001B[0m\n",
      "text/html": "<pre style=\"white-space:pre;overflow-x:auto;line-height:normal;font-family:Menlo,'DejaVu Sans Mono',consolas,'Courier New',monospace\"><span style=\"font-weight: bold\">{</span>\n    <span style=\"color: #008000; text-decoration-color: #008000\">'data'</span>: <span style=\"font-weight: bold\">{</span><span style=\"color: #008000; text-decoration-color: #008000\">'version'</span>: <span style=\"color: #008080; text-decoration-color: #008080; font-weight: bold\">1</span><span style=\"font-weight: bold\">}</span>,\n    <span style=\"color: #008000; text-decoration-color: #008000\">'errors'</span>: <span style=\"font-weight: bold\">{</span>\n        <span style=\"color: #008000; text-decoration-color: #008000\">'error'</span>: <span style=\"color: #008000; text-decoration-color: #008000\">\"ValueError('something went wrong')\"</span>,\n        <span style=\"color: #008000; text-decoration-color: #008000\">'traceback'</span>: <span style=\"color: #008000; text-decoration-color: #008000\">'Traceback (most recent call last):\\n  File </span>\n<span style=\"color: #008000; text-decoration-color: #008000\">\"/Users/sanhehu/Documents/GitHub/pynamodb_mate-project/pynamodb_mate/patterns/status_tracker/impl.py\", line 638, in</span>\n<span style=\"color: #008000; text-decoration-color: #008000\">start\\n    try:\\n  File \"/var/folders/bb/vd34dgxj361gcbkgvmk8_8cw0000gs/T/ipykernel_42365/3315338095.py\", line 9, </span>\n<span style=\"color: #008000; text-decoration-color: #008000\">in &lt;module&gt;\\n    raise ValueError(\"something went wrong\")\\nValueError: something went wrong\\n'</span>\n    <span style=\"font-weight: bold\">}</span>,\n    <span style=\"color: #008000; text-decoration-color: #008000\">'lock_time'</span>: <span style=\"color: #800080; text-decoration-color: #800080; font-weight: bold\">datetime.datetime</span><span style=\"font-weight: bold\">(</span><span style=\"color: #008080; text-decoration-color: #008080; font-weight: bold\">2023</span>, <span style=\"color: #008080; text-decoration-color: #008080; font-weight: bold\">1</span>, <span style=\"color: #008080; text-decoration-color: #008080; font-weight: bold\">2</span>, <span style=\"color: #008080; text-decoration-color: #008080; font-weight: bold\">16</span>, <span style=\"color: #008080; text-decoration-color: #008080; font-weight: bold\">23</span>, <span style=\"color: #008080; text-decoration-color: #008080; font-weight: bold\">34</span>, <span style=\"color: #008080; text-decoration-color: #008080; font-weight: bold\">858572</span>, <span style=\"color: #808000; text-decoration-color: #808000\">tzinfo</span>=<span style=\"color: #800080; text-decoration-color: #800080\">datetime</span>.timezone.utc<span style=\"font-weight: bold\">)</span>,\n    <span style=\"color: #008000; text-decoration-color: #008000\">'retry'</span>: <span style=\"color: #008080; text-decoration-color: #008080; font-weight: bold\">1</span>,\n    <span style=\"color: #008000; text-decoration-color: #008000\">'update_time'</span>: <span style=\"color: #800080; text-decoration-color: #800080; font-weight: bold\">datetime.datetime</span><span style=\"font-weight: bold\">(</span><span style=\"color: #008080; text-decoration-color: #008080; font-weight: bold\">2023</span>, <span style=\"color: #008080; text-decoration-color: #008080; font-weight: bold\">1</span>, <span style=\"color: #008080; text-decoration-color: #008080; font-weight: bold\">2</span>, <span style=\"color: #008080; text-decoration-color: #008080; font-weight: bold\">16</span>, <span style=\"color: #008080; text-decoration-color: #008080; font-weight: bold\">23</span>, <span style=\"color: #008080; text-decoration-color: #008080; font-weight: bold\">34</span>, <span style=\"color: #008080; text-decoration-color: #008080; font-weight: bold\">905888</span>, <span style=\"color: #808000; text-decoration-color: #808000\">tzinfo</span>=<span style=\"color: #800080; text-decoration-color: #800080\">datetime</span>.timezone.utc<span style=\"font-weight: bold\">)</span>,\n    <span style=\"color: #008000; text-decoration-color: #008000\">'key'</span>: <span style=\"color: #008000; text-decoration-color: #008000\">'test-job____t-1'</span>,\n    <span style=\"color: #008000; text-decoration-color: #008000\">'value'</span>: <span style=\"color: #008000; text-decoration-color: #008000\">'test-job____006'</span>\n<span style=\"font-weight: bold\">}</span>\n</pre>\n"
     },
     "metadata": {},
     "output_type": "display_data"
    }
   ],
   "source": [
    "print(f\"at the end, the status became {tracker.status_name!r}\")\n",
    "print(\"and the error is logged\")\n",
    "rprint(tracker.to_dict())"
   ],
   "metadata": {
    "collapsed": false,
    "pycharm": {
     "name": "#%%\n"
    }
   }
  },
  {
   "cell_type": "markdown",
   "source": [
    "## Ignore Task if Failed Too Many Times\n",
    "\n",
    "You don't want a task that logically can never succeed to fail into a endless loop. In this example, we defined the max retry times is 3. If it failed 3 times in a row, it will be ignored. And if you want to start a task that is ignored, you will see an ``TaskIgnoredError``"
   ],
   "metadata": {
    "collapsed": false,
    "pycharm": {
     "name": "#%% md\n"
    }
   }
  },
  {
   "cell_type": "code",
   "execution_count": 66,
   "outputs": [
    {
     "name": "stdout",
     "output_type": "stream",
     "text": [
      "at the 0th attempt, the task is:\n"
     ]
    },
    {
     "data": {
      "text/plain": "\u001B[1m{\u001B[0m\n    \u001B[32m'data'\u001B[0m: \u001B[1m{\u001B[0m\u001B[1m}\u001B[0m,\n    \u001B[32m'errors'\u001B[0m: \u001B[1m{\u001B[0m\u001B[1m}\u001B[0m,\n    \u001B[32m'lock_time'\u001B[0m: \u001B[1;35mdatetime.datetime\u001B[0m\u001B[1m(\u001B[0m\u001B[1;36m1970\u001B[0m, \u001B[1;36m1\u001B[0m, \u001B[1;36m1\u001B[0m, \u001B[1;36m0\u001B[0m, \u001B[1;36m0\u001B[0m, \u001B[33mtzinfo\u001B[0m=\u001B[35mdatetime\u001B[0m.timezone.utc\u001B[1m)\u001B[0m,\n    \u001B[32m'retry'\u001B[0m: \u001B[1;36m0\u001B[0m,\n    \u001B[32m'update_time'\u001B[0m: \u001B[1;35mdatetime.datetime\u001B[0m\u001B[1m(\u001B[0m\u001B[1;36m2023\u001B[0m, \u001B[1;36m1\u001B[0m, \u001B[1;36m2\u001B[0m, \u001B[1;36m16\u001B[0m, \u001B[1;36m24\u001B[0m, \u001B[1;36m9\u001B[0m, \u001B[1;36m436592\u001B[0m, \u001B[33mtzinfo\u001B[0m=\u001B[35mdatetime\u001B[0m.timezone.utc\u001B[1m)\u001B[0m,\n    \u001B[32m'key'\u001B[0m: \u001B[32m'test-job____t-1'\u001B[0m,\n    \u001B[32m'value'\u001B[0m: \u001B[32m'test-job____000'\u001B[0m\n\u001B[1m}\u001B[0m\n",
      "text/html": "<pre style=\"white-space:pre;overflow-x:auto;line-height:normal;font-family:Menlo,'DejaVu Sans Mono',consolas,'Courier New',monospace\"><span style=\"font-weight: bold\">{</span>\n    <span style=\"color: #008000; text-decoration-color: #008000\">'data'</span>: <span style=\"font-weight: bold\">{}</span>,\n    <span style=\"color: #008000; text-decoration-color: #008000\">'errors'</span>: <span style=\"font-weight: bold\">{}</span>,\n    <span style=\"color: #008000; text-decoration-color: #008000\">'lock_time'</span>: <span style=\"color: #800080; text-decoration-color: #800080; font-weight: bold\">datetime.datetime</span><span style=\"font-weight: bold\">(</span><span style=\"color: #008080; text-decoration-color: #008080; font-weight: bold\">1970</span>, <span style=\"color: #008080; text-decoration-color: #008080; font-weight: bold\">1</span>, <span style=\"color: #008080; text-decoration-color: #008080; font-weight: bold\">1</span>, <span style=\"color: #008080; text-decoration-color: #008080; font-weight: bold\">0</span>, <span style=\"color: #008080; text-decoration-color: #008080; font-weight: bold\">0</span>, <span style=\"color: #808000; text-decoration-color: #808000\">tzinfo</span>=<span style=\"color: #800080; text-decoration-color: #800080\">datetime</span>.timezone.utc<span style=\"font-weight: bold\">)</span>,\n    <span style=\"color: #008000; text-decoration-color: #008000\">'retry'</span>: <span style=\"color: #008080; text-decoration-color: #008080; font-weight: bold\">0</span>,\n    <span style=\"color: #008000; text-decoration-color: #008000\">'update_time'</span>: <span style=\"color: #800080; text-decoration-color: #800080; font-weight: bold\">datetime.datetime</span><span style=\"font-weight: bold\">(</span><span style=\"color: #008080; text-decoration-color: #008080; font-weight: bold\">2023</span>, <span style=\"color: #008080; text-decoration-color: #008080; font-weight: bold\">1</span>, <span style=\"color: #008080; text-decoration-color: #008080; font-weight: bold\">2</span>, <span style=\"color: #008080; text-decoration-color: #008080; font-weight: bold\">16</span>, <span style=\"color: #008080; text-decoration-color: #008080; font-weight: bold\">24</span>, <span style=\"color: #008080; text-decoration-color: #008080; font-weight: bold\">9</span>, <span style=\"color: #008080; text-decoration-color: #008080; font-weight: bold\">436592</span>, <span style=\"color: #808000; text-decoration-color: #808000\">tzinfo</span>=<span style=\"color: #800080; text-decoration-color: #800080\">datetime</span>.timezone.utc<span style=\"font-weight: bold\">)</span>,\n    <span style=\"color: #008000; text-decoration-color: #008000\">'key'</span>: <span style=\"color: #008000; text-decoration-color: #008000\">'test-job____t-1'</span>,\n    <span style=\"color: #008000; text-decoration-color: #008000\">'value'</span>: <span style=\"color: #008000; text-decoration-color: #008000\">'test-job____000'</span>\n<span style=\"font-weight: bold\">}</span>\n</pre>\n"
     },
     "metadata": {},
     "output_type": "display_data"
    }
   ],
   "source": [
    "# reset the task\n",
    "tracker = Tracker.new(task_id)\n",
    "\n",
    "print(\"at the 0th attempt, the task is:\")\n",
    "rprint(tracker.to_dict())"
   ],
   "metadata": {
    "collapsed": false,
    "pycharm": {
     "name": "#%%\n"
    }
   }
  },
  {
   "cell_type": "code",
   "execution_count": 67,
   "outputs": [
    {
     "name": "stdout",
     "output_type": "stream",
     "text": [
      "------ ▶️ start task(job_id='test-job', task_id='t-1', status='s00_todo') ------\n",
      "🔓 set status 's03_in_progress' and lock the task.\n",
      "❌ 🔐 task failed, set stats 's06_failed' and unlock the task.\n",
      "------ ⏹️ end task(job_id='test-job', task_id='t-1', status='s06_failed') ------\n"
     ]
    },
    {
     "ename": "Exception",
     "evalue": "",
     "output_type": "error",
     "traceback": [
      "\u001B[0;31m---------------------------------------------------------------------------\u001B[0m",
      "\u001B[0;31mException\u001B[0m                                 Traceback (most recent call last)",
      "Cell \u001B[0;32mIn[67], line 2\u001B[0m\n\u001B[1;32m      1\u001B[0m \u001B[38;5;28;01mwith\u001B[39;00m tracker\u001B[38;5;241m.\u001B[39mstart_job():\n\u001B[0;32m----> 2\u001B[0m     \u001B[38;5;28;01mraise\u001B[39;00m \u001B[38;5;167;01mException\u001B[39;00m\n",
      "\u001B[0;31mException\u001B[0m: "
     ]
    }
   ],
   "source": [
    "with tracker.start_job():\n",
    "    raise Exception"
   ],
   "metadata": {
    "collapsed": false,
    "pycharm": {
     "name": "#%%\n"
    }
   }
  },
  {
   "cell_type": "code",
   "execution_count": 68,
   "outputs": [
    {
     "name": "stdout",
     "output_type": "stream",
     "text": [
      "at the 1th attempt, the task is:\n",
      "status = s06_failed\n"
     ]
    },
    {
     "data": {
      "text/plain": "\u001B[1m{\u001B[0m\n    \u001B[32m'data'\u001B[0m: \u001B[1m{\u001B[0m\u001B[1m}\u001B[0m,\n    \u001B[32m'errors'\u001B[0m: \u001B[1m{\u001B[0m\n        \u001B[32m'error'\u001B[0m: \u001B[32m'Exception\u001B[0m\u001B[32m(\u001B[0m\u001B[32m)\u001B[0m\u001B[32m'\u001B[0m,\n        \u001B[32m'traceback'\u001B[0m: \u001B[32m'Traceback \u001B[0m\u001B[32m(\u001B[0m\u001B[32mmost recent call last\u001B[0m\u001B[32m)\u001B[0m\u001B[32m:\\n  File \u001B[0m\n\u001B[32m\"/Users/sanhehu/Documents/GitHub/pynamodb_mate-project/pynamodb_mate/patterns/status_tracker/impl.py\", line 638, in\u001B[0m\n\u001B[32mstart\\n    try:\\n  File \"/var/folders/bb/vd34dgxj361gcbkgvmk8_8cw0000gs/T/ipykernel_42365/3027452948.py\", line 2, \u001B[0m\n\u001B[32min \u001B[0m\u001B[32m<\u001B[0m\u001B[32mmodule\u001B[0m\u001B[32m>\u001B[0m\u001B[32m\\n    raise Exception\\nException\\n'\u001B[0m\n    \u001B[1m}\u001B[0m,\n    \u001B[32m'lock_time'\u001B[0m: \u001B[1;35mdatetime.datetime\u001B[0m\u001B[1m(\u001B[0m\u001B[1;36m2023\u001B[0m, \u001B[1;36m1\u001B[0m, \u001B[1;36m2\u001B[0m, \u001B[1;36m16\u001B[0m, \u001B[1;36m24\u001B[0m, \u001B[1;36m10\u001B[0m, \u001B[1;36m149582\u001B[0m, \u001B[33mtzinfo\u001B[0m=\u001B[35mdatetime\u001B[0m.timezone.utc\u001B[1m)\u001B[0m,\n    \u001B[32m'retry'\u001B[0m: \u001B[1;36m1\u001B[0m,\n    \u001B[32m'update_time'\u001B[0m: \u001B[1;35mdatetime.datetime\u001B[0m\u001B[1m(\u001B[0m\u001B[1;36m2023\u001B[0m, \u001B[1;36m1\u001B[0m, \u001B[1;36m2\u001B[0m, \u001B[1;36m16\u001B[0m, \u001B[1;36m24\u001B[0m, \u001B[1;36m10\u001B[0m, \u001B[1;36m171897\u001B[0m, \u001B[33mtzinfo\u001B[0m=\u001B[35mdatetime\u001B[0m.timezone.utc\u001B[1m)\u001B[0m,\n    \u001B[32m'key'\u001B[0m: \u001B[32m'test-job____t-1'\u001B[0m,\n    \u001B[32m'value'\u001B[0m: \u001B[32m'test-job____006'\u001B[0m\n\u001B[1m}\u001B[0m\n",
      "text/html": "<pre style=\"white-space:pre;overflow-x:auto;line-height:normal;font-family:Menlo,'DejaVu Sans Mono',consolas,'Courier New',monospace\"><span style=\"font-weight: bold\">{</span>\n    <span style=\"color: #008000; text-decoration-color: #008000\">'data'</span>: <span style=\"font-weight: bold\">{}</span>,\n    <span style=\"color: #008000; text-decoration-color: #008000\">'errors'</span>: <span style=\"font-weight: bold\">{</span>\n        <span style=\"color: #008000; text-decoration-color: #008000\">'error'</span>: <span style=\"color: #008000; text-decoration-color: #008000\">'Exception()'</span>,\n        <span style=\"color: #008000; text-decoration-color: #008000\">'traceback'</span>: <span style=\"color: #008000; text-decoration-color: #008000\">'Traceback (most recent call last):\\n  File </span>\n<span style=\"color: #008000; text-decoration-color: #008000\">\"/Users/sanhehu/Documents/GitHub/pynamodb_mate-project/pynamodb_mate/patterns/status_tracker/impl.py\", line 638, in</span>\n<span style=\"color: #008000; text-decoration-color: #008000\">start\\n    try:\\n  File \"/var/folders/bb/vd34dgxj361gcbkgvmk8_8cw0000gs/T/ipykernel_42365/3027452948.py\", line 2, </span>\n<span style=\"color: #008000; text-decoration-color: #008000\">in &lt;module&gt;\\n    raise Exception\\nException\\n'</span>\n    <span style=\"font-weight: bold\">}</span>,\n    <span style=\"color: #008000; text-decoration-color: #008000\">'lock_time'</span>: <span style=\"color: #800080; text-decoration-color: #800080; font-weight: bold\">datetime.datetime</span><span style=\"font-weight: bold\">(</span><span style=\"color: #008080; text-decoration-color: #008080; font-weight: bold\">2023</span>, <span style=\"color: #008080; text-decoration-color: #008080; font-weight: bold\">1</span>, <span style=\"color: #008080; text-decoration-color: #008080; font-weight: bold\">2</span>, <span style=\"color: #008080; text-decoration-color: #008080; font-weight: bold\">16</span>, <span style=\"color: #008080; text-decoration-color: #008080; font-weight: bold\">24</span>, <span style=\"color: #008080; text-decoration-color: #008080; font-weight: bold\">10</span>, <span style=\"color: #008080; text-decoration-color: #008080; font-weight: bold\">149582</span>, <span style=\"color: #808000; text-decoration-color: #808000\">tzinfo</span>=<span style=\"color: #800080; text-decoration-color: #800080\">datetime</span>.timezone.utc<span style=\"font-weight: bold\">)</span>,\n    <span style=\"color: #008000; text-decoration-color: #008000\">'retry'</span>: <span style=\"color: #008080; text-decoration-color: #008080; font-weight: bold\">1</span>,\n    <span style=\"color: #008000; text-decoration-color: #008000\">'update_time'</span>: <span style=\"color: #800080; text-decoration-color: #800080; font-weight: bold\">datetime.datetime</span><span style=\"font-weight: bold\">(</span><span style=\"color: #008080; text-decoration-color: #008080; font-weight: bold\">2023</span>, <span style=\"color: #008080; text-decoration-color: #008080; font-weight: bold\">1</span>, <span style=\"color: #008080; text-decoration-color: #008080; font-weight: bold\">2</span>, <span style=\"color: #008080; text-decoration-color: #008080; font-weight: bold\">16</span>, <span style=\"color: #008080; text-decoration-color: #008080; font-weight: bold\">24</span>, <span style=\"color: #008080; text-decoration-color: #008080; font-weight: bold\">10</span>, <span style=\"color: #008080; text-decoration-color: #008080; font-weight: bold\">171897</span>, <span style=\"color: #808000; text-decoration-color: #808000\">tzinfo</span>=<span style=\"color: #800080; text-decoration-color: #800080\">datetime</span>.timezone.utc<span style=\"font-weight: bold\">)</span>,\n    <span style=\"color: #008000; text-decoration-color: #008000\">'key'</span>: <span style=\"color: #008000; text-decoration-color: #008000\">'test-job____t-1'</span>,\n    <span style=\"color: #008000; text-decoration-color: #008000\">'value'</span>: <span style=\"color: #008000; text-decoration-color: #008000\">'test-job____006'</span>\n<span style=\"font-weight: bold\">}</span>\n</pre>\n"
     },
     "metadata": {},
     "output_type": "display_data"
    }
   ],
   "source": [
    "print(\"at the 1th attempt, the task is:\")\n",
    "print(f\"status = {tracker.status_name}\")\n",
    "rprint(tracker.to_dict())"
   ],
   "metadata": {
    "collapsed": false,
    "pycharm": {
     "name": "#%%\n"
    }
   }
  },
  {
   "cell_type": "code",
   "execution_count": 69,
   "outputs": [
    {
     "name": "stdout",
     "output_type": "stream",
     "text": [
      "----- ▶️ start task(job_id='test-job', task_id='t-1', status='s06_failed') -----\n",
      "🔓 set status 's03_in_progress' and lock the task.\n",
      "❌ 🔐 task failed, set stats 's06_failed' and unlock the task.\n",
      "------ ⏹️ end task(job_id='test-job', task_id='t-1', status='s06_failed') ------\n"
     ]
    },
    {
     "ename": "Exception",
     "evalue": "",
     "output_type": "error",
     "traceback": [
      "\u001B[0;31m---------------------------------------------------------------------------\u001B[0m",
      "\u001B[0;31mException\u001B[0m                                 Traceback (most recent call last)",
      "Cell \u001B[0;32mIn[69], line 2\u001B[0m\n\u001B[1;32m      1\u001B[0m \u001B[38;5;28;01mwith\u001B[39;00m tracker\u001B[38;5;241m.\u001B[39mstart_job():\n\u001B[0;32m----> 2\u001B[0m     \u001B[38;5;28;01mraise\u001B[39;00m \u001B[38;5;167;01mException\u001B[39;00m\n",
      "\u001B[0;31mException\u001B[0m: "
     ]
    }
   ],
   "source": [
    "with tracker.start_job():\n",
    "    raise Exception"
   ],
   "metadata": {
    "collapsed": false,
    "pycharm": {
     "name": "#%%\n"
    }
   }
  },
  {
   "cell_type": "code",
   "execution_count": 70,
   "outputs": [
    {
     "name": "stdout",
     "output_type": "stream",
     "text": [
      "at the 2th attempt, the task is:\n",
      "status = s06_failed\n"
     ]
    },
    {
     "data": {
      "text/plain": "\u001B[1m{\u001B[0m\n    \u001B[32m'data'\u001B[0m: \u001B[1m{\u001B[0m\u001B[1m}\u001B[0m,\n    \u001B[32m'errors'\u001B[0m: \u001B[1m{\u001B[0m\n        \u001B[32m'error'\u001B[0m: \u001B[32m'Exception\u001B[0m\u001B[32m(\u001B[0m\u001B[32m)\u001B[0m\u001B[32m'\u001B[0m,\n        \u001B[32m'traceback'\u001B[0m: \u001B[32m'Traceback \u001B[0m\u001B[32m(\u001B[0m\u001B[32mmost recent call last\u001B[0m\u001B[32m)\u001B[0m\u001B[32m:\\n  File \u001B[0m\n\u001B[32m\"/Users/sanhehu/Documents/GitHub/pynamodb_mate-project/pynamodb_mate/patterns/status_tracker/impl.py\", line 638, in\u001B[0m\n\u001B[32mstart\\n    try:\\n  File \"/var/folders/bb/vd34dgxj361gcbkgvmk8_8cw0000gs/T/ipykernel_42365/3027452948.py\", line 2, \u001B[0m\n\u001B[32min \u001B[0m\u001B[32m<\u001B[0m\u001B[32mmodule\u001B[0m\u001B[32m>\u001B[0m\u001B[32m\\n    raise Exception\\nException\\n'\u001B[0m\n    \u001B[1m}\u001B[0m,\n    \u001B[32m'lock_time'\u001B[0m: \u001B[1;35mdatetime.datetime\u001B[0m\u001B[1m(\u001B[0m\u001B[1;36m2023\u001B[0m, \u001B[1;36m1\u001B[0m, \u001B[1;36m2\u001B[0m, \u001B[1;36m16\u001B[0m, \u001B[1;36m24\u001B[0m, \u001B[1;36m10\u001B[0m, \u001B[1;36m988947\u001B[0m, \u001B[33mtzinfo\u001B[0m=\u001B[35mdatetime\u001B[0m.timezone.utc\u001B[1m)\u001B[0m,\n    \u001B[32m'retry'\u001B[0m: \u001B[1;36m2\u001B[0m,\n    \u001B[32m'update_time'\u001B[0m: \u001B[1;35mdatetime.datetime\u001B[0m\u001B[1m(\u001B[0m\u001B[1;36m2023\u001B[0m, \u001B[1;36m1\u001B[0m, \u001B[1;36m2\u001B[0m, \u001B[1;36m16\u001B[0m, \u001B[1;36m24\u001B[0m, \u001B[1;36m11\u001B[0m, \u001B[1;36m8479\u001B[0m, \u001B[33mtzinfo\u001B[0m=\u001B[35mdatetime\u001B[0m.timezone.utc\u001B[1m)\u001B[0m,\n    \u001B[32m'key'\u001B[0m: \u001B[32m'test-job____t-1'\u001B[0m,\n    \u001B[32m'value'\u001B[0m: \u001B[32m'test-job____006'\u001B[0m\n\u001B[1m}\u001B[0m\n",
      "text/html": "<pre style=\"white-space:pre;overflow-x:auto;line-height:normal;font-family:Menlo,'DejaVu Sans Mono',consolas,'Courier New',monospace\"><span style=\"font-weight: bold\">{</span>\n    <span style=\"color: #008000; text-decoration-color: #008000\">'data'</span>: <span style=\"font-weight: bold\">{}</span>,\n    <span style=\"color: #008000; text-decoration-color: #008000\">'errors'</span>: <span style=\"font-weight: bold\">{</span>\n        <span style=\"color: #008000; text-decoration-color: #008000\">'error'</span>: <span style=\"color: #008000; text-decoration-color: #008000\">'Exception()'</span>,\n        <span style=\"color: #008000; text-decoration-color: #008000\">'traceback'</span>: <span style=\"color: #008000; text-decoration-color: #008000\">'Traceback (most recent call last):\\n  File </span>\n<span style=\"color: #008000; text-decoration-color: #008000\">\"/Users/sanhehu/Documents/GitHub/pynamodb_mate-project/pynamodb_mate/patterns/status_tracker/impl.py\", line 638, in</span>\n<span style=\"color: #008000; text-decoration-color: #008000\">start\\n    try:\\n  File \"/var/folders/bb/vd34dgxj361gcbkgvmk8_8cw0000gs/T/ipykernel_42365/3027452948.py\", line 2, </span>\n<span style=\"color: #008000; text-decoration-color: #008000\">in &lt;module&gt;\\n    raise Exception\\nException\\n'</span>\n    <span style=\"font-weight: bold\">}</span>,\n    <span style=\"color: #008000; text-decoration-color: #008000\">'lock_time'</span>: <span style=\"color: #800080; text-decoration-color: #800080; font-weight: bold\">datetime.datetime</span><span style=\"font-weight: bold\">(</span><span style=\"color: #008080; text-decoration-color: #008080; font-weight: bold\">2023</span>, <span style=\"color: #008080; text-decoration-color: #008080; font-weight: bold\">1</span>, <span style=\"color: #008080; text-decoration-color: #008080; font-weight: bold\">2</span>, <span style=\"color: #008080; text-decoration-color: #008080; font-weight: bold\">16</span>, <span style=\"color: #008080; text-decoration-color: #008080; font-weight: bold\">24</span>, <span style=\"color: #008080; text-decoration-color: #008080; font-weight: bold\">10</span>, <span style=\"color: #008080; text-decoration-color: #008080; font-weight: bold\">988947</span>, <span style=\"color: #808000; text-decoration-color: #808000\">tzinfo</span>=<span style=\"color: #800080; text-decoration-color: #800080\">datetime</span>.timezone.utc<span style=\"font-weight: bold\">)</span>,\n    <span style=\"color: #008000; text-decoration-color: #008000\">'retry'</span>: <span style=\"color: #008080; text-decoration-color: #008080; font-weight: bold\">2</span>,\n    <span style=\"color: #008000; text-decoration-color: #008000\">'update_time'</span>: <span style=\"color: #800080; text-decoration-color: #800080; font-weight: bold\">datetime.datetime</span><span style=\"font-weight: bold\">(</span><span style=\"color: #008080; text-decoration-color: #008080; font-weight: bold\">2023</span>, <span style=\"color: #008080; text-decoration-color: #008080; font-weight: bold\">1</span>, <span style=\"color: #008080; text-decoration-color: #008080; font-weight: bold\">2</span>, <span style=\"color: #008080; text-decoration-color: #008080; font-weight: bold\">16</span>, <span style=\"color: #008080; text-decoration-color: #008080; font-weight: bold\">24</span>, <span style=\"color: #008080; text-decoration-color: #008080; font-weight: bold\">11</span>, <span style=\"color: #008080; text-decoration-color: #008080; font-weight: bold\">8479</span>, <span style=\"color: #808000; text-decoration-color: #808000\">tzinfo</span>=<span style=\"color: #800080; text-decoration-color: #800080\">datetime</span>.timezone.utc<span style=\"font-weight: bold\">)</span>,\n    <span style=\"color: #008000; text-decoration-color: #008000\">'key'</span>: <span style=\"color: #008000; text-decoration-color: #008000\">'test-job____t-1'</span>,\n    <span style=\"color: #008000; text-decoration-color: #008000\">'value'</span>: <span style=\"color: #008000; text-decoration-color: #008000\">'test-job____006'</span>\n<span style=\"font-weight: bold\">}</span>\n</pre>\n"
     },
     "metadata": {},
     "output_type": "display_data"
    }
   ],
   "source": [
    "print(\"at the 2th attempt, the task is:\")\n",
    "print(f\"status = {tracker.status_name}\")\n",
    "rprint(tracker.to_dict())"
   ],
   "metadata": {
    "collapsed": false,
    "pycharm": {
     "name": "#%%\n"
    }
   }
  },
  {
   "cell_type": "code",
   "execution_count": 71,
   "outputs": [
    {
     "name": "stdout",
     "output_type": "stream",
     "text": [
      "----- ▶️ start task(job_id='test-job', task_id='t-1', status='s06_failed') -----\n",
      "🔓 set status 's03_in_progress' and lock the task.\n",
      "❌ 🔐 task failed 3 times already, set status 's10_ignore' and unlock the task.\n",
      "------ ⏹️ end task(job_id='test-job', task_id='t-1', status='s10_ignore') ------\n"
     ]
    },
    {
     "ename": "Exception",
     "evalue": "",
     "output_type": "error",
     "traceback": [
      "\u001B[0;31m---------------------------------------------------------------------------\u001B[0m",
      "\u001B[0;31mException\u001B[0m                                 Traceback (most recent call last)",
      "Cell \u001B[0;32mIn[71], line 2\u001B[0m\n\u001B[1;32m      1\u001B[0m \u001B[38;5;28;01mwith\u001B[39;00m tracker\u001B[38;5;241m.\u001B[39mstart_job():\n\u001B[0;32m----> 2\u001B[0m     \u001B[38;5;28;01mraise\u001B[39;00m \u001B[38;5;167;01mException\u001B[39;00m\n",
      "\u001B[0;31mException\u001B[0m: "
     ]
    }
   ],
   "source": [
    "with tracker.start_job():\n",
    "    raise Exception"
   ],
   "metadata": {
    "collapsed": false,
    "pycharm": {
     "name": "#%%\n"
    }
   }
  },
  {
   "cell_type": "code",
   "execution_count": 72,
   "outputs": [
    {
     "name": "stdout",
     "output_type": "stream",
     "text": [
      "at the 3th attempt, the task is:\n",
      "status = s10_ignore\n"
     ]
    },
    {
     "data": {
      "text/plain": "\u001B[1m{\u001B[0m\n    \u001B[32m'data'\u001B[0m: \u001B[1m{\u001B[0m\u001B[1m}\u001B[0m,\n    \u001B[32m'errors'\u001B[0m: \u001B[1m{\u001B[0m\n        \u001B[32m'error'\u001B[0m: \u001B[32m'Exception\u001B[0m\u001B[32m(\u001B[0m\u001B[32m)\u001B[0m\u001B[32m'\u001B[0m,\n        \u001B[32m'traceback'\u001B[0m: \u001B[32m'Traceback \u001B[0m\u001B[32m(\u001B[0m\u001B[32mmost recent call last\u001B[0m\u001B[32m)\u001B[0m\u001B[32m:\\n  File \u001B[0m\n\u001B[32m\"/Users/sanhehu/Documents/GitHub/pynamodb_mate-project/pynamodb_mate/patterns/status_tracker/impl.py\", line 638, in\u001B[0m\n\u001B[32mstart\\n    try:\\n  File \"/var/folders/bb/vd34dgxj361gcbkgvmk8_8cw0000gs/T/ipykernel_42365/3027452948.py\", line 2, \u001B[0m\n\u001B[32min \u001B[0m\u001B[32m<\u001B[0m\u001B[32mmodule\u001B[0m\u001B[32m>\u001B[0m\u001B[32m\\n    raise Exception\\nException\\n'\u001B[0m\n    \u001B[1m}\u001B[0m,\n    \u001B[32m'lock_time'\u001B[0m: \u001B[1;35mdatetime.datetime\u001B[0m\u001B[1m(\u001B[0m\u001B[1;36m2023\u001B[0m, \u001B[1;36m1\u001B[0m, \u001B[1;36m2\u001B[0m, \u001B[1;36m16\u001B[0m, \u001B[1;36m24\u001B[0m, \u001B[1;36m12\u001B[0m, \u001B[1;36m3836\u001B[0m, \u001B[33mtzinfo\u001B[0m=\u001B[35mdatetime\u001B[0m.timezone.utc\u001B[1m)\u001B[0m,\n    \u001B[32m'retry'\u001B[0m: \u001B[1;36m3\u001B[0m,\n    \u001B[32m'update_time'\u001B[0m: \u001B[1;35mdatetime.datetime\u001B[0m\u001B[1m(\u001B[0m\u001B[1;36m2023\u001B[0m, \u001B[1;36m1\u001B[0m, \u001B[1;36m2\u001B[0m, \u001B[1;36m16\u001B[0m, \u001B[1;36m24\u001B[0m, \u001B[1;36m12\u001B[0m, \u001B[1;36m22500\u001B[0m, \u001B[33mtzinfo\u001B[0m=\u001B[35mdatetime\u001B[0m.timezone.utc\u001B[1m)\u001B[0m,\n    \u001B[32m'key'\u001B[0m: \u001B[32m'test-job____t-1'\u001B[0m,\n    \u001B[32m'value'\u001B[0m: \u001B[32m'test-job____010'\u001B[0m\n\u001B[1m}\u001B[0m\n",
      "text/html": "<pre style=\"white-space:pre;overflow-x:auto;line-height:normal;font-family:Menlo,'DejaVu Sans Mono',consolas,'Courier New',monospace\"><span style=\"font-weight: bold\">{</span>\n    <span style=\"color: #008000; text-decoration-color: #008000\">'data'</span>: <span style=\"font-weight: bold\">{}</span>,\n    <span style=\"color: #008000; text-decoration-color: #008000\">'errors'</span>: <span style=\"font-weight: bold\">{</span>\n        <span style=\"color: #008000; text-decoration-color: #008000\">'error'</span>: <span style=\"color: #008000; text-decoration-color: #008000\">'Exception()'</span>,\n        <span style=\"color: #008000; text-decoration-color: #008000\">'traceback'</span>: <span style=\"color: #008000; text-decoration-color: #008000\">'Traceback (most recent call last):\\n  File </span>\n<span style=\"color: #008000; text-decoration-color: #008000\">\"/Users/sanhehu/Documents/GitHub/pynamodb_mate-project/pynamodb_mate/patterns/status_tracker/impl.py\", line 638, in</span>\n<span style=\"color: #008000; text-decoration-color: #008000\">start\\n    try:\\n  File \"/var/folders/bb/vd34dgxj361gcbkgvmk8_8cw0000gs/T/ipykernel_42365/3027452948.py\", line 2, </span>\n<span style=\"color: #008000; text-decoration-color: #008000\">in &lt;module&gt;\\n    raise Exception\\nException\\n'</span>\n    <span style=\"font-weight: bold\">}</span>,\n    <span style=\"color: #008000; text-decoration-color: #008000\">'lock_time'</span>: <span style=\"color: #800080; text-decoration-color: #800080; font-weight: bold\">datetime.datetime</span><span style=\"font-weight: bold\">(</span><span style=\"color: #008080; text-decoration-color: #008080; font-weight: bold\">2023</span>, <span style=\"color: #008080; text-decoration-color: #008080; font-weight: bold\">1</span>, <span style=\"color: #008080; text-decoration-color: #008080; font-weight: bold\">2</span>, <span style=\"color: #008080; text-decoration-color: #008080; font-weight: bold\">16</span>, <span style=\"color: #008080; text-decoration-color: #008080; font-weight: bold\">24</span>, <span style=\"color: #008080; text-decoration-color: #008080; font-weight: bold\">12</span>, <span style=\"color: #008080; text-decoration-color: #008080; font-weight: bold\">3836</span>, <span style=\"color: #808000; text-decoration-color: #808000\">tzinfo</span>=<span style=\"color: #800080; text-decoration-color: #800080\">datetime</span>.timezone.utc<span style=\"font-weight: bold\">)</span>,\n    <span style=\"color: #008000; text-decoration-color: #008000\">'retry'</span>: <span style=\"color: #008080; text-decoration-color: #008080; font-weight: bold\">3</span>,\n    <span style=\"color: #008000; text-decoration-color: #008000\">'update_time'</span>: <span style=\"color: #800080; text-decoration-color: #800080; font-weight: bold\">datetime.datetime</span><span style=\"font-weight: bold\">(</span><span style=\"color: #008080; text-decoration-color: #008080; font-weight: bold\">2023</span>, <span style=\"color: #008080; text-decoration-color: #008080; font-weight: bold\">1</span>, <span style=\"color: #008080; text-decoration-color: #008080; font-weight: bold\">2</span>, <span style=\"color: #008080; text-decoration-color: #008080; font-weight: bold\">16</span>, <span style=\"color: #008080; text-decoration-color: #008080; font-weight: bold\">24</span>, <span style=\"color: #008080; text-decoration-color: #008080; font-weight: bold\">12</span>, <span style=\"color: #008080; text-decoration-color: #008080; font-weight: bold\">22500</span>, <span style=\"color: #808000; text-decoration-color: #808000\">tzinfo</span>=<span style=\"color: #800080; text-decoration-color: #800080\">datetime</span>.timezone.utc<span style=\"font-weight: bold\">)</span>,\n    <span style=\"color: #008000; text-decoration-color: #008000\">'key'</span>: <span style=\"color: #008000; text-decoration-color: #008000\">'test-job____t-1'</span>,\n    <span style=\"color: #008000; text-decoration-color: #008000\">'value'</span>: <span style=\"color: #008000; text-decoration-color: #008000\">'test-job____010'</span>\n<span style=\"font-weight: bold\">}</span>\n</pre>\n"
     },
     "metadata": {},
     "output_type": "display_data"
    }
   ],
   "source": [
    "print(\"at the 3th attempt, the task is:\")\n",
    "print(f\"status = {tracker.status_name}\")\n",
    "rprint(tracker.to_dict())"
   ],
   "metadata": {
    "collapsed": false,
    "pycharm": {
     "name": "#%%\n"
    }
   }
  },
  {
   "cell_type": "code",
   "execution_count": 73,
   "outputs": [
    {
     "name": "stdout",
     "output_type": "stream",
     "text": [
      "You will see a TaskIgnoredError if you try to start the task again\n",
      "----- ▶️ start task(job_id='test-job', task_id='t-1', status='s10_ignore') -----\n",
      "Unexpected exception formatting exception. Falling back to standard exception\n"
     ]
    },
    {
     "name": "stderr",
     "output_type": "stream",
     "text": [
      "Traceback (most recent call last):\n",
      "  File \"/Users/sanhehu/venvs/python/3.8.11/pynamodb_mate_venv/lib/python3.8/site-packages/IPython/core/interactiveshell.py\", line 3433, in run_code\n",
      "    exec(code_obj, self.user_global_ns, self.user_ns)\n",
      "  File \"/var/folders/bb/vd34dgxj361gcbkgvmk8_8cw0000gs/T/ipykernel_42365/4135678461.py\", line 2, in <module>\n",
      "    with tracker.start_job():\n",
      "  File \"/Users/sanhehu/.pyenv/versions/3.8.11/lib/python3.8/contextlib.py\", line 113, in __enter__\n",
      "    return next(self.gen)\n",
      "  File \"/Users/sanhehu/Documents/GitHub/pynamodb_mate-project/pynamodb_mate/patterns/status_tracker/impl.py\", line 624, in start\n",
      "pynamodb_mate.patterns.status_tracker.impl.TaskIgnoredError: Task test-job____t-1 retry count already exceeded 3, ignore it.\n",
      "\n",
      "During handling of the above exception, another exception occurred:\n",
      "\n",
      "Traceback (most recent call last):\n",
      "  File \"/Users/sanhehu/venvs/python/3.8.11/pynamodb_mate_venv/lib/python3.8/site-packages/IPython/core/interactiveshell.py\", line 2052, in showtraceback\n",
      "    stb = self.InteractiveTB.structured_traceback(\n",
      "  File \"/Users/sanhehu/venvs/python/3.8.11/pynamodb_mate_venv/lib/python3.8/site-packages/IPython/core/ultratb.py\", line 1118, in structured_traceback\n",
      "    return FormattedTB.structured_traceback(\n",
      "  File \"/Users/sanhehu/venvs/python/3.8.11/pynamodb_mate_venv/lib/python3.8/site-packages/IPython/core/ultratb.py\", line 1012, in structured_traceback\n",
      "    return VerboseTB.structured_traceback(\n",
      "  File \"/Users/sanhehu/venvs/python/3.8.11/pynamodb_mate_venv/lib/python3.8/site-packages/IPython/core/ultratb.py\", line 865, in structured_traceback\n",
      "    formatted_exception = self.format_exception_as_a_whole(etype, evalue, etb, number_of_lines_of_context,\n",
      "  File \"/Users/sanhehu/venvs/python/3.8.11/pynamodb_mate_venv/lib/python3.8/site-packages/IPython/core/ultratb.py\", line 818, in format_exception_as_a_whole\n",
      "    frames.append(self.format_record(r))\n",
      "  File \"/Users/sanhehu/venvs/python/3.8.11/pynamodb_mate_venv/lib/python3.8/site-packages/IPython/core/ultratb.py\", line 736, in format_record\n",
      "    result += ''.join(_format_traceback_lines(frame_info.lines, Colors, self.has_colors, lvals))\n",
      "  File \"/Users/sanhehu/venvs/python/3.8.11/pynamodb_mate_venv/lib/python3.8/site-packages/stack_data/utils.py\", line 144, in cached_property_wrapper\n",
      "    value = obj.__dict__[self.func.__name__] = self.func(obj)\n",
      "  File \"/Users/sanhehu/venvs/python/3.8.11/pynamodb_mate_venv/lib/python3.8/site-packages/stack_data/core.py\", line 734, in lines\n",
      "    pieces = self.included_pieces\n",
      "  File \"/Users/sanhehu/venvs/python/3.8.11/pynamodb_mate_venv/lib/python3.8/site-packages/stack_data/utils.py\", line 144, in cached_property_wrapper\n",
      "    value = obj.__dict__[self.func.__name__] = self.func(obj)\n",
      "  File \"/Users/sanhehu/venvs/python/3.8.11/pynamodb_mate_venv/lib/python3.8/site-packages/stack_data/core.py\", line 681, in included_pieces\n",
      "    pos = scope_pieces.index(self.executing_piece)\n",
      "  File \"/Users/sanhehu/venvs/python/3.8.11/pynamodb_mate_venv/lib/python3.8/site-packages/stack_data/utils.py\", line 144, in cached_property_wrapper\n",
      "    value = obj.__dict__[self.func.__name__] = self.func(obj)\n",
      "  File \"/Users/sanhehu/venvs/python/3.8.11/pynamodb_mate_venv/lib/python3.8/site-packages/stack_data/core.py\", line 660, in executing_piece\n",
      "    return only(\n",
      "  File \"/Users/sanhehu/venvs/python/3.8.11/pynamodb_mate_venv/lib/python3.8/site-packages/executing/executing.py\", line 190, in only\n",
      "    raise NotOneValueFound('Expected one value, found 0')\n",
      "executing.executing.NotOneValueFound: Expected one value, found 0\n"
     ]
    }
   ],
   "source": [
    "print(\"You will see a TaskIgnoredError if you try to start the task again\")\n",
    "with tracker.start_job():\n",
    "    pass"
   ],
   "metadata": {
    "collapsed": false,
    "pycharm": {
     "name": "#%%\n"
    }
   }
  }
 ],
 "metadata": {
  "kernelspec": {
   "display_name": "Python 3",
   "language": "python",
   "name": "python3"
  },
  "language_info": {
   "codemirror_mode": {
    "name": "ipython",
    "version": 2
   },
   "file_extension": ".py",
   "mimetype": "text/x-python",
   "name": "python",
   "nbconvert_exporter": "python",
   "pygments_lexer": "ipython2",
   "version": "2.7.6"
  }
 },
 "nbformat": 4,
 "nbformat_minor": 0
}
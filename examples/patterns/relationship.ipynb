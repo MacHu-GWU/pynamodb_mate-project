{
 "cells": [
  {
   "cell_type": "markdown",
   "source": [
    "# Modeling Relational Data in DynamoDB.\n",
    "\n",
    "DynamoDB offers various strategies for implementing relationships between entities. I have created a [GitHub repository, dynamodb_modeler-project](https://github.com/MacHu-GWU/dynamodb_modeler-project) that thoroughly discusses the different options, comparing their pros and cons, and demonstrates an ultimate strategy that can accommodate arbitrary numbers of entities and relationships while allowing for smooth scalability. The ``pynamodb_mate.patterns.relationship`` module implements this ultimate strategy, making it easy to use in production environments.\n",
    "\n",
    "To showcase the simplicity and effectiveness of this library, please refer to the following example and compare it with the implementation in the [Reinvent YouTube in DynamoDB](https://github.com/MacHu-GWU/dynamodb_modeler-project/blob/main/Reinvent-YouTube-In-DynamoDB.ipynb) project without using the library. By doing so, you will gain a clear understanding of how this library streamlines the process of modeling relationships in DynamoDB.\n",
    "\n",
    "The example provided demonstrates how the library abstracts away the complexities of managing relationships, allowing developers to focus on the core business logic. With just a few lines of code, you can define and establish relationships between entities, eliminating the need for manual implementation of complex data modeling patterns.\n",
    "\n",
    "By leveraging the ``pynamodb_mate.patterns.relationship`` module, developers can save significant time and effort in designing and implementing scalable and maintainable data models in DynamoDB. The library provides a high-level, intuitive interface that encapsulates best practices and optimized strategies for handling relationships efficiently.\n",
    "\n",
    "Whether you are building a new application from scratch or migrating an existing one to DynamoDB, the ``pynamodb_mate`` library offers a powerful toolset to simplify the process of modeling and managing relationships. It enables developers to create robust and scalable data models with ease, ensuring optimal performance and flexibility as the application grows.\n",
    "\n",
    "I encourage you to explore the example provided and dive into the GitHub repository to learn more about the capabilities and benefits of the ``pynamodb_mate`` library. By adopting this library in your DynamoDB projects, you can streamline your development process, improve code maintainability, and unlock the full potential of DynamoDB's scalability and performance."
   ],
   "metadata": {
    "collapsed": false,
    "pycharm": {
     "name": "#%% md\n"
    }
   }
  },
  {
   "cell_type": "code",
   "execution_count": 1,
   "outputs": [],
   "source": [
    "import typing as T\n",
    "\n",
    "import pynamodb_mate as pm\n",
    "import pynamodb_mate.patterns.relationship.api as rl\n",
    "from iterproxy import IterProxy"
   ],
   "metadata": {
    "collapsed": false,
    "pycharm": {
     "name": "#%%\n"
    },
    "ExecuteTime": {
     "end_time": "2024-05-04T16:00:57.805445Z",
     "start_time": "2024-05-04T16:00:57.675425Z"
    }
   }
  },
  {
   "cell_type": "markdown",
   "source": [
    "# Declare Entity Table and Lookup Index"
   ],
   "metadata": {
    "collapsed": false
   }
  },
  {
   "cell_type": "code",
   "execution_count": 2,
   "outputs": [],
   "source": [
    "class LookupIndex(rl.BaseLookupIndex):\n",
    "    class Meta:\n",
    "        index_name = \"lookup-index\"\n",
    "        projection = pm.AllProjection()\n",
    "\n",
    "\n",
    "class Entity(rl.BaseEntity):\n",
    "    \"\"\"\n",
    "    :param pk: partition key can only has alpha letter and hyphen.\n",
    "    \"\"\"\n",
    "\n",
    "    class Meta:\n",
    "        table_name = \"entity\"\n",
    "        region = \"us-east-1\"\n",
    "        billing_mode = pm.PAY_PER_REQUEST_BILLING_MODE\n",
    "\n",
    "    lookup_index = LookupIndex()\n",
    "\n",
    "    def print_vip_attrs(self):\n",
    "        print(self.get_vip_attrs())"
   ],
   "metadata": {
    "collapsed": false,
    "pycharm": {
     "name": "#%%\n"
    },
    "ExecuteTime": {
     "end_time": "2024-05-04T16:00:57.952527Z",
     "start_time": "2024-05-04T16:00:57.947353Z"
    }
   }
  },
  {
   "cell_type": "markdown",
   "source": [
    "# Declare Data Model for Each Entity\n",
    "\n",
    "In this ultimate data modeling strategy, all entities are stored within a single table. To enhance code organization, readability, and maintainability, it is highly recommended to define subclasses for each entity type. By creating separate subclasses, you can encapsulate entity-specific logic, attributes, and behavior within their respective classes.\n",
    "\n",
    "This approach offers several benefits:\n",
    "\n",
    "1. Modularity: Each entity subclass can be developed, tested, and maintained independently, promoting a modular and loosely coupled codebase.\n",
    "2. Code Reusability: Common functionality and attributes can be defined in a base class, which can be inherited by the entity subclasses. This promotes code reuse and reduces duplication.\n",
    "3. Readability: By separating entity-specific logic into dedicated subclasses, the codebase becomes more readable and self-explanatory. Developers can quickly understand the purpose and behavior of each entity without sifting through a monolithic class.\n",
    "4. Maintainability: As the application evolves and new requirements emerge, having separate entity subclasses makes it easier to modify and extend the codebase. Changes can be made to specific entity subclasses without impacting the entire system.\n",
    "5. Scalability: When the number of entities grows, managing them within separate subclasses allows for better scalability. New entity types can be added seamlessly without modifying the existing codebase extensively.\n",
    "\n",
    "By leveraging the power of inheritance and defining subclasses for each entity, you can create a well-structured and maintainable codebase that is easier to understand, modify, and scale as your application evolves.\n",
    "\n",
    "Remember to keep the subclasses focused on entity-specific logic and attributes, while leveraging the base class for common functionality and behavior. This approach will help you build a robust and efficient DynamoDB data model that can accommodate future growth and changes."
   ],
   "metadata": {
    "collapsed": false
   }
  },
  {
   "cell_type": "code",
   "outputs": [],
   "source": [
    "class User(Entity):\n",
    "    lookup_index = LookupIndex()\n",
    "\n",
    "    @property\n",
    "    def user_id(self) -> str:\n",
    "        return self.pk_id\n",
    "\n",
    "\n",
    "class Video(Entity):\n",
    "    lookup_index = LookupIndex()\n",
    "\n",
    "    @property\n",
    "    def video_id(self) -> str:\n",
    "        return self.pk_id\n",
    "\n",
    "\n",
    "class Channel(Entity):\n",
    "    lookup_index = LookupIndex()\n",
    "\n",
    "    @property\n",
    "    def channel_id(self) -> str:\n",
    "        return self.pk_id\n",
    "\n",
    "\n",
    "class Playlist(Entity):\n",
    "    lookup_index = LookupIndex()\n",
    "\n",
    "    @property\n",
    "    def playlist_id(self) -> str:\n",
    "        return self.pk_id"
   ],
   "metadata": {
    "collapsed": false,
    "ExecuteTime": {
     "end_time": "2024-05-04T16:00:58.228417Z",
     "start_time": "2024-05-04T16:00:58.223899Z"
    }
   },
   "execution_count": 3
  },
  {
   "cell_type": "markdown",
   "source": [
    "# Declare Data Model for Each Relationship\n",
    "\n",
    "Similarly, a relationship is just a DynamoDB item. You also need a class for each relationship."
   ],
   "metadata": {
    "collapsed": false
   }
  },
  {
   "cell_type": "code",
   "outputs": [],
   "source": [
    "class VideoOwnership(Entity):\n",
    "    lookup_index = LookupIndex()\n",
    "\n",
    "    @property\n",
    "    def video_id(self) -> str:\n",
    "        return self.pk_id\n",
    "\n",
    "    @property\n",
    "    def user_id(self) -> str:\n",
    "        return self.sk_id\n",
    "\n",
    "\n",
    "class ChannelOwnership(Entity):\n",
    "    lookup_index = LookupIndex()\n",
    "\n",
    "    @property\n",
    "    def channel_id(self) -> str:\n",
    "        return self.pk_id\n",
    "\n",
    "    @property\n",
    "    def user_id(self) -> str:\n",
    "        return self.sk_id\n",
    "\n",
    "\n",
    "class PlaylistOwnership(Entity):\n",
    "    lookup_index = LookupIndex()\n",
    "\n",
    "    @property\n",
    "    def playlist_id(self) -> str:\n",
    "        return self.pk_id\n",
    "\n",
    "    @property\n",
    "    def user_id(self) -> str:\n",
    "        return self.sk_id\n",
    "\n",
    "\n",
    "class VideoChannelAssociation(Entity):\n",
    "    lookup_index = LookupIndex()\n",
    "\n",
    "    @property\n",
    "    def video_id(self) -> str:\n",
    "        return self.pk_id\n",
    "\n",
    "    @property\n",
    "    def channel_id(self) -> str:\n",
    "        return self.sk_id\n",
    "\n",
    "\n",
    "class VideoPlaylistAssociation(Entity):\n",
    "    lookup_index = LookupIndex()\n",
    "\n",
    "    @property\n",
    "    def video_id(self) -> str:\n",
    "        return self.pk_id\n",
    "\n",
    "    @property\n",
    "    def playlist_id(self) -> str:\n",
    "        return self.sk_id\n",
    "\n",
    "\n",
    "class ViewerSubscribeYoutuber(Entity):\n",
    "    lookup_index = LookupIndex()\n",
    "\n",
    "    @property\n",
    "    def viewer_id(self) -> str:\n",
    "        return self.pk_id\n",
    "\n",
    "    @property\n",
    "    def youtuber_id(self) -> str:\n",
    "        return self.sk_id\n",
    "\n",
    "\n",
    "class ViewerSubscribeChannel(Entity):\n",
    "    lookup_index = LookupIndex()\n",
    "\n",
    "    @property\n",
    "    def viewer_id(self) -> str:\n",
    "        return self.pk_id\n",
    "\n",
    "    @property\n",
    "    def channel_id(self) -> str:\n",
    "        return self.sk_id"
   ],
   "metadata": {
    "collapsed": false,
    "ExecuteTime": {
     "end_time": "2024-05-04T16:00:58.527585Z",
     "start_time": "2024-05-04T16:00:58.524891Z"
    }
   },
   "execution_count": 4
  },
  {
   "cell_type": "markdown",
   "source": [
    "# Declare Type Hint and Iterator Proxy Object\n",
    "\n",
    "This is recommended but optional."
   ],
   "metadata": {
    "collapsed": false
   }
  },
  {
   "cell_type": "code",
   "outputs": [],
   "source": [
    "T_Entity = T.Union[\n",
    "    Entity,\n",
    "    User,\n",
    "    Video,\n",
    "    Channel,\n",
    "    Playlist,\n",
    "    VideoOwnership,\n",
    "    ChannelOwnership,\n",
    "    PlaylistOwnership,\n",
    "    VideoChannelAssociation,\n",
    "    VideoPlaylistAssociation,\n",
    "    ViewerSubscribeYoutuber,\n",
    "    ViewerSubscribeChannel,\n",
    "]\n",
    "\n",
    "T_Entity_Type = T.Union[\n",
    "    T.Type[Entity],\n",
    "    T.Type[User],\n",
    "    T.Type[Video],\n",
    "    T.Type[Channel],\n",
    "    T.Type[Playlist],\n",
    "    T.Type[VideoOwnership],\n",
    "    T.Type[ChannelOwnership],\n",
    "    T.Type[PlaylistOwnership],\n",
    "    T.Type[VideoChannelAssociation],\n",
    "    T.Type[VideoPlaylistAssociation],\n",
    "    T.Type[ViewerSubscribeYoutuber],\n",
    "    T.Type[ViewerSubscribeChannel],\n",
    "]\n",
    "\n",
    "\n",
    "class UserIterProxy(IterProxy[User]):\n",
    "    pass\n",
    "\n",
    "\n",
    "class VideoIterProxy(IterProxy[Video]):\n",
    "    pass\n",
    "\n",
    "\n",
    "class ChannelIterProxy(IterProxy[Channel]):\n",
    "    pass\n",
    "\n",
    "\n",
    "class PlaylistIterProxy(IterProxy[Playlist]):\n",
    "    pass\n",
    "\n",
    "\n",
    "class VideoOwnershipIterProxy(IterProxy[VideoOwnership]):\n",
    "    pass\n",
    "\n",
    "\n",
    "class ChannelOwnershipIterProxy(IterProxy[ChannelOwnership]):\n",
    "    pass\n",
    "\n",
    "\n",
    "class PlaylistOwnershipIterProxy(IterProxy[PlaylistOwnership]):\n",
    "    pass\n",
    "\n",
    "\n",
    "class VideoChannelAssociationIterProxy(IterProxy[VideoChannelAssociation]):\n",
    "    pass\n",
    "\n",
    "\n",
    "class VideoPlaylistAssociationIterProxy(IterProxy[VideoPlaylistAssociation]):\n",
    "    pass\n",
    "\n",
    "\n",
    "class ViewerSubscribeYoutuberIterProxy(IterProxy[ViewerSubscribeYoutuber]):\n",
    "    pass\n",
    "\n",
    "\n",
    "class ViewerSubscribeChannelIterProxy(IterProxy[ViewerSubscribeChannel]):\n",
    "    pass"
   ],
   "metadata": {
    "collapsed": false,
    "ExecuteTime": {
     "end_time": "2024-05-04T16:00:58.800702Z",
     "start_time": "2024-05-04T16:00:58.797220Z"
    }
   },
   "execution_count": 5
  },
  {
   "cell_type": "markdown",
   "source": [
    "# Declare Relationship Settings\n",
    "\n",
    "The ``RelationshipSetting`` object is a central component of the library that stores all the metadata related to entity relationships. It serves as a configuration object that defines the characteristics and behavior of entities and their relationships.\n",
    "\n",
    "When using the library, you need to declare an ``EntityType`` for each entity in your data model. An ``EntityType`` represents a unique entity type and is associated with a specific entity class. This entity class serves as a blueprint for creating instances of the entity and encapsulates the entity's attributes and behavior.\n",
    "\n",
    "To define relationships between entities, you can use the ``OneToManyRelationshipType`` and ``ManyToManyRelationshipType`` objects. These objects represent the type of relationship between two entities. Each relationship type should have a unique name that identifies the relationship and specifies the associated entity classes involved in the relationship.\n",
    "\n",
    "One of the key benefits of using this library is the ability to declare your business logic and queries as methods within the entity classes. Instead of writing raw DynamoDB queries directly, you can encapsulate the logic and queries inside methods. This approach provides several advantages:\n",
    "\n",
    "1. Clarity: By defining business logic and queries as methods, the code becomes more readable and self-explanatory. Each method can have a descriptive name that clearly conveys its purpose, making the codebase easier to understand and maintain.\n",
    "2. Encapsulation: Methods allow you to encapsulate the implementation details of business logic and queries within the entity classes. This encapsulation hides the complexity of the underlying DynamoDB operations and provides a higher-level abstraction for interacting with the data.\n",
    "3. Reusability: Methods promote code reuse by allowing you to define common logic and queries once and invoke them from multiple places in your application. This reduces code duplication and makes the codebase more maintainable.\n",
    "4. Testability: By encapsulating business logic and queries in methods, you can easily write unit tests to verify the correctness of your code. Testing individual methods is simpler and more focused compared to testing raw DynamoDB queries scattered throughout the codebase.\n",
    "\n",
    "By leveraging the ``RelationshipSetting`` object, declaring entity types, defining relationship types, and encapsulating business logic and queries in methods, you can create a clean, maintainable, and expressive codebase for working with DynamoDB. This approach simplifies the development process, improves code organization, and enhances the overall readability and maintainability of your application. "
   ],
   "metadata": {
    "collapsed": false
   }
  },
  {
   "cell_type": "code",
   "outputs": [],
   "source": [
    "user_entity_type = rl.EntityType(name=\"User\", klass=User)\n",
    "video_entity_type = rl.EntityType(name=\"Video\", klass=Video)\n",
    "channel_entity_type = rl.EntityType(name=\"Channel\", klass=Channel)\n",
    "playlist_entity_type = rl.EntityType(name=\"Playlist\", klass=Playlist)\n",
    "\n",
    "video_ownership_relationship_type = rl.OneToManyRelationshipType(\n",
    "    name=\"Video-Ownership\",\n",
    "    klass=VideoOwnership,\n",
    "    one_type=user_entity_type,\n",
    "    many_type=video_entity_type,\n",
    ")\n",
    "channel_ownership_relationship_type = rl.OneToManyRelationshipType(\n",
    "    name=\"Channel-Ownership\",\n",
    "    klass=ChannelOwnership,\n",
    "    one_type=user_entity_type,\n",
    "    many_type=channel_entity_type,\n",
    ")\n",
    "playlist_ownership_relationship_type = rl.OneToManyRelationshipType(\n",
    "    name=\"Playlist-Ownership\",\n",
    "    klass=PlaylistOwnership,\n",
    "    one_type=user_entity_type,\n",
    "    many_type=playlist_entity_type,\n",
    ")\n",
    "\n",
    "video_channel_association_relationship_type = rl.ManyToManyRelationshipType(\n",
    "    name=\"Video-Channel-Association\",\n",
    "    klass=VideoChannelAssociation,\n",
    "    left_type=video_entity_type,\n",
    "    right_type=channel_entity_type,\n",
    ")\n",
    "video_playlist_association_relationship_type = rl.ManyToManyRelationshipType(\n",
    "    name=\"Video-Playlist-Association\",\n",
    "    klass=VideoPlaylistAssociation,\n",
    "    left_type=video_entity_type,\n",
    "    right_type=playlist_entity_type,\n",
    ")\n",
    "viewer_subscribe_youtuber_relationship_type = rl.ManyToManyRelationshipType(\n",
    "    name=\"Viewer-Subscribe-Youtuber\",\n",
    "    klass=ViewerSubscribeYoutuber,\n",
    "    left_type=user_entity_type,\n",
    "    right_type=user_entity_type,\n",
    ")\n",
    "viewer_subscribe_channel_relationship_type = rl.ManyToManyRelationshipType(\n",
    "    name=\"Viewer-Subscribe-Channel\",\n",
    "    klass=ViewerSubscribeChannel,\n",
    "    left_type=user_entity_type,\n",
    "    right_type=channel_entity_type,\n",
    ")\n",
    "\n",
    "\n",
    "class RelationshipSetting(rl.RelationshipSetting):\n",
    "    def new_user(\n",
    "        self,\n",
    "        id: str,\n",
    "        name: str,\n",
    "        save: bool = True,\n",
    "    ) -> T.Optional[User]:\n",
    "        return self.new_entity(e_type=user_entity_type, id=id, name=name, save=save)\n",
    "\n",
    "    def new_video(\n",
    "        self,\n",
    "        id: str,\n",
    "        name: str,\n",
    "        save: bool = True,\n",
    "    ) -> T.Optional[Video]:\n",
    "        return self.new_entity(e_type=video_entity_type, id=id, name=name, save=save)\n",
    "\n",
    "    def new_channel(\n",
    "        self,\n",
    "        id: str,\n",
    "        name: str,\n",
    "        save: bool = True,\n",
    "    ) -> T.Optional[Channel]:\n",
    "        return self.new_entity(e_type=channel_entity_type, id=id, name=name, save=save)\n",
    "\n",
    "    def new_playlist(\n",
    "        self,\n",
    "        id: str,\n",
    "        name: str,\n",
    "        save: bool = True,\n",
    "    ) -> T.Optional[Playlist]:\n",
    "        return self.new_entity(e_type=playlist_entity_type, id=id, name=name, save=save)\n",
    "\n",
    "    def list_users(self) -> UserIterProxy:\n",
    "        return self.list_entities(entity_type=user_entity_type)\n",
    "\n",
    "    def list_videos(self) -> UserIterProxy:\n",
    "        return self.list_entities(entity_type=video_entity_type)\n",
    "\n",
    "    def list_channels(self) -> UserIterProxy:\n",
    "        return self.list_entities(entity_type=channel_entity_type)\n",
    "\n",
    "    def list_playlists(self) -> UserIterProxy:\n",
    "        return self.list_entities(entity_type=playlist_entity_type)\n",
    "\n",
    "    def set_video_owner(\n",
    "        self,\n",
    "        conn: pm.Connection,\n",
    "        video_id: str,\n",
    "        user_id: str,\n",
    "    ):\n",
    "        self.set_one_to_many(\n",
    "            conn=conn,\n",
    "            one_to_many_r_type=video_ownership_relationship_type,\n",
    "            many_entity_id=video_id,\n",
    "            one_entity_id=user_id,\n",
    "        )\n",
    "\n",
    "    def set_channel_owner(\n",
    "        self,\n",
    "        conn: pm.Connection,\n",
    "        channel_id: str,\n",
    "        user_id: str,\n",
    "    ):\n",
    "        self.set_one_to_many(\n",
    "            conn=conn,\n",
    "            one_to_many_r_type=channel_ownership_relationship_type,\n",
    "            many_entity_id=channel_id,\n",
    "            one_entity_id=user_id,\n",
    "        )\n",
    "\n",
    "    def set_playlist_owner(\n",
    "        self,\n",
    "        conn: pm.Connection,\n",
    "        playlist_id: str,\n",
    "        user_id: str,\n",
    "    ):\n",
    "        self.set_one_to_many(\n",
    "            conn=conn,\n",
    "            one_to_many_r_type=playlist_ownership_relationship_type,\n",
    "            many_entity_id=playlist_id,\n",
    "            one_entity_id=user_id,\n",
    "        )\n",
    "\n",
    "    def find_videos_created_by_a_user(\n",
    "        self,\n",
    "        user_id: str,\n",
    "    ) -> VideoIterProxy:\n",
    "        return self.find_many_by_one(\n",
    "            one_to_many_r_type=video_ownership_relationship_type,\n",
    "            one_entity_id=user_id,\n",
    "        )\n",
    "\n",
    "    def find_channels_created_by_a_user(\n",
    "        self,\n",
    "        user_id: str,\n",
    "    ) -> ChannelIterProxy:\n",
    "        return self.find_many_by_one(\n",
    "            one_to_many_r_type=channel_ownership_relationship_type,\n",
    "            one_entity_id=user_id,\n",
    "        )\n",
    "\n",
    "    def find_playlists_created_by_a_user(\n",
    "        self,\n",
    "        user_id: str,\n",
    "    ) -> PlaylistIterProxy:\n",
    "        return self.find_many_by_one(\n",
    "            one_to_many_r_type=playlist_ownership_relationship_type,\n",
    "            one_entity_id=user_id,\n",
    "        )\n",
    "\n",
    "    def add_video_to_channel(\n",
    "        self,\n",
    "        video_id: str,\n",
    "        channel_id: str,\n",
    "    ):\n",
    "        self.set_many_to_many(\n",
    "            many_to_many_r_type=video_channel_association_relationship_type,\n",
    "            left_entity_id=video_id,\n",
    "            right_entity_id=channel_id,\n",
    "        )\n",
    "\n",
    "    def add_video_to_playlist(\n",
    "        self,\n",
    "        video_id: str,\n",
    "        playlist_id: str,\n",
    "    ):\n",
    "        self.set_many_to_many(\n",
    "            many_to_many_r_type=video_playlist_association_relationship_type,\n",
    "            left_entity_id=video_id,\n",
    "            right_entity_id=playlist_id,\n",
    "        )\n",
    "\n",
    "    def viewer_subscribe_youtuber(\n",
    "        self,\n",
    "        viewer_id: str,\n",
    "        youtuber_id: str,\n",
    "    ):\n",
    "        self.set_many_to_many(\n",
    "            many_to_many_r_type=viewer_subscribe_youtuber_relationship_type,\n",
    "            left_entity_id=viewer_id,\n",
    "            right_entity_id=youtuber_id,\n",
    "        )\n",
    "\n",
    "    def viewer_subscribe_channel(\n",
    "        self,\n",
    "        viewer_id: str,\n",
    "        channel_id: str,\n",
    "    ):\n",
    "        self.set_many_to_many(\n",
    "            many_to_many_r_type=viewer_subscribe_channel_relationship_type,\n",
    "            left_entity_id=viewer_id,\n",
    "            right_entity_id=channel_id,\n",
    "        )\n",
    "\n",
    "    def find_videos_in_channel(\n",
    "        self,\n",
    "        channel_id: str,\n",
    "    ) -> VideoChannelAssociationIterProxy:\n",
    "        return self.find_many_by_many(\n",
    "            many_to_many_r_type=video_channel_association_relationship_type,\n",
    "            entity_id=channel_id,\n",
    "            lookup_by_left=False,\n",
    "        )\n",
    "\n",
    "    def find_channels_that_has_video(\n",
    "        self,\n",
    "        video_id: str,\n",
    "    ) -> VideoChannelAssociationIterProxy:\n",
    "        return self.find_many_by_many(\n",
    "            many_to_many_r_type=video_channel_association_relationship_type,\n",
    "            entity_id=video_id,\n",
    "            lookup_by_left=True,\n",
    "        )\n",
    "\n",
    "    def find_videos_in_playlist(\n",
    "        self,\n",
    "        playlist_id: str,\n",
    "    ) -> VideoPlaylistAssociationIterProxy:\n",
    "        return self.find_many_by_many(\n",
    "            many_to_many_r_type=video_playlist_association_relationship_type,\n",
    "            entity_id=playlist_id,\n",
    "            lookup_by_left=False,\n",
    "        )\n",
    "\n",
    "    def find_playlists_that_has_video(\n",
    "        self,\n",
    "        video_id: str,\n",
    "    ) -> VideoPlaylistAssociationIterProxy:\n",
    "        return self.find_many_by_many(\n",
    "            many_to_many_r_type=video_playlist_association_relationship_type,\n",
    "            entity_id=video_id,\n",
    "            lookup_by_left=True,\n",
    "        )\n",
    "\n",
    "    def find_subscribers_for_youtuber(\n",
    "        self,\n",
    "        youtuber_id: str,\n",
    "    ) -> ViewerSubscribeYoutuberIterProxy:\n",
    "        return self.find_many_by_many(\n",
    "            many_to_many_r_type=viewer_subscribe_youtuber_relationship_type,\n",
    "            entity_id=youtuber_id,\n",
    "            lookup_by_left=False,\n",
    "        )\n",
    "\n",
    "    def find_subscribed_youtubers(\n",
    "        self,\n",
    "        user_id: str,\n",
    "    ) -> ViewerSubscribeYoutuberIterProxy:\n",
    "        return self.find_many_by_many(\n",
    "            many_to_many_r_type=viewer_subscribe_youtuber_relationship_type,\n",
    "            entity_id=user_id,\n",
    "            lookup_by_left=True,\n",
    "        )\n",
    "\n",
    "    def find_subscribers_for_channel(\n",
    "        self,\n",
    "        channel_id: str,\n",
    "    ) -> ViewerSubscribeChannelIterProxy:\n",
    "        return self.find_many_by_many(\n",
    "            many_to_many_r_type=viewer_subscribe_channel_relationship_type,\n",
    "            entity_id=channel_id,\n",
    "            lookup_by_left=False,\n",
    "        )\n",
    "\n",
    "    def find_subscribed_channels(\n",
    "        self,\n",
    "        user_id: str,\n",
    "    ) -> ViewerSubscribeChannelIterProxy:\n",
    "        return self.find_many_by_many(\n",
    "            many_to_many_r_type=viewer_subscribe_channel_relationship_type,\n",
    "            entity_id=user_id,\n",
    "            lookup_by_left=True,\n",
    "        )\n",
    "\n",
    "    def remove_video_from_channel(\n",
    "        self,\n",
    "        video_id: str,\n",
    "        channel_id: str,\n",
    "    ):\n",
    "        self.unset_many_to_many(\n",
    "            many_to_many_r_type=video_channel_association_relationship_type,\n",
    "            left_entity_id=video_id,\n",
    "            right_entity_id=channel_id,\n",
    "        )\n",
    "\n",
    "    def remove_video_from_playlist(\n",
    "        self,\n",
    "        video_id: str,\n",
    "        playlist_id: str,\n",
    "    ):\n",
    "        self.unset_many_to_many(\n",
    "            many_to_many_r_type=video_playlist_association_relationship_type,\n",
    "            left_entity_id=video_id,\n",
    "            right_entity_id=playlist_id,\n",
    "        )\n",
    "\n",
    "    def viewer_unsubscribe_youtuber(\n",
    "        self,\n",
    "        viewer_id: str,\n",
    "        youtuber_id: str,\n",
    "    ):\n",
    "        self.unset_many_to_many(\n",
    "            many_to_many_r_type=viewer_subscribe_youtuber_relationship_type,\n",
    "            left_entity_id=viewer_id,\n",
    "            right_entity_id=youtuber_id,\n",
    "        )\n",
    "\n",
    "    def viewer_unsubscribe_channel(\n",
    "        self,\n",
    "        viewer_id: str,\n",
    "        channel_id: str,\n",
    "    ):\n",
    "        self.unset_many_to_many(\n",
    "            many_to_many_r_type=viewer_subscribe_youtuber_relationship_type,\n",
    "            left_entity_id=viewer_id,\n",
    "            right_entity_id=channel_id,\n",
    "        )\n",
    "\n",
    "    def clear_channel(\n",
    "        self,\n",
    "        channel_id: str,\n",
    "    ):\n",
    "        self.clear_many_by_many(\n",
    "            many_to_many_r_type=video_playlist_association_relationship_type,\n",
    "            entity_id=channel_id,\n",
    "            lookup_by_left=False,\n",
    "        )\n",
    "\n",
    "    def clear_playlist(\n",
    "        self,\n",
    "        playlist_id: str,\n",
    "    ):\n",
    "        self.clear_many_by_many(\n",
    "            many_to_many_r_type=video_playlist_association_relationship_type,\n",
    "            entity_id=playlist_id,\n",
    "            lookup_by_left=False,\n",
    "        )\n",
    "\n",
    "    def unsubscribe_all_youtuber(\n",
    "        self,\n",
    "        viewer_id: str,\n",
    "    ):\n",
    "        self.clear_many_by_many(\n",
    "            many_to_many_r_type=viewer_subscribe_youtuber_relationship_type,\n",
    "            entity_id=viewer_id,\n",
    "            lookup_by_left=True,\n",
    "        )\n",
    "\n",
    "    def unsubscribe_all_channel(\n",
    "        self,\n",
    "        viewer_id: str,\n",
    "    ):\n",
    "        self.clear_many_by_many(\n",
    "            many_to_many_r_type=viewer_subscribe_channel_relationship_type,\n",
    "            entity_id=viewer_id,\n",
    "            lookup_by_left=True,\n",
    "        )\n",
    "\n",
    "\n",
    "rs = RelationshipSetting(\n",
    "    main_model=Entity,\n",
    "    entity_types=[\n",
    "        user_entity_type,\n",
    "        video_entity_type,\n",
    "        channel_entity_type,\n",
    "        playlist_entity_type,\n",
    "    ],\n",
    "    one_to_many_relationship_types=[\n",
    "        video_ownership_relationship_type,\n",
    "        channel_ownership_relationship_type,\n",
    "        playlist_ownership_relationship_type,\n",
    "    ],\n",
    "    many_to_many_relationship_types=[\n",
    "        video_channel_association_relationship_type,\n",
    "        video_playlist_association_relationship_type,\n",
    "        viewer_subscribe_youtuber_relationship_type,\n",
    "        viewer_subscribe_channel_relationship_type,\n",
    "    ],\n",
    ")\n"
   ],
   "metadata": {
    "collapsed": false,
    "ExecuteTime": {
     "end_time": "2024-05-04T16:00:59.113325Z",
     "start_time": "2024-05-04T16:00:59.109008Z"
    }
   },
   "execution_count": 6
  },
  {
   "cell_type": "markdown",
   "source": [
    "# Setup Local DynamoDB Mock   "
   ],
   "metadata": {
    "collapsed": false
   }
  },
  {
   "cell_type": "code",
   "outputs": [],
   "source": [
    "import moto\n",
    "from pynamodb.connection import Connection\n",
    "\n",
    "mock_dynamodb = moto.mock_dynamodb()\n",
    "mock_dynamodb.start()\n",
    "conn = Connection()\n",
    "\n",
    "rs.main_model.create_table(wait=True)"
   ],
   "metadata": {
    "collapsed": false,
    "ExecuteTime": {
     "end_time": "2024-05-04T16:00:59.704202Z",
     "start_time": "2024-05-04T16:00:59.388815Z"
    }
   },
   "execution_count": 7
  },
  {
   "cell_type": "markdown",
   "source": [
    "# Create Some Test Data"
   ],
   "metadata": {
    "collapsed": false
   }
  },
  {
   "cell_type": "code",
   "outputs": [],
   "source": [
    "rs.delete_all()"
   ],
   "metadata": {
    "collapsed": false,
    "ExecuteTime": {
     "end_time": "2024-05-04T16:00:59.707110Z",
     "start_time": "2024-05-04T16:00:59.705343Z"
    }
   },
   "execution_count": 8
  },
  {
   "cell_type": "code",
   "outputs": [],
   "source": [
    "u_alice = rs.new_user(id=\"u-1\", name=\"Alice\")\n",
    "u_bob = rs.new_user(id=\"u-2\", name=\"Bob\")\n",
    "u_cathy = rs.new_user(id=\"u-3\", name=\"Cathy\")\n",
    "u_david = rs.new_user(id=\"u-4\", name=\"David\")\n",
    "\n",
    "v_alice_1 = rs.new_video(id=\"v-1-1\", name=\"Alice's Video 1\")\n",
    "rs.set_video_owner(conn=conn, video_id=\"v-1-1\", user_id=\"u-1\")\n",
    "v_alice_2 = rs.new_video(id=\"v-1-2\", name=\"Alice's Video 2\")\n",
    "rs.set_video_owner(conn=conn, video_id=\"v-1-2\", user_id=\"u-1\")\n",
    "\n",
    "v_bob_1 = rs.new_video(id=\"v-2-1\", name=\"Bob's Video 1\")\n",
    "rs.set_video_owner(conn=conn, video_id=\"v-2-1\", user_id=\"u-2\")\n",
    "v_bob_2 = rs.new_video(id=\"v-2-2\", name=\"Bob's Video 2\")\n",
    "rs.set_video_owner(conn=conn, video_id=\"v-2-2\", user_id=\"u-2\")\n",
    "v_bob_3 = rs.new_video(id=\"v-2-3\", name=\"Bob's Video 3\")\n",
    "rs.set_video_owner(conn=conn, video_id=\"v-2-3\", user_id=\"u-2\")\n",
    "v_bob_4 = rs.new_video(id=\"v-2-4\", name=\"Bob's Video 4\")\n",
    "rs.set_video_owner(conn=conn, video_id=\"v-2-4\", user_id=\"u-2\")\n",
    "\n",
    "c_alice_1 = rs.new_channel(id=\"c-1-1\", name=\"Alice's Channel 1\")\n",
    "rs.set_channel_owner(conn=conn, channel_id=\"c-1-1\", user_id=\"u-1\")\n",
    "\n",
    "c_bob_1 = rs.new_channel(id=\"c-2-1\", name=\"Bob's Channel 1\")\n",
    "rs.set_channel_owner(conn=conn, channel_id=\"c-2-1\", user_id=\"u-2\")\n",
    "c_bob_2 = rs.new_channel(id=\"c-2-2\", name=\"Bob's Channel 2\")\n",
    "rs.set_channel_owner(conn=conn, channel_id=\"c-2-2\", user_id=\"u-2\")\n",
    "\n",
    "p_cathy_1 = rs.new_playlist(id=\"p-3-1\", name=\"Cathy's Playlist 1\")\n",
    "rs.set_playlist_owner(conn=conn, playlist_id=\"p-3-1\", user_id=\"u-3\")\n",
    "p_cathy_2 = rs.new_playlist(id=\"p-3-2\", name=\"Cathy's Playlist 2\")\n",
    "rs.set_playlist_owner(conn=conn, playlist_id=\"p-3-2\", user_id=\"u-3\")\n",
    "\n",
    "rs.add_video_to_channel(video_id=\"v-2-1\", channel_id=\"c-2-1\")\n",
    "rs.add_video_to_channel(video_id=\"v-2-2\", channel_id=\"c-2-1\")\n",
    "rs.add_video_to_channel(video_id=\"v-2-3\", channel_id=\"c-2-1\")\n",
    "\n",
    "rs.add_video_to_channel(video_id=\"v-2-2\", channel_id=\"c-2-2\")\n",
    "rs.add_video_to_channel(video_id=\"v-2-3\", channel_id=\"c-2-2\")\n",
    "rs.add_video_to_channel(video_id=\"v-2-4\", channel_id=\"c-2-2\")\n",
    "\n",
    "rs.add_video_to_playlist(video_id=\"v-2-1\", playlist_id=\"p-3-1\")\n",
    "rs.add_video_to_playlist(video_id=\"v-2-2\", playlist_id=\"p-3-1\")\n",
    "rs.add_video_to_playlist(video_id=\"v-2-3\", playlist_id=\"p-3-1\")\n",
    "\n",
    "rs.add_video_to_playlist(video_id=\"v-2-2\", playlist_id=\"p-3-2\")\n",
    "rs.add_video_to_playlist(video_id=\"v-2-3\", playlist_id=\"p-3-2\")\n",
    "rs.add_video_to_playlist(video_id=\"v-2-4\", playlist_id=\"p-3-2\")\n",
    "\n",
    "rs.viewer_subscribe_youtuber(viewer_id=\"u-2\", youtuber_id=\"u-1\")\n",
    "rs.viewer_subscribe_youtuber(viewer_id=\"u-3\", youtuber_id=\"u-1\")\n",
    "rs.viewer_subscribe_youtuber(viewer_id=\"u-4\", youtuber_id=\"u-1\")\n",
    "rs.viewer_subscribe_youtuber(viewer_id=\"u-1\", youtuber_id=\"u-2\")\n",
    "rs.viewer_subscribe_youtuber(viewer_id=\"u-3\", youtuber_id=\"u-2\")\n",
    "rs.viewer_subscribe_youtuber(viewer_id=\"u-4\", youtuber_id=\"u-3\")\n",
    "\n",
    "rs.viewer_subscribe_channel(viewer_id=\"u-1\", channel_id=\"c-2-1\")\n",
    "rs.viewer_subscribe_channel(viewer_id=\"u-1\", channel_id=\"c-2-2\")\n",
    "rs.viewer_subscribe_channel(viewer_id=\"u-2\", channel_id=\"c-1-1\")\n",
    "rs.viewer_subscribe_channel(viewer_id=\"u-3\", channel_id=\"c-1-1\")\n",
    "rs.viewer_subscribe_channel(viewer_id=\"u-3\", channel_id=\"c-2-1\")\n",
    "rs.viewer_subscribe_channel(viewer_id=\"u-4\", channel_id=\"c-2-2\")"
   ],
   "metadata": {
    "collapsed": false,
    "ExecuteTime": {
     "end_time": "2024-05-04T16:00:59.898162Z",
     "start_time": "2024-05-04T16:00:59.895639Z"
    }
   },
   "execution_count": 9
  },
  {
   "cell_type": "markdown",
   "source": [
    "# Declare Some Helper Functions For Testing"
   ],
   "metadata": {
    "collapsed": false
   }
  },
  {
   "cell_type": "code",
   "outputs": [],
   "source": [
    "# declare some helpers\n",
    "def assert_pk(lst: T.Iterable[T_Entity], pks: T.List[str]):\n",
    "    \"\"\"\n",
    "    A helper function to verify a list of items' partition key.\n",
    "    \"\"\"\n",
    "    assert set(x.pk_id for x in lst) == set(pks)\n",
    "\n",
    "\n",
    "def assert_sk(lst: T.Iterable[T_Entity], sks: T.List[str]):\n",
    "    \"\"\"\n",
    "    A helper function to verify a list of items' sort key. Usually used\n",
    "    for lookup in one-to-many and many-to-many relationship.\n",
    "    \"\"\"\n",
    "    assert set(x.sk_id for x in lst) == set(sks)\n",
    "\n",
    "\n",
    "def print_all(lst: T.Iterable[T_Entity]):\n",
    "    for entity in lst:\n",
    "        entity.print_vip_attrs()"
   ],
   "metadata": {
    "collapsed": false,
    "ExecuteTime": {
     "end_time": "2024-05-04T16:01:00.156273Z",
     "start_time": "2024-05-04T16:01:00.151959Z"
    }
   },
   "execution_count": 10
  },
  {
   "cell_type": "code",
   "outputs": [
    {
     "name": "stdout",
     "output_type": "stream",
     "text": [
      "--- Scan entities and relationships ---\n",
      "{'type': 'User', 'pk': 'u-1', 'sk': 'User', 'name': 'Alice'}\n",
      "{'type': 'User', 'pk': 'u-2', 'sk': 'User', 'name': 'Bob'}\n",
      "{'type': 'User', 'pk': 'u-3', 'sk': 'User', 'name': 'Cathy'}\n",
      "{'type': 'User', 'pk': 'u-4', 'sk': 'User', 'name': 'David'}\n",
      "{'type': 'Video', 'pk': 'v-1-1', 'sk': 'Video', 'name': \"Alice's Video 1\"}\n",
      "{'type': 'Video-Ownership', 'pk': 'v-1-1', 'sk': 'u-1'}\n",
      "{'type': 'Video', 'pk': 'v-1-2', 'sk': 'Video', 'name': \"Alice's Video 2\"}\n",
      "{'type': 'Video-Ownership', 'pk': 'v-1-2', 'sk': 'u-1'}\n",
      "{'type': 'Video', 'pk': 'v-2-1', 'sk': 'Video', 'name': \"Bob's Video 1\"}\n",
      "{'type': 'Video-Ownership', 'pk': 'v-2-1', 'sk': 'u-2'}\n",
      "{'type': 'Video', 'pk': 'v-2-2', 'sk': 'Video', 'name': \"Bob's Video 2\"}\n",
      "{'type': 'Video-Ownership', 'pk': 'v-2-2', 'sk': 'u-2'}\n",
      "{'type': 'Video', 'pk': 'v-2-3', 'sk': 'Video', 'name': \"Bob's Video 3\"}\n",
      "{'type': 'Video-Ownership', 'pk': 'v-2-3', 'sk': 'u-2'}\n",
      "{'type': 'Video', 'pk': 'v-2-4', 'sk': 'Video', 'name': \"Bob's Video 4\"}\n",
      "{'type': 'Video-Ownership', 'pk': 'v-2-4', 'sk': 'u-2'}\n",
      "{'type': 'Channel', 'pk': 'c-1-1', 'sk': 'Channel', 'name': \"Alice's Channel 1\"}\n",
      "{'type': 'Channel-Ownership', 'pk': 'c-1-1', 'sk': 'u-1'}\n",
      "{'type': 'Channel', 'pk': 'c-2-1', 'sk': 'Channel', 'name': \"Bob's Channel 1\"}\n",
      "{'type': 'Channel-Ownership', 'pk': 'c-2-1', 'sk': 'u-2'}\n",
      "{'type': 'Channel', 'pk': 'c-2-2', 'sk': 'Channel', 'name': \"Bob's Channel 2\"}\n",
      "{'type': 'Channel-Ownership', 'pk': 'c-2-2', 'sk': 'u-2'}\n",
      "{'type': 'Playlist', 'pk': 'p-3-1', 'sk': 'Playlist', 'name': \"Cathy's Playlist 1\"}\n",
      "{'type': 'Playlist-Ownership', 'pk': 'p-3-1', 'sk': 'u-3'}\n",
      "{'type': 'Playlist', 'pk': 'p-3-2', 'sk': 'Playlist', 'name': \"Cathy's Playlist 2\"}\n",
      "{'type': 'Playlist-Ownership', 'pk': 'p-3-2', 'sk': 'u-3'}\n",
      "{'type': 'Video-Channel-Association', 'pk': 'v-2-1', 'sk': 'c-2-1'}\n",
      "{'type': 'Video-Channel-Association', 'pk': 'v-2-2', 'sk': 'c-2-1'}\n",
      "{'type': 'Video-Channel-Association', 'pk': 'v-2-2', 'sk': 'c-2-2'}\n",
      "{'type': 'Video-Channel-Association', 'pk': 'v-2-3', 'sk': 'c-2-1'}\n",
      "{'type': 'Video-Channel-Association', 'pk': 'v-2-3', 'sk': 'c-2-2'}\n",
      "{'type': 'Video-Channel-Association', 'pk': 'v-2-4', 'sk': 'c-2-2'}\n",
      "{'type': 'Video-Playlist-Association', 'pk': 'v-2-1', 'sk': 'p-3-1'}\n",
      "{'type': 'Video-Playlist-Association', 'pk': 'v-2-2', 'sk': 'p-3-1'}\n",
      "{'type': 'Video-Playlist-Association', 'pk': 'v-2-2', 'sk': 'p-3-2'}\n",
      "{'type': 'Video-Playlist-Association', 'pk': 'v-2-3', 'sk': 'p-3-1'}\n",
      "{'type': 'Video-Playlist-Association', 'pk': 'v-2-3', 'sk': 'p-3-2'}\n",
      "{'type': 'Video-Playlist-Association', 'pk': 'v-2-4', 'sk': 'p-3-2'}\n",
      "{'type': 'Viewer-Subscribe-Youtuber', 'pk': 'u-2', 'sk': 'u-1'}\n",
      "{'type': 'Viewer-Subscribe-Youtuber', 'pk': 'u-3', 'sk': 'u-1'}\n",
      "{'type': 'Viewer-Subscribe-Youtuber', 'pk': 'u-3', 'sk': 'u-2'}\n",
      "{'type': 'Viewer-Subscribe-Youtuber', 'pk': 'u-4', 'sk': 'u-1'}\n",
      "{'type': 'Viewer-Subscribe-Youtuber', 'pk': 'u-4', 'sk': 'u-3'}\n",
      "{'type': 'Viewer-Subscribe-Youtuber', 'pk': 'u-1', 'sk': 'u-2'}\n",
      "{'type': 'Viewer-Subscribe-Channel', 'pk': 'u-1', 'sk': 'c-2-1'}\n",
      "{'type': 'Viewer-Subscribe-Channel', 'pk': 'u-1', 'sk': 'c-2-2'}\n",
      "{'type': 'Viewer-Subscribe-Channel', 'pk': 'u-2', 'sk': 'c-1-1'}\n",
      "{'type': 'Viewer-Subscribe-Channel', 'pk': 'u-3', 'sk': 'c-1-1'}\n",
      "{'type': 'Viewer-Subscribe-Channel', 'pk': 'u-3', 'sk': 'c-2-1'}\n",
      "{'type': 'Viewer-Subscribe-Channel', 'pk': 'u-4', 'sk': 'c-2-2'}\n"
     ]
    }
   ],
   "source": [
    "print(\"--- Scan entities and relationships ---\")\n",
    "res = rs.scan().all()\n",
    "print_all(res)"
   ],
   "metadata": {
    "collapsed": false,
    "ExecuteTime": {
     "end_time": "2024-05-04T16:01:00.336179Z",
     "start_time": "2024-05-04T16:01:00.326316Z"
    }
   },
   "execution_count": 11
  },
  {
   "cell_type": "markdown",
   "source": [
    "# Test Video Ownership Relationship (One to Many)"
   ],
   "metadata": {
    "collapsed": false
   }
  },
  {
   "cell_type": "code",
   "outputs": [
    {
     "name": "stdout",
     "output_type": "stream",
     "text": [
      "--- Alice owned videos ---\n"
     ]
    }
   ],
   "source": [
    "print(\"--- Alice owned videos ---\")\n",
    "res = rs.find_videos_created_by_a_user(user_id=\"u-1\").all()\n",
    "assert_pk(res, [\"v-1-1\", \"v-1-2\"])"
   ],
   "metadata": {
    "collapsed": false,
    "ExecuteTime": {
     "end_time": "2024-05-04T16:01:00.653513Z",
     "start_time": "2024-05-04T16:01:00.650017Z"
    }
   },
   "execution_count": 12
  },
  {
   "cell_type": "code",
   "outputs": [
    {
     "name": "stdout",
     "output_type": "stream",
     "text": [
      "--- Bob owned videos ---\n",
      "{'type': 'Video-Ownership', 'pk': 'v-2-1', 'sk': 'u-2'}\n",
      "{'type': 'Video-Ownership', 'pk': 'v-2-2', 'sk': 'u-2'}\n",
      "{'type': 'Video-Ownership', 'pk': 'v-2-3', 'sk': 'u-2'}\n",
      "{'type': 'Video-Ownership', 'pk': 'v-2-4', 'sk': 'u-2'}\n"
     ]
    }
   ],
   "source": [
    "print(\"--- Bob owned videos ---\")\n",
    "res = rs.find_videos_created_by_a_user(user_id=\"u-2\").all()\n",
    "print_all(res)\n",
    "assert_pk(res, [\"v-2-1\", \"v-2-2\", \"v-2-3\", \"v-2-4\"])"
   ],
   "metadata": {
    "collapsed": false,
    "ExecuteTime": {
     "end_time": "2024-05-04T16:01:00.937443Z",
     "start_time": "2024-05-04T16:01:00.918713Z"
    }
   },
   "execution_count": 13
  },
  {
   "cell_type": "markdown",
   "source": [
    "# Test Channel Ownership Relationship (One to Many)"
   ],
   "metadata": {
    "collapsed": false
   }
  },
  {
   "cell_type": "code",
   "outputs": [
    {
     "name": "stdout",
     "output_type": "stream",
     "text": [
      "--- Alice owned channels ---\n",
      "{'type': 'Channel-Ownership', 'pk': 'c-1-1', 'sk': 'u-1'}\n"
     ]
    }
   ],
   "source": [
    "print(\"--- Alice owned channels ---\")\n",
    "res = rs.find_channels_created_by_a_user(user_id=\"u-1\").all()\n",
    "print_all(res)\n",
    "assert_pk(res, [\"c-1-1\"])"
   ],
   "metadata": {
    "collapsed": false,
    "ExecuteTime": {
     "end_time": "2024-05-04T16:01:01.220779Z",
     "start_time": "2024-05-04T16:01:01.216420Z"
    }
   },
   "execution_count": 14
  },
  {
   "cell_type": "code",
   "outputs": [
    {
     "name": "stdout",
     "output_type": "stream",
     "text": [
      "--- Bob owned channels ---\n",
      "{'type': 'Channel-Ownership', 'pk': 'c-2-1', 'sk': 'u-2'}\n",
      "{'type': 'Channel-Ownership', 'pk': 'c-2-2', 'sk': 'u-2'}\n"
     ]
    }
   ],
   "source": [
    "print(\"--- Bob owned channels ---\")\n",
    "res = rs.find_channels_created_by_a_user(user_id=\"u-2\").all()\n",
    "print_all(res)\n",
    "assert_pk(res, [\"c-2-1\", \"c-2-2\"])"
   ],
   "metadata": {
    "collapsed": false,
    "ExecuteTime": {
     "end_time": "2024-05-04T16:01:01.377972Z",
     "start_time": "2024-05-04T16:01:01.373098Z"
    }
   },
   "execution_count": 15
  },
  {
   "cell_type": "code",
   "outputs": [
    {
     "name": "stdout",
     "output_type": "stream",
     "text": [
      "--- Cathy owned playlists ---\n",
      "{'type': 'Playlist-Ownership', 'pk': 'p-3-1', 'sk': 'u-3'}\n",
      "{'type': 'Playlist-Ownership', 'pk': 'p-3-2', 'sk': 'u-3'}\n"
     ]
    }
   ],
   "source": [
    "print(\"--- Cathy owned playlists ---\")\n",
    "res = rs.find_playlists_created_by_a_user(user_id=\"u-3\").all()\n",
    "print_all(res)\n",
    "assert_pk(res, [\"p-3-1\", \"p-3-2\"])"
   ],
   "metadata": {
    "collapsed": false,
    "ExecuteTime": {
     "end_time": "2024-05-04T16:01:01.524251Z",
     "start_time": "2024-05-04T16:01:01.519120Z"
    }
   },
   "execution_count": 16
  },
  {
   "cell_type": "markdown",
   "source": [
    "# Test Channel and Video Relationship (Many to Many)"
   ],
   "metadata": {
    "collapsed": false
   }
  },
  {
   "cell_type": "code",
   "outputs": [
    {
     "name": "stdout",
     "output_type": "stream",
     "text": [
      "--- Videos in Bob's Channel 1 ---\n",
      "{'type': 'Video-Channel-Association', 'pk': 'v-2-1', 'sk': 'c-2-1'}\n",
      "{'type': 'Video-Channel-Association', 'pk': 'v-2-2', 'sk': 'c-2-1'}\n",
      "{'type': 'Video-Channel-Association', 'pk': 'v-2-3', 'sk': 'c-2-1'}\n"
     ]
    }
   ],
   "source": [
    "print(\"--- Videos in Bob's Channel 1 ---\")\n",
    "res = rs.find_videos_in_channel(channel_id=\"c-2-1\").all()\n",
    "print_all(res)\n",
    "assert_pk(res, [\"v-2-1\", \"v-2-2\", \"v-2-3\"])"
   ],
   "metadata": {
    "collapsed": false,
    "ExecuteTime": {
     "end_time": "2024-05-04T16:01:01.830676Z",
     "start_time": "2024-05-04T16:01:01.826561Z"
    }
   },
   "execution_count": 17
  },
  {
   "cell_type": "code",
   "outputs": [
    {
     "name": "stdout",
     "output_type": "stream",
     "text": [
      "--- Videos in Bob's Channel 2 ---\n",
      "{'type': 'Video-Channel-Association', 'pk': 'v-2-2', 'sk': 'c-2-2'}\n",
      "{'type': 'Video-Channel-Association', 'pk': 'v-2-3', 'sk': 'c-2-2'}\n",
      "{'type': 'Video-Channel-Association', 'pk': 'v-2-4', 'sk': 'c-2-2'}\n"
     ]
    }
   ],
   "source": [
    "print(\"--- Videos in Bob's Channel 2 ---\")\n",
    "res = rs.find_videos_in_channel(channel_id=\"c-2-2\").all()\n",
    "print_all(res)\n",
    "assert_pk(res, [\"v-2-2\", \"v-2-3\", \"v-2-4\"])"
   ],
   "metadata": {
    "collapsed": false,
    "ExecuteTime": {
     "end_time": "2024-05-04T16:01:01.987034Z",
     "start_time": "2024-05-04T16:01:01.983628Z"
    }
   },
   "execution_count": 18
  },
  {
   "cell_type": "code",
   "outputs": [
    {
     "name": "stdout",
     "output_type": "stream",
     "text": [
      "--- Channels that has Bob's Video 1 ---\n",
      "{'type': 'Video-Channel-Association', 'pk': 'v-2-1', 'sk': 'c-2-1'}\n"
     ]
    }
   ],
   "source": [
    "print(\"--- Channels that has Bob's Video 1 ---\")\n",
    "res = rs.find_channels_that_has_video(video_id=\"v-2-1\").all()\n",
    "print_all(res)\n",
    "assert_sk(res, [\"c-2-1\"])"
   ],
   "metadata": {
    "collapsed": false,
    "ExecuteTime": {
     "end_time": "2024-05-04T16:01:02.144592Z",
     "start_time": "2024-05-04T16:01:02.140927Z"
    }
   },
   "execution_count": 19
  },
  {
   "cell_type": "code",
   "outputs": [
    {
     "name": "stdout",
     "output_type": "stream",
     "text": [
      "--- Channels that has Bob's Video 2 ---\n",
      "{'type': 'Video-Channel-Association', 'pk': 'v-2-2', 'sk': 'c-2-1'}\n",
      "{'type': 'Video-Channel-Association', 'pk': 'v-2-2', 'sk': 'c-2-2'}\n"
     ]
    }
   ],
   "source": [
    "print(\"--- Channels that has Bob's Video 2 ---\")\n",
    "res = rs.find_channels_that_has_video(video_id=\"v-2-2\").all()\n",
    "print_all(res)\n",
    "assert_sk(res, [\"c-2-1\", \"c-2-2\"])"
   ],
   "metadata": {
    "collapsed": false,
    "ExecuteTime": {
     "end_time": "2024-05-04T16:01:02.301156Z",
     "start_time": "2024-05-04T16:01:02.297457Z"
    }
   },
   "execution_count": 20
  },
  {
   "cell_type": "code",
   "outputs": [
    {
     "name": "stdout",
     "output_type": "stream",
     "text": [
      "--- Channels that has Bob's Video 3 ---\n",
      "{'type': 'Video-Channel-Association', 'pk': 'v-2-3', 'sk': 'c-2-1'}\n",
      "{'type': 'Video-Channel-Association', 'pk': 'v-2-3', 'sk': 'c-2-2'}\n"
     ]
    }
   ],
   "source": [
    "print(\"--- Channels that has Bob's Video 3 ---\")\n",
    "res = rs.find_channels_that_has_video(video_id=\"v-2-3\").all()\n",
    "print_all(res)\n",
    "assert_sk(res, [\"c-2-1\", \"c-2-2\"])"
   ],
   "metadata": {
    "collapsed": false,
    "ExecuteTime": {
     "end_time": "2024-05-04T16:01:02.452629Z",
     "start_time": "2024-05-04T16:01:02.446566Z"
    }
   },
   "execution_count": 21
  },
  {
   "cell_type": "code",
   "outputs": [
    {
     "name": "stdout",
     "output_type": "stream",
     "text": [
      "--- Channels that has Bob's Video 4 ---\n",
      "{'type': 'Video-Channel-Association', 'pk': 'v-2-4', 'sk': 'c-2-2'}\n"
     ]
    }
   ],
   "source": [
    "print(\"--- Channels that has Bob's Video 4 ---\")\n",
    "res = rs.find_channels_that_has_video(video_id=\"v-2-4\").all()\n",
    "print_all(res)\n",
    "assert_sk(res, [\"c-2-2\"])"
   ],
   "metadata": {
    "collapsed": false,
    "ExecuteTime": {
     "end_time": "2024-05-04T16:01:02.622630Z",
     "start_time": "2024-05-04T16:01:02.617333Z"
    }
   },
   "execution_count": 22
  },
  {
   "cell_type": "markdown",
   "source": [
    "# Test Playlist and Video Relationship (Many to Many)"
   ],
   "metadata": {
    "collapsed": false
   }
  },
  {
   "cell_type": "code",
   "outputs": [
    {
     "name": "stdout",
     "output_type": "stream",
     "text": [
      "--- Videos in Cathy's Playlist 1 ---\n",
      "{'type': 'Video-Playlist-Association', 'pk': 'v-2-1', 'sk': 'p-3-1'}\n",
      "{'type': 'Video-Playlist-Association', 'pk': 'v-2-2', 'sk': 'p-3-1'}\n",
      "{'type': 'Video-Playlist-Association', 'pk': 'v-2-3', 'sk': 'p-3-1'}\n"
     ]
    }
   ],
   "source": [
    "print(\"--- Videos in Cathy's Playlist 1 ---\")\n",
    "res = rs.find_videos_in_playlist(playlist_id=\"p-3-1\").all()\n",
    "print_all(res)\n",
    "assert_pk(res, [\"v-2-1\", \"v-2-2\", \"v-2-3\"])"
   ],
   "metadata": {
    "collapsed": false,
    "ExecuteTime": {
     "end_time": "2024-05-04T16:01:02.923779Z",
     "start_time": "2024-05-04T16:01:02.920417Z"
    }
   },
   "execution_count": 23
  },
  {
   "cell_type": "code",
   "outputs": [
    {
     "name": "stdout",
     "output_type": "stream",
     "text": [
      "--- Videos in Cathy's Playlist 2 ---\n",
      "{'type': 'Video-Playlist-Association', 'pk': 'v-2-2', 'sk': 'p-3-2'}\n",
      "{'type': 'Video-Playlist-Association', 'pk': 'v-2-3', 'sk': 'p-3-2'}\n",
      "{'type': 'Video-Playlist-Association', 'pk': 'v-2-4', 'sk': 'p-3-2'}\n"
     ]
    }
   ],
   "source": [
    "print(\"--- Videos in Cathy's Playlist 2 ---\")\n",
    "res = rs.find_videos_in_playlist(playlist_id=\"p-3-2\").all()\n",
    "print_all(res)\n",
    "assert_pk(res, [\"v-2-2\", \"v-2-3\", \"v-2-4\"])"
   ],
   "metadata": {
    "collapsed": false,
    "ExecuteTime": {
     "end_time": "2024-05-04T16:01:03.074060Z",
     "start_time": "2024-05-04T16:01:03.070903Z"
    }
   },
   "execution_count": 24
  },
  {
   "cell_type": "code",
   "outputs": [
    {
     "name": "stdout",
     "output_type": "stream",
     "text": [
      "--- Playlist that has Bob's Video 1 ---\n",
      "{'type': 'Video-Playlist-Association', 'pk': 'v-2-1', 'sk': 'p-3-1'}\n"
     ]
    }
   ],
   "source": [
    "print(\"--- Playlist that has Bob's Video 1 ---\")\n",
    "res = rs.find_playlists_that_has_video(video_id=\"v-2-1\").all()\n",
    "print_all(res)\n",
    "assert_sk(res, [\"p-3-1\"])"
   ],
   "metadata": {
    "collapsed": false,
    "ExecuteTime": {
     "end_time": "2024-05-04T16:01:03.233655Z",
     "start_time": "2024-05-04T16:01:03.229973Z"
    }
   },
   "execution_count": 25
  },
  {
   "cell_type": "code",
   "outputs": [
    {
     "name": "stdout",
     "output_type": "stream",
     "text": [
      "--- Playlist that has Bob's Video 2 ---\n",
      "{'type': 'Video-Playlist-Association', 'pk': 'v-2-2', 'sk': 'p-3-1'}\n",
      "{'type': 'Video-Playlist-Association', 'pk': 'v-2-2', 'sk': 'p-3-2'}\n"
     ]
    }
   ],
   "source": [
    "print(\"--- Playlist that has Bob's Video 2 ---\")\n",
    "res = rs.find_playlists_that_has_video(video_id=\"v-2-2\").all()\n",
    "print_all(res)\n",
    "assert_sk(res, [\"p-3-1\", \"p-3-2\"])"
   ],
   "metadata": {
    "collapsed": false,
    "ExecuteTime": {
     "end_time": "2024-05-04T16:01:03.399605Z",
     "start_time": "2024-05-04T16:01:03.396109Z"
    }
   },
   "execution_count": 26
  },
  {
   "cell_type": "code",
   "outputs": [
    {
     "name": "stdout",
     "output_type": "stream",
     "text": [
      "--- Playlist that has Bob's Video 3 ---\n",
      "{'type': 'Video-Playlist-Association', 'pk': 'v-2-3', 'sk': 'p-3-1'}\n",
      "{'type': 'Video-Playlist-Association', 'pk': 'v-2-3', 'sk': 'p-3-2'}\n"
     ]
    }
   ],
   "source": [
    "print(\"--- Playlist that has Bob's Video 3 ---\")\n",
    "res = rs.find_playlists_that_has_video(video_id=\"v-2-3\").all()\n",
    "print_all(res)\n",
    "assert_sk(res, [\"p-3-1\", \"p-3-2\"])"
   ],
   "metadata": {
    "collapsed": false,
    "ExecuteTime": {
     "end_time": "2024-05-04T16:01:03.570096Z",
     "start_time": "2024-05-04T16:01:03.564784Z"
    }
   },
   "execution_count": 27
  },
  {
   "cell_type": "code",
   "outputs": [
    {
     "name": "stdout",
     "output_type": "stream",
     "text": [
      "--- Playlist that has Bob's Video 4 ---\n",
      "{'type': 'Video-Playlist-Association', 'pk': 'v-2-4', 'sk': 'p-3-2'}\n"
     ]
    }
   ],
   "source": [
    "print(\"--- Playlist that has Bob's Video 4 ---\")\n",
    "res = rs.find_playlists_that_has_video(video_id=\"v-2-4\").all()\n",
    "print_all(res)\n",
    "assert_sk(res, [\"p-3-2\"])"
   ],
   "metadata": {
    "collapsed": false,
    "ExecuteTime": {
     "end_time": "2024-05-04T16:01:03.733085Z",
     "start_time": "2024-05-04T16:01:03.727826Z"
    }
   },
   "execution_count": 28
  },
  {
   "cell_type": "markdown",
   "source": [
    "# Test Youtuber Subscription Relationship (Many to Many)"
   ],
   "metadata": {
    "collapsed": false
   }
  },
  {
   "cell_type": "code",
   "outputs": [
    {
     "name": "stdout",
     "output_type": "stream",
     "text": [
      "--- Users who subscribes Alice ---\n",
      "{'type': 'Viewer-Subscribe-Youtuber', 'pk': 'u-2', 'sk': 'u-1'}\n",
      "{'type': 'Viewer-Subscribe-Youtuber', 'pk': 'u-3', 'sk': 'u-1'}\n",
      "{'type': 'Viewer-Subscribe-Youtuber', 'pk': 'u-4', 'sk': 'u-1'}\n"
     ]
    }
   ],
   "source": [
    "print(\"--- Users who subscribes Alice ---\")\n",
    "res = rs.find_subscribers_for_youtuber(youtuber_id=\"u-1\").all()\n",
    "print_all(res)\n",
    "assert_pk(res, [\"u-2\", \"u-3\", \"u-4\"])"
   ],
   "metadata": {
    "collapsed": false,
    "ExecuteTime": {
     "end_time": "2024-05-04T16:01:04.046283Z",
     "start_time": "2024-05-04T16:01:04.042304Z"
    }
   },
   "execution_count": 29
  },
  {
   "cell_type": "code",
   "outputs": [
    {
     "name": "stdout",
     "output_type": "stream",
     "text": [
      "--- Users who subscribes Bob ---\n",
      "{'type': 'Viewer-Subscribe-Youtuber', 'pk': 'u-3', 'sk': 'u-2'}\n",
      "{'type': 'Viewer-Subscribe-Youtuber', 'pk': 'u-1', 'sk': 'u-2'}\n"
     ]
    }
   ],
   "source": [
    "print(\"--- Users who subscribes Bob ---\")\n",
    "res = rs.find_subscribers_for_youtuber(youtuber_id=\"u-2\").all()\n",
    "print_all(res)\n",
    "assert_pk(res, [\"u-1\", \"u-3\"])"
   ],
   "metadata": {
    "collapsed": false,
    "ExecuteTime": {
     "end_time": "2024-05-04T16:01:04.212318Z",
     "start_time": "2024-05-04T16:01:04.206608Z"
    }
   },
   "execution_count": 30
  },
  {
   "cell_type": "code",
   "outputs": [
    {
     "name": "stdout",
     "output_type": "stream",
     "text": [
      "--- Users who subscribes Cathy ---\n",
      "{'type': 'Viewer-Subscribe-Youtuber', 'pk': 'u-4', 'sk': 'u-3'}\n"
     ]
    }
   ],
   "source": [
    "print(\"--- Users who subscribes Cathy ---\")\n",
    "res = rs.find_subscribers_for_youtuber(youtuber_id=\"u-3\").all()\n",
    "print_all(res)\n",
    "assert_pk(res, [\"u-4\"])"
   ],
   "metadata": {
    "collapsed": false,
    "ExecuteTime": {
     "end_time": "2024-05-04T16:01:04.384478Z",
     "start_time": "2024-05-04T16:01:04.378077Z"
    }
   },
   "execution_count": 31
  },
  {
   "cell_type": "code",
   "outputs": [
    {
     "name": "stdout",
     "output_type": "stream",
     "text": [
      "--- Users who subscribes David ---\n"
     ]
    }
   ],
   "source": [
    "print(\"--- Users who subscribes David ---\")\n",
    "res = rs.find_subscribers_for_youtuber(youtuber_id=\"u-4\").all()\n",
    "print_all(res)\n",
    "assert_pk(res, [])"
   ],
   "metadata": {
    "collapsed": false,
    "ExecuteTime": {
     "end_time": "2024-05-04T16:01:04.535071Z",
     "start_time": "2024-05-04T16:01:04.529418Z"
    }
   },
   "execution_count": 32
  },
  {
   "cell_type": "code",
   "outputs": [
    {
     "name": "stdout",
     "output_type": "stream",
     "text": [
      "--- Alice subscribed who ---\n",
      "{'type': 'Viewer-Subscribe-Youtuber', 'pk': 'u-1', 'sk': 'u-2'}\n"
     ]
    }
   ],
   "source": [
    "print(\"--- Alice subscribed who ---\")\n",
    "res = rs.find_subscribed_youtubers(user_id=\"u-1\").all()\n",
    "print_all(res)\n",
    "assert_sk(res, [\"u-2\"])"
   ],
   "metadata": {
    "collapsed": false,
    "ExecuteTime": {
     "end_time": "2024-05-04T16:01:04.696800Z",
     "start_time": "2024-05-04T16:01:04.691731Z"
    }
   },
   "execution_count": 33
  },
  {
   "cell_type": "code",
   "outputs": [
    {
     "name": "stdout",
     "output_type": "stream",
     "text": [
      "--- Bob subscribed who ---\n",
      "{'type': 'Viewer-Subscribe-Youtuber', 'pk': 'u-2', 'sk': 'u-1'}\n"
     ]
    }
   ],
   "source": [
    "print(\"--- Bob subscribed who ---\")\n",
    "res = rs.find_subscribed_youtubers(user_id=\"u-2\").all()\n",
    "print_all(res)\n",
    "assert_sk(res, [\"u-1\"])"
   ],
   "metadata": {
    "collapsed": false,
    "ExecuteTime": {
     "end_time": "2024-05-04T16:01:04.860328Z",
     "start_time": "2024-05-04T16:01:04.856062Z"
    }
   },
   "execution_count": 34
  },
  {
   "cell_type": "code",
   "outputs": [
    {
     "name": "stdout",
     "output_type": "stream",
     "text": [
      "--- Cathy subscribed who ---\n",
      "{'type': 'Viewer-Subscribe-Youtuber', 'pk': 'u-3', 'sk': 'u-1'}\n",
      "{'type': 'Viewer-Subscribe-Youtuber', 'pk': 'u-3', 'sk': 'u-2'}\n"
     ]
    }
   ],
   "source": [
    "print(\"--- Cathy subscribed who ---\")\n",
    "res = rs.find_subscribed_youtubers(user_id=\"u-3\").all()\n",
    "print_all(res)\n",
    "assert_sk(res, [\"u-1\", \"u-2\"])"
   ],
   "metadata": {
    "collapsed": false,
    "ExecuteTime": {
     "end_time": "2024-05-04T16:01:05.038255Z",
     "start_time": "2024-05-04T16:01:05.033402Z"
    }
   },
   "execution_count": 35
  },
  {
   "cell_type": "code",
   "outputs": [
    {
     "name": "stdout",
     "output_type": "stream",
     "text": [
      "--- David subscribed who ---\n",
      "{'type': 'Viewer-Subscribe-Youtuber', 'pk': 'u-4', 'sk': 'u-1'}\n",
      "{'type': 'Viewer-Subscribe-Youtuber', 'pk': 'u-4', 'sk': 'u-3'}\n"
     ]
    }
   ],
   "source": [
    "print(\"--- David subscribed who ---\")\n",
    "res = rs.find_subscribed_youtubers(user_id=\"u-4\").all()\n",
    "print_all(res)\n",
    "assert_sk(res, [\"u-1\", \"u-3\"])"
   ],
   "metadata": {
    "collapsed": false,
    "ExecuteTime": {
     "end_time": "2024-05-04T16:01:05.211489Z",
     "start_time": "2024-05-04T16:01:05.207993Z"
    }
   },
   "execution_count": 36
  },
  {
   "cell_type": "markdown",
   "source": [
    "# Test Channel Subscription Relationship (Many to Many)"
   ],
   "metadata": {
    "collapsed": false
   }
  },
  {
   "cell_type": "code",
   "outputs": [
    {
     "name": "stdout",
     "output_type": "stream",
     "text": [
      "--- Users who subscribes Alice' Channel 1 ---\n",
      "{'type': 'Viewer-Subscribe-Channel', 'pk': 'u-2', 'sk': 'c-1-1'}\n",
      "{'type': 'Viewer-Subscribe-Channel', 'pk': 'u-3', 'sk': 'c-1-1'}\n"
     ]
    }
   ],
   "source": [
    "print(\"--- Users who subscribes Alice' Channel 1 ---\")\n",
    "res = rs.find_subscribers_for_channel(channel_id=\"c-1-1\").all()\n",
    "print_all(res)\n",
    "assert_pk(res, [\"u-2\", \"u-3\"])"
   ],
   "metadata": {
    "collapsed": false,
    "ExecuteTime": {
     "end_time": "2024-05-04T16:01:05.570492Z",
     "start_time": "2024-05-04T16:01:05.565889Z"
    }
   },
   "execution_count": 37
  },
  {
   "cell_type": "code",
   "outputs": [
    {
     "name": "stdout",
     "output_type": "stream",
     "text": [
      "--- Users who subscribes Bob' Channel 1 ---\n",
      "{'type': 'Viewer-Subscribe-Channel', 'pk': 'u-1', 'sk': 'c-2-1'}\n",
      "{'type': 'Viewer-Subscribe-Channel', 'pk': 'u-3', 'sk': 'c-2-1'}\n"
     ]
    }
   ],
   "source": [
    "print(\"--- Users who subscribes Bob' Channel 1 ---\")\n",
    "res = rs.find_subscribers_for_channel(channel_id=\"c-2-1\").all()\n",
    "print_all(res)\n",
    "assert_pk(res, [\"u-1\", \"u-3\"])"
   ],
   "metadata": {
    "collapsed": false,
    "ExecuteTime": {
     "end_time": "2024-05-04T16:01:06.068801Z",
     "start_time": "2024-05-04T16:01:06.063336Z"
    }
   },
   "execution_count": 38
  },
  {
   "cell_type": "code",
   "outputs": [
    {
     "name": "stdout",
     "output_type": "stream",
     "text": [
      "--- Users who subscribes Bob' Channel 2 ---\n",
      "{'type': 'Viewer-Subscribe-Channel', 'pk': 'u-1', 'sk': 'c-2-2'}\n",
      "{'type': 'Viewer-Subscribe-Channel', 'pk': 'u-4', 'sk': 'c-2-2'}\n"
     ]
    }
   ],
   "source": [
    "print(\"--- Users who subscribes Bob' Channel 2 ---\")\n",
    "res = rs.find_subscribers_for_channel(channel_id=\"c-2-2\").all()\n",
    "print_all(res)\n",
    "assert_pk(res, [\"u-1\", \"u-4\"])"
   ],
   "metadata": {
    "collapsed": false,
    "ExecuteTime": {
     "end_time": "2024-05-04T16:01:06.374869Z",
     "start_time": "2024-05-04T16:01:06.371012Z"
    }
   },
   "execution_count": 39
  },
  {
   "cell_type": "code",
   "outputs": [
    {
     "name": "stdout",
     "output_type": "stream",
     "text": [
      "--- Alice subscribed channels ---\n",
      "{'type': 'Viewer-Subscribe-Channel', 'pk': 'u-1', 'sk': 'c-2-1'}\n",
      "{'type': 'Viewer-Subscribe-Channel', 'pk': 'u-1', 'sk': 'c-2-2'}\n"
     ]
    }
   ],
   "source": [
    "print(\"--- Alice subscribed channels ---\")\n",
    "res = rs.find_subscribed_channels(user_id=\"u-1\").all()\n",
    "print_all(res)\n",
    "assert_sk(res, [\"c-2-1\", \"c-2-2\"])"
   ],
   "metadata": {
    "collapsed": false,
    "ExecuteTime": {
     "end_time": "2024-05-04T16:01:06.735304Z",
     "start_time": "2024-05-04T16:01:06.727048Z"
    }
   },
   "execution_count": 40
  },
  {
   "cell_type": "code",
   "outputs": [
    {
     "name": "stdout",
     "output_type": "stream",
     "text": [
      "--- Bob subscribed channels ---\n",
      "{'type': 'Viewer-Subscribe-Channel', 'pk': 'u-2', 'sk': 'c-1-1'}\n"
     ]
    }
   ],
   "source": [
    "print(\"--- Bob subscribed channels ---\")\n",
    "res = rs.find_subscribed_channels(user_id=\"u-2\").all()\n",
    "print_all(res)\n",
    "assert_sk(res, [\"c-1-1\"])"
   ],
   "metadata": {
    "collapsed": false,
    "ExecuteTime": {
     "end_time": "2024-05-04T16:01:07.114258Z",
     "start_time": "2024-05-04T16:01:07.111155Z"
    }
   },
   "execution_count": 41
  },
  {
   "cell_type": "code",
   "outputs": [
    {
     "name": "stdout",
     "output_type": "stream",
     "text": [
      "--- Cathy subscribed channels ---\n",
      "{'type': 'Viewer-Subscribe-Channel', 'pk': 'u-3', 'sk': 'c-1-1'}\n",
      "{'type': 'Viewer-Subscribe-Channel', 'pk': 'u-3', 'sk': 'c-2-1'}\n"
     ]
    }
   ],
   "source": [
    "print(\"--- Cathy subscribed channels ---\")\n",
    "res = rs.find_subscribed_channels(user_id=\"u-3\").all()\n",
    "print_all(res)\n",
    "assert_sk(res, [\"c-1-1\", \"c-2-1\"])"
   ],
   "metadata": {
    "collapsed": false,
    "ExecuteTime": {
     "end_time": "2024-05-04T16:01:07.505112Z",
     "start_time": "2024-05-04T16:01:07.499016Z"
    }
   },
   "execution_count": 42
  },
  {
   "cell_type": "code",
   "outputs": [
    {
     "name": "stdout",
     "output_type": "stream",
     "text": [
      "--- David subscribed channels ---\n",
      "{'type': 'Viewer-Subscribe-Channel', 'pk': 'u-4', 'sk': 'c-2-2'}\n"
     ]
    }
   ],
   "source": [
    "print(\"--- David subscribed channels ---\")\n",
    "res = rs.find_subscribed_channels(user_id=\"u-4\").all()\n",
    "print_all(res)\n",
    "assert_sk(res, [\"c-2-2\"])"
   ],
   "metadata": {
    "collapsed": false,
    "ExecuteTime": {
     "end_time": "2024-05-04T16:01:07.880517Z",
     "start_time": "2024-05-04T16:01:07.876899Z"
    }
   },
   "execution_count": 43
  },
  {
   "cell_type": "code",
   "outputs": [],
   "source": [],
   "metadata": {
    "collapsed": false
   }
  }
 ],
 "metadata": {
  "kernelspec": {
   "display_name": "Python 3",
   "language": "python",
   "name": "python3"
  },
  "language_info": {
   "codemirror_mode": {
    "name": "ipython",
    "version": 2
   },
   "file_extension": ".py",
   "mimetype": "text/x-python",
   "name": "python",
   "nbconvert_exporter": "python",
   "pygments_lexer": "ipython2",
   "version": "2.7.6"
  }
 },
 "nbformat": 4,
 "nbformat_minor": 0
}

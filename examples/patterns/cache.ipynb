{
 "cells": [
  {
   "cell_type": "markdown",
   "source": [
    "# Use DynamoDB as a Cache Backend\n",
    "\n",
    "NOTE: this solution is based on [pynamodb_mate](https://github.com/MacHu-GWU/pynamodb_mate-project) Python library.\n",
    "\n",
    "A lots of developer love Redis. However, redis is not a serverless solution, and you need to manage the server (or cluster). **DynamoDB naturally is a serverless, distributive, Key-Value database that has very high read / write throughput. It is a good choice to use DynamoDB as a cache without technique overhead**.\n",
    "\n",
    "⭐ Benefit:\n",
    "\n",
    "- There's no server to manage.\n",
    "- DynamoDB has a latency around 20ms per request.\n",
    "- DynamoDB cache backend can be created in 5 seconds.\n",
    "- DynamoDB has pay-as-you-go pricing model, you only pay for what you use.\n",
    "- DynamoDB automatically scales up and down to adapt your traffic.\n",
    "- Unlike other local cache solutions, it is on cloud and has access management out-of-the-box.\n"
   ],
   "metadata": {
    "collapsed": false,
    "pycharm": {
     "name": "#%% md\n"
    }
   }
  },
  {
   "cell_type": "markdown",
   "source": [
    "## Declare a Cache Backend\n",
    "\n",
    "Cache is nothing but just a key-value store. It uses binary as the storage protocol to store your data. You have to explicitly tell the cache how you convert your data to binary or how you recover your data from binary."
   ],
   "metadata": {
    "collapsed": false,
    "pycharm": {
     "name": "#%% md\n"
    }
   }
  },
  {
   "cell_type": "code",
   "execution_count": 14,
   "outputs": [],
   "source": [
    "import dataclasses\n",
    "import time\n",
    "import pickle\n",
    "import pynamodb_mate as pm"
   ],
   "metadata": {
    "collapsed": false,
    "pycharm": {
     "name": "#%%\n"
    }
   }
  },
  {
   "cell_type": "code",
   "execution_count": 4,
   "outputs": [],
   "source": [
    "# assume that this is your data\n",
    "@dataclasses.dataclass\n",
    "class PersonProfile:\n",
    "    name: str\n",
    "    ssn: str\n",
    "\n",
    "# pm.patterns.cache.DynamoDBBackend[PersonProfile] tells the cache that your data type is PersonProfile\n",
    "# so you will have type hint automatically\n",
    "class MyCache(pm.patterns.cache.DynamoDBBackend[PersonProfile]):\n",
    "    def serialize(self, value: PersonProfile) -> bytes:\n",
    "        return pickle.dumps(value)\n",
    "\n",
    "    def deserialize(self, value: bytes) -> PersonProfile:\n",
    "        return pickle.loads(value)\n",
    "\n",
    "cache = MyCache(table_name=\"pynamodb-example-cache\")"
   ],
   "metadata": {
    "collapsed": false,
    "pycharm": {
     "name": "#%%\n"
    }
   }
  },
  {
   "cell_type": "markdown",
   "source": [
    "**THAT's IT**, by default it uses pay as you go pricing model.\n",
    "\n",
    "## Use ``Cache.set`` and ``Cache.get``"
   ],
   "metadata": {
    "collapsed": false,
    "pycharm": {
     "name": "#%% md\n"
    }
   }
  },
  {
   "cell_type": "code",
   "execution_count": 11,
   "outputs": [
    {
     "name": "stdout",
     "output_type": "stream",
     "text": [
      "PersonProfile(name='Alice', ssn='123-45-6789')\n"
     ]
    }
   ],
   "source": [
    "key = \"alice\"\n",
    "\n",
    "# cache not hit\n",
    "print(cache.get(key))"
   ],
   "metadata": {
    "collapsed": false,
    "pycharm": {
     "name": "#%%\n"
    }
   }
  },
  {
   "cell_type": "code",
   "execution_count": 12,
   "outputs": [],
   "source": [
    "cache.set(key, PersonProfile(name=\"Alice\", ssn=\"123-45-6789\"))"
   ],
   "metadata": {
    "collapsed": false,
    "pycharm": {
     "name": "#%%\n"
    }
   }
  },
  {
   "cell_type": "code",
   "execution_count": 13,
   "outputs": [
    {
     "data": {
      "text/plain": "PersonProfile(name='Alice', ssn='123-45-6789')"
     },
     "execution_count": 13,
     "metadata": {},
     "output_type": "execute_result"
    }
   ],
   "source": [
    "cache.get(key)"
   ],
   "metadata": {
    "collapsed": false,
    "pycharm": {
     "name": "#%%\n"
    }
   }
  },
  {
   "cell_type": "markdown",
   "source": [
    "## Use Time-to-live (TTL)"
   ],
   "metadata": {
    "collapsed": false,
    "pycharm": {
     "name": "#%% md\n"
    }
   }
  },
  {
   "cell_type": "code",
   "execution_count": 15,
   "outputs": [
    {
     "name": "stdout",
     "output_type": "stream",
     "text": [
      "we try to get the value immediately, the cache should be hit:\n",
      "PersonProfile(name='Bob', ssn='123-45-6789')\n",
      "after wait for 2 seconds, the cache should be expired:\n",
      "None\n"
     ]
    }
   ],
   "source": [
    "key = \"bob\"\n",
    "\n",
    "# set the key-value with TTL\n",
    "cache.set(key, PersonProfile(name=\"Bob\", ssn=\"123-45-6789\"), expire=1)\n",
    "\n",
    "print(\"we try to get the value immediately, the cache should be hit:\")\n",
    "print(cache.get(key))\n",
    "\n",
    "print(\"after wait for 2 seconds, the cache should be expired:\")\n",
    "time.sleep(2)\n",
    "print(cache.get(key))"
   ],
   "metadata": {
    "collapsed": false,
    "pycharm": {
     "name": "#%%\n"
    }
   }
  },
  {
   "cell_type": "code",
   "execution_count": null,
   "outputs": [],
   "source": [],
   "metadata": {
    "collapsed": false,
    "pycharm": {
     "name": "#%%\n"
    }
   }
  }
 ],
 "metadata": {
  "kernelspec": {
   "display_name": "Python 3",
   "language": "python",
   "name": "python3"
  },
  "language_info": {
   "codemirror_mode": {
    "name": "ipython",
    "version": 2
   },
   "file_extension": ".py",
   "mimetype": "text/x-python",
   "name": "python",
   "nbconvert_exporter": "python",
   "pygments_lexer": "ipython2",
   "version": "2.7.6"
  }
 },
 "nbformat": 4,
 "nbformat_minor": 0
}
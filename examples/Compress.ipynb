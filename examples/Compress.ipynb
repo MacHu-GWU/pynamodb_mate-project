{
 "cells": [
  {
   "cell_type": "markdown",
   "source": [
    "# Compressed Attribute\n",
    "\n",
    "This feature can automatically compress the data before it is sent to the DynamoDB.\n",
    "\n",
    "NOTE: this solution is based on [pynamodb_mate](https://github.com/MacHu-GWU/pynamodb_mate-project) Python library.\n",
    "\n",
    "**Summary**\n",
    "\n",
    "Sometimes you want to compress the data before store to save DB space. For example, in an E-commerce data model, an order has many items like this: ``[{\"item_name\": \"apple\", \"item_count\": 12}, {\"item_name\": \"banana\", \"item_count\": 5}]``. There are lots of repeated information such as the keys ``\"item_name\"`` and ``\"item_count\"``.\n",
    "\n",
    "**How it works**\n",
    "\n",
    "Internally it always serializes your data into binary, and compress it, then send to DynamoDB."
   ],
   "metadata": {
    "collapsed": false,
    "pycharm": {
     "name": "#%% md\n"
    }
   }
  },
  {
   "cell_type": "markdown",
   "source": [
    "## Define attribute to use Auto Compressed"
   ],
   "metadata": {
    "collapsed": false,
    "pycharm": {
     "name": "#%% md\n"
    }
   }
  },
  {
   "cell_type": "code",
   "execution_count": 2,
   "outputs": [],
   "source": [
    "from rich import print as rprint\n",
    "import pynamodb_mate as pm\n",
    "\n",
    "# Define the Data Model to use compressed attribute\n",
    "class OrderModel(pm.Model):\n",
    "    class Meta:\n",
    "        table_name = f\"pynamodb-mate-example-compress\"\n",
    "        region = \"us-east-1\"\n",
    "        billing_mode = pm.PAY_PER_REQUEST_BILLING_MODE\n",
    "\n",
    "    order_id = pm.UnicodeAttribute(hash_key=True)\n",
    "\n",
    "    # original value is unicode str\n",
    "    description = pm.CompressedUnicodeAttribute(null=True)\n",
    "\n",
    "    # original value is binary bytes\n",
    "    image = pm.CompressedBinaryAttribute(null=True)\n",
    "\n",
    "    # original value is any json serializable object\n",
    "    items = pm.CompressedJSONDictAttribute(null=True)\n",
    "\n",
    "OrderModel.create_table(wait=True)"
   ],
   "metadata": {
    "collapsed": false,
    "pycharm": {
     "name": "#%%\n"
    }
   }
  },
  {
   "cell_type": "markdown",
   "source": [
    "## Write and Read the Item"
   ],
   "metadata": {
    "collapsed": false,
    "pycharm": {
     "name": "#%% md\n"
    }
   }
  },
  {
   "cell_type": "code",
   "execution_count": 3,
   "outputs": [
    {
     "name": "stdout",
     "output_type": "stream",
     "text": [
      "preview the DynamoDB item: https://us-east-1.console.aws.amazon.com/dynamodbv2/home?region=us-east-1#edit-item?table=pynamodb-mate-example-compress&itemMode=2&pk=order_001&sk&ref=%23item-explorer%3Ftable%3Dpynamodb-mate-example-compress&route=ROUTE_ITEM_EXPLORER\n",
      "you will see that the raw data in DynamoDB is compressed\n"
     ]
    }
   ],
   "source": [
    "# Create an item\n",
    "order_id = \"order_001\"\n",
    "description = \"a fancy order!\" * 10\n",
    "image = description.encode(\"utf-8\") # a fake binary object\n",
    "items = [\n",
    "    {\n",
    "        \"item_id\": \"i_001\",\n",
    "        \"item_name\": \"apple\",\n",
    "        \"item_price\": 2.4,\n",
    "        \"quantity\": 8,\n",
    "    },\n",
    "    {\n",
    "        \"item_id\": \"i_002\",\n",
    "        \"item_name\": \"banana\",\n",
    "        \"item_price\": 0.53,\n",
    "        \"quantity\": 5,\n",
    "    },\n",
    "]\n",
    "order = OrderModel(\n",
    "    order_id=order_id,\n",
    "    description=description,\n",
    "    image=image,\n",
    "    items=items,\n",
    ")\n",
    "# Save item to DynamoDB\n",
    "order.save()\n",
    "print(f\"preview the DynamoDB item: {order.item_detail_console_url}\")\n",
    "print(\"you will see that the raw data in DynamoDB is compressed\")"
   ],
   "metadata": {
    "collapsed": false,
    "pycharm": {
     "name": "#%%\n"
    }
   }
  },
  {
   "cell_type": "code",
   "execution_count": 4,
   "outputs": [
    {
     "data": {
      "text/plain": "\u001B[1m{\u001B[0m\n    \u001B[32m'description'\u001B[0m: \u001B[32m'a fancy order!a fancy order!a fancy order!a fancy order!a fancy order!a fancy order!a fancy \u001B[0m\n\u001B[32morder!a fancy order!a fancy order!a fancy order!'\u001B[0m,\n    \u001B[32m'image'\u001B[0m: \u001B[32mb'a fancy order!a fancy order!a fancy order!a fancy order!a fancy order!a fancy order!a fancy order!a \u001B[0m\n\u001B[32mfancy order!a fancy order!a fancy order!'\u001B[0m,\n    \u001B[32m'items'\u001B[0m: \u001B[1m[\u001B[0m\n        \u001B[1m{\u001B[0m\u001B[32m'item_id'\u001B[0m: \u001B[32m'i_001'\u001B[0m, \u001B[32m'item_name'\u001B[0m: \u001B[32m'apple'\u001B[0m, \u001B[32m'item_price'\u001B[0m: \u001B[1;36m2.4\u001B[0m, \u001B[32m'quantity'\u001B[0m: \u001B[1;36m8\u001B[0m\u001B[1m}\u001B[0m,\n        \u001B[1m{\u001B[0m\u001B[32m'item_id'\u001B[0m: \u001B[32m'i_002'\u001B[0m, \u001B[32m'item_name'\u001B[0m: \u001B[32m'banana'\u001B[0m, \u001B[32m'item_price'\u001B[0m: \u001B[1;36m0.53\u001B[0m, \u001B[32m'quantity'\u001B[0m: \u001B[1;36m5\u001B[0m\u001B[1m}\u001B[0m\n    \u001B[1m]\u001B[0m,\n    \u001B[32m'order_id'\u001B[0m: \u001B[32m'order_001'\u001B[0m\n\u001B[1m}\u001B[0m\n",
      "text/html": "<pre style=\"white-space:pre;overflow-x:auto;line-height:normal;font-family:Menlo,'DejaVu Sans Mono',consolas,'Courier New',monospace\"><span style=\"font-weight: bold\">{</span>\n    <span style=\"color: #008000; text-decoration-color: #008000\">'description'</span>: <span style=\"color: #008000; text-decoration-color: #008000\">'a fancy order!a fancy order!a fancy order!a fancy order!a fancy order!a fancy order!a fancy </span>\n<span style=\"color: #008000; text-decoration-color: #008000\">order!a fancy order!a fancy order!a fancy order!'</span>,\n    <span style=\"color: #008000; text-decoration-color: #008000\">'image'</span>: <span style=\"color: #008000; text-decoration-color: #008000\">b'a fancy order!a fancy order!a fancy order!a fancy order!a fancy order!a fancy order!a fancy order!a </span>\n<span style=\"color: #008000; text-decoration-color: #008000\">fancy order!a fancy order!a fancy order!'</span>,\n    <span style=\"color: #008000; text-decoration-color: #008000\">'items'</span>: <span style=\"font-weight: bold\">[</span>\n        <span style=\"font-weight: bold\">{</span><span style=\"color: #008000; text-decoration-color: #008000\">'item_id'</span>: <span style=\"color: #008000; text-decoration-color: #008000\">'i_001'</span>, <span style=\"color: #008000; text-decoration-color: #008000\">'item_name'</span>: <span style=\"color: #008000; text-decoration-color: #008000\">'apple'</span>, <span style=\"color: #008000; text-decoration-color: #008000\">'item_price'</span>: <span style=\"color: #008080; text-decoration-color: #008080; font-weight: bold\">2.4</span>, <span style=\"color: #008000; text-decoration-color: #008000\">'quantity'</span>: <span style=\"color: #008080; text-decoration-color: #008080; font-weight: bold\">8</span><span style=\"font-weight: bold\">}</span>,\n        <span style=\"font-weight: bold\">{</span><span style=\"color: #008000; text-decoration-color: #008000\">'item_id'</span>: <span style=\"color: #008000; text-decoration-color: #008000\">'i_002'</span>, <span style=\"color: #008000; text-decoration-color: #008000\">'item_name'</span>: <span style=\"color: #008000; text-decoration-color: #008000\">'banana'</span>, <span style=\"color: #008000; text-decoration-color: #008000\">'item_price'</span>: <span style=\"color: #008080; text-decoration-color: #008080; font-weight: bold\">0.53</span>, <span style=\"color: #008000; text-decoration-color: #008000\">'quantity'</span>: <span style=\"color: #008080; text-decoration-color: #008080; font-weight: bold\">5</span><span style=\"font-weight: bold\">}</span>\n    <span style=\"font-weight: bold\">]</span>,\n    <span style=\"color: #008000; text-decoration-color: #008000\">'order_id'</span>: <span style=\"color: #008000; text-decoration-color: #008000\">'order_001'</span>\n<span style=\"font-weight: bold\">}</span>\n</pre>\n"
     },
     "metadata": {},
     "output_type": "display_data"
    }
   ],
   "source": [
    "# Get the value back and verify\n",
    "order = OrderModel.get(order_id)\n",
    "rprint(order.to_dict())"
   ],
   "metadata": {
    "collapsed": false,
    "pycharm": {
     "name": "#%%\n"
    }
   }
  },
  {
   "cell_type": "code",
   "execution_count": null,
   "outputs": [],
   "source": [],
   "metadata": {
    "collapsed": false,
    "pycharm": {
     "name": "#%%\n"
    }
   }
  }
 ],
 "metadata": {
  "kernelspec": {
   "display_name": "Python 3",
   "language": "python",
   "name": "python3"
  },
  "language_info": {
   "codemirror_mode": {
    "name": "ipython",
    "version": 2
   },
   "file_extension": ".py",
   "mimetype": "text/x-python",
   "name": "python",
   "nbconvert_exporter": "python",
   "pygments_lexer": "ipython2",
   "version": "2.7.6"
  }
 },
 "nbformat": 4,
 "nbformat_minor": 0
}
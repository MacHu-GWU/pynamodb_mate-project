{
 "cells": [
  {
   "cell_type": "markdown",
   "source": [
    "# Client Side Encryption\n",
    "\n",
    "This feature allows you to use your own encryption key to encrypt your data before it is sent to the DynamoDB.\n",
    "\n",
    "NOTE: this solution is based on [pynamodb_mate](https://github.com/MacHu-GWU/pynamodb_mate-project) Python library.\n",
    "\n",
    "**Summary**\n",
    "\n",
    "DynamoDB support encryption at the rest (Server Side Encryption) and use SSL to encryption the transit data (Encrypt at the fly) by default.\n",
    "\n",
    "Some advanced user also wants to encrypt the data before it is sent to the DynamoDB (Client Side Encryption). This pattern is not that easy to implement it right.\n",
    "\n",
    "**How it works**\n",
    "\n",
    "``pynamodb_mate`` uses the `pycryptodome <https://pypi.org/project/pycryptodome/>`_ crypto library under the hood.\n",
    "serialize\n",
    "Internally it always serializes your data into binary, and encrypt it, then send to DynamoDB. For field that you still want to be able to query on it, you use ``determinative = True``. The same input data will always become the same encrypted data, and it uses AES ECB. It is proved that not secure for middle man attack, but you can still use it with DynamoDB because DynamoDB api use SSL to encrypt it in transit. For ``determinative = False``, the same input will become different encrypted data, it uses AES CTR."
   ],
   "metadata": {
    "collapsed": false,
    "pycharm": {
     "name": "#%% md\n"
    }
   }
  },
  {
   "cell_type": "markdown",
   "source": [
    "##  Define attribute to use Client Side Encryption (AES)"
   ],
   "metadata": {
    "collapsed": false,
    "pycharm": {
     "name": "#%% md\n"
    }
   }
  },
  {
   "cell_type": "code",
   "execution_count": 1,
   "outputs": [],
   "source": [
    "import pynamodb_mate as pm\n",
    "\n",
    "ENCRYPTION_KEY = \"my-password\"\n",
    "\n",
    "class ArchiveModel(pm.Model):\n",
    "    class Meta:\n",
    "        table_name = f\"pynamodb-mate-example-client-side-encryption\"\n",
    "        region = \"us-east-1\"\n",
    "        billing_mode = pm.PAY_PER_REQUEST_BILLING_MODE\n",
    "\n",
    "    aid = pm.UnicodeAttribute(hash_key=True)\n",
    "\n",
    "    secret_message = pm.EncryptedUnicodeAttribute(\n",
    "        # the field level encryption key\n",
    "        encryption_key=ENCRYPTION_KEY,\n",
    "        # if True, same input -> same output (less secure),\n",
    "        # so you can still use this field for query\n",
    "        # ``filter_conditions=(ArchiveModel.secret_message == \"my message\")``.\n",
    "        # if False, same input -> different output (more secure),\n",
    "        # but you lose the capability of query on this field\n",
    "        determinative=True,\n",
    "    )\n",
    "\n",
    "    secret_binary = pm.EncryptedBinaryAttribute(\n",
    "        encryption_key=ENCRYPTION_KEY,\n",
    "        determinative=False,\n",
    "    )\n",
    "\n",
    "    secret_integer = pm.EncryptedNumberAttribute(\n",
    "        encryption_key=ENCRYPTION_KEY,\n",
    "        determinative=True,\n",
    "    )\n",
    "\n",
    "    secret_float = pm.EncryptedNumberAttribute(\n",
    "        encryption_key=ENCRYPTION_KEY,\n",
    "        determinative=False,\n",
    "    )\n",
    "\n",
    "    secret_data = pm.EncryptedJsonDictAttribute(\n",
    "        encryption_key=ENCRYPTION_KEY,\n",
    "        determinative=False,\n",
    "    )\n",
    "\n",
    "# create DynamoDB table if not exists, quick skip if already exists\n",
    "ArchiveModel.create_table(wait=True)"
   ],
   "metadata": {
    "collapsed": false,
    "pycharm": {
     "name": "#%%\n"
    }
   }
  },
  {
   "cell_type": "code",
   "execution_count": 2,
   "outputs": [
    {
     "name": "stdout",
     "output_type": "stream",
     "text": [
      "preview the DynamoDB item: https://us-east-1.console.aws.amazon.com/dynamodbv2/home?region=us-east-1#edit-item?table=pynamodb-mate-example-client-side-encryption&itemMode=2&pk=aid-001&sk&ref=%23item-explorer%3Ftable%3Dpynamodb-mate-example-client-side-encryption&route=ROUTE_ITEM_EXPLORER\n",
      "you will see that the raw data in DynamoDB is encrypted\n"
     ]
    }
   ],
   "source": [
    "msg = \"attack at 2PM tomorrow!\"\n",
    "binary = \"a secret image\".encode(\"utf-8\")\n",
    "data = {\"Alice\": 1, \"Bob\": 2, \"Cathy\": 3}\n",
    "model = ArchiveModel(\n",
    "    aid=\"aid-001\",\n",
    "    secret_message=msg,\n",
    "    secret_binary=binary,\n",
    "    secret_integer=1234,\n",
    "    secret_float=3.14,\n",
    "    secret_data=data,\n",
    ")\n",
    "model.save()\n",
    "print(f\"preview the DynamoDB item: {model.item_detail_console_url}\")\n",
    "print(\"you will see that the raw data in DynamoDB is encrypted\")"
   ],
   "metadata": {
    "collapsed": false,
    "pycharm": {
     "name": "#%%\n"
    }
   }
  },
  {
   "cell_type": "code",
   "execution_count": 3,
   "outputs": [
    {
     "name": "stdout",
     "output_type": "stream",
     "text": [
      "{'aid': 'aid-001', 'secret_binary': b'a secret image', 'secret_data': {'Alice': 1, 'Bob': 2, 'Cathy': 3}, 'secret_float': 3.14, 'secret_integer': 1234, 'secret_message': 'attack at 2PM tomorrow!'}\n"
     ]
    }
   ],
   "source": [
    "model = ArchiveModel.get(\"aid-001\")\n",
    "print(model.to_dict())"
   ],
   "metadata": {
    "collapsed": false,
    "pycharm": {
     "name": "#%%\n"
    }
   }
  },
  {
   "cell_type": "code",
   "execution_count": 4,
   "outputs": [
    {
     "name": "stdout",
     "output_type": "stream",
     "text": [
      "{'aid': 'aid-001', 'secret_binary': b'a secret image', 'secret_data': {'Alice': 1, 'Bob': 2, 'Cathy': 3}, 'secret_float': 3.14, 'secret_integer': 1234, 'secret_message': 'attack at 2PM tomorrow!'}\n"
     ]
    }
   ],
   "source": [
    "# for determinative field, you can still use it for query\n",
    "for item in ArchiveModel.scan(\n",
    "        ArchiveModel.secret_message == \"attack at 2PM tomorrow!\"\n",
    "):\n",
    "    print(item.to_dict())"
   ],
   "metadata": {
    "collapsed": false,
    "pycharm": {
     "name": "#%%\n"
    }
   }
  },
  {
   "cell_type": "code",
   "execution_count": 5,
   "outputs": [
    {
     "name": "stdout",
     "output_type": "stream",
     "text": [
      "{'aid': 'aid-001', 'secret_binary': b'a secret image', 'secret_data': {'Alice': 1, 'Bob': 2, 'Cathy': 3}, 'secret_float': 3.14, 'secret_integer': 1234, 'secret_message': 'Hold the fire now!'}\n"
     ]
    }
   ],
   "source": [
    "# Update\n",
    "model.update([\n",
    "    ArchiveModel.secret_message.set(\"Hold the fire now!\")\n",
    "])\n",
    "model.refresh()\n",
    "\n",
    "print(model.to_dict())"
   ],
   "metadata": {
    "collapsed": false,
    "pycharm": {
     "name": "#%%\n"
    }
   }
  },
  {
   "cell_type": "markdown",
   "source": [
    "## Custom Encrypted Attribute.\n",
    "\n",
    "``pynamodb_mate`` has four built-in Encrypted attribute:\n",
    "\n",
    "- ``pynamodb_mate.EncryptedNumberAttribute``\n",
    "- ``pynamodb_mate.EncryptedUnicodeAttribute``\n",
    "- ``pynamodb_mate.EncryptedBinaryAttribute``\n",
    "- ``pynamodb_mate.EncryptedJsonDictAttribute``\n",
    "\n",
    "Please take a look at the \"Custom S3Backed Attribute\" section in [Store Large Object in DynamoDB](https://github.com/MacHu-GWU/pynamodb_mate-project/blob/master/examples/store-large-object.ipynb) for more details."
   ],
   "metadata": {
    "collapsed": false,
    "pycharm": {
     "name": "#%% md\n"
    }
   }
  },
  {
   "cell_type": "code",
   "execution_count": 6,
   "outputs": [],
   "source": [
    "# A Custom Encrypted Attribute that store Json dict\n",
    "import json\n",
    "\n",
    "class EncryptedJsonDictAttribute(pm.SymmetricEncryptedAttribute):\n",
    "    \"\"\"\n",
    "    Encrypted JSON data Attribute.\n",
    "    \"\"\"\n",
    "    def user_serializer(self, value: dict) -> bytes:\n",
    "        return json.dumps(value).encode(\"utf-8\")\n",
    "\n",
    "    def user_deserializer(self, value: bytes) -> dict:\n",
    "        return json.loads(value.decode(\"utf-8\"))"
   ],
   "metadata": {
    "collapsed": false,
    "pycharm": {
     "name": "#%%\n"
    }
   }
  },
  {
   "cell_type": "code",
   "execution_count": null,
   "outputs": [],
   "source": [],
   "metadata": {
    "collapsed": false,
    "pycharm": {
     "name": "#%%\n"
    }
   }
  }
 ],
 "metadata": {
  "kernelspec": {
   "display_name": "Python 3",
   "language": "python",
   "name": "python3"
  },
  "language_info": {
   "codemirror_mode": {
    "name": "ipython",
    "version": 2
   },
   "file_extension": ".py",
   "mimetype": "text/x-python",
   "name": "python",
   "nbconvert_exporter": "python",
   "pygments_lexer": "ipython2",
   "version": "2.7.6"
  }
 },
 "nbformat": 4,
 "nbformat_minor": 0
}
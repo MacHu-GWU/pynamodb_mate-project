{
 "cells": [
  {
   "cell_type": "markdown",
   "source": [
    "# Store Large Object in DynamoDB\n",
    "\n",
    "This feature allows you to store any Python object and arbitrary big data in DynamoDB that can exceed the 400KB limit.\n",
    "\n",
    "NOTE: this solution is based on [pynamodb_mate](https://github.com/MacHu-GWU/pynamodb_mate-project) Python library.\n",
    "\n",
    "**Summary**\n",
    "\n",
    "DynamoDB is a very good choice for **Pay-as-you-go**, **high-concurrent** key value database. Sometimes, you want to store large binary object as a DynamoDB item attribute. For example, a web crawler app wants to store crawled html source to avoid re-visit the same url. But DynamoDB has a limitation that one item can not be larger than 256KB. How could you solve the problem?\n",
    "\n",
    "The best practice is to serialize the data you want to store in binary and store the binary data in S3 object. In DynamoDB item, you only store the S3 uri of that object. ``pynamodb_mate`` provides a clean API allow you to store arbitrary large Python objects in DynamoDB..\n",
    "\n",
    "**How it Works**\n",
    "\n",
    "``pynamodb_mate`` will use the sha256 fingerprint of the binary view of your data as the naming convention in the S3 key. This ensures that the same data will be stored at the same S3 location to avoid duplicate traffic.\n",
    "\n",
    "When you delete the DynamoDB item, it won't delete the S3 object because there might be another application using it. In the future, ``pynamodb_mate`` will provide a clean API to delete the S3 object as well."
   ],
   "metadata": {
    "collapsed": false,
    "pycharm": {
     "name": "#%% md\n"
    }
   }
  },
  {
   "cell_type": "markdown",
   "source": [
    "## Define your Data Model"
   ],
   "metadata": {
    "collapsed": false,
    "pycharm": {
     "name": "#%% md\n"
    }
   }
  },
  {
   "cell_type": "code",
   "execution_count": 1,
   "outputs": [],
   "source": [
    "import pynamodb_mate as pm\n",
    "import boto3"
   ],
   "metadata": {
    "collapsed": false,
    "pycharm": {
     "name": "#%%\n"
    }
   }
  },
  {
   "cell_type": "code",
   "execution_count": 2,
   "outputs": [],
   "source": [
    "s3_client = boto3.session.Session().client(\"s3\")\n",
    "\n",
    "bucket_name = \"aws-data-lab-sanhe-for-opensource\"\n",
    "\n",
    "class UrlModel(pm.Model):\n",
    "    class Meta:\n",
    "        table_name = \"pynamodb-mate-example-store-large-object\"\n",
    "        region = \"us-east-1\"\n",
    "        billing_mode = pm.PAY_PER_REQUEST_BILLING_MODE\n",
    "\n",
    "    url = pm.UnicodeAttribute(hash_key=True)\n",
    "\n",
    "    # declare attribute\n",
    "    html = pm.S3BackedBigTextAttribute(\n",
    "        # required, for each S3Backed attribute, you have to specify\n",
    "        # the s3 bucket to store your data\n",
    "        bucket_name=bucket_name,\n",
    "        # optional, by default it will use pynamodb-mate/bigtext/{fingerprint}.txt\n",
    "        key_template=\"pynamodb_mate/s3backed/{fingerprint}.html\",\n",
    "        # optional, by default, the data is compressed\n",
    "        compressed=True,\n",
    "        # optional, explicitly specify the underlying s3 client you want to use\n",
    "        # this is useful you want to use a different AWS credential other than\n",
    "        # the DynamoDB client.\n",
    "        s3_client = s3_client,\n",
    "    )\n",
    "\n",
    "    content = pm.S3BackedBigBinaryAttribute(\n",
    "        # required, for each S3Backed attribute, you have to specify\n",
    "        # the s3 bucket to store your data\n",
    "        bucket_name=bucket_name,\n",
    "        # optional, by default it will use pynamodb-mate/bigtext/{fingerprint}.txt\n",
    "        key_template=\"pynamodb_mate/s3backed/{fingerprint}.dat\",\n",
    "        # optional, by default, the data is compressed\n",
    "        compressed=True,\n",
    "        # optional, explicitly specify the underlying s3 client you want to use\n",
    "        # this is useful you want to use a different AWS credential other than\n",
    "        # the DynamoDB client.\n",
    "        s3_client = s3_client,\n",
    "    )\n",
    "\n",
    "# create DynamoDB table if not exists, quick skip if already exists\n",
    "UrlModel.create_table(wait=True)"
   ],
   "metadata": {
    "collapsed": false,
    "pycharm": {
     "name": "#%%\n"
    }
   }
  },
  {
   "cell_type": "markdown",
   "source": [
    "## Write / Read / Update / Delete"
   ],
   "metadata": {
    "collapsed": false,
    "pycharm": {
     "name": "#%% md\n"
    }
   }
  },
  {
   "cell_type": "code",
   "execution_count": 3,
   "outputs": [
    {
     "name": "stdout",
     "output_type": "stream",
     "text": [
      "preview the DynamoDB item: https://us-east-1.console.aws.amazon.com/dynamodbv2/home?region=us-east-1#edit-item?table=pynamodb-mate-example-store-large-object&itemMode=2&pk=https://pynamodb-mate.readthedocs.io/en/latest/&sk&ref=%23item-explorer%3Ftable%3Dpynamodb-mate-example-store-large-object&route=ROUTE_ITEM_EXPLORER\n"
     ]
    }
   ],
   "source": [
    "# Write\n",
    "url = \"https://pynamodb-mate.readthedocs.io/en/latest/\"\n",
    "html = \"<html>Hello World!</html>\"\n",
    "content = \"this is a dummy image!\".encode(\"utf-8\")\n",
    "\n",
    "# create item\n",
    "url_model = UrlModel(url=url, html=html, content=content)\n",
    "# write item to DynamoDB table\n",
    "url_model.save()\n",
    "# preview the DynamoDB item, the value in ``.data`` is the s3 uri\n",
    "print(f\"preview the DynamoDB item: {url_model.item_detail_console_url}\")"
   ],
   "metadata": {
    "collapsed": false,
    "pycharm": {
     "name": "#%%\n"
    }
   }
  },
  {
   "cell_type": "code",
   "execution_count": 4,
   "outputs": [
    {
     "name": "stdout",
     "output_type": "stream",
     "text": [
      "url.html = '<html>Hello World!</html>'\n",
      "url.content = b'this is a dummy image!'\n"
     ]
    }
   ],
   "source": [
    "# Read\n",
    "url_model = UrlModel.get(url)\n",
    "print(f\"url.html = {url_model.html!r}\")\n",
    "print(f\"url.content = {url_model.content!r}\")"
   ],
   "metadata": {
    "collapsed": false,
    "pycharm": {
     "name": "#%%\n"
    }
   }
  },
  {
   "cell_type": "code",
   "execution_count": 5,
   "outputs": [
    {
     "name": "stdout",
     "output_type": "stream",
     "text": [
      "url.html = '<html>Hello DynamoDB</html>'\n",
      "url.content = b'this is a real image!'\n"
     ]
    }
   ],
   "source": [
    "# Update the item\n",
    "url_model.update(\n",
    "    actions=[\n",
    "        UrlModel.html.set(\"<html>Hello DynamoDB</html>\"),\n",
    "        UrlModel.content.set(\"this is a real image!\".encode(\"utf-8\")),\n",
    "    ]\n",
    ")\n",
    "url_model.refresh() # get the up-to-date data\n",
    "print(f\"url.html = {url_model.html!r}\") # should give you new data\n",
    "print(f\"url.content = {url_model.content!r}\") # should give you new data"
   ],
   "metadata": {
    "collapsed": false,
    "pycharm": {
     "name": "#%%\n"
    }
   }
  },
  {
   "cell_type": "code",
   "execution_count": 6,
   "outputs": [
    {
     "data": {
      "text/plain": "{'ConsumedCapacity': {'CapacityUnits': 1.0,\n  'TableName': 'pynamodb-mate-example-store-large-object'}}"
     },
     "execution_count": 6,
     "metadata": {},
     "output_type": "execute_result"
    }
   ],
   "source": [
    "# delete item from DynamoDB\n",
    "# this won't delete s3 object\n",
    "url_model.delete()"
   ],
   "metadata": {
    "collapsed": false,
    "pycharm": {
     "name": "#%%\n"
    }
   }
  },
  {
   "cell_type": "markdown",
   "source": [
    "## Custom S3Backed Attribute\n",
    "\n",
    "``pynamodb_mate`` has three built-in ``S3Backed`` attribute:\n",
    "\n",
    "- ``pynamodb_mate.S3BackedBigBinaryAttribute``\n",
    "- ``pynamodb_mate.S3BackedBigTextAttribute``\n",
    "- ``pynamodb_mate.S3BackedJsonDictAttribute``\n",
    "\n",
    "It is also easy to create your own S3Backed attribute. In this example, even though we already have the built-in ``S3BackedJsonDictAttribute``, let's learn by re-inventing the wheel."
   ],
   "metadata": {
    "collapsed": false,
    "pycharm": {
     "name": "#%% md\n"
    }
   }
  },
  {
   "cell_type": "code",
   "execution_count": 8,
   "outputs": [],
   "source": [
    "# import the base class for S3Backed attribute\n",
    "import json\n",
    "from pynamodb_mate import S3BackedAttribute\n",
    "\n",
    "class S3BackedJsonAttribute(S3BackedAttribute):\n",
    "    # user_serializer is a method to define how you want to\n",
    "    # convert your data to binary.\n",
    "    def user_serializer(self, value: dict) -> bytes:\n",
    "        return json.dumps(value).encode(\"utf-8\")\n",
    "\n",
    "    # user_deserializer is a method to define how you want to\n",
    "    # recover your data from binary.\n",
    "    def user_deserializer(self, value: bytes) -> dict:\n",
    "        return json.loads(value.decode(\"utf-8\"))"
   ],
   "metadata": {
    "collapsed": false,
    "pycharm": {
     "name": "#%%\n"
    }
   }
  },
  {
   "cell_type": "markdown",
   "source": [
    "That's it, now you can use it like any other S3Backed attribute."
   ],
   "metadata": {
    "collapsed": false,
    "pycharm": {
     "name": "#%% md\n"
    }
   }
  },
  {
   "cell_type": "code",
   "execution_count": 9,
   "outputs": [],
   "source": [
    "class UrlModel(pm.Model):\n",
    "    class Meta:\n",
    "        table_name = \"pynamodb-mate-example-store-large-object\"\n",
    "        region = \"us-east-1\"\n",
    "        billing_mode = pm.PAY_PER_REQUEST_BILLING_MODE\n",
    "\n",
    "    url = pm.UnicodeAttribute(hash_key=True)\n",
    "    data = S3BackedJsonAttribute(\n",
    "        bucket_name=bucket_name,\n",
    "        # you want to use .json as the file extension\n",
    "        key_template=\"pynamodb_mate/s3backed/{fingerprint}.json\",\n",
    "        s3_client = s3_client,\n",
    "    )\n",
    "\n",
    "UrlModel.create_table(wait=True)"
   ],
   "metadata": {
    "collapsed": false,
    "pycharm": {
     "name": "#%%\n"
    }
   }
  },
  {
   "cell_type": "code",
   "execution_count": 10,
   "outputs": [
    {
     "name": "stdout",
     "output_type": "stream",
     "text": [
      "preview the DynamoDB item: https://us-east-1.console.aws.amazon.com/dynamodbv2/home?region=us-east-1#edit-item?table=pynamodb-mate-example-store-large-object&itemMode=2&pk=https://pynamodb-mate.readthedocs.io/en/latest/&sk&ref=%23item-explorer%3Ftable%3Dpynamodb-mate-example-store-large-object&route=ROUTE_ITEM_EXPLORER\n"
     ]
    }
   ],
   "source": [
    "# Write\n",
    "url = \"https://pynamodb-mate.readthedocs.io/en/latest/\"\n",
    "data = dict(a=1)\n",
    "\n",
    "# create item\n",
    "url_model = UrlModel(url=url, data=data)\n",
    "# write item to DynamoDB table\n",
    "url_model.save()\n",
    "# preview the DynamoDB item, the value in ``.data`` is the s3 uri\n",
    "print(f\"preview the DynamoDB item: {url_model.item_detail_console_url}\")"
   ],
   "metadata": {
    "collapsed": false,
    "pycharm": {
     "name": "#%%\n"
    }
   }
  },
  {
   "cell_type": "code",
   "execution_count": 11,
   "outputs": [
    {
     "name": "stdout",
     "output_type": "stream",
     "text": [
      "url.data = {'a': 1}\n"
     ]
    }
   ],
   "source": [
    "# Read\n",
    "url_model = UrlModel.get(url)\n",
    "print(f\"url.data = {url_model.data!r}\")"
   ],
   "metadata": {
    "collapsed": false,
    "pycharm": {
     "name": "#%%\n"
    }
   }
  },
  {
   "cell_type": "code",
   "execution_count": 12,
   "outputs": [
    {
     "name": "stdout",
     "output_type": "stream",
     "text": [
      "url.data = {'b': 2}\n"
     ]
    }
   ],
   "source": [
    "# Update the item\n",
    "url_model.update(\n",
    "    actions=[\n",
    "        UrlModel.data.set(dict(b=2)),\n",
    "    ]\n",
    ")\n",
    "url_model.refresh() # get the up-to-date data\n",
    "print(f\"url.data = {url_model.data!r}\") # should give you new data"
   ],
   "metadata": {
    "collapsed": false,
    "pycharm": {
     "name": "#%%\n"
    }
   }
  },
  {
   "cell_type": "code",
   "execution_count": 13,
   "outputs": [
    {
     "data": {
      "text/plain": "{'ConsumedCapacity': {'CapacityUnits': 1.0,\n  'TableName': 'pynamodb-mate-example-store-large-object'}}"
     },
     "execution_count": 13,
     "metadata": {},
     "output_type": "execute_result"
    }
   ],
   "source": [
    "# delete item from DynamoDB\n",
    "# this won't delete s3 object\n",
    "url_model.delete()"
   ],
   "metadata": {
    "collapsed": false,
    "pycharm": {
     "name": "#%%\n"
    }
   }
  },
  {
   "cell_type": "code",
   "execution_count": 16,
   "outputs": [
    {
     "name": "stdout",
     "output_type": "stream",
     "text": [
      "{'b': 2}\n"
     ]
    }
   ],
   "source": [
    "print(url_model.to_dict()[\"data\"])"
   ],
   "metadata": {
    "collapsed": false,
    "pycharm": {
     "name": "#%%\n"
    }
   }
  },
  {
   "cell_type": "code",
   "execution_count": null,
   "outputs": [],
   "source": [],
   "metadata": {
    "collapsed": false,
    "pycharm": {
     "name": "#%%\n"
    }
   }
  }
 ],
 "metadata": {
  "kernelspec": {
   "display_name": "Python 3",
   "language": "python",
   "name": "python3"
  },
  "language_info": {
   "codemirror_mode": {
    "name": "ipython",
    "version": 2
   },
   "file_extension": ".py",
   "mimetype": "text/x-python",
   "name": "python",
   "nbconvert_exporter": "python",
   "pygments_lexer": "ipython2",
   "version": "2.7.6"
  }
 },
 "nbformat": 4,
 "nbformat_minor": 0
}